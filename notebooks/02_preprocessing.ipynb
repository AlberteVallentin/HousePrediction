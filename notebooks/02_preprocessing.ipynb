{
 "cells": [
  {
   "cell_type": "markdown",
   "metadata": {},
   "source": [
    "# Notebook 02: Data Preprocessing\n",
    "\n",
    "Systematic preprocessing pipeline to clean and prepare raw data for feature engineering.\n",
    "Transform raw Ames Housing data into model-ready format with proper feature types and zero missing values."
   ]
  },
  {
   "cell_type": "markdown",
   "metadata": {},
   "source": [
    "## 1. Data Loading and Initial Processing\n",
    "\n",
    "### 1.1 Dataset Import\n",
    "\n",
    "Import training and test datasets, create combined dataset for consistent preprocessing across both sets."
   ]
  },
  {
   "cell_type": "code",
   "execution_count": 1,
   "metadata": {},
   "outputs": [
    {
     "name": "stdout",
     "output_type": "stream",
     "text": [
      "Dataset Import Validation:\n",
      "Training data: (1460, 81)\n",
      "Test data: (1459, 80)\n",
      "Combined dataset: (2919, 81)\n",
      "\n",
      "Data Types in Combined Dataset:\n",
      "object     43\n",
      "int64      26\n",
      "float64    11\n",
      "Name: count, dtype: int64\n"
     ]
    }
   ],
   "source": [
    "# Load required libraries\n",
    "import pandas as pd\n",
    "import numpy as np\n",
    "import matplotlib.pyplot as plt\n",
    "import seaborn as sns\n",
    "from scipy import stats\n",
    "import warnings\n",
    "warnings.filterwarnings('ignore')\n",
    "\n",
    "# Load the datasets\n",
    "df_train = pd.read_csv('../data/raw/train.csv')\n",
    "df_test = pd.read_csv('../data/raw/test.csv')\n",
    "\n",
    "print(\"Dataset Import Validation:\")\n",
    "print(f\"Training data: {df_train.shape}\")\n",
    "print(f\"Test data: {df_test.shape}\")\n",
    "\n",
    "# Create combined dataset for consistent feature processing\n",
    "df_combined = pd.concat([\n",
    "    df_train.drop('SalePrice', axis=1),\n",
    "    df_test\n",
    "], ignore_index=True)\n",
    "df_combined['dataset_source'] = ['train']*len(df_train) + ['test']*len(df_test)\n",
    "\n",
    "print(f\"Combined dataset: {df_combined.shape}\")\n",
    "\n",
    "print(\"\\nData Types in Combined Dataset:\")\n",
    "print(df_combined.drop('dataset_source', axis=1).dtypes.value_counts())"
   ]
  },
  {
   "cell_type": "markdown",
   "metadata": {},
   "source": [
    "### 1.2 Parser Integration Setup"
   ]
  },
  {
   "cell_type": "code",
   "execution_count": 2,
   "metadata": {},
   "outputs": [
    {
     "name": "stdout",
     "output_type": "stream",
     "text": [
      "Parser Integration Setup:\n",
      "Categorical features identified: 46\n",
      "Numerical features identified: 33\n"
     ]
    }
   ],
   "source": [
    "# Setup data description parser for domain knowledge\n",
    "from data_description_parser import (\n",
    "    load_feature_descriptions,\n",
    "    quick_feature_lookup,\n",
    "    get_categorical_features,\n",
    "    get_numerical_features,\n",
    ")\n",
    "\n",
    "# Load official documentation\n",
    "feature_descriptions = load_feature_descriptions()\n",
    "print(\"Parser Integration Setup:\")\n",
    "\n",
    "# Get feature classifications for preprocessing\n",
    "categorical_features = get_categorical_features(feature_descriptions)\n",
    "numerical_features = get_numerical_features(feature_descriptions)\n",
    "\n",
    "print(f\"Categorical features identified: {len(categorical_features)}\")\n",
    "print(f\"Numerical features identified: {len(numerical_features)}\")"
   ]
  },
  {
   "cell_type": "markdown",
   "metadata": {},
   "source": [
    "Parser confirms 46 categorical and 33 numerical features with 3 critical misclassifications requiring correction.\n",
    "Official documentation provides guidance for every preprocessing decision."
   ]
  },
  {
   "cell_type": "markdown",
   "metadata": {},
   "source": [
    "## 2. Feature Classification Correction\n",
    "\n",
    "Correct feature type misclassifications before proceeding with missing data treatment or encoding.\n",
    "Ordinal features require different treatment than continuous numerical variables.\n",
    "\n",
    "### 2.1 Ordinal Feature Correction\n",
    "\n",
    "Convert three features (OverallQual, OverallCond, MSSubClass) from integers to proper categorical types.\n",
    "This correction ensures ordinal relationships are preserved during encoding."
   ]
  },
  {
   "cell_type": "code",
   "execution_count": 3,
   "metadata": {},
   "outputs": [
    {
     "name": "stdout",
     "output_type": "stream",
     "text": [
      "Ordinal Feature Correction:\n",
      "\n",
      "Before correction:\n",
      "  OverallQual: int64 with 10 unique values: [np.int64(1), np.int64(2), np.int64(3), np.int64(4), np.int64(5), np.int64(6), np.int64(7), np.int64(8), np.int64(9), np.int64(10)]\n",
      "  OverallCond: int64 with 9 unique values: [np.int64(1), np.int64(2), np.int64(3), np.int64(4), np.int64(5), np.int64(6), np.int64(7), np.int64(8), np.int64(9)]\n",
      "  MSSubClass: int64 with 16 unique values: [np.int64(20), np.int64(30), np.int64(40), np.int64(45), np.int64(50), np.int64(60), np.int64(70), np.int64(75), np.int64(80), np.int64(85), np.int64(90), np.int64(120), np.int64(150), np.int64(160), np.int64(180), np.int64(190)]\n",
      "\n",
      "Applying corrections:\n",
      "  OverallQual: Converting to ordered categorical (quality scale)\n",
      "  OverallCond: Converting to ordered categorical (quality scale)\n",
      "  MSSubClass: Converting to unordered categorical (dwelling types)\n",
      "\n",
      "After correction:\n",
      "  OverallQual: category (ordered: True)\n",
      "    Categories: [1, 2, 3, 4, 5, 6, 7, 8, 9, 10]\n",
      "  OverallCond: category (ordered: True)\n",
      "    Categories: [1, 2, 3, 4, 5, 6, 7, 8, 9]\n",
      "  MSSubClass: category (ordered: False)\n",
      "    Categories: [20, 30, 40, 45, 50, 60, 70, 75, 80, 85, 90, 120, 150, 160, 180, 190]\n"
     ]
    }
   ],
   "source": [
    "# Correct misclassified ordinal features identified in Notebook 01\n",
    "ordinal_features = ['OverallQual', 'OverallCond', 'MSSubClass']\n",
    "\n",
    "print(\"Ordinal Feature Correction:\")\n",
    "\n",
    "# Show current state before correction\n",
    "print(f\"\\nBefore correction:\")\n",
    "for feature in ordinal_features:\n",
    "    dtype = df_combined[feature].dtype\n",
    "    unique_vals = sorted(df_combined[feature].unique())\n",
    "    print(f\"  {feature}: {dtype} with {len(unique_vals)} unique values: {unique_vals}\")\n",
    "\n",
    "# Convert to ordered categorical for combined dataset\n",
    "print(f\"\\nApplying corrections:\")\n",
    "for feature in ordinal_features:\n",
    "    if feature == 'MSSubClass':\n",
    "        # MSSubClass: dwelling type categories\n",
    "        print(f\"  {feature}: Converting to unordered categorical (dwelling types)\")\n",
    "        df_combined[feature] = df_combined[feature].astype('category')\n",
    "    else:\n",
    "        # OverallQual and OverallCond: 1-10 quality scales\n",
    "        print(f\"  {feature}: Converting to ordered categorical (quality scale)\")\n",
    "        df_combined[feature] = pd.Categorical(df_combined[feature],\n",
    "                                            categories=sorted(df_combined[feature].unique()),\n",
    "                                            ordered=True)\n",
    "\n",
    "print(f\"\\nAfter correction:\")\n",
    "for feature in ordinal_features:\n",
    "    dtype = df_combined[feature].dtype\n",
    "    is_ordered = hasattr(df_combined[feature], 'cat') and df_combined[feature].cat.ordered\n",
    "    print(f\"  {feature}: {dtype} (ordered: {is_ordered})\")\n",
    "    \n",
    "    # Show categories for verification\n",
    "    if hasattr(df_combined[feature], 'cat'):\n",
    "        categories = list(df_combined[feature].cat.categories)\n",
    "        print(f\"    Categories: {categories}\")"
   ]
  },
  {
   "cell_type": "markdown",
   "metadata": {},
   "source": [
    "Converted 3 misclassified features to proper categorical types. OverallQual and OverallCond now preserve ordinal relationships (1-10 scales), while MSSubClass represents dwelling type categories."
   ]
  },
  {
   "cell_type": "markdown",
   "metadata": {},
   "source": [
    "## 3. Outlier Treatment\n",
    "\n",
    "### 3.1 Outlier Removal\n",
    "\n"
   ]
  },
  {
   "cell_type": "code",
   "execution_count": 4,
   "metadata": {},
   "outputs": [
    {
     "name": "stdout",
     "output_type": "stream",
     "text": [
      "Outlier IDs to remove: [524, 1299]\n",
      "\n",
      "Outlier characteristics:\n",
      "  ID 524: 4676 sqft, $184,750, OverallQual=10\n",
      "  ID 1299: 5642 sqft, $160,000, OverallQual=10\n",
      "\n",
      "Outlier removal impact:\n",
      "  Training data: 1460 → 1458 samples\n",
      "  Combined data: 2919 → 2917 samples\n",
      "  Removed: 2 samples (0.14%)\n"
     ]
    }
   ],
   "source": [
    "\n",
    "# Remove data quality outliers identified in Notebook 01\n",
    "outlier_ids = [524, 1299]  # Partial sales of incomplete luxury properties\n",
    "\n",
    "print(f\"Outlier IDs to remove: {outlier_ids}\")\n",
    "\n",
    "# Show outlier characteristics before removal\n",
    "outlier_analysis = df_train[df_combined['Id'].isin(outlier_ids)]\n",
    "print(f\"\\nOutlier characteristics:\")\n",
    "for idx, row in outlier_analysis.iterrows():\n",
    "    print(f\"  ID {row['Id']}: {row['GrLivArea']:.0f} sqft, ${row['SalePrice']:,}, OverallQual={row['OverallQual']}\")\n",
    "\n",
    "# Remove outliers from both datasets\n",
    "before_train_count = len(df_train)\n",
    "before_combined_count = len(df_combined)\n",
    "\n",
    "df_train = df_train[~df_train['Id'].isin(outlier_ids)].reset_index(drop=True)\n",
    "df_combined = df_combined[~df_combined['Id'].isin(outlier_ids)].reset_index(drop=True)\n",
    "\n",
    "after_train_count = len(df_train)\n",
    "after_combined_count = len(df_combined)\n",
    "\n",
    "print(f\"\\nOutlier removal impact:\")\n",
    "print(f\"  Training data: {before_train_count} → {after_train_count} samples\")\n",
    "print(f\"  Combined data: {before_combined_count} → {after_combined_count} samples\")\n",
    "print(f\"  Removed: {before_train_count - after_train_count} samples ({((before_train_count - after_train_count) / before_train_count) * 100:.2f}%)\")\n",
    "\n"
   ]
  },
  {
   "cell_type": "markdown",
   "metadata": {},
   "source": [
    "Targeted outlier removal eliminates two data quality issues while preserving 99.86% of training data.\n",
    "\n",
    "### 3.2 Impact Assessment\n",
    "\n",
    "Assess impact of outlier removal on target variable"
   ]
  },
  {
   "cell_type": "code",
   "execution_count": 5,
   "metadata": {},
   "outputs": [
    {
     "name": "stdout",
     "output_type": "stream",
     "text": [
      "Outlier Removal Impact Assessment:\n",
      "SalePrice statistics comparison:\n",
      "  Mean: $180,921 → $180,933\n",
      "  Median: $163,000 → $163,000\n",
      "  Std: $79,443 → $79,495\n",
      "  Skewness: 1.8829 → 1.8813\n"
     ]
    }
   ],
   "source": [
    "# Calculate statistics before outlier removal for comparison\n",
    "df_train_original = pd.read_csv('../data/raw/train.csv')  # Reload original for comparison\n",
    "df_train_original['SalePrice_log'] = np.log1p(df_train_original['SalePrice'])\n",
    "\n",
    "print(\"Outlier Removal Impact Assessment:\")\n",
    "\n",
    "# Before/after comparison for SalePrice statistics\n",
    "print(f\"SalePrice statistics comparison:\")\n",
    "print(f\"  Mean: ${df_train_original['SalePrice'].mean():,.0f} → ${df_train['SalePrice'].mean():,.0f}\")\n",
    "print(f\"  Median: ${df_train_original['SalePrice'].median():,.0f} → ${df_train['SalePrice'].median():,.0f}\")\n",
    "print(f\"  Std: ${df_train_original['SalePrice'].std():,.0f} → ${df_train['SalePrice'].std():,.0f}\")\n",
    "print(f\"  Skewness: {df_train_original['SalePrice'].skew():.4f} → {df_train['SalePrice'].skew():.4f}\")\n"
   ]
  },
  {
   "cell_type": "markdown",
   "metadata": {},
   "source": [
    "Outlier removal had minimal impact on price distribution with mean/median stable, std unchanged (~$79k), and skewness slightly improved (1.8829→1.8813)"
   ]
  },
  {
   "cell_type": "markdown",
   "metadata": {},
   "source": [
    "## 4. Missing Data Treatment\n",
    "\n",
    "Address 34 features with missing values using a systematic three-tier approach.\n",
    "Use parser guidance to distinguish between architectural absence and genuine missing data.\n",
    "\n",
    "### 4.1 Missing Data Analysis\n",
    "\n",
    "Analyze missing data patterns to organize features for systematic treatment.\n",
    "This analysis guides our treatment strategy by categorizing different types of missingness."
   ]
  },
  {
   "cell_type": "code",
   "execution_count": 6,
   "metadata": {},
   "outputs": [
    {
     "name": "stdout",
     "output_type": "stream",
     "text": [
      "Missing Data Overview:\n",
      "Total features with missing data: 34\n",
      "Total missing values: 15700\n",
      "\n",
      "All missing features:\n",
      "  PoolQC: 2908 (99.7%)\n",
      "  MiscFeature: 2812 (96.4%)\n",
      "  Alley: 2719 (93.2%)\n",
      "  Fence: 2346 (80.4%)\n",
      "  MasVnrType: 1766 (60.5%)\n",
      "  FireplaceQu: 1420 (48.7%)\n",
      "  LotFrontage: 486 (16.7%)\n",
      "  GarageFinish: 159 (5.5%)\n",
      "  GarageQual: 159 (5.5%)\n",
      "  GarageCond: 159 (5.5%)\n",
      "  GarageYrBlt: 159 (5.5%)\n",
      "  GarageType: 157 (5.4%)\n",
      "  BsmtExposure: 82 (2.8%)\n",
      "  BsmtCond: 82 (2.8%)\n",
      "  BsmtQual: 81 (2.8%)\n",
      "  BsmtFinType2: 80 (2.7%)\n",
      "  BsmtFinType1: 79 (2.7%)\n",
      "  MasVnrArea: 23 (0.8%)\n",
      "  MSZoning: 4 (0.1%)\n",
      "  BsmtFullBath: 2 (0.1%)\n",
      "  BsmtHalfBath: 2 (0.1%)\n",
      "  Functional: 2 (0.1%)\n",
      "  Utilities: 2 (0.1%)\n",
      "  GarageArea: 1 (0.0%)\n",
      "  GarageCars: 1 (0.0%)\n",
      "  Electrical: 1 (0.0%)\n",
      "  KitchenQual: 1 (0.0%)\n",
      "  TotalBsmtSF: 1 (0.0%)\n",
      "  BsmtUnfSF: 1 (0.0%)\n",
      "  BsmtFinSF2: 1 (0.0%)\n",
      "  BsmtFinSF1: 1 (0.0%)\n",
      "  Exterior2nd: 1 (0.0%)\n",
      "  Exterior1st: 1 (0.0%)\n",
      "  SaleType: 1 (0.0%)\n"
     ]
    }
   ],
   "source": [
    "# Get all features with missing data from combined dataset\n",
    "missing_data = df_combined.drop('dataset_source', axis=1).isnull().sum()\n",
    "missing_features = missing_data[missing_data > 0].sort_values(ascending=False)\n",
    "\n",
    "print(\"Missing Data Overview:\")\n",
    "print(f\"Total features with missing data: {len(missing_features)}\")\n",
    "print(f\"Total missing values: {missing_features.sum()}\")\n",
    "\n",
    "print(f\"\\nAll missing features:\")\n",
    "for feature, count in missing_features.items():\n",
    "    pct = (count / len(df_combined)) * 100\n",
    "    print(f\"  {feature}: {count} ({pct:.1f}%)\")"
   ]
  },
  {
   "cell_type": "markdown",
   "metadata": {},
   "source": [
    "### 4.2 Systematic Feature Treatment\n",
    "\n",
    "Analyze each feature to determine if missing data represents architectural absence or measurement gaps, then apply appropriate treatment strategies. If missing data represents architectural absence, fill with 'None' instead of 'NA'.\n",
    "\n",
    "\n",
    "#### Function to Analyze Feature Missing Data\n",
    "\n",
    "```python"
   ]
  },
  {
   "cell_type": "code",
   "execution_count": 7,
   "metadata": {},
   "outputs": [],
   "source": [
    "def analyze_feature_missing_data(feature):\n",
    "    \"\"\"\n",
    "    Analyze a single feature's missing data patterns and distribution.\n",
    "    Displays missing value counts per dataset and distribution stats.\n",
    "\n",
    "    Parameters:\n",
    "    feature: Feature name to analyze\n",
    "    \"\"\"\n",
    "    print(f\"\\n{feature}\")\n",
    "    print(\"-\" * 60)\n",
    "\n",
    "    # Total missing in combined\n",
    "    total_missing = df_combined[feature].isnull().sum()\n",
    "    total_pct = (total_missing / len(df_combined)) * 100\n",
    "    print(f\"Total Missing: {total_missing} values ({total_pct:.1f}%)\")\n",
    "\n",
    "    # Missing values by dataset\n",
    "    for name, df in zip(['Train', 'Test', 'Combined'], [df_train, df_test, df_combined]):\n",
    "        missing = df[feature].isnull().sum()\n",
    "        pct = (missing / len(df)) * 100\n",
    "        print(f\"  {name}: {missing} missing ({pct:.1f}%)\")\n",
    "\n",
    "    # Feature description if available\n",
    "    if 'feature_descriptions' in globals():\n",
    "        quick_feature_lookup(feature, feature_descriptions)\n",
    "\n",
    "    dtype = df_combined[feature].dtype\n",
    "\n",
    "    # Categorical\n",
    "    if dtype == 'object' or pd.api.types.is_categorical_dtype(dtype):\n",
    "        print(\"\\nData type: Categorical\")\n",
    "\n",
    "        for name, df in zip(['Train', 'Test', 'Combined'], [df_train, df_test, df_combined]):\n",
    "            print(f\"\\n{name} Value Distribution:\")\n",
    "            counts = df[feature].value_counts()\n",
    "            for val, cnt in counts.items():\n",
    "                pct = cnt / counts.sum() * 100\n",
    "                print(f\"  {val}: {cnt} ({pct:.1f}%)\")\n",
    "\n",
    "    else:\n",
    "        print(\"\\nData type: Numerical\")\n",
    "        for name, df in zip(['Train', 'Test', 'Combined'], [df_train, df_test, df_combined]):\n",
    "            values = df[feature].dropna()\n",
    "            if len(values) == 0:\n",
    "                continue\n",
    "            print(f\"\\n{name} Stats:\")\n",
    "            print(f\"  Range: {values.min():.1f} – {values.max():.1f}\")\n",
    "            print(f\"  Mean: {values.mean():.1f}, Median: {values.median():.1f}\")\n",
    "            zeros = (values == 0).sum()\n",
    "            if zeros > 0:\n",
    "                zero_pct = zeros / len(values) * 100\n",
    "                print(f\"  Zero values: {zeros} ({zero_pct:.1f}%)\")\n",
    "\n"
   ]
  },
  {
   "cell_type": "markdown",
   "metadata": {},
   "source": [
    "#### PoolQC"
   ]
  },
  {
   "cell_type": "code",
   "execution_count": 8,
   "metadata": {},
   "outputs": [
    {
     "name": "stdout",
     "output_type": "stream",
     "text": [
      "\n",
      "PoolQC\n",
      "------------------------------------------------------------\n",
      "Total Missing: 2908 values (99.7%)\n",
      "  Train: 1452 missing (99.6%)\n",
      "  Test: 1456 missing (99.8%)\n",
      "  Combined: 2908 missing (99.7%)\n",
      "Feature: PoolQC\n",
      "Description: Pool quality\n",
      "Type: Categorical\n",
      "\n",
      "Categories:\n",
      "  Ex: Excellent\n",
      "  Gd: Good\n",
      "  TA: Average/Typical\n",
      "  Fa: Fair\n",
      "  NA: No Pool\n",
      "------------------------------------------------------------\n",
      "\n",
      "Data type: Categorical\n",
      "\n",
      "Train Value Distribution:\n",
      "  Ex: 2 (33.3%)\n",
      "  Fa: 2 (33.3%)\n",
      "  Gd: 2 (33.3%)\n",
      "\n",
      "Test Value Distribution:\n",
      "  Ex: 2 (66.7%)\n",
      "  Gd: 1 (33.3%)\n",
      "\n",
      "Combined Value Distribution:\n",
      "  Ex: 4 (44.4%)\n",
      "  Gd: 3 (33.3%)\n",
      "  Fa: 2 (22.2%)\n"
     ]
    }
   ],
   "source": [
    "analyze_feature_missing_data('PoolQC')"
   ]
  },
  {
   "cell_type": "code",
   "execution_count": 9,
   "metadata": {},
   "outputs": [
    {
     "name": "stdout",
     "output_type": "stream",
     "text": [
      "Missing values in PoolQC after filling with None: 0\n"
     ]
    }
   ],
   "source": [
    "# Filling missing PoolQC with None\n",
    "df_combined['PoolQC'].fillna('None', inplace=True)\n",
    "print('Missing values in PoolQC after filling with None:', df_combined['PoolQC'].isnull().sum())"
   ]
  },
  {
   "cell_type": "markdown",
   "metadata": {},
   "source": [
    "#### MiscFeature"
   ]
  },
  {
   "cell_type": "code",
   "execution_count": 10,
   "metadata": {},
   "outputs": [
    {
     "name": "stdout",
     "output_type": "stream",
     "text": [
      "\n",
      "MiscFeature\n",
      "------------------------------------------------------------\n",
      "Total Missing: 2812 values (96.4%)\n",
      "  Train: 1404 missing (96.3%)\n",
      "  Test: 1408 missing (96.5%)\n",
      "  Combined: 2812 missing (96.4%)\n",
      "Feature: MiscFeature\n",
      "Description: Miscellaneous feature not covered in other categories\n",
      "Type: Categorical\n",
      "\n",
      "Categories:\n",
      "  Elev: Elevator\n",
      "  Gar2: 2nd Garage (if not described in garage section)\n",
      "  Othr: Other\n",
      "  Shed: Shed (over 100 SF)\n",
      "  TenC: Tennis Court\n",
      "  NA: None\n",
      "------------------------------------------------------------\n",
      "\n",
      "Data type: Categorical\n",
      "\n",
      "Train Value Distribution:\n",
      "  Shed: 49 (90.7%)\n",
      "  Gar2: 2 (3.7%)\n",
      "  Othr: 2 (3.7%)\n",
      "  TenC: 1 (1.9%)\n",
      "\n",
      "Test Value Distribution:\n",
      "  Shed: 46 (90.2%)\n",
      "  Gar2: 3 (5.9%)\n",
      "  Othr: 2 (3.9%)\n",
      "\n",
      "Combined Value Distribution:\n",
      "  Shed: 95 (90.5%)\n",
      "  Gar2: 5 (4.8%)\n",
      "  Othr: 4 (3.8%)\n",
      "  TenC: 1 (1.0%)\n"
     ]
    }
   ],
   "source": [
    "analyze_feature_missing_data('MiscFeature')"
   ]
  },
  {
   "cell_type": "code",
   "execution_count": 11,
   "metadata": {},
   "outputs": [
    {
     "name": "stdout",
     "output_type": "stream",
     "text": [
      "Missing values in MiscFeature after filling with None: 0\n"
     ]
    }
   ],
   "source": [
    "# Filling missing MiscFeature with None\n",
    "df_combined['MiscFeature'].fillna('None', inplace=True)\n",
    "print('Missing values in MiscFeature after filling with None:', df_combined['MiscFeature'].isnull().sum())"
   ]
  },
  {
   "cell_type": "markdown",
   "metadata": {},
   "source": [
    "#### Alley"
   ]
  },
  {
   "cell_type": "code",
   "execution_count": 12,
   "metadata": {},
   "outputs": [
    {
     "name": "stdout",
     "output_type": "stream",
     "text": [
      "\n",
      "Alley\n",
      "------------------------------------------------------------\n",
      "Total Missing: 2719 values (93.2%)\n",
      "  Train: 1367 missing (93.8%)\n",
      "  Test: 1352 missing (92.7%)\n",
      "  Combined: 2719 missing (93.2%)\n",
      "Feature: Alley\n",
      "Description: Type of alley access to property\n",
      "Type: Categorical\n",
      "\n",
      "Categories:\n",
      "  Grvl: Gravel\n",
      "  Pave: Paved\n",
      "  NA: No alley access\n",
      "------------------------------------------------------------\n",
      "\n",
      "Data type: Categorical\n",
      "\n",
      "Train Value Distribution:\n",
      "  Grvl: 50 (54.9%)\n",
      "  Pave: 41 (45.1%)\n",
      "\n",
      "Test Value Distribution:\n",
      "  Grvl: 70 (65.4%)\n",
      "  Pave: 37 (34.6%)\n",
      "\n",
      "Combined Value Distribution:\n",
      "  Grvl: 120 (60.6%)\n",
      "  Pave: 78 (39.4%)\n"
     ]
    }
   ],
   "source": [
    "analyze_feature_missing_data('Alley')"
   ]
  },
  {
   "cell_type": "code",
   "execution_count": 13,
   "metadata": {},
   "outputs": [
    {
     "name": "stdout",
     "output_type": "stream",
     "text": [
      "Missing values in Alley after filling with None: 0\n"
     ]
    }
   ],
   "source": [
    "# Filling missing Alley with None\n",
    "df_combined['Alley'].fillna('None', inplace=True)\n",
    "print('Missing values in Alley after filling with None:', df_combined['Alley'].isnull().sum())"
   ]
  },
  {
   "cell_type": "markdown",
   "metadata": {},
   "source": [
    "#### Fence"
   ]
  },
  {
   "cell_type": "code",
   "execution_count": 14,
   "metadata": {},
   "outputs": [
    {
     "name": "stdout",
     "output_type": "stream",
     "text": [
      "\n",
      "Fence\n",
      "------------------------------------------------------------\n",
      "Total Missing: 2346 values (80.4%)\n",
      "  Train: 1177 missing (80.7%)\n",
      "  Test: 1169 missing (80.1%)\n",
      "  Combined: 2346 missing (80.4%)\n",
      "Feature: Fence\n",
      "Description: Fence quality\n",
      "Type: Categorical\n",
      "\n",
      "Categories:\n",
      "  GdPrv: Good Privacy\n",
      "  MnPrv: Minimum Privacy\n",
      "  GdWo: Good Wood\n",
      "  MnWw: Minimum Wood/Wire\n",
      "  NA: No Fence\n",
      "------------------------------------------------------------\n",
      "\n",
      "Data type: Categorical\n",
      "\n",
      "Train Value Distribution:\n",
      "  MnPrv: 157 (55.9%)\n",
      "  GdPrv: 59 (21.0%)\n",
      "  GdWo: 54 (19.2%)\n",
      "  MnWw: 11 (3.9%)\n",
      "\n",
      "Test Value Distribution:\n",
      "  MnPrv: 172 (59.3%)\n",
      "  GdPrv: 59 (20.3%)\n",
      "  GdWo: 58 (20.0%)\n",
      "  MnWw: 1 (0.3%)\n",
      "\n",
      "Combined Value Distribution:\n",
      "  MnPrv: 329 (57.6%)\n",
      "  GdPrv: 118 (20.7%)\n",
      "  GdWo: 112 (19.6%)\n",
      "  MnWw: 12 (2.1%)\n"
     ]
    }
   ],
   "source": [
    "analyze_feature_missing_data('Fence')"
   ]
  },
  {
   "cell_type": "code",
   "execution_count": 15,
   "metadata": {},
   "outputs": [
    {
     "name": "stdout",
     "output_type": "stream",
     "text": [
      "Missing values in Fence after filling with None: 0\n"
     ]
    }
   ],
   "source": [
    "# Filling missing Fence with None\n",
    "df_combined['Fence'].fillna('None', inplace=True)\n",
    "print('Missing values in Fence after filling with None:', df_combined['Fence'].isnull().sum())"
   ]
  },
  {
   "cell_type": "markdown",
   "metadata": {},
   "source": [
    "#### MasVnrType"
   ]
  },
  {
   "cell_type": "code",
   "execution_count": 16,
   "metadata": {},
   "outputs": [
    {
     "name": "stdout",
     "output_type": "stream",
     "text": [
      "\n",
      "MasVnrType\n",
      "------------------------------------------------------------\n",
      "Total Missing: 1766 values (60.5%)\n",
      "  Train: 872 missing (59.8%)\n",
      "  Test: 894 missing (61.3%)\n",
      "  Combined: 1766 missing (60.5%)\n",
      "Feature: MasVnrType\n",
      "Description: Masonry veneer type\n",
      "Type: Categorical\n",
      "\n",
      "Categories:\n",
      "  BrkCmn: Brick Common\n",
      "  BrkFace: Brick Face\n",
      "  CBlock: Cinder Block\n",
      "  None: None\n",
      "  Stone: Stone\n",
      "------------------------------------------------------------\n",
      "\n",
      "Data type: Categorical\n",
      "\n",
      "Train Value Distribution:\n",
      "  BrkFace: 445 (75.9%)\n",
      "  Stone: 126 (21.5%)\n",
      "  BrkCmn: 15 (2.6%)\n",
      "\n",
      "Test Value Distribution:\n",
      "  BrkFace: 434 (76.8%)\n",
      "  Stone: 121 (21.4%)\n",
      "  BrkCmn: 10 (1.8%)\n",
      "\n",
      "Combined Value Distribution:\n",
      "  BrkFace: 879 (76.4%)\n",
      "  Stone: 247 (21.5%)\n",
      "  BrkCmn: 25 (2.2%)\n"
     ]
    }
   ],
   "source": [
    "analyze_feature_missing_data('MasVnrType')"
   ]
  },
  {
   "cell_type": "code",
   "execution_count": 17,
   "metadata": {},
   "outputs": [
    {
     "name": "stdout",
     "output_type": "stream",
     "text": [
      "Missing values in MasVnrType after filling with None: 0\n"
     ]
    }
   ],
   "source": [
    "# Filling missing MasVnrType with None\n",
    "df_combined['MasVnrType'].fillna('None', inplace=True)\n",
    "print('Missing values in MasVnrType after filling with None:', df_combined['MasVnrType'].isnull().sum())"
   ]
  },
  {
   "cell_type": "markdown",
   "metadata": {},
   "source": [
    "#### FireplaceQu"
   ]
  },
  {
   "cell_type": "code",
   "execution_count": 18,
   "metadata": {},
   "outputs": [
    {
     "name": "stdout",
     "output_type": "stream",
     "text": [
      "\n",
      "FireplaceQu\n",
      "------------------------------------------------------------\n",
      "Total Missing: 1420 values (48.7%)\n",
      "  Train: 690 missing (47.3%)\n",
      "  Test: 730 missing (50.0%)\n",
      "  Combined: 1420 missing (48.7%)\n",
      "Feature: FireplaceQu\n",
      "Description: Fireplace quality\n",
      "Type: Categorical\n",
      "\n",
      "Categories:\n",
      "  Ex: Excellent - Exceptional Masonry Fireplace\n",
      "  Gd: Good - Masonry Fireplace in main level\n",
      "  TA: Average - Prefabricated Fireplace in main living area or Masonry Fireplace in basement\n",
      "  Fa: Fair - Prefabricated Fireplace in basement\n",
      "  Po: Poor - Ben Franklin Stove\n",
      "  NA: No Fireplace\n",
      "------------------------------------------------------------\n",
      "\n",
      "Data type: Categorical\n",
      "\n",
      "Train Value Distribution:\n",
      "  Gd: 378 (49.2%)\n",
      "  TA: 313 (40.8%)\n",
      "  Fa: 33 (4.3%)\n",
      "  Ex: 24 (3.1%)\n",
      "  Po: 20 (2.6%)\n",
      "\n",
      "Test Value Distribution:\n",
      "  Gd: 364 (49.9%)\n",
      "  TA: 279 (38.3%)\n",
      "  Fa: 41 (5.6%)\n",
      "  Po: 26 (3.6%)\n",
      "  Ex: 19 (2.6%)\n",
      "\n",
      "Combined Value Distribution:\n",
      "  Gd: 742 (49.6%)\n",
      "  TA: 592 (39.5%)\n",
      "  Fa: 74 (4.9%)\n",
      "  Po: 46 (3.1%)\n",
      "  Ex: 43 (2.9%)\n"
     ]
    }
   ],
   "source": [
    "analyze_feature_missing_data('FireplaceQu')"
   ]
  },
  {
   "cell_type": "code",
   "execution_count": 19,
   "metadata": {},
   "outputs": [
    {
     "name": "stdout",
     "output_type": "stream",
     "text": [
      "Missing values in FireplaceQu after filling with None: 0\n"
     ]
    }
   ],
   "source": [
    "# Filling missing FireplaceQu with None\n",
    "df_combined['FireplaceQu'].fillna('None', inplace=True)\n",
    "print('Missing values in FireplaceQu after filling with None:', df_combined['FireplaceQu'].isnull().sum())"
   ]
  },
  {
   "cell_type": "markdown",
   "metadata": {},
   "source": [
    "#### LotFrontage"
   ]
  },
  {
   "cell_type": "code",
   "execution_count": 20,
   "metadata": {},
   "outputs": [
    {
     "name": "stdout",
     "output_type": "stream",
     "text": [
      "\n",
      "LotFrontage\n",
      "------------------------------------------------------------\n",
      "Total Missing: 486 values (16.7%)\n",
      "  Train: 259 missing (17.8%)\n",
      "  Test: 227 missing (15.6%)\n",
      "  Combined: 486 missing (16.7%)\n",
      "Feature: LotFrontage\n",
      "Description: Linear feet of street connected to property\n",
      "Type: Numerical\n",
      "------------------------------------------------------------\n",
      "\n",
      "Data type: Numerical\n",
      "\n",
      "Train Stats:\n",
      "  Range: 21.0 – 313.0\n",
      "  Mean: 69.8, Median: 69.0\n",
      "\n",
      "Test Stats:\n",
      "  Range: 21.0 – 200.0\n",
      "  Mean: 68.6, Median: 67.0\n",
      "\n",
      "Combined Stats:\n",
      "  Range: 21.0 – 313.0\n",
      "  Mean: 69.2, Median: 68.0\n"
     ]
    }
   ],
   "source": [
    "analyze_feature_missing_data('LotFrontage')\n"
   ]
  },
  {
   "cell_type": "code",
   "execution_count": 21,
   "metadata": {},
   "outputs": [
    {
     "name": "stdout",
     "output_type": "stream",
     "text": [
      "Missing values in LotFrontage after filling with training medians: 0\n"
     ]
    }
   ],
   "source": [
    "# Fill missing LotFrontage using neighborhood medians from training data only\n",
    "# Fallback: global median from training data (no leakage)\n",
    "\n",
    "# Compute neighborhood-level medians from training data\n",
    "train_medians = df_train.groupby('Neighborhood')['LotFrontage'].median()\n",
    "\n",
    "# Compute global median from training data\n",
    "global_median = df_train['LotFrontage'].median()\n",
    "\n",
    "# Fill missing values in combined dataset\n",
    "df_combined['LotFrontage'] = df_combined.groupby('Neighborhood')['LotFrontage'].transform(\n",
    "    lambda x: x.fillna(train_medians.get(x.name, global_median))\n",
    ")\n",
    "\n",
    "missing_count = df_combined['LotFrontage'].isnull().sum()\n",
    "print(f\"Missing values in LotFrontage after filling with training medians: {missing_count}\")\n",
    "\n"
   ]
  },
  {
   "cell_type": "markdown",
   "metadata": {},
   "source": [
    "### GarageFinish"
   ]
  },
  {
   "cell_type": "code",
   "execution_count": 22,
   "metadata": {},
   "outputs": [
    {
     "name": "stdout",
     "output_type": "stream",
     "text": [
      "\n",
      "GarageFinish\n",
      "------------------------------------------------------------\n",
      "Total Missing: 159 values (5.5%)\n",
      "  Train: 81 missing (5.6%)\n",
      "  Test: 78 missing (5.3%)\n",
      "  Combined: 159 missing (5.5%)\n",
      "Feature: GarageFinish\n",
      "Description: Interior finish of the garage\n",
      "Type: Categorical\n",
      "\n",
      "Categories:\n",
      "  Fin: Finished\n",
      "  RFn: Rough Finished\n",
      "  Unf: Unfinished\n",
      "  NA: No Garage\n",
      "------------------------------------------------------------\n",
      "\n",
      "Data type: Categorical\n",
      "\n",
      "Train Value Distribution:\n",
      "  Unf: 605 (43.9%)\n",
      "  RFn: 422 (30.6%)\n",
      "  Fin: 350 (25.4%)\n",
      "\n",
      "Test Value Distribution:\n",
      "  Unf: 625 (45.3%)\n",
      "  RFn: 389 (28.2%)\n",
      "  Fin: 367 (26.6%)\n",
      "\n",
      "Combined Value Distribution:\n",
      "  Unf: 1230 (44.6%)\n",
      "  RFn: 811 (29.4%)\n",
      "  Fin: 717 (26.0%)\n"
     ]
    }
   ],
   "source": [
    "analyze_feature_missing_data('GarageFinish')"
   ]
  },
  {
   "cell_type": "code",
   "execution_count": 23,
   "metadata": {},
   "outputs": [
    {
     "name": "stdout",
     "output_type": "stream",
     "text": [
      "Missing values in GarageFinish after filling with None: 0\n"
     ]
    }
   ],
   "source": [
    "# Fill missing GarageFinish with None\n",
    "df_combined['GarageFinish'].fillna('None', inplace=True)\n",
    "print('Missing values in GarageFinish after filling with None:', df_combined['GarageFinish'].isnull().sum())"
   ]
  },
  {
   "cell_type": "markdown",
   "metadata": {},
   "source": [
    "#### GarageQual"
   ]
  },
  {
   "cell_type": "code",
   "execution_count": 24,
   "metadata": {},
   "outputs": [
    {
     "name": "stdout",
     "output_type": "stream",
     "text": [
      "\n",
      "GarageQual\n",
      "------------------------------------------------------------\n",
      "Total Missing: 159 values (5.5%)\n",
      "  Train: 81 missing (5.6%)\n",
      "  Test: 78 missing (5.3%)\n",
      "  Combined: 159 missing (5.5%)\n",
      "Feature: GarageQual\n",
      "Description: Garage quality\n",
      "Type: Categorical\n",
      "\n",
      "Categories:\n",
      "  Ex: Excellent\n",
      "  Gd: Good\n",
      "  TA: Typical/Average\n",
      "  Fa: Fair\n",
      "  Po: Poor\n",
      "  NA: No Garage\n",
      "------------------------------------------------------------\n",
      "\n",
      "Data type: Categorical\n",
      "\n",
      "Train Value Distribution:\n",
      "  TA: 1309 (95.1%)\n",
      "  Fa: 48 (3.5%)\n",
      "  Gd: 14 (1.0%)\n",
      "  Ex: 3 (0.2%)\n",
      "  Po: 3 (0.2%)\n",
      "\n",
      "Test Value Distribution:\n",
      "  TA: 1293 (93.6%)\n",
      "  Fa: 76 (5.5%)\n",
      "  Gd: 10 (0.7%)\n",
      "  Po: 2 (0.1%)\n",
      "\n",
      "Combined Value Distribution:\n",
      "  TA: 2602 (94.3%)\n",
      "  Fa: 124 (4.5%)\n",
      "  Gd: 24 (0.9%)\n",
      "  Po: 5 (0.2%)\n",
      "  Ex: 3 (0.1%)\n"
     ]
    }
   ],
   "source": [
    "analyze_feature_missing_data('GarageQual')"
   ]
  },
  {
   "cell_type": "code",
   "execution_count": 25,
   "metadata": {},
   "outputs": [
    {
     "name": "stdout",
     "output_type": "stream",
     "text": [
      "Missing values in GarageQual after filling with None: 0\n"
     ]
    }
   ],
   "source": [
    "# Fill missing GarageQual with None\n",
    "df_combined['GarageQual'].fillna('None', inplace=True)\n",
    "print('Missing values in GarageQual after filling with None:', df_combined['GarageQual'].isnull().sum())"
   ]
  },
  {
   "cell_type": "markdown",
   "metadata": {},
   "source": [
    "#### GarageCond"
   ]
  },
  {
   "cell_type": "code",
   "execution_count": 26,
   "metadata": {},
   "outputs": [
    {
     "name": "stdout",
     "output_type": "stream",
     "text": [
      "\n",
      "GarageCond\n",
      "------------------------------------------------------------\n",
      "Total Missing: 159 values (5.5%)\n",
      "  Train: 81 missing (5.6%)\n",
      "  Test: 78 missing (5.3%)\n",
      "  Combined: 159 missing (5.5%)\n",
      "Feature: GarageCond\n",
      "Description: Garage condition\n",
      "Type: Categorical\n",
      "\n",
      "Categories:\n",
      "  Ex: Excellent\n",
      "  Gd: Good\n",
      "  TA: Typical/Average\n",
      "  Fa: Fair\n",
      "  Po: Poor\n",
      "  NA: No Garage\n",
      "------------------------------------------------------------\n",
      "\n",
      "Data type: Categorical\n",
      "\n",
      "Train Value Distribution:\n",
      "  TA: 1324 (96.2%)\n",
      "  Fa: 35 (2.5%)\n",
      "  Gd: 9 (0.7%)\n",
      "  Po: 7 (0.5%)\n",
      "  Ex: 2 (0.1%)\n",
      "\n",
      "Test Value Distribution:\n",
      "  TA: 1328 (96.2%)\n",
      "  Fa: 39 (2.8%)\n",
      "  Po: 7 (0.5%)\n",
      "  Gd: 6 (0.4%)\n",
      "  Ex: 1 (0.1%)\n",
      "\n",
      "Combined Value Distribution:\n",
      "  TA: 2652 (96.2%)\n",
      "  Fa: 74 (2.7%)\n",
      "  Gd: 15 (0.5%)\n",
      "  Po: 14 (0.5%)\n",
      "  Ex: 3 (0.1%)\n"
     ]
    }
   ],
   "source": [
    "analyze_feature_missing_data('GarageCond')"
   ]
  },
  {
   "cell_type": "code",
   "execution_count": 27,
   "metadata": {},
   "outputs": [
    {
     "name": "stdout",
     "output_type": "stream",
     "text": [
      "Missing values in GarageCond after filling with None: 0\n"
     ]
    }
   ],
   "source": [
    "# Fill missing GarageCond with None\n",
    "df_combined['GarageCond'].fillna('None', inplace=True)\n",
    "print('Missing values in GarageCond after filling with None:', df_combined['GarageCond'].isnull().sum())"
   ]
  },
  {
   "cell_type": "markdown",
   "metadata": {},
   "source": [
    "#### GarageType"
   ]
  },
  {
   "cell_type": "code",
   "execution_count": 28,
   "metadata": {},
   "outputs": [
    {
     "name": "stdout",
     "output_type": "stream",
     "text": [
      "\n",
      "GarageType\n",
      "------------------------------------------------------------\n",
      "Total Missing: 157 values (5.4%)\n",
      "  Train: 81 missing (5.6%)\n",
      "  Test: 76 missing (5.2%)\n",
      "  Combined: 157 missing (5.4%)\n",
      "Feature: GarageType\n",
      "Description: Garage location\n",
      "Type: Categorical\n",
      "\n",
      "Categories:\n",
      "  2Types: More than one type of garage\n",
      "  Attchd: Attached to home\n",
      "  Basment: Basement Garage\n",
      "  BuiltIn: Built-In (Garage part of house - typically has room above garage)\n",
      "  CarPort: Car Port\n",
      "  Detchd: Detached from home\n",
      "  NA: No Garage\n",
      "------------------------------------------------------------\n",
      "\n",
      "Data type: Categorical\n",
      "\n",
      "Train Value Distribution:\n",
      "  Attchd: 869 (63.1%)\n",
      "  Detchd: 387 (28.1%)\n",
      "  BuiltIn: 87 (6.3%)\n",
      "  Basment: 19 (1.4%)\n",
      "  CarPort: 9 (0.7%)\n",
      "  2Types: 6 (0.4%)\n",
      "\n",
      "Test Value Distribution:\n",
      "  Attchd: 853 (61.7%)\n",
      "  Detchd: 392 (28.3%)\n",
      "  BuiltIn: 98 (7.1%)\n",
      "  Basment: 17 (1.2%)\n",
      "  2Types: 17 (1.2%)\n",
      "  CarPort: 6 (0.4%)\n",
      "\n",
      "Combined Value Distribution:\n",
      "  Attchd: 1722 (62.4%)\n",
      "  Detchd: 779 (28.2%)\n",
      "  BuiltIn: 185 (6.7%)\n",
      "  Basment: 36 (1.3%)\n",
      "  2Types: 23 (0.8%)\n",
      "  CarPort: 15 (0.5%)\n"
     ]
    }
   ],
   "source": [
    "analyze_feature_missing_data('GarageType')"
   ]
  },
  {
   "cell_type": "code",
   "execution_count": 29,
   "metadata": {},
   "outputs": [
    {
     "name": "stdout",
     "output_type": "stream",
     "text": [
      "Missing values in GarageType after filling with None: 0\n"
     ]
    }
   ],
   "source": [
    "# Fill missing GarageType with None\n",
    "df_combined['GarageType'].fillna('None', inplace=True)\n",
    "print('Missing values in GarageType after filling with None:', df_combined['GarageType'].isnull().sum())"
   ]
  },
  {
   "cell_type": "markdown",
   "metadata": {},
   "source": [
    "#### GarageArea"
   ]
  },
  {
   "cell_type": "code",
   "execution_count": 30,
   "metadata": {},
   "outputs": [
    {
     "name": "stdout",
     "output_type": "stream",
     "text": [
      "\n",
      "GarageArea\n",
      "------------------------------------------------------------\n",
      "Total Missing: 1 values (0.0%)\n",
      "  Train: 0 missing (0.0%)\n",
      "  Test: 1 missing (0.1%)\n",
      "  Combined: 1 missing (0.0%)\n",
      "Feature: GarageArea\n",
      "Description: Size of garage in square feet\n",
      "Type: Numerical\n",
      "------------------------------------------------------------\n",
      "\n",
      "Data type: Numerical\n",
      "\n",
      "Train Stats:\n",
      "  Range: 0.0 – 1390.0\n",
      "  Mean: 472.1, Median: 479.5\n",
      "  Zero values: 81 (5.6%)\n",
      "\n",
      "Test Stats:\n",
      "  Range: 0.0 – 1488.0\n",
      "  Mean: 472.8, Median: 480.0\n",
      "  Zero values: 76 (5.2%)\n",
      "\n",
      "Combined Stats:\n",
      "  Range: 0.0 – 1488.0\n",
      "  Mean: 472.4, Median: 480.0\n",
      "  Zero values: 157 (5.4%)\n"
     ]
    }
   ],
   "source": [
    "analyze_feature_missing_data('GarageArea')"
   ]
  },
  {
   "cell_type": "code",
   "execution_count": 31,
   "metadata": {},
   "outputs": [
    {
     "name": "stdout",
     "output_type": "stream",
     "text": [
      "Missing values in GarageArea after filling with 0: 0\n"
     ]
    }
   ],
   "source": [
    "# Fill missing GarageArea with 0\n",
    "df_combined['GarageArea'].fillna(0, inplace=True)\n",
    "print('Missing values in GarageArea after filling with 0:', df_combined['GarageArea'].isnull().sum())"
   ]
  },
  {
   "cell_type": "markdown",
   "metadata": {},
   "source": [
    "#### GarageYrBlt"
   ]
  },
  {
   "cell_type": "code",
   "execution_count": 32,
   "metadata": {},
   "outputs": [
    {
     "name": "stdout",
     "output_type": "stream",
     "text": [
      "\n",
      "GarageYrBlt\n",
      "------------------------------------------------------------\n",
      "Total Missing: 159 values (5.5%)\n",
      "  Train: 81 missing (5.6%)\n",
      "  Test: 78 missing (5.3%)\n",
      "  Combined: 159 missing (5.5%)\n",
      "Feature: GarageYrBlt\n",
      "Description: Year garage was built\n",
      "Type: Numerical\n",
      "------------------------------------------------------------\n",
      "\n",
      "Data type: Numerical\n",
      "\n",
      "Train Stats:\n",
      "  Range: 1900.0 – 2010.0\n",
      "  Mean: 1978.5, Median: 1980.0\n",
      "\n",
      "Test Stats:\n",
      "  Range: 1895.0 – 2207.0\n",
      "  Mean: 1977.7, Median: 1979.0\n",
      "\n",
      "Combined Stats:\n",
      "  Range: 1895.0 – 2207.0\n",
      "  Mean: 1978.1, Median: 1979.0\n"
     ]
    }
   ],
   "source": [
    "analyze_feature_missing_data('GarageYrBlt')"
   ]
  },
  {
   "cell_type": "code",
   "execution_count": 33,
   "metadata": {},
   "outputs": [
    {
     "name": "stdout",
     "output_type": "stream",
     "text": [
      "Before correction:\n"
     ]
    },
    {
     "data": {
      "text/html": [
       "<style type=\"text/css\">\n",
       "</style>\n",
       "<table id=\"T_915db\">\n",
       "  <thead>\n",
       "    <tr>\n",
       "      <th id=\"T_915db_level0_col0\" class=\"col_heading level0 col0\" >Id</th>\n",
       "      <th id=\"T_915db_level0_col1\" class=\"col_heading level0 col1\" >YearBuilt</th>\n",
       "      <th id=\"T_915db_level0_col2\" class=\"col_heading level0 col2\" >GarageYrBlt</th>\n",
       "    </tr>\n",
       "  </thead>\n",
       "  <tbody>\n",
       "    <tr>\n",
       "      <td id=\"T_915db_row0_col0\" class=\"data row0 col0\" >2593</td>\n",
       "      <td id=\"T_915db_row0_col1\" class=\"data row0 col1\" >2006</td>\n",
       "      <td id=\"T_915db_row0_col2\" class=\"data row0 col2\" >2207.000000</td>\n",
       "    </tr>\n",
       "  </tbody>\n",
       "</table>\n"
      ],
      "text/plain": [
       "<pandas.io.formats.style.Styler at 0x13195b710>"
      ]
     },
     "metadata": {},
     "output_type": "display_data"
    },
    {
     "name": "stdout",
     "output_type": "stream",
     "text": [
      "After correction:\n"
     ]
    },
    {
     "data": {
      "text/html": [
       "<style type=\"text/css\">\n",
       "</style>\n",
       "<table id=\"T_039cd\">\n",
       "  <thead>\n",
       "    <tr>\n",
       "      <th id=\"T_039cd_level0_col0\" class=\"col_heading level0 col0\" >Id</th>\n",
       "      <th id=\"T_039cd_level0_col1\" class=\"col_heading level0 col1\" >YearBuilt</th>\n",
       "      <th id=\"T_039cd_level0_col2\" class=\"col_heading level0 col2\" >GarageYrBlt</th>\n",
       "    </tr>\n",
       "  </thead>\n",
       "  <tbody>\n",
       "    <tr>\n",
       "      <td id=\"T_039cd_row0_col0\" class=\"data row0 col0\" >2593</td>\n",
       "      <td id=\"T_039cd_row0_col1\" class=\"data row0 col1\" >2006</td>\n",
       "      <td id=\"T_039cd_row0_col2\" class=\"data row0 col2\" >2007.000000</td>\n",
       "    </tr>\n",
       "  </tbody>\n",
       "</table>\n"
      ],
      "text/plain": [
       "<pandas.io.formats.style.Styler at 0x133ee1010>"
      ]
     },
     "metadata": {},
     "output_type": "display_data"
    }
   ],
   "source": [
    "# Change 2207 to 2007\n",
    "mask = df_combined['GarageYrBlt'] == 2207\n",
    "\n",
    "print(\"Before correction:\")\n",
    "display(\n",
    "    df_combined.loc[mask, ['Id', 'YearBuilt', 'GarageYrBlt']]\n",
    "    .style.hide(axis='index')\n",
    ")\n",
    "\n",
    "ids_to_fix = df_combined.loc[mask, 'Id']\n",
    "\n",
    "df_combined.loc[mask, 'GarageYrBlt'] = 2007\n",
    "\n",
    "print(\"After correction:\")\n",
    "display(\n",
    "    df_combined.loc[df_combined['Id'].isin(ids_to_fix), ['Id', 'YearBuilt', 'GarageYrBlt']]\n",
    "    .style.hide(axis='index')\n",
    ")\n",
    "\n"
   ]
  },
  {
   "cell_type": "code",
   "execution_count": 34,
   "metadata": {},
   "outputs": [
    {
     "data": {
      "text/html": [
       "<style type=\"text/css\">\n",
       "</style>\n",
       "<table id=\"T_95c98\">\n",
       "  <thead>\n",
       "    <tr>\n",
       "      <th id=\"T_95c98_level0_col0\" class=\"col_heading level0 col0\" >Id</th>\n",
       "      <th id=\"T_95c98_level0_col1\" class=\"col_heading level0 col1\" >GarageType</th>\n",
       "      <th id=\"T_95c98_level0_col2\" class=\"col_heading level0 col2\" >GarageFinish</th>\n",
       "      <th id=\"T_95c98_level0_col3\" class=\"col_heading level0 col3\" >GarageQual</th>\n",
       "      <th id=\"T_95c98_level0_col4\" class=\"col_heading level0 col4\" >GarageCond</th>\n",
       "      <th id=\"T_95c98_level0_col5\" class=\"col_heading level0 col5\" >GarageCars</th>\n",
       "      <th id=\"T_95c98_level0_col6\" class=\"col_heading level0 col6\" >GarageArea</th>\n",
       "      <th id=\"T_95c98_level0_col7\" class=\"col_heading level0 col7\" >GarageYrBlt</th>\n",
       "      <th id=\"T_95c98_level0_col8\" class=\"col_heading level0 col8\" >YearBuilt</th>\n",
       "      <th id=\"T_95c98_level0_col9\" class=\"col_heading level0 col9\" >YearRemodAdd</th>\n",
       "    </tr>\n",
       "  </thead>\n",
       "  <tbody>\n",
       "    <tr>\n",
       "      <td id=\"T_95c98_row0_col0\" class=\"data row0 col0\" >2127</td>\n",
       "      <td id=\"T_95c98_row0_col1\" class=\"data row0 col1\" >Detchd</td>\n",
       "      <td id=\"T_95c98_row0_col2\" class=\"data row0 col2\" >None</td>\n",
       "      <td id=\"T_95c98_row0_col3\" class=\"data row0 col3\" >None</td>\n",
       "      <td id=\"T_95c98_row0_col4\" class=\"data row0 col4\" >None</td>\n",
       "      <td id=\"T_95c98_row0_col5\" class=\"data row0 col5\" >1.000000</td>\n",
       "      <td id=\"T_95c98_row0_col6\" class=\"data row0 col6\" >360.000000</td>\n",
       "      <td id=\"T_95c98_row0_col7\" class=\"data row0 col7\" >nan</td>\n",
       "      <td id=\"T_95c98_row0_col8\" class=\"data row0 col8\" >1910</td>\n",
       "      <td id=\"T_95c98_row0_col9\" class=\"data row0 col9\" >1983</td>\n",
       "    </tr>\n",
       "    <tr>\n",
       "      <td id=\"T_95c98_row1_col0\" class=\"data row1 col0\" >2577</td>\n",
       "      <td id=\"T_95c98_row1_col1\" class=\"data row1 col1\" >Detchd</td>\n",
       "      <td id=\"T_95c98_row1_col2\" class=\"data row1 col2\" >None</td>\n",
       "      <td id=\"T_95c98_row1_col3\" class=\"data row1 col3\" >None</td>\n",
       "      <td id=\"T_95c98_row1_col4\" class=\"data row1 col4\" >None</td>\n",
       "      <td id=\"T_95c98_row1_col5\" class=\"data row1 col5\" >nan</td>\n",
       "      <td id=\"T_95c98_row1_col6\" class=\"data row1 col6\" >0.000000</td>\n",
       "      <td id=\"T_95c98_row1_col7\" class=\"data row1 col7\" >nan</td>\n",
       "      <td id=\"T_95c98_row1_col8\" class=\"data row1 col8\" >1923</td>\n",
       "      <td id=\"T_95c98_row1_col9\" class=\"data row1 col9\" >1999</td>\n",
       "    </tr>\n",
       "  </tbody>\n",
       "</table>\n"
      ],
      "text/plain": [
       "<pandas.io.formats.style.Styler at 0x1345f4050>"
      ]
     },
     "metadata": {},
     "output_type": "display_data"
    }
   ],
   "source": [
    "# Find garages with other features, but no GarageYrBlt\n",
    "has_garage_missing_year = (df_combined['GarageType'] != 'None') & df_combined['GarageYrBlt'].isnull()\n",
    "\n",
    "garage_columns = [\n",
    "    'Id', 'GarageType', 'GarageFinish', 'GarageQual', 'GarageCond',\n",
    "    'GarageCars', 'GarageArea', 'GarageYrBlt',\n",
    "    'YearBuilt', 'YearRemodAdd'\n",
    "]\n",
    "\n",
    "display(\n",
    "    df_combined.loc[has_garage_missing_year, garage_columns]\n",
    "        .style.hide(axis='index')\n",
    ")\n"
   ]
  },
  {
   "cell_type": "code",
   "execution_count": 35,
   "metadata": {},
   "outputs": [],
   "source": [
    "# Fix inconsistent garage data for Id 2127: garage exists (has area) but some details are missing\n",
    "df_combined.loc[df_combined['Id'] == 2127, 'GarageYrBlt'] = df_combined.loc[df_combined['Id'] == 2127, 'YearBuilt']  # Set GarageYrBlt to same year as house (1910)\n",
    "df_combined.loc[df_combined['Id'] == 2127, 'GarageFinish'] = 'Unf'  # Set GarageFinish to 'Unf' (unfinished)\n",
    "df_combined.loc[df_combined['Id'] == 2127, 'GarageQual'] = 'TA'     # Set GarageQual to 'TA' (typical/average quality)\n",
    "df_combined.loc[df_combined['Id'] == 2127, 'GarageCond'] = 'TA'     # Set GarageCond to 'TA' (typical/average condition)"
   ]
  },
  {
   "cell_type": "code",
   "execution_count": 36,
   "metadata": {},
   "outputs": [],
   "source": [
    "# ID 2577: No garage \n",
    "df_combined.loc[df_combined['Id'] == 2577, 'GarageType'] = 'None'            \n",
    "df_combined.loc[df_combined['Id'] == 2577, 'GarageCars'] = 0               \n",
    "df_combined.loc[df_combined['Id'] == 2577, 'GarageYrBlt'] = 0              \n"
   ]
  },
  {
   "cell_type": "code",
   "execution_count": 37,
   "metadata": {},
   "outputs": [
    {
     "data": {
      "text/html": [
       "<style type=\"text/css\">\n",
       "</style>\n",
       "<table id=\"T_bb99a\">\n",
       "  <thead>\n",
       "    <tr>\n",
       "      <th id=\"T_bb99a_level0_col0\" class=\"col_heading level0 col0\" >Id</th>\n",
       "      <th id=\"T_bb99a_level0_col1\" class=\"col_heading level0 col1\" >GarageType</th>\n",
       "      <th id=\"T_bb99a_level0_col2\" class=\"col_heading level0 col2\" >GarageFinish</th>\n",
       "      <th id=\"T_bb99a_level0_col3\" class=\"col_heading level0 col3\" >GarageQual</th>\n",
       "      <th id=\"T_bb99a_level0_col4\" class=\"col_heading level0 col4\" >GarageCond</th>\n",
       "      <th id=\"T_bb99a_level0_col5\" class=\"col_heading level0 col5\" >GarageCars</th>\n",
       "      <th id=\"T_bb99a_level0_col6\" class=\"col_heading level0 col6\" >GarageArea</th>\n",
       "      <th id=\"T_bb99a_level0_col7\" class=\"col_heading level0 col7\" >GarageYrBlt</th>\n",
       "      <th id=\"T_bb99a_level0_col8\" class=\"col_heading level0 col8\" >YearBuilt</th>\n",
       "      <th id=\"T_bb99a_level0_col9\" class=\"col_heading level0 col9\" >YearRemodAdd</th>\n",
       "    </tr>\n",
       "  </thead>\n",
       "  <tbody>\n",
       "    <tr>\n",
       "      <td id=\"T_bb99a_row0_col0\" class=\"data row0 col0\" >2127</td>\n",
       "      <td id=\"T_bb99a_row0_col1\" class=\"data row0 col1\" >Detchd</td>\n",
       "      <td id=\"T_bb99a_row0_col2\" class=\"data row0 col2\" >Unf</td>\n",
       "      <td id=\"T_bb99a_row0_col3\" class=\"data row0 col3\" >TA</td>\n",
       "      <td id=\"T_bb99a_row0_col4\" class=\"data row0 col4\" >TA</td>\n",
       "      <td id=\"T_bb99a_row0_col5\" class=\"data row0 col5\" >1.000000</td>\n",
       "      <td id=\"T_bb99a_row0_col6\" class=\"data row0 col6\" >360.000000</td>\n",
       "      <td id=\"T_bb99a_row0_col7\" class=\"data row0 col7\" >1910.000000</td>\n",
       "      <td id=\"T_bb99a_row0_col8\" class=\"data row0 col8\" >1910</td>\n",
       "      <td id=\"T_bb99a_row0_col9\" class=\"data row0 col9\" >1983</td>\n",
       "    </tr>\n",
       "    <tr>\n",
       "      <td id=\"T_bb99a_row1_col0\" class=\"data row1 col0\" >2577</td>\n",
       "      <td id=\"T_bb99a_row1_col1\" class=\"data row1 col1\" >None</td>\n",
       "      <td id=\"T_bb99a_row1_col2\" class=\"data row1 col2\" >None</td>\n",
       "      <td id=\"T_bb99a_row1_col3\" class=\"data row1 col3\" >None</td>\n",
       "      <td id=\"T_bb99a_row1_col4\" class=\"data row1 col4\" >None</td>\n",
       "      <td id=\"T_bb99a_row1_col5\" class=\"data row1 col5\" >0.000000</td>\n",
       "      <td id=\"T_bb99a_row1_col6\" class=\"data row1 col6\" >0.000000</td>\n",
       "      <td id=\"T_bb99a_row1_col7\" class=\"data row1 col7\" >0.000000</td>\n",
       "      <td id=\"T_bb99a_row1_col8\" class=\"data row1 col8\" >1923</td>\n",
       "      <td id=\"T_bb99a_row1_col9\" class=\"data row1 col9\" >1999</td>\n",
       "    </tr>\n",
       "  </tbody>\n",
       "</table>\n"
      ],
      "text/plain": [
       "<pandas.io.formats.style.Styler at 0x134685cd0>"
      ]
     },
     "metadata": {},
     "output_type": "display_data"
    }
   ],
   "source": [
    "# Display garages after fixing\n",
    "display(\n",
    "    df_combined.loc[df_combined['Id'].isin([2127, 2577]), garage_columns]\n",
    "        .style.hide(axis='index')\n",
    ")"
   ]
  },
  {
   "cell_type": "code",
   "execution_count": 38,
   "metadata": {},
   "outputs": [
    {
     "name": "stdout",
     "output_type": "stream",
     "text": [
      "Missing values in GarageYrBlt after filling with 0: 0\n"
     ]
    }
   ],
   "source": [
    "# Fill missing GarageYrBlt with 0 for the rest\n",
    "df_combined['GarageYrBlt'].fillna(0, inplace=True)\n",
    "print('Missing values in GarageYrBlt after filling with 0:', df_combined['GarageYrBlt'].isnull().sum())"
   ]
  },
  {
   "cell_type": "markdown",
   "metadata": {},
   "source": [
    "#### BsmtExposure"
   ]
  },
  {
   "cell_type": "code",
   "execution_count": 39,
   "metadata": {},
   "outputs": [
    {
     "name": "stdout",
     "output_type": "stream",
     "text": [
      "\n",
      "BsmtExposure\n",
      "------------------------------------------------------------\n",
      "Total Missing: 82 values (2.8%)\n",
      "  Train: 38 missing (2.6%)\n",
      "  Test: 44 missing (3.0%)\n",
      "  Combined: 82 missing (2.8%)\n",
      "Feature: BsmtExposure\n",
      "Description: Refers to walkout or garden level walls\n",
      "Type: Categorical\n",
      "\n",
      "Categories:\n",
      "  Gd: Good Exposure\n",
      "  Av: Average Exposure (split levels or foyers typically score average or above)\n",
      "  Mn: Mimimum Exposure\n",
      "  No: No Exposure\n",
      "  NA: No Basement\n",
      "------------------------------------------------------------\n",
      "\n",
      "Data type: Categorical\n",
      "\n",
      "Train Value Distribution:\n",
      "  No: 953 (67.1%)\n",
      "  Av: 221 (15.6%)\n",
      "  Gd: 132 (9.3%)\n",
      "  Mn: 114 (8.0%)\n",
      "\n",
      "Test Value Distribution:\n",
      "  No: 951 (67.2%)\n",
      "  Av: 197 (13.9%)\n",
      "  Gd: 142 (10.0%)\n",
      "  Mn: 125 (8.8%)\n",
      "\n",
      "Combined Value Distribution:\n",
      "  No: 1904 (67.2%)\n",
      "  Av: 418 (14.7%)\n",
      "  Gd: 274 (9.7%)\n",
      "  Mn: 239 (8.4%)\n"
     ]
    }
   ],
   "source": [
    "analyze_feature_missing_data('BsmtExposure')"
   ]
  },
  {
   "cell_type": "code",
   "execution_count": 40,
   "metadata": {},
   "outputs": [
    {
     "name": "stdout",
     "output_type": "stream",
     "text": [
      "Missing values in BsmtExposure after filling with None: 0\n"
     ]
    }
   ],
   "source": [
    "# Fill missing BsmtExposure with None\n",
    "df_combined['BsmtExposure'].fillna('None', inplace=True)\n",
    "print('Missing values in BsmtExposure after filling with None:', df_combined['BsmtExposure'].isnull().sum())"
   ]
  },
  {
   "cell_type": "markdown",
   "metadata": {},
   "source": [
    "#### BsmtCond"
   ]
  },
  {
   "cell_type": "code",
   "execution_count": 41,
   "metadata": {},
   "outputs": [
    {
     "name": "stdout",
     "output_type": "stream",
     "text": [
      "\n",
      "BsmtCond\n",
      "------------------------------------------------------------\n",
      "Total Missing: 82 values (2.8%)\n",
      "  Train: 37 missing (2.5%)\n",
      "  Test: 45 missing (3.1%)\n",
      "  Combined: 82 missing (2.8%)\n",
      "Feature: BsmtCond\n",
      "Description: Evaluates the general condition of the basement\n",
      "Type: Categorical\n",
      "\n",
      "Categories:\n",
      "  Ex: Excellent\n",
      "  Gd: Good\n",
      "  TA: Typical - slight dampness allowed\n",
      "  Fa: Fair - dampness or some cracking or settling\n",
      "  Po: Poor - Severe cracking, settling, or wetness\n",
      "  NA: No Basement\n",
      "------------------------------------------------------------\n",
      "\n",
      "Data type: Categorical\n",
      "\n",
      "Train Value Distribution:\n",
      "  TA: 1309 (92.1%)\n",
      "  Gd: 65 (4.6%)\n",
      "  Fa: 45 (3.2%)\n",
      "  Po: 2 (0.1%)\n",
      "\n",
      "Test Value Distribution:\n",
      "  TA: 1295 (91.6%)\n",
      "  Fa: 59 (4.2%)\n",
      "  Gd: 57 (4.0%)\n",
      "  Po: 3 (0.2%)\n",
      "\n",
      "Combined Value Distribution:\n",
      "  TA: 2604 (91.9%)\n",
      "  Gd: 122 (4.3%)\n",
      "  Fa: 104 (3.7%)\n",
      "  Po: 5 (0.2%)\n"
     ]
    }
   ],
   "source": [
    "analyze_feature_missing_data('BsmtCond')"
   ]
  },
  {
   "cell_type": "code",
   "execution_count": 42,
   "metadata": {},
   "outputs": [
    {
     "name": "stdout",
     "output_type": "stream",
     "text": [
      "Missing values in BsmtCond after filling with None: 0\n"
     ]
    }
   ],
   "source": [
    "# Fill missing BsmtCond with None\n",
    "df_combined['BsmtCond'].fillna('None', inplace=True)\n",
    "print('Missing values in BsmtCond after filling with None:', df_combined['BsmtCond'].isnull().sum())"
   ]
  },
  {
   "cell_type": "markdown",
   "metadata": {},
   "source": [
    "#### BsmtQual"
   ]
  },
  {
   "cell_type": "code",
   "execution_count": 43,
   "metadata": {},
   "outputs": [
    {
     "name": "stdout",
     "output_type": "stream",
     "text": [
      "\n",
      "BsmtQual\n",
      "------------------------------------------------------------\n",
      "Total Missing: 81 values (2.8%)\n",
      "  Train: 37 missing (2.5%)\n",
      "  Test: 44 missing (3.0%)\n",
      "  Combined: 81 missing (2.8%)\n",
      "Feature: BsmtQual\n",
      "Description: Evaluates the height of the basement\n",
      "Type: Categorical\n",
      "\n",
      "Categories:\n",
      "  Ex: Excellent (100+ inches)\n",
      "  Gd: Good (90-99 inches)\n",
      "  TA: Typical (80-89 inches)\n",
      "  Fa: Fair (70-79 inches)\n",
      "  Po: Poor (<70 inches\n",
      "  NA: No Basement\n",
      "------------------------------------------------------------\n",
      "\n",
      "Data type: Categorical\n",
      "\n",
      "Train Value Distribution:\n",
      "  TA: 649 (45.7%)\n",
      "  Gd: 618 (43.5%)\n",
      "  Ex: 119 (8.4%)\n",
      "  Fa: 35 (2.5%)\n",
      "\n",
      "Test Value Distribution:\n",
      "  TA: 634 (44.8%)\n",
      "  Gd: 591 (41.8%)\n",
      "  Ex: 137 (9.7%)\n",
      "  Fa: 53 (3.7%)\n",
      "\n",
      "Combined Value Distribution:\n",
      "  TA: 1283 (45.2%)\n",
      "  Gd: 1209 (42.6%)\n",
      "  Ex: 256 (9.0%)\n",
      "  Fa: 88 (3.1%)\n"
     ]
    }
   ],
   "source": [
    "analyze_feature_missing_data('BsmtQual')"
   ]
  },
  {
   "cell_type": "code",
   "execution_count": 44,
   "metadata": {},
   "outputs": [
    {
     "name": "stdout",
     "output_type": "stream",
     "text": [
      "Missing values in BsmtQual after filling with None: 0\n"
     ]
    }
   ],
   "source": [
    "# Fill missing BsmtQual with None\n",
    "df_combined['BsmtQual'].fillna('None', inplace=True)\n",
    "print('Missing values in BsmtQual after filling with None:', df_combined['BsmtQual'].isnull().sum())"
   ]
  },
  {
   "cell_type": "markdown",
   "metadata": {},
   "source": [
    "#### BsmtFinType2"
   ]
  },
  {
   "cell_type": "code",
   "execution_count": 45,
   "metadata": {},
   "outputs": [
    {
     "name": "stdout",
     "output_type": "stream",
     "text": [
      "\n",
      "BsmtFinType2\n",
      "------------------------------------------------------------\n",
      "Total Missing: 80 values (2.7%)\n",
      "  Train: 38 missing (2.6%)\n",
      "  Test: 42 missing (2.9%)\n",
      "  Combined: 80 missing (2.7%)\n",
      "Feature: BsmtFinType2\n",
      "Description: Rating of basement finished area (if multiple types)\n",
      "Type: Categorical\n",
      "\n",
      "Categories:\n",
      "  GLQ: Good Living Quarters\n",
      "  ALQ: Average Living Quarters\n",
      "  BLQ: Below Average Living Quarters\n",
      "  Rec: Average Rec Room\n",
      "  LwQ: Low Quality\n",
      "  Unf: Unfinshed\n",
      "  NA: No Basement\n",
      "------------------------------------------------------------\n",
      "\n",
      "Data type: Categorical\n",
      "\n",
      "Train Value Distribution:\n",
      "  Unf: 1254 (88.3%)\n",
      "  Rec: 54 (3.8%)\n",
      "  LwQ: 46 (3.2%)\n",
      "  BLQ: 33 (2.3%)\n",
      "  ALQ: 19 (1.3%)\n",
      "  GLQ: 14 (1.0%)\n",
      "\n",
      "Test Value Distribution:\n",
      "  Unf: 1237 (87.3%)\n",
      "  Rec: 51 (3.6%)\n",
      "  LwQ: 41 (2.9%)\n",
      "  BLQ: 35 (2.5%)\n",
      "  ALQ: 33 (2.3%)\n",
      "  GLQ: 20 (1.4%)\n",
      "\n",
      "Combined Value Distribution:\n",
      "  Unf: 2491 (87.8%)\n",
      "  Rec: 105 (3.7%)\n",
      "  LwQ: 87 (3.1%)\n",
      "  BLQ: 68 (2.4%)\n",
      "  ALQ: 52 (1.8%)\n",
      "  GLQ: 34 (1.2%)\n"
     ]
    }
   ],
   "source": [
    "analyze_feature_missing_data('BsmtFinType2')"
   ]
  },
  {
   "cell_type": "code",
   "execution_count": 46,
   "metadata": {},
   "outputs": [
    {
     "name": "stdout",
     "output_type": "stream",
     "text": [
      "Missing values in BsmtFinType2 after filling with None: 0\n"
     ]
    }
   ],
   "source": [
    "# Fill missing BsmtFinType2 with None\n",
    "df_combined['BsmtFinType2'].fillna('None', inplace=True)\n",
    "print('Missing values in BsmtFinType2 after filling with None:', df_combined['BsmtFinType2'].isnull().sum())"
   ]
  },
  {
   "cell_type": "markdown",
   "metadata": {},
   "source": [
    "#### BsmtFinType1"
   ]
  },
  {
   "cell_type": "code",
   "execution_count": 47,
   "metadata": {},
   "outputs": [
    {
     "name": "stdout",
     "output_type": "stream",
     "text": [
      "\n",
      "BsmtFinType1\n",
      "------------------------------------------------------------\n",
      "Total Missing: 79 values (2.7%)\n",
      "  Train: 37 missing (2.5%)\n",
      "  Test: 42 missing (2.9%)\n",
      "  Combined: 79 missing (2.7%)\n",
      "Feature: BsmtFinType1\n",
      "Description: Rating of basement finished area\n",
      "Type: Categorical\n",
      "\n",
      "Categories:\n",
      "  GLQ: Good Living Quarters\n",
      "  ALQ: Average Living Quarters\n",
      "  BLQ: Below Average Living Quarters\n",
      "  Rec: Average Rec Room\n",
      "  LwQ: Low Quality\n",
      "  Unf: Unfinshed\n",
      "  NA: No Basement\n",
      "------------------------------------------------------------\n",
      "\n",
      "Data type: Categorical\n",
      "\n",
      "Train Value Distribution:\n",
      "  Unf: 430 (30.3%)\n",
      "  GLQ: 416 (29.3%)\n",
      "  ALQ: 220 (15.5%)\n",
      "  BLQ: 148 (10.4%)\n",
      "  Rec: 133 (9.4%)\n",
      "  LwQ: 74 (5.2%)\n",
      "\n",
      "Test Value Distribution:\n",
      "  GLQ: 431 (30.4%)\n",
      "  Unf: 421 (29.7%)\n",
      "  ALQ: 209 (14.7%)\n",
      "  Rec: 155 (10.9%)\n",
      "  BLQ: 121 (8.5%)\n",
      "  LwQ: 80 (5.6%)\n",
      "\n",
      "Combined Value Distribution:\n",
      "  Unf: 851 (30.0%)\n",
      "  GLQ: 847 (29.8%)\n",
      "  ALQ: 429 (15.1%)\n",
      "  Rec: 288 (10.1%)\n",
      "  BLQ: 269 (9.5%)\n",
      "  LwQ: 154 (5.4%)\n"
     ]
    }
   ],
   "source": [
    "analyze_feature_missing_data('BsmtFinType1')"
   ]
  },
  {
   "cell_type": "code",
   "execution_count": 48,
   "metadata": {},
   "outputs": [
    {
     "name": "stdout",
     "output_type": "stream",
     "text": [
      "Missing values in BsmtFinType1 after filling with None: 0\n"
     ]
    }
   ],
   "source": [
    "# Fill missing BsmtFinType1 with None\n",
    "df_combined['BsmtFinType1'].fillna('None', inplace=True)\n",
    "print('Missing values in BsmtFinType1 after filling with None:', df_combined['BsmtFinType1'].isnull().sum())"
   ]
  },
  {
   "cell_type": "markdown",
   "metadata": {},
   "source": [
    "#### MasVnrArea"
   ]
  },
  {
   "cell_type": "code",
   "execution_count": 49,
   "metadata": {},
   "outputs": [
    {
     "name": "stdout",
     "output_type": "stream",
     "text": [
      "\n",
      "MasVnrArea\n",
      "------------------------------------------------------------\n",
      "Total Missing: 23 values (0.8%)\n",
      "  Train: 8 missing (0.5%)\n",
      "  Test: 15 missing (1.0%)\n",
      "  Combined: 23 missing (0.8%)\n",
      "Feature: MasVnrArea\n",
      "Description: Masonry veneer area in square feet\n",
      "Type: Numerical\n",
      "------------------------------------------------------------\n",
      "\n",
      "Data type: Numerical\n",
      "\n",
      "Train Stats:\n",
      "  Range: 0.0 – 1600.0\n",
      "  Mean: 102.8, Median: 0.0\n",
      "  Zero values: 861 (59.4%)\n",
      "\n",
      "Test Stats:\n",
      "  Range: 0.0 – 1290.0\n",
      "  Mean: 100.7, Median: 0.0\n",
      "  Zero values: 877 (60.7%)\n",
      "\n",
      "Combined Stats:\n",
      "  Range: 0.0 – 1600.0\n",
      "  Mean: 101.7, Median: 0.0\n",
      "  Zero values: 1738 (60.1%)\n"
     ]
    }
   ],
   "source": [
    "analyze_feature_missing_data('MasVnrArea')"
   ]
  },
  {
   "cell_type": "code",
   "execution_count": 50,
   "metadata": {},
   "outputs": [
    {
     "name": "stdout",
     "output_type": "stream",
     "text": [
      "Missing values in MasVnrArea after filling with 0: 0\n"
     ]
    }
   ],
   "source": [
    "# Fill missing MasVnrArea with 0\n",
    "df_combined['MasVnrArea'].fillna(0, inplace=True)\n",
    "print('Missing values in MasVnrArea after filling with 0:', df_combined['MasVnrArea'].isnull().sum())"
   ]
  },
  {
   "cell_type": "markdown",
   "metadata": {},
   "source": [
    "#### MSZoning"
   ]
  },
  {
   "cell_type": "code",
   "execution_count": 51,
   "metadata": {},
   "outputs": [
    {
     "name": "stdout",
     "output_type": "stream",
     "text": [
      "\n",
      "MSZoning\n",
      "------------------------------------------------------------\n",
      "Total Missing: 4 values (0.1%)\n",
      "  Train: 0 missing (0.0%)\n",
      "  Test: 4 missing (0.3%)\n",
      "  Combined: 4 missing (0.1%)\n",
      "Feature: MSZoning\n",
      "Description: Identifies the general zoning classification of the sale.\n",
      "Type: Categorical\n",
      "\n",
      "Categories:\n",
      "  A: Agriculture\n",
      "  C: Commercial\n",
      "  FV: Floating Village Residential\n",
      "  I: Industrial\n",
      "  RH: Residential High Density\n",
      "  RL: Residential Low Density\n",
      "  RP: Residential Low Density Park\n",
      "  RM: Residential Medium Density\n",
      "------------------------------------------------------------\n",
      "\n",
      "Data type: Categorical\n",
      "\n",
      "Train Value Distribution:\n",
      "  RL: 1149 (78.8%)\n",
      "  RM: 218 (15.0%)\n",
      "  FV: 65 (4.5%)\n",
      "  RH: 16 (1.1%)\n",
      "  C (all): 10 (0.7%)\n",
      "\n",
      "Test Value Distribution:\n",
      "  RL: 1114 (76.6%)\n",
      "  RM: 242 (16.6%)\n",
      "  FV: 74 (5.1%)\n",
      "  C (all): 15 (1.0%)\n",
      "  RH: 10 (0.7%)\n",
      "\n",
      "Combined Value Distribution:\n",
      "  RL: 2263 (77.7%)\n",
      "  RM: 460 (15.8%)\n",
      "  FV: 139 (4.8%)\n",
      "  RH: 26 (0.9%)\n",
      "  C (all): 25 (0.9%)\n"
     ]
    }
   ],
   "source": [
    "analyze_feature_missing_data('MSZoning')"
   ]
  },
  {
   "cell_type": "code",
   "execution_count": 52,
   "metadata": {},
   "outputs": [
    {
     "name": "stdout",
     "output_type": "stream",
     "text": [
      "Missing values in MSZoning after filling with training-based modes: 0\n"
     ]
    }
   ],
   "source": [
    "# Compute mode of MSZoning per neighborhood from training data only\n",
    "zoning_modes = df_train.groupby('Neighborhood')['MSZoning'].agg(lambda x: x.mode().iloc[0])\n",
    "\n",
    "# Global fallback mode (from training only)\n",
    "global_mode = df_train['MSZoning'].mode().iloc[0]\n",
    "\n",
    "# Fill missing values using training modes, fallback to global mode if Neighborhood not in training\n",
    "df_combined['MSZoning'] = df_combined.groupby('Neighborhood')['MSZoning'].transform(\n",
    "    lambda x: x.fillna(zoning_modes.get(x.name, global_mode))\n",
    ")\n",
    "\n",
    "missing_count = df_combined['MSZoning'].isnull().sum()\n",
    "print(f\"Missing values in MSZoning after filling with training-based modes: {missing_count}\")\n"
   ]
  },
  {
   "cell_type": "markdown",
   "metadata": {},
   "source": [
    "#### BsmtFullBath"
   ]
  },
  {
   "cell_type": "code",
   "execution_count": 53,
   "metadata": {},
   "outputs": [
    {
     "name": "stdout",
     "output_type": "stream",
     "text": [
      "\n",
      "BsmtFullBath\n",
      "------------------------------------------------------------\n",
      "Total Missing: 2 values (0.1%)\n",
      "  Train: 0 missing (0.0%)\n",
      "  Test: 2 missing (0.1%)\n",
      "  Combined: 2 missing (0.1%)\n",
      "Feature: BsmtFullBath\n",
      "Description: Basement full bathrooms\n",
      "Type: Numerical\n",
      "------------------------------------------------------------\n",
      "\n",
      "Data type: Numerical\n",
      "\n",
      "Train Stats:\n",
      "  Range: 0.0 – 3.0\n",
      "  Mean: 0.4, Median: 0.0\n",
      "  Zero values: 856 (58.7%)\n",
      "\n",
      "Test Stats:\n",
      "  Range: 0.0 – 3.0\n",
      "  Mean: 0.4, Median: 0.0\n",
      "  Zero values: 849 (58.3%)\n",
      "\n",
      "Combined Stats:\n",
      "  Range: 0.0 – 3.0\n",
      "  Mean: 0.4, Median: 0.0\n",
      "  Zero values: 1705 (58.5%)\n"
     ]
    }
   ],
   "source": [
    "analyze_feature_missing_data('BsmtFullBath')"
   ]
  },
  {
   "cell_type": "code",
   "execution_count": 54,
   "metadata": {},
   "outputs": [
    {
     "name": "stdout",
     "output_type": "stream",
     "text": [
      "Missing values in BsmtFullBath after filling with 0: 0\n"
     ]
    }
   ],
   "source": [
    "# Fill missing BsmtFullBath with 0\n",
    "df_combined['BsmtFullBath'].fillna(0, inplace=True)\n",
    "print('Missing values in BsmtFullBath after filling with 0:', df_combined['BsmtFullBath'].isnull().sum())"
   ]
  },
  {
   "cell_type": "markdown",
   "metadata": {},
   "source": [
    "#### BsmtHalfBath"
   ]
  },
  {
   "cell_type": "code",
   "execution_count": 55,
   "metadata": {},
   "outputs": [
    {
     "name": "stdout",
     "output_type": "stream",
     "text": [
      "\n",
      "BsmtHalfBath\n",
      "------------------------------------------------------------\n",
      "Total Missing: 2 values (0.1%)\n",
      "  Train: 0 missing (0.0%)\n",
      "  Test: 2 missing (0.1%)\n",
      "  Combined: 2 missing (0.1%)\n",
      "Feature: BsmtHalfBath\n",
      "Description: Basement half bathrooms\n",
      "Type: Numerical\n",
      "------------------------------------------------------------\n",
      "\n",
      "Data type: Numerical\n",
      "\n",
      "Train Stats:\n",
      "  Range: 0.0 – 2.0\n",
      "  Mean: 0.1, Median: 0.0\n",
      "  Zero values: 1376 (94.4%)\n",
      "\n",
      "Test Stats:\n",
      "  Range: 0.0 – 2.0\n",
      "  Mean: 0.1, Median: 0.0\n",
      "  Zero values: 1364 (93.6%)\n",
      "\n",
      "Combined Stats:\n",
      "  Range: 0.0 – 2.0\n",
      "  Mean: 0.1, Median: 0.0\n",
      "  Zero values: 2740 (94.0%)\n"
     ]
    }
   ],
   "source": [
    "analyze_feature_missing_data('BsmtHalfBath')"
   ]
  },
  {
   "cell_type": "code",
   "execution_count": 56,
   "metadata": {},
   "outputs": [
    {
     "name": "stdout",
     "output_type": "stream",
     "text": [
      "Missing values in BsmtHalfBath after filling with 0: 0\n"
     ]
    }
   ],
   "source": [
    "# Fill missing BsmtHalfBath with 0\n",
    "df_combined['BsmtHalfBath'].fillna(0, inplace=True)\n",
    "print('Missing values in BsmtHalfBath after filling with 0:', df_combined['BsmtHalfBath'].isnull().sum())"
   ]
  },
  {
   "cell_type": "markdown",
   "metadata": {},
   "source": [
    "#### Functional"
   ]
  },
  {
   "cell_type": "code",
   "execution_count": 57,
   "metadata": {},
   "outputs": [
    {
     "name": "stdout",
     "output_type": "stream",
     "text": [
      "\n",
      "Functional\n",
      "------------------------------------------------------------\n",
      "Total Missing: 2 values (0.1%)\n",
      "  Train: 0 missing (0.0%)\n",
      "  Test: 2 missing (0.1%)\n",
      "  Combined: 2 missing (0.1%)\n",
      "Feature: Functional\n",
      "Description: Home functionality (Assume typical unless deductions are warranted)\n",
      "Type: Categorical\n",
      "\n",
      "Categories:\n",
      "  Typ: Typical Functionality\n",
      "  Min1: Minor Deductions 1\n",
      "  Min2: Minor Deductions 2\n",
      "  Mod: Moderate Deductions\n",
      "  Maj1: Major Deductions 1\n",
      "  Maj2: Major Deductions 2\n",
      "  Sev: Severely Damaged\n",
      "  Sal: Salvage only\n",
      "------------------------------------------------------------\n",
      "\n",
      "Data type: Categorical\n",
      "\n",
      "Train Value Distribution:\n",
      "  Typ: 1358 (93.1%)\n",
      "  Min2: 34 (2.3%)\n",
      "  Min1: 31 (2.1%)\n",
      "  Mod: 15 (1.0%)\n",
      "  Maj1: 14 (1.0%)\n",
      "  Maj2: 5 (0.3%)\n",
      "  Sev: 1 (0.1%)\n",
      "\n",
      "Test Value Distribution:\n",
      "  Typ: 1357 (93.1%)\n",
      "  Min2: 36 (2.5%)\n",
      "  Min1: 34 (2.3%)\n",
      "  Mod: 20 (1.4%)\n",
      "  Maj1: 5 (0.3%)\n",
      "  Maj2: 4 (0.3%)\n",
      "  Sev: 1 (0.1%)\n",
      "\n",
      "Combined Value Distribution:\n",
      "  Typ: 2715 (93.1%)\n",
      "  Min2: 70 (2.4%)\n",
      "  Min1: 65 (2.2%)\n",
      "  Mod: 35 (1.2%)\n",
      "  Maj1: 19 (0.7%)\n",
      "  Maj2: 9 (0.3%)\n",
      "  Sev: 2 (0.1%)\n"
     ]
    }
   ],
   "source": [
    "analyze_feature_missing_data('Functional')"
   ]
  },
  {
   "cell_type": "code",
   "execution_count": 58,
   "metadata": {},
   "outputs": [
    {
     "name": "stdout",
     "output_type": "stream",
     "text": [
      "Missing values in Functional after filling with Typ: 0\n"
     ]
    }
   ],
   "source": [
    "# Fill missing Functional with the mode from the training set, Typ\n",
    "df_combined['Functional'].fillna('Typ', inplace=True)\n",
    "print('Missing values in Functional after filling with Typ:', df_combined['Functional'].isnull().sum())"
   ]
  },
  {
   "cell_type": "markdown",
   "metadata": {},
   "source": [
    "#### Utilities"
   ]
  },
  {
   "cell_type": "code",
   "execution_count": 59,
   "metadata": {},
   "outputs": [
    {
     "name": "stdout",
     "output_type": "stream",
     "text": [
      "\n",
      "Utilities\n",
      "------------------------------------------------------------\n",
      "Total Missing: 2 values (0.1%)\n",
      "  Train: 0 missing (0.0%)\n",
      "  Test: 2 missing (0.1%)\n",
      "  Combined: 2 missing (0.1%)\n",
      "Feature: Utilities\n",
      "Description: Type of utilities available\n",
      "Type: Categorical\n",
      "\n",
      "Categories:\n",
      "  AllPub: All public Utilities (E,G,W,& S)\n",
      "  NoSewr: Electricity, Gas, and Water (Septic Tank)\n",
      "  NoSeWa: Electricity and Gas Only\n",
      "  ELO: Electricity only\n",
      "------------------------------------------------------------\n",
      "\n",
      "Data type: Categorical\n",
      "\n",
      "Train Value Distribution:\n",
      "  AllPub: 1457 (99.9%)\n",
      "  NoSeWa: 1 (0.1%)\n",
      "\n",
      "Test Value Distribution:\n",
      "  AllPub: 1457 (100.0%)\n",
      "\n",
      "Combined Value Distribution:\n",
      "  AllPub: 2914 (100.0%)\n",
      "  NoSeWa: 1 (0.0%)\n"
     ]
    }
   ],
   "source": [
    "analyze_feature_missing_data('Utilities')"
   ]
  },
  {
   "cell_type": "code",
   "execution_count": 60,
   "metadata": {},
   "outputs": [
    {
     "name": "stdout",
     "output_type": "stream",
     "text": [
      "Missing values in Utilities after filling with AllPub: 0\n"
     ]
    }
   ],
   "source": [
    "# Fill missing Utilities with the mode from the training set, AllPub\n",
    "df_combined['Utilities'].fillna('AllPub', inplace=True)\n",
    "print('Missing values in Utilities after filling with AllPub:', df_combined['Utilities'].isnull().sum())"
   ]
  },
  {
   "cell_type": "markdown",
   "metadata": {},
   "source": [
    "#### Electrical"
   ]
  },
  {
   "cell_type": "code",
   "execution_count": 61,
   "metadata": {},
   "outputs": [
    {
     "name": "stdout",
     "output_type": "stream",
     "text": [
      "\n",
      "Electrical\n",
      "------------------------------------------------------------\n",
      "Total Missing: 1 values (0.0%)\n",
      "  Train: 1 missing (0.1%)\n",
      "  Test: 0 missing (0.0%)\n",
      "  Combined: 1 missing (0.0%)\n",
      "Feature: Electrical\n",
      "Description: Electrical system\n",
      "Type: Categorical\n",
      "\n",
      "Categories:\n",
      "  SBrkr: Standard Circuit Breakers & Romex\n",
      "  FuseA: Fuse Box over 60 AMP and all Romex wiring (Average)\n",
      "  FuseF: 60 AMP Fuse Box and mostly Romex wiring (Fair)\n",
      "  FuseP: 60 AMP Fuse Box and mostly knob & tube wiring (poor)\n",
      "  Mix: Mixed\n",
      "------------------------------------------------------------\n",
      "\n",
      "Data type: Categorical\n",
      "\n",
      "Train Value Distribution:\n",
      "  SBrkr: 1332 (91.4%)\n",
      "  FuseA: 94 (6.5%)\n",
      "  FuseF: 27 (1.9%)\n",
      "  FuseP: 3 (0.2%)\n",
      "  Mix: 1 (0.1%)\n",
      "\n",
      "Test Value Distribution:\n",
      "  SBrkr: 1337 (91.6%)\n",
      "  FuseA: 94 (6.4%)\n",
      "  FuseF: 23 (1.6%)\n",
      "  FuseP: 5 (0.3%)\n",
      "\n",
      "Combined Value Distribution:\n",
      "  SBrkr: 2669 (91.5%)\n",
      "  FuseA: 188 (6.4%)\n",
      "  FuseF: 50 (1.7%)\n",
      "  FuseP: 8 (0.3%)\n",
      "  Mix: 1 (0.0%)\n"
     ]
    }
   ],
   "source": [
    "analyze_feature_missing_data('Electrical')"
   ]
  },
  {
   "cell_type": "code",
   "execution_count": 62,
   "metadata": {},
   "outputs": [
    {
     "name": "stdout",
     "output_type": "stream",
     "text": [
      "Missing values in Electrical after filling with SBrkr: 0\n"
     ]
    }
   ],
   "source": [
    "# Fill missing Electrical with with the mode from the training set, SBrkr\n",
    "df_combined['Electrical'].fillna('SBrkr', inplace=True)\n",
    "print('Missing values in Electrical after filling with SBrkr:', df_combined['Electrical'].isnull().sum())"
   ]
  },
  {
   "cell_type": "markdown",
   "metadata": {},
   "source": [
    "#### KitchenQual"
   ]
  },
  {
   "cell_type": "code",
   "execution_count": 63,
   "metadata": {},
   "outputs": [
    {
     "name": "stdout",
     "output_type": "stream",
     "text": [
      "\n",
      "KitchenQual\n",
      "------------------------------------------------------------\n",
      "Total Missing: 1 values (0.0%)\n",
      "  Train: 0 missing (0.0%)\n",
      "  Test: 1 missing (0.1%)\n",
      "  Combined: 1 missing (0.0%)\n",
      "Feature: KitchenQual\n",
      "Description: Kitchen quality\n",
      "Type: Categorical\n",
      "\n",
      "Categories:\n",
      "  Ex: Excellent\n",
      "  Gd: Good\n",
      "  TA: Typical/Average\n",
      "  Fa: Fair\n",
      "  Po: Poor\n",
      "------------------------------------------------------------\n",
      "\n",
      "Data type: Categorical\n",
      "\n",
      "Train Value Distribution:\n",
      "  TA: 735 (50.4%)\n",
      "  Gd: 586 (40.2%)\n",
      "  Ex: 98 (6.7%)\n",
      "  Fa: 39 (2.7%)\n",
      "\n",
      "Test Value Distribution:\n",
      "  TA: 757 (51.9%)\n",
      "  Gd: 565 (38.8%)\n",
      "  Ex: 105 (7.2%)\n",
      "  Fa: 31 (2.1%)\n",
      "\n",
      "Combined Value Distribution:\n",
      "  TA: 1492 (51.2%)\n",
      "  Gd: 1151 (39.5%)\n",
      "  Ex: 203 (7.0%)\n",
      "  Fa: 70 (2.4%)\n"
     ]
    }
   ],
   "source": [
    "analyze_feature_missing_data('KitchenQual')"
   ]
  },
  {
   "cell_type": "code",
   "execution_count": 64,
   "metadata": {},
   "outputs": [
    {
     "name": "stdout",
     "output_type": "stream",
     "text": [
      "Missing values in KitchenQual after filling with TA: 0\n"
     ]
    }
   ],
   "source": [
    "# Fill missing KitchenQual with with the mode from the training set, TA\n",
    "df_combined['KitchenQual'].fillna('TA', inplace=True)\n",
    "print('Missing values in KitchenQual after filling with TA:', df_combined['KitchenQual'].isnull().sum())\n"
   ]
  },
  {
   "cell_type": "markdown",
   "metadata": {},
   "source": [
    "#### TotalBsmtSF"
   ]
  },
  {
   "cell_type": "code",
   "execution_count": 65,
   "metadata": {},
   "outputs": [
    {
     "name": "stdout",
     "output_type": "stream",
     "text": [
      "\n",
      "TotalBsmtSF\n",
      "------------------------------------------------------------\n",
      "Total Missing: 1 values (0.0%)\n",
      "  Train: 0 missing (0.0%)\n",
      "  Test: 1 missing (0.1%)\n",
      "  Combined: 1 missing (0.0%)\n",
      "Feature: TotalBsmtSF\n",
      "Description: Total square feet of basement area\n",
      "Type: Numerical\n",
      "------------------------------------------------------------\n",
      "\n",
      "Data type: Numerical\n",
      "\n",
      "Train Stats:\n",
      "  Range: 0.0 – 3206.0\n",
      "  Mean: 1052.5, Median: 991.0\n",
      "  Zero values: 37 (2.5%)\n",
      "\n",
      "Test Stats:\n",
      "  Range: 0.0 – 5095.0\n",
      "  Mean: 1046.1, Median: 988.0\n",
      "  Zero values: 41 (2.8%)\n",
      "\n",
      "Combined Stats:\n",
      "  Range: 0.0 – 5095.0\n",
      "  Mean: 1049.3, Median: 988.5\n",
      "  Zero values: 78 (2.7%)\n"
     ]
    }
   ],
   "source": [
    "analyze_feature_missing_data('TotalBsmtSF')"
   ]
  },
  {
   "cell_type": "code",
   "execution_count": 66,
   "metadata": {},
   "outputs": [
    {
     "name": "stdout",
     "output_type": "stream",
     "text": [
      "Missing values in TotalBsmtSF after filling with 0: 0\n"
     ]
    }
   ],
   "source": [
    "# Fill missing TotalBsmtSF with 0\n",
    "df_combined['TotalBsmtSF'].fillna(0, inplace=True)\n",
    "print('Missing values in TotalBsmtSF after filling with 0:', df_combined['TotalBsmtSF'].isnull().sum())\n"
   ]
  },
  {
   "cell_type": "markdown",
   "metadata": {},
   "source": [
    "#### BsmtUnfSF"
   ]
  },
  {
   "cell_type": "code",
   "execution_count": 67,
   "metadata": {},
   "outputs": [
    {
     "name": "stdout",
     "output_type": "stream",
     "text": [
      "\n",
      "BsmtUnfSF\n",
      "------------------------------------------------------------\n",
      "Total Missing: 1 values (0.0%)\n",
      "  Train: 0 missing (0.0%)\n",
      "  Test: 1 missing (0.1%)\n",
      "  Combined: 1 missing (0.0%)\n",
      "Feature: BsmtUnfSF\n",
      "Description: Unfinished square feet of basement area\n",
      "Type: Numerical\n",
      "------------------------------------------------------------\n",
      "\n",
      "Data type: Numerical\n",
      "\n",
      "Train Stats:\n",
      "  Range: 0.0 – 2336.0\n",
      "  Mean: 567.1, Median: 477.5\n",
      "  Zero values: 118 (8.1%)\n",
      "\n",
      "Test Stats:\n",
      "  Range: 0.0 – 2140.0\n",
      "  Mean: 554.3, Median: 460.0\n",
      "  Zero values: 123 (8.4%)\n",
      "\n",
      "Combined Stats:\n",
      "  Range: 0.0 – 2336.0\n",
      "  Mean: 560.7, Median: 467.0\n",
      "  Zero values: 241 (8.3%)\n"
     ]
    }
   ],
   "source": [
    "analyze_feature_missing_data('BsmtUnfSF')"
   ]
  },
  {
   "cell_type": "code",
   "execution_count": 68,
   "metadata": {},
   "outputs": [
    {
     "name": "stdout",
     "output_type": "stream",
     "text": [
      "Missing values in BsmtUnfSF after filling with 0: 0\n"
     ]
    }
   ],
   "source": [
    "# Fill missing BsmtUnfSF with 0\n",
    "df_combined['BsmtUnfSF'].fillna(0, inplace=True)\n",
    "print('Missing values in BsmtUnfSF after filling with 0:', df_combined['BsmtUnfSF'].isnull().sum())\n"
   ]
  },
  {
   "cell_type": "markdown",
   "metadata": {},
   "source": [
    "#### BsmtFinSF2"
   ]
  },
  {
   "cell_type": "code",
   "execution_count": 69,
   "metadata": {},
   "outputs": [
    {
     "name": "stdout",
     "output_type": "stream",
     "text": [
      "\n",
      "BsmtFinSF2\n",
      "------------------------------------------------------------\n",
      "Total Missing: 1 values (0.0%)\n",
      "  Train: 0 missing (0.0%)\n",
      "  Test: 1 missing (0.1%)\n",
      "  Combined: 1 missing (0.0%)\n",
      "Feature: BsmtFinSF2\n",
      "Description: Type 2 finished square feet\n",
      "Type: Numerical\n",
      "------------------------------------------------------------\n",
      "\n",
      "Data type: Numerical\n",
      "\n",
      "Train Stats:\n",
      "  Range: 0.0 – 1474.0\n",
      "  Mean: 46.6, Median: 0.0\n",
      "  Zero values: 1291 (88.5%)\n",
      "\n",
      "Test Stats:\n",
      "  Range: 0.0 – 1526.0\n",
      "  Mean: 52.6, Median: 0.0\n",
      "  Zero values: 1278 (87.7%)\n",
      "\n",
      "Combined Stats:\n",
      "  Range: 0.0 – 1526.0\n",
      "  Mean: 49.6, Median: 0.0\n",
      "  Zero values: 2569 (88.1%)\n"
     ]
    }
   ],
   "source": [
    "analyze_feature_missing_data('BsmtFinSF2')"
   ]
  },
  {
   "cell_type": "code",
   "execution_count": 70,
   "metadata": {},
   "outputs": [
    {
     "name": "stdout",
     "output_type": "stream",
     "text": [
      "Missing values in BsmtFinSF2 after filling with 0: 0\n"
     ]
    }
   ],
   "source": [
    "# Fill missing BsmtFinSF2 with 0\n",
    "df_combined['BsmtFinSF2'].fillna(0, inplace=True)\n",
    "print('Missing values in BsmtFinSF2 after filling with 0:', df_combined['BsmtFinSF2'].isnull().sum())\n"
   ]
  },
  {
   "cell_type": "markdown",
   "metadata": {},
   "source": [
    "#### BsmtFinSF1"
   ]
  },
  {
   "cell_type": "code",
   "execution_count": 71,
   "metadata": {},
   "outputs": [
    {
     "name": "stdout",
     "output_type": "stream",
     "text": [
      "\n",
      "BsmtFinSF1\n",
      "------------------------------------------------------------\n",
      "Total Missing: 1 values (0.0%)\n",
      "  Train: 0 missing (0.0%)\n",
      "  Test: 1 missing (0.1%)\n",
      "  Combined: 1 missing (0.0%)\n",
      "Feature: BsmtFinSF1\n",
      "Description: Type 1 finished square feet\n",
      "Type: Numerical\n",
      "------------------------------------------------------------\n",
      "\n",
      "Data type: Numerical\n",
      "\n",
      "Train Stats:\n",
      "  Range: 0.0 – 2188.0\n",
      "  Mean: 438.8, Median: 382.0\n",
      "  Zero values: 467 (32.0%)\n",
      "\n",
      "Test Stats:\n",
      "  Range: 0.0 – 4010.0\n",
      "  Mean: 439.2, Median: 350.5\n",
      "  Zero values: 462 (31.7%)\n",
      "\n",
      "Combined Stats:\n",
      "  Range: 0.0 – 4010.0\n",
      "  Mean: 439.0, Median: 368.0\n",
      "  Zero values: 929 (31.9%)\n"
     ]
    }
   ],
   "source": [
    "analyze_feature_missing_data('BsmtFinSF1')"
   ]
  },
  {
   "cell_type": "code",
   "execution_count": 72,
   "metadata": {},
   "outputs": [
    {
     "name": "stdout",
     "output_type": "stream",
     "text": [
      "Missing values in BsmtFinSF1 after filling with 0: 0\n"
     ]
    }
   ],
   "source": [
    "# Fill missing BsmtFinSF1 with 0\n",
    "df_combined['BsmtFinSF1'].fillna(0, inplace=True)\n",
    "print('Missing values in BsmtFinSF1 after filling with 0:', df_combined['BsmtFinSF1'].isnull().sum())\n"
   ]
  },
  {
   "cell_type": "markdown",
   "metadata": {},
   "source": [
    "#### Exterior2nd"
   ]
  },
  {
   "cell_type": "code",
   "execution_count": 73,
   "metadata": {},
   "outputs": [
    {
     "name": "stdout",
     "output_type": "stream",
     "text": [
      "\n",
      "Exterior2nd\n",
      "------------------------------------------------------------\n",
      "Total Missing: 1 values (0.0%)\n",
      "  Train: 0 missing (0.0%)\n",
      "  Test: 1 missing (0.1%)\n",
      "  Combined: 1 missing (0.0%)\n",
      "Feature: Exterior2nd\n",
      "Description: Exterior covering on house (if more than one material)\n",
      "Type: Categorical\n",
      "\n",
      "Categories:\n",
      "  AsbShng: Asbestos Shingles\n",
      "  AsphShn: Asphalt Shingles\n",
      "  BrkComm: Brick Common\n",
      "  BrkFace: Brick Face\n",
      "  CBlock: Cinder Block\n",
      "  CemntBd: Cement Board\n",
      "  HdBoard: Hard Board\n",
      "  ImStucc: Imitation Stucco\n",
      "  MetalSd: Metal Siding\n",
      "  Other: Other\n",
      "  Plywood: Plywood\n",
      "  PreCast: PreCast\n",
      "  Stone: Stone\n",
      "  Stucco: Stucco\n",
      "  VinylSd: Vinyl Siding\n",
      "  Wd Sdng: Wood Siding\n",
      "  WdShing: Wood Shingles\n",
      "------------------------------------------------------------\n",
      "\n",
      "Data type: Categorical\n",
      "\n",
      "Train Value Distribution:\n",
      "  VinylSd: 504 (34.6%)\n",
      "  MetalSd: 214 (14.7%)\n",
      "  HdBoard: 207 (14.2%)\n",
      "  Wd Sdng: 197 (13.5%)\n",
      "  Plywood: 142 (9.7%)\n",
      "  CmentBd: 59 (4.0%)\n",
      "  Wd Shng: 38 (2.6%)\n",
      "  BrkFace: 25 (1.7%)\n",
      "  Stucco: 25 (1.7%)\n",
      "  AsbShng: 20 (1.4%)\n",
      "  ImStucc: 10 (0.7%)\n",
      "  Brk Cmn: 7 (0.5%)\n",
      "  Stone: 5 (0.3%)\n",
      "  AsphShn: 3 (0.2%)\n",
      "  Other: 1 (0.1%)\n",
      "  CBlock: 1 (0.1%)\n",
      "\n",
      "Test Value Distribution:\n",
      "  VinylSd: 510 (35.0%)\n",
      "  MetalSd: 233 (16.0%)\n",
      "  HdBoard: 199 (13.6%)\n",
      "  Wd Sdng: 194 (13.3%)\n",
      "  Plywood: 128 (8.8%)\n",
      "  CmentBd: 66 (4.5%)\n",
      "  Wd Shng: 43 (2.9%)\n",
      "  BrkFace: 22 (1.5%)\n",
      "  Stucco: 21 (1.4%)\n",
      "  AsbShng: 18 (1.2%)\n",
      "  Brk Cmn: 15 (1.0%)\n",
      "  ImStucc: 5 (0.3%)\n",
      "  CBlock: 2 (0.1%)\n",
      "  AsphShn: 1 (0.1%)\n",
      "  Stone: 1 (0.1%)\n",
      "\n",
      "Combined Value Distribution:\n",
      "  VinylSd: 1014 (34.8%)\n",
      "  MetalSd: 447 (15.3%)\n",
      "  HdBoard: 406 (13.9%)\n",
      "  Wd Sdng: 391 (13.4%)\n",
      "  Plywood: 270 (9.3%)\n",
      "  CmentBd: 125 (4.3%)\n",
      "  Wd Shng: 81 (2.8%)\n",
      "  BrkFace: 47 (1.6%)\n",
      "  Stucco: 46 (1.6%)\n",
      "  AsbShng: 38 (1.3%)\n",
      "  Brk Cmn: 22 (0.8%)\n",
      "  ImStucc: 15 (0.5%)\n",
      "  Stone: 6 (0.2%)\n",
      "  AsphShn: 4 (0.1%)\n",
      "  CBlock: 3 (0.1%)\n",
      "  Other: 1 (0.0%)\n"
     ]
    }
   ],
   "source": [
    "analyze_feature_missing_data('Exterior2nd')"
   ]
  },
  {
   "cell_type": "code",
   "execution_count": 74,
   "metadata": {},
   "outputs": [],
   "source": [
    "# Replace typos in Exterior2nd\n",
    "\n",
    "# Strip whitespaces \n",
    "df_combined['Exterior2nd'] = df_combined['Exterior2nd'].str.strip()\n",
    "\n",
    "replace_map = {\n",
    "    'BrkComm': 'Brk Cmn',\n",
    "    'CemntBd': 'CmentBd',\n",
    "    'WdShing': 'Wd Shng'\n",
    "}\n",
    "\n",
    "df_combined['Exterior2nd'] = df_combined['Exterior2nd'].replace(replace_map)\n"
   ]
  },
  {
   "cell_type": "code",
   "execution_count": 75,
   "metadata": {},
   "outputs": [
    {
     "name": "stdout",
     "output_type": "stream",
     "text": [
      "Missing values in Exterior2nd after filling with VinylSd: 0\n"
     ]
    }
   ],
   "source": [
    "# Fill missing Exterior2nd with the mode from the training set, VinylSd\n",
    "df_combined['Exterior2nd'].fillna('VinylSd', inplace=True)\n",
    "print('Missing values in Exterior2nd after filling with VinylSd:', df_combined['Exterior2nd'].isnull().sum())\n"
   ]
  },
  {
   "cell_type": "markdown",
   "metadata": {},
   "source": [
    "#### Exterior1st"
   ]
  },
  {
   "cell_type": "code",
   "execution_count": 76,
   "metadata": {},
   "outputs": [
    {
     "name": "stdout",
     "output_type": "stream",
     "text": [
      "\n",
      "Exterior1st\n",
      "------------------------------------------------------------\n",
      "Total Missing: 1 values (0.0%)\n",
      "  Train: 0 missing (0.0%)\n",
      "  Test: 1 missing (0.1%)\n",
      "  Combined: 1 missing (0.0%)\n",
      "Feature: Exterior1st\n",
      "Description: Exterior covering on house\n",
      "Type: Categorical\n",
      "\n",
      "Categories:\n",
      "  AsbShng: Asbestos Shingles\n",
      "  AsphShn: Asphalt Shingles\n",
      "  BrkComm: Brick Common\n",
      "  BrkFace: Brick Face\n",
      "  CBlock: Cinder Block\n",
      "  CemntBd: Cement Board\n",
      "  HdBoard: Hard Board\n",
      "  ImStucc: Imitation Stucco\n",
      "  MetalSd: Metal Siding\n",
      "  Other: Other\n",
      "  Plywood: Plywood\n",
      "  PreCast: PreCast\n",
      "  Stone: Stone\n",
      "  Stucco: Stucco\n",
      "  VinylSd: Vinyl Siding\n",
      "  Wd Sdng: Wood Siding\n",
      "  WdShing: Wood Shingles\n",
      "------------------------------------------------------------\n",
      "\n",
      "Data type: Categorical\n",
      "\n",
      "Train Value Distribution:\n",
      "  VinylSd: 515 (35.3%)\n",
      "  HdBoard: 222 (15.2%)\n",
      "  MetalSd: 220 (15.1%)\n",
      "  Wd Sdng: 206 (14.1%)\n",
      "  Plywood: 108 (7.4%)\n",
      "  CemntBd: 60 (4.1%)\n",
      "  BrkFace: 50 (3.4%)\n",
      "  WdShing: 26 (1.8%)\n",
      "  Stucco: 24 (1.6%)\n",
      "  AsbShng: 20 (1.4%)\n",
      "  BrkComm: 2 (0.1%)\n",
      "  Stone: 2 (0.1%)\n",
      "  AsphShn: 1 (0.1%)\n",
      "  ImStucc: 1 (0.1%)\n",
      "  CBlock: 1 (0.1%)\n",
      "\n",
      "Test Value Distribution:\n",
      "  VinylSd: 510 (35.0%)\n",
      "  MetalSd: 230 (15.8%)\n",
      "  HdBoard: 220 (15.1%)\n",
      "  Wd Sdng: 205 (14.1%)\n",
      "  Plywood: 113 (7.8%)\n",
      "  CemntBd: 65 (4.5%)\n",
      "  BrkFace: 37 (2.5%)\n",
      "  WdShing: 30 (2.1%)\n",
      "  AsbShng: 24 (1.6%)\n",
      "  Stucco: 18 (1.2%)\n",
      "  BrkComm: 4 (0.3%)\n",
      "  AsphShn: 1 (0.1%)\n",
      "  CBlock: 1 (0.1%)\n",
      "\n",
      "Combined Value Distribution:\n",
      "  VinylSd: 1025 (35.2%)\n",
      "  MetalSd: 450 (15.4%)\n",
      "  HdBoard: 442 (15.2%)\n",
      "  Wd Sdng: 411 (14.1%)\n",
      "  Plywood: 221 (7.6%)\n",
      "  CemntBd: 125 (4.3%)\n",
      "  BrkFace: 87 (3.0%)\n",
      "  WdShing: 56 (1.9%)\n",
      "  AsbShng: 44 (1.5%)\n",
      "  Stucco: 42 (1.4%)\n",
      "  BrkComm: 6 (0.2%)\n",
      "  AsphShn: 2 (0.1%)\n",
      "  Stone: 2 (0.1%)\n",
      "  CBlock: 2 (0.1%)\n",
      "  ImStucc: 1 (0.0%)\n"
     ]
    }
   ],
   "source": [
    "analyze_feature_missing_data('Exterior1st')"
   ]
  },
  {
   "cell_type": "code",
   "execution_count": 77,
   "metadata": {},
   "outputs": [],
   "source": [
    "# Replace the same typos in Exterior1st\n",
    "\n",
    "# Strip whitespaces \n",
    "df_combined['Exterior1st'] = df_combined['Exterior1st'].str.strip()\n",
    "\n",
    "\n",
    "df_combined['Exterior1st'] = df_combined['Exterior1st'].replace(replace_map)"
   ]
  },
  {
   "cell_type": "code",
   "execution_count": 78,
   "metadata": {},
   "outputs": [
    {
     "name": "stdout",
     "output_type": "stream",
     "text": [
      "Missing values in Exterior1st after filling with VinylSd: 0\n"
     ]
    }
   ],
   "source": [
    "# Fill missing Exterior1st with the mode from the training set, VinylSd\n",
    "df_combined['Exterior1st'].fillna('VinylSd', inplace=True)\n",
    "print('Missing values in Exterior1st after filling with VinylSd:', df_combined['Exterior1st'].isnull().sum())"
   ]
  },
  {
   "cell_type": "markdown",
   "metadata": {},
   "source": [
    "#### SaleType"
   ]
  },
  {
   "cell_type": "code",
   "execution_count": 79,
   "metadata": {},
   "outputs": [
    {
     "name": "stdout",
     "output_type": "stream",
     "text": [
      "\n",
      "SaleType\n",
      "------------------------------------------------------------\n",
      "Total Missing: 1 values (0.0%)\n",
      "  Train: 0 missing (0.0%)\n",
      "  Test: 1 missing (0.1%)\n",
      "  Combined: 1 missing (0.0%)\n",
      "Feature: SaleType\n",
      "Description: Type of sale\n",
      "Type: Categorical\n",
      "\n",
      "Categories:\n",
      "  WD: Warranty Deed - Conventional\n",
      "  CWD: Warranty Deed - Cash\n",
      "  VWD: Warranty Deed - VA Loan\n",
      "  New: Home just constructed and sold\n",
      "  COD: Court Officer Deed/Estate\n",
      "  Con: Contract 15% Down payment regular terms\n",
      "  ConLw: Contract Low Down payment and low interest\n",
      "  ConLI: Contract Low Interest\n",
      "  ConLD: Contract Low Down\n",
      "  Oth: Other\n",
      "------------------------------------------------------------\n",
      "\n",
      "Data type: Categorical\n",
      "\n",
      "Train Value Distribution:\n",
      "  WD: 1267 (86.9%)\n",
      "  New: 120 (8.2%)\n",
      "  COD: 43 (2.9%)\n",
      "  ConLD: 9 (0.6%)\n",
      "  ConLI: 5 (0.3%)\n",
      "  ConLw: 5 (0.3%)\n",
      "  CWD: 4 (0.3%)\n",
      "  Oth: 3 (0.2%)\n",
      "  Con: 2 (0.1%)\n",
      "\n",
      "Test Value Distribution:\n",
      "  WD: 1258 (86.3%)\n",
      "  New: 117 (8.0%)\n",
      "  COD: 44 (3.0%)\n",
      "  ConLD: 17 (1.2%)\n",
      "  CWD: 8 (0.5%)\n",
      "  Oth: 4 (0.3%)\n",
      "  ConLI: 4 (0.3%)\n",
      "  Con: 3 (0.2%)\n",
      "  ConLw: 3 (0.2%)\n",
      "\n",
      "Combined Value Distribution:\n",
      "  WD: 2525 (86.6%)\n",
      "  New: 237 (8.1%)\n",
      "  COD: 87 (3.0%)\n",
      "  ConLD: 26 (0.9%)\n",
      "  CWD: 12 (0.4%)\n",
      "  ConLI: 9 (0.3%)\n",
      "  ConLw: 8 (0.3%)\n",
      "  Oth: 7 (0.2%)\n",
      "  Con: 5 (0.2%)\n"
     ]
    }
   ],
   "source": [
    "analyze_feature_missing_data('SaleType')"
   ]
  },
  {
   "cell_type": "code",
   "execution_count": 80,
   "metadata": {},
   "outputs": [
    {
     "name": "stdout",
     "output_type": "stream",
     "text": [
      "Missing values in SaleType after filling with WD: 0\n"
     ]
    }
   ],
   "source": [
    "# Fill missing SaleType with the mode from the training set, WD\n",
    "df_combined['SaleType'].fillna('WD', inplace=True)\n",
    "print('Missing values in SaleType after filling with WD:', df_combined['SaleType'].isnull().sum())"
   ]
  },
  {
   "cell_type": "markdown",
   "metadata": {},
   "source": [
    "### 4.3 Missing Data Validation\n",
    "\n",
    "Verify that the systematic treatment approach has eliminated all missing data across all features."
   ]
  },
  {
   "cell_type": "code",
   "execution_count": 81,
   "metadata": {},
   "outputs": [
    {
     "name": "stdout",
     "output_type": "stream",
     "text": [
      "Missing data summary:\n",
      "Total features: 80\n",
      "Features with missing values: 0\n",
      "Total missing values: 0\n",
      "No missing values remaining in dataset\n"
     ]
    }
   ],
   "source": [
    "all_missing = df_combined.drop('dataset_source', axis=1).isnull().sum()\n",
    "remaining_missing = all_missing[all_missing > 0].sort_values(ascending=False)\n",
    "\n",
    "print(f\"Missing data summary:\")\n",
    "print(f\"Total features: {len(all_missing)}\")\n",
    "print(f\"Features with missing values: {len(remaining_missing)}\")\n",
    "print(f\"Total missing values: {remaining_missing.sum()}\")\n",
    "\n",
    "if len(remaining_missing) == 0:\n",
    "    print(\"No missing values remaining in dataset\")\n",
    "else:\n",
    "    print(f\"\\nRemaining missing values:\")\n",
    "    for feature, count in remaining_missing.items():\n",
    "        pct = (count / len(df_combined)) * 100\n",
    "        print(f\"  {feature}: {count} ({pct:.2f}%)\")"
   ]
  },
  {
   "cell_type": "markdown",
   "metadata": {},
   "source": [
    "Final validation confirms systematic approach has successfully eliminated all missing values."
   ]
  },
  {
   "cell_type": "markdown",
   "metadata": {},
   "source": [
    "## 5. Data Quality Corrections\n",
    "\n",
    "Address data quality issues identified through systematic validation by loading and analyzing logged quality issues to determine appropriate corrections.\n",
    "\n",
    "### 5.1 Import Data Quality Issues\n",
    "\n",
    "Load data quality issues\n"
   ]
  },
  {
   "cell_type": "code",
   "execution_count": 82,
   "metadata": {},
   "outputs": [
    {
     "data": {
      "text/html": [
       "<style type=\"text/css\">\n",
       "</style>\n",
       "<table id=\"T_8f1e7\">\n",
       "  <thead>\n",
       "    <tr>\n",
       "      <th id=\"T_8f1e7_level0_col0\" class=\"col_heading level0 col0\" >Id</th>\n",
       "      <th id=\"T_8f1e7_level0_col1\" class=\"col_heading level0 col1\" >Issue</th>\n",
       "      <th id=\"T_8f1e7_level0_col2\" class=\"col_heading level0 col2\" >IssueCount</th>\n",
       "    </tr>\n",
       "  </thead>\n",
       "  <tbody>\n",
       "    <tr>\n",
       "      <td id=\"T_8f1e7_row0_col0\" class=\"data row0 col0\" >2550</td>\n",
       "      <td id=\"T_8f1e7_row0_col1\" class=\"data row0 col1\" >Construction year is after the house was sold</td>\n",
       "      <td id=\"T_8f1e7_row0_col2\" class=\"data row0 col2\" >4</td>\n",
       "    </tr>\n",
       "    <tr>\n",
       "      <td id=\"T_8f1e7_row1_col0\" class=\"data row1 col0\" >2550</td>\n",
       "      <td id=\"T_8f1e7_row1_col1\" class=\"data row1 col1\" >Garage built after the house was sold</td>\n",
       "      <td id=\"T_8f1e7_row1_col2\" class=\"data row1 col2\" >4</td>\n",
       "    </tr>\n",
       "    <tr>\n",
       "      <td id=\"T_8f1e7_row2_col0\" class=\"data row2 col0\" >2550</td>\n",
       "      <td id=\"T_8f1e7_row2_col1\" class=\"data row2 col1\" >MiscVal > 0 but MiscFeature is missing</td>\n",
       "      <td id=\"T_8f1e7_row2_col2\" class=\"data row2 col2\" >4</td>\n",
       "    </tr>\n",
       "    <tr>\n",
       "      <td id=\"T_8f1e7_row3_col0\" class=\"data row3 col0\" >2550</td>\n",
       "      <td id=\"T_8f1e7_row3_col1\" class=\"data row3 col1\" >Remodel date is after the house was sold</td>\n",
       "      <td id=\"T_8f1e7_row3_col2\" class=\"data row3 col2\" >4</td>\n",
       "    </tr>\n",
       "    <tr>\n",
       "      <td id=\"T_8f1e7_row4_col0\" class=\"data row4 col0\" >2218</td>\n",
       "      <td id=\"T_8f1e7_row4_col1\" class=\"data row4 col1\" >Basement has area but BsmtQual is missing</td>\n",
       "      <td id=\"T_8f1e7_row4_col2\" class=\"data row4 col2\" >1</td>\n",
       "    </tr>\n",
       "    <tr>\n",
       "      <td id=\"T_8f1e7_row5_col0\" class=\"data row5 col0\" >2219</td>\n",
       "      <td id=\"T_8f1e7_row5_col1\" class=\"data row5 col1\" >Basement has area but BsmtQual is missing</td>\n",
       "      <td id=\"T_8f1e7_row5_col2\" class=\"data row5 col2\" >1</td>\n",
       "    </tr>\n",
       "    <tr>\n",
       "      <td id=\"T_8f1e7_row6_col0\" class=\"data row6 col0\" >2593</td>\n",
       "      <td id=\"T_8f1e7_row6_col1\" class=\"data row6 col1\" >Garage built after the house was sold</td>\n",
       "      <td id=\"T_8f1e7_row6_col2\" class=\"data row6 col2\" >1</td>\n",
       "    </tr>\n",
       "    <tr>\n",
       "      <td id=\"T_8f1e7_row7_col0\" class=\"data row7 col0\" >30</td>\n",
       "      <td id=\"T_8f1e7_row7_col1\" class=\"data row7 col1\" >Garage built before the house</td>\n",
       "      <td id=\"T_8f1e7_row7_col2\" class=\"data row7 col2\" >1</td>\n",
       "    </tr>\n",
       "    <tr>\n",
       "      <td id=\"T_8f1e7_row8_col0\" class=\"data row8 col0\" >94</td>\n",
       "      <td id=\"T_8f1e7_row8_col1\" class=\"data row8 col1\" >Garage built before the house</td>\n",
       "      <td id=\"T_8f1e7_row8_col2\" class=\"data row8 col2\" >1</td>\n",
       "    </tr>\n",
       "    <tr>\n",
       "      <td id=\"T_8f1e7_row9_col0\" class=\"data row9 col0\" >325</td>\n",
       "      <td id=\"T_8f1e7_row9_col1\" class=\"data row9 col1\" >Garage built before the house</td>\n",
       "      <td id=\"T_8f1e7_row9_col2\" class=\"data row9 col2\" >1</td>\n",
       "    </tr>\n",
       "    <tr>\n",
       "      <td id=\"T_8f1e7_row10_col0\" class=\"data row10 col0\" >601</td>\n",
       "      <td id=\"T_8f1e7_row10_col1\" class=\"data row10 col1\" >Garage built before the house</td>\n",
       "      <td id=\"T_8f1e7_row10_col2\" class=\"data row10 col2\" >1</td>\n",
       "    </tr>\n",
       "    <tr>\n",
       "      <td id=\"T_8f1e7_row11_col0\" class=\"data row11 col0\" >737</td>\n",
       "      <td id=\"T_8f1e7_row11_col1\" class=\"data row11 col1\" >Garage built before the house</td>\n",
       "      <td id=\"T_8f1e7_row11_col2\" class=\"data row11 col2\" >1</td>\n",
       "    </tr>\n",
       "    <tr>\n",
       "      <td id=\"T_8f1e7_row12_col0\" class=\"data row12 col0\" >1104</td>\n",
       "      <td id=\"T_8f1e7_row12_col1\" class=\"data row12 col1\" >Garage built before the house</td>\n",
       "      <td id=\"T_8f1e7_row12_col2\" class=\"data row12 col2\" >1</td>\n",
       "    </tr>\n",
       "    <tr>\n",
       "      <td id=\"T_8f1e7_row13_col0\" class=\"data row13 col0\" >1377</td>\n",
       "      <td id=\"T_8f1e7_row13_col1\" class=\"data row13 col1\" >Garage built before the house</td>\n",
       "      <td id=\"T_8f1e7_row13_col2\" class=\"data row13 col2\" >1</td>\n",
       "    </tr>\n",
       "    <tr>\n",
       "      <td id=\"T_8f1e7_row14_col0\" class=\"data row14 col0\" >1415</td>\n",
       "      <td id=\"T_8f1e7_row14_col1\" class=\"data row14 col1\" >Garage built before the house</td>\n",
       "      <td id=\"T_8f1e7_row14_col2\" class=\"data row14 col2\" >1</td>\n",
       "    </tr>\n",
       "    <tr>\n",
       "      <td id=\"T_8f1e7_row15_col0\" class=\"data row15 col0\" >1419</td>\n",
       "      <td id=\"T_8f1e7_row15_col1\" class=\"data row15 col1\" >Garage built before the house</td>\n",
       "      <td id=\"T_8f1e7_row15_col2\" class=\"data row15 col2\" >1</td>\n",
       "    </tr>\n",
       "    <tr>\n",
       "      <td id=\"T_8f1e7_row16_col0\" class=\"data row16 col0\" >1522</td>\n",
       "      <td id=\"T_8f1e7_row16_col1\" class=\"data row16 col1\" >Garage built before the house</td>\n",
       "      <td id=\"T_8f1e7_row16_col2\" class=\"data row16 col2\" >1</td>\n",
       "    </tr>\n",
       "    <tr>\n",
       "      <td id=\"T_8f1e7_row17_col0\" class=\"data row17 col0\" >1577</td>\n",
       "      <td id=\"T_8f1e7_row17_col1\" class=\"data row17 col1\" >Garage built before the house</td>\n",
       "      <td id=\"T_8f1e7_row17_col2\" class=\"data row17 col2\" >1</td>\n",
       "    </tr>\n",
       "    <tr>\n",
       "      <td id=\"T_8f1e7_row18_col0\" class=\"data row18 col0\" >1806</td>\n",
       "      <td id=\"T_8f1e7_row18_col1\" class=\"data row18 col1\" >Garage built before the house</td>\n",
       "      <td id=\"T_8f1e7_row18_col2\" class=\"data row18 col2\" >1</td>\n",
       "    </tr>\n",
       "    <tr>\n",
       "      <td id=\"T_8f1e7_row19_col0\" class=\"data row19 col0\" >1841</td>\n",
       "      <td id=\"T_8f1e7_row19_col1\" class=\"data row19 col1\" >Garage built before the house</td>\n",
       "      <td id=\"T_8f1e7_row19_col2\" class=\"data row19 col2\" >1</td>\n",
       "    </tr>\n",
       "    <tr>\n",
       "      <td id=\"T_8f1e7_row20_col0\" class=\"data row20 col0\" >1896</td>\n",
       "      <td id=\"T_8f1e7_row20_col1\" class=\"data row20 col1\" >Garage built before the house</td>\n",
       "      <td id=\"T_8f1e7_row20_col2\" class=\"data row20 col2\" >1</td>\n",
       "    </tr>\n",
       "    <tr>\n",
       "      <td id=\"T_8f1e7_row21_col0\" class=\"data row21 col0\" >1898</td>\n",
       "      <td id=\"T_8f1e7_row21_col1\" class=\"data row21 col1\" >Garage built before the house</td>\n",
       "      <td id=\"T_8f1e7_row21_col2\" class=\"data row21 col2\" >1</td>\n",
       "    </tr>\n",
       "    <tr>\n",
       "      <td id=\"T_8f1e7_row22_col0\" class=\"data row22 col0\" >2123</td>\n",
       "      <td id=\"T_8f1e7_row22_col1\" class=\"data row22 col1\" >Garage built before the house</td>\n",
       "      <td id=\"T_8f1e7_row22_col2\" class=\"data row22 col2\" >1</td>\n",
       "    </tr>\n",
       "    <tr>\n",
       "      <td id=\"T_8f1e7_row23_col0\" class=\"data row23 col0\" >2264</td>\n",
       "      <td id=\"T_8f1e7_row23_col1\" class=\"data row23 col1\" >Garage built before the house</td>\n",
       "      <td id=\"T_8f1e7_row23_col2\" class=\"data row23 col2\" >1</td>\n",
       "    </tr>\n",
       "    <tr>\n",
       "      <td id=\"T_8f1e7_row24_col0\" class=\"data row24 col0\" >2510</td>\n",
       "      <td id=\"T_8f1e7_row24_col1\" class=\"data row24 col1\" >Garage built before the house</td>\n",
       "      <td id=\"T_8f1e7_row24_col2\" class=\"data row24 col2\" >1</td>\n",
       "    </tr>\n",
       "    <tr>\n",
       "      <td id=\"T_8f1e7_row25_col0\" class=\"data row25 col0\" >955</td>\n",
       "      <td id=\"T_8f1e7_row25_col1\" class=\"data row25 col1\" >No kitchen above grade</td>\n",
       "      <td id=\"T_8f1e7_row25_col2\" class=\"data row25 col2\" >1</td>\n",
       "    </tr>\n",
       "    <tr>\n",
       "      <td id=\"T_8f1e7_row26_col0\" class=\"data row26 col0\" >2588</td>\n",
       "      <td id=\"T_8f1e7_row26_col1\" class=\"data row26 col1\" >No kitchen above grade</td>\n",
       "      <td id=\"T_8f1e7_row26_col2\" class=\"data row26 col2\" >1</td>\n",
       "    </tr>\n",
       "    <tr>\n",
       "      <td id=\"T_8f1e7_row27_col0\" class=\"data row27 col0\" >2860</td>\n",
       "      <td id=\"T_8f1e7_row27_col1\" class=\"data row27 col1\" >No kitchen above grade</td>\n",
       "      <td id=\"T_8f1e7_row27_col2\" class=\"data row27 col2\" >1</td>\n",
       "    </tr>\n",
       "    <tr>\n",
       "      <td id=\"T_8f1e7_row28_col0\" class=\"data row28 col0\" >2421</td>\n",
       "      <td id=\"T_8f1e7_row28_col1\" class=\"data row28 col1\" >Pool has area but PoolQC is missing</td>\n",
       "      <td id=\"T_8f1e7_row28_col2\" class=\"data row28 col2\" >1</td>\n",
       "    </tr>\n",
       "    <tr>\n",
       "      <td id=\"T_8f1e7_row29_col0\" class=\"data row29 col0\" >2504</td>\n",
       "      <td id=\"T_8f1e7_row29_col1\" class=\"data row29 col1\" >Pool has area but PoolQC is missing</td>\n",
       "      <td id=\"T_8f1e7_row29_col2\" class=\"data row29 col2\" >1</td>\n",
       "    </tr>\n",
       "    <tr>\n",
       "      <td id=\"T_8f1e7_row30_col0\" class=\"data row30 col0\" >2600</td>\n",
       "      <td id=\"T_8f1e7_row30_col1\" class=\"data row30 col1\" >Pool has area but PoolQC is missing</td>\n",
       "      <td id=\"T_8f1e7_row30_col2\" class=\"data row30 col2\" >1</td>\n",
       "    </tr>\n",
       "    <tr>\n",
       "      <td id=\"T_8f1e7_row31_col0\" class=\"data row31 col0\" >1877</td>\n",
       "      <td id=\"T_8f1e7_row31_col1\" class=\"data row31 col1\" >Remodel date before construction year</td>\n",
       "      <td id=\"T_8f1e7_row31_col2\" class=\"data row31 col2\" >1</td>\n",
       "    </tr>\n",
       "    <tr>\n",
       "      <td id=\"T_8f1e7_row32_col0\" class=\"data row32 col0\" >524</td>\n",
       "      <td id=\"T_8f1e7_row32_col1\" class=\"data row32 col1\" >Remodel date is after the house was sold</td>\n",
       "      <td id=\"T_8f1e7_row32_col2\" class=\"data row32 col2\" >1</td>\n",
       "    </tr>\n",
       "    <tr>\n",
       "      <td id=\"T_8f1e7_row33_col0\" class=\"data row33 col0\" >2296</td>\n",
       "      <td id=\"T_8f1e7_row33_col1\" class=\"data row33 col1\" >Remodel date is after the house was sold</td>\n",
       "      <td id=\"T_8f1e7_row33_col2\" class=\"data row33 col2\" >1</td>\n",
       "    </tr>\n",
       "  </tbody>\n",
       "</table>\n"
      ],
      "text/plain": [
       "<pandas.io.formats.style.Styler at 0x1347f16d0>"
      ]
     },
     "metadata": {},
     "output_type": "display_data"
    }
   ],
   "source": [
    "# Load the data quality issues\n",
    "df_issues = pd.read_csv(\"../data/logs/data_quality_issues.csv\")\n",
    "\n",
    "# First, sort by IssueCount, then by Issue\n",
    "df_issues_sorted = df_issues.sort_values(by=[\"IssueCount\", \"Issue\"], ascending=[False, True])\n",
    "\n",
    "# Display\n",
    "pd.set_option('display.max_rows', None)\n",
    "display(df_issues_sorted.style.hide(axis=\"index\"))\n"
   ]
  },
  {
   "cell_type": "markdown",
   "metadata": {},
   "source": [
    "### 5.2 House with ID 2250\n",
    "\n",
    "Look at the different features of the house with ID 2250 to understand the nature of the data quality issues."
   ]
  },
  {
   "cell_type": "code",
   "execution_count": 83,
   "metadata": {},
   "outputs": [
    {
     "data": {
      "text/html": [
       "<style type=\"text/css\">\n",
       "</style>\n",
       "<table id=\"T_34fb9\">\n",
       "  <thead>\n",
       "  </thead>\n",
       "  <tbody>\n",
       "    <tr>\n",
       "      <th id=\"T_34fb9_level0_row0\" class=\"row_heading level0 row0\" >Id</th>\n",
       "      <td id=\"T_34fb9_row0_col0\" class=\"data row0 col0\" >2550</td>\n",
       "    </tr>\n",
       "    <tr>\n",
       "      <th id=\"T_34fb9_level0_row1\" class=\"row_heading level0 row1\" >MSSubClass</th>\n",
       "      <td id=\"T_34fb9_row1_col0\" class=\"data row1 col0\" >20</td>\n",
       "    </tr>\n",
       "    <tr>\n",
       "      <th id=\"T_34fb9_level0_row2\" class=\"row_heading level0 row2\" >MSZoning</th>\n",
       "      <td id=\"T_34fb9_row2_col0\" class=\"data row2 col0\" >RL</td>\n",
       "    </tr>\n",
       "    <tr>\n",
       "      <th id=\"T_34fb9_level0_row3\" class=\"row_heading level0 row3\" >LotFrontage</th>\n",
       "      <td id=\"T_34fb9_row3_col0\" class=\"data row3 col0\" >128.000000</td>\n",
       "    </tr>\n",
       "    <tr>\n",
       "      <th id=\"T_34fb9_level0_row4\" class=\"row_heading level0 row4\" >LotArea</th>\n",
       "      <td id=\"T_34fb9_row4_col0\" class=\"data row4 col0\" >39290</td>\n",
       "    </tr>\n",
       "    <tr>\n",
       "      <th id=\"T_34fb9_level0_row5\" class=\"row_heading level0 row5\" >Street</th>\n",
       "      <td id=\"T_34fb9_row5_col0\" class=\"data row5 col0\" >Pave</td>\n",
       "    </tr>\n",
       "    <tr>\n",
       "      <th id=\"T_34fb9_level0_row6\" class=\"row_heading level0 row6\" >Alley</th>\n",
       "      <td id=\"T_34fb9_row6_col0\" class=\"data row6 col0\" >None</td>\n",
       "    </tr>\n",
       "    <tr>\n",
       "      <th id=\"T_34fb9_level0_row7\" class=\"row_heading level0 row7\" >LotShape</th>\n",
       "      <td id=\"T_34fb9_row7_col0\" class=\"data row7 col0\" >IR1</td>\n",
       "    </tr>\n",
       "    <tr>\n",
       "      <th id=\"T_34fb9_level0_row8\" class=\"row_heading level0 row8\" >LandContour</th>\n",
       "      <td id=\"T_34fb9_row8_col0\" class=\"data row8 col0\" >Bnk</td>\n",
       "    </tr>\n",
       "    <tr>\n",
       "      <th id=\"T_34fb9_level0_row9\" class=\"row_heading level0 row9\" >Utilities</th>\n",
       "      <td id=\"T_34fb9_row9_col0\" class=\"data row9 col0\" >AllPub</td>\n",
       "    </tr>\n",
       "    <tr>\n",
       "      <th id=\"T_34fb9_level0_row10\" class=\"row_heading level0 row10\" >LotConfig</th>\n",
       "      <td id=\"T_34fb9_row10_col0\" class=\"data row10 col0\" >Inside</td>\n",
       "    </tr>\n",
       "    <tr>\n",
       "      <th id=\"T_34fb9_level0_row11\" class=\"row_heading level0 row11\" >LandSlope</th>\n",
       "      <td id=\"T_34fb9_row11_col0\" class=\"data row11 col0\" >Gtl</td>\n",
       "    </tr>\n",
       "    <tr>\n",
       "      <th id=\"T_34fb9_level0_row12\" class=\"row_heading level0 row12\" >Neighborhood</th>\n",
       "      <td id=\"T_34fb9_row12_col0\" class=\"data row12 col0\" >Edwards</td>\n",
       "    </tr>\n",
       "    <tr>\n",
       "      <th id=\"T_34fb9_level0_row13\" class=\"row_heading level0 row13\" >Condition1</th>\n",
       "      <td id=\"T_34fb9_row13_col0\" class=\"data row13 col0\" >Norm</td>\n",
       "    </tr>\n",
       "    <tr>\n",
       "      <th id=\"T_34fb9_level0_row14\" class=\"row_heading level0 row14\" >Condition2</th>\n",
       "      <td id=\"T_34fb9_row14_col0\" class=\"data row14 col0\" >Norm</td>\n",
       "    </tr>\n",
       "    <tr>\n",
       "      <th id=\"T_34fb9_level0_row15\" class=\"row_heading level0 row15\" >BldgType</th>\n",
       "      <td id=\"T_34fb9_row15_col0\" class=\"data row15 col0\" >1Fam</td>\n",
       "    </tr>\n",
       "    <tr>\n",
       "      <th id=\"T_34fb9_level0_row16\" class=\"row_heading level0 row16\" >HouseStyle</th>\n",
       "      <td id=\"T_34fb9_row16_col0\" class=\"data row16 col0\" >1Story</td>\n",
       "    </tr>\n",
       "    <tr>\n",
       "      <th id=\"T_34fb9_level0_row17\" class=\"row_heading level0 row17\" >OverallQual</th>\n",
       "      <td id=\"T_34fb9_row17_col0\" class=\"data row17 col0\" >10</td>\n",
       "    </tr>\n",
       "    <tr>\n",
       "      <th id=\"T_34fb9_level0_row18\" class=\"row_heading level0 row18\" >OverallCond</th>\n",
       "      <td id=\"T_34fb9_row18_col0\" class=\"data row18 col0\" >5</td>\n",
       "    </tr>\n",
       "    <tr>\n",
       "      <th id=\"T_34fb9_level0_row19\" class=\"row_heading level0 row19\" >YearBuilt</th>\n",
       "      <td id=\"T_34fb9_row19_col0\" class=\"data row19 col0\" >2008</td>\n",
       "    </tr>\n",
       "    <tr>\n",
       "      <th id=\"T_34fb9_level0_row20\" class=\"row_heading level0 row20\" >YearRemodAdd</th>\n",
       "      <td id=\"T_34fb9_row20_col0\" class=\"data row20 col0\" >2009</td>\n",
       "    </tr>\n",
       "    <tr>\n",
       "      <th id=\"T_34fb9_level0_row21\" class=\"row_heading level0 row21\" >RoofStyle</th>\n",
       "      <td id=\"T_34fb9_row21_col0\" class=\"data row21 col0\" >Hip</td>\n",
       "    </tr>\n",
       "    <tr>\n",
       "      <th id=\"T_34fb9_level0_row22\" class=\"row_heading level0 row22\" >RoofMatl</th>\n",
       "      <td id=\"T_34fb9_row22_col0\" class=\"data row22 col0\" >CompShg</td>\n",
       "    </tr>\n",
       "    <tr>\n",
       "      <th id=\"T_34fb9_level0_row23\" class=\"row_heading level0 row23\" >Exterior1st</th>\n",
       "      <td id=\"T_34fb9_row23_col0\" class=\"data row23 col0\" >CmentBd</td>\n",
       "    </tr>\n",
       "    <tr>\n",
       "      <th id=\"T_34fb9_level0_row24\" class=\"row_heading level0 row24\" >Exterior2nd</th>\n",
       "      <td id=\"T_34fb9_row24_col0\" class=\"data row24 col0\" >CmentBd</td>\n",
       "    </tr>\n",
       "    <tr>\n",
       "      <th id=\"T_34fb9_level0_row25\" class=\"row_heading level0 row25\" >MasVnrType</th>\n",
       "      <td id=\"T_34fb9_row25_col0\" class=\"data row25 col0\" >Stone</td>\n",
       "    </tr>\n",
       "    <tr>\n",
       "      <th id=\"T_34fb9_level0_row26\" class=\"row_heading level0 row26\" >MasVnrArea</th>\n",
       "      <td id=\"T_34fb9_row26_col0\" class=\"data row26 col0\" >1224.000000</td>\n",
       "    </tr>\n",
       "    <tr>\n",
       "      <th id=\"T_34fb9_level0_row27\" class=\"row_heading level0 row27\" >ExterQual</th>\n",
       "      <td id=\"T_34fb9_row27_col0\" class=\"data row27 col0\" >Ex</td>\n",
       "    </tr>\n",
       "    <tr>\n",
       "      <th id=\"T_34fb9_level0_row28\" class=\"row_heading level0 row28\" >ExterCond</th>\n",
       "      <td id=\"T_34fb9_row28_col0\" class=\"data row28 col0\" >TA</td>\n",
       "    </tr>\n",
       "    <tr>\n",
       "      <th id=\"T_34fb9_level0_row29\" class=\"row_heading level0 row29\" >Foundation</th>\n",
       "      <td id=\"T_34fb9_row29_col0\" class=\"data row29 col0\" >PConc</td>\n",
       "    </tr>\n",
       "    <tr>\n",
       "      <th id=\"T_34fb9_level0_row30\" class=\"row_heading level0 row30\" >BsmtQual</th>\n",
       "      <td id=\"T_34fb9_row30_col0\" class=\"data row30 col0\" >Ex</td>\n",
       "    </tr>\n",
       "    <tr>\n",
       "      <th id=\"T_34fb9_level0_row31\" class=\"row_heading level0 row31\" >BsmtCond</th>\n",
       "      <td id=\"T_34fb9_row31_col0\" class=\"data row31 col0\" >TA</td>\n",
       "    </tr>\n",
       "    <tr>\n",
       "      <th id=\"T_34fb9_level0_row32\" class=\"row_heading level0 row32\" >BsmtExposure</th>\n",
       "      <td id=\"T_34fb9_row32_col0\" class=\"data row32 col0\" >Gd</td>\n",
       "    </tr>\n",
       "    <tr>\n",
       "      <th id=\"T_34fb9_level0_row33\" class=\"row_heading level0 row33\" >BsmtFinType1</th>\n",
       "      <td id=\"T_34fb9_row33_col0\" class=\"data row33 col0\" >GLQ</td>\n",
       "    </tr>\n",
       "    <tr>\n",
       "      <th id=\"T_34fb9_level0_row34\" class=\"row_heading level0 row34\" >BsmtFinSF1</th>\n",
       "      <td id=\"T_34fb9_row34_col0\" class=\"data row34 col0\" >4010.000000</td>\n",
       "    </tr>\n",
       "    <tr>\n",
       "      <th id=\"T_34fb9_level0_row35\" class=\"row_heading level0 row35\" >BsmtFinType2</th>\n",
       "      <td id=\"T_34fb9_row35_col0\" class=\"data row35 col0\" >Unf</td>\n",
       "    </tr>\n",
       "    <tr>\n",
       "      <th id=\"T_34fb9_level0_row36\" class=\"row_heading level0 row36\" >BsmtFinSF2</th>\n",
       "      <td id=\"T_34fb9_row36_col0\" class=\"data row36 col0\" >0.000000</td>\n",
       "    </tr>\n",
       "    <tr>\n",
       "      <th id=\"T_34fb9_level0_row37\" class=\"row_heading level0 row37\" >BsmtUnfSF</th>\n",
       "      <td id=\"T_34fb9_row37_col0\" class=\"data row37 col0\" >1085.000000</td>\n",
       "    </tr>\n",
       "    <tr>\n",
       "      <th id=\"T_34fb9_level0_row38\" class=\"row_heading level0 row38\" >TotalBsmtSF</th>\n",
       "      <td id=\"T_34fb9_row38_col0\" class=\"data row38 col0\" >5095.000000</td>\n",
       "    </tr>\n",
       "    <tr>\n",
       "      <th id=\"T_34fb9_level0_row39\" class=\"row_heading level0 row39\" >Heating</th>\n",
       "      <td id=\"T_34fb9_row39_col0\" class=\"data row39 col0\" >GasA</td>\n",
       "    </tr>\n",
       "    <tr>\n",
       "      <th id=\"T_34fb9_level0_row40\" class=\"row_heading level0 row40\" >HeatingQC</th>\n",
       "      <td id=\"T_34fb9_row40_col0\" class=\"data row40 col0\" >Ex</td>\n",
       "    </tr>\n",
       "    <tr>\n",
       "      <th id=\"T_34fb9_level0_row41\" class=\"row_heading level0 row41\" >CentralAir</th>\n",
       "      <td id=\"T_34fb9_row41_col0\" class=\"data row41 col0\" >Y</td>\n",
       "    </tr>\n",
       "    <tr>\n",
       "      <th id=\"T_34fb9_level0_row42\" class=\"row_heading level0 row42\" >Electrical</th>\n",
       "      <td id=\"T_34fb9_row42_col0\" class=\"data row42 col0\" >SBrkr</td>\n",
       "    </tr>\n",
       "    <tr>\n",
       "      <th id=\"T_34fb9_level0_row43\" class=\"row_heading level0 row43\" >1stFlrSF</th>\n",
       "      <td id=\"T_34fb9_row43_col0\" class=\"data row43 col0\" >5095</td>\n",
       "    </tr>\n",
       "    <tr>\n",
       "      <th id=\"T_34fb9_level0_row44\" class=\"row_heading level0 row44\" >2ndFlrSF</th>\n",
       "      <td id=\"T_34fb9_row44_col0\" class=\"data row44 col0\" >0</td>\n",
       "    </tr>\n",
       "    <tr>\n",
       "      <th id=\"T_34fb9_level0_row45\" class=\"row_heading level0 row45\" >LowQualFinSF</th>\n",
       "      <td id=\"T_34fb9_row45_col0\" class=\"data row45 col0\" >0</td>\n",
       "    </tr>\n",
       "    <tr>\n",
       "      <th id=\"T_34fb9_level0_row46\" class=\"row_heading level0 row46\" >GrLivArea</th>\n",
       "      <td id=\"T_34fb9_row46_col0\" class=\"data row46 col0\" >5095</td>\n",
       "    </tr>\n",
       "    <tr>\n",
       "      <th id=\"T_34fb9_level0_row47\" class=\"row_heading level0 row47\" >BsmtFullBath</th>\n",
       "      <td id=\"T_34fb9_row47_col0\" class=\"data row47 col0\" >1.000000</td>\n",
       "    </tr>\n",
       "    <tr>\n",
       "      <th id=\"T_34fb9_level0_row48\" class=\"row_heading level0 row48\" >BsmtHalfBath</th>\n",
       "      <td id=\"T_34fb9_row48_col0\" class=\"data row48 col0\" >1.000000</td>\n",
       "    </tr>\n",
       "    <tr>\n",
       "      <th id=\"T_34fb9_level0_row49\" class=\"row_heading level0 row49\" >FullBath</th>\n",
       "      <td id=\"T_34fb9_row49_col0\" class=\"data row49 col0\" >2</td>\n",
       "    </tr>\n",
       "    <tr>\n",
       "      <th id=\"T_34fb9_level0_row50\" class=\"row_heading level0 row50\" >HalfBath</th>\n",
       "      <td id=\"T_34fb9_row50_col0\" class=\"data row50 col0\" >1</td>\n",
       "    </tr>\n",
       "    <tr>\n",
       "      <th id=\"T_34fb9_level0_row51\" class=\"row_heading level0 row51\" >BedroomAbvGr</th>\n",
       "      <td id=\"T_34fb9_row51_col0\" class=\"data row51 col0\" >2</td>\n",
       "    </tr>\n",
       "    <tr>\n",
       "      <th id=\"T_34fb9_level0_row52\" class=\"row_heading level0 row52\" >KitchenAbvGr</th>\n",
       "      <td id=\"T_34fb9_row52_col0\" class=\"data row52 col0\" >1</td>\n",
       "    </tr>\n",
       "    <tr>\n",
       "      <th id=\"T_34fb9_level0_row53\" class=\"row_heading level0 row53\" >KitchenQual</th>\n",
       "      <td id=\"T_34fb9_row53_col0\" class=\"data row53 col0\" >Ex</td>\n",
       "    </tr>\n",
       "    <tr>\n",
       "      <th id=\"T_34fb9_level0_row54\" class=\"row_heading level0 row54\" >TotRmsAbvGrd</th>\n",
       "      <td id=\"T_34fb9_row54_col0\" class=\"data row54 col0\" >15</td>\n",
       "    </tr>\n",
       "    <tr>\n",
       "      <th id=\"T_34fb9_level0_row55\" class=\"row_heading level0 row55\" >Functional</th>\n",
       "      <td id=\"T_34fb9_row55_col0\" class=\"data row55 col0\" >Typ</td>\n",
       "    </tr>\n",
       "    <tr>\n",
       "      <th id=\"T_34fb9_level0_row56\" class=\"row_heading level0 row56\" >Fireplaces</th>\n",
       "      <td id=\"T_34fb9_row56_col0\" class=\"data row56 col0\" >2</td>\n",
       "    </tr>\n",
       "    <tr>\n",
       "      <th id=\"T_34fb9_level0_row57\" class=\"row_heading level0 row57\" >FireplaceQu</th>\n",
       "      <td id=\"T_34fb9_row57_col0\" class=\"data row57 col0\" >Gd</td>\n",
       "    </tr>\n",
       "    <tr>\n",
       "      <th id=\"T_34fb9_level0_row58\" class=\"row_heading level0 row58\" >GarageType</th>\n",
       "      <td id=\"T_34fb9_row58_col0\" class=\"data row58 col0\" >Attchd</td>\n",
       "    </tr>\n",
       "    <tr>\n",
       "      <th id=\"T_34fb9_level0_row59\" class=\"row_heading level0 row59\" >GarageYrBlt</th>\n",
       "      <td id=\"T_34fb9_row59_col0\" class=\"data row59 col0\" >2008.000000</td>\n",
       "    </tr>\n",
       "    <tr>\n",
       "      <th id=\"T_34fb9_level0_row60\" class=\"row_heading level0 row60\" >GarageFinish</th>\n",
       "      <td id=\"T_34fb9_row60_col0\" class=\"data row60 col0\" >Fin</td>\n",
       "    </tr>\n",
       "    <tr>\n",
       "      <th id=\"T_34fb9_level0_row61\" class=\"row_heading level0 row61\" >GarageCars</th>\n",
       "      <td id=\"T_34fb9_row61_col0\" class=\"data row61 col0\" >3.000000</td>\n",
       "    </tr>\n",
       "    <tr>\n",
       "      <th id=\"T_34fb9_level0_row62\" class=\"row_heading level0 row62\" >GarageArea</th>\n",
       "      <td id=\"T_34fb9_row62_col0\" class=\"data row62 col0\" >1154.000000</td>\n",
       "    </tr>\n",
       "    <tr>\n",
       "      <th id=\"T_34fb9_level0_row63\" class=\"row_heading level0 row63\" >GarageQual</th>\n",
       "      <td id=\"T_34fb9_row63_col0\" class=\"data row63 col0\" >TA</td>\n",
       "    </tr>\n",
       "    <tr>\n",
       "      <th id=\"T_34fb9_level0_row64\" class=\"row_heading level0 row64\" >GarageCond</th>\n",
       "      <td id=\"T_34fb9_row64_col0\" class=\"data row64 col0\" >TA</td>\n",
       "    </tr>\n",
       "    <tr>\n",
       "      <th id=\"T_34fb9_level0_row65\" class=\"row_heading level0 row65\" >PavedDrive</th>\n",
       "      <td id=\"T_34fb9_row65_col0\" class=\"data row65 col0\" >Y</td>\n",
       "    </tr>\n",
       "    <tr>\n",
       "      <th id=\"T_34fb9_level0_row66\" class=\"row_heading level0 row66\" >WoodDeckSF</th>\n",
       "      <td id=\"T_34fb9_row66_col0\" class=\"data row66 col0\" >546</td>\n",
       "    </tr>\n",
       "    <tr>\n",
       "      <th id=\"T_34fb9_level0_row67\" class=\"row_heading level0 row67\" >OpenPorchSF</th>\n",
       "      <td id=\"T_34fb9_row67_col0\" class=\"data row67 col0\" >484</td>\n",
       "    </tr>\n",
       "    <tr>\n",
       "      <th id=\"T_34fb9_level0_row68\" class=\"row_heading level0 row68\" >EnclosedPorch</th>\n",
       "      <td id=\"T_34fb9_row68_col0\" class=\"data row68 col0\" >0</td>\n",
       "    </tr>\n",
       "    <tr>\n",
       "      <th id=\"T_34fb9_level0_row69\" class=\"row_heading level0 row69\" >3SsnPorch</th>\n",
       "      <td id=\"T_34fb9_row69_col0\" class=\"data row69 col0\" >0</td>\n",
       "    </tr>\n",
       "    <tr>\n",
       "      <th id=\"T_34fb9_level0_row70\" class=\"row_heading level0 row70\" >ScreenPorch</th>\n",
       "      <td id=\"T_34fb9_row70_col0\" class=\"data row70 col0\" >0</td>\n",
       "    </tr>\n",
       "    <tr>\n",
       "      <th id=\"T_34fb9_level0_row71\" class=\"row_heading level0 row71\" >PoolArea</th>\n",
       "      <td id=\"T_34fb9_row71_col0\" class=\"data row71 col0\" >0</td>\n",
       "    </tr>\n",
       "    <tr>\n",
       "      <th id=\"T_34fb9_level0_row72\" class=\"row_heading level0 row72\" >PoolQC</th>\n",
       "      <td id=\"T_34fb9_row72_col0\" class=\"data row72 col0\" >None</td>\n",
       "    </tr>\n",
       "    <tr>\n",
       "      <th id=\"T_34fb9_level0_row73\" class=\"row_heading level0 row73\" >Fence</th>\n",
       "      <td id=\"T_34fb9_row73_col0\" class=\"data row73 col0\" >None</td>\n",
       "    </tr>\n",
       "    <tr>\n",
       "      <th id=\"T_34fb9_level0_row74\" class=\"row_heading level0 row74\" >MiscFeature</th>\n",
       "      <td id=\"T_34fb9_row74_col0\" class=\"data row74 col0\" >None</td>\n",
       "    </tr>\n",
       "    <tr>\n",
       "      <th id=\"T_34fb9_level0_row75\" class=\"row_heading level0 row75\" >MiscVal</th>\n",
       "      <td id=\"T_34fb9_row75_col0\" class=\"data row75 col0\" >17000</td>\n",
       "    </tr>\n",
       "    <tr>\n",
       "      <th id=\"T_34fb9_level0_row76\" class=\"row_heading level0 row76\" >MoSold</th>\n",
       "      <td id=\"T_34fb9_row76_col0\" class=\"data row76 col0\" >10</td>\n",
       "    </tr>\n",
       "    <tr>\n",
       "      <th id=\"T_34fb9_level0_row77\" class=\"row_heading level0 row77\" >YrSold</th>\n",
       "      <td id=\"T_34fb9_row77_col0\" class=\"data row77 col0\" >2007</td>\n",
       "    </tr>\n",
       "    <tr>\n",
       "      <th id=\"T_34fb9_level0_row78\" class=\"row_heading level0 row78\" >SaleType</th>\n",
       "      <td id=\"T_34fb9_row78_col0\" class=\"data row78 col0\" >New</td>\n",
       "    </tr>\n",
       "    <tr>\n",
       "      <th id=\"T_34fb9_level0_row79\" class=\"row_heading level0 row79\" >SaleCondition</th>\n",
       "      <td id=\"T_34fb9_row79_col0\" class=\"data row79 col0\" >Partial</td>\n",
       "    </tr>\n",
       "    <tr>\n",
       "      <th id=\"T_34fb9_level0_row80\" class=\"row_heading level0 row80\" >dataset_source</th>\n",
       "      <td id=\"T_34fb9_row80_col0\" class=\"data row80 col0\" >test</td>\n",
       "    </tr>\n",
       "  </tbody>\n",
       "</table>\n"
      ],
      "text/plain": [
       "<pandas.io.formats.style.Styler at 0x1345f4050>"
      ]
     },
     "metadata": {},
     "output_type": "display_data"
    }
   ],
   "source": [
    "display(\n",
    "    df_combined[df_combined['Id'] == 2550].T.style.hide(axis=\"columns\")\n",
    ")"
   ]
  },
  {
   "cell_type": "code",
   "execution_count": 84,
   "metadata": {},
   "outputs": [
    {
     "data": {
      "text/html": [
       "<style type=\"text/css\">\n",
       "</style>\n",
       "<table id=\"T_9d06b\">\n",
       "  <thead>\n",
       "    <tr>\n",
       "      <th id=\"T_9d06b_level0_col0\" class=\"col_heading level0 col0\" >Id</th>\n",
       "      <th id=\"T_9d06b_level0_col1\" class=\"col_heading level0 col1\" >MiscVal</th>\n",
       "      <th id=\"T_9d06b_level0_col2\" class=\"col_heading level0 col2\" >MiscFeature</th>\n",
       "    </tr>\n",
       "  </thead>\n",
       "  <tbody>\n",
       "    <tr>\n",
       "      <td id=\"T_9d06b_row0_col0\" class=\"data row0 col0\" >2550</td>\n",
       "      <td id=\"T_9d06b_row0_col1\" class=\"data row0 col1\" >17000</td>\n",
       "      <td id=\"T_9d06b_row0_col2\" class=\"data row0 col2\" >Othr</td>\n",
       "    </tr>\n",
       "  </tbody>\n",
       "</table>\n"
      ],
      "text/plain": [
       "<pandas.io.formats.style.Styler at 0x134840ad0>"
      ]
     },
     "metadata": {},
     "output_type": "display_data"
    }
   ],
   "source": [
    "# Set MiscFeature to 'Othr'\n",
    "df_combined.loc[df_combined['Id'] == 2550, 'MiscFeature'] = 'Othr'\n",
    "\n",
    "# Display the house with ID 2550 after fixing the MiscFeature\n",
    "display(\n",
    "    df_combined[df_combined['Id'] == 2550][['Id', 'MiscVal', 'MiscFeature']].style.hide(axis=\"index\")\n",
    ")\n",
    "\n",
    "# Remove the house with ID 2550 from the issues list\n",
    "df_issues_sorted = df_issues_sorted[df_issues_sorted['Id'] != 2550]"
   ]
  },
  {
   "cell_type": "markdown",
   "metadata": {},
   "source": [
    "**Conclusion for Property ID 2550**\n",
    "- Four data issues were flagged, including future YearBuilt, YearRemodAdd, and GarageYrBlt, and a missing MiscFeature despite a high MiscVal.\n",
    "- Given SaleType = New and SaleCondition = Partial, these values are plausible and reflect a home not fully completed at the time of sale.\n",
    "- Fix applied: MiscFeature was set to 'Othr'; other issues were accepted as contextually valid."
   ]
  },
  {
   "cell_type": "markdown",
   "metadata": {},
   "source": [
    "### 5.3 Analyze data quality issues\n",
    "\n",
    "##### Function to Analyze Data Quality Issues"
   ]
  },
  {
   "cell_type": "code",
   "execution_count": 85,
   "metadata": {},
   "outputs": [],
   "source": [
    "def show_issue_details(issue_name: str, columns: list):\n",
    "    \"\"\"\n",
    "    Displays selected columns for all houses affected by a specific data quality issue.\n",
    "\n",
    "    Parameters:\n",
    "    - issue_name (str): The name of the issue as logged in df_issues_sorted['Issue']\n",
    "    - columns (list): List of column names to display\n",
    "    \"\"\"\n",
    "    # Get IDs for houses with the given issue\n",
    "    issue_ids = df_issues_sorted[df_issues_sorted['Issue'] == issue_name]['Id'].unique()\n",
    "\n",
    "    # Filter original dataset for those IDs and columns\n",
    "    df_display = df_combined[df_combined['Id'].isin(issue_ids)][columns]\n",
    "\n",
    "    # Show results\n",
    "    print(f\"Issue: {issue_name} — {len(issue_ids)} house(s) affected\")\n",
    "    display(df_display.style.hide(axis=\"index\"))\n"
   ]
  },
  {
   "cell_type": "markdown",
   "metadata": {},
   "source": [
    "#### Basement has area but BsmtQual is missing"
   ]
  },
  {
   "cell_type": "code",
   "execution_count": 86,
   "metadata": {},
   "outputs": [
    {
     "name": "stdout",
     "output_type": "stream",
     "text": [
      "Issue: Basement has area but BsmtQual is missing — 2 house(s) affected\n"
     ]
    },
    {
     "data": {
      "text/html": [
       "<style type=\"text/css\">\n",
       "</style>\n",
       "<table id=\"T_2be25\">\n",
       "  <thead>\n",
       "    <tr>\n",
       "      <th id=\"T_2be25_level0_col0\" class=\"col_heading level0 col0\" >Id</th>\n",
       "      <th id=\"T_2be25_level0_col1\" class=\"col_heading level0 col1\" >TotalBsmtSF</th>\n",
       "      <th id=\"T_2be25_level0_col2\" class=\"col_heading level0 col2\" >BsmtFinSF1</th>\n",
       "      <th id=\"T_2be25_level0_col3\" class=\"col_heading level0 col3\" >BsmtFinSF2</th>\n",
       "      <th id=\"T_2be25_level0_col4\" class=\"col_heading level0 col4\" >BsmtUnfSF</th>\n",
       "      <th id=\"T_2be25_level0_col5\" class=\"col_heading level0 col5\" >BsmtExposure</th>\n",
       "      <th id=\"T_2be25_level0_col6\" class=\"col_heading level0 col6\" >BsmtFinType1</th>\n",
       "      <th id=\"T_2be25_level0_col7\" class=\"col_heading level0 col7\" >BsmtFinType2</th>\n",
       "      <th id=\"T_2be25_level0_col8\" class=\"col_heading level0 col8\" >BsmtCond</th>\n",
       "      <th id=\"T_2be25_level0_col9\" class=\"col_heading level0 col9\" >BsmtQual</th>\n",
       "      <th id=\"T_2be25_level0_col10\" class=\"col_heading level0 col10\" >YearBuilt</th>\n",
       "      <th id=\"T_2be25_level0_col11\" class=\"col_heading level0 col11\" >YearRemodAdd</th>\n",
       "      <th id=\"T_2be25_level0_col12\" class=\"col_heading level0 col12\" >YrSold</th>\n",
       "      <th id=\"T_2be25_level0_col13\" class=\"col_heading level0 col13\" >MoSold</th>\n",
       "      <th id=\"T_2be25_level0_col14\" class=\"col_heading level0 col14\" >OverallQual</th>\n",
       "      <th id=\"T_2be25_level0_col15\" class=\"col_heading level0 col15\" >Functional</th>\n",
       "      <th id=\"T_2be25_level0_col16\" class=\"col_heading level0 col16\" >LowQualFinSF</th>\n",
       "    </tr>\n",
       "  </thead>\n",
       "  <tbody>\n",
       "    <tr>\n",
       "      <td id=\"T_2be25_row0_col0\" class=\"data row0 col0\" >2218</td>\n",
       "      <td id=\"T_2be25_row0_col1\" class=\"data row0 col1\" >173.000000</td>\n",
       "      <td id=\"T_2be25_row0_col2\" class=\"data row0 col2\" >0.000000</td>\n",
       "      <td id=\"T_2be25_row0_col3\" class=\"data row0 col3\" >0.000000</td>\n",
       "      <td id=\"T_2be25_row0_col4\" class=\"data row0 col4\" >173.000000</td>\n",
       "      <td id=\"T_2be25_row0_col5\" class=\"data row0 col5\" >No</td>\n",
       "      <td id=\"T_2be25_row0_col6\" class=\"data row0 col6\" >Unf</td>\n",
       "      <td id=\"T_2be25_row0_col7\" class=\"data row0 col7\" >Unf</td>\n",
       "      <td id=\"T_2be25_row0_col8\" class=\"data row0 col8\" >Fa</td>\n",
       "      <td id=\"T_2be25_row0_col9\" class=\"data row0 col9\" >None</td>\n",
       "      <td id=\"T_2be25_row0_col10\" class=\"data row0 col10\" >1895</td>\n",
       "      <td id=\"T_2be25_row0_col11\" class=\"data row0 col11\" >1950</td>\n",
       "      <td id=\"T_2be25_row0_col12\" class=\"data row0 col12\" >2008</td>\n",
       "      <td id=\"T_2be25_row0_col13\" class=\"data row0 col13\" >7</td>\n",
       "      <td id=\"T_2be25_row0_col14\" class=\"data row0 col14\" >4</td>\n",
       "      <td id=\"T_2be25_row0_col15\" class=\"data row0 col15\" >Typ</td>\n",
       "      <td id=\"T_2be25_row0_col16\" class=\"data row0 col16\" >0</td>\n",
       "    </tr>\n",
       "    <tr>\n",
       "      <td id=\"T_2be25_row1_col0\" class=\"data row1 col0\" >2219</td>\n",
       "      <td id=\"T_2be25_row1_col1\" class=\"data row1 col1\" >356.000000</td>\n",
       "      <td id=\"T_2be25_row1_col2\" class=\"data row1 col2\" >0.000000</td>\n",
       "      <td id=\"T_2be25_row1_col3\" class=\"data row1 col3\" >0.000000</td>\n",
       "      <td id=\"T_2be25_row1_col4\" class=\"data row1 col4\" >356.000000</td>\n",
       "      <td id=\"T_2be25_row1_col5\" class=\"data row1 col5\" >No</td>\n",
       "      <td id=\"T_2be25_row1_col6\" class=\"data row1 col6\" >Unf</td>\n",
       "      <td id=\"T_2be25_row1_col7\" class=\"data row1 col7\" >Unf</td>\n",
       "      <td id=\"T_2be25_row1_col8\" class=\"data row1 col8\" >TA</td>\n",
       "      <td id=\"T_2be25_row1_col9\" class=\"data row1 col9\" >None</td>\n",
       "      <td id=\"T_2be25_row1_col10\" class=\"data row1 col10\" >1910</td>\n",
       "      <td id=\"T_2be25_row1_col11\" class=\"data row1 col11\" >2000</td>\n",
       "      <td id=\"T_2be25_row1_col12\" class=\"data row1 col12\" >2008</td>\n",
       "      <td id=\"T_2be25_row1_col13\" class=\"data row1 col13\" >5</td>\n",
       "      <td id=\"T_2be25_row1_col14\" class=\"data row1 col14\" >4</td>\n",
       "      <td id=\"T_2be25_row1_col15\" class=\"data row1 col15\" >Typ</td>\n",
       "      <td id=\"T_2be25_row1_col16\" class=\"data row1 col16\" >0</td>\n",
       "    </tr>\n",
       "  </tbody>\n",
       "</table>\n"
      ],
      "text/plain": [
       "<pandas.io.formats.style.Styler at 0x1347dbd90>"
      ]
     },
     "metadata": {},
     "output_type": "display_data"
    }
   ],
   "source": [
    "# Columns to show for basement-related issues\n",
    "cols_to_show_basement = [\n",
    "    'Id',\n",
    "    'TotalBsmtSF',     \n",
    "    'BsmtFinSF1',      \n",
    "    'BsmtFinSF2',\n",
    "    'BsmtUnfSF',       \n",
    "    'BsmtExposure',    \n",
    "    'BsmtFinType1',    \n",
    "    'BsmtFinType2',\n",
    "    'BsmtCond',        \n",
    "    'BsmtQual',        \n",
    "    'YearBuilt',\n",
    "    'YearRemodAdd',\n",
    "    'YrSold',\n",
    "    'MoSold',\n",
    "    'OverallQual',\n",
    "    'Functional',\n",
    "    'LowQualFinSF'\n",
    "]\n",
    "\n",
    "\n",
    "show_issue_details(\"Basement has area but BsmtQual is missing\", cols_to_show_basement)\n"
   ]
  },
  {
   "cell_type": "markdown",
   "metadata": {},
   "source": [
    "**Conclusion for Basement has area but BsmtQual is missing**\n",
    "To properties have missing BsmtQual, but both basements are fully unfinished. We leave BsmtQual as None, as there is no meaningful quality grading for unfinished basements."
   ]
  },
  {
   "cell_type": "markdown",
   "metadata": {},
   "source": [
    "#### Garage built after the house was sold"
   ]
  },
  {
   "cell_type": "code",
   "execution_count": 87,
   "metadata": {},
   "outputs": [
    {
     "name": "stdout",
     "output_type": "stream",
     "text": [
      "Issue: Garage built after the house was sold — 1 house(s) affected\n"
     ]
    },
    {
     "data": {
      "text/html": [
       "<style type=\"text/css\">\n",
       "</style>\n",
       "<table id=\"T_a72a1\">\n",
       "  <thead>\n",
       "    <tr>\n",
       "      <th id=\"T_a72a1_level0_col0\" class=\"col_heading level0 col0\" >Id</th>\n",
       "      <th id=\"T_a72a1_level0_col1\" class=\"col_heading level0 col1\" >YearBuilt</th>\n",
       "      <th id=\"T_a72a1_level0_col2\" class=\"col_heading level0 col2\" >YrSold</th>\n",
       "      <th id=\"T_a72a1_level0_col3\" class=\"col_heading level0 col3\" >MoSold</th>\n",
       "      <th id=\"T_a72a1_level0_col4\" class=\"col_heading level0 col4\" >GarageYrBlt</th>\n",
       "      <th id=\"T_a72a1_level0_col5\" class=\"col_heading level0 col5\" >GarageType</th>\n",
       "      <th id=\"T_a72a1_level0_col6\" class=\"col_heading level0 col6\" >GarageFinish</th>\n",
       "      <th id=\"T_a72a1_level0_col7\" class=\"col_heading level0 col7\" >GarageCars</th>\n",
       "      <th id=\"T_a72a1_level0_col8\" class=\"col_heading level0 col8\" >GarageArea</th>\n",
       "      <th id=\"T_a72a1_level0_col9\" class=\"col_heading level0 col9\" >SaleType</th>\n",
       "      <th id=\"T_a72a1_level0_col10\" class=\"col_heading level0 col10\" >SaleCondition</th>\n",
       "    </tr>\n",
       "  </thead>\n",
       "  <tbody>\n",
       "    <tr>\n",
       "      <td id=\"T_a72a1_row0_col0\" class=\"data row0 col0\" >2593</td>\n",
       "      <td id=\"T_a72a1_row0_col1\" class=\"data row0 col1\" >2006</td>\n",
       "      <td id=\"T_a72a1_row0_col2\" class=\"data row0 col2\" >2007</td>\n",
       "      <td id=\"T_a72a1_row0_col3\" class=\"data row0 col3\" >9</td>\n",
       "      <td id=\"T_a72a1_row0_col4\" class=\"data row0 col4\" >2007.000000</td>\n",
       "      <td id=\"T_a72a1_row0_col5\" class=\"data row0 col5\" >Attchd</td>\n",
       "      <td id=\"T_a72a1_row0_col6\" class=\"data row0 col6\" >RFn</td>\n",
       "      <td id=\"T_a72a1_row0_col7\" class=\"data row0 col7\" >2.000000</td>\n",
       "      <td id=\"T_a72a1_row0_col8\" class=\"data row0 col8\" >502.000000</td>\n",
       "      <td id=\"T_a72a1_row0_col9\" class=\"data row0 col9\" >New</td>\n",
       "      <td id=\"T_a72a1_row0_col10\" class=\"data row0 col10\" >Partial</td>\n",
       "    </tr>\n",
       "  </tbody>\n",
       "</table>\n"
      ],
      "text/plain": [
       "<pandas.io.formats.style.Styler at 0x1345b16d0>"
      ]
     },
     "metadata": {},
     "output_type": "display_data"
    }
   ],
   "source": [
    "cols_to_show_garage = [\n",
    "    'Id',\n",
    "    'YearBuilt',\n",
    "    'YrSold',\n",
    "    'MoSold',\n",
    "    'GarageYrBlt',\n",
    "    'GarageType',\n",
    "    'GarageFinish',\n",
    "    'GarageCars',\n",
    "    'GarageArea',\n",
    "    'SaleType',\n",
    "    'SaleCondition',\n",
    "]\n",
    "\n",
    "show_issue_details(\"Garage built after the house was sold\", cols_to_show_garage)\n",
    "\n",
    "# Remove the houses from the issues list\n",
    "df_issues_sorted = df_issues_sorted[df_issues_sorted['Issue'] != \"Garage built after the house was sold\"]\n"
   ]
  },
  {
   "cell_type": "markdown",
   "metadata": {},
   "source": [
    "\n",
    "**Conclusion for Garage built after the house was sold**\n",
    "The garage year (GarageYrBlt) is 2007 (corrected from 2207) the same year the house was sold. Since the SaleType is New and the SaleCondition is Partial, this suggests the property was not fully completed when assessed. The GarageFinish is RFn (Rough Finished), which further supports that the garage was in the process of completion. No correction is needed."
   ]
  },
  {
   "cell_type": "markdown",
   "metadata": {},
   "source": [
    "#### Garage built before the house"
   ]
  },
  {
   "cell_type": "code",
   "execution_count": 88,
   "metadata": {},
   "outputs": [
    {
     "name": "stdout",
     "output_type": "stream",
     "text": [
      "Issue: Garage built before the house — 18 house(s) affected\n"
     ]
    },
    {
     "data": {
      "text/html": [
       "<style type=\"text/css\">\n",
       "</style>\n",
       "<table id=\"T_684da\">\n",
       "  <thead>\n",
       "    <tr>\n",
       "      <th id=\"T_684da_level0_col0\" class=\"col_heading level0 col0\" >Id</th>\n",
       "      <th id=\"T_684da_level0_col1\" class=\"col_heading level0 col1\" >GarageYrBlt</th>\n",
       "      <th id=\"T_684da_level0_col2\" class=\"col_heading level0 col2\" >YearBuilt</th>\n",
       "      <th id=\"T_684da_level0_col3\" class=\"col_heading level0 col3\" >YrSold</th>\n",
       "      <th id=\"T_684da_level0_col4\" class=\"col_heading level0 col4\" >MoSold</th>\n",
       "      <th id=\"T_684da_level0_col5\" class=\"col_heading level0 col5\" >YearRemodAdd</th>\n",
       "      <th id=\"T_684da_level0_col6\" class=\"col_heading level0 col6\" >GarageType</th>\n",
       "      <th id=\"T_684da_level0_col7\" class=\"col_heading level0 col7\" >GarageFinish</th>\n",
       "      <th id=\"T_684da_level0_col8\" class=\"col_heading level0 col8\" >GarageQual</th>\n",
       "      <th id=\"T_684da_level0_col9\" class=\"col_heading level0 col9\" >GarageCond</th>\n",
       "      <th id=\"T_684da_level0_col10\" class=\"col_heading level0 col10\" >GarageCars</th>\n",
       "      <th id=\"T_684da_level0_col11\" class=\"col_heading level0 col11\" >GarageArea</th>\n",
       "      <th id=\"T_684da_level0_col12\" class=\"col_heading level0 col12\" >SaleType</th>\n",
       "      <th id=\"T_684da_level0_col13\" class=\"col_heading level0 col13\" >SaleCondition</th>\n",
       "    </tr>\n",
       "  </thead>\n",
       "  <tbody>\n",
       "    <tr>\n",
       "      <td id=\"T_684da_row0_col0\" class=\"data row0 col0\" >30</td>\n",
       "      <td id=\"T_684da_row0_col1\" class=\"data row0 col1\" >1920.000000</td>\n",
       "      <td id=\"T_684da_row0_col2\" class=\"data row0 col2\" >1927</td>\n",
       "      <td id=\"T_684da_row0_col3\" class=\"data row0 col3\" >2008</td>\n",
       "      <td id=\"T_684da_row0_col4\" class=\"data row0 col4\" >5</td>\n",
       "      <td id=\"T_684da_row0_col5\" class=\"data row0 col5\" >1950</td>\n",
       "      <td id=\"T_684da_row0_col6\" class=\"data row0 col6\" >Detchd</td>\n",
       "      <td id=\"T_684da_row0_col7\" class=\"data row0 col7\" >Unf</td>\n",
       "      <td id=\"T_684da_row0_col8\" class=\"data row0 col8\" >Fa</td>\n",
       "      <td id=\"T_684da_row0_col9\" class=\"data row0 col9\" >TA</td>\n",
       "      <td id=\"T_684da_row0_col10\" class=\"data row0 col10\" >1.000000</td>\n",
       "      <td id=\"T_684da_row0_col11\" class=\"data row0 col11\" >240.000000</td>\n",
       "      <td id=\"T_684da_row0_col12\" class=\"data row0 col12\" >WD</td>\n",
       "      <td id=\"T_684da_row0_col13\" class=\"data row0 col13\" >Normal</td>\n",
       "    </tr>\n",
       "    <tr>\n",
       "      <td id=\"T_684da_row1_col0\" class=\"data row1 col0\" >94</td>\n",
       "      <td id=\"T_684da_row1_col1\" class=\"data row1 col1\" >1900.000000</td>\n",
       "      <td id=\"T_684da_row1_col2\" class=\"data row1 col2\" >1910</td>\n",
       "      <td id=\"T_684da_row1_col3\" class=\"data row1 col3\" >2007</td>\n",
       "      <td id=\"T_684da_row1_col4\" class=\"data row1 col4\" >11</td>\n",
       "      <td id=\"T_684da_row1_col5\" class=\"data row1 col5\" >1998</td>\n",
       "      <td id=\"T_684da_row1_col6\" class=\"data row1 col6\" >Detchd</td>\n",
       "      <td id=\"T_684da_row1_col7\" class=\"data row1 col7\" >Unf</td>\n",
       "      <td id=\"T_684da_row1_col8\" class=\"data row1 col8\" >TA</td>\n",
       "      <td id=\"T_684da_row1_col9\" class=\"data row1 col9\" >TA</td>\n",
       "      <td id=\"T_684da_row1_col10\" class=\"data row1 col10\" >2.000000</td>\n",
       "      <td id=\"T_684da_row1_col11\" class=\"data row1 col11\" >506.000000</td>\n",
       "      <td id=\"T_684da_row1_col12\" class=\"data row1 col12\" >WD</td>\n",
       "      <td id=\"T_684da_row1_col13\" class=\"data row1 col13\" >Normal</td>\n",
       "    </tr>\n",
       "    <tr>\n",
       "      <td id=\"T_684da_row2_col0\" class=\"data row2 col0\" >325</td>\n",
       "      <td id=\"T_684da_row2_col1\" class=\"data row2 col1\" >1961.000000</td>\n",
       "      <td id=\"T_684da_row2_col2\" class=\"data row2 col2\" >1967</td>\n",
       "      <td id=\"T_684da_row2_col3\" class=\"data row2 col3\" >2010</td>\n",
       "      <td id=\"T_684da_row2_col4\" class=\"data row2 col4\" >6</td>\n",
       "      <td id=\"T_684da_row2_col5\" class=\"data row2 col5\" >2007</td>\n",
       "      <td id=\"T_684da_row2_col6\" class=\"data row2 col6\" >BuiltIn</td>\n",
       "      <td id=\"T_684da_row2_col7\" class=\"data row2 col7\" >Fin</td>\n",
       "      <td id=\"T_684da_row2_col8\" class=\"data row2 col8\" >TA</td>\n",
       "      <td id=\"T_684da_row2_col9\" class=\"data row2 col9\" >TA</td>\n",
       "      <td id=\"T_684da_row2_col10\" class=\"data row2 col10\" >2.000000</td>\n",
       "      <td id=\"T_684da_row2_col11\" class=\"data row2 col11\" >564.000000</td>\n",
       "      <td id=\"T_684da_row2_col12\" class=\"data row2 col12\" >WD</td>\n",
       "      <td id=\"T_684da_row2_col13\" class=\"data row2 col13\" >Normal</td>\n",
       "    </tr>\n",
       "    <tr>\n",
       "      <td id=\"T_684da_row3_col0\" class=\"data row3 col0\" >601</td>\n",
       "      <td id=\"T_684da_row3_col1\" class=\"data row3 col1\" >2003.000000</td>\n",
       "      <td id=\"T_684da_row3_col2\" class=\"data row3 col2\" >2005</td>\n",
       "      <td id=\"T_684da_row3_col3\" class=\"data row3 col3\" >2006</td>\n",
       "      <td id=\"T_684da_row3_col4\" class=\"data row3 col4\" >6</td>\n",
       "      <td id=\"T_684da_row3_col5\" class=\"data row3 col5\" >2005</td>\n",
       "      <td id=\"T_684da_row3_col6\" class=\"data row3 col6\" >BuiltIn</td>\n",
       "      <td id=\"T_684da_row3_col7\" class=\"data row3 col7\" >Fin</td>\n",
       "      <td id=\"T_684da_row3_col8\" class=\"data row3 col8\" >TA</td>\n",
       "      <td id=\"T_684da_row3_col9\" class=\"data row3 col9\" >TA</td>\n",
       "      <td id=\"T_684da_row3_col10\" class=\"data row3 col10\" >2.000000</td>\n",
       "      <td id=\"T_684da_row3_col11\" class=\"data row3 col11\" >736.000000</td>\n",
       "      <td id=\"T_684da_row3_col12\" class=\"data row3 col12\" >WD</td>\n",
       "      <td id=\"T_684da_row3_col13\" class=\"data row3 col13\" >Normal</td>\n",
       "    </tr>\n",
       "    <tr>\n",
       "      <td id=\"T_684da_row4_col0\" class=\"data row4 col0\" >737</td>\n",
       "      <td id=\"T_684da_row4_col1\" class=\"data row4 col1\" >1949.000000</td>\n",
       "      <td id=\"T_684da_row4_col2\" class=\"data row4 col2\" >1950</td>\n",
       "      <td id=\"T_684da_row4_col3\" class=\"data row4 col3\" >2006</td>\n",
       "      <td id=\"T_684da_row4_col4\" class=\"data row4 col4\" >7</td>\n",
       "      <td id=\"T_684da_row4_col5\" class=\"data row4 col5\" >1950</td>\n",
       "      <td id=\"T_684da_row4_col6\" class=\"data row4 col6\" >Detchd</td>\n",
       "      <td id=\"T_684da_row4_col7\" class=\"data row4 col7\" >Unf</td>\n",
       "      <td id=\"T_684da_row4_col8\" class=\"data row4 col8\" >TA</td>\n",
       "      <td id=\"T_684da_row4_col9\" class=\"data row4 col9\" >TA</td>\n",
       "      <td id=\"T_684da_row4_col10\" class=\"data row4 col10\" >2.000000</td>\n",
       "      <td id=\"T_684da_row4_col11\" class=\"data row4 col11\" >400.000000</td>\n",
       "      <td id=\"T_684da_row4_col12\" class=\"data row4 col12\" >WD</td>\n",
       "      <td id=\"T_684da_row4_col13\" class=\"data row4 col13\" >Normal</td>\n",
       "    </tr>\n",
       "    <tr>\n",
       "      <td id=\"T_684da_row5_col0\" class=\"data row5 col0\" >1104</td>\n",
       "      <td id=\"T_684da_row5_col1\" class=\"data row5 col1\" >1954.000000</td>\n",
       "      <td id=\"T_684da_row5_col2\" class=\"data row5 col2\" >1959</td>\n",
       "      <td id=\"T_684da_row5_col3\" class=\"data row5 col3\" >2006</td>\n",
       "      <td id=\"T_684da_row5_col4\" class=\"data row5 col4\" >7</td>\n",
       "      <td id=\"T_684da_row5_col5\" class=\"data row5 col5\" >1959</td>\n",
       "      <td id=\"T_684da_row5_col6\" class=\"data row5 col6\" >BuiltIn</td>\n",
       "      <td id=\"T_684da_row5_col7\" class=\"data row5 col7\" >Fin</td>\n",
       "      <td id=\"T_684da_row5_col8\" class=\"data row5 col8\" >TA</td>\n",
       "      <td id=\"T_684da_row5_col9\" class=\"data row5 col9\" >TA</td>\n",
       "      <td id=\"T_684da_row5_col10\" class=\"data row5 col10\" >2.000000</td>\n",
       "      <td id=\"T_684da_row5_col11\" class=\"data row5 col11\" >539.000000</td>\n",
       "      <td id=\"T_684da_row5_col12\" class=\"data row5 col12\" >WD</td>\n",
       "      <td id=\"T_684da_row5_col13\" class=\"data row5 col13\" >Normal</td>\n",
       "    </tr>\n",
       "    <tr>\n",
       "      <td id=\"T_684da_row6_col0\" class=\"data row6 col0\" >1377</td>\n",
       "      <td id=\"T_684da_row6_col1\" class=\"data row6 col1\" >1925.000000</td>\n",
       "      <td id=\"T_684da_row6_col2\" class=\"data row6 col2\" >1930</td>\n",
       "      <td id=\"T_684da_row6_col3\" class=\"data row6 col3\" >2008</td>\n",
       "      <td id=\"T_684da_row6_col4\" class=\"data row6 col4\" >4</td>\n",
       "      <td id=\"T_684da_row6_col5\" class=\"data row6 col5\" >1950</td>\n",
       "      <td id=\"T_684da_row6_col6\" class=\"data row6 col6\" >Detchd</td>\n",
       "      <td id=\"T_684da_row6_col7\" class=\"data row6 col7\" >Unf</td>\n",
       "      <td id=\"T_684da_row6_col8\" class=\"data row6 col8\" >Fa</td>\n",
       "      <td id=\"T_684da_row6_col9\" class=\"data row6 col9\" >TA</td>\n",
       "      <td id=\"T_684da_row6_col10\" class=\"data row6 col10\" >1.000000</td>\n",
       "      <td id=\"T_684da_row6_col11\" class=\"data row6 col11\" >160.000000</td>\n",
       "      <td id=\"T_684da_row6_col12\" class=\"data row6 col12\" >WD</td>\n",
       "      <td id=\"T_684da_row6_col13\" class=\"data row6 col13\" >Normal</td>\n",
       "    </tr>\n",
       "    <tr>\n",
       "      <td id=\"T_684da_row7_col0\" class=\"data row7 col0\" >1415</td>\n",
       "      <td id=\"T_684da_row7_col1\" class=\"data row7 col1\" >1922.000000</td>\n",
       "      <td id=\"T_684da_row7_col2\" class=\"data row7 col2\" >1923</td>\n",
       "      <td id=\"T_684da_row7_col3\" class=\"data row7 col3\" >2008</td>\n",
       "      <td id=\"T_684da_row7_col4\" class=\"data row7 col4\" >6</td>\n",
       "      <td id=\"T_684da_row7_col5\" class=\"data row7 col5\" >2000</td>\n",
       "      <td id=\"T_684da_row7_col6\" class=\"data row7 col6\" >Detchd</td>\n",
       "      <td id=\"T_684da_row7_col7\" class=\"data row7 col7\" >Unf</td>\n",
       "      <td id=\"T_684da_row7_col8\" class=\"data row7 col8\" >TA</td>\n",
       "      <td id=\"T_684da_row7_col9\" class=\"data row7 col9\" >TA</td>\n",
       "      <td id=\"T_684da_row7_col10\" class=\"data row7 col10\" >2.000000</td>\n",
       "      <td id=\"T_684da_row7_col11\" class=\"data row7 col11\" >370.000000</td>\n",
       "      <td id=\"T_684da_row7_col12\" class=\"data row7 col12\" >WD</td>\n",
       "      <td id=\"T_684da_row7_col13\" class=\"data row7 col13\" >Normal</td>\n",
       "    </tr>\n",
       "    <tr>\n",
       "      <td id=\"T_684da_row8_col0\" class=\"data row8 col0\" >1419</td>\n",
       "      <td id=\"T_684da_row8_col1\" class=\"data row8 col1\" >1962.000000</td>\n",
       "      <td id=\"T_684da_row8_col2\" class=\"data row8 col2\" >1963</td>\n",
       "      <td id=\"T_684da_row8_col3\" class=\"data row8 col3\" >2008</td>\n",
       "      <td id=\"T_684da_row8_col4\" class=\"data row8 col4\" >8</td>\n",
       "      <td id=\"T_684da_row8_col5\" class=\"data row8 col5\" >1963</td>\n",
       "      <td id=\"T_684da_row8_col6\" class=\"data row8 col6\" >Detchd</td>\n",
       "      <td id=\"T_684da_row8_col7\" class=\"data row8 col7\" >Unf</td>\n",
       "      <td id=\"T_684da_row8_col8\" class=\"data row8 col8\" >TA</td>\n",
       "      <td id=\"T_684da_row8_col9\" class=\"data row8 col9\" >TA</td>\n",
       "      <td id=\"T_684da_row8_col10\" class=\"data row8 col10\" >1.000000</td>\n",
       "      <td id=\"T_684da_row8_col11\" class=\"data row8 col11\" >336.000000</td>\n",
       "      <td id=\"T_684da_row8_col12\" class=\"data row8 col12\" >COD</td>\n",
       "      <td id=\"T_684da_row8_col13\" class=\"data row8 col13\" >Normal</td>\n",
       "    </tr>\n",
       "    <tr>\n",
       "      <td id=\"T_684da_row9_col0\" class=\"data row9 col0\" >1522</td>\n",
       "      <td id=\"T_684da_row9_col1\" class=\"data row9 col1\" >1956.000000</td>\n",
       "      <td id=\"T_684da_row9_col2\" class=\"data row9 col2\" >1959</td>\n",
       "      <td id=\"T_684da_row9_col3\" class=\"data row9 col3\" >2010</td>\n",
       "      <td id=\"T_684da_row9_col4\" class=\"data row9 col4\" >6</td>\n",
       "      <td id=\"T_684da_row9_col5\" class=\"data row9 col5\" >1959</td>\n",
       "      <td id=\"T_684da_row9_col6\" class=\"data row9 col6\" >Attchd</td>\n",
       "      <td id=\"T_684da_row9_col7\" class=\"data row9 col7\" >Unf</td>\n",
       "      <td id=\"T_684da_row9_col8\" class=\"data row9 col8\" >TA</td>\n",
       "      <td id=\"T_684da_row9_col9\" class=\"data row9 col9\" >TA</td>\n",
       "      <td id=\"T_684da_row9_col10\" class=\"data row9 col10\" >2.000000</td>\n",
       "      <td id=\"T_684da_row9_col11\" class=\"data row9 col11\" >440.000000</td>\n",
       "      <td id=\"T_684da_row9_col12\" class=\"data row9 col12\" >WD</td>\n",
       "      <td id=\"T_684da_row9_col13\" class=\"data row9 col13\" >Normal</td>\n",
       "    </tr>\n",
       "    <tr>\n",
       "      <td id=\"T_684da_row10_col0\" class=\"data row10 col0\" >1577</td>\n",
       "      <td id=\"T_684da_row10_col1\" class=\"data row10 col1\" >2009.000000</td>\n",
       "      <td id=\"T_684da_row10_col2\" class=\"data row10 col2\" >2010</td>\n",
       "      <td id=\"T_684da_row10_col3\" class=\"data row10 col3\" >2010</td>\n",
       "      <td id=\"T_684da_row10_col4\" class=\"data row10 col4\" >3</td>\n",
       "      <td id=\"T_684da_row10_col5\" class=\"data row10 col5\" >2010</td>\n",
       "      <td id=\"T_684da_row10_col6\" class=\"data row10 col6\" >Attchd</td>\n",
       "      <td id=\"T_684da_row10_col7\" class=\"data row10 col7\" >RFn</td>\n",
       "      <td id=\"T_684da_row10_col8\" class=\"data row10 col8\" >TA</td>\n",
       "      <td id=\"T_684da_row10_col9\" class=\"data row10 col9\" >TA</td>\n",
       "      <td id=\"T_684da_row10_col10\" class=\"data row10 col10\" >2.000000</td>\n",
       "      <td id=\"T_684da_row10_col11\" class=\"data row10 col11\" >615.000000</td>\n",
       "      <td id=\"T_684da_row10_col12\" class=\"data row10 col12\" >WD</td>\n",
       "      <td id=\"T_684da_row10_col13\" class=\"data row10 col13\" >Normal</td>\n",
       "    </tr>\n",
       "    <tr>\n",
       "      <td id=\"T_684da_row11_col0\" class=\"data row11 col0\" >1806</td>\n",
       "      <td id=\"T_684da_row11_col1\" class=\"data row11 col1\" >1920.000000</td>\n",
       "      <td id=\"T_684da_row11_col2\" class=\"data row11 col2\" >1935</td>\n",
       "      <td id=\"T_684da_row11_col3\" class=\"data row11 col3\" >2009</td>\n",
       "      <td id=\"T_684da_row11_col4\" class=\"data row11 col4\" >6</td>\n",
       "      <td id=\"T_684da_row11_col5\" class=\"data row11 col5\" >1998</td>\n",
       "      <td id=\"T_684da_row11_col6\" class=\"data row11 col6\" >Detchd</td>\n",
       "      <td id=\"T_684da_row11_col7\" class=\"data row11 col7\" >Unf</td>\n",
       "      <td id=\"T_684da_row11_col8\" class=\"data row11 col8\" >Fa</td>\n",
       "      <td id=\"T_684da_row11_col9\" class=\"data row11 col9\" >Fa</td>\n",
       "      <td id=\"T_684da_row11_col10\" class=\"data row11 col10\" >1.000000</td>\n",
       "      <td id=\"T_684da_row11_col11\" class=\"data row11 col11\" >162.000000</td>\n",
       "      <td id=\"T_684da_row11_col12\" class=\"data row11 col12\" >WD</td>\n",
       "      <td id=\"T_684da_row11_col13\" class=\"data row11 col13\" >Normal</td>\n",
       "    </tr>\n",
       "    <tr>\n",
       "      <td id=\"T_684da_row12_col0\" class=\"data row12 col0\" >1841</td>\n",
       "      <td id=\"T_684da_row12_col1\" class=\"data row12 col1\" >1960.000000</td>\n",
       "      <td id=\"T_684da_row12_col2\" class=\"data row12 col2\" >1978</td>\n",
       "      <td id=\"T_684da_row12_col3\" class=\"data row12 col3\" >2009</td>\n",
       "      <td id=\"T_684da_row12_col4\" class=\"data row12 col4\" >7</td>\n",
       "      <td id=\"T_684da_row12_col5\" class=\"data row12 col5\" >1978</td>\n",
       "      <td id=\"T_684da_row12_col6\" class=\"data row12 col6\" >Detchd</td>\n",
       "      <td id=\"T_684da_row12_col7\" class=\"data row12 col7\" >Unf</td>\n",
       "      <td id=\"T_684da_row12_col8\" class=\"data row12 col8\" >TA</td>\n",
       "      <td id=\"T_684da_row12_col9\" class=\"data row12 col9\" >Fa</td>\n",
       "      <td id=\"T_684da_row12_col10\" class=\"data row12 col10\" >1.000000</td>\n",
       "      <td id=\"T_684da_row12_col11\" class=\"data row12 col11\" >252.000000</td>\n",
       "      <td id=\"T_684da_row12_col12\" class=\"data row12 col12\" >WD</td>\n",
       "      <td id=\"T_684da_row12_col13\" class=\"data row12 col13\" >Normal</td>\n",
       "    </tr>\n",
       "    <tr>\n",
       "      <td id=\"T_684da_row13_col0\" class=\"data row13 col0\" >1896</td>\n",
       "      <td id=\"T_684da_row13_col1\" class=\"data row13 col1\" >1940.000000</td>\n",
       "      <td id=\"T_684da_row13_col2\" class=\"data row13 col2\" >1941</td>\n",
       "      <td id=\"T_684da_row13_col3\" class=\"data row13 col3\" >2009</td>\n",
       "      <td id=\"T_684da_row13_col4\" class=\"data row13 col4\" >9</td>\n",
       "      <td id=\"T_684da_row13_col5\" class=\"data row13 col5\" >1950</td>\n",
       "      <td id=\"T_684da_row13_col6\" class=\"data row13 col6\" >Detchd</td>\n",
       "      <td id=\"T_684da_row13_col7\" class=\"data row13 col7\" >Unf</td>\n",
       "      <td id=\"T_684da_row13_col8\" class=\"data row13 col8\" >TA</td>\n",
       "      <td id=\"T_684da_row13_col9\" class=\"data row13 col9\" >TA</td>\n",
       "      <td id=\"T_684da_row13_col10\" class=\"data row13 col10\" >1.000000</td>\n",
       "      <td id=\"T_684da_row13_col11\" class=\"data row13 col11\" >256.000000</td>\n",
       "      <td id=\"T_684da_row13_col12\" class=\"data row13 col12\" >WD</td>\n",
       "      <td id=\"T_684da_row13_col13\" class=\"data row13 col13\" >Normal</td>\n",
       "    </tr>\n",
       "    <tr>\n",
       "      <td id=\"T_684da_row14_col0\" class=\"data row14 col0\" >1898</td>\n",
       "      <td id=\"T_684da_row14_col1\" class=\"data row14 col1\" >1926.000000</td>\n",
       "      <td id=\"T_684da_row14_col2\" class=\"data row14 col2\" >1935</td>\n",
       "      <td id=\"T_684da_row14_col3\" class=\"data row14 col3\" >2009</td>\n",
       "      <td id=\"T_684da_row14_col4\" class=\"data row14 col4\" >3</td>\n",
       "      <td id=\"T_684da_row14_col5\" class=\"data row14 col5\" >1950</td>\n",
       "      <td id=\"T_684da_row14_col6\" class=\"data row14 col6\" >Detchd</td>\n",
       "      <td id=\"T_684da_row14_col7\" class=\"data row14 col7\" >Unf</td>\n",
       "      <td id=\"T_684da_row14_col8\" class=\"data row14 col8\" >Fa</td>\n",
       "      <td id=\"T_684da_row14_col9\" class=\"data row14 col9\" >TA</td>\n",
       "      <td id=\"T_684da_row14_col10\" class=\"data row14 col10\" >1.000000</td>\n",
       "      <td id=\"T_684da_row14_col11\" class=\"data row14 col11\" >180.000000</td>\n",
       "      <td id=\"T_684da_row14_col12\" class=\"data row14 col12\" >WD</td>\n",
       "      <td id=\"T_684da_row14_col13\" class=\"data row14 col13\" >Normal</td>\n",
       "    </tr>\n",
       "    <tr>\n",
       "      <td id=\"T_684da_row15_col0\" class=\"data row15 col0\" >2123</td>\n",
       "      <td id=\"T_684da_row15_col1\" class=\"data row15 col1\" >1925.000000</td>\n",
       "      <td id=\"T_684da_row15_col2\" class=\"data row15 col2\" >1945</td>\n",
       "      <td id=\"T_684da_row15_col3\" class=\"data row15 col3\" >2008</td>\n",
       "      <td id=\"T_684da_row15_col4\" class=\"data row15 col4\" >6</td>\n",
       "      <td id=\"T_684da_row15_col5\" class=\"data row15 col5\" >1995</td>\n",
       "      <td id=\"T_684da_row15_col6\" class=\"data row15 col6\" >Attchd</td>\n",
       "      <td id=\"T_684da_row15_col7\" class=\"data row15 col7\" >Unf</td>\n",
       "      <td id=\"T_684da_row15_col8\" class=\"data row15 col8\" >TA</td>\n",
       "      <td id=\"T_684da_row15_col9\" class=\"data row15 col9\" >TA</td>\n",
       "      <td id=\"T_684da_row15_col10\" class=\"data row15 col10\" >1.000000</td>\n",
       "      <td id=\"T_684da_row15_col11\" class=\"data row15 col11\" >164.000000</td>\n",
       "      <td id=\"T_684da_row15_col12\" class=\"data row15 col12\" >WD</td>\n",
       "      <td id=\"T_684da_row15_col13\" class=\"data row15 col13\" >Normal</td>\n",
       "    </tr>\n",
       "    <tr>\n",
       "      <td id=\"T_684da_row16_col0\" class=\"data row16 col0\" >2264</td>\n",
       "      <td id=\"T_684da_row16_col1\" class=\"data row16 col1\" >2005.000000</td>\n",
       "      <td id=\"T_684da_row16_col2\" class=\"data row16 col2\" >2006</td>\n",
       "      <td id=\"T_684da_row16_col3\" class=\"data row16 col3\" >2007</td>\n",
       "      <td id=\"T_684da_row16_col4\" class=\"data row16 col4\" >6</td>\n",
       "      <td id=\"T_684da_row16_col5\" class=\"data row16 col5\" >2007</td>\n",
       "      <td id=\"T_684da_row16_col6\" class=\"data row16 col6\" >Attchd</td>\n",
       "      <td id=\"T_684da_row16_col7\" class=\"data row16 col7\" >Fin</td>\n",
       "      <td id=\"T_684da_row16_col8\" class=\"data row16 col8\" >Gd</td>\n",
       "      <td id=\"T_684da_row16_col9\" class=\"data row16 col9\" >TA</td>\n",
       "      <td id=\"T_684da_row16_col10\" class=\"data row16 col10\" >3.000000</td>\n",
       "      <td id=\"T_684da_row16_col11\" class=\"data row16 col11\" >1110.000000</td>\n",
       "      <td id=\"T_684da_row16_col12\" class=\"data row16 col12\" >New</td>\n",
       "      <td id=\"T_684da_row16_col13\" class=\"data row16 col13\" >Partial</td>\n",
       "    </tr>\n",
       "    <tr>\n",
       "      <td id=\"T_684da_row17_col0\" class=\"data row17 col0\" >2510</td>\n",
       "      <td id=\"T_684da_row17_col1\" class=\"data row17 col1\" >2005.000000</td>\n",
       "      <td id=\"T_684da_row17_col2\" class=\"data row17 col2\" >2006</td>\n",
       "      <td id=\"T_684da_row17_col3\" class=\"data row17 col3\" >2007</td>\n",
       "      <td id=\"T_684da_row17_col4\" class=\"data row17 col4\" >6</td>\n",
       "      <td id=\"T_684da_row17_col5\" class=\"data row17 col5\" >2006</td>\n",
       "      <td id=\"T_684da_row17_col6\" class=\"data row17 col6\" >Attchd</td>\n",
       "      <td id=\"T_684da_row17_col7\" class=\"data row17 col7\" >RFn</td>\n",
       "      <td id=\"T_684da_row17_col8\" class=\"data row17 col8\" >TA</td>\n",
       "      <td id=\"T_684da_row17_col9\" class=\"data row17 col9\" >TA</td>\n",
       "      <td id=\"T_684da_row17_col10\" class=\"data row17 col10\" >2.000000</td>\n",
       "      <td id=\"T_684da_row17_col11\" class=\"data row17 col11\" >674.000000</td>\n",
       "      <td id=\"T_684da_row17_col12\" class=\"data row17 col12\" >WD</td>\n",
       "      <td id=\"T_684da_row17_col13\" class=\"data row17 col13\" >Normal</td>\n",
       "    </tr>\n",
       "  </tbody>\n",
       "</table>\n"
      ],
      "text/plain": [
       "<pandas.io.formats.style.Styler at 0x1345b16d0>"
      ]
     },
     "metadata": {},
     "output_type": "display_data"
    }
   ],
   "source": [
    "cols_to_show_garage_before = [\n",
    "    'Id',\n",
    "    'GarageYrBlt',\n",
    "    'YearBuilt',\n",
    "    'YrSold',\n",
    "    'MoSold',\n",
    "    'YearRemodAdd',\n",
    "    'GarageType',\n",
    "    'GarageFinish',\n",
    "    'GarageQual',\n",
    "    'GarageCond',\n",
    "    'GarageCars',\n",
    "    'GarageArea',\n",
    "    'SaleType',\n",
    "    'SaleCondition',\n",
    "]\n",
    "\n",
    "show_issue_details(\"Garage built before the house\", cols_to_show_garage_before)\n",
    "\n",
    "# Remove the houses from the issues list\n",
    "df_issues_sorted = df_issues_sorted[df_issues_sorted['Issue'] != \"Garage built before the house\"]\n"
   ]
  },
  {
   "cell_type": "markdown",
   "metadata": {},
   "source": [
    "**Conclusion for Garage Built Before the House**\n",
    "- Most cases involve detached garages (GarageType = Detchd), which makes it plausible that the garage existed on the lot before the current house was built or rebuilt.\n",
    "- The year differences are typically small, often within a margin of 1–10 years, which is common in older properties or due to approximate registration.\n",
    "- No unusual sale conditions were found; most are marked as WD/Normal, suggesting standard market sales.\n",
    "- Some garages are marked as BuiltIn or Attchd, but still show only a one-year difference, likely due to recording discrepancies.\n",
    "\n",
    "Given these points, the data appears plausible and historically consistent."
   ]
  },
  {
   "cell_type": "markdown",
   "metadata": {
    "vscode": {
     "languageId": "bat"
    }
   },
   "source": [
    "#### No kitchen above grade"
   ]
  },
  {
   "cell_type": "code",
   "execution_count": 89,
   "metadata": {},
   "outputs": [
    {
     "name": "stdout",
     "output_type": "stream",
     "text": [
      "Issue: No kitchen above grade — 3 house(s) affected\n"
     ]
    },
    {
     "data": {
      "text/html": [
       "<style type=\"text/css\">\n",
       "</style>\n",
       "<table id=\"T_59e1f\">\n",
       "  <thead>\n",
       "    <tr>\n",
       "      <th id=\"T_59e1f_level0_col0\" class=\"col_heading level0 col0\" >Id</th>\n",
       "      <th id=\"T_59e1f_level0_col1\" class=\"col_heading level0 col1\" >KitchenAbvGr</th>\n",
       "      <th id=\"T_59e1f_level0_col2\" class=\"col_heading level0 col2\" >KitchenQual</th>\n",
       "      <th id=\"T_59e1f_level0_col3\" class=\"col_heading level0 col3\" >TotRmsAbvGrd</th>\n",
       "      <th id=\"T_59e1f_level0_col4\" class=\"col_heading level0 col4\" >GrLivArea</th>\n",
       "      <th id=\"T_59e1f_level0_col5\" class=\"col_heading level0 col5\" >LowQualFinSF</th>\n",
       "      <th id=\"T_59e1f_level0_col6\" class=\"col_heading level0 col6\" >OverallQual</th>\n",
       "      <th id=\"T_59e1f_level0_col7\" class=\"col_heading level0 col7\" >HouseStyle</th>\n",
       "      <th id=\"T_59e1f_level0_col8\" class=\"col_heading level0 col8\" >YearBuilt</th>\n",
       "      <th id=\"T_59e1f_level0_col9\" class=\"col_heading level0 col9\" >YearRemodAdd</th>\n",
       "      <th id=\"T_59e1f_level0_col10\" class=\"col_heading level0 col10\" >Functional</th>\n",
       "      <th id=\"T_59e1f_level0_col11\" class=\"col_heading level0 col11\" >SaleCondition</th>\n",
       "      <th id=\"T_59e1f_level0_col12\" class=\"col_heading level0 col12\" >BldgType</th>\n",
       "      <th id=\"T_59e1f_level0_col13\" class=\"col_heading level0 col13\" >SaleType</th>\n",
       "      <th id=\"T_59e1f_level0_col14\" class=\"col_heading level0 col14\" >SaleCondition</th>\n",
       "    </tr>\n",
       "  </thead>\n",
       "  <tbody>\n",
       "    <tr>\n",
       "      <td id=\"T_59e1f_row0_col0\" class=\"data row0 col0\" >955</td>\n",
       "      <td id=\"T_59e1f_row0_col1\" class=\"data row0 col1\" >0</td>\n",
       "      <td id=\"T_59e1f_row0_col2\" class=\"data row0 col2\" >TA</td>\n",
       "      <td id=\"T_59e1f_row0_col3\" class=\"data row0 col3\" >4</td>\n",
       "      <td id=\"T_59e1f_row0_col4\" class=\"data row0 col4\" >980</td>\n",
       "      <td id=\"T_59e1f_row0_col5\" class=\"data row0 col5\" >0</td>\n",
       "      <td id=\"T_59e1f_row0_col6\" class=\"data row0 col6\" >6</td>\n",
       "      <td id=\"T_59e1f_row0_col7\" class=\"data row0 col7\" >SFoyer</td>\n",
       "      <td id=\"T_59e1f_row0_col8\" class=\"data row0 col8\" >1975</td>\n",
       "      <td id=\"T_59e1f_row0_col9\" class=\"data row0 col9\" >1975</td>\n",
       "      <td id=\"T_59e1f_row0_col10\" class=\"data row0 col10\" >Typ</td>\n",
       "      <td id=\"T_59e1f_row0_col11\" class=\"data row0 col11\" >AdjLand</td>\n",
       "      <td id=\"T_59e1f_row0_col12\" class=\"data row0 col12\" >Duplex</td>\n",
       "      <td id=\"T_59e1f_row0_col13\" class=\"data row0 col13\" >WD</td>\n",
       "      <td id=\"T_59e1f_row0_col14\" class=\"data row0 col14\" >AdjLand</td>\n",
       "    </tr>\n",
       "    <tr>\n",
       "      <td id=\"T_59e1f_row1_col0\" class=\"data row1 col0\" >2588</td>\n",
       "      <td id=\"T_59e1f_row1_col1\" class=\"data row1 col1\" >0</td>\n",
       "      <td id=\"T_59e1f_row1_col2\" class=\"data row1 col2\" >TA</td>\n",
       "      <td id=\"T_59e1f_row1_col3\" class=\"data row1 col3\" >4</td>\n",
       "      <td id=\"T_59e1f_row1_col4\" class=\"data row1 col4\" >918</td>\n",
       "      <td id=\"T_59e1f_row1_col5\" class=\"data row1 col5\" >0</td>\n",
       "      <td id=\"T_59e1f_row1_col6\" class=\"data row1 col6\" >7</td>\n",
       "      <td id=\"T_59e1f_row1_col7\" class=\"data row1 col7\" >SLvl</td>\n",
       "      <td id=\"T_59e1f_row1_col8\" class=\"data row1 col8\" >1975</td>\n",
       "      <td id=\"T_59e1f_row1_col9\" class=\"data row1 col9\" >1975</td>\n",
       "      <td id=\"T_59e1f_row1_col10\" class=\"data row1 col10\" >Typ</td>\n",
       "      <td id=\"T_59e1f_row1_col11\" class=\"data row1 col11\" >Normal</td>\n",
       "      <td id=\"T_59e1f_row1_col12\" class=\"data row1 col12\" >1Fam</td>\n",
       "      <td id=\"T_59e1f_row1_col13\" class=\"data row1 col13\" >WD</td>\n",
       "      <td id=\"T_59e1f_row1_col14\" class=\"data row1 col14\" >Normal</td>\n",
       "    </tr>\n",
       "    <tr>\n",
       "      <td id=\"T_59e1f_row2_col0\" class=\"data row2 col0\" >2860</td>\n",
       "      <td id=\"T_59e1f_row2_col1\" class=\"data row2 col1\" >0</td>\n",
       "      <td id=\"T_59e1f_row2_col2\" class=\"data row2 col2\" >TA</td>\n",
       "      <td id=\"T_59e1f_row2_col3\" class=\"data row2 col3\" >4</td>\n",
       "      <td id=\"T_59e1f_row2_col4\" class=\"data row2 col4\" >1012</td>\n",
       "      <td id=\"T_59e1f_row2_col5\" class=\"data row2 col5\" >0</td>\n",
       "      <td id=\"T_59e1f_row2_col6\" class=\"data row2 col6\" >6</td>\n",
       "      <td id=\"T_59e1f_row2_col7\" class=\"data row2 col7\" >SFoyer</td>\n",
       "      <td id=\"T_59e1f_row2_col8\" class=\"data row2 col8\" >1975</td>\n",
       "      <td id=\"T_59e1f_row2_col9\" class=\"data row2 col9\" >1975</td>\n",
       "      <td id=\"T_59e1f_row2_col10\" class=\"data row2 col10\" >Typ</td>\n",
       "      <td id=\"T_59e1f_row2_col11\" class=\"data row2 col11\" >AdjLand</td>\n",
       "      <td id=\"T_59e1f_row2_col12\" class=\"data row2 col12\" >Duplex</td>\n",
       "      <td id=\"T_59e1f_row2_col13\" class=\"data row2 col13\" >WD</td>\n",
       "      <td id=\"T_59e1f_row2_col14\" class=\"data row2 col14\" >AdjLand</td>\n",
       "    </tr>\n",
       "  </tbody>\n",
       "</table>\n"
      ],
      "text/plain": [
       "<pandas.io.formats.style.Styler at 0x1348582d0>"
      ]
     },
     "metadata": {},
     "output_type": "display_data"
    }
   ],
   "source": [
    "cols_to_show_kitchen = [\n",
    "    'Id',\n",
    "    'KitchenAbvGr',\n",
    "    'KitchenQual',\n",
    "    'TotRmsAbvGrd',\n",
    "    'GrLivArea',\n",
    "    'LowQualFinSF',\n",
    "    'OverallQual',\n",
    "    'HouseStyle',\n",
    "    'YearBuilt',\n",
    "    'YearRemodAdd',\n",
    "    'Functional',\n",
    "    'SaleCondition',\n",
    "    'BldgType',\n",
    "    'SaleType',\n",
    "    'SaleCondition',\n",
    "]\n",
    "\n",
    "show_issue_details(\"No kitchen above grade\", cols_to_show_kitchen)\n",
    "\n",
    "# Remove the houses from the issues list\n",
    "df_issues_sorted = df_issues_sorted[df_issues_sorted['Issue'] != \"No kitchen above grade\"]\n"
   ]
  },
  {
   "cell_type": "code",
   "execution_count": 90,
   "metadata": {},
   "outputs": [
    {
     "data": {
      "text/html": [
       "<style type=\"text/css\">\n",
       "</style>\n",
       "<table id=\"T_2a5e5\">\n",
       "  <thead>\n",
       "    <tr>\n",
       "      <th id=\"T_2a5e5_level0_col0\" class=\"col_heading level0 col0\" >Id</th>\n",
       "      <th id=\"T_2a5e5_level0_col1\" class=\"col_heading level0 col1\" >KitchenAbvGr</th>\n",
       "      <th id=\"T_2a5e5_level0_col2\" class=\"col_heading level0 col2\" >KitchenQual</th>\n",
       "    </tr>\n",
       "  </thead>\n",
       "  <tbody>\n",
       "    <tr>\n",
       "      <td id=\"T_2a5e5_row0_col0\" class=\"data row0 col0\" >955</td>\n",
       "      <td id=\"T_2a5e5_row0_col1\" class=\"data row0 col1\" >1</td>\n",
       "      <td id=\"T_2a5e5_row0_col2\" class=\"data row0 col2\" >TA</td>\n",
       "    </tr>\n",
       "    <tr>\n",
       "      <td id=\"T_2a5e5_row1_col0\" class=\"data row1 col0\" >2588</td>\n",
       "      <td id=\"T_2a5e5_row1_col1\" class=\"data row1 col1\" >1</td>\n",
       "      <td id=\"T_2a5e5_row1_col2\" class=\"data row1 col2\" >TA</td>\n",
       "    </tr>\n",
       "    <tr>\n",
       "      <td id=\"T_2a5e5_row2_col0\" class=\"data row2 col0\" >2860</td>\n",
       "      <td id=\"T_2a5e5_row2_col1\" class=\"data row2 col1\" >1</td>\n",
       "      <td id=\"T_2a5e5_row2_col2\" class=\"data row2 col2\" >TA</td>\n",
       "    </tr>\n",
       "  </tbody>\n",
       "</table>\n"
      ],
      "text/plain": [
       "<pandas.io.formats.style.Styler at 0x1345b16d0>"
      ]
     },
     "metadata": {},
     "output_type": "display_data"
    }
   ],
   "source": [
    "# Set KitchenAbvGr to 1 for houses with no kitchen above grade\n",
    "df_combined.loc[df_combined['KitchenAbvGr'] == 0, 'KitchenAbvGr'] = 1\n",
    "\n",
    "# Display the houses with no kitchen above grade after fixing\n",
    "display(\n",
    "    df_combined[df_combined['Id'].isin([955, 2588, 2860])][['Id', 'KitchenAbvGr', 'KitchenQual']].style.hide(axis=\"index\")\n",
    "\n",
    ")"
   ]
  },
  {
   "cell_type": "markdown",
   "metadata": {},
   "source": [
    " **Conclusion for Houses with No Kitchen Above Grade**\n",
    "\n",
    "  - All 3 affected houses (IDs: 955, 2588, 2860) have KitchenAbvGr = 0 but show KitchenQual = TA, indicating kitchen quality is recorded despite zero\n",
    "  kitchen count.\n",
    "  - The houses have substantial living areas (918-1012 sqft) and 4 rooms above grade, making it implausible they lack kitchens entirely.\n",
    "  - All properties are from 1975, suggesting a systematic data entry error or coding issue from the original source.\n",
    "  - House styles include SFoyer (Split Foyer) and SLvl (Split Level), which are multi-level designs that typically have kitchens on the main level\n",
    "  above grade.\n",
    "  - Building types include both Duplex and 1Fam (Single Family), showing the error spans multiple property configurations.\n",
    "  - Two houses have AdjLand sale conditions, but one has Normal sale condition, indicating the issue is not related to special sale circumstances.\n",
    "\n",
    "  Given these points, the zero kitchen count appears to be a clear data entry error inconsistent with the house styles and building types, and is therefore set to 1 for all three houses, as every functional residence must have at least one kitchen."
   ]
  },
  {
   "cell_type": "markdown",
   "metadata": {},
   "source": [
    "#### Pool has area but PoolQC is missing"
   ]
  },
  {
   "cell_type": "code",
   "execution_count": 91,
   "metadata": {},
   "outputs": [
    {
     "name": "stdout",
     "output_type": "stream",
     "text": [
      "Issue: Pool has area but PoolQC is missing — 3 house(s) affected\n"
     ]
    },
    {
     "data": {
      "text/html": [
       "<style type=\"text/css\">\n",
       "</style>\n",
       "<table id=\"T_7d7d6\">\n",
       "  <thead>\n",
       "    <tr>\n",
       "      <th id=\"T_7d7d6_level0_col0\" class=\"col_heading level0 col0\" >Id</th>\n",
       "      <th id=\"T_7d7d6_level0_col1\" class=\"col_heading level0 col1\" >PoolArea</th>\n",
       "      <th id=\"T_7d7d6_level0_col2\" class=\"col_heading level0 col2\" >PoolQC</th>\n",
       "      <th id=\"T_7d7d6_level0_col3\" class=\"col_heading level0 col3\" >OverallQual</th>\n",
       "      <th id=\"T_7d7d6_level0_col4\" class=\"col_heading level0 col4\" >YearBuilt</th>\n",
       "      <th id=\"T_7d7d6_level0_col5\" class=\"col_heading level0 col5\" >MoSold</th>\n",
       "      <th id=\"T_7d7d6_level0_col6\" class=\"col_heading level0 col6\" >YrSold</th>\n",
       "      <th id=\"T_7d7d6_level0_col7\" class=\"col_heading level0 col7\" >YearRemodAdd</th>\n",
       "      <th id=\"T_7d7d6_level0_col8\" class=\"col_heading level0 col8\" >Functional</th>\n",
       "      <th id=\"T_7d7d6_level0_col9\" class=\"col_heading level0 col9\" >ExterQual</th>\n",
       "      <th id=\"T_7d7d6_level0_col10\" class=\"col_heading level0 col10\" >MiscFeature</th>\n",
       "      <th id=\"T_7d7d6_level0_col11\" class=\"col_heading level0 col11\" >MiscVal</th>\n",
       "      <th id=\"T_7d7d6_level0_col12\" class=\"col_heading level0 col12\" >SaleType</th>\n",
       "      <th id=\"T_7d7d6_level0_col13\" class=\"col_heading level0 col13\" >SaleCondition</th>\n",
       "    </tr>\n",
       "  </thead>\n",
       "  <tbody>\n",
       "    <tr>\n",
       "      <td id=\"T_7d7d6_row0_col0\" class=\"data row0 col0\" >2421</td>\n",
       "      <td id=\"T_7d7d6_row0_col1\" class=\"data row0 col1\" >368</td>\n",
       "      <td id=\"T_7d7d6_row0_col2\" class=\"data row0 col2\" >None</td>\n",
       "      <td id=\"T_7d7d6_row0_col3\" class=\"data row0 col3\" >4</td>\n",
       "      <td id=\"T_7d7d6_row0_col4\" class=\"data row0 col4\" >1953</td>\n",
       "      <td id=\"T_7d7d6_row0_col5\" class=\"data row0 col5\" >2</td>\n",
       "      <td id=\"T_7d7d6_row0_col6\" class=\"data row0 col6\" >2007</td>\n",
       "      <td id=\"T_7d7d6_row0_col7\" class=\"data row0 col7\" >1953</td>\n",
       "      <td id=\"T_7d7d6_row0_col8\" class=\"data row0 col8\" >Min1</td>\n",
       "      <td id=\"T_7d7d6_row0_col9\" class=\"data row0 col9\" >TA</td>\n",
       "      <td id=\"T_7d7d6_row0_col10\" class=\"data row0 col10\" >None</td>\n",
       "      <td id=\"T_7d7d6_row0_col11\" class=\"data row0 col11\" >0</td>\n",
       "      <td id=\"T_7d7d6_row0_col12\" class=\"data row0 col12\" >WD</td>\n",
       "      <td id=\"T_7d7d6_row0_col13\" class=\"data row0 col13\" >Normal</td>\n",
       "    </tr>\n",
       "    <tr>\n",
       "      <td id=\"T_7d7d6_row1_col0\" class=\"data row1 col0\" >2504</td>\n",
       "      <td id=\"T_7d7d6_row1_col1\" class=\"data row1 col1\" >444</td>\n",
       "      <td id=\"T_7d7d6_row1_col2\" class=\"data row1 col2\" >None</td>\n",
       "      <td id=\"T_7d7d6_row1_col3\" class=\"data row1 col3\" >6</td>\n",
       "      <td id=\"T_7d7d6_row1_col4\" class=\"data row1 col4\" >1984</td>\n",
       "      <td id=\"T_7d7d6_row1_col5\" class=\"data row1 col5\" >4</td>\n",
       "      <td id=\"T_7d7d6_row1_col6\" class=\"data row1 col6\" >2007</td>\n",
       "      <td id=\"T_7d7d6_row1_col7\" class=\"data row1 col7\" >1984</td>\n",
       "      <td id=\"T_7d7d6_row1_col8\" class=\"data row1 col8\" >Min2</td>\n",
       "      <td id=\"T_7d7d6_row1_col9\" class=\"data row1 col9\" >TA</td>\n",
       "      <td id=\"T_7d7d6_row1_col10\" class=\"data row1 col10\" >None</td>\n",
       "      <td id=\"T_7d7d6_row1_col11\" class=\"data row1 col11\" >0</td>\n",
       "      <td id=\"T_7d7d6_row1_col12\" class=\"data row1 col12\" >WD</td>\n",
       "      <td id=\"T_7d7d6_row1_col13\" class=\"data row1 col13\" >Normal</td>\n",
       "    </tr>\n",
       "    <tr>\n",
       "      <td id=\"T_7d7d6_row2_col0\" class=\"data row2 col0\" >2600</td>\n",
       "      <td id=\"T_7d7d6_row2_col1\" class=\"data row2 col1\" >561</td>\n",
       "      <td id=\"T_7d7d6_row2_col2\" class=\"data row2 col2\" >None</td>\n",
       "      <td id=\"T_7d7d6_row2_col3\" class=\"data row2 col3\" >3</td>\n",
       "      <td id=\"T_7d7d6_row2_col4\" class=\"data row2 col4\" >1953</td>\n",
       "      <td id=\"T_7d7d6_row2_col5\" class=\"data row2 col5\" >6</td>\n",
       "      <td id=\"T_7d7d6_row2_col6\" class=\"data row2 col6\" >2007</td>\n",
       "      <td id=\"T_7d7d6_row2_col7\" class=\"data row2 col7\" >1953</td>\n",
       "      <td id=\"T_7d7d6_row2_col8\" class=\"data row2 col8\" >Min1</td>\n",
       "      <td id=\"T_7d7d6_row2_col9\" class=\"data row2 col9\" >TA</td>\n",
       "      <td id=\"T_7d7d6_row2_col10\" class=\"data row2 col10\" >None</td>\n",
       "      <td id=\"T_7d7d6_row2_col11\" class=\"data row2 col11\" >0</td>\n",
       "      <td id=\"T_7d7d6_row2_col12\" class=\"data row2 col12\" >WD</td>\n",
       "      <td id=\"T_7d7d6_row2_col13\" class=\"data row2 col13\" >Normal</td>\n",
       "    </tr>\n",
       "  </tbody>\n",
       "</table>\n"
      ],
      "text/plain": [
       "<pandas.io.formats.style.Styler at 0x1345b16d0>"
      ]
     },
     "metadata": {},
     "output_type": "display_data"
    }
   ],
   "source": [
    "cols_to_show_pool = [\n",
    "    'Id',\n",
    "    'PoolArea',\n",
    "    'PoolQC',\n",
    "    'OverallQual',\n",
    "    'YearBuilt',\n",
    "    'MoSold', 'YrSold',\n",
    "    'YearRemodAdd',\n",
    "    'Functional',\n",
    "    'ExterQual',\n",
    "    'MiscFeature', 'MiscVal',\n",
    "    'SaleType', 'SaleCondition',\n",
    "]\n",
    "show_issue_details(\"Pool has area but PoolQC is missing\", cols_to_show_pool)\n",
    "\n",
    "# Remove the houses from the issues list\n",
    "df_issues_sorted = df_issues_sorted[df_issues_sorted['Issue'] != \"Pool has area but PoolQC is missing\"]"
   ]
  },
  {
   "cell_type": "markdown",
   "metadata": {},
   "source": [
    "#### Show houses with PoolQC\n"
   ]
  },
  {
   "cell_type": "code",
   "execution_count": 92,
   "metadata": {},
   "outputs": [
    {
     "data": {
      "text/html": [
       "<style type=\"text/css\">\n",
       "</style>\n",
       "<table id=\"T_2c280\">\n",
       "  <thead>\n",
       "    <tr>\n",
       "      <th id=\"T_2c280_level0_col0\" class=\"col_heading level0 col0\" >Id</th>\n",
       "      <th id=\"T_2c280_level0_col1\" class=\"col_heading level0 col1\" >PoolArea</th>\n",
       "      <th id=\"T_2c280_level0_col2\" class=\"col_heading level0 col2\" >PoolQC</th>\n",
       "      <th id=\"T_2c280_level0_col3\" class=\"col_heading level0 col3\" >OverallQual</th>\n",
       "      <th id=\"T_2c280_level0_col4\" class=\"col_heading level0 col4\" >YearBuilt</th>\n",
       "      <th id=\"T_2c280_level0_col5\" class=\"col_heading level0 col5\" >MoSold</th>\n",
       "      <th id=\"T_2c280_level0_col6\" class=\"col_heading level0 col6\" >YrSold</th>\n",
       "      <th id=\"T_2c280_level0_col7\" class=\"col_heading level0 col7\" >YearRemodAdd</th>\n",
       "      <th id=\"T_2c280_level0_col8\" class=\"col_heading level0 col8\" >Functional</th>\n",
       "      <th id=\"T_2c280_level0_col9\" class=\"col_heading level0 col9\" >ExterQual</th>\n",
       "      <th id=\"T_2c280_level0_col10\" class=\"col_heading level0 col10\" >MiscFeature</th>\n",
       "      <th id=\"T_2c280_level0_col11\" class=\"col_heading level0 col11\" >MiscVal</th>\n",
       "      <th id=\"T_2c280_level0_col12\" class=\"col_heading level0 col12\" >SaleType</th>\n",
       "      <th id=\"T_2c280_level0_col13\" class=\"col_heading level0 col13\" >SaleCondition</th>\n",
       "    </tr>\n",
       "  </thead>\n",
       "  <tbody>\n",
       "    <tr>\n",
       "      <td id=\"T_2c280_row0_col0\" class=\"data row0 col0\" >198</td>\n",
       "      <td id=\"T_2c280_row0_col1\" class=\"data row0 col1\" >512</td>\n",
       "      <td id=\"T_2c280_row0_col2\" class=\"data row0 col2\" >Ex</td>\n",
       "      <td id=\"T_2c280_row0_col3\" class=\"data row0 col3\" >8</td>\n",
       "      <td id=\"T_2c280_row0_col4\" class=\"data row0 col4\" >1918</td>\n",
       "      <td id=\"T_2c280_row0_col5\" class=\"data row0 col5\" >3</td>\n",
       "      <td id=\"T_2c280_row0_col6\" class=\"data row0 col6\" >2006</td>\n",
       "      <td id=\"T_2c280_row0_col7\" class=\"data row0 col7\" >1990</td>\n",
       "      <td id=\"T_2c280_row0_col8\" class=\"data row0 col8\" >Typ</td>\n",
       "      <td id=\"T_2c280_row0_col9\" class=\"data row0 col9\" >Gd</td>\n",
       "      <td id=\"T_2c280_row0_col10\" class=\"data row0 col10\" >None</td>\n",
       "      <td id=\"T_2c280_row0_col11\" class=\"data row0 col11\" >0</td>\n",
       "      <td id=\"T_2c280_row0_col12\" class=\"data row0 col12\" >WD</td>\n",
       "      <td id=\"T_2c280_row0_col13\" class=\"data row0 col13\" >Abnorml</td>\n",
       "    </tr>\n",
       "    <tr>\n",
       "      <td id=\"T_2c280_row1_col0\" class=\"data row1 col0\" >811</td>\n",
       "      <td id=\"T_2c280_row1_col1\" class=\"data row1 col1\" >648</td>\n",
       "      <td id=\"T_2c280_row1_col2\" class=\"data row1 col2\" >Fa</td>\n",
       "      <td id=\"T_2c280_row1_col3\" class=\"data row1 col3\" >6</td>\n",
       "      <td id=\"T_2c280_row1_col4\" class=\"data row1 col4\" >1974</td>\n",
       "      <td id=\"T_2c280_row1_col5\" class=\"data row1 col5\" >1</td>\n",
       "      <td id=\"T_2c280_row1_col6\" class=\"data row1 col6\" >2006</td>\n",
       "      <td id=\"T_2c280_row1_col7\" class=\"data row1 col7\" >1999</td>\n",
       "      <td id=\"T_2c280_row1_col8\" class=\"data row1 col8\" >Typ</td>\n",
       "      <td id=\"T_2c280_row1_col9\" class=\"data row1 col9\" >TA</td>\n",
       "      <td id=\"T_2c280_row1_col10\" class=\"data row1 col10\" >None</td>\n",
       "      <td id=\"T_2c280_row1_col11\" class=\"data row1 col11\" >0</td>\n",
       "      <td id=\"T_2c280_row1_col12\" class=\"data row1 col12\" >WD</td>\n",
       "      <td id=\"T_2c280_row1_col13\" class=\"data row1 col13\" >Normal</td>\n",
       "    </tr>\n",
       "    <tr>\n",
       "      <td id=\"T_2c280_row2_col0\" class=\"data row2 col0\" >1171</td>\n",
       "      <td id=\"T_2c280_row2_col1\" class=\"data row2 col1\" >576</td>\n",
       "      <td id=\"T_2c280_row2_col2\" class=\"data row2 col2\" >Gd</td>\n",
       "      <td id=\"T_2c280_row2_col3\" class=\"data row2 col3\" >6</td>\n",
       "      <td id=\"T_2c280_row2_col4\" class=\"data row2 col4\" >1977</td>\n",
       "      <td id=\"T_2c280_row2_col5\" class=\"data row2 col5\" >7</td>\n",
       "      <td id=\"T_2c280_row2_col6\" class=\"data row2 col6\" >2008</td>\n",
       "      <td id=\"T_2c280_row2_col7\" class=\"data row2 col7\" >1977</td>\n",
       "      <td id=\"T_2c280_row2_col8\" class=\"data row2 col8\" >Typ</td>\n",
       "      <td id=\"T_2c280_row2_col9\" class=\"data row2 col9\" >TA</td>\n",
       "      <td id=\"T_2c280_row2_col10\" class=\"data row2 col10\" >None</td>\n",
       "      <td id=\"T_2c280_row2_col11\" class=\"data row2 col11\" >0</td>\n",
       "      <td id=\"T_2c280_row2_col12\" class=\"data row2 col12\" >WD</td>\n",
       "      <td id=\"T_2c280_row2_col13\" class=\"data row2 col13\" >Normal</td>\n",
       "    </tr>\n",
       "    <tr>\n",
       "      <td id=\"T_2c280_row3_col0\" class=\"data row3 col0\" >1183</td>\n",
       "      <td id=\"T_2c280_row3_col1\" class=\"data row3 col1\" >555</td>\n",
       "      <td id=\"T_2c280_row3_col2\" class=\"data row3 col2\" >Ex</td>\n",
       "      <td id=\"T_2c280_row3_col3\" class=\"data row3 col3\" >10</td>\n",
       "      <td id=\"T_2c280_row3_col4\" class=\"data row3 col4\" >1996</td>\n",
       "      <td id=\"T_2c280_row3_col5\" class=\"data row3 col5\" >7</td>\n",
       "      <td id=\"T_2c280_row3_col6\" class=\"data row3 col6\" >2007</td>\n",
       "      <td id=\"T_2c280_row3_col7\" class=\"data row3 col7\" >1996</td>\n",
       "      <td id=\"T_2c280_row3_col8\" class=\"data row3 col8\" >Typ</td>\n",
       "      <td id=\"T_2c280_row3_col9\" class=\"data row3 col9\" >Gd</td>\n",
       "      <td id=\"T_2c280_row3_col10\" class=\"data row3 col10\" >None</td>\n",
       "      <td id=\"T_2c280_row3_col11\" class=\"data row3 col11\" >0</td>\n",
       "      <td id=\"T_2c280_row3_col12\" class=\"data row3 col12\" >WD</td>\n",
       "      <td id=\"T_2c280_row3_col13\" class=\"data row3 col13\" >Abnorml</td>\n",
       "    </tr>\n",
       "    <tr>\n",
       "      <td id=\"T_2c280_row4_col0\" class=\"data row4 col0\" >1387</td>\n",
       "      <td id=\"T_2c280_row4_col1\" class=\"data row4 col1\" >519</td>\n",
       "      <td id=\"T_2c280_row4_col2\" class=\"data row4 col2\" >Fa</td>\n",
       "      <td id=\"T_2c280_row4_col3\" class=\"data row4 col3\" >7</td>\n",
       "      <td id=\"T_2c280_row4_col4\" class=\"data row4 col4\" >1978</td>\n",
       "      <td id=\"T_2c280_row4_col5\" class=\"data row4 col5\" >7</td>\n",
       "      <td id=\"T_2c280_row4_col6\" class=\"data row4 col6\" >2006</td>\n",
       "      <td id=\"T_2c280_row4_col7\" class=\"data row4 col7\" >1978</td>\n",
       "      <td id=\"T_2c280_row4_col8\" class=\"data row4 col8\" >Typ</td>\n",
       "      <td id=\"T_2c280_row4_col9\" class=\"data row4 col9\" >TA</td>\n",
       "      <td id=\"T_2c280_row4_col10\" class=\"data row4 col10\" >TenC</td>\n",
       "      <td id=\"T_2c280_row4_col11\" class=\"data row4 col11\" >2000</td>\n",
       "      <td id=\"T_2c280_row4_col12\" class=\"data row4 col12\" >WD</td>\n",
       "      <td id=\"T_2c280_row4_col13\" class=\"data row4 col13\" >Normal</td>\n",
       "    </tr>\n",
       "    <tr>\n",
       "      <td id=\"T_2c280_row5_col0\" class=\"data row5 col0\" >1424</td>\n",
       "      <td id=\"T_2c280_row5_col1\" class=\"data row5 col1\" >738</td>\n",
       "      <td id=\"T_2c280_row5_col2\" class=\"data row5 col2\" >Gd</td>\n",
       "      <td id=\"T_2c280_row5_col3\" class=\"data row5 col3\" >6</td>\n",
       "      <td id=\"T_2c280_row5_col4\" class=\"data row5 col4\" >1966</td>\n",
       "      <td id=\"T_2c280_row5_col5\" class=\"data row5 col5\" >8</td>\n",
       "      <td id=\"T_2c280_row5_col6\" class=\"data row5 col6\" >2006</td>\n",
       "      <td id=\"T_2c280_row5_col7\" class=\"data row5 col7\" >1966</td>\n",
       "      <td id=\"T_2c280_row5_col8\" class=\"data row5 col8\" >Typ</td>\n",
       "      <td id=\"T_2c280_row5_col9\" class=\"data row5 col9\" >Gd</td>\n",
       "      <td id=\"T_2c280_row5_col10\" class=\"data row5 col10\" >None</td>\n",
       "      <td id=\"T_2c280_row5_col11\" class=\"data row5 col11\" >0</td>\n",
       "      <td id=\"T_2c280_row5_col12\" class=\"data row5 col12\" >WD</td>\n",
       "      <td id=\"T_2c280_row5_col13\" class=\"data row5 col13\" >Alloca</td>\n",
       "    </tr>\n",
       "    <tr>\n",
       "      <td id=\"T_2c280_row6_col0\" class=\"data row6 col0\" >1975</td>\n",
       "      <td id=\"T_2c280_row6_col1\" class=\"data row6 col1\" >144</td>\n",
       "      <td id=\"T_2c280_row6_col2\" class=\"data row6 col2\" >Ex</td>\n",
       "      <td id=\"T_2c280_row6_col3\" class=\"data row6 col3\" >10</td>\n",
       "      <td id=\"T_2c280_row6_col4\" class=\"data row6 col4\" >2003</td>\n",
       "      <td id=\"T_2c280_row6_col5\" class=\"data row6 col5\" >2</td>\n",
       "      <td id=\"T_2c280_row6_col6\" class=\"data row6 col6\" >2008</td>\n",
       "      <td id=\"T_2c280_row6_col7\" class=\"data row6 col7\" >2003</td>\n",
       "      <td id=\"T_2c280_row6_col8\" class=\"data row6 col8\" >Typ</td>\n",
       "      <td id=\"T_2c280_row6_col9\" class=\"data row6 col9\" >Ex</td>\n",
       "      <td id=\"T_2c280_row6_col10\" class=\"data row6 col10\" >None</td>\n",
       "      <td id=\"T_2c280_row6_col11\" class=\"data row6 col11\" >0</td>\n",
       "      <td id=\"T_2c280_row6_col12\" class=\"data row6 col12\" >WD</td>\n",
       "      <td id=\"T_2c280_row6_col13\" class=\"data row6 col13\" >Normal</td>\n",
       "    </tr>\n",
       "    <tr>\n",
       "      <td id=\"T_2c280_row7_col0\" class=\"data row7 col0\" >2574</td>\n",
       "      <td id=\"T_2c280_row7_col1\" class=\"data row7 col1\" >228</td>\n",
       "      <td id=\"T_2c280_row7_col2\" class=\"data row7 col2\" >Ex</td>\n",
       "      <td id=\"T_2c280_row7_col3\" class=\"data row7 col3\" >8</td>\n",
       "      <td id=\"T_2c280_row7_col4\" class=\"data row7 col4\" >1986</td>\n",
       "      <td id=\"T_2c280_row7_col5\" class=\"data row7 col5\" >8</td>\n",
       "      <td id=\"T_2c280_row7_col6\" class=\"data row7 col6\" >2007</td>\n",
       "      <td id=\"T_2c280_row7_col7\" class=\"data row7 col7\" >1986</td>\n",
       "      <td id=\"T_2c280_row7_col8\" class=\"data row7 col8\" >Typ</td>\n",
       "      <td id=\"T_2c280_row7_col9\" class=\"data row7 col9\" >Gd</td>\n",
       "      <td id=\"T_2c280_row7_col10\" class=\"data row7 col10\" >None</td>\n",
       "      <td id=\"T_2c280_row7_col11\" class=\"data row7 col11\" >0</td>\n",
       "      <td id=\"T_2c280_row7_col12\" class=\"data row7 col12\" >WD</td>\n",
       "      <td id=\"T_2c280_row7_col13\" class=\"data row7 col13\" >Normal</td>\n",
       "    </tr>\n",
       "    <tr>\n",
       "      <td id=\"T_2c280_row8_col0\" class=\"data row8 col0\" >2711</td>\n",
       "      <td id=\"T_2c280_row8_col1\" class=\"data row8 col1\" >800</td>\n",
       "      <td id=\"T_2c280_row8_col2\" class=\"data row8 col2\" >Gd</td>\n",
       "      <td id=\"T_2c280_row8_col3\" class=\"data row8 col3\" >7</td>\n",
       "      <td id=\"T_2c280_row8_col4\" class=\"data row8 col4\" >1974</td>\n",
       "      <td id=\"T_2c280_row8_col5\" class=\"data row8 col5\" >1</td>\n",
       "      <td id=\"T_2c280_row8_col6\" class=\"data row8 col6\" >2006</td>\n",
       "      <td id=\"T_2c280_row8_col7\" class=\"data row8 col7\" >1974</td>\n",
       "      <td id=\"T_2c280_row8_col8\" class=\"data row8 col8\" >Mod</td>\n",
       "      <td id=\"T_2c280_row8_col9\" class=\"data row8 col9\" >Gd</td>\n",
       "      <td id=\"T_2c280_row8_col10\" class=\"data row8 col10\" >None</td>\n",
       "      <td id=\"T_2c280_row8_col11\" class=\"data row8 col11\" >0</td>\n",
       "      <td id=\"T_2c280_row8_col12\" class=\"data row8 col12\" >WD</td>\n",
       "      <td id=\"T_2c280_row8_col13\" class=\"data row8 col13\" >Normal</td>\n",
       "    </tr>\n",
       "  </tbody>\n",
       "</table>\n"
      ],
      "text/plain": [
       "<pandas.io.formats.style.Styler at 0x1345b16d0>"
      ]
     },
     "metadata": {},
     "output_type": "display_data"
    }
   ],
   "source": [
    "# Houses with PoolQC\n",
    "df_pools = df_combined[df_combined['PoolQC'] != \"None\"][cols_to_show_pool]\n",
    "\n",
    "display(df_pools.style.hide(axis=\"index\"))"
   ]
  },
  {
   "cell_type": "code",
   "execution_count": 93,
   "metadata": {},
   "outputs": [
    {
     "data": {
      "text/html": [
       "<style type=\"text/css\">\n",
       "</style>\n",
       "<table id=\"T_f409d\">\n",
       "  <thead>\n",
       "    <tr>\n",
       "      <th id=\"T_f409d_level0_col0\" class=\"col_heading level0 col0\" >Id</th>\n",
       "      <th id=\"T_f409d_level0_col1\" class=\"col_heading level0 col1\" >PoolArea</th>\n",
       "      <th id=\"T_f409d_level0_col2\" class=\"col_heading level0 col2\" >PoolQC</th>\n",
       "    </tr>\n",
       "  </thead>\n",
       "  <tbody>\n",
       "    <tr>\n",
       "      <td id=\"T_f409d_row0_col0\" class=\"data row0 col0\" >2421</td>\n",
       "      <td id=\"T_f409d_row0_col1\" class=\"data row0 col1\" >0</td>\n",
       "      <td id=\"T_f409d_row0_col2\" class=\"data row0 col2\" >None</td>\n",
       "    </tr>\n",
       "    <tr>\n",
       "      <td id=\"T_f409d_row1_col0\" class=\"data row1 col0\" >2504</td>\n",
       "      <td id=\"T_f409d_row1_col1\" class=\"data row1 col1\" >0</td>\n",
       "      <td id=\"T_f409d_row1_col2\" class=\"data row1 col2\" >None</td>\n",
       "    </tr>\n",
       "    <tr>\n",
       "      <td id=\"T_f409d_row2_col0\" class=\"data row2 col0\" >2600</td>\n",
       "      <td id=\"T_f409d_row2_col1\" class=\"data row2 col1\" >0</td>\n",
       "      <td id=\"T_f409d_row2_col2\" class=\"data row2 col2\" >None</td>\n",
       "    </tr>\n",
       "  </tbody>\n",
       "</table>\n"
      ],
      "text/plain": [
       "<pandas.io.formats.style.Styler at 0x1345b16d0>"
      ]
     },
     "metadata": {},
     "output_type": "display_data"
    }
   ],
   "source": [
    "# Set PoolArea to 0 for houses with PoolQC missing\n",
    "df_combined.loc[df_combined['PoolQC'] == \"None\", 'PoolArea'] = 0\n",
    "\n",
    "# Display the houses with PoolQC missing after fixing\n",
    "display(\n",
    "    df_combined[df_combined['Id'].isin([2421, 2504, 2600])][['Id', 'PoolArea', 'PoolQC']].style.hide(axis=\"index\")\n",
    ")"
   ]
  },
  {
   "cell_type": "markdown",
   "metadata": {},
   "source": [
    "**Conclusion for Pool has area but PoolQC is missing**\n",
    "\n",
    "  Analysis of the 9 confirmed pools reveals a clear pattern: all houses with pools have OverallQual ≥ 6 (range: 6-10, even if we only look at the training data), indicating above-average to excellent property quality. In contrast, two of the three problematic houses (IDs 2421 and 2600) have OverallQual ≤ 4, representing below-average to fair quality properties.\n",
    "\n",
    "  Given that:\n",
    "  - All confirmed pools are in higher-quality homes (OverallQual ≥ 6)\n",
    "  - PoolQC = \"None\" explicitly means \"No Pool\" per data documentation\n",
    "  - Houses with OverallQual 3-4 are inconsistent with the established pool ownership pattern\n",
    "\n",
    "  \n",
    "  Decision: Set PoolArea = 0 for all three houses (IDs 2421, 2504, 2600) to maintain data consistency and respect the explicit \"No Pool\" designation in PoolQC.\n"
   ]
  },
  {
   "cell_type": "markdown",
   "metadata": {},
   "source": [
    "#### Remodel date before construction year"
   ]
  },
  {
   "cell_type": "code",
   "execution_count": 94,
   "metadata": {},
   "outputs": [
    {
     "name": "stdout",
     "output_type": "stream",
     "text": [
      "Issue: Remodel date before construction year — 1 house(s) affected\n"
     ]
    },
    {
     "data": {
      "text/html": [
       "<style type=\"text/css\">\n",
       "</style>\n",
       "<table id=\"T_723a4\">\n",
       "  <thead>\n",
       "    <tr>\n",
       "      <th id=\"T_723a4_level0_col0\" class=\"col_heading level0 col0\" >Id</th>\n",
       "      <th id=\"T_723a4_level0_col1\" class=\"col_heading level0 col1\" >YearBuilt</th>\n",
       "      <th id=\"T_723a4_level0_col2\" class=\"col_heading level0 col2\" >YearRemodAdd</th>\n",
       "      <th id=\"T_723a4_level0_col3\" class=\"col_heading level0 col3\" >YrSold</th>\n",
       "      <th id=\"T_723a4_level0_col4\" class=\"col_heading level0 col4\" >OverallQual</th>\n",
       "      <th id=\"T_723a4_level0_col5\" class=\"col_heading level0 col5\" >OverallCond</th>\n",
       "      <th id=\"T_723a4_level0_col6\" class=\"col_heading level0 col6\" >SaleType</th>\n",
       "      <th id=\"T_723a4_level0_col7\" class=\"col_heading level0 col7\" >SaleCondition</th>\n",
       "      <th id=\"T_723a4_level0_col8\" class=\"col_heading level0 col8\" >HouseStyle</th>\n",
       "      <th id=\"T_723a4_level0_col9\" class=\"col_heading level0 col9\" >BldgType</th>\n",
       "      <th id=\"T_723a4_level0_col10\" class=\"col_heading level0 col10\" >Foundation</th>\n",
       "      <th id=\"T_723a4_level0_col11\" class=\"col_heading level0 col11\" >Exterior1st</th>\n",
       "    </tr>\n",
       "  </thead>\n",
       "  <tbody>\n",
       "    <tr>\n",
       "      <td id=\"T_723a4_row0_col0\" class=\"data row0 col0\" >1877</td>\n",
       "      <td id=\"T_723a4_row0_col1\" class=\"data row0 col1\" >2002</td>\n",
       "      <td id=\"T_723a4_row0_col2\" class=\"data row0 col2\" >2001</td>\n",
       "      <td id=\"T_723a4_row0_col3\" class=\"data row0 col3\" >2009</td>\n",
       "      <td id=\"T_723a4_row0_col4\" class=\"data row0 col4\" >7</td>\n",
       "      <td id=\"T_723a4_row0_col5\" class=\"data row0 col5\" >5</td>\n",
       "      <td id=\"T_723a4_row0_col6\" class=\"data row0 col6\" >WD</td>\n",
       "      <td id=\"T_723a4_row0_col7\" class=\"data row0 col7\" >Normal</td>\n",
       "      <td id=\"T_723a4_row0_col8\" class=\"data row0 col8\" >1Story</td>\n",
       "      <td id=\"T_723a4_row0_col9\" class=\"data row0 col9\" >1Fam</td>\n",
       "      <td id=\"T_723a4_row0_col10\" class=\"data row0 col10\" >PConc</td>\n",
       "      <td id=\"T_723a4_row0_col11\" class=\"data row0 col11\" >VinylSd</td>\n",
       "    </tr>\n",
       "  </tbody>\n",
       "</table>\n"
      ],
      "text/plain": [
       "<pandas.io.formats.style.Styler at 0x134841690>"
      ]
     },
     "metadata": {},
     "output_type": "display_data"
    }
   ],
   "source": [
    "cols_to_show_remodel = [\n",
    "      'Id',\n",
    "      'YearBuilt', 'YearRemodAdd', 'YrSold',\n",
    "      'OverallQual', 'OverallCond',\n",
    "      'SaleType', 'SaleCondition',\n",
    "      'HouseStyle', 'BldgType',\n",
    "      'Foundation', 'Exterior1st',\n",
    "  ]\n",
    "\n",
    "show_issue_details(\"Remodel date before construction year\", cols_to_show_remodel)\n",
    "\n",
    "# Remove the houses from the issues list\n",
    "df_issues_sorted = df_issues_sorted[df_issues_sorted['Issue'] != \"Remodel date before construction year\"]"
   ]
  },
  {
   "cell_type": "code",
   "execution_count": 95,
   "metadata": {},
   "outputs": [
    {
     "data": {
      "text/html": [
       "<style type=\"text/css\">\n",
       "</style>\n",
       "<table id=\"T_9629e\">\n",
       "  <thead>\n",
       "    <tr>\n",
       "      <th id=\"T_9629e_level0_col0\" class=\"col_heading level0 col0\" >Id</th>\n",
       "      <th id=\"T_9629e_level0_col1\" class=\"col_heading level0 col1\" >YearBuilt</th>\n",
       "      <th id=\"T_9629e_level0_col2\" class=\"col_heading level0 col2\" >YearRemodAdd</th>\n",
       "    </tr>\n",
       "  </thead>\n",
       "  <tbody>\n",
       "    <tr>\n",
       "      <td id=\"T_9629e_row0_col0\" class=\"data row0 col0\" >1877</td>\n",
       "      <td id=\"T_9629e_row0_col1\" class=\"data row0 col1\" >2002</td>\n",
       "      <td id=\"T_9629e_row0_col2\" class=\"data row0 col2\" >2002</td>\n",
       "    </tr>\n",
       "  </tbody>\n",
       "</table>\n"
      ],
      "text/plain": [
       "<pandas.io.formats.style.Styler at 0x1347f3cd0>"
      ]
     },
     "metadata": {},
     "output_type": "display_data"
    }
   ],
   "source": [
    "# Fix remodel date before construction year\n",
    "df_combined.loc[df_combined['Id'] == 1877, 'YearRemodAdd'] = 2002\n",
    "\n",
    "# Display the house with ID 1877 after fixing\n",
    "display(\n",
    "    df_combined[df_combined['Id'] == 1877][['Id', 'YearBuilt', 'YearRemodAdd']].style.hide(axis=\"index\")\n",
    ")"
   ]
  },
  {
   "cell_type": "markdown",
   "metadata": {},
   "source": [
    "**Conclusion for Remodel Date Before Construction Year**\n",
    "\n",
    "House ID 1877 shows YearRemodAdd (2001) preceding YearBuilt (2002), which is logically impossible. This represents a clear data entry error where\n",
    "the remodel date was recorded one year before the house was actually constructed.\n",
    "\n",
    "Decision: Set YearRemodAdd = YearBuilt = 2002 for ID 1877. According to the data documentation, when no remodeling or additions have occurred,\n",
    "YearRemodAdd should equal the construction date. \n"
   ]
  },
  {
   "cell_type": "markdown",
   "metadata": {},
   "source": [
    "#### Remodel date is after the house was sold"
   ]
  },
  {
   "cell_type": "code",
   "execution_count": 96,
   "metadata": {},
   "outputs": [
    {
     "name": "stdout",
     "output_type": "stream",
     "text": [
      "Issue: Remodel date is after the house was sold — 2 house(s) affected\n"
     ]
    },
    {
     "data": {
      "text/html": [
       "<style type=\"text/css\">\n",
       "</style>\n",
       "<table id=\"T_8d42d\">\n",
       "  <thead>\n",
       "    <tr>\n",
       "      <th id=\"T_8d42d_level0_col0\" class=\"col_heading level0 col0\" >Id</th>\n",
       "      <th id=\"T_8d42d_level0_col1\" class=\"col_heading level0 col1\" >YearBuilt</th>\n",
       "      <th id=\"T_8d42d_level0_col2\" class=\"col_heading level0 col2\" >YearRemodAdd</th>\n",
       "      <th id=\"T_8d42d_level0_col3\" class=\"col_heading level0 col3\" >YrSold</th>\n",
       "      <th id=\"T_8d42d_level0_col4\" class=\"col_heading level0 col4\" >MoSold</th>\n",
       "      <th id=\"T_8d42d_level0_col5\" class=\"col_heading level0 col5\" >SaleType</th>\n",
       "      <th id=\"T_8d42d_level0_col6\" class=\"col_heading level0 col6\" >SaleCondition</th>\n",
       "      <th id=\"T_8d42d_level0_col7\" class=\"col_heading level0 col7\" >OverallQual</th>\n",
       "      <th id=\"T_8d42d_level0_col8\" class=\"col_heading level0 col8\" >OverallCond</th>\n",
       "      <th id=\"T_8d42d_level0_col9\" class=\"col_heading level0 col9\" >HouseStyle</th>\n",
       "      <th id=\"T_8d42d_level0_col10\" class=\"col_heading level0 col10\" >BldgType</th>\n",
       "      <th id=\"T_8d42d_level0_col11\" class=\"col_heading level0 col11\" >Functional</th>\n",
       "    </tr>\n",
       "  </thead>\n",
       "  <tbody>\n",
       "    <tr>\n",
       "      <td id=\"T_8d42d_row0_col0\" class=\"data row0 col0\" >2296</td>\n",
       "      <td id=\"T_8d42d_row0_col1\" class=\"data row0 col1\" >2007</td>\n",
       "      <td id=\"T_8d42d_row0_col2\" class=\"data row0 col2\" >2008</td>\n",
       "      <td id=\"T_8d42d_row0_col3\" class=\"data row0 col3\" >2007</td>\n",
       "      <td id=\"T_8d42d_row0_col4\" class=\"data row0 col4\" >6</td>\n",
       "      <td id=\"T_8d42d_row0_col5\" class=\"data row0 col5\" >New</td>\n",
       "      <td id=\"T_8d42d_row0_col6\" class=\"data row0 col6\" >Partial</td>\n",
       "      <td id=\"T_8d42d_row0_col7\" class=\"data row0 col7\" >8</td>\n",
       "      <td id=\"T_8d42d_row0_col8\" class=\"data row0 col8\" >5</td>\n",
       "      <td id=\"T_8d42d_row0_col9\" class=\"data row0 col9\" >2Story</td>\n",
       "      <td id=\"T_8d42d_row0_col10\" class=\"data row0 col10\" >1Fam</td>\n",
       "      <td id=\"T_8d42d_row0_col11\" class=\"data row0 col11\" >Typ</td>\n",
       "    </tr>\n",
       "  </tbody>\n",
       "</table>\n"
      ],
      "text/plain": [
       "<pandas.io.formats.style.Styler at 0x134694050>"
      ]
     },
     "metadata": {},
     "output_type": "display_data"
    }
   ],
   "source": [
    "cols_to_show_remodel_after_sale = [\n",
    "      'Id',\n",
    "      'YearBuilt', 'YearRemodAdd', 'YrSold', 'MoSold',\n",
    "      'SaleType', 'SaleCondition',\n",
    "      'OverallQual', 'OverallCond',\n",
    "      'HouseStyle', 'BldgType',\n",
    "      'Functional'\n",
    "  ]\n",
    "\n",
    "show_issue_details(\"Remodel date is after the house was sold\", cols_to_show_remodel_after_sale)\n",
    "\n",
    "# Remove the houses from the issues list\n",
    "df_issues_sorted = df_issues_sorted[df_issues_sorted['Issue'] != \"Remodel date is after the house was sold\"]"
   ]
  },
  {
   "cell_type": "markdown",
   "metadata": {},
   "source": [
    "**Conclusion for Remodel Date After House Was Sold**\n",
    "\n",
    "  House ID 2296 shows YearRemodAdd (2008) after YrSold (2007), but this is actually logical given the sale context. The property was sold as SaleType = \"New\" with SaleCondition = \"Partial\", indicating a newly constructed home that was not completed when sold."
   ]
  },
  {
   "cell_type": "markdown",
   "metadata": {},
   "source": [
    "#### Basement has area but BsmtQual is missing"
   ]
  },
  {
   "cell_type": "code",
   "execution_count": 97,
   "metadata": {},
   "outputs": [
    {
     "name": "stdout",
     "output_type": "stream",
     "text": [
      "Issue: Basement has area but BsmtQual is missing — 2 house(s) affected\n"
     ]
    },
    {
     "data": {
      "text/html": [
       "<style type=\"text/css\">\n",
       "</style>\n",
       "<table id=\"T_f9647\">\n",
       "  <thead>\n",
       "    <tr>\n",
       "      <th id=\"T_f9647_level0_col0\" class=\"col_heading level0 col0\" >Id</th>\n",
       "      <th id=\"T_f9647_level0_col1\" class=\"col_heading level0 col1\" >TotalBsmtSF</th>\n",
       "      <th id=\"T_f9647_level0_col2\" class=\"col_heading level0 col2\" >BsmtUnfSF</th>\n",
       "      <th id=\"T_f9647_level0_col3\" class=\"col_heading level0 col3\" >BsmtFinSF1</th>\n",
       "      <th id=\"T_f9647_level0_col4\" class=\"col_heading level0 col4\" >BsmtFinSF2</th>\n",
       "      <th id=\"T_f9647_level0_col5\" class=\"col_heading level0 col5\" >BsmtQual</th>\n",
       "      <th id=\"T_f9647_level0_col6\" class=\"col_heading level0 col6\" >BsmtCond</th>\n",
       "      <th id=\"T_f9647_level0_col7\" class=\"col_heading level0 col7\" >BsmtExposure</th>\n",
       "      <th id=\"T_f9647_level0_col8\" class=\"col_heading level0 col8\" >BsmtFinType1</th>\n",
       "      <th id=\"T_f9647_level0_col9\" class=\"col_heading level0 col9\" >BsmtFinType2</th>\n",
       "      <th id=\"T_f9647_level0_col10\" class=\"col_heading level0 col10\" >BsmtFullBath</th>\n",
       "      <th id=\"T_f9647_level0_col11\" class=\"col_heading level0 col11\" >BsmtHalfBath</th>\n",
       "      <th id=\"T_f9647_level0_col12\" class=\"col_heading level0 col12\" >LowQualFinSF</th>\n",
       "      <th id=\"T_f9647_level0_col13\" class=\"col_heading level0 col13\" >Functional</th>\n",
       "      <th id=\"T_f9647_level0_col14\" class=\"col_heading level0 col14\" >Foundation</th>\n",
       "      <th id=\"T_f9647_level0_col15\" class=\"col_heading level0 col15\" >OverallQual</th>\n",
       "      <th id=\"T_f9647_level0_col16\" class=\"col_heading level0 col16\" >OverallCond</th>\n",
       "      <th id=\"T_f9647_level0_col17\" class=\"col_heading level0 col17\" >YearBuilt</th>\n",
       "      <th id=\"T_f9647_level0_col18\" class=\"col_heading level0 col18\" >YearRemodAdd</th>\n",
       "      <th id=\"T_f9647_level0_col19\" class=\"col_heading level0 col19\" >HouseStyle</th>\n",
       "      <th id=\"T_f9647_level0_col20\" class=\"col_heading level0 col20\" >BldgType</th>\n",
       "      <th id=\"T_f9647_level0_col21\" class=\"col_heading level0 col21\" >1stFlrSF</th>\n",
       "      <th id=\"T_f9647_level0_col22\" class=\"col_heading level0 col22\" >GrLivArea</th>\n",
       "      <th id=\"T_f9647_level0_col23\" class=\"col_heading level0 col23\" >SaleType</th>\n",
       "      <th id=\"T_f9647_level0_col24\" class=\"col_heading level0 col24\" >SaleCondition</th>\n",
       "    </tr>\n",
       "  </thead>\n",
       "  <tbody>\n",
       "    <tr>\n",
       "      <td id=\"T_f9647_row0_col0\" class=\"data row0 col0\" >2218</td>\n",
       "      <td id=\"T_f9647_row0_col1\" class=\"data row0 col1\" >173.000000</td>\n",
       "      <td id=\"T_f9647_row0_col2\" class=\"data row0 col2\" >173.000000</td>\n",
       "      <td id=\"T_f9647_row0_col3\" class=\"data row0 col3\" >0.000000</td>\n",
       "      <td id=\"T_f9647_row0_col4\" class=\"data row0 col4\" >0.000000</td>\n",
       "      <td id=\"T_f9647_row0_col5\" class=\"data row0 col5\" >None</td>\n",
       "      <td id=\"T_f9647_row0_col6\" class=\"data row0 col6\" >Fa</td>\n",
       "      <td id=\"T_f9647_row0_col7\" class=\"data row0 col7\" >No</td>\n",
       "      <td id=\"T_f9647_row0_col8\" class=\"data row0 col8\" >Unf</td>\n",
       "      <td id=\"T_f9647_row0_col9\" class=\"data row0 col9\" >Unf</td>\n",
       "      <td id=\"T_f9647_row0_col10\" class=\"data row0 col10\" >0.000000</td>\n",
       "      <td id=\"T_f9647_row0_col11\" class=\"data row0 col11\" >0.000000</td>\n",
       "      <td id=\"T_f9647_row0_col12\" class=\"data row0 col12\" >0</td>\n",
       "      <td id=\"T_f9647_row0_col13\" class=\"data row0 col13\" >Typ</td>\n",
       "      <td id=\"T_f9647_row0_col14\" class=\"data row0 col14\" >Stone</td>\n",
       "      <td id=\"T_f9647_row0_col15\" class=\"data row0 col15\" >4</td>\n",
       "      <td id=\"T_f9647_row0_col16\" class=\"data row0 col16\" >7</td>\n",
       "      <td id=\"T_f9647_row0_col17\" class=\"data row0 col17\" >1895</td>\n",
       "      <td id=\"T_f9647_row0_col18\" class=\"data row0 col18\" >1950</td>\n",
       "      <td id=\"T_f9647_row0_col19\" class=\"data row0 col19\" >2Story</td>\n",
       "      <td id=\"T_f9647_row0_col20\" class=\"data row0 col20\" >1Fam</td>\n",
       "      <td id=\"T_f9647_row0_col21\" class=\"data row0 col21\" >825</td>\n",
       "      <td id=\"T_f9647_row0_col22\" class=\"data row0 col22\" >1361</td>\n",
       "      <td id=\"T_f9647_row0_col23\" class=\"data row0 col23\" >WD</td>\n",
       "      <td id=\"T_f9647_row0_col24\" class=\"data row0 col24\" >Normal</td>\n",
       "    </tr>\n",
       "    <tr>\n",
       "      <td id=\"T_f9647_row1_col0\" class=\"data row1 col0\" >2219</td>\n",
       "      <td id=\"T_f9647_row1_col1\" class=\"data row1 col1\" >356.000000</td>\n",
       "      <td id=\"T_f9647_row1_col2\" class=\"data row1 col2\" >356.000000</td>\n",
       "      <td id=\"T_f9647_row1_col3\" class=\"data row1 col3\" >0.000000</td>\n",
       "      <td id=\"T_f9647_row1_col4\" class=\"data row1 col4\" >0.000000</td>\n",
       "      <td id=\"T_f9647_row1_col5\" class=\"data row1 col5\" >None</td>\n",
       "      <td id=\"T_f9647_row1_col6\" class=\"data row1 col6\" >TA</td>\n",
       "      <td id=\"T_f9647_row1_col7\" class=\"data row1 col7\" >No</td>\n",
       "      <td id=\"T_f9647_row1_col8\" class=\"data row1 col8\" >Unf</td>\n",
       "      <td id=\"T_f9647_row1_col9\" class=\"data row1 col9\" >Unf</td>\n",
       "      <td id=\"T_f9647_row1_col10\" class=\"data row1 col10\" >0.000000</td>\n",
       "      <td id=\"T_f9647_row1_col11\" class=\"data row1 col11\" >0.000000</td>\n",
       "      <td id=\"T_f9647_row1_col12\" class=\"data row1 col12\" >0</td>\n",
       "      <td id=\"T_f9647_row1_col13\" class=\"data row1 col13\" >Typ</td>\n",
       "      <td id=\"T_f9647_row1_col14\" class=\"data row1 col14\" >PConc</td>\n",
       "      <td id=\"T_f9647_row1_col15\" class=\"data row1 col15\" >4</td>\n",
       "      <td id=\"T_f9647_row1_col16\" class=\"data row1 col16\" >7</td>\n",
       "      <td id=\"T_f9647_row1_col17\" class=\"data row1 col17\" >1910</td>\n",
       "      <td id=\"T_f9647_row1_col18\" class=\"data row1 col18\" >2000</td>\n",
       "      <td id=\"T_f9647_row1_col19\" class=\"data row1 col19\" >1.5Fin</td>\n",
       "      <td id=\"T_f9647_row1_col20\" class=\"data row1 col20\" >1Fam</td>\n",
       "      <td id=\"T_f9647_row1_col21\" class=\"data row1 col21\" >671</td>\n",
       "      <td id=\"T_f9647_row1_col22\" class=\"data row1 col22\" >1049</td>\n",
       "      <td id=\"T_f9647_row1_col23\" class=\"data row1 col23\" >WD</td>\n",
       "      <td id=\"T_f9647_row1_col24\" class=\"data row1 col24\" >Normal</td>\n",
       "    </tr>\n",
       "  </tbody>\n",
       "</table>\n"
      ],
      "text/plain": [
       "<pandas.io.formats.style.Styler at 0x1347f3cd0>"
      ]
     },
     "metadata": {},
     "output_type": "display_data"
    }
   ],
   "source": [
    "cols_to_show_basement = [\n",
    "      'Id',\n",
    "      'TotalBsmtSF', 'BsmtUnfSF', 'BsmtFinSF1', 'BsmtFinSF2',\n",
    "      'BsmtQual', 'BsmtCond', 'BsmtExposure',\n",
    "      'BsmtFinType1', 'BsmtFinType2',\n",
    "      'BsmtFullBath', 'BsmtHalfBath',\n",
    "      'LowQualFinSF', 'Functional',\n",
    "      'Foundation', 'OverallQual', 'OverallCond',\n",
    "      'YearBuilt', 'YearRemodAdd',\n",
    "      'HouseStyle', 'BldgType',\n",
    "      '1stFlrSF', 'GrLivArea',\n",
    "      'SaleType', 'SaleCondition'\n",
    "  ]\n",
    "\n",
    "show_issue_details(\"Basement has area but BsmtQual is missing\", cols_to_show_basement)\n",
    "\n",
    "# Remove the houses from the issues list\n",
    "df_issues_sorted = df_issues_sorted[df_issues_sorted['Issue'] != \"Basement has area but BsmtQual is missing\"]"
   ]
  },
  {
   "cell_type": "code",
   "execution_count": 98,
   "metadata": {},
   "outputs": [
    {
     "data": {
      "text/html": [
       "<style type=\"text/css\">\n",
       "</style>\n",
       "<table id=\"T_a32bd\">\n",
       "  <thead>\n",
       "    <tr>\n",
       "      <th id=\"T_a32bd_level0_col0\" class=\"col_heading level0 col0\" >Id</th>\n",
       "      <th id=\"T_a32bd_level0_col1\" class=\"col_heading level0 col1\" >BsmtQual</th>\n",
       "      <th id=\"T_a32bd_level0_col2\" class=\"col_heading level0 col2\" >TotalBsmtSF</th>\n",
       "    </tr>\n",
       "  </thead>\n",
       "  <tbody>\n",
       "    <tr>\n",
       "      <td id=\"T_a32bd_row0_col0\" class=\"data row0 col0\" >2218</td>\n",
       "      <td id=\"T_a32bd_row0_col1\" class=\"data row0 col1\" >Po</td>\n",
       "      <td id=\"T_a32bd_row0_col2\" class=\"data row0 col2\" >173.000000</td>\n",
       "    </tr>\n",
       "    <tr>\n",
       "      <td id=\"T_a32bd_row1_col0\" class=\"data row1 col0\" >2219</td>\n",
       "      <td id=\"T_a32bd_row1_col1\" class=\"data row1 col1\" >Fa</td>\n",
       "      <td id=\"T_a32bd_row1_col2\" class=\"data row1 col2\" >356.000000</td>\n",
       "    </tr>\n",
       "  </tbody>\n",
       "</table>\n"
      ],
      "text/plain": [
       "<pandas.io.formats.style.Styler at 0x134694050>"
      ]
     },
     "metadata": {},
     "output_type": "display_data"
    }
   ],
   "source": [
    " # Fix basement quality missing values  \n",
    "df_combined.loc[df_combined['Id'] == 2218, 'BsmtQual'] = 'Po'                                                                  \n",
    "df_combined.loc[df_combined['Id'] == 2219, 'BsmtQual'] = 'Fa' \n",
    "\n",
    "# Display the houses with missing BsmtQual after fixing\n",
    "display(\n",
    "    df_combined[df_combined['Id'].isin([2218, 2219])][['Id', 'BsmtQual', 'TotalBsmtSF']].style.hide(axis=\"index\")\n",
    ")"
   ]
  },
  {
   "cell_type": "markdown",
   "metadata": {},
   "source": [
    "**Conclusion for Basement Has Area but BsmtQual is Missing**\n",
    "\n",
    "According to the data documentation, BsmtQual specifically measures basement height in inches, not general quality.\n",
    "\n",
    "  Analysis:\n",
    "  - Both houses are very old (1895, 1910) with completely unfinished basements\n",
    "  - ID 2218: Stone foundation, BsmtCond = Fa, suggesting an older, lower-quality basement\n",
    "  - ID 2219: Poured concrete foundation, BsmtCond = TA, indicating slightly better construction\n",
    "\n",
    "  Historical Context: Houses built in the 1890s-1910s typically had low basement ceilings, often below modern standards, as basements were primarily\n",
    "  used for utilities rather than living space.\n",
    "\n",
    "  Decision:\n",
    "  - ID 2218: Set BsmtQual = \"Po\" (Poor, <70 inches) - stone foundation and fair condition suggest very low ceiling height\n",
    "  - ID 2219: Set BsmtQual = \"Fa\" (Fair, 70-79 inches) - poured concrete foundation and typical condition suggest marginally better ceiling height\n",
    "\n",
    "  This correction maintains logical consistency while reflecting realistic basement height expectations for houses of this vintage."
   ]
  },
  {
   "cell_type": "markdown",
   "metadata": {},
   "source": [
    "### 5.4 Verify Data Quality Corrections\n",
    "Verify that the data quality corrections have been applied correctly and that the issues have been resolved."
   ]
  },
  {
   "cell_type": "code",
   "execution_count": 99,
   "metadata": {},
   "outputs": [
    {
     "data": {
      "text/html": [
       "<style type=\"text/css\">\n",
       "</style>\n",
       "<table id=\"T_67c47\">\n",
       "  <thead>\n",
       "    <tr>\n",
       "      <th id=\"T_67c47_level0_col0\" class=\"col_heading level0 col0\" >Id</th>\n",
       "      <th id=\"T_67c47_level0_col1\" class=\"col_heading level0 col1\" >Issue</th>\n",
       "      <th id=\"T_67c47_level0_col2\" class=\"col_heading level0 col2\" >IssueCount</th>\n",
       "    </tr>\n",
       "  </thead>\n",
       "  <tbody>\n",
       "  </tbody>\n",
       "</table>\n"
      ],
      "text/plain": [
       "<pandas.io.formats.style.Styler at 0x1347f16d0>"
      ]
     },
     "metadata": {},
     "output_type": "display_data"
    }
   ],
   "source": [
    "# Display the dataframe with the issue after fixing\n",
    "\n",
    "display(df_issues_sorted.style.hide(axis=\"index\"))"
   ]
  },
  {
   "cell_type": "markdown",
   "metadata": {},
   "source": [
    "All issues have been addressed and the dataset is now cleaned up."
   ]
  },
  {
   "cell_type": "markdown",
   "metadata": {},
   "source": [
    "## 6. Data Type Optimization\n",
    "\n",
    "Convert float columns to integer types where appropriate to improve model performance and reduce memory usage. This optimization ensures better\n",
    "numerical stability during training while maintaining data integrity.\n",
    "\n",
    "### 6.1 Data Type Analysis\n",
    "\n",
    "Identify current data types"
   ]
  },
  {
   "cell_type": "code",
   "execution_count": 100,
   "metadata": {},
   "outputs": [
    {
     "name": "stdout",
     "output_type": "stream",
     "text": [
      "Current Data Types Analysis:\n",
      "Dataset shape: (2917, 81)\n",
      "\n",
      "Data type distribution:\n",
      "object      44\n",
      "int64       23\n",
      "float64     11\n",
      "category     1\n",
      "category     1\n",
      "category     1\n",
      "Name: count, dtype: int64\n"
     ]
    }
   ],
   "source": [
    "# Analyze current data types\n",
    "print(\"Current Data Types Analysis:\")\n",
    "print(f\"Dataset shape: {df_combined.shape}\")\n",
    "\n",
    "print(f\"\\nData type distribution:\")\n",
    "print(df_combined.dtypes.value_counts())"
   ]
  },
  {
   "cell_type": "markdown",
   "metadata": {},
   "source": [
    "The dataset contains 29 numberic features, of which 6 are float and 23 are integer types."
   ]
  },
  {
   "cell_type": "markdown",
   "metadata": {},
   "source": [
    "### 6.2 Float Features Verification\n",
    "\n",
    "Check which float features actually contain whole numbers vs decimals"
   ]
  },
  {
   "cell_type": "code",
   "execution_count": 101,
   "metadata": {},
   "outputs": [
    {
     "name": "stdout",
     "output_type": "stream",
     "text": [
      "Float Features Analysis:\n",
      "\n",
      "LotFrontage:\n",
      "  Range: 21.00 - 313.00\n",
      "  All whole numbers: False\n",
      "  Sample decimal values: [66.5 73.5 66.5]\n",
      "\n",
      "MasVnrArea:\n",
      "  Range: 0.00 - 1600.00\n",
      "  All whole numbers: True\n",
      "\n",
      "BsmtFinSF1:\n",
      "  Range: 0.00 - 4010.00\n",
      "  All whole numbers: True\n",
      "\n",
      "BsmtFinSF2:\n",
      "  Range: 0.00 - 1526.00\n",
      "  All whole numbers: True\n",
      "\n",
      "BsmtUnfSF:\n",
      "  Range: 0.00 - 2336.00\n",
      "  All whole numbers: True\n",
      "\n",
      "TotalBsmtSF:\n",
      "  Range: 0.00 - 5095.00\n",
      "  All whole numbers: True\n",
      "\n",
      "BsmtFullBath:\n",
      "  Range: 0.00 - 3.00\n",
      "  All whole numbers: True\n",
      "\n",
      "BsmtHalfBath:\n",
      "  Range: 0.00 - 2.00\n",
      "  All whole numbers: True\n",
      "\n",
      "GarageYrBlt:\n",
      "  Range: 0.00 - 2010.00\n",
      "  All whole numbers: True\n",
      "\n",
      "GarageCars:\n",
      "  Range: 0.00 - 5.00\n",
      "  All whole numbers: True\n",
      "\n",
      "GarageArea:\n",
      "  Range: 0.00 - 1488.00\n",
      "  All whole numbers: True\n",
      "\n",
      "Summary:\n",
      "Features safe for int conversion: 10\n",
      "Features with decimals: 1\n",
      "\n",
      "Whole number features: ['MasVnrArea', 'BsmtFinSF1', 'BsmtFinSF2', 'BsmtUnfSF', 'TotalBsmtSF', 'BsmtFullBath', 'BsmtHalfBath', 'GarageYrBlt', 'GarageCars', 'GarageArea']\n",
      "Decimal features: ['LotFrontage']\n"
     ]
    }
   ],
   "source": [
    "# Get all float features for analysis\n",
    "float_features = df_combined.select_dtypes(include=['float64']).columns.tolist()\n",
    "\n",
    "print(\"Float Features Analysis:\")\n",
    "\n",
    "whole_number_features = []\n",
    "decimal_features = []\n",
    "\n",
    "for feature in float_features:\n",
    "    # Check if all values are whole numbers\n",
    "    is_whole = (df_combined[feature] == df_combined[feature].astype(int)).all()\n",
    "\n",
    "    print(f\"\\n{feature}:\")\n",
    "    print(f\"  Range: {df_combined[feature].min():.2f} - {df_combined[feature].max():.2f}\")\n",
    "    print(f\"  All whole numbers: {is_whole}\")\n",
    "\n",
    "    if not is_whole:\n",
    "        decimal_vals = df_combined[feature][df_combined[feature] != df_combined[feature].astype(int)]\n",
    "        print(f\"  Sample decimal values: {decimal_vals.head(3).values}\")\n",
    "        decimal_features.append(feature)\n",
    "    else:\n",
    "        whole_number_features.append(feature)\n",
    "\n",
    "print(f\"\\nSummary:\")\n",
    "print(f\"Features safe for int conversion: {len(whole_number_features)}\")\n",
    "print(f\"Features with decimals: {len(decimal_features)}\")\n",
    "print(f\"\\nWhole number features: {whole_number_features}\")\n",
    "print(f\"Decimal features: {decimal_features}\")\n"
   ]
  },
  {
   "cell_type": "markdown",
   "metadata": {},
   "source": [
    "The float feature analysis reveals that 5 out of 6 float features contain whole numbers, while 1 feature (LotFrontage) have decimal values."
   ]
  },
  {
   "cell_type": "markdown",
   "metadata": {},
   "source": [
    "### 6.2 Convert float features to int where appropriate"
   ]
  },
  {
   "cell_type": "code",
   "execution_count": 102,
   "metadata": {},
   "outputs": [],
   "source": [
    "# Convert float64 columns with only whole numbers to int\n",
    "df_combined[whole_number_features] = df_combined[whole_number_features].astype('int')\n"
   ]
  },
  {
   "cell_type": "markdown",
   "metadata": {},
   "source": [
    "### 6.5 Data Type Validation\n",
    "Verify that all conversions completed successfully and data integrity is maintained."
   ]
  },
  {
   "cell_type": "code",
   "execution_count": 103,
   "metadata": {},
   "outputs": [
    {
     "name": "stdout",
     "output_type": "stream",
     "text": [
      "Data Type Conversion Validation:\n",
      "=============================================\n",
      "Validation checks:\n",
      "  Total null values: 0\n",
      "\n",
      "Converted features verification:\n",
      "  MasVnrArea: int64 | Range: 0-1600\n",
      "  BsmtFinSF1: int64 | Range: 0-4010\n",
      "  BsmtFinSF2: int64 | Range: 0-1526\n",
      "  BsmtUnfSF: int64 | Range: 0-2336\n",
      "  TotalBsmtSF: int64 | Range: 0-5095\n",
      "  BsmtFullBath: int64 | Range: 0-3\n",
      "  BsmtHalfBath: int64 | Range: 0-2\n",
      "  GarageYrBlt: int64 | Range: 0-2010\n",
      "  GarageCars: int64 | Range: 0-5\n",
      "  GarageArea: int64 | Range: 0-1488\n",
      "\n",
      "Final data type distribution:\n",
      "object      44\n",
      "int64       33\n",
      "category     1\n",
      "float64      1\n",
      "category     1\n",
      "category     1\n",
      "Name: count, dtype: int64\n"
     ]
    }
   ],
   "source": [
    "# Validate data type conversions\n",
    "print(\"Data Type Conversion Validation:\")\n",
    "print(\"=\"*45)\n",
    "\n",
    "# Check that no missing values were introduced\n",
    "print(\"Validation checks:\")\n",
    "null_check = df_combined.isnull().sum().sum()\n",
    "print(f\"  Total null values: {null_check}\")\n",
    "\n",
    "# Verify converted features\n",
    "print(f\"\\nConverted features verification:\")\n",
    "for feature in whole_number_features:\n",
    "    if feature in df_combined.columns:\n",
    "        print(f\"  {feature}: {df_combined[feature].dtype} | Range: {df_combined[feature].min()}-{df_combined[feature].max()}\")\n",
    "\n",
    "# Show final data type distribution\n",
    "print(f\"\\nFinal data type distribution:\")\n",
    "print(df_combined.dtypes.value_counts())"
   ]
  },
  {
   "cell_type": "markdown",
   "metadata": {},
   "source": [
    "All the float features that contained whole numbers have been converted to integer types, while the LotFrontage feature remains as float due to its decimal values."
   ]
  },
  {
   "cell_type": "markdown",
   "metadata": {},
   "source": [
    "## 7. Data Validation and Export\n",
    "\n",
    "Final validation and preparation of clean datasets for feature engineering phase.\n",
    "\n",
    "### 7.1 Pipeline Validation\n",
    "\n",
    "Validate that all preprocessing steps completed successfully across the entire pipeline."
   ]
  },
  {
   "cell_type": "code",
   "execution_count": 104,
   "metadata": {},
   "outputs": [
    {
     "name": "stdout",
     "output_type": "stream",
     "text": [
      "Final Preprocessing Pipeline Validation:\n",
      "1. Missing Values Check:\n",
      "   Total missing values: 0\n",
      "\n",
      "2. Data Type Consistency:\n",
      "   Data type distribution:\n",
      "     object: 43 features\n",
      "     int64: 33 features\n",
      "     category: 1 features\n",
      "     float64: 1 features\n",
      "     category: 1 features\n",
      "     category: 1 features\n",
      "\n",
      "3. Feature Count Validation:\n",
      "   Original features: 80\n",
      "   Current features: 80\n",
      "\n",
      "4. Outlier Removal Confirmation:\n",
      "   Current train rows: 1458\n",
      "   Expected train rows: 1458\n"
     ]
    }
   ],
   "source": [
    "# Final comprehensive validation\n",
    "print(\"Final Preprocessing Pipeline Validation:\")\n",
    "\n",
    "# 1. Missing values check\n",
    "total_missing = df_combined.isnull().sum().sum()\n",
    "print(f\"1. Missing Values Check:\")\n",
    "print(f\"   Total missing values: {total_missing}\")\n",
    "\n",
    "# DEBUG: Show which features still have missing values\n",
    "if total_missing > 0:\n",
    "    missing_features = df_combined.isnull().sum()\n",
    "    missing_features = missing_features[missing_features > 0]\n",
    "    print(f\"   Features with missing values:\")\n",
    "    for feature, count in missing_features.items():\n",
    "        print(f\"     {feature}: {count}\")\n",
    "\n",
    "# 2. Data type consistency\n",
    "print(f\"\\n2. Data Type Consistency:\")\n",
    "print(f\"   Data type distribution:\")\n",
    "dtype_counts = df_combined.drop('dataset_source', axis=1).dtypes.value_counts()\n",
    "for dtype, count in dtype_counts.items():\n",
    "    print(f\"     {dtype}: {count} features\")\n",
    "\n",
    "# 3. Feature count validation\n",
    "original_feature_count = 80  # 81 - 1 (Id removed)\n",
    "current_feature_count = len(df_combined.columns) - 1  # -1 for dataset_source\n",
    "print(f\"\\n3. Feature Count Validation:\")\n",
    "print(f\"   Original features: {original_feature_count}\")\n",
    "print(f\"   Current features: {current_feature_count}\")\n",
    "\n",
    "# 4. Outlier removal confirmation\n",
    "train_rows = len(df_combined[df_combined['dataset_source'] == 'train'])\n",
    "expected_train_rows = 1458  # 1460 - 2 outliers\n",
    "print(f\"\\n4. Outlier Removal Confirmation:\")\n",
    "print(f\"   Current train rows: {train_rows}\")\n",
    "print(f\"   Expected train rows: {expected_train_rows}\")"
   ]
  },
  {
   "cell_type": "markdown",
   "metadata": {},
   "source": [
    "The preprocessing pipeline has been validated with no missing values, consistent data types, preserved feature counts, and proper outlier removal."
   ]
  },
  {
   "cell_type": "markdown",
   "metadata": {},
   "source": [
    "### 7.2 Train/Test Consistency Validation\n",
    "\n",
    "Ensure preprocessing consistency between training and test datasets."
   ]
  },
  {
   "cell_type": "code",
   "execution_count": 105,
   "metadata": {},
   "outputs": [
    {
     "name": "stdout",
     "output_type": "stream",
     "text": [
      "Train/Test Consistency Validation:\n",
      "1. Feature Set Consistency:\n",
      "   Train and test have identical features (excluding target)\n",
      "\n",
      "2. Data Type Consistency:\n",
      "   All features have consistent data types\n",
      "\n",
      "Dataset Shapes:\n",
      "   Clean train: (1458, 81)\n",
      "   Clean test: (1459, 80)\n"
     ]
    }
   ],
   "source": [
    "# Split back to train/test for consistency validation\n",
    "train_mask = df_combined['dataset_source'] == 'train'\n",
    "test_mask = df_combined['dataset_source'] == 'test'\n",
    "\n",
    "df_train_clean = df_combined[train_mask].drop('dataset_source', axis=1).copy()\n",
    "df_test_clean = df_combined[test_mask].drop('dataset_source', axis=1).copy()\n",
    "\n",
    "# Add SalePrice back to training data from original dataset\n",
    "df_train_clean['SalePrice'] = df_train['SalePrice'].values\n",
    "\n",
    "print(\"Train/Test Consistency Validation:\")\n",
    "# 1. Feature consistency (excluding SalePrice which is only in train)\n",
    "train_features = set(df_train_clean.columns) - {'SalePrice'}\n",
    "test_features = set(df_test_clean.columns)\n",
    "\n",
    "print(f\"1. Feature Set Consistency:\")\n",
    "if train_features == test_features:\n",
    "    print(\"   Train and test have identical features (excluding target)\")\n",
    "else:\n",
    "    missing_in_test = train_features - test_features\n",
    "    missing_in_train = test_features - train_features\n",
    "    if missing_in_test:\n",
    "        print(f\"   Features missing in test: {missing_in_test}\")\n",
    "    if missing_in_train:\n",
    "        print(f\"   Features missing in train: {missing_in_train}\")\n",
    "\n",
    "# 2. Data type consistency (excluding SalePrice)\n",
    "print(f\"\\n2. Data Type Consistency:\")\n",
    "dtype_mismatches = []\n",
    "for feature in train_features.intersection(test_features):\n",
    "    if df_train_clean[feature].dtype != df_test_clean[feature].dtype:\n",
    "        dtype_mismatches.append(feature)\n",
    "\n",
    "if not dtype_mismatches:\n",
    "    print(\"   All features have consistent data types\")\n",
    "else:\n",
    "    print(f\"   Data type mismatches: {dtype_mismatches}\")\n",
    "    for feature in dtype_mismatches:\n",
    "        print(f\"     {feature}: train={df_train_clean[feature].dtype}, test={df_test_clean[feature].dtype}\")\n",
    "\n",
    "print(f\"\\nDataset Shapes:\")\n",
    "print(f\"   Clean train: {df_train_clean.shape}\")\n",
    "print(f\"   Clean test: {df_test_clean.shape}\")"
   ]
  },
  {
   "cell_type": "markdown",
   "metadata": {},
   "source": [
    "The training and test datasets have been validated for consistency in features and data types."
   ]
  },
  {
   "cell_type": "markdown",
   "metadata": {},
   "source": [
    "### 7.4 Export Clean Datasets\n",
    "\n",
    "Export preprocessed datasets for feature engineering phase."
   ]
  },
  {
   "cell_type": "code",
   "execution_count": 106,
   "metadata": {},
   "outputs": [
    {
     "name": "stdout",
     "output_type": "stream",
     "text": [
      "Exporting Clean Datasets:\n",
      " Training data exported: ../data/processed/train_cleaned.csv\n",
      " Test data exported: ../data/processed/test_cleaned.csv\n"
     ]
    }
   ],
   "source": [
    "# Export clean datasets for Notebook 03\n",
    "print(\"Exporting Clean Datasets:\")\n",
    "\n",
    "output_dir = \"../data/processed/\"\n",
    "\n",
    "\n",
    "# Export training data\n",
    "df_train_clean.to_csv(f\"{output_dir}train_cleaned.csv\", index=False)\n",
    "print(f\" Training data exported: {output_dir}train_cleaned.csv\")\n",
    "\n",
    "# Export test data\n",
    "df_test_clean.to_csv(f\"{output_dir}test_cleaned.csv\", index=False)\n",
    "print(f\" Test data exported: {output_dir}test_cleaned.csv\")"
   ]
  }
 ],
 "metadata": {
  "kernelspec": {
   "display_name": "HousePrediction",
   "language": "python",
   "name": "python3"
  },
  "language_info": {
   "codemirror_mode": {
    "name": "ipython",
    "version": 3
   },
   "file_extension": ".py",
   "mimetype": "text/x-python",
   "name": "python",
   "nbconvert_exporter": "python",
   "pygments_lexer": "ipython3",
   "version": "3.11.11"
  }
 },
 "nbformat": 4,
 "nbformat_minor": 4
}
