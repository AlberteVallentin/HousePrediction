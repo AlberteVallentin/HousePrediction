{
 "cells": [
  {
   "cell_type": "markdown",
   "metadata": {},
   "source": [
    "# Notebook 01: Data Exploration\n",
    "\n",
    "This notebook conducts exploratory data analysis of the Ames Housing dataset to understand its structure, identify patterns, and discover data quality issues. We use a discovery-driven approach without predetermined assumptions, letting the data guide our analysis through systematic investigation.\n"
   ]
  },
  {
   "cell_type": "markdown",
   "metadata": {},
   "source": [
    "## 1. Dataset Structure Discovery\n",
    "\n",
    "Examine dataset dimensions, feature types, and basic structural properties using parser-guided domain knowledge to establish analytical foundation.\n",
    "\n",
    "### 1.1 Data Loading and Basic Structure\n",
    "\n",
    "Load the dataset and inspect fundamental characteristics including dimensions, feature names, and data types."
   ]
  },
  {
   "cell_type": "code",
   "execution_count": 23,
   "metadata": {},
   "outputs": [
    {
     "name": "stdout",
     "output_type": "stream",
     "text": [
      "Dataset Dimensions:\n",
      "Training data: (1460, 81)\n",
      "Test data: (1459, 80)\n",
      "Features in training: 81\n",
      "Features in test: 80\n",
      "\n",
      "Dataset Overview:\n",
      "Total samples for training: 1460\n",
      "Total samples for testing: 1459\n",
      "Feature names (first 10): ['Id', 'MSSubClass', 'MSZoning', 'LotFrontage', 'LotArea', 'Street', 'Alley', 'LotShape', 'LandContour', 'Utilities']\n"
     ]
    }
   ],
   "source": [
    "# Load required libraries\n",
    "import pandas as pd\n",
    "import numpy as np\n",
    "import matplotlib.pyplot as plt\n",
    "import seaborn as sns\n",
    "\n",
    "# Load the datasets\n",
    "df_train = pd.read_csv('../data/raw/train.csv')\n",
    "df_test = pd.read_csv('../data/raw/test.csv')\n",
    "\n",
    "print(\"Dataset Dimensions:\")\n",
    "print(f\"Training data: {df_train.shape}\")\n",
    "print(f\"Test data: {df_test.shape}\")\n",
    "print(f\"Features in training: {df_train.shape[1]}\")\n",
    "print(f\"Features in test: {df_test.shape[1]}\")\n",
    "\n",
    "# Basic info about the dataset\n",
    "print(f\"\\nDataset Overview:\")\n",
    "print(f\"Total samples for training: {len(df_train)}\")\n",
    "print(f\"Total samples for testing: {len(df_test)}\")\n",
    "print(f\"Feature names (first 10): {list(df_train.columns[:10])}\")"
   ]
  },
  {
   "cell_type": "markdown",
   "metadata": {},
   "source": [
    "The dataset contains 1,460 training samples and 1,459 test samples with 81 and 80 features respectively. The difference indicates the test set excludes the target variable (SalePrice). Feature names suggest comprehensive property characteristics including identification, zoning, lot details, and utilities."
   ]
  },
  {
   "cell_type": "code",
   "execution_count": 25,
   "metadata": {},
   "outputs": [
    {
     "name": "stdout",
     "output_type": "stream",
     "text": [
      "Data Types Distribution:\n",
      "object     43\n",
      "int64      35\n",
      "float64     3\n",
      "Name: count, dtype: int64\n",
      "\n",
      "Basic Data Quality Check:\n",
      "Duplicate rows in training: 0\n",
      "Features with missing data: 19\n",
      "Total missing values: 7829\n",
      "\n",
      "Target Variable:\n",
      "SalePrice range: $34,900 - $755,000\n",
      "SalePrice mean: $180,921\n"
     ]
    }
   ],
   "source": [
    "# Examine data types and get basic statistics\n",
    "print(\"Data Types Distribution:\")\n",
    "print(df_train.dtypes.value_counts())\n",
    "\n",
    "print(f\"\\nBasic Data Quality Check:\")\n",
    "print(f\"Duplicate rows in training: {df_train.duplicated().sum()}\")\n",
    "print(f\"Features with missing data: {df_train.isnull().any().sum()}\")\n",
    "print(f\"Total missing values: {df_train.isnull().sum().sum()}\")\n",
    "\n",
    "# Check target variable presence\n",
    "print(f\"\\nTarget Variable:\")\n",
    "if 'SalePrice' in df_train.columns:\n",
    "    print(f\"SalePrice range: ${df_train['SalePrice'].min():,.0f} - ${df_train['SalePrice'].max():,.0f}\")\n",
    "    print(f\"SalePrice mean: ${df_train['SalePrice'].mean():,.0f}\")\n",
    "else:\n",
    "    print(\"SalePrice not found in training data\")"
   ]
  },
  {
   "cell_type": "markdown",
   "metadata": {},
   "source": [
    "The dataset shows balanced data types with 43 categorical (object) and 38 numerical features (35 int64, 3 float64). Data quality is excellent with zero duplicates, though 19 features contain missing values totaling 7,829 missing entries. SalePrice ranges from $34,900 to $755,000 with mean $180,921, indicating substantial price variation requiring careful analysis."
   ]
  },
  {
   "cell_type": "markdown",
   "metadata": {},
   "source": [
    "### 1.2 Feature Classification with Parser Integration  \n",
    "\n",
    "Use the data description parser to categorize features according to official documentation and understand their real estate domain context."
   ]
  },
  {
   "cell_type": "code",
   "execution_count": 26,
   "metadata": {},
   "outputs": [
    {
     "name": "stdout",
     "output_type": "stream",
     "text": [
      "Official real estate documentation loaded successfully.\n",
      "\n",
      "Official Feature Classification Summary:\n",
      "Feature Summary Table:\n",
      "================================================================================\n",
      "     Feature        Type                                                     Description Categories_Summary\n",
      "  MSSubClass Categorical           Identifies the type of dwelling involved in the sale.      16 categories\n",
      "    MSZoning Categorical       Identifies the general zoning classification of the sale.       8 categories\n",
      " LotFrontage   Numerical                     Linear feet of street connected to property          Numerical\n",
      "     LotArea   Numerical                                         Lot size in square feet          Numerical\n",
      "      Street Categorical                                 Type of road access to property       2 categories\n",
      "       Alley Categorical                                Type of alley access to property       3 categories\n",
      "    LotShape Categorical                                       General shape of property       4 categories\n",
      " LandContour Categorical                                        Flatness of the property       4 categories\n",
      "   Utilities Categorical                                     Type of utilities available       4 categories\n",
      "   LotConfig Categorical                                               Lot configuration       5 categories\n",
      "   LandSlope Categorical                                               Slope of property       3 categories\n",
      "Neighborhood Categorical                      Physical locations within Ames city limits      25 categories\n",
      "  Condition1 Categorical                                 Proximity to various conditions       9 categories\n",
      "  Condition2 Categorical Proximity to various conditions (if more than one is present...       9 categories\n",
      "    BldgType Categorical                                                Type of dwelling       5 categories\n",
      "\n",
      "... and 64 more features\n",
      "\n",
      "Total features: 79\n",
      "Categorical: 46\n",
      "Numerical: 33\n"
     ]
    }
   ],
   "source": [
    "# Setup data description parser for domain knowledge\n",
    "from data_description_parser import (\n",
    "    load_feature_descriptions,\n",
    "    quick_feature_lookup, \n",
    "    display_summary_table,\n",
    "    get_categorical_features,\n",
    "    get_numerical_features\n",
    ")\n",
    "\n",
    "# Load official documentation\n",
    "feature_descriptions = load_feature_descriptions()\n",
    "print(\"Official real estate documentation loaded successfully.\")\n",
    "\n",
    "# Display comprehensive feature overview\n",
    "print(\"\\nOfficial Feature Classification Summary:\")\n",
    "display_summary_table(feature_descriptions, max_rows=15)"
   ]
  },
  {
   "cell_type": "markdown",
   "metadata": {},
   "source": [
    "Parser successfully loaded official documentation revealing 79 total features with 46 categorical and 33 numerical features. Notable categorical features include MSSubClass (16 dwelling types), Neighborhood (25 locations), and various property characteristics. The parser classification differs from pandas detection (46 vs 43 categorical), indicating some numerical features may be stored as integers but represent categories."
   ]
  },
  {
   "cell_type": "code",
   "execution_count": 27,
   "metadata": {},
   "outputs": [
    {
     "name": "stdout",
     "output_type": "stream",
     "text": [
      "Parser vs Pandas Classification Comparison:\n",
      "Parser - Categorical: 46, Numerical: 33\n",
      "Pandas - Object: 43, Numerical: 38\n",
      "\n",
      "Classification Analysis:\n",
      "Features classified as categorical by parser but numerical by pandas:\n",
      "  OverallQual: int64\n",
      "  OverallCond: int64\n",
      "  MSSubClass: int64\n"
     ]
    }
   ],
   "source": [
    "# Get official feature classifications and compare with pandas\n",
    "categorical_features = get_categorical_features(feature_descriptions)\n",
    "numerical_features = get_numerical_features(feature_descriptions)\n",
    "\n",
    "print(\"Parser vs Pandas Classification Comparison:\")\n",
    "print(f\"Parser - Categorical: {len(categorical_features)}, Numerical: {len(numerical_features)}\")\n",
    "print(f\"Pandas - Object: {len(df_train.select_dtypes(include=['object']).columns)}, Numerical: {len(df_train.select_dtypes(include=['int64', 'float64']).columns)}\")\n",
    "\n",
    "# Identify discrepancies between parser and pandas classifications\n",
    "pandas_objects = set(df_train.select_dtypes(include=['object']).columns)\n",
    "parser_categorical = set(categorical_features)\n",
    "\n",
    "print(f\"\\nClassification Analysis:\")\n",
    "print(f\"Features classified as categorical by parser but numerical by pandas:\")\n",
    "categorical_as_numeric = parser_categorical - pandas_objects\n",
    "if categorical_as_numeric:\n",
    "    for feature in list(categorical_as_numeric)[:5]:\n",
    "        print(f\"  {feature}: {df_train[feature].dtype}\")"
   ]
  },
  {
   "cell_type": "markdown",
   "metadata": {},
   "source": [
    "Critical discovery: Three key features (OverallQual, OverallCond, MSSubClass) are stored as integers but represent categorical ordinal ratings according to official documentation. This misclassification could impact preprocessing and modeling strategies, as these should be treated as ordered categories rather than continuous numerical variables."
   ]
  }
 ],
 "metadata": {
  "kernelspec": {
   "display_name": ".venv",
   "language": "python",
   "name": "python3"
  },
  "language_info": {
   "codemirror_mode": {
    "name": "ipython",
    "version": 3
   },
   "file_extension": ".py",
   "mimetype": "text/x-python",
   "name": "python",
   "nbconvert_exporter": "python",
   "pygments_lexer": "ipython3",
   "version": "3.13.1"
  }
 },
 "nbformat": 4,
 "nbformat_minor": 4
}
