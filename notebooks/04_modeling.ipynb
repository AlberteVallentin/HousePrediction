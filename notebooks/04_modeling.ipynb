{
 "cells": [
  {
   "cell_type": "markdown",
   "id": "1499a5b8",
   "metadata": {},
   "source": [
    "# Notebook 04: Model Development & Optimization\n",
    "\n",
    "Advanced model development, hyperparameter tuning, and performance optimization using the feature engineered dataset from notebook 03.\n",
    "\n",
    "## 1. Setup and Data Loading\n",
    "\n",
    "### 1.1 Library Imports"
   ]
  },
  {
   "cell_type": "code",
   "execution_count": 4,
   "id": "88dbd0ca",
   "metadata": {},
   "outputs": [
    {
     "name": "stdout",
     "output_type": "stream",
     "text": [
      "Libraries loaded successfully\n"
     ]
    }
   ],
   "source": [
    "# Core libraries\n",
    "import pandas as pd\n",
    "import numpy as np\n",
    "import matplotlib.pyplot as plt\n",
    "import seaborn as sns\n",
    "import warnings\n",
    "warnings.filterwarnings('ignore')\n",
    "\n",
    "# Machine Learning\n",
    "from sklearn.model_selection import train_test_split, KFold, cross_val_score\n",
    "from sklearn.linear_model import Ridge, Lasso, ElasticNet\n",
    "from sklearn.ensemble import RandomForestRegressor, GradientBoostingRegressor, StackingRegressor\n",
    "from sklearn.metrics import mean_squared_error, mean_absolute_error, r2_score\n",
    "from sklearn.base import BaseEstimator, RegressorMixin, clone\n",
    "\n",
    "# Advanced Models\n",
    "from xgboost import XGBRegressor\n",
    "from catboost import CatBoostRegressor\n",
    "from lightgbm import LGBMRegressor\n",
    "\n",
    "# Hyperparameter Optimization\n",
    "import optuna\n",
    "from optuna.pruners import MedianPruner\n",
    "\n",
    "# Progress tracking and utilities\n",
    "from tqdm import tqdm\n",
    "import joblib\n",
    "import time\n",
    "from scipy.optimize import minimize\n",
    "\n",
    "# Set random seeds\n",
    "np.random.seed(42)\n",
    "\n",
    "# Display options\n",
    "pd.set_option('display.max_columns', None)\n",
    "pd.set_option('display.max_rows', 100)\n",
    "\n",
    "print(\"Libraries loaded successfully\")"
   ]
  },
  {
   "cell_type": "code",
   "execution_count": 5,
   "id": "22c5145a",
   "metadata": {},
   "outputs": [
    {
     "name": "stdout",
     "output_type": "stream",
     "text": [
      "\n",
      "============================================================\n",
      "Data Import Summary:\n",
      "Features available: 191\n",
      "Training samples: 1458\n",
      "Test samples: 1459\n",
      "============================================================\n",
      "\n",
      "Target Variable Statistics:\n",
      "  Shape: (1458,)\n",
      "  Mean: 12.0240\n",
      "  Std: 0.3997\n",
      "  Range: 10.4602 - 13.5345\n",
      "\n",
      "Data Quality Check:\n",
      "Missing values in X_train: 0\n",
      "Missing values in X_test: 0\n",
      "Missing values in target: 0\n",
      "Infinite values in X_train: 0\n",
      "Infinite values in X_test: 0\n",
      "Data loading complete\n"
     ]
    }
   ],
   "source": [
    "# Load processed datasets\n",
    "X_train = pd.read_csv('../data/processed/X_train_final1.csv')\n",
    "X_test = pd.read_csv('../data/processed/X_test_final1.csv')\n",
    "target_data = pd.read_csv('../data/processed/y_train_final1.csv')\n",
    "\n",
    "print(\"\\n\" + \"=\"*60)\n",
    "print(\"Data Import Summary:\")\n",
    "print(f\"Features available: {X_train.shape[1]}\")\n",
    "print(f\"Training samples: {X_train.shape[0]}\")\n",
    "print(f\"Test samples: {X_test.shape[0]}\")\n",
    "print(\"=\"*60)\n",
    "\n",
    "# Extract log-transformed target\n",
    "y_log = target_data['SalePrice']\n",
    "\n",
    "print(f\"\\nTarget Variable Statistics:\")\n",
    "print(f\"  Shape: {y_log.shape}\")\n",
    "print(f\"  Mean: {y_log.mean():.4f}\")\n",
    "print(f\"  Std: {y_log.std():.4f}\")\n",
    "print(f\"  Range: {y_log.min():.4f} - {y_log.max():.4f}\")\n",
    "\n",
    "# Data quality validation\n",
    "print(\"\\nData Quality Check:\")\n",
    "print(f\"Missing values in X_train: {X_train.isnull().sum().sum()}\")\n",
    "print(f\"Missing values in X_test: {X_test.isnull().sum().sum()}\")\n",
    "print(f\"Missing values in target: {y_log.isnull().sum()}\")\n",
    "\n",
    "# Handle infinite values\n",
    "inf_train = np.isinf(X_train.select_dtypes(include=[np.number])).sum().sum()\n",
    "inf_test = np.isinf(X_test.select_dtypes(include=[np.number])).sum().sum()\n",
    "\n",
    "print(f\"Infinite values in X_train: {inf_train}\")\n",
    "print(f\"Infinite values in X_test: {inf_test}\")\n",
    "\n",
    "if inf_test > 0:\n",
    "    print(\"Handling infinite values in test data...\")\n",
    "    inf_cols = X_test.columns[np.isinf(X_test).any()]\n",
    "    for col in inf_cols:\n",
    "        if col in X_train.columns:\n",
    "            replacement_value = X_train[col].median()\n",
    "            X_test[col] = X_test[col].replace([np.inf, -np.inf], replacement_value)\n",
    "            print(f\"  {col}: replaced with training median {replacement_value:.4f}\")\n",
    "    print(\"Infinite values handled\")\n",
    "\n",
    "print(\"Data loading complete\")"
   ]
  },
  {
   "cell_type": "code",
   "execution_count": 6,
   "id": "626980fd",
   "metadata": {},
   "outputs": [
    {
     "name": "stdout",
     "output_type": "stream",
     "text": [
      "\n",
      "Data Split Summary:\n",
      "Training set: (1166, 191)\n",
      "Validation set: (292, 191)\n",
      "Test set: (1459, 191)\n",
      "Cross-validation configured: 5-fold\n"
     ]
    }
   ],
   "source": [
    "# Create train-validation split\n",
    "X_train_split, X_val, y_train, y_val = train_test_split(\n",
    "    X_train, y_log, \n",
    "    test_size=0.2, \n",
    "    random_state=42\n",
    ")\n",
    "\n",
    "print(f\"\\nData Split Summary:\")\n",
    "print(f\"Training set: {X_train_split.shape}\")\n",
    "print(f\"Validation set: {X_val.shape}\")\n",
    "print(f\"Test set: {X_test.shape}\")\n",
    "\n",
    "# Setup cross-validation\n",
    "cv = KFold(n_splits=5, shuffle=True, random_state=42)\n",
    "print(\"Cross-validation configured: 5-fold\")"
   ]
  },
  {
   "cell_type": "code",
   "execution_count": 7,
   "id": "bc456c51",
   "metadata": {},
   "outputs": [
    {
     "name": "stdout",
     "output_type": "stream",
     "text": [
      "Model evaluation function ready\n"
     ]
    }
   ],
   "source": [
    "def evaluate_model(model, X, y, cv_folds, model_name=\"Model\"):\n",
    "    \"\"\"\n",
    "    Evaluate model using cross-validation and validation set\n",
    "    \"\"\"\n",
    "    print(f\"Evaluating {model_name}...\")\n",
    "    \n",
    "    # Cross-validation scores\n",
    "    cv_scores = []\n",
    "    with tqdm(total=cv_folds.n_splits, desc=f\"CV {model_name}\", leave=False) as pbar:\n",
    "        for train_idx, val_idx in cv_folds.split(X, y):\n",
    "            X_fold_train, X_fold_val = X.iloc[train_idx], X.iloc[val_idx]\n",
    "            y_fold_train, y_fold_val = y.iloc[train_idx], y.iloc[val_idx]\n",
    "            \n",
    "            # Fit and predict\n",
    "            model_copy = clone(model)\n",
    "            model_copy.fit(X_fold_train, y_fold_train)\n",
    "            pred = model_copy.predict(X_fold_val)\n",
    "            \n",
    "            # Calculate RMSE for this fold\n",
    "            fold_rmse = np.sqrt(mean_squared_error(y_fold_val, pred))\n",
    "            cv_scores.append(fold_rmse)\n",
    "            \n",
    "            pbar.update(1)\n",
    "    \n",
    "    cv_rmse = np.array(cv_scores)\n",
    "    \n",
    "    # Validation set score\n",
    "    model.fit(X, y)\n",
    "    val_pred = model.predict(X_val)\n",
    "    val_rmse = np.sqrt(mean_squared_error(y_val, val_pred))\n",
    "    \n",
    "    return {\n",
    "        'model_name': model_name,\n",
    "        'cv_rmse_mean': cv_rmse.mean(),\n",
    "        'cv_rmse_std': cv_rmse.std(),\n",
    "        'val_rmse': val_rmse\n",
    "    }\n",
    "\n",
    "print(\"Model evaluation function ready\")"
   ]
  },
  {
   "cell_type": "code",
   "execution_count": 8,
   "id": "e993f9d8",
   "metadata": {},
   "outputs": [
    {
     "name": "stdout",
     "output_type": "stream",
     "text": [
      "\n",
      "Baseline Model Performance:\n",
      "===========================================================================\n",
      "Model           CV RMSE      CV Std     Val RMSE    \n",
      "---------------------------------------------------------------------------\n"
     ]
    },
    {
     "name": "stderr",
     "output_type": "stream",
     "text": [
      "Training Ridge:   0%|          | 0/7 [00:00<?, ?it/s] "
     ]
    },
    {
     "name": "stdout",
     "output_type": "stream",
     "text": [
      "Evaluating Ridge...\n"
     ]
    },
    {
     "name": "stderr",
     "output_type": "stream",
     "text": [
      "Training Lasso:  14%|█▍        | 1/7 [00:00<00:00, 31.12it/s]"
     ]
    },
    {
     "name": "stdout",
     "output_type": "stream",
     "text": [
      "Ridge           0.1218       0.0089     0.1198      \n",
      "Evaluating Lasso...\n"
     ]
    },
    {
     "name": "stderr",
     "output_type": "stream",
     "text": [
      "Training ElasticNet:  29%|██▊       | 2/7 [00:00<00:00, 13.11it/s]"
     ]
    },
    {
     "name": "stdout",
     "output_type": "stream",
     "text": [
      "Lasso           0.1456       0.0075     0.1474      \n",
      "Evaluating ElasticNet...\n"
     ]
    },
    {
     "name": "stderr",
     "output_type": "stream",
     "text": [
      "Training RandomForest:  43%|████▎     | 3/7 [00:00<00:00, 13.11it/s]"
     ]
    },
    {
     "name": "stdout",
     "output_type": "stream",
     "text": [
      "ElasticNet      0.1365       0.0090     0.1379      \n",
      "Evaluating RandomForest...\n"
     ]
    },
    {
     "name": "stderr",
     "output_type": "stream",
     "text": [
      "Training GradientBoosting:  57%|█████▋    | 4/7 [00:01<00:00,  3.28it/s]"
     ]
    },
    {
     "name": "stdout",
     "output_type": "stream",
     "text": [
      "RandomForest    0.1418       0.0095     0.1463      \n",
      "Evaluating GradientBoosting...\n"
     ]
    },
    {
     "name": "stderr",
     "output_type": "stream",
     "text": [
      "Training XGBoost:  71%|███████▏  | 5/7 [00:02<00:01,  1.41it/s]         "
     ]
    },
    {
     "name": "stdout",
     "output_type": "stream",
     "text": [
      "GradientBoosting 0.1281       0.0113     0.1306      \n",
      "Evaluating XGBoost...\n"
     ]
    },
    {
     "name": "stderr",
     "output_type": "stream",
     "text": [
      "Training LightGBM:  86%|████████▌ | 6/7 [00:03<00:00,  1.18it/s]"
     ]
    },
    {
     "name": "stdout",
     "output_type": "stream",
     "text": [
      "XGBoost         0.1419       0.0082     0.1512      \n",
      "Evaluating LightGBM...\n"
     ]
    },
    {
     "name": "stderr",
     "output_type": "stream",
     "text": [
      "Training LightGBM: 100%|██████████| 7/7 [00:06<00:00,  1.08it/s]"
     ]
    },
    {
     "name": "stdout",
     "output_type": "stream",
     "text": [
      "LightGBM        0.1309       0.0088     0.1313      \n",
      "---------------------------------------------------------------------------\n",
      "Best baseline model: Ridge (CV RMSE: 0.1218)\n"
     ]
    },
    {
     "name": "stderr",
     "output_type": "stream",
     "text": [
      "\n"
     ]
    }
   ],
   "source": [
    "# Define seven diverse baseline models\n",
    "baseline_models = {\n",
    "    'Ridge': Ridge(alpha=1.0, random_state=42),\n",
    "    'Lasso': Lasso(alpha=0.01, random_state=42, max_iter=2000),\n",
    "    'ElasticNet': ElasticNet(alpha=0.01, l1_ratio=0.5, random_state=42, max_iter=2000),\n",
    "    'RandomForest': RandomForestRegressor(n_estimators=100, random_state=42, n_jobs=-1),\n",
    "    'GradientBoosting': GradientBoostingRegressor(n_estimators=100, random_state=42),\n",
    "    'XGBoost': XGBRegressor(n_estimators=100, random_state=42, verbosity=0),\n",
    "    'LightGBM': LGBMRegressor(n_estimators=100, random_state=42, verbosity=-1)\n",
    "}\n",
    "\n",
    "print(\"\\nBaseline Model Performance:\")\n",
    "print(\"=\" * 75)\n",
    "print(f\"{'Model':<15} {'CV RMSE':<12} {'CV Std':<10} {'Val RMSE':<12}\")\n",
    "print(\"-\" * 75)\n",
    "\n",
    "baseline_results = {}\n",
    "total_models = len(baseline_models)\n",
    "\n",
    "with tqdm(total=total_models, desc=\"Baseline Models\") as pbar:\n",
    "    for name, model in baseline_models.items():\n",
    "        pbar.set_description(f\"Training {name}\")\n",
    "        \n",
    "        try:\n",
    "            result = evaluate_model(model, X_train_split, y_train, cv, name)\n",
    "            baseline_results[name] = result\n",
    "            \n",
    "            print(f\"{name:<15} {result['cv_rmse_mean']:<12.4f} {result['cv_rmse_std']:<10.4f} \"\n",
    "                  f\"{result['val_rmse']:<12.4f}\")\n",
    "        except Exception as e:\n",
    "            print(f\"{name:<15} FAILED: {str(e)[:50]}\")\n",
    "            baseline_results[name] = {\n",
    "                'cv_rmse_mean': float('inf'), \n",
    "                'cv_rmse_std': 0, \n",
    "                'val_rmse': float('inf')\n",
    "            }\n",
    "        \n",
    "        pbar.update(1)\n",
    "\n",
    "print(\"-\" * 75)\n",
    "\n",
    "# Find best baseline model\n",
    "valid_results = {k: v for k, v in baseline_results.items() if v['cv_rmse_mean'] != float('inf')}\n",
    "if valid_results:\n",
    "    best_baseline = min(valid_results.items(), key=lambda x: x[1]['cv_rmse_mean'])\n",
    "    print(f\"Best baseline model: {best_baseline[0]} (CV RMSE: {best_baseline[1]['cv_rmse_mean']:.4f})\")\n",
    "else:\n",
    "    print(\"Warning: No baseline models succeeded\")"
   ]
  },
  {
   "cell_type": "code",
   "execution_count": 9,
   "id": "265bcf8e",
   "metadata": {},
   "outputs": [
    {
     "name": "stdout",
     "output_type": "stream",
     "text": [
      "Optuna callback configured\n"
     ]
    }
   ],
   "source": [
    "class OptunaTqdmCallback:\n",
    "    \"\"\"Custom callback for Optuna to show progress with tqdm\"\"\"\n",
    "    def __init__(self, n_trials, model_name):\n",
    "        self.n_trials = n_trials\n",
    "        self.model_name = model_name\n",
    "        self.pbar = None\n",
    "    \n",
    "    def __call__(self, study, trial):\n",
    "        if self.pbar is None:\n",
    "            self.pbar = tqdm(total=self.n_trials, desc=f\"Optimizing {self.model_name}\")\n",
    "        \n",
    "        self.pbar.set_postfix({\n",
    "            'Trial': trial.number + 1,\n",
    "            'Best': f\"{study.best_value:.4f}\" if study.best_value else \"N/A\"\n",
    "        })\n",
    "        self.pbar.update(1)\n",
    "        \n",
    "        if trial.number + 1 >= self.n_trials:\n",
    "            self.pbar.close()\n",
    "\n",
    "print(\"Optuna callback configured\")"
   ]
  },
  {
   "cell_type": "code",
   "execution_count": 10,
   "id": "575a3933",
   "metadata": {},
   "outputs": [
    {
     "name": "stderr",
     "output_type": "stream",
     "text": [
      "[I 2025-07-14 12:18:05,056] A new study created in memory with name: xgb_optimization\n"
     ]
    },
    {
     "name": "stdout",
     "output_type": "stream",
     "text": [
      "Optimizing XGBoost...\n"
     ]
    },
    {
     "name": "stderr",
     "output_type": "stream",
     "text": [
      "[I 2025-07-14 12:18:06,814] Trial 0 finished with value: 0.1285632056049722 and parameters: {'n_estimators': 562, 'max_depth': 7, 'learning_rate': 0.13842226097723434, 'subsample': 0.6017375690245313, 'colsample_bytree': 0.8797600531408498, 'min_child_weight': 7}. Best is trial 0 with value: 0.1285632056049722.\n",
      "Optimizing XGBoost:   0%|          | 0/75 [00:00<?, ?it/s, Trial=1, Best=0.1286][I 2025-07-14 12:18:07,863] Trial 1 finished with value: 0.12896438470854188 and parameters: {'n_estimators': 230, 'max_depth': 7, 'learning_rate': 0.1051459240843488, 'subsample': 0.7724728253237719, 'colsample_bytree': 0.8725380617316036, 'min_child_weight': 3}. Best is trial 0 with value: 0.1285632056049722.\n",
      "Optimizing XGBoost:   3%|▎         | 2/75 [00:01<00:38,  1.91it/s, Trial=2, Best=0.1286][I 2025-07-14 12:18:09,178] Trial 2 finished with value: 0.12676196845812732 and parameters: {'n_estimators': 494, 'max_depth': 5, 'learning_rate': 0.15635970022561635, 'subsample': 0.8465798012203575, 'colsample_bytree': 0.8438292331147463, 'min_child_weight': 5}. Best is trial 2 with value: 0.12676196845812732.\n",
      "Optimizing XGBoost:   4%|▍         | 3/75 [00:02<01:01,  1.17it/s, Trial=3, Best=0.1268][I 2025-07-14 12:18:10,493] Trial 3 finished with value: 0.13474397481890352 and parameters: {'n_estimators': 989, 'max_depth': 6, 'learning_rate': 0.2678790380357328, 'subsample': 0.8511258741725314, 'colsample_bytree': 0.6975368348197025, 'min_child_weight': 7}. Best is trial 2 with value: 0.12676196845812732.\n",
      "Optimizing XGBoost:   5%|▌         | 4/75 [00:03<01:12,  1.03s/it, Trial=4, Best=0.1268][I 2025-07-14 12:18:11,187] Trial 4 finished with value: 0.1221106926068689 and parameters: {'n_estimators': 966, 'max_depth': 4, 'learning_rate': 0.1032206978201105, 'subsample': 0.7491809682602972, 'colsample_bytree': 0.924229430485063, 'min_child_weight': 1}. Best is trial 4 with value: 0.1221106926068689.\n",
      "Optimizing XGBoost:   7%|▋         | 5/75 [00:04<01:03,  1.10it/s, Trial=5, Best=0.1221][I 2025-07-14 12:18:11,838] Trial 5 finished with value: 0.1320757847339046 and parameters: {'n_estimators': 653, 'max_depth': 8, 'learning_rate': 0.1378312715299882, 'subsample': 0.620060625101575, 'colsample_bytree': 0.7576130566650747, 'min_child_weight': 2}. Best is trial 4 with value: 0.1221106926068689.\n",
      "Optimizing XGBoost:   8%|▊         | 6/75 [00:05<00:56,  1.21it/s, Trial=6, Best=0.1221][I 2025-07-14 12:18:13,556] Trial 6 finished with value: 0.1256723133810685 and parameters: {'n_estimators': 587, 'max_depth': 10, 'learning_rate': 0.02212832283537149, 'subsample': 0.6149997345511375, 'colsample_bytree': 0.9546095454238019, 'min_child_weight': 2}. Best is trial 4 with value: 0.1221106926068689.\n",
      "Optimizing XGBoost:   9%|▉         | 7/75 [00:06<01:15,  1.11s/it, Trial=7, Best=0.1221][I 2025-07-14 12:18:14,209] Trial 7 finished with value: 0.1207678398114598 and parameters: {'n_estimators': 674, 'max_depth': 4, 'learning_rate': 0.05230729757794263, 'subsample': 0.766379022501329, 'colsample_bytree': 0.8811096268046733, 'min_child_weight': 2}. Best is trial 7 with value: 0.1207678398114598.\n",
      "Optimizing XGBoost:  11%|█         | 8/75 [00:07<01:04,  1.03it/s, Trial=8, Best=0.1208][I 2025-07-14 12:18:14,769] Trial 8 finished with value: 0.13260294006858409 and parameters: {'n_estimators': 859, 'max_depth': 6, 'learning_rate': 0.19552597467603214, 'subsample': 0.9280370972341456, 'colsample_bytree': 0.6925455925943151, 'min_child_weight': 4}. Best is trial 7 with value: 0.1207678398114598.\n",
      "Optimizing XGBoost:  12%|█▏        | 9/75 [00:07<00:55,  1.19it/s, Trial=9, Best=0.1208][I 2025-07-14 12:18:15,401] Trial 9 finished with value: 0.13670827432564542 and parameters: {'n_estimators': 839, 'max_depth': 9, 'learning_rate': 0.21418710428205634, 'subsample': 0.6983595046000283, 'colsample_bytree': 0.7769026290549315, 'min_child_weight': 5}. Best is trial 7 with value: 0.1207678398114598.\n",
      "Optimizing XGBoost:  13%|█▎        | 10/75 [00:08<00:50,  1.29it/s, Trial=10, Best=0.1208][I 2025-07-14 12:18:15,725] Trial 10 finished with value: 0.12795097556085777 and parameters: {'n_estimators': 317, 'max_depth': 3, 'learning_rate': 0.025520146965534927, 'subsample': 0.9729488859923147, 'colsample_bytree': 0.9881495669427238, 'min_child_weight': 1}. Best is trial 7 with value: 0.1207678398114598.\n",
      "Optimizing XGBoost:  15%|█▍        | 11/75 [00:08<00:40,  1.57it/s, Trial=11, Best=0.1208][I 2025-07-14 12:18:16,206] Trial 11 finished with value: 0.11994993038266652 and parameters: {'n_estimators': 772, 'max_depth': 3, 'learning_rate': 0.08453411453981204, 'subsample': 0.7295219258836048, 'colsample_bytree': 0.9274266477012245, 'min_child_weight': 1}. Best is trial 11 with value: 0.11994993038266652.\n",
      "Optimizing XGBoost:  16%|█▌        | 12/75 [00:09<00:37,  1.69it/s, Trial=12, Best=0.1199][I 2025-07-14 12:18:16,648] Trial 12 finished with value: 0.11724819705556594 and parameters: {'n_estimators': 747, 'max_depth': 3, 'learning_rate': 0.06433379757138809, 'subsample': 0.6896022998155451, 'colsample_bytree': 0.6065044098351982, 'min_child_weight': 2}. Best is trial 12 with value: 0.11724819705556594.\n",
      "Optimizing XGBoost:  17%|█▋        | 13/75 [00:09<00:33,  1.83it/s, Trial=13, Best=0.1172][I 2025-07-14 12:18:17,083] Trial 13 finished with value: 0.12051981388906739 and parameters: {'n_estimators': 757, 'max_depth': 3, 'learning_rate': 0.07222190642801678, 'subsample': 0.7124214356260141, 'colsample_bytree': 0.6371052918110417, 'min_child_weight': 1}. Best is trial 12 with value: 0.11724819705556594.\n",
      "Optimizing XGBoost:  19%|█▊        | 14/75 [00:10<00:31,  1.95it/s, Trial=14, Best=0.1172][I 2025-07-14 12:18:17,601] Trial 14 finished with value: 0.12208005759019579 and parameters: {'n_estimators': 777, 'max_depth': 4, 'learning_rate': 0.0746884881736178, 'subsample': 0.6805307958931783, 'colsample_bytree': 0.62714680622011, 'min_child_weight': 3}. Best is trial 12 with value: 0.11724819705556594.\n",
      "Optimizing XGBoost:  20%|██        | 15/75 [00:10<00:30,  1.95it/s, Trial=15, Best=0.1172][I 2025-07-14 12:18:17,946] Trial 15 finished with value: 0.1224449085375915 and parameters: {'n_estimators': 427, 'max_depth': 3, 'learning_rate': 0.09392028197114041, 'subsample': 0.8351422201914298, 'colsample_bytree': 0.823087698682261, 'min_child_weight': 3}. Best is trial 12 with value: 0.11724819705556594.\n",
      "Optimizing XGBoost:  21%|██▏       | 16/75 [00:11<00:27,  2.16it/s, Trial=16, Best=0.1172][I 2025-07-14 12:18:18,196] Trial 16 finished with value: 0.12686080949708362 and parameters: {'n_estimators': 114, 'max_depth': 5, 'learning_rate': 0.04491998684831649, 'subsample': 0.6719044439848153, 'colsample_bytree': 0.7361322408048013, 'min_child_weight': 2}. Best is trial 12 with value: 0.11724819705556594.\n",
      "Optimizing XGBoost:  23%|██▎       | 17/75 [00:11<00:23,  2.51it/s, Trial=17, Best=0.1172][I 2025-07-14 12:18:18,722] Trial 17 finished with value: 0.12976308155661118 and parameters: {'n_estimators': 685, 'max_depth': 5, 'learning_rate': 0.1737856657004409, 'subsample': 0.7359711720415788, 'colsample_bytree': 0.6060577967967793, 'min_child_weight': 1}. Best is trial 12 with value: 0.11724819705556594.\n",
      "Optimizing XGBoost:  24%|██▍       | 18/75 [00:11<00:24,  2.29it/s, Trial=18, Best=0.1172][I 2025-07-14 12:18:19,254] Trial 18 finished with value: 0.12135422331487172 and parameters: {'n_estimators': 889, 'max_depth': 3, 'learning_rate': 0.12409388787777505, 'subsample': 0.8059551414055156, 'colsample_bytree': 0.6680616761514985, 'min_child_weight': 4}. Best is trial 12 with value: 0.11724819705556594.\n",
      "Optimizing XGBoost:  25%|██▌       | 19/75 [00:12<00:26,  2.15it/s, Trial=19, Best=0.1172][I 2025-07-14 12:18:19,780] Trial 19 finished with value: 0.1373573786280867 and parameters: {'n_estimators': 742, 'max_depth': 4, 'learning_rate': 0.26092727074871636, 'subsample': 0.6530249311192607, 'colsample_bytree': 0.9382005241859311, 'min_child_weight': 4}. Best is trial 12 with value: 0.11724819705556594.\n",
      "Optimizing XGBoost:  27%|██▋       | 20/75 [00:12<00:26,  2.07it/s, Trial=20, Best=0.1172][I 2025-07-14 12:18:20,210] Trial 20 finished with value: 0.12390397449151079 and parameters: {'n_estimators': 481, 'max_depth': 5, 'learning_rate': 0.070912440827609, 'subsample': 0.6479911133651328, 'colsample_bytree': 0.7902665558405106, 'min_child_weight': 6}. Best is trial 12 with value: 0.11724819705556594.\n",
      "Optimizing XGBoost:  28%|██▊       | 21/75 [00:13<00:25,  2.14it/s, Trial=21, Best=0.1172][I 2025-07-14 12:18:20,655] Trial 21 finished with value: 0.11808755707930835 and parameters: {'n_estimators': 787, 'max_depth': 3, 'learning_rate': 0.05414541111520657, 'subsample': 0.7107433979046116, 'colsample_bytree': 0.6502151594394349, 'min_child_weight': 1}. Best is trial 12 with value: 0.11724819705556594.\n",
      "Optimizing XGBoost:  29%|██▉       | 22/75 [00:13<00:24,  2.17it/s, Trial=22, Best=0.1172][I 2025-07-14 12:18:21,194] Trial 22 finished with value: 0.11802326524261327 and parameters: {'n_estimators': 903, 'max_depth': 3, 'learning_rate': 0.042430825526875535, 'subsample': 0.7198683967440261, 'colsample_bytree': 0.6573676107283831, 'min_child_weight': 1}. Best is trial 12 with value: 0.11724819705556594.\n",
      "Optimizing XGBoost:  31%|███       | 23/75 [00:14<00:25,  2.07it/s, Trial=23, Best=0.1172][I 2025-07-14 12:18:21,782] Trial 23 finished with value: 0.12068970126457905 and parameters: {'n_estimators': 914, 'max_depth': 4, 'learning_rate': 0.015572689518925428, 'subsample': 0.804258750672268, 'colsample_bytree': 0.6619632833214179, 'min_child_weight': 2}. Best is trial 12 with value: 0.11724819705556594.\n",
      "Optimizing XGBoost:  32%|███▏      | 24/75 [00:14<00:26,  1.94it/s, Trial=24, Best=0.1172][I 2025-07-14 12:18:22,248] Trial 24 finished with value: 0.11911845223638448 and parameters: {'n_estimators': 820, 'max_depth': 3, 'learning_rate': 0.04746236543351526, 'subsample': 0.695152824003868, 'colsample_bytree': 0.6000957702632044, 'min_child_weight': 1}. Best is trial 12 with value: 0.11724819705556594.\n",
      "Optimizing XGBoost:  33%|███▎      | 25/75 [00:15<00:25,  2.00it/s, Trial=25, Best=0.1172][I 2025-07-14 12:18:22,918] Trial 25 finished with value: 0.1196117735725549 and parameters: {'n_estimators': 905, 'max_depth': 4, 'learning_rate': 0.04279611177589765, 'subsample': 0.6609080868615335, 'colsample_bytree': 0.7217553468782973, 'min_child_weight': 2}. Best is trial 12 with value: 0.11724819705556594.\n",
      "Optimizing XGBoost:  35%|███▍      | 26/75 [00:16<00:27,  1.80it/s, Trial=26, Best=0.1172][I 2025-07-14 12:18:23,450] Trial 26 finished with value: 0.1249441741296936 and parameters: {'n_estimators': 601, 'max_depth': 3, 'learning_rate': 0.012799647213986624, 'subsample': 0.8978640944825732, 'colsample_bytree': 0.6412158847649063, 'min_child_weight': 3}. Best is trial 12 with value: 0.11724819705556594.\n",
      "Optimizing XGBoost:  36%|███▌      | 27/75 [00:16<00:26,  1.84it/s, Trial=27, Best=0.1172][I 2025-07-14 12:18:24,285] Trial 27 finished with value: 0.12927839300247518 and parameters: {'n_estimators': 713, 'max_depth': 6, 'learning_rate': 0.11615439989336969, 'subsample': 0.7761018160640983, 'colsample_bytree': 0.6754571718819884, 'min_child_weight': 1}. Best is trial 12 with value: 0.11724819705556594.\n",
      "Optimizing XGBoost:  37%|███▋      | 28/75 [00:17<00:29,  1.58it/s, Trial=28, Best=0.1172][I 2025-07-14 12:18:24,920] Trial 28 finished with value: 0.1389887827581405 and parameters: {'n_estimators': 953, 'max_depth': 5, 'learning_rate': 0.2994776367072451, 'subsample': 0.7201816126396602, 'colsample_bytree': 0.7135035368878967, 'min_child_weight': 2}. Best is trial 12 with value: 0.11724819705556594.\n",
      "Optimizing XGBoost:  39%|███▊      | 29/75 [00:18<00:29,  1.58it/s, Trial=29, Best=0.1172][I 2025-07-14 12:18:26,133] Trial 29 finished with value: 0.1259439399157641 and parameters: {'n_estimators': 824, 'max_depth': 8, 'learning_rate': 0.06531374120182702, 'subsample': 0.6331090470674118, 'colsample_bytree': 0.6441887312496879, 'min_child_weight': 3}. Best is trial 12 with value: 0.11724819705556594.\n",
      "Optimizing XGBoost:  40%|████      | 30/75 [00:19<00:36,  1.24it/s, Trial=30, Best=0.1172][I 2025-07-14 12:18:26,563] Trial 30 finished with value: 0.12001206792497825 and parameters: {'n_estimators': 545, 'max_depth': 4, 'learning_rate': 0.039512686796747055, 'subsample': 0.600488988308884, 'colsample_bytree': 0.7489788984463627, 'min_child_weight': 1}. Best is trial 12 with value: 0.11724819705556594.\n",
      "Optimizing XGBoost:  41%|████▏     | 31/75 [00:19<00:30,  1.44it/s, Trial=31, Best=0.1172][I 2025-07-14 12:18:27,047] Trial 31 finished with value: 0.11737733283548467 and parameters: {'n_estimators': 803, 'max_depth': 3, 'learning_rate': 0.0575750697125791, 'subsample': 0.6860543623249978, 'colsample_bytree': 0.6003584845043141, 'min_child_weight': 1}. Best is trial 12 with value: 0.11724819705556594.\n",
      "Optimizing XGBoost:  43%|████▎     | 32/75 [00:20<00:27,  1.59it/s, Trial=32, Best=0.1172][I 2025-07-14 12:18:27,473] Trial 32 finished with value: 0.11892963601482785 and parameters: {'n_estimators': 635, 'max_depth': 3, 'learning_rate': 0.05893269327924222, 'subsample': 0.691794907430657, 'colsample_bytree': 0.6149323446093719, 'min_child_weight': 1}. Best is trial 12 with value: 0.11724819705556594.\n",
      "Optimizing XGBoost:  44%|████▍     | 33/75 [00:20<00:23,  1.76it/s, Trial=33, Best=0.1172][I 2025-07-14 12:18:27,980] Trial 33 finished with value: 0.12067644386683501 and parameters: {'n_estimators': 921, 'max_depth': 3, 'learning_rate': 0.08652054390113677, 'subsample': 0.7494715171274123, 'colsample_bytree': 0.6563064142073897, 'min_child_weight': 2}. Best is trial 12 with value: 0.11724819705556594.\n",
      "Optimizing XGBoost:  45%|████▌     | 34/75 [00:21<00:22,  1.82it/s, Trial=34, Best=0.1172][I 2025-07-14 12:18:28,514] Trial 34 finished with value: 0.1197216824203719 and parameters: {'n_estimators': 783, 'max_depth': 4, 'learning_rate': 0.03622435556297426, 'subsample': 0.774954944168417, 'colsample_bytree': 0.6935293189216167, 'min_child_weight': 1}. Best is trial 12 with value: 0.11724819705556594.\n",
      "Optimizing XGBoost:  47%|████▋     | 35/75 [00:21<00:21,  1.83it/s, Trial=35, Best=0.1172][I 2025-07-14 12:18:29,295] Trial 35 finished with value: 0.1303736530840246 and parameters: {'n_estimators': 997, 'max_depth': 7, 'learning_rate': 0.10210010660074519, 'subsample': 0.7088037248816169, 'colsample_bytree': 0.6295127703532453, 'min_child_weight': 2}. Best is trial 12 with value: 0.11724819705556594.\n",
      "Optimizing XGBoost:  48%|████▊     | 36/75 [00:22<00:24,  1.62it/s, Trial=36, Best=0.1172][I 2025-07-14 12:18:29,738] Trial 36 finished with value: 0.11844351470636905 and parameters: {'n_estimators': 837, 'max_depth': 3, 'learning_rate': 0.028631860670781023, 'subsample': 0.6686207575535655, 'colsample_bytree': 0.6019873380451016, 'min_child_weight': 1}. Best is trial 12 with value: 0.11724819705556594.\n",
      "Optimizing XGBoost:  49%|████▉     | 37/75 [00:22<00:21,  1.77it/s, Trial=37, Best=0.1172][I 2025-07-14 12:18:30,296] Trial 37 finished with value: 0.12868425038451975 and parameters: {'n_estimators': 725, 'max_depth': 5, 'learning_rate': 0.15563403211597654, 'subsample': 0.6368835372460367, 'colsample_bytree': 0.6841053965179296, 'min_child_weight': 7}. Best is trial 12 with value: 0.11724819705556594.\n",
      "Optimizing XGBoost:  51%|█████     | 38/75 [00:23<00:20,  1.78it/s, Trial=38, Best=0.1172][I 2025-07-14 12:18:30,874] Trial 38 finished with value: 0.12635610054631433 and parameters: {'n_estimators': 950, 'max_depth': 4, 'learning_rate': 0.1357522552627852, 'subsample': 0.7454699680108315, 'colsample_bytree': 0.6205999285772441, 'min_child_weight': 2}. Best is trial 12 with value: 0.11724819705556594.\n",
      "Optimizing XGBoost:  52%|█████▏    | 39/75 [00:24<00:20,  1.76it/s, Trial=39, Best=0.1172][I 2025-07-14 12:18:31,598] Trial 39 finished with value: 0.1288646756547976 and parameters: {'n_estimators': 884, 'max_depth': 10, 'learning_rate': 0.11883608576261313, 'subsample': 0.7562854180709737, 'colsample_bytree': 0.6544947442330132, 'min_child_weight': 3}. Best is trial 12 with value: 0.11724819705556594.\n",
      "Optimizing XGBoost:  53%|█████▎    | 40/75 [00:24<00:21,  1.63it/s, Trial=40, Best=0.1172][I 2025-07-14 12:18:32,097] Trial 40 finished with value: 0.12207038738763644 and parameters: {'n_estimators': 636, 'max_depth': 4, 'learning_rate': 0.057151433056286546, 'subsample': 0.7870526971102744, 'colsample_bytree': 0.8863242010486767, 'min_child_weight': 1}. Best is trial 12 with value: 0.11724819705556594.\n",
      "Optimizing XGBoost:  55%|█████▍    | 41/75 [00:25<00:19,  1.73it/s, Trial=41, Best=0.1172][I 2025-07-14 12:18:32,570] Trial 41 finished with value: 0.1187691107634406 and parameters: {'n_estimators': 817, 'max_depth': 3, 'learning_rate': 0.03042035726119505, 'subsample': 0.6772678357487392, 'colsample_bytree': 0.6001418196042351, 'min_child_weight': 1}. Best is trial 12 with value: 0.11724819705556594.\n",
      "Optimizing XGBoost:  56%|█████▌    | 42/75 [00:25<00:18,  1.83it/s, Trial=42, Best=0.1172][I 2025-07-14 12:18:33,063] Trial 42 finished with value: 0.11833748830305556 and parameters: {'n_estimators': 866, 'max_depth': 3, 'learning_rate': 0.02452031205757327, 'subsample': 0.6656273169699889, 'colsample_bytree': 0.6213494523580319, 'min_child_weight': 1}. Best is trial 12 with value: 0.11724819705556594.\n",
      "Optimizing XGBoost:  57%|█████▋    | 43/75 [00:26<00:17,  1.88it/s, Trial=43, Best=0.1172][I 2025-07-14 12:18:33,533] Trial 43 finished with value: 0.11750843073157469 and parameters: {'n_estimators': 866, 'max_depth': 3, 'learning_rate': 0.054561777159031204, 'subsample': 0.6229778156180821, 'colsample_bytree': 0.6237704141826383, 'min_child_weight': 1}. Best is trial 12 with value: 0.11724819705556594.\n",
      "Optimizing XGBoost:  59%|█████▊    | 44/75 [00:26<00:15,  1.95it/s, Trial=44, Best=0.1172][I 2025-07-14 12:18:34,446] Trial 44 finished with value: 0.1276363746156458 and parameters: {'n_estimators': 798, 'max_depth': 8, 'learning_rate': 0.08122523474701565, 'subsample': 0.6116136901771528, 'colsample_bytree': 0.7156665913550079, 'min_child_weight': 2}. Best is trial 12 with value: 0.11724819705556594.\n",
      "Optimizing XGBoost:  60%|██████    | 45/75 [00:27<00:18,  1.58it/s, Trial=45, Best=0.1172][I 2025-07-14 12:18:34,898] Trial 45 finished with value: 0.11599942448116168 and parameters: {'n_estimators': 704, 'max_depth': 3, 'learning_rate': 0.05751763263376367, 'subsample': 0.6351471717083825, 'colsample_bytree': 0.6447057160649319, 'min_child_weight': 2}. Best is trial 45 with value: 0.11599942448116168.\n",
      "Optimizing XGBoost:  61%|██████▏   | 46/75 [00:28<00:16,  1.73it/s, Trial=46, Best=0.1160][I 2025-07-14 12:18:35,398] Trial 46 finished with value: 0.1256544096036492 and parameters: {'n_estimators': 724, 'max_depth': 4, 'learning_rate': 0.0970579626211557, 'subsample': 0.6294077794709726, 'colsample_bytree': 0.6769536268796555, 'min_child_weight': 2}. Best is trial 45 with value: 0.11599942448116168.\n",
      "Optimizing XGBoost:  63%|██████▎   | 47/75 [00:28<00:15,  1.80it/s, Trial=47, Best=0.1160][I 2025-07-14 12:18:35,794] Trial 47 finished with value: 0.11917336429129628 and parameters: {'n_estimators': 686, 'max_depth': 3, 'learning_rate': 0.06447165571254916, 'subsample': 0.6204148146843265, 'colsample_bytree': 0.631727549563587, 'min_child_weight': 5}. Best is trial 45 with value: 0.11599942448116168.\n",
      "Optimizing XGBoost:  64%|██████▍   | 48/75 [00:28<00:13,  1.97it/s, Trial=48, Best=0.1160][I 2025-07-14 12:18:36,265] Trial 48 finished with value: 0.12214886201113584 and parameters: {'n_estimators': 559, 'max_depth': 4, 'learning_rate': 0.08231904837771145, 'subsample': 0.6464982385969404, 'colsample_bytree': 0.705174344434773, 'min_child_weight': 3}. Best is trial 45 with value: 0.11599942448116168.\n",
      "Optimizing XGBoost:  65%|██████▌   | 49/75 [00:29<00:12,  2.01it/s, Trial=49, Best=0.1160][I 2025-07-14 12:18:37,131] Trial 49 finished with value: 0.1214631364410643 and parameters: {'n_estimators': 863, 'max_depth': 3, 'learning_rate': 0.11060426686388544, 'subsample': 0.6884860764993254, 'colsample_bytree': 0.8336653772746685, 'min_child_weight': 2}. Best is trial 45 with value: 0.11599942448116168.\n",
      "Optimizing XGBoost:  67%|██████▋   | 50/75 [00:30<00:15,  1.65it/s, Trial=50, Best=0.1160][I 2025-07-14 12:18:37,912] Trial 50 finished with value: 0.1324311163323081 and parameters: {'n_estimators': 962, 'max_depth': 4, 'learning_rate': 0.20439346823346555, 'subsample': 0.6022894417129226, 'colsample_bytree': 0.6176964820318595, 'min_child_weight': 2}. Best is trial 45 with value: 0.11599942448116168.\n",
      "Optimizing XGBoost:  68%|██████▊   | 51/75 [00:31<00:15,  1.52it/s, Trial=51, Best=0.1160][I 2025-07-14 12:18:38,369] Trial 51 finished with value: 0.1192435128208901 and parameters: {'n_estimators': 762, 'max_depth': 3, 'learning_rate': 0.06141129233604668, 'subsample': 0.7131095503420496, 'colsample_bytree': 0.6474644226233885, 'min_child_weight': 1}. Best is trial 45 with value: 0.11599942448116168.\n",
      "Optimizing XGBoost:  69%|██████▉   | 52/75 [00:31<00:13,  1.67it/s, Trial=52, Best=0.1160][I 2025-07-14 12:18:39,288] Trial 52 finished with value: 0.1242363924824139 and parameters: {'n_estimators': 790, 'max_depth': 9, 'learning_rate': 0.05278303221992896, 'subsample': 0.7320590415200502, 'colsample_bytree': 0.6636058763737089, 'min_child_weight': 6}. Best is trial 45 with value: 0.11599942448116168.\n",
      "Optimizing XGBoost:  71%|███████   | 53/75 [00:32<00:15,  1.44it/s, Trial=53, Best=0.1160][I 2025-07-14 12:18:39,718] Trial 53 finished with value: 0.11773771048614287 and parameters: {'n_estimators': 693, 'max_depth': 3, 'learning_rate': 0.04912189680277588, 'subsample': 0.7010238665718964, 'colsample_bytree': 0.6376404355142246, 'min_child_weight': 1}. Best is trial 45 with value: 0.11599942448116168.\n",
      "Optimizing XGBoost:  72%|███████▏  | 54/75 [00:32<00:12,  1.63it/s, Trial=54, Best=0.1160][I 2025-07-14 12:18:40,113] Trial 54 finished with value: 0.1185467845343572 and parameters: {'n_estimators': 680, 'max_depth': 3, 'learning_rate': 0.07542630741887499, 'subsample': 0.6466862403607129, 'colsample_bytree': 0.6333918980531097, 'min_child_weight': 1}. Best is trial 45 with value: 0.11599942448116168.\n",
      "Optimizing XGBoost:  73%|███████▎  | 55/75 [00:33<00:10,  1.82it/s, Trial=55, Best=0.1160][I 2025-07-14 12:18:40,403] Trial 55 finished with value: 0.12115526425430882 and parameters: {'n_estimators': 369, 'max_depth': 3, 'learning_rate': 0.037801441536345085, 'subsample': 0.6802512879751625, 'colsample_bytree': 0.6156006027793468, 'min_child_weight': 1}. Best is trial 45 with value: 0.11599942448116168.\n",
      "Optimizing XGBoost:  75%|███████▍  | 56/75 [00:33<00:08,  2.12it/s, Trial=56, Best=0.1160][I 2025-07-14 12:18:40,862] Trial 56 finished with value: 0.1257210049675171 and parameters: {'n_estimators': 601, 'max_depth': 4, 'learning_rate': 0.17689337509122788, 'subsample': 0.7006032730642011, 'colsample_bytree': 0.6821036046485348, 'min_child_weight': 1}. Best is trial 45 with value: 0.11599942448116168.\n",
      "Optimizing XGBoost:  76%|███████▌  | 57/75 [00:34<00:08,  2.14it/s, Trial=57, Best=0.1160][I 2025-07-14 12:18:41,302] Trial 57 finished with value: 0.13049466417853806 and parameters: {'n_estimators': 740, 'max_depth': 3, 'learning_rate': 0.23552570813632967, 'subsample': 0.6610555040241992, 'colsample_bytree': 0.6407978519009713, 'min_child_weight': 2}. Best is trial 45 with value: 0.11599942448116168.\n",
      "Optimizing XGBoost:  77%|███████▋  | 58/75 [00:34<00:07,  2.18it/s, Trial=58, Best=0.1160][I 2025-07-14 12:18:41,878] Trial 58 finished with value: 0.1194955986840262 and parameters: {'n_estimators': 696, 'max_depth': 3, 'learning_rate': 0.09092792720280599, 'subsample': 0.8202882094901569, 'colsample_bytree': 0.6651771505219369, 'min_child_weight': 3}. Best is trial 45 with value: 0.11599942448116168.\n",
      "Optimizing XGBoost:  79%|███████▊  | 59/75 [00:35<00:07,  2.02it/s, Trial=59, Best=0.1160][I 2025-07-14 12:18:42,504] Trial 59 finished with value: 0.12105737528603754 and parameters: {'n_estimators': 647, 'max_depth': 5, 'learning_rate': 0.04978925631851333, 'subsample': 0.6174534695923395, 'colsample_bytree': 0.7724235304731201, 'min_child_weight': 1}. Best is trial 45 with value: 0.11599942448116168.\n",
      "Optimizing XGBoost:  80%|████████  | 60/75 [00:35<00:08,  1.87it/s, Trial=60, Best=0.1160][I 2025-07-14 12:18:42,822] Trial 60 finished with value: 0.13229360847603636 and parameters: {'n_estimators': 209, 'max_depth': 4, 'learning_rate': 0.0213652744551278, 'subsample': 0.8997524304579849, 'colsample_bytree': 0.7334870937248702, 'min_child_weight': 2}. Best is trial 45 with value: 0.11599942448116168.\n",
      "Optimizing XGBoost:  81%|████████▏ | 61/75 [00:36<00:06,  2.13it/s, Trial=61, Best=0.1160][I 2025-07-14 12:18:43,290] Trial 61 finished with value: 0.11783857388884529 and parameters: {'n_estimators': 852, 'max_depth': 3, 'learning_rate': 0.0726270533781993, 'subsample': 0.7266897138053665, 'colsample_bytree': 0.6510241129586237, 'min_child_weight': 1}. Best is trial 45 with value: 0.11599942448116168.\n",
      "Optimizing XGBoost:  83%|████████▎ | 62/75 [00:36<00:06,  2.13it/s, Trial=62, Best=0.1160][I 2025-07-14 12:18:43,746] Trial 62 finished with value: 0.12009244679519442 and parameters: {'n_estimators': 852, 'max_depth': 3, 'learning_rate': 0.07572421889518757, 'subsample': 0.7286792642022788, 'colsample_bytree': 0.6103188801154776, 'min_child_weight': 1}. Best is trial 45 with value: 0.11599942448116168.\n",
      "Optimizing XGBoost:  84%|████████▍ | 63/75 [00:36<00:05,  2.15it/s, Trial=63, Best=0.1160][I 2025-07-14 12:18:44,252] Trial 63 finished with value: 0.1206682554359843 and parameters: {'n_estimators': 938, 'max_depth': 3, 'learning_rate': 0.010796887626840293, 'subsample': 0.6843918646915121, 'colsample_bytree': 0.632696700351264, 'min_child_weight': 1}. Best is trial 45 with value: 0.11599942448116168.\n",
      "Optimizing XGBoost:  85%|████████▌ | 64/75 [00:37<00:05,  2.10it/s, Trial=64, Best=0.1160][I 2025-07-14 12:18:44,772] Trial 64 finished with value: 0.12481161849127242 and parameters: {'n_estimators': 897, 'max_depth': 3, 'learning_rate': 0.04592047485480424, 'subsample': 0.9911367634236389, 'colsample_bytree': 0.9892971806083685, 'min_child_weight': 1}. Best is trial 45 with value: 0.11599942448116168.\n",
      "Optimizing XGBoost:  87%|████████▋ | 65/75 [00:37<00:04,  2.04it/s, Trial=65, Best=0.1160][I 2025-07-14 12:18:45,255] Trial 65 finished with value: 0.11841871649354636 and parameters: {'n_estimators': 806, 'max_depth': 3, 'learning_rate': 0.06764399889502849, 'subsample': 0.7017358954898132, 'colsample_bytree': 0.6507145798017385, 'min_child_weight': 1}. Best is trial 45 with value: 0.11599942448116168.\n",
      "Optimizing XGBoost:  88%|████████▊ | 66/75 [00:38<00:04,  2.05it/s, Trial=66, Best=0.1160][I 2025-07-14 12:18:45,766] Trial 66 finished with value: 0.11904805457979177 and parameters: {'n_estimators': 754, 'max_depth': 4, 'learning_rate': 0.03243231912891568, 'subsample': 0.7226378748499745, 'colsample_bytree': 0.6725416916663213, 'min_child_weight': 2}. Best is trial 45 with value: 0.11599942448116168.\n",
      "Optimizing XGBoost:  89%|████████▉ | 67/75 [00:38<00:03,  2.02it/s, Trial=67, Best=0.1160][I 2025-07-14 12:18:46,248] Trial 67 finished with value: 0.11844293301831066 and parameters: {'n_estimators': 873, 'max_depth': 3, 'learning_rate': 0.0562075883930455, 'subsample': 0.7412481720729155, 'colsample_bytree': 0.6992666511087784, 'min_child_weight': 1}. Best is trial 45 with value: 0.11599942448116168.\n",
      "Optimizing XGBoost:  91%|█████████ | 68/75 [00:39<00:03,  2.04it/s, Trial=68, Best=0.1160][I 2025-07-14 12:18:46,974] Trial 68 finished with value: 0.12202907665191719 and parameters: {'n_estimators': 843, 'max_depth': 6, 'learning_rate': 0.04292742191387431, 'subsample': 0.6550873942481424, 'colsample_bytree': 0.6242155634549247, 'min_child_weight': 4}. Best is trial 45 with value: 0.11599942448116168.\n",
      "Optimizing XGBoost:  92%|█████████▏| 69/75 [00:40<00:03,  1.78it/s, Trial=69, Best=0.1160][I 2025-07-14 12:18:47,431] Trial 69 finished with value: 0.12164881549175596 and parameters: {'n_estimators': 665, 'max_depth': 4, 'learning_rate': 0.06900038852498938, 'subsample': 0.7633760432441625, 'colsample_bytree': 0.6122494456637239, 'min_child_weight': 2}. Best is trial 45 with value: 0.11599942448116168.\n",
      "Optimizing XGBoost:  93%|█████████▎| 70/75 [00:40<00:02,  1.89it/s, Trial=70, Best=0.1160][I 2025-07-14 12:18:47,787] Trial 70 finished with value: 0.12068350168839062 and parameters: {'n_estimators': 517, 'max_depth': 3, 'learning_rate': 0.020480205048078473, 'subsample': 0.6319875138857807, 'colsample_bytree': 0.6597865705413692, 'min_child_weight': 1}. Best is trial 45 with value: 0.11599942448116168.\n",
      "Optimizing XGBoost:  95%|█████████▍| 71/75 [00:40<00:01,  2.09it/s, Trial=71, Best=0.1160][I 2025-07-14 12:18:48,232] Trial 71 finished with value: 0.1170947219768968 and parameters: {'n_estimators': 770, 'max_depth': 3, 'learning_rate': 0.05379696000848502, 'subsample': 0.7110053450755514, 'colsample_bytree': 0.6433771095931402, 'min_child_weight': 1}. Best is trial 45 with value: 0.11599942448116168.\n",
      "Optimizing XGBoost:  96%|█████████▌| 72/75 [00:41<00:01,  2.14it/s, Trial=72, Best=0.1160][I 2025-07-14 12:18:48,653] Trial 72 finished with value: 0.11941503745241151 and parameters: {'n_estimators': 704, 'max_depth': 3, 'learning_rate': 0.04780193147029061, 'subsample': 0.7136834995056981, 'colsample_bytree': 0.6413430710210531, 'min_child_weight': 1}. Best is trial 45 with value: 0.11599942448116168.\n",
      "Optimizing XGBoost:  97%|█████████▋| 73/75 [00:41<00:00,  2.20it/s, Trial=73, Best=0.1160][I 2025-07-14 12:18:49,136] Trial 73 finished with value: 0.1182198168772566 and parameters: {'n_estimators': 924, 'max_depth': 3, 'learning_rate': 0.06114532554111766, 'subsample': 0.6749685284662337, 'colsample_bytree': 0.6006386681150465, 'min_child_weight': 1}. Best is trial 45 with value: 0.11599942448116168.\n",
      "Optimizing XGBoost:  99%|█████████▊| 74/75 [00:42<00:00,  2.16it/s, Trial=74, Best=0.1160][I 2025-07-14 12:18:49,671] Trial 74 finished with value: 0.12007828987021173 and parameters: {'n_estimators': 770, 'max_depth': 4, 'learning_rate': 0.03770413663976713, 'subsample': 0.6901851361493924, 'colsample_bytree': 0.6905065084554176, 'min_child_weight': 1}. Best is trial 45 with value: 0.11599942448116168.\n",
      "Optimizing XGBoost: 100%|██████████| 75/75 [00:42<00:00,  1.75it/s, Trial=75, Best=0.1160]\n"
     ]
    },
    {
     "name": "stdout",
     "output_type": "stream",
     "text": [
      "Best XGBoost RMSE: 0.1160\n",
      "Evaluating XGBoost_Optimized...\n"
     ]
    },
    {
     "name": "stderr",
     "output_type": "stream",
     "text": [
      "                                                                   \r"
     ]
    }
   ],
   "source": [
    "def objective_xgb(trial):\n",
    "    \"\"\"Objective function for XGBoost hyperparameter optimization\"\"\"\n",
    "    params = {\n",
    "        'n_estimators': trial.suggest_int('n_estimators', 100, 1000),\n",
    "        'max_depth': trial.suggest_int('max_depth', 3, 10),\n",
    "        'learning_rate': trial.suggest_float('learning_rate', 0.01, 0.3),\n",
    "        'subsample': trial.suggest_float('subsample', 0.6, 1.0),\n",
    "        'colsample_bytree': trial.suggest_float('colsample_bytree', 0.6, 1.0),\n",
    "        'min_child_weight': trial.suggest_int('min_child_weight', 1, 7),\n",
    "        'random_state': 42,\n",
    "        'verbosity': 0\n",
    "    }\n",
    "    \n",
    "    model = XGBRegressor(**params)\n",
    "    \n",
    "    cv_scores = cross_val_score(model, X_train_split, y_train, cv=cv, \n",
    "                               scoring='neg_mean_squared_error', n_jobs=-1)\n",
    "    return np.sqrt(-cv_scores.mean())\n",
    "\n",
    "print(\"Optimizing XGBoost...\")\n",
    "study_xgb = optuna.create_study(direction='minimize', study_name='xgb_optimization',\n",
    "                               pruner=MedianPruner(n_startup_trials=10))\n",
    "n_trials_xgb = 75\n",
    "callback_xgb = OptunaTqdmCallback(n_trials_xgb, \"XGBoost\")\n",
    "study_xgb.optimize(objective_xgb, n_trials=n_trials_xgb, callbacks=[callback_xgb])\n",
    "\n",
    "print(f\"Best XGBoost RMSE: {study_xgb.best_value:.4f}\")\n",
    "best_xgb_params = study_xgb.best_params\n",
    "best_xgb = XGBRegressor(**best_xgb_params, random_state=42, verbosity=0)\n",
    "xgb_result = evaluate_model(best_xgb, X_train_split, y_train, cv, \"XGBoost_Optimized\")"
   ]
  },
  {
   "cell_type": "code",
   "execution_count": 11,
   "id": "18cb96a5",
   "metadata": {},
   "outputs": [
    {
     "name": "stderr",
     "output_type": "stream",
     "text": [
      "[I 2025-07-14 12:18:53,327] A new study created in memory with name: catboost_optimization\n"
     ]
    },
    {
     "name": "stdout",
     "output_type": "stream",
     "text": [
      "Optimizing CatBoost...\n"
     ]
    },
    {
     "name": "stderr",
     "output_type": "stream",
     "text": [
      "[I 2025-07-14 12:19:09,365] Trial 0 finished with value: 0.12876617070177052 and parameters: {'iterations': 813, 'depth': 10, 'learning_rate': 0.08575613756365383, 'l2_leaf_reg': 6.317768179807934}. Best is trial 0 with value: 0.12876617070177052.\n",
      "Optimizing CatBoost:   0%|          | 0/75 [00:00<?, ?it/s, Trial=1, Best=0.1288][I 2025-07-14 12:19:23,877] Trial 1 finished with value: 0.1280722452550248 and parameters: {'iterations': 735, 'depth': 10, 'learning_rate': 0.12101273486238709, 'l2_leaf_reg': 6.796449523467022}. Best is trial 1 with value: 0.1280722452550248.\n",
      "Optimizing CatBoost:   3%|▎         | 2/75 [00:14<08:49,  7.25s/it, Trial=2, Best=0.1281][I 2025-07-14 12:19:26,434] Trial 2 finished with value: 0.122176793415314 and parameters: {'iterations': 621, 'depth': 7, 'learning_rate': 0.2652901573821444, 'l2_leaf_reg': 5.148879386057879}. Best is trial 2 with value: 0.122176793415314.\n",
      "Optimizing CatBoost:   4%|▍         | 3/75 [00:17<06:21,  5.30s/it, Trial=3, Best=0.1222][I 2025-07-14 12:19:36,520] Trial 3 finished with value: 0.13048520261095153 and parameters: {'iterations': 950, 'depth': 9, 'learning_rate': 0.2354335548232349, 'l2_leaf_reg': 9.317643645633172}. Best is trial 2 with value: 0.122176793415314.\n",
      "Optimizing CatBoost:   5%|▌         | 4/75 [00:27<08:23,  7.10s/it, Trial=4, Best=0.1222][I 2025-07-14 12:19:38,332] Trial 4 finished with value: 0.11738674017999515 and parameters: {'iterations': 608, 'depth': 6, 'learning_rate': 0.12062706087105292, 'l2_leaf_reg': 3.631262580501492}. Best is trial 4 with value: 0.11738674017999515.\n",
      "Optimizing CatBoost:   7%|▋         | 5/75 [00:28<06:07,  5.25s/it, Trial=5, Best=0.1174][I 2025-07-14 12:19:38,884] Trial 5 finished with value: 0.1230435614819901 and parameters: {'iterations': 175, 'depth': 6, 'learning_rate': 0.2090697923628604, 'l2_leaf_reg': 1.158039408018685}. Best is trial 4 with value: 0.11738674017999515.\n",
      "Optimizing CatBoost:   8%|▊         | 6/75 [00:29<04:14,  3.69s/it, Trial=6, Best=0.1174][I 2025-07-14 12:19:48,757] Trial 6 finished with value: 0.1280165561634202 and parameters: {'iterations': 932, 'depth': 9, 'learning_rate': 0.2631434403400114, 'l2_leaf_reg': 7.361084156363525}. Best is trial 4 with value: 0.11738674017999515.\n",
      "Optimizing CatBoost:   9%|▉         | 7/75 [00:39<06:26,  5.68s/it, Trial=7, Best=0.1174][I 2025-07-14 12:19:50,063] Trial 7 finished with value: 0.1249465032227925 and parameters: {'iterations': 513, 'depth': 6, 'learning_rate': 0.2695282679290509, 'l2_leaf_reg': 3.5947248240125016}. Best is trial 4 with value: 0.11738674017999515.\n",
      "Optimizing CatBoost:  11%|█         | 8/75 [00:40<04:48,  4.30s/it, Trial=8, Best=0.1174][I 2025-07-14 12:20:00,423] Trial 8 finished with value: 0.12932873829676675 and parameters: {'iterations': 982, 'depth': 9, 'learning_rate': 0.2543956227249531, 'l2_leaf_reg': 9.473231122799818}. Best is trial 4 with value: 0.11738674017999515.\n",
      "Optimizing CatBoost:  12%|█▏        | 9/75 [00:51<06:47,  6.18s/it, Trial=9, Best=0.1174][I 2025-07-14 12:20:01,402] Trial 9 finished with value: 0.11905549669056502 and parameters: {'iterations': 373, 'depth': 6, 'learning_rate': 0.048184991784675765, 'l2_leaf_reg': 3.1483672844980273}. Best is trial 4 with value: 0.11738674017999515.\n",
      "Optimizing CatBoost:  13%|█▎        | 10/75 [00:52<04:57,  4.58s/it, Trial=10, Best=0.1174][I 2025-07-14 12:20:01,887] Trial 10 finished with value: 0.11940351699266054 and parameters: {'iterations': 359, 'depth': 4, 'learning_rate': 0.1841468258478019, 'l2_leaf_reg': 1.4247281443349347}. Best is trial 4 with value: 0.11738674017999515.\n",
      "Optimizing CatBoost:  15%|█▍        | 11/75 [00:52<03:33,  3.33s/it, Trial=11, Best=0.1174][I 2025-07-14 12:20:02,602] Trial 11 finished with value: 0.13367815703794886 and parameters: {'iterations': 409, 'depth': 5, 'learning_rate': 0.013206660737676762, 'l2_leaf_reg': 3.3864851758783496}. Best is trial 4 with value: 0.11738674017999515.\n",
      "Optimizing CatBoost:  16%|█▌        | 12/75 [00:53<02:39,  2.54s/it, Trial=12, Best=0.1174][I 2025-07-14 12:20:03,553] Trial 12 finished with value: 0.12360302865097395 and parameters: {'iterations': 228, 'depth': 7, 'learning_rate': 0.051436371978261494, 'l2_leaf_reg': 3.2294684704508314}. Best is trial 4 with value: 0.11738674017999515.\n",
      "Optimizing CatBoost:  17%|█▋        | 13/75 [00:54<02:07,  2.06s/it, Trial=13, Best=0.1174][I 2025-07-14 12:20:04,522] Trial 13 finished with value: 0.11822121300634908 and parameters: {'iterations': 580, 'depth': 5, 'learning_rate': 0.13159208555538615, 'l2_leaf_reg': 4.896528845211129}. Best is trial 4 with value: 0.11738674017999515.\n",
      "Optimizing CatBoost:  19%|█▊        | 14/75 [00:55<01:45,  1.73s/it, Trial=14, Best=0.1174][I 2025-07-14 12:20:05,300] Trial 14 finished with value: 0.11808322786083716 and parameters: {'iterations': 606, 'depth': 4, 'learning_rate': 0.1360725962967947, 'l2_leaf_reg': 4.8315615938318395}. Best is trial 4 with value: 0.11738674017999515.\n",
      "Optimizing CatBoost:  20%|██        | 15/75 [00:55<01:26,  1.44s/it, Trial=15, Best=0.1174][I 2025-07-14 12:20:06,122] Trial 15 finished with value: 0.11887832188034136 and parameters: {'iterations': 716, 'depth': 4, 'learning_rate': 0.15112287030529792, 'l2_leaf_reg': 4.535746112889041}. Best is trial 4 with value: 0.11738674017999515.\n",
      "Optimizing CatBoost:  21%|██▏       | 16/75 [00:56<01:14,  1.26s/it, Trial=16, Best=0.1174][I 2025-07-14 12:20:06,994] Trial 16 finished with value: 0.11561464116386992 and parameters: {'iterations': 509, 'depth': 5, 'learning_rate': 0.10361350774117169, 'l2_leaf_reg': 2.241393912976878}. Best is trial 16 with value: 0.11561464116386992.\n",
      "Optimizing CatBoost:  23%|██▎       | 17/75 [00:57<01:06,  1.14s/it, Trial=17, Best=0.1156][I 2025-07-14 12:20:07,779] Trial 17 finished with value: 0.11720396410180818 and parameters: {'iterations': 461, 'depth': 5, 'learning_rate': 0.09554482787979146, 'l2_leaf_reg': 2.663292769459883}. Best is trial 16 with value: 0.11561464116386992.\n",
      "Optimizing CatBoost:  24%|██▍       | 18/75 [00:58<00:58,  1.03s/it, Trial=18, Best=0.1156][I 2025-07-14 12:20:08,555] Trial 18 finished with value: 0.11755644305413313 and parameters: {'iterations': 451, 'depth': 5, 'learning_rate': 0.08690227246091971, 'l2_leaf_reg': 2.1160878571621518}. Best is trial 16 with value: 0.11561464116386992.\n",
      "Optimizing CatBoost:  25%|██▌       | 19/75 [00:59<00:53,  1.05it/s, Trial=19, Best=0.1156][I 2025-07-14 12:20:10,314] Trial 19 finished with value: 0.12464463188736964 and parameters: {'iterations': 264, 'depth': 8, 'learning_rate': 0.18067260112991368, 'l2_leaf_reg': 2.174039146585268}. Best is trial 16 with value: 0.11561464116386992.\n",
      "Optimizing CatBoost:  27%|██▋       | 20/75 [01:00<01:05,  1.20s/it, Trial=20, Best=0.1156][I 2025-07-14 12:20:10,870] Trial 20 finished with value: 0.11846308938293319 and parameters: {'iterations': 295, 'depth': 5, 'learning_rate': 0.09033433836249942, 'l2_leaf_reg': 2.07886586829897}. Best is trial 16 with value: 0.11561464116386992.\n",
      "Optimizing CatBoost:  28%|██▊       | 21/75 [01:01<00:54,  1.00s/it, Trial=21, Best=0.1156][I 2025-07-14 12:20:12,909] Trial 21 finished with value: 0.11887463873719158 and parameters: {'iterations': 536, 'depth': 7, 'learning_rate': 0.10881604917481881, 'l2_leaf_reg': 3.9410869580108296}. Best is trial 16 with value: 0.11561464116386992.\n",
      "Optimizing CatBoost:  29%|██▉       | 22/75 [01:03<01:09,  1.32s/it, Trial=22, Best=0.1156][I 2025-07-14 12:20:14,252] Trial 22 finished with value: 0.11670640514924933 and parameters: {'iterations': 481, 'depth': 6, 'learning_rate': 0.07059291484094388, 'l2_leaf_reg': 2.5193309708638174}. Best is trial 16 with value: 0.11561464116386992.\n",
      "Optimizing CatBoost:  31%|███       | 23/75 [01:04<01:08,  1.32s/it, Trial=23, Best=0.1156][I 2025-07-14 12:20:15,098] Trial 23 finished with value: 0.1176626673885788 and parameters: {'iterations': 477, 'depth': 5, 'learning_rate': 0.051460216936832975, 'l2_leaf_reg': 2.3568867208502975}. Best is trial 16 with value: 0.11561464116386992.\n",
      "Optimizing CatBoost:  32%|███▏      | 24/75 [01:05<01:00,  1.18s/it, Trial=24, Best=0.1156][I 2025-07-14 12:20:15,988] Trial 24 finished with value: 0.12391214939043124 and parameters: {'iterations': 333, 'depth': 6, 'learning_rate': 0.026827083932175866, 'l2_leaf_reg': 2.6962457902411625}. Best is trial 16 with value: 0.11561464116386992.\n",
      "Optimizing CatBoost:  33%|███▎      | 25/75 [01:06<00:54,  1.09s/it, Trial=25, Best=0.1156][I 2025-07-14 12:20:16,572] Trial 25 finished with value: 0.1160610508693851 and parameters: {'iterations': 432, 'depth': 4, 'learning_rate': 0.07631004438336118, 'l2_leaf_reg': 1.144367749807848}. Best is trial 16 with value: 0.11561464116386992.\n",
      "Optimizing CatBoost:  35%|███▍      | 26/75 [01:07<00:46,  1.06it/s, Trial=26, Best=0.1156][I 2025-07-14 12:20:17,384] Trial 26 finished with value: 0.11347531353608248 and parameters: {'iterations': 679, 'depth': 4, 'learning_rate': 0.0656054075114688, 'l2_leaf_reg': 1.2548580627358594}. Best is trial 26 with value: 0.11347531353608248.\n",
      "Optimizing CatBoost:  36%|███▌      | 27/75 [01:08<00:43,  1.11it/s, Trial=27, Best=0.1135][I 2025-07-14 12:20:18,283] Trial 27 finished with value: 0.11595933725172615 and parameters: {'iterations': 768, 'depth': 4, 'learning_rate': 0.06676121042590866, 'l2_leaf_reg': 1.0532988578515494}. Best is trial 26 with value: 0.11347531353608248.\n",
      "Optimizing CatBoost:  37%|███▋      | 28/75 [01:08<00:42,  1.11it/s, Trial=28, Best=0.1135][I 2025-07-14 12:20:19,177] Trial 28 finished with value: 0.1240661357306554 and parameters: {'iterations': 839, 'depth': 4, 'learning_rate': 0.2970583240651702, 'l2_leaf_reg': 1.5103284362880534}. Best is trial 26 with value: 0.11347531353608248.\n",
      "Optimizing CatBoost:  39%|███▊      | 29/75 [01:09<00:41,  1.11it/s, Trial=29, Best=0.1135][I 2025-07-14 12:20:19,966] Trial 29 finished with value: 0.11521251088536595 and parameters: {'iterations': 713, 'depth': 4, 'learning_rate': 0.06741581734556301, 'l2_leaf_reg': 1.707893130395635}. Best is trial 26 with value: 0.11347531353608248.\n",
      "Optimizing CatBoost:  40%|████      | 30/75 [01:10<00:38,  1.16it/s, Trial=30, Best=0.1135][I 2025-07-14 12:20:20,726] Trial 30 finished with value: 0.12182550260241964 and parameters: {'iterations': 680, 'depth': 4, 'learning_rate': 0.02674722023036248, 'l2_leaf_reg': 8.110837104830726}. Best is trial 26 with value: 0.11347531353608248.\n",
      "Optimizing CatBoost:  41%|████▏     | 31/75 [01:11<00:36,  1.20it/s, Trial=31, Best=0.1135][I 2025-07-14 12:20:21,623] Trial 31 finished with value: 0.1144733410336216 and parameters: {'iterations': 809, 'depth': 4, 'learning_rate': 0.06404033259071235, 'l2_leaf_reg': 1.6888247104574328}. Best is trial 26 with value: 0.11347531353608248.\n",
      "Optimizing CatBoost:  43%|████▎     | 32/75 [01:12<00:36,  1.17it/s, Trial=32, Best=0.1135][I 2025-07-14 12:20:22,543] Trial 32 finished with value: 0.11769228236572503 and parameters: {'iterations': 848, 'depth': 4, 'learning_rate': 0.03732220481873179, 'l2_leaf_reg': 5.973669452938926}. Best is trial 26 with value: 0.11347531353608248.\n",
      "Optimizing CatBoost:  44%|████▍     | 33/75 [01:13<00:36,  1.15it/s, Trial=33, Best=0.1135][I 2025-07-14 12:20:23,617] Trial 33 finished with value: 0.11838664511371154 and parameters: {'iterations': 667, 'depth': 5, 'learning_rate': 0.1066873193213008, 'l2_leaf_reg': 1.702130337764578}. Best is trial 26 with value: 0.11347531353608248.\n",
      "Optimizing CatBoost:  45%|████▌     | 34/75 [01:14<00:38,  1.07it/s, Trial=34, Best=0.1135][I 2025-07-14 12:20:24,537] Trial 34 finished with value: 0.1147688680799706 and parameters: {'iterations': 789, 'depth': 4, 'learning_rate': 0.06507430934748126, 'l2_leaf_reg': 1.7758015663682956}. Best is trial 26 with value: 0.11347531353608248.\n",
      "Optimizing CatBoost:  47%|████▋     | 35/75 [01:15<00:37,  1.08it/s, Trial=35, Best=0.1135][I 2025-07-14 12:20:25,403] Trial 35 finished with value: 0.11517132648924468 and parameters: {'iterations': 785, 'depth': 4, 'learning_rate': 0.0659171533525048, 'l2_leaf_reg': 4.215669680058513}. Best is trial 26 with value: 0.11347531353608248.\n",
      "Optimizing CatBoost:  48%|████▊     | 36/75 [01:16<00:35,  1.10it/s, Trial=36, Best=0.1135][I 2025-07-14 12:20:26,385] Trial 36 finished with value: 0.11594647370655001 and parameters: {'iterations': 891, 'depth': 4, 'learning_rate': 0.054067319613602546, 'l2_leaf_reg': 4.201671387570003}. Best is trial 26 with value: 0.11347531353608248.\n",
      "Optimizing CatBoost:  49%|████▉     | 37/75 [01:17<00:35,  1.07it/s, Trial=37, Best=0.1135][I 2025-07-14 12:20:44,713] Trial 37 finished with value: 0.1268226873457844 and parameters: {'iterations': 808, 'depth': 10, 'learning_rate': 0.02246888226063904, 'l2_leaf_reg': 5.345660422270781}. Best is trial 26 with value: 0.11347531353608248.\n",
      "Optimizing CatBoost:  51%|█████     | 38/75 [01:35<03:47,  6.15s/it, Trial=38, Best=0.1135][I 2025-07-14 12:20:51,518] Trial 38 finished with value: 0.12147597644841512 and parameters: {'iterations': 754, 'depth': 8, 'learning_rate': 0.12023558753264436, 'l2_leaf_reg': 5.993364685572551}. Best is trial 26 with value: 0.11347531353608248.\n",
      "Optimizing CatBoost:  52%|█████▏    | 39/75 [01:42<03:48,  6.35s/it, Trial=39, Best=0.1135][I 2025-07-14 12:20:52,808] Trial 39 finished with value: 0.11889067238671826 and parameters: {'iterations': 794, 'depth': 5, 'learning_rate': 0.07790728614726991, 'l2_leaf_reg': 2.9479664577617637}. Best is trial 26 with value: 0.11347531353608248.\n",
      "Optimizing CatBoost:  53%|█████▎    | 40/75 [01:43<02:49,  4.83s/it, Trial=40, Best=0.1135][I 2025-07-14 12:20:53,775] Trial 40 finished with value: 0.12610012919431207 and parameters: {'iterations': 883, 'depth': 4, 'learning_rate': 0.012859098629363172, 'l2_leaf_reg': 8.376054033409396}. Best is trial 26 with value: 0.11347531353608248.\n",
      "Optimizing CatBoost:  55%|█████▍    | 41/75 [01:44<02:04,  3.67s/it, Trial=41, Best=0.1135][I 2025-07-14 12:20:54,607] Trial 41 finished with value: 0.1151540604780574 and parameters: {'iterations': 668, 'depth': 4, 'learning_rate': 0.06745075705203647, 'l2_leaf_reg': 1.7053849431015307}. Best is trial 26 with value: 0.11347531353608248.\n",
      "Optimizing CatBoost:  56%|█████▌    | 42/75 [01:45<01:33,  2.82s/it, Trial=42, Best=0.1135][I 2025-07-14 12:20:55,361] Trial 42 finished with value: 0.1162885574480143 and parameters: {'iterations': 655, 'depth': 4, 'learning_rate': 0.040063581835311377, 'l2_leaf_reg': 1.859956128344614}. Best is trial 26 with value: 0.11347531353608248.\n",
      "Optimizing CatBoost:  57%|█████▋    | 43/75 [01:45<01:10,  2.20s/it, Trial=43, Best=0.1135][I 2025-07-14 12:20:56,217] Trial 43 finished with value: 0.11481183904883015 and parameters: {'iterations': 731, 'depth': 4, 'learning_rate': 0.06133491977405507, 'l2_leaf_reg': 1.0413032376310078}. Best is trial 26 with value: 0.11347531353608248.\n",
      "Optimizing CatBoost:  59%|█████▊    | 44/75 [01:46<00:55,  1.80s/it, Trial=44, Best=0.1135][I 2025-07-14 12:20:57,367] Trial 44 finished with value: 0.11626659219224052 and parameters: {'iterations': 735, 'depth': 5, 'learning_rate': 0.037079380177184096, 'l2_leaf_reg': 1.4390333771296768}. Best is trial 26 with value: 0.11347531353608248.\n",
      "Optimizing CatBoost:  60%|██████    | 45/75 [01:47<00:48,  1.60s/it, Trial=45, Best=0.1135][I 2025-07-14 12:20:58,340] Trial 45 finished with value: 0.11518779771002378 and parameters: {'iterations': 919, 'depth': 4, 'learning_rate': 0.05801361648230856, 'l2_leaf_reg': 1.1455463876785195}. Best is trial 26 with value: 0.11347531353608248.\n",
      "Optimizing CatBoost:  61%|██████▏   | 46/75 [01:48<00:40,  1.41s/it, Trial=46, Best=0.1135][I 2025-07-14 12:20:59,391] Trial 46 finished with value: 0.11721024525720916 and parameters: {'iterations': 635, 'depth': 5, 'learning_rate': 0.09246467870510695, 'l2_leaf_reg': 1.7356456443652835}. Best is trial 26 with value: 0.11347531353608248.\n",
      "Optimizing CatBoost:  63%|██████▎   | 47/75 [01:50<00:36,  1.30s/it, Trial=47, Best=0.1135][I 2025-07-14 12:20:59,655] Trial 47 finished with value: 0.122644500299605 and parameters: {'iterations': 118, 'depth': 4, 'learning_rate': 0.16997724847732273, 'l2_leaf_reg': 2.9063005101406403}. Best is trial 26 with value: 0.11347531353608248.\n",
      "Optimizing CatBoost:  64%|██████▍   | 48/75 [01:50<00:26,  1.01it/s, Trial=48, Best=0.1135][I 2025-07-14 12:21:00,342] Trial 48 finished with value: 0.11918943773597869 and parameters: {'iterations': 589, 'depth': 4, 'learning_rate': 0.2051742379521581, 'l2_leaf_reg': 6.943083554935871}. Best is trial 26 with value: 0.11347531353608248.\n",
      "Optimizing CatBoost:  65%|██████▌   | 49/75 [01:50<00:23,  1.11it/s, Trial=49, Best=0.1135][I 2025-07-14 12:21:02,710] Trial 49 finished with value: 0.11891365083703588 and parameters: {'iterations': 990, 'depth': 6, 'learning_rate': 0.0804865092365323, 'l2_leaf_reg': 3.4723421671070662}. Best is trial 26 with value: 0.11347531353608248.\n",
      "Optimizing CatBoost:  67%|██████▋   | 50/75 [01:53<00:33,  1.34s/it, Trial=50, Best=0.1135][I 2025-07-14 12:21:03,833] Trial 50 finished with value: 0.11897238314755833 and parameters: {'iterations': 692, 'depth': 5, 'learning_rate': 0.1420410247165229, 'l2_leaf_reg': 1.4486647180834487}. Best is trial 26 with value: 0.11347531353608248.\n",
      "Optimizing CatBoost:  68%|██████▊   | 51/75 [01:54<00:30,  1.28s/it, Trial=51, Best=0.1135][I 2025-07-14 12:21:04,700] Trial 51 finished with value: 0.11545252138523722 and parameters: {'iterations': 775, 'depth': 4, 'learning_rate': 0.05902902694997242, 'l2_leaf_reg': 1.0039170292926232}. Best is trial 26 with value: 0.11347531353608248.\n",
      "Optimizing CatBoost:  69%|██████▉   | 52/75 [01:55<00:26,  1.15s/it, Trial=52, Best=0.1135][I 2025-07-14 12:21:05,605] Trial 52 finished with value: 0.11914710197850648 and parameters: {'iterations': 827, 'depth': 4, 'learning_rate': 0.11782929686036063, 'l2_leaf_reg': 2.0171642660870264}. Best is trial 26 with value: 0.11347531353608248.\n",
      "Optimizing CatBoost:  71%|███████   | 53/75 [01:56<00:23,  1.08s/it, Trial=53, Best=0.1135][I 2025-07-14 12:21:06,515] Trial 53 finished with value: 0.11597223622092966 and parameters: {'iterations': 876, 'depth': 4, 'learning_rate': 0.04365849366871788, 'l2_leaf_reg': 2.4455914247379686}. Best is trial 26 with value: 0.11347531353608248.\n",
      "Optimizing CatBoost:  72%|███████▏  | 54/75 [01:57<00:21,  1.03s/it, Trial=54, Best=0.1135][I 2025-07-14 12:21:07,672] Trial 54 finished with value: 0.11670406597457886 and parameters: {'iterations': 730, 'depth': 5, 'learning_rate': 0.061442007709299036, 'l2_leaf_reg': 1.406757549500287}. Best is trial 26 with value: 0.11347531353608248.\n",
      "Optimizing CatBoost:  73%|███████▎  | 55/75 [01:58<00:21,  1.07s/it, Trial=55, Best=0.1135][I 2025-07-14 12:21:11,559] Trial 55 finished with value: 0.1222877242567462 and parameters: {'iterations': 628, 'depth': 8, 'learning_rate': 0.08224484110350389, 'l2_leaf_reg': 3.125970159958592}. Best is trial 26 with value: 0.11347531353608248.\n",
      "Optimizing CatBoost:  75%|███████▍  | 56/75 [02:02<00:36,  1.91s/it, Trial=56, Best=0.1135][I 2025-07-14 12:21:12,252] Trial 56 finished with value: 0.11746298162189878 and parameters: {'iterations': 562, 'depth': 4, 'learning_rate': 0.09880493503192381, 'l2_leaf_reg': 9.84200545321266}. Best is trial 26 with value: 0.11347531353608248.\n",
      "Optimizing CatBoost:  76%|███████▌  | 57/75 [02:02<00:27,  1.55s/it, Trial=57, Best=0.1135][I 2025-07-14 12:21:13,467] Trial 57 finished with value: 0.1163547577462533 and parameters: {'iterations': 953, 'depth': 4, 'learning_rate': 0.07241150367075797, 'l2_leaf_reg': 3.7591853190212587}. Best is trial 26 with value: 0.11347531353608248.\n",
      "Optimizing CatBoost:  77%|███████▋  | 58/75 [02:04<00:24,  1.45s/it, Trial=58, Best=0.1135][I 2025-07-14 12:21:14,784] Trial 58 finished with value: 0.11815494728424121 and parameters: {'iterations': 788, 'depth': 5, 'learning_rate': 0.030623865993378782, 'l2_leaf_reg': 4.256554922266045}. Best is trial 26 with value: 0.11347531353608248.\n",
      "Optimizing CatBoost:  79%|███████▊  | 59/75 [02:05<00:22,  1.41s/it, Trial=59, Best=0.1135][I 2025-07-14 12:21:15,909] Trial 59 finished with value: 0.11669332049014586 and parameters: {'iterations': 708, 'depth': 5, 'learning_rate': 0.04586225357110481, 'l2_leaf_reg': 1.997081875448933}. Best is trial 26 with value: 0.11347531353608248.\n",
      "Optimizing CatBoost:  80%|████████  | 60/75 [02:06<00:19,  1.32s/it, Trial=60, Best=0.1135][I 2025-07-14 12:21:16,735] Trial 60 finished with value: 0.11586325808236625 and parameters: {'iterations': 749, 'depth': 4, 'learning_rate': 0.08959896665825552, 'l2_leaf_reg': 2.6658895006879577}. Best is trial 26 with value: 0.11347531353608248.\n",
      "Optimizing CatBoost:  81%|████████▏ | 61/75 [02:07<00:16,  1.17s/it, Trial=61, Best=0.1135][I 2025-07-14 12:21:17,709] Trial 61 finished with value: 0.11360305028756586 and parameters: {'iterations': 918, 'depth': 4, 'learning_rate': 0.06199709330986045, 'l2_leaf_reg': 1.3292629340379123}. Best is trial 26 with value: 0.11347531353608248.\n",
      "Optimizing CatBoost:  83%|████████▎ | 62/75 [02:08<00:14,  1.11s/it, Trial=62, Best=0.1135][I 2025-07-14 12:21:18,669] Trial 62 finished with value: 0.11612464362649395 and parameters: {'iterations': 855, 'depth': 4, 'learning_rate': 0.0641648286120625, 'l2_leaf_reg': 1.2973358032453857}. Best is trial 26 with value: 0.11347531353608248.\n",
      "Optimizing CatBoost:  84%|████████▍ | 63/75 [02:09<00:12,  1.07s/it, Trial=63, Best=0.1135][I 2025-07-14 12:21:19,559] Trial 63 finished with value: 0.11471075464207152 and parameters: {'iterations': 811, 'depth': 4, 'learning_rate': 0.05150889713800544, 'l2_leaf_reg': 1.6358654109906816}. Best is trial 26 with value: 0.11347531353608248.\n",
      "Optimizing CatBoost:  85%|████████▌ | 64/75 [02:10<00:11,  1.01s/it, Trial=64, Best=0.1135][I 2025-07-14 12:21:20,576] Trial 64 finished with value: 0.11497479334572439 and parameters: {'iterations': 925, 'depth': 4, 'learning_rate': 0.04878384642136768, 'l2_leaf_reg': 1.6164430523284796}. Best is trial 26 with value: 0.11347531353608248.\n",
      "Optimizing CatBoost:  87%|████████▋ | 65/75 [02:11<00:10,  1.02s/it, Trial=65, Best=0.1135][I 2025-07-14 12:21:21,559] Trial 65 finished with value: 0.11608899498428174 and parameters: {'iterations': 926, 'depth': 4, 'learning_rate': 0.033550291064039145, 'l2_leaf_reg': 2.331663939534545}. Best is trial 26 with value: 0.11347531353608248.\n",
      "Optimizing CatBoost:  88%|████████▊ | 66/75 [02:12<00:09,  1.01s/it, Trial=66, Best=0.1135][I 2025-07-14 12:21:23,000] Trial 66 finished with value: 0.11680818608340815 and parameters: {'iterations': 946, 'depth': 5, 'learning_rate': 0.05318271360177297, 'l2_leaf_reg': 1.9928823585119972}. Best is trial 26 with value: 0.11347531353608248.\n",
      "Optimizing CatBoost:  89%|████████▉ | 67/75 [02:13<00:09,  1.14s/it, Trial=67, Best=0.1135][I 2025-07-14 12:21:23,967] Trial 67 finished with value: 0.11711789285173134 and parameters: {'iterations': 899, 'depth': 4, 'learning_rate': 0.020655813533455348, 'l2_leaf_reg': 1.0282729393490775}. Best is trial 26 with value: 0.11347531353608248.\n",
      "Optimizing CatBoost:  91%|█████████ | 68/75 [02:14<00:07,  1.09s/it, Trial=68, Best=0.1135][I 2025-07-14 12:21:25,296] Trial 68 finished with value: 0.11636772789093355 and parameters: {'iterations': 863, 'depth': 5, 'learning_rate': 0.04263592221634001, 'l2_leaf_reg': 1.5646047656187774}. Best is trial 26 with value: 0.11347531353608248.\n",
      "Optimizing CatBoost:  92%|█████████▏| 69/75 [02:15<00:06,  1.16s/it, Trial=69, Best=0.1135][I 2025-07-14 12:21:26,383] Trial 69 finished with value: 0.12339919189874642 and parameters: {'iterations': 968, 'depth': 4, 'learning_rate': 0.23695139336378052, 'l2_leaf_reg': 1.301984861090816}. Best is trial 26 with value: 0.11347531353608248.\n",
      "Optimizing CatBoost:  93%|█████████▎| 70/75 [02:17<00:05,  1.14s/it, Trial=70, Best=0.1135][I 2025-07-14 12:21:27,317] Trial 70 finished with value: 0.11505277911914819 and parameters: {'iterations': 816, 'depth': 4, 'learning_rate': 0.052726730054217005, 'l2_leaf_reg': 2.2142875985436614}. Best is trial 26 with value: 0.11347531353608248.\n",
      "Optimizing CatBoost:  95%|█████████▍| 71/75 [02:17<00:04,  1.08s/it, Trial=71, Best=0.1135][I 2025-07-14 12:21:28,184] Trial 71 finished with value: 0.11606683733778343 and parameters: {'iterations': 821, 'depth': 4, 'learning_rate': 0.052313382661317805, 'l2_leaf_reg': 2.297207470767556}. Best is trial 26 with value: 0.11347531353608248.\n",
      "Optimizing CatBoost:  96%|█████████▌| 72/75 [02:18<00:03,  1.01s/it, Trial=72, Best=0.1135][I 2025-07-14 12:21:29,114] Trial 72 finished with value: 0.11604217400922286 and parameters: {'iterations': 906, 'depth': 4, 'learning_rate': 0.07735672089349135, 'l2_leaf_reg': 1.8268900911654256}. Best is trial 26 with value: 0.11347531353608248.\n",
      "Optimizing CatBoost:  97%|█████████▋| 73/75 [02:19<00:01,  1.01it/s, Trial=73, Best=0.1135][I 2025-07-14 12:21:29,999] Trial 73 finished with value: 0.1182936850367347 and parameters: {'iterations': 810, 'depth': 4, 'learning_rate': 0.020243212937190218, 'l2_leaf_reg': 1.6079144953596702}. Best is trial 26 with value: 0.11347531353608248.\n",
      "Optimizing CatBoost:  99%|█████████▊| 74/75 [02:20<00:00,  1.04it/s, Trial=74, Best=0.1135][I 2025-07-14 12:21:30,842] Trial 74 finished with value: 0.11603663352844668 and parameters: {'iterations': 761, 'depth': 4, 'learning_rate': 0.047838919603381304, 'l2_leaf_reg': 1.2650955104531725}. Best is trial 26 with value: 0.11347531353608248.\n",
      "Optimizing CatBoost: 100%|██████████| 75/75 [02:21<00:00,  1.89s/it, Trial=75, Best=0.1135]\n"
     ]
    },
    {
     "name": "stdout",
     "output_type": "stream",
     "text": [
      "Best CatBoost RMSE: 0.1135\n",
      "Evaluating CatBoost_Optimized...\n"
     ]
    },
    {
     "name": "stderr",
     "output_type": "stream",
     "text": [
      "                                                                    \r"
     ]
    }
   ],
   "source": [
    "def objective_catboost(trial):\n",
    "    \"\"\"Objective function for CatBoost hyperparameter optimization\"\"\"\n",
    "    params = {\n",
    "        'iterations': trial.suggest_int('iterations', 100, 1000),\n",
    "        'depth': trial.suggest_int('depth', 4, 10),\n",
    "        'learning_rate': trial.suggest_float('learning_rate', 0.01, 0.3),\n",
    "        'l2_leaf_reg': trial.suggest_float('l2_leaf_reg', 1, 10),\n",
    "        'random_seed': 42,\n",
    "        'verbose': False\n",
    "    }\n",
    "    \n",
    "    model = CatBoostRegressor(**params)\n",
    "    \n",
    "    cv_scores = cross_val_score(model, X_train_split, y_train, cv=cv, \n",
    "                               scoring='neg_mean_squared_error', n_jobs=-1)\n",
    "    return np.sqrt(-cv_scores.mean())\n",
    "\n",
    "print(\"Optimizing CatBoost...\")\n",
    "study_catboost = optuna.create_study(direction='minimize', study_name='catboost_optimization',\n",
    "                                    pruner=MedianPruner(n_startup_trials=10))\n",
    "n_trials_catboost = 75\n",
    "callback_catboost = OptunaTqdmCallback(n_trials_catboost, \"CatBoost\")\n",
    "study_catboost.optimize(objective_catboost, n_trials=n_trials_catboost, callbacks=[callback_catboost])\n",
    "\n",
    "print(f\"Best CatBoost RMSE: {study_catboost.best_value:.4f}\")\n",
    "best_catboost_params = study_catboost.best_params\n",
    "best_catboost = CatBoostRegressor(**best_catboost_params, random_seed=42, verbose=False)\n",
    "catboost_result = evaluate_model(best_catboost, X_train_split, y_train, cv, \"CatBoost_Optimized\")"
   ]
  },
  {
   "cell_type": "code",
   "execution_count": 12,
   "id": "c4e4c563",
   "metadata": {},
   "outputs": [
    {
     "name": "stderr",
     "output_type": "stream",
     "text": [
      "[I 2025-07-14 12:21:32,577] A new study created in memory with name: lgbm_optimization\n"
     ]
    },
    {
     "name": "stdout",
     "output_type": "stream",
     "text": [
      "Optimizing LightGBM...\n"
     ]
    },
    {
     "name": "stderr",
     "output_type": "stream",
     "text": [
      "[I 2025-07-14 12:21:33,509] Trial 0 finished with value: 0.16009767069123096 and parameters: {'n_estimators': 576, 'max_depth': 5, 'learning_rate': 0.20481514427818384, 'subsample': 0.7555392969201588, 'colsample_bytree': 0.6322652521819585, 'min_child_samples': 41, 'reg_alpha': 6.948315949398597, 'reg_lambda': 2.2838932683858184}. Best is trial 0 with value: 0.16009767069123096.\n",
      "Optimizing LightGBM:   0%|          | 0/75 [00:00<?, ?it/s, Trial=1, Best=0.1601][I 2025-07-14 12:21:34,492] Trial 1 finished with value: 0.14033504281040257 and parameters: {'n_estimators': 124, 'max_depth': 9, 'learning_rate': 0.2583111137465346, 'subsample': 0.7918767339754262, 'colsample_bytree': 0.9875204400557822, 'min_child_samples': 20, 'reg_alpha': 1.0596603757158085, 'reg_lambda': 6.0499157320713675}. Best is trial 1 with value: 0.14033504281040257.\n",
      "Optimizing LightGBM:   3%|▎         | 2/75 [00:00<00:35,  2.03it/s, Trial=2, Best=0.1403][I 2025-07-14 12:21:35,871] Trial 2 finished with value: 0.13936920496285474 and parameters: {'n_estimators': 631, 'max_depth': 7, 'learning_rate': 0.09845072761250792, 'subsample': 0.6883581910753888, 'colsample_bytree': 0.7935927874754506, 'min_child_samples': 71, 'reg_alpha': 2.1004635385366854, 'reg_lambda': 1.0351161311295243}. Best is trial 2 with value: 0.13936920496285474.\n",
      "Optimizing LightGBM:   4%|▍         | 3/75 [00:02<01:02,  1.16it/s, Trial=3, Best=0.1394][I 2025-07-14 12:21:36,857] Trial 3 finished with value: 0.13551095947744446 and parameters: {'n_estimators': 705, 'max_depth': 3, 'learning_rate': 0.2667848869721742, 'subsample': 0.73853065473451, 'colsample_bytree': 0.7562901441560671, 'min_child_samples': 51, 'reg_alpha': 1.8895069879922288, 'reg_lambda': 0.23057235917923524}. Best is trial 3 with value: 0.13551095947744446.\n",
      "Optimizing LightGBM:   5%|▌         | 4/75 [00:03<01:04,  1.10it/s, Trial=4, Best=0.1355][I 2025-07-14 12:21:37,459] Trial 4 finished with value: 0.14395682881204627 and parameters: {'n_estimators': 148, 'max_depth': 7, 'learning_rate': 0.27873877694582316, 'subsample': 0.6193472018098026, 'colsample_bytree': 0.7887270990561087, 'min_child_samples': 82, 'reg_alpha': 1.7065198500681067, 'reg_lambda': 7.010983486146879}. Best is trial 3 with value: 0.13551095947744446.\n",
      "Optimizing LightGBM:   7%|▋         | 5/75 [00:03<00:56,  1.25it/s, Trial=5, Best=0.1355][I 2025-07-14 12:21:37,837] Trial 5 finished with value: 0.15498587174024217 and parameters: {'n_estimators': 135, 'max_depth': 9, 'learning_rate': 0.29450817096545967, 'subsample': 0.6644824736916374, 'colsample_bytree': 0.7031454594049882, 'min_child_samples': 51, 'reg_alpha': 5.589075545056584, 'reg_lambda': 5.764934408124079}. Best is trial 3 with value: 0.13551095947744446.\n",
      "Optimizing LightGBM:   8%|▊         | 6/75 [00:04<00:45,  1.51it/s, Trial=6, Best=0.1355][I 2025-07-14 12:21:38,525] Trial 6 finished with value: 0.16900942499910773 and parameters: {'n_estimators': 455, 'max_depth': 6, 'learning_rate': 0.0940670589751877, 'subsample': 0.7782275063778443, 'colsample_bytree': 0.9972736976762062, 'min_child_samples': 77, 'reg_alpha': 9.413103258912095, 'reg_lambda': 3.784504550800193}. Best is trial 3 with value: 0.13551095947744446.\n",
      "Optimizing LightGBM:   9%|▉         | 7/75 [00:05<00:45,  1.49it/s, Trial=7, Best=0.1355][I 2025-07-14 12:21:39,639] Trial 7 finished with value: 0.16806717908471117 and parameters: {'n_estimators': 863, 'max_depth': 10, 'learning_rate': 0.07263617095973127, 'subsample': 0.6209116875894688, 'colsample_bytree': 0.7158189372432013, 'min_child_samples': 30, 'reg_alpha': 9.477281744720537, 'reg_lambda': 4.0594337561655465}. Best is trial 3 with value: 0.13551095947744446.\n",
      "Optimizing LightGBM:  11%|█         | 8/75 [00:06<00:54,  1.23it/s, Trial=8, Best=0.1355][I 2025-07-14 12:21:40,358] Trial 8 finished with value: 0.1694575931160124 and parameters: {'n_estimators': 581, 'max_depth': 8, 'learning_rate': 0.1371395446125259, 'subsample': 0.8864303914668968, 'colsample_bytree': 0.6741950787291842, 'min_child_samples': 85, 'reg_alpha': 9.467688897664518, 'reg_lambda': 3.772810473717607}. Best is trial 3 with value: 0.13551095947744446.\n",
      "Optimizing LightGBM:  12%|█▏        | 9/75 [00:06<00:51,  1.28it/s, Trial=9, Best=0.1355][I 2025-07-14 12:21:40,883] Trial 9 finished with value: 0.16855928831357075 and parameters: {'n_estimators': 233, 'max_depth': 5, 'learning_rate': 0.10495916213627673, 'subsample': 0.7213336147022468, 'colsample_bytree': 0.9086661895335688, 'min_child_samples': 94, 'reg_alpha': 8.908049192900059, 'reg_lambda': 7.229362289086724}. Best is trial 3 with value: 0.13551095947744446.\n",
      "Optimizing LightGBM:  13%|█▎        | 10/75 [00:07<00:45,  1.42it/s, Trial=10, Best=0.1355][I 2025-07-14 12:21:42,940] Trial 10 finished with value: 0.14497777249792884 and parameters: {'n_estimators': 998, 'max_depth': 3, 'learning_rate': 0.022681329296442565, 'subsample': 0.9955512367245692, 'colsample_bytree': 0.8604370023296847, 'min_child_samples': 59, 'reg_alpha': 3.6064803041745734, 'reg_lambda': 9.89874506162929}. Best is trial 3 with value: 0.13551095947744446.\n",
      "Optimizing LightGBM:  15%|█▍        | 11/75 [00:09<01:11,  1.12s/it, Trial=11, Best=0.1355][I 2025-07-14 12:21:43,770] Trial 11 finished with value: 0.14315757917821342 and parameters: {'n_estimators': 749, 'max_depth': 3, 'learning_rate': 0.1975513498841346, 'subsample': 0.6999487862163846, 'colsample_bytree': 0.788578158292427, 'min_child_samples': 63, 'reg_alpha': 2.715102199056673, 'reg_lambda': 0.049147216169424746}. Best is trial 3 with value: 0.13551095947744446.\n",
      "Optimizing LightGBM:  16%|█▌        | 12/75 [00:10<01:04,  1.03s/it, Trial=12, Best=0.1355][I 2025-07-14 12:21:46,534] Trial 12 finished with value: 0.13098884244921005 and parameters: {'n_estimators': 739, 'max_depth': 5, 'learning_rate': 0.18539426298950984, 'subsample': 0.8734149953465846, 'colsample_bytree': 0.8489227619542051, 'min_child_samples': 5, 'reg_alpha': 0.08341239676706902, 'reg_lambda': 0.011046384100265871}. Best is trial 12 with value: 0.13098884244921005.\n",
      "Optimizing LightGBM:  17%|█▋        | 13/75 [00:13<01:36,  1.55s/it, Trial=13, Best=0.1310][I 2025-07-14 12:21:50,361] Trial 13 finished with value: 0.12901446943105796 and parameters: {'n_estimators': 771, 'max_depth': 4, 'learning_rate': 0.179355823051137, 'subsample': 0.8621475566706825, 'colsample_bytree': 0.8762734915488593, 'min_child_samples': 10, 'reg_alpha': 0.051556741983561194, 'reg_lambda': 1.7651788390345293}. Best is trial 13 with value: 0.12901446943105796.\n",
      "Optimizing LightGBM:  19%|█▊        | 14/75 [00:16<02:16,  2.24s/it, Trial=14, Best=0.1290][I 2025-07-14 12:21:53,585] Trial 14 finished with value: 0.13116999599074533 and parameters: {'n_estimators': 434, 'max_depth': 5, 'learning_rate': 0.19027323611170888, 'subsample': 0.8722357407224239, 'colsample_bytree': 0.8772495848036557, 'min_child_samples': 5, 'reg_alpha': 0.06444457672796708, 'reg_lambda': 2.083305989209876}. Best is trial 13 with value: 0.12901446943105796.\n",
      "Optimizing LightGBM:  20%|██        | 15/75 [00:20<02:32,  2.54s/it, Trial=15, Best=0.1290][I 2025-07-14 12:21:57,550] Trial 15 finished with value: 0.12882744323249196 and parameters: {'n_estimators': 856, 'max_depth': 4, 'learning_rate': 0.1548566136690943, 'subsample': 0.8558261897745573, 'colsample_bytree': 0.9276494480363373, 'min_child_samples': 7, 'reg_alpha': 0.05352222125891935, 'reg_lambda': 1.9377138904403202}. Best is trial 15 with value: 0.12882744323249196.\n",
      "Optimizing LightGBM:  21%|██▏       | 16/75 [00:24<02:54,  2.97s/it, Trial=16, Best=0.1288][I 2025-07-14 12:21:58,661] Trial 16 finished with value: 0.14742842773263784 and parameters: {'n_estimators': 888, 'max_depth': 4, 'learning_rate': 0.13419103524867365, 'subsample': 0.9359611561466943, 'colsample_bytree': 0.9369682200413738, 'min_child_samples': 20, 'reg_alpha': 4.025596526824304, 'reg_lambda': 2.2252251434344874}. Best is trial 15 with value: 0.12882744323249196.\n",
      "Optimizing LightGBM:  23%|██▎       | 17/75 [00:25<02:19,  2.41s/it, Trial=17, Best=0.1288][I 2025-07-14 12:21:59,571] Trial 17 finished with value: 0.15674643074090788 and parameters: {'n_estimators': 899, 'max_depth': 4, 'learning_rate': 0.23104820927791686, 'subsample': 0.8266376350249416, 'colsample_bytree': 0.9431072475467717, 'min_child_samples': 19, 'reg_alpha': 5.8224084378934124, 'reg_lambda': 2.9142247853946635}. Best is trial 15 with value: 0.12882744323249196.\n",
      "Optimizing LightGBM:  24%|██▍       | 18/75 [00:26<01:51,  1.96s/it, Trial=18, Best=0.1288][I 2025-07-14 12:22:00,823] Trial 18 finished with value: 0.1316408120507717 and parameters: {'n_estimators': 817, 'max_depth': 4, 'learning_rate': 0.16581982990445038, 'subsample': 0.9288791567987204, 'colsample_bytree': 0.8442985814872077, 'min_child_samples': 34, 'reg_alpha': 0.8302478903514157, 'reg_lambda': 1.428125565043473}. Best is trial 15 with value: 0.12882744323249196.\n",
      "Optimizing LightGBM:  25%|██▌       | 19/75 [00:27<01:37,  1.75s/it, Trial=19, Best=0.1288][I 2025-07-14 12:22:01,923] Trial 19 finished with value: 0.14593100938585596 and parameters: {'n_estimators': 995, 'max_depth': 6, 'learning_rate': 0.22952307586337747, 'subsample': 0.8255406838926993, 'colsample_bytree': 0.9043509743287255, 'min_child_samples': 14, 'reg_alpha': 3.2762345537513275, 'reg_lambda': 4.80546539353695}. Best is trial 15 with value: 0.12882744323249196.\n",
      "Optimizing LightGBM:  27%|██▋       | 20/75 [00:28<01:25,  1.55s/it, Trial=20, Best=0.1288][I 2025-07-14 12:22:02,654] Trial 20 finished with value: 0.16097396463090277 and parameters: {'n_estimators': 493, 'max_depth': 4, 'learning_rate': 0.1570992442230197, 'subsample': 0.9333932932971606, 'colsample_bytree': 0.9492634171316766, 'min_child_samples': 31, 'reg_alpha': 7.2390633693515545, 'reg_lambda': 2.989662405227773}. Best is trial 15 with value: 0.12882744323249196.\n",
      "Optimizing LightGBM:  28%|██▊       | 21/75 [00:29<01:10,  1.31s/it, Trial=21, Best=0.1288][I 2025-07-14 12:22:04,488] Trial 21 finished with value: 0.13180803907181426 and parameters: {'n_estimators': 707, 'max_depth': 5, 'learning_rate': 0.17675752817321116, 'subsample': 0.8712784677155526, 'colsample_bytree': 0.8252080464627747, 'min_child_samples': 5, 'reg_alpha': 0.4147187771319777, 'reg_lambda': 0.9594272545527138}. Best is trial 15 with value: 0.12882744323249196.\n",
      "Optimizing LightGBM:  29%|██▉       | 22/75 [00:30<01:17,  1.46s/it, Trial=22, Best=0.1288][I 2025-07-14 12:22:07,063] Trial 22 finished with value: 0.13316099177827975 and parameters: {'n_estimators': 792, 'max_depth': 6, 'learning_rate': 0.22711050587053228, 'subsample': 0.831462397273022, 'colsample_bytree': 0.8861299454819821, 'min_child_samples': 12, 'reg_alpha': 0.1365235749350719, 'reg_lambda': 0.9834851085484553}. Best is trial 15 with value: 0.12882744323249196.\n",
      "Optimizing LightGBM:  31%|███       | 23/75 [00:33<01:33,  1.80s/it, Trial=23, Best=0.1288][I 2025-07-14 12:22:08,288] Trial 23 finished with value: 0.13339831241316488 and parameters: {'n_estimators': 665, 'max_depth': 4, 'learning_rate': 0.13192133540107218, 'subsample': 0.8930618292132277, 'colsample_bytree': 0.8282390323244384, 'min_child_samples': 12, 'reg_alpha': 1.346752956024546, 'reg_lambda': 0.02732706004730545}. Best is trial 15 with value: 0.12882744323249196.\n",
      "Optimizing LightGBM:  32%|███▏      | 24/75 [00:34<01:22,  1.63s/it, Trial=24, Best=0.1288][I 2025-07-14 12:22:09,627] Trial 24 finished with value: 0.13323239006585658 and parameters: {'n_estimators': 934, 'max_depth': 5, 'learning_rate': 0.21030795387501472, 'subsample': 0.9892087447216098, 'colsample_bytree': 0.9165983251720823, 'min_child_samples': 27, 'reg_alpha': 0.905926519525388, 'reg_lambda': 1.6814857171859097}. Best is trial 15 with value: 0.12882744323249196.\n",
      "Optimizing LightGBM:  33%|███▎      | 25/75 [00:36<01:16,  1.54s/it, Trial=25, Best=0.1288][I 2025-07-14 12:22:10,600] Trial 25 finished with value: 0.14112400836288397 and parameters: {'n_estimators': 804, 'max_depth': 3, 'learning_rate': 0.1770047992762421, 'subsample': 0.8531020279840978, 'colsample_bytree': 0.9681013886885546, 'min_child_samples': 40, 'reg_alpha': 2.6166651151560223, 'reg_lambda': 3.12811504236765}. Best is trial 15 with value: 0.12882744323249196.\n",
      "Optimizing LightGBM:  35%|███▍      | 26/75 [00:37<01:07,  1.37s/it, Trial=26, Best=0.1288][I 2025-07-14 12:22:11,471] Trial 26 finished with value: 0.15136368793980476 and parameters: {'n_estimators': 754, 'max_depth': 4, 'learning_rate': 0.14782636451409104, 'subsample': 0.9159569052658841, 'colsample_bytree': 0.8672119967702367, 'min_child_samples': 5, 'reg_alpha': 4.4106728169632, 'reg_lambda': 0.5925045920828094}. Best is trial 15 with value: 0.12882744323249196.\n",
      "Optimizing LightGBM:  36%|███▌      | 27/75 [00:37<00:58,  1.22s/it, Trial=27, Best=0.1288][I 2025-07-14 12:22:13,346] Trial 27 finished with value: 0.13705653440626892 and parameters: {'n_estimators': 634, 'max_depth': 6, 'learning_rate': 0.06628211379017626, 'subsample': 0.9668890765743244, 'colsample_bytree': 0.7567902661887618, 'min_child_samples': 25, 'reg_alpha': 2.4357109506984838, 'reg_lambda': 1.5258386879105537}. Best is trial 15 with value: 0.12882744323249196.\n",
      "Optimizing LightGBM:  37%|███▋      | 28/75 [00:39<01:06,  1.42s/it, Trial=28, Best=0.1288][I 2025-07-14 12:22:15,254] Trial 28 finished with value: 0.13130620757247474 and parameters: {'n_estimators': 845, 'max_depth': 5, 'learning_rate': 0.11820801105955689, 'subsample': 0.8488311223559948, 'colsample_bytree': 0.8335645720784108, 'min_child_samples': 13, 'reg_alpha': 0.7224159425111215, 'reg_lambda': 2.5464968604037623}. Best is trial 15 with value: 0.12882744323249196.\n",
      "Optimizing LightGBM:  39%|███▊      | 29/75 [00:41<01:11,  1.56s/it, Trial=29, Best=0.1288][I 2025-07-14 12:22:16,027] Trial 29 finished with value: 0.16338154000532049 and parameters: {'n_estimators': 554, 'max_depth': 5, 'learning_rate': 0.21093946915016804, 'subsample': 0.7710470661629332, 'colsample_bytree': 0.8908288522206049, 'min_child_samples': 21, 'reg_alpha': 7.588139826874357, 'reg_lambda': 9.737553656681222}. Best is trial 15 with value: 0.12882744323249196.\n",
      "Optimizing LightGBM:  40%|████      | 30/75 [00:42<00:59,  1.33s/it, Trial=30, Best=0.1288][I 2025-07-14 12:22:16,843] Trial 30 finished with value: 0.13344152859439995 and parameters: {'n_estimators': 363, 'max_depth': 3, 'learning_rate': 0.18170994460535994, 'subsample': 0.8161738564077139, 'colsample_bytree': 0.6275579250698592, 'min_child_samples': 41, 'reg_alpha': 1.5260095309465493, 'reg_lambda': 4.394131633285791}. Best is trial 15 with value: 0.12882744323249196.\n",
      "Optimizing LightGBM:  41%|████▏     | 31/75 [00:43<00:51,  1.17s/it, Trial=31, Best=0.1288][I 2025-07-14 12:22:20,581] Trial 31 finished with value: 0.1328054100583208 and parameters: {'n_estimators': 380, 'max_depth': 5, 'learning_rate': 0.19100673373477542, 'subsample': 0.894849306063166, 'colsample_bytree': 0.8721593291313902, 'min_child_samples': 5, 'reg_alpha': 0.03613967526783056, 'reg_lambda': 2.1055047222998766}. Best is trial 15 with value: 0.12882744323249196.\n",
      "Optimizing LightGBM:  43%|████▎     | 32/75 [00:47<01:23,  1.94s/it, Trial=32, Best=0.1288][I 2025-07-14 12:22:22,571] Trial 32 finished with value: 0.13120458322552334 and parameters: {'n_estimators': 355, 'max_depth': 4, 'learning_rate': 0.24303464313341083, 'subsample': 0.8630322962203151, 'colsample_bytree': 0.8520585002044732, 'min_child_samples': 11, 'reg_alpha': 0.017153339479536192, 'reg_lambda': 1.9431998434863684}. Best is trial 15 with value: 0.12882744323249196.\n",
      "Optimizing LightGBM:  44%|████▍     | 33/75 [00:49<01:22,  1.96s/it, Trial=33, Best=0.1288][I 2025-07-14 12:22:23,961] Trial 33 finished with value: 0.1319092563953559 and parameters: {'n_estimators': 460, 'max_depth': 7, 'learning_rate': 0.16045986250452104, 'subsample': 0.7902049791458841, 'colsample_bytree': 0.8114644768477481, 'min_child_samples': 18, 'reg_alpha': 0.9364531440023719, 'reg_lambda': 0.6860096693851574}. Best is trial 15 with value: 0.12882744323249196.\n",
      "Optimizing LightGBM:  45%|████▌     | 34/75 [00:50<01:13,  1.79s/it, Trial=34, Best=0.1288][I 2025-07-14 12:22:25,196] Trial 34 finished with value: 0.13637003011966634 and parameters: {'n_estimators': 945, 'max_depth': 5, 'learning_rate': 0.20622084262423412, 'subsample': 0.9113169371114201, 'colsample_bytree': 0.9249844901944999, 'min_child_samples': 9, 'reg_alpha': 1.3570096570490668, 'reg_lambda': 3.2908430080508695}. Best is trial 15 with value: 0.12882744323249196.\n",
      "Optimizing LightGBM:  47%|████▋     | 35/75 [00:51<01:04,  1.62s/it, Trial=35, Best=0.1288][I 2025-07-14 12:22:26,049] Trial 35 finished with value: 0.141111008915445 and parameters: {'n_estimators': 604, 'max_depth': 6, 'learning_rate': 0.25149192287089117, 'subsample': 0.803284662017522, 'colsample_bytree': 0.8866211631094736, 'min_child_samples': 24, 'reg_alpha': 2.176588403127925, 'reg_lambda': 1.3275688432866573}. Best is trial 15 with value: 0.12882744323249196.\n",
      "Optimizing LightGBM:  48%|████▊     | 36/75 [00:52<00:54,  1.39s/it, Trial=36, Best=0.1288][I 2025-07-14 12:22:27,767] Trial 36 finished with value: 0.13229851505077544 and parameters: {'n_estimators': 280, 'max_depth': 7, 'learning_rate': 0.1904670308167031, 'subsample': 0.9613751108737374, 'colsample_bytree': 0.9618560979050155, 'min_child_samples': 18, 'reg_alpha': 0.3990368981397091, 'reg_lambda': 2.6054365501632155}. Best is trial 15 with value: 0.12882744323249196.\n",
      "Optimizing LightGBM:  49%|████▉     | 37/75 [00:54<00:56,  1.49s/it, Trial=37, Best=0.1288][I 2025-07-14 12:22:28,821] Trial 37 finished with value: 0.13619004453744182 and parameters: {'n_estimators': 697, 'max_depth': 4, 'learning_rate': 0.14915173182512304, 'subsample': 0.8762845845716385, 'colsample_bytree': 0.7639124546254548, 'min_child_samples': 35, 'reg_alpha': 1.8257532493105473, 'reg_lambda': 5.629886801126581}. Best is trial 15 with value: 0.12882744323249196.\n",
      "Optimizing LightGBM:  51%|█████     | 38/75 [00:55<00:50,  1.36s/it, Trial=38, Best=0.1288][I 2025-07-14 12:22:30,085] Trial 38 finished with value: 0.12560140182319818 and parameters: {'n_estimators': 511, 'max_depth': 3, 'learning_rate': 0.1659926292157557, 'subsample': 0.8437566903764349, 'colsample_bytree': 0.8143298244760104, 'min_child_samples': 8, 'reg_alpha': 0.5092136488540779, 'reg_lambda': 0.4902695784426982}. Best is trial 38 with value: 0.12560140182319818.\n",
      "Optimizing LightGBM:  52%|█████▏    | 39/75 [00:56<00:47,  1.33s/it, Trial=39, Best=0.1256][I 2025-07-14 12:22:31,385] Trial 39 finished with value: 0.12667844993529473 and parameters: {'n_estimators': 526, 'max_depth': 3, 'learning_rate': 0.11773940364954591, 'subsample': 0.7550071211085712, 'colsample_bytree': 0.8038316419313695, 'min_child_samples': 17, 'reg_alpha': 0.645004117268342, 'reg_lambda': 0.4878841208224256}. Best is trial 38 with value: 0.12560140182319818.\n",
      "Optimizing LightGBM:  53%|█████▎    | 40/75 [00:57<00:46,  1.32s/it, Trial=40, Best=0.1256][I 2025-07-14 12:22:32,738] Trial 40 finished with value: 0.12772627392181737 and parameters: {'n_estimators': 509, 'max_depth': 3, 'learning_rate': 0.08019954467387297, 'subsample': 0.7259534684691188, 'colsample_bytree': 0.7822084013359605, 'min_child_samples': 16, 'reg_alpha': 1.0939967023734547, 'reg_lambda': 0.7340560680943392}. Best is trial 38 with value: 0.12560140182319818.\n",
      "Optimizing LightGBM:  55%|█████▍    | 41/75 [00:59<00:45,  1.33s/it, Trial=41, Best=0.1256][I 2025-07-14 12:22:34,046] Trial 41 finished with value: 0.12732252789353116 and parameters: {'n_estimators': 511, 'max_depth': 3, 'learning_rate': 0.07736873802663224, 'subsample': 0.755488318781829, 'colsample_bytree': 0.7312449363811714, 'min_child_samples': 16, 'reg_alpha': 1.1587336788064597, 'reg_lambda': 0.6536056289402541}. Best is trial 38 with value: 0.12560140182319818.\n",
      "Optimizing LightGBM:  56%|█████▌    | 42/75 [01:00<00:43,  1.32s/it, Trial=42, Best=0.1256][I 2025-07-14 12:22:35,388] Trial 42 finished with value: 0.1293953180404811 and parameters: {'n_estimators': 529, 'max_depth': 3, 'learning_rate': 0.08059850801418107, 'subsample': 0.7477429407718639, 'colsample_bytree': 0.7257119928905807, 'min_child_samples': 16, 'reg_alpha': 1.2393577072525692, 'reg_lambda': 0.5405113260598551}. Best is trial 38 with value: 0.12560140182319818.\n",
      "Optimizing LightGBM:  57%|█████▋    | 43/75 [01:01<00:42,  1.33s/it, Trial=43, Best=0.1256][I 2025-07-14 12:22:37,150] Trial 43 finished with value: 0.13441410101240753 and parameters: {'n_estimators': 505, 'max_depth': 3, 'learning_rate': 0.04977754258540634, 'subsample': 0.6616540964716421, 'colsample_bytree': 0.6633596874926169, 'min_child_samples': 45, 'reg_alpha': 1.8336454141684335, 'reg_lambda': 1.0400839301361224}. Best is trial 38 with value: 0.12560140182319818.\n",
      "Optimizing LightGBM:  59%|█████▊    | 44/75 [01:03<00:45,  1.46s/it, Trial=44, Best=0.1256][I 2025-07-14 12:22:38,660] Trial 44 finished with value: 0.127042174181759 and parameters: {'n_estimators': 426, 'max_depth': 3, 'learning_rate': 0.11134561669567197, 'subsample': 0.7203774012296806, 'colsample_bytree': 0.7323327241446607, 'min_child_samples': 25, 'reg_alpha': 0.7030274569479618, 'reg_lambda': 0.4392117763012557}. Best is trial 38 with value: 0.12560140182319818.\n",
      "Optimizing LightGBM:  60%|██████    | 45/75 [01:05<00:44,  1.47s/it, Trial=45, Best=0.1256][I 2025-07-14 12:22:39,507] Trial 45 finished with value: 0.14187750452412132 and parameters: {'n_estimators': 411, 'max_depth': 3, 'learning_rate': 0.11158929395683022, 'subsample': 0.7254087033140245, 'colsample_bytree': 0.7778758164791132, 'min_child_samples': 28, 'reg_alpha': 3.052083987296192, 'reg_lambda': 0.4796985219178698}. Best is trial 38 with value: 0.12560140182319818.\n",
      "Optimizing LightGBM:  61%|██████▏   | 46/75 [01:05<00:37,  1.29s/it, Trial=46, Best=0.1256][I 2025-07-14 12:22:40,472] Trial 46 finished with value: 0.13508945655610824 and parameters: {'n_estimators': 317, 'max_depth': 3, 'learning_rate': 0.0865940205498122, 'subsample': 0.6823676623315245, 'colsample_bytree': 0.7353397668722153, 'min_child_samples': 22, 'reg_alpha': 2.0375929260731933, 'reg_lambda': 8.780193510050752}. Best is trial 38 with value: 0.12560140182319818.\n",
      "Optimizing LightGBM:  63%|██████▎   | 47/75 [01:06<00:33,  1.19s/it, Trial=47, Best=0.1256][I 2025-07-14 12:22:41,995] Trial 47 finished with value: 0.12986198872007393 and parameters: {'n_estimators': 478, 'max_depth': 3, 'learning_rate': 0.046568779601461954, 'subsample': 0.7621547690037662, 'colsample_bytree': 0.6981773976529865, 'min_child_samples': 56, 'reg_alpha': 0.5930528292486115, 'reg_lambda': 1.053580134686164}. Best is trial 38 with value: 0.12560140182319818.\n",
      "Optimizing LightGBM:  64%|██████▍   | 48/75 [01:08<00:34,  1.29s/it, Trial=48, Best=0.1256][I 2025-07-14 12:22:42,862] Trial 48 finished with value: 0.15058975697951013 and parameters: {'n_estimators': 573, 'max_depth': 9, 'learning_rate': 0.09802203762594304, 'subsample': 0.7127928232191743, 'colsample_bytree': 0.8047022677986008, 'min_child_samples': 37, 'reg_alpha': 5.283379134048397, 'reg_lambda': 0.4183981450349281}. Best is trial 38 with value: 0.12560140182319818.\n",
      "Optimizing LightGBM:  65%|██████▌   | 49/75 [01:09<00:30,  1.16s/it, Trial=49, Best=0.1256][I 2025-07-14 12:22:43,998] Trial 49 finished with value: 0.1337528234624779 and parameters: {'n_estimators': 414, 'max_depth': 3, 'learning_rate': 0.12131417797097849, 'subsample': 0.7367177738087536, 'colsample_bytree': 0.7439259635707229, 'min_child_samples': 66, 'reg_alpha': 1.1077649262457583, 'reg_lambda': 7.364607379020855}. Best is trial 38 with value: 0.12560140182319818.\n",
      "Optimizing LightGBM:  67%|██████▋   | 50/75 [01:10<00:28,  1.15s/it, Trial=50, Best=0.1256][I 2025-07-14 12:22:45,401] Trial 50 finished with value: 0.1323098123887591 and parameters: {'n_estimators': 518, 'max_depth': 3, 'learning_rate': 0.059159176551670745, 'subsample': 0.6538515304886259, 'colsample_bytree': 0.6994885512362686, 'min_child_samples': 49, 'reg_alpha': 1.6002644224411988, 'reg_lambda': 1.2544284843938887}. Best is trial 38 with value: 0.12560140182319818.\n",
      "Optimizing LightGBM:  68%|██████▊   | 51/75 [01:11<00:29,  1.23s/it, Trial=51, Best=0.1256][I 2025-07-14 12:22:47,735] Trial 51 finished with value: 0.12477038997093703 and parameters: {'n_estimators': 602, 'max_depth': 3, 'learning_rate': 0.03216674564292501, 'subsample': 0.697948699049911, 'colsample_bytree': 0.6755923105428949, 'min_child_samples': 9, 'reg_alpha': 0.5951283894656741, 'reg_lambda': 0.24665066304105976}. Best is trial 51 with value: 0.12477038997093703.\n",
      "Optimizing LightGBM:  69%|██████▉   | 52/75 [01:14<00:35,  1.56s/it, Trial=52, Best=0.1248][I 2025-07-14 12:22:57,164] Trial 52 finished with value: 0.12982690213957848 and parameters: {'n_estimators': 622, 'max_depth': 10, 'learning_rate': 0.011374520634022514, 'subsample': 0.6916283127730267, 'colsample_bytree': 0.6699719988721446, 'min_child_samples': 17, 'reg_alpha': 0.6371256613953329, 'reg_lambda': 0.1887073081635961}. Best is trial 51 with value: 0.12477038997093703.\n",
      "Optimizing LightGBM:  71%|███████   | 53/75 [01:23<01:26,  3.92s/it, Trial=53, Best=0.1248][I 2025-07-14 12:22:59,088] Trial 53 finished with value: 0.1363822517612281 and parameters: {'n_estimators': 579, 'max_depth': 3, 'learning_rate': 0.03139343685448379, 'subsample': 0.7506975107890419, 'colsample_bytree': 0.644995547706106, 'min_child_samples': 15, 'reg_alpha': 2.3576105439988684, 'reg_lambda': 0.7511594904970538}. Best is trial 51 with value: 0.12477038997093703.\n",
      "Optimizing LightGBM:  72%|███████▏  | 54/75 [01:25<01:09,  3.32s/it, Trial=54, Best=0.1248][I 2025-07-14 12:23:00,310] Trial 54 finished with value: 0.12879815059090596 and parameters: {'n_estimators': 445, 'max_depth': 3, 'learning_rate': 0.08893839764933259, 'subsample': 0.7117163168411701, 'colsample_bytree': 0.7745337601980513, 'min_child_samples': 9, 'reg_alpha': 1.0599026934359526, 'reg_lambda': 0.3220638836060576}. Best is trial 51 with value: 0.12477038997093703.\n",
      "Optimizing LightGBM:  73%|███████▎  | 55/75 [01:26<00:53,  2.69s/it, Trial=55, Best=0.1248][I 2025-07-14 12:23:01,291] Trial 55 finished with value: 0.138689609402572 and parameters: {'n_estimators': 547, 'max_depth': 4, 'learning_rate': 0.10490382161424473, 'subsample': 0.7883025632578005, 'colsample_bytree': 0.6035069798406381, 'min_child_samples': 23, 'reg_alpha': 3.043163209145456, 'reg_lambda': 0.8043501932907967}. Best is trial 51 with value: 0.12477038997093703.\n",
      "Optimizing LightGBM:  75%|███████▍  | 56/75 [01:27<00:41,  2.18s/it, Trial=56, Best=0.1248][I 2025-07-14 12:23:01,962] Trial 56 finished with value: 0.1542446352277112 and parameters: {'n_estimators': 209, 'max_depth': 3, 'learning_rate': 0.07634359372136394, 'subsample': 0.6341272383960567, 'colsample_bytree': 0.7936031113680285, 'min_child_samples': 32, 'reg_alpha': 6.123654288947696, 'reg_lambda': 0.007075938208320476}. Best is trial 51 with value: 0.12477038997093703.\n",
      "Optimizing LightGBM:  76%|███████▌  | 57/75 [01:28<00:31,  1.73s/it, Trial=57, Best=0.1248][I 2025-07-14 12:23:04,271] Trial 57 finished with value: 0.14057115849076351 and parameters: {'n_estimators': 664, 'max_depth': 4, 'learning_rate': 0.035972748121967955, 'subsample': 0.732274740874196, 'colsample_bytree': 0.7136397404174181, 'min_child_samples': 96, 'reg_alpha': 1.69753642322343, 'reg_lambda': 1.6135118031659892}. Best is trial 51 with value: 0.12477038997093703.\n",
      "Optimizing LightGBM:  77%|███████▋  | 58/75 [01:30<00:32,  1.90s/it, Trial=58, Best=0.1248][I 2025-07-14 12:23:05,871] Trial 58 finished with value: 0.12587993927233876 and parameters: {'n_estimators': 488, 'max_depth': 3, 'learning_rate': 0.1264542474984277, 'subsample': 0.6768610287828639, 'colsample_bytree': 0.8146613466227491, 'min_child_samples': 9, 'reg_alpha': 0.4831567328121624, 'reg_lambda': 1.2218685082372547}. Best is trial 51 with value: 0.12477038997093703.\n",
      "Optimizing LightGBM:  79%|███████▊  | 59/75 [01:32<00:28,  1.81s/it, Trial=59, Best=0.1248][I 2025-07-14 12:23:07,565] Trial 59 finished with value: 0.12522798301174182 and parameters: {'n_estimators': 480, 'max_depth': 3, 'learning_rate': 0.14161540503282574, 'subsample': 0.6832612822921676, 'colsample_bytree': 0.817056676099273, 'min_child_samples': 10, 'reg_alpha': 0.3708317337961248, 'reg_lambda': 1.2271052578300679}. Best is trial 51 with value: 0.12477038997093703.\n",
      "Optimizing LightGBM:  80%|████████  | 60/75 [01:34<00:26,  1.78s/it, Trial=60, Best=0.1248][I 2025-07-14 12:23:08,998] Trial 60 finished with value: 0.13073516079648043 and parameters: {'n_estimators': 471, 'max_depth': 4, 'learning_rate': 0.1376653014510357, 'subsample': 0.6735146122250844, 'colsample_bytree': 0.8120576265900253, 'min_child_samples': 9, 'reg_alpha': 0.6289960263062792, 'reg_lambda': 1.2693755844071928}. Best is trial 51 with value: 0.12477038997093703.\n",
      "Optimizing LightGBM:  81%|████████▏ | 61/75 [01:35<00:23,  1.67s/it, Trial=61, Best=0.1248][I 2025-07-14 12:23:10,567] Trial 61 finished with value: 0.12611147985045396 and parameters: {'n_estimators': 412, 'max_depth': 3, 'learning_rate': 0.12644231725608918, 'subsample': 0.6987095262499851, 'colsample_bytree': 0.8187349106189725, 'min_child_samples': 13, 'reg_alpha': 0.36545456723450775, 'reg_lambda': 0.3102832638904651}. Best is trial 51 with value: 0.12477038997093703.\n",
      "Optimizing LightGBM:  83%|████████▎ | 62/75 [01:37<00:21,  1.64s/it, Trial=62, Best=0.1248][I 2025-07-14 12:23:12,186] Trial 62 finished with value: 0.12584044316493243 and parameters: {'n_estimators': 392, 'max_depth': 3, 'learning_rate': 0.1237687647839811, 'subsample': 0.6409894343339205, 'colsample_bytree': 0.8191002297774642, 'min_child_samples': 8, 'reg_alpha': 0.4050553828084903, 'reg_lambda': 0.2463712417655578}. Best is trial 51 with value: 0.12477038997093703.\n",
      "Optimizing LightGBM:  84%|████████▍ | 63/75 [01:38<00:19,  1.63s/it, Trial=63, Best=0.1248][I 2025-07-14 12:23:13,864] Trial 63 finished with value: 0.12488208039791232 and parameters: {'n_estimators': 389, 'max_depth': 3, 'learning_rate': 0.12576963412135855, 'subsample': 0.6108353034188736, 'colsample_bytree': 0.8233644989637496, 'min_child_samples': 8, 'reg_alpha': 0.41522042347861887, 'reg_lambda': 0.002446978804768407}. Best is trial 51 with value: 0.12477038997093703.\n",
      "Optimizing LightGBM:  85%|████████▌ | 64/75 [01:40<00:18,  1.65s/it, Trial=64, Best=0.1248][I 2025-07-14 12:23:16,268] Trial 64 finished with value: 0.13315445492380182 and parameters: {'n_estimators': 326, 'max_depth': 8, 'learning_rate': 0.13895842440438988, 'subsample': 0.6006498964649228, 'colsample_bytree': 0.8385446973788125, 'min_child_samples': 8, 'reg_alpha': 0.3799725343553032, 'reg_lambda': 0.0883412300753319}. Best is trial 51 with value: 0.12477038997093703.\n",
      "Optimizing LightGBM:  87%|████████▋ | 65/75 [01:42<00:18,  1.87s/it, Trial=65, Best=0.1248][I 2025-07-14 12:23:18,239] Trial 65 finished with value: 0.1287814618933591 and parameters: {'n_estimators': 391, 'max_depth': 4, 'learning_rate': 0.1240435449458989, 'subsample': 0.6429381898478224, 'colsample_bytree': 0.8178504802047764, 'min_child_samples': 12, 'reg_alpha': 0.34321583560189717, 'reg_lambda': 2.440253871965919}. Best is trial 51 with value: 0.12477038997093703.\n",
      "Optimizing LightGBM:  88%|████████▊ | 66/75 [01:44<00:17,  1.90s/it, Trial=66, Best=0.1248][I 2025-07-14 12:23:18,773] Trial 66 finished with value: 0.1630114615645394 and parameters: {'n_estimators': 307, 'max_depth': 3, 'learning_rate': 0.16802136630097286, 'subsample': 0.6204866993686032, 'colsample_bytree': 0.8557473523726199, 'min_child_samples': 7, 'reg_alpha': 8.181758337580845, 'reg_lambda': 1.0582773758618647}. Best is trial 51 with value: 0.12477038997093703.\n",
      "Optimizing LightGBM:  89%|████████▉ | 67/75 [01:45<00:11,  1.49s/it, Trial=67, Best=0.1248][I 2025-07-14 12:23:19,673] Trial 67 finished with value: 0.1329660300681036 and parameters: {'n_estimators': 251, 'max_depth': 4, 'learning_rate': 0.12934574731424128, 'subsample': 0.648323291308615, 'colsample_bytree': 0.8240533427749619, 'min_child_samples': 12, 'reg_alpha': 1.451449620748262, 'reg_lambda': 1.8229615971853432}. Best is trial 51 with value: 0.12477038997093703.\n",
      "Optimizing LightGBM:  91%|█████████ | 68/75 [01:46<00:09,  1.31s/it, Trial=68, Best=0.1248][I 2025-07-14 12:23:20,215] Trial 68 finished with value: 0.16987361515745755 and parameters: {'n_estimators': 348, 'max_depth': 3, 'learning_rate': 0.14955711482795753, 'subsample': 0.6055441765145293, 'colsample_bytree': 0.7926976407546438, 'min_child_samples': 7, 'reg_alpha': 9.926658508210604, 'reg_lambda': 1.434509060313772}. Best is trial 51 with value: 0.12477038997093703.\n",
      "Optimizing LightGBM:  92%|█████████▏| 69/75 [01:46<00:06,  1.08s/it, Trial=69, Best=0.1248][I 2025-07-14 12:23:22,001] Trial 69 finished with value: 0.13013512002129177 and parameters: {'n_estimators': 442, 'max_depth': 4, 'learning_rate': 0.16827998552462403, 'subsample': 0.6307020273188307, 'colsample_bytree': 0.836549646136976, 'min_child_samples': 11, 'reg_alpha': 0.30435851244695794, 'reg_lambda': 3.6156439637086066}. Best is trial 51 with value: 0.12477038997093703.\n",
      "Optimizing LightGBM:  93%|█████████▎| 70/75 [01:48<00:06,  1.29s/it, Trial=70, Best=0.1248][I 2025-07-14 12:23:23,168] Trial 70 finished with value: 0.13946398612170538 and parameters: {'n_estimators': 379, 'max_depth': 3, 'learning_rate': 0.14581953410759355, 'subsample': 0.6693794766545189, 'colsample_bytree': 0.8519331998182487, 'min_child_samples': 91, 'reg_alpha': 0.9070825631059587, 'reg_lambda': 0.24902876451602676}. Best is trial 51 with value: 0.12477038997093703.\n",
      "Optimizing LightGBM:  95%|█████████▍| 71/75 [01:49<00:05,  1.26s/it, Trial=71, Best=0.1248][I 2025-07-14 12:23:24,788] Trial 71 finished with value: 0.12545244252230367 and parameters: {'n_estimators': 483, 'max_depth': 3, 'learning_rate': 0.11232204248158081, 'subsample': 0.6981080092044328, 'colsample_bytree': 0.8023302068502236, 'min_child_samples': 14, 'reg_alpha': 0.4989716456816326, 'reg_lambda': 0.8866206406439462}. Best is trial 51 with value: 0.12477038997093703.\n",
      "Optimizing LightGBM:  96%|█████████▌| 72/75 [01:51<00:04,  1.37s/it, Trial=72, Best=0.1248][I 2025-07-14 12:23:26,481] Trial 72 finished with value: 0.12609065374681824 and parameters: {'n_estimators': 477, 'max_depth': 3, 'learning_rate': 0.1398131523510137, 'subsample': 0.701528396812566, 'colsample_bytree': 0.7697471655682874, 'min_child_samples': 20, 'reg_alpha': 0.26040054548993363, 'reg_lambda': 0.9711695491456911}. Best is trial 51 with value: 0.12477038997093703.\n",
      "Optimizing LightGBM:  97%|█████████▋| 73/75 [01:52<00:02,  1.46s/it, Trial=73, Best=0.1248][I 2025-07-14 12:23:29,188] Trial 73 finished with value: 0.1305981457291594 and parameters: {'n_estimators': 489, 'max_depth': 4, 'learning_rate': 0.2969105511325577, 'subsample': 0.6824311965060388, 'colsample_bytree': 0.7711960368176608, 'min_child_samples': 21, 'reg_alpha': 0.04629728259702992, 'reg_lambda': 0.9434863105305756}. Best is trial 51 with value: 0.12477038997093703.\n",
      "Optimizing LightGBM:  99%|█████████▊| 74/75 [01:55<00:01,  1.84s/it, Trial=74, Best=0.1248][I 2025-07-14 12:23:30,224] Trial 74 finished with value: 0.12704523786671285 and parameters: {'n_estimators': 463, 'max_depth': 3, 'learning_rate': 0.13853645074176474, 'subsample': 0.6622859394761643, 'colsample_bytree': 0.7967199544261553, 'min_child_samples': 5, 'reg_alpha': 0.8518139093649931, 'reg_lambda': 1.2921618227738936}. Best is trial 51 with value: 0.12477038997093703.\n",
      "Optimizing LightGBM: 100%|██████████| 75/75 [01:56<00:00,  1.56s/it, Trial=75, Best=0.1248]\n"
     ]
    },
    {
     "name": "stdout",
     "output_type": "stream",
     "text": [
      "Best LightGBM RMSE: 0.1248\n",
      "Evaluating LightGBM_Optimized...\n"
     ]
    },
    {
     "name": "stderr",
     "output_type": "stream",
     "text": [
      "                                                                    \r"
     ]
    }
   ],
   "source": [
    "def objective_lgbm(trial):\n",
    "    \"\"\"Objective function for LightGBM hyperparameter optimization\"\"\"\n",
    "    params = {\n",
    "        'n_estimators': trial.suggest_int('n_estimators', 100, 1000),\n",
    "        'max_depth': trial.suggest_int('max_depth', 3, 10),\n",
    "        'learning_rate': trial.suggest_float('learning_rate', 0.01, 0.3),\n",
    "        'subsample': trial.suggest_float('subsample', 0.6, 1.0),\n",
    "        'colsample_bytree': trial.suggest_float('colsample_bytree', 0.6, 1.0),\n",
    "        'min_child_samples': trial.suggest_int('min_child_samples', 5, 100),\n",
    "        'reg_alpha': trial.suggest_float('reg_alpha', 0, 10),\n",
    "        'reg_lambda': trial.suggest_float('reg_lambda', 0, 10),\n",
    "        'random_state': 42,\n",
    "        'verbosity': -1\n",
    "    }\n",
    "    \n",
    "    model = LGBMRegressor(**params)\n",
    "    \n",
    "    cv_scores = cross_val_score(model, X_train_split, y_train, cv=cv, \n",
    "                               scoring='neg_mean_squared_error', n_jobs=-1)\n",
    "    return np.sqrt(-cv_scores.mean())\n",
    "\n",
    "print(\"Optimizing LightGBM...\")\n",
    "study_lgbm = optuna.create_study(direction='minimize', study_name='lgbm_optimization',\n",
    "                                pruner=MedianPruner(n_startup_trials=10))\n",
    "n_trials_lgbm = 75\n",
    "callback_lgbm = OptunaTqdmCallback(n_trials_lgbm, \"LightGBM\")\n",
    "study_lgbm.optimize(objective_lgbm, n_trials=n_trials_lgbm, callbacks=[callback_lgbm])\n",
    "\n",
    "print(f\"Best LightGBM RMSE: {study_lgbm.best_value:.4f}\")\n",
    "best_lgbm_params = study_lgbm.best_params\n",
    "best_lgbm = LGBMRegressor(**best_lgbm_params, random_state=42, verbosity=-1)\n",
    "lgbm_result = evaluate_model(best_lgbm, X_train_split, y_train, cv, \"LightGBM_Optimized\")"
   ]
  },
  {
   "cell_type": "code",
   "execution_count": 13,
   "id": "ba559533",
   "metadata": {},
   "outputs": [
    {
     "name": "stderr",
     "output_type": "stream",
     "text": [
      "[I 2025-07-14 12:23:33,210] A new study created in memory with name: rf_optimization\n"
     ]
    },
    {
     "name": "stdout",
     "output_type": "stream",
     "text": [
      "Optimizing RandomForest...\n"
     ]
    },
    {
     "name": "stderr",
     "output_type": "stream",
     "text": [
      "[I 2025-07-14 12:23:33,661] Trial 0 finished with value: 0.1743116377631786 and parameters: {'n_estimators': 267, 'max_depth': 8, 'min_samples_split': 20, 'min_samples_leaf': 2, 'max_features': 'log2'}. Best is trial 0 with value: 0.1743116377631786.\n",
      "Optimizing RandomForest:   0%|          | 0/50 [00:00<?, ?it/s, Trial=1, Best=0.1743][I 2025-07-14 12:23:35,087] Trial 1 finished with value: 0.14755699318405383 and parameters: {'n_estimators': 431, 'max_depth': 14, 'min_samples_split': 16, 'min_samples_leaf': 4, 'max_features': None}. Best is trial 1 with value: 0.14755699318405383.\n",
      "Optimizing RandomForest:   4%|▍         | 2/50 [00:01<00:34,  1.40it/s, Trial=2, Best=0.1476][I 2025-07-14 12:23:35,504] Trial 2 finished with value: 0.1766212874156458 and parameters: {'n_estimators': 310, 'max_depth': 17, 'min_samples_split': 3, 'min_samples_leaf': 6, 'max_features': 'log2'}. Best is trial 1 with value: 0.14755699318405383.\n",
      "Optimizing RandomForest:   6%|▌         | 3/50 [00:01<00:27,  1.70it/s, Trial=3, Best=0.1476][I 2025-07-14 12:23:35,948] Trial 3 finished with value: 0.18017689949154564 and parameters: {'n_estimators': 349, 'max_depth': 11, 'min_samples_split': 11, 'min_samples_leaf': 7, 'max_features': 'log2'}. Best is trial 1 with value: 0.14755699318405383.\n",
      "Optimizing RandomForest:   8%|▊         | 4/50 [00:02<00:24,  1.87it/s, Trial=4, Best=0.1476][I 2025-07-14 12:23:36,468] Trial 4 finished with value: 0.16135325572085973 and parameters: {'n_estimators': 181, 'max_depth': 5, 'min_samples_split': 15, 'min_samples_leaf': 7, 'max_features': None}. Best is trial 1 with value: 0.14755699318405383.\n",
      "Optimizing RandomForest:  10%|█         | 5/50 [00:02<00:23,  1.89it/s, Trial=5, Best=0.1476][I 2025-07-14 12:23:37,088] Trial 5 finished with value: 0.17682187121266948 and parameters: {'n_estimators': 462, 'max_depth': 19, 'min_samples_split': 11, 'min_samples_leaf': 6, 'max_features': 'log2'}. Best is trial 1 with value: 0.14755699318405383.\n",
      "Optimizing RandomForest:  12%|█▏        | 6/50 [00:03<00:24,  1.79it/s, Trial=6, Best=0.1476][I 2025-07-14 12:23:37,363] Trial 6 finished with value: 0.17028189713539124 and parameters: {'n_estimators': 190, 'max_depth': 19, 'min_samples_split': 12, 'min_samples_leaf': 4, 'max_features': 'log2'}. Best is trial 1 with value: 0.14755699318405383.\n",
      "Optimizing RandomForest:  14%|█▍        | 7/50 [00:03<00:20,  2.14it/s, Trial=7, Best=0.1476][I 2025-07-14 12:23:37,753] Trial 7 finished with value: 0.16351577748908067 and parameters: {'n_estimators': 355, 'max_depth': 18, 'min_samples_split': 3, 'min_samples_leaf': 3, 'max_features': 'log2'}. Best is trial 1 with value: 0.14755699318405383.\n",
      "Optimizing RandomForest:  16%|█▌        | 8/50 [00:04<00:18,  2.25it/s, Trial=8, Best=0.1476][I 2025-07-14 12:23:39,419] Trial 8 finished with value: 0.14326114271746046 and parameters: {'n_estimators': 436, 'max_depth': 16, 'min_samples_split': 8, 'min_samples_leaf': 3, 'max_features': None}. Best is trial 8 with value: 0.14326114271746046.\n",
      "Optimizing RandomForest:  18%|█▊        | 9/50 [00:05<00:33,  1.22it/s, Trial=9, Best=0.1433][I 2025-07-14 12:23:40,055] Trial 9 finished with value: 0.15149263891969703 and parameters: {'n_estimators': 186, 'max_depth': 18, 'min_samples_split': 20, 'min_samples_leaf': 7, 'max_features': None}. Best is trial 8 with value: 0.14326114271746046.\n",
      "Optimizing RandomForest:  20%|██        | 10/50 [00:06<00:30,  1.31it/s, Trial=10, Best=0.1433][I 2025-07-14 12:23:40,501] Trial 10 finished with value: 0.1657277864486495 and parameters: {'n_estimators': 430, 'max_depth': 13, 'min_samples_split': 7, 'min_samples_leaf': 10, 'max_features': 'sqrt'}. Best is trial 8 with value: 0.14326114271746046.\n",
      "Optimizing RandomForest:  22%|██▏       | 11/50 [00:06<00:26,  1.50it/s, Trial=11, Best=0.1433][I 2025-07-14 12:23:41,983] Trial 11 finished with value: 0.14632840224304508 and parameters: {'n_estimators': 413, 'max_depth': 14, 'min_samples_split': 16, 'min_samples_leaf': 1, 'max_features': None}. Best is trial 8 with value: 0.14326114271746046.\n",
      "Optimizing RandomForest:  24%|██▍       | 12/50 [00:08<00:34,  1.09it/s, Trial=12, Best=0.1433][I 2025-07-14 12:23:44,042] Trial 12 finished with value: 0.14270944539145114 and parameters: {'n_estimators': 495, 'max_depth': 15, 'min_samples_split': 8, 'min_samples_leaf': 1, 'max_features': None}. Best is trial 12 with value: 0.14270944539145114.\n",
      "Optimizing RandomForest:  26%|██▌       | 13/50 [00:10<00:46,  1.26s/it, Trial=13, Best=0.1427][I 2025-07-14 12:23:46,120] Trial 13 finished with value: 0.1425855145083994 and parameters: {'n_estimators': 495, 'max_depth': 16, 'min_samples_split': 7, 'min_samples_leaf': 1, 'max_features': None}. Best is trial 13 with value: 0.1425855145083994.\n",
      "Optimizing RandomForest:  28%|██▊       | 14/50 [00:12<00:54,  1.51s/it, Trial=14, Best=0.1426][I 2025-07-14 12:23:46,797] Trial 14 finished with value: 0.14417747251587024 and parameters: {'n_estimators': 499, 'max_depth': 11, 'min_samples_split': 6, 'min_samples_leaf': 1, 'max_features': 'sqrt'}. Best is trial 13 with value: 0.1425855145083994.\n",
      "Optimizing RandomForest:  30%|███       | 15/50 [00:13<00:44,  1.26s/it, Trial=15, Best=0.1426][I 2025-07-14 12:23:47,387] Trial 15 finished with value: 0.1421876737376285 and parameters: {'n_estimators': 103, 'max_depth': 16, 'min_samples_split': 5, 'min_samples_leaf': 1, 'max_features': None}. Best is trial 15 with value: 0.1421876737376285.\n",
      "Optimizing RandomForest:  32%|███▏      | 16/50 [00:13<00:35,  1.06s/it, Trial=16, Best=0.1422][I 2025-07-14 12:23:47,910] Trial 16 finished with value: 0.1430755543252685 and parameters: {'n_estimators': 102, 'max_depth': 20, 'min_samples_split': 5, 'min_samples_leaf': 3, 'max_features': None}. Best is trial 15 with value: 0.1421876737376285.\n",
      "Optimizing RandomForest:  34%|███▍      | 17/50 [00:14<00:29,  1.12it/s, Trial=17, Best=0.1422][I 2025-07-14 12:23:48,145] Trial 17 finished with value: 0.16723175471383822 and parameters: {'n_estimators': 107, 'max_depth': 11, 'min_samples_split': 2, 'min_samples_leaf': 10, 'max_features': 'sqrt'}. Best is trial 15 with value: 0.1421876737376285.\n",
      "Optimizing RandomForest:  36%|███▌      | 18/50 [00:14<00:22,  1.43it/s, Trial=18, Best=0.1422][I 2025-07-14 12:23:49,279] Trial 18 finished with value: 0.1418306671563924 and parameters: {'n_estimators': 244, 'max_depth': 16, 'min_samples_split': 5, 'min_samples_leaf': 2, 'max_features': None}. Best is trial 18 with value: 0.1418306671563924.\n",
      "Optimizing RandomForest:  38%|███▊      | 19/50 [00:15<00:25,  1.21it/s, Trial=19, Best=0.1418][I 2025-07-14 12:23:50,314] Trial 19 finished with value: 0.14515015979493248 and parameters: {'n_estimators': 234, 'max_depth': 9, 'min_samples_split': 4, 'min_samples_leaf': 4, 'max_features': None}. Best is trial 18 with value: 0.1418306671563924.\n",
      "Optimizing RandomForest:  40%|████      | 20/50 [00:16<00:26,  1.12it/s, Trial=20, Best=0.1418][I 2025-07-14 12:23:51,043] Trial 20 finished with value: 0.1432216778927256 and parameters: {'n_estimators': 135, 'max_depth': 15, 'min_samples_split': 9, 'min_samples_leaf': 2, 'max_features': None}. Best is trial 18 with value: 0.1418306671563924.\n",
      "Optimizing RandomForest:  42%|████▏     | 21/50 [00:17<00:24,  1.19it/s, Trial=21, Best=0.1418][I 2025-07-14 12:23:52,201] Trial 21 finished with value: 0.14206235075027207 and parameters: {'n_estimators': 246, 'max_depth': 16, 'min_samples_split': 6, 'min_samples_leaf': 2, 'max_features': None}. Best is trial 18 with value: 0.1418306671563924.\n",
      "Optimizing RandomForest:  44%|████▍     | 22/50 [00:18<00:26,  1.07it/s, Trial=22, Best=0.1418][I 2025-07-14 12:23:53,431] Trial 22 finished with value: 0.1418055777683981 and parameters: {'n_estimators': 235, 'max_depth': 16, 'min_samples_split': 5, 'min_samples_leaf': 2, 'max_features': None}. Best is trial 22 with value: 0.1418055777683981.\n",
      "Optimizing RandomForest:  46%|████▌     | 23/50 [00:19<00:27,  1.02s/it, Trial=23, Best=0.1418][I 2025-07-14 12:23:54,619] Trial 23 finished with value: 0.14173183687017005 and parameters: {'n_estimators': 239, 'max_depth': 13, 'min_samples_split': 2, 'min_samples_leaf': 2, 'max_features': None}. Best is trial 23 with value: 0.14173183687017005.\n",
      "Optimizing RandomForest:  48%|████▊     | 24/50 [00:20<00:27,  1.07s/it, Trial=24, Best=0.1417][I 2025-07-14 12:23:55,875] Trial 24 finished with value: 0.1456023330161235 and parameters: {'n_estimators': 288, 'max_depth': 13, 'min_samples_split': 2, 'min_samples_leaf': 5, 'max_features': None}. Best is trial 23 with value: 0.14173183687017005.\n",
      "Optimizing RandomForest:  50%|█████     | 25/50 [00:22<00:28,  1.13s/it, Trial=25, Best=0.1417][I 2025-07-14 12:23:56,221] Trial 25 finished with value: 0.14500337678174371 and parameters: {'n_estimators': 237, 'max_depth': 12, 'min_samples_split': 4, 'min_samples_leaf': 2, 'max_features': 'sqrt'}. Best is trial 23 with value: 0.14173183687017005.\n",
      "Optimizing RandomForest:  52%|█████▏    | 26/50 [00:22<00:21,  1.12it/s, Trial=26, Best=0.1417][I 2025-07-14 12:23:57,110] Trial 26 finished with value: 0.14417153438828695 and parameters: {'n_estimators': 210, 'max_depth': 9, 'min_samples_split': 2, 'min_samples_leaf': 3, 'max_features': None}. Best is trial 23 with value: 0.14173183687017005.\n",
      "Optimizing RandomForest:  54%|█████▍    | 27/50 [00:23<00:20,  1.12it/s, Trial=27, Best=0.1417][I 2025-07-14 12:23:58,308] Trial 27 finished with value: 0.1455099624746794 and parameters: {'n_estimators': 324, 'max_depth': 14, 'min_samples_split': 9, 'min_samples_leaf': 5, 'max_features': None}. Best is trial 23 with value: 0.14173183687017005.\n",
      "Optimizing RandomForest:  56%|█████▌    | 28/50 [00:24<00:21,  1.02it/s, Trial=28, Best=0.1417][I 2025-07-14 12:23:59,570] Trial 28 finished with value: 0.14159378121610974 and parameters: {'n_estimators': 267, 'max_depth': 17, 'min_samples_split': 4, 'min_samples_leaf': 2, 'max_features': None}. Best is trial 28 with value: 0.14159378121610974.\n",
      "Optimizing RandomForest:  58%|█████▊    | 29/50 [00:25<00:22,  1.07s/it, Trial=29, Best=0.1416][I 2025-07-14 12:23:59,906] Trial 29 finished with value: 0.1766028839669574 and parameters: {'n_estimators': 276, 'max_depth': 5, 'min_samples_split': 4, 'min_samples_leaf': 9, 'max_features': 'sqrt'}. Best is trial 28 with value: 0.14159378121610974.\n",
      "Optimizing RandomForest:  60%|██████    | 30/50 [00:26<00:16,  1.18it/s, Trial=30, Best=0.1416][I 2025-07-14 12:24:00,564] Trial 30 finished with value: 0.14476229289451614 and parameters: {'n_estimators': 152, 'max_depth': 18, 'min_samples_split': 3, 'min_samples_leaf': 4, 'max_features': None}. Best is trial 28 with value: 0.14159378121610974.\n",
      "Optimizing RandomForest:  62%|██████▏   | 31/50 [00:26<00:15,  1.26it/s, Trial=31, Best=0.1416][I 2025-07-14 12:24:01,742] Trial 31 finished with value: 0.14206197419287805 and parameters: {'n_estimators': 263, 'max_depth': 17, 'min_samples_split': 5, 'min_samples_leaf': 2, 'max_features': None}. Best is trial 28 with value: 0.14159378121610974.\n",
      "Optimizing RandomForest:  64%|██████▍   | 32/50 [00:28<00:16,  1.10it/s, Trial=32, Best=0.1416][I 2025-07-14 12:24:02,659] Trial 32 finished with value: 0.14285900935230034 and parameters: {'n_estimators': 213, 'max_depth': 15, 'min_samples_split': 6, 'min_samples_leaf': 3, 'max_features': None}. Best is trial 28 with value: 0.14159378121610974.\n",
      "Optimizing RandomForest:  66%|██████▌   | 33/50 [00:28<00:15,  1.10it/s, Trial=33, Best=0.1416][I 2025-07-14 12:24:04,084] Trial 33 finished with value: 0.14151721145110444 and parameters: {'n_estimators': 311, 'max_depth': 17, 'min_samples_split': 4, 'min_samples_leaf': 2, 'max_features': None}. Best is trial 33 with value: 0.14151721145110444.\n",
      "Optimizing RandomForest:  68%|██████▊   | 34/50 [00:30<00:17,  1.06s/it, Trial=34, Best=0.1415][I 2025-07-14 12:24:05,300] Trial 34 finished with value: 0.1441992574104816 and parameters: {'n_estimators': 322, 'max_depth': 20, 'min_samples_split': 3, 'min_samples_leaf': 4, 'max_features': None}. Best is trial 33 with value: 0.14151721145110444.\n",
      "Optimizing RandomForest:  70%|███████   | 35/50 [00:31<00:16,  1.11s/it, Trial=35, Best=0.1415][I 2025-07-14 12:24:06,612] Trial 35 finished with value: 0.144726450448746 and parameters: {'n_estimators': 356, 'max_depth': 17, 'min_samples_split': 13, 'min_samples_leaf': 2, 'max_features': None}. Best is trial 33 with value: 0.14151721145110444.\n",
      "Optimizing RandomForest:  72%|███████▏  | 36/50 [00:32<00:16,  1.17s/it, Trial=36, Best=0.1415][I 2025-07-14 12:24:06,967] Trial 36 finished with value: 0.16331635034728648 and parameters: {'n_estimators': 298, 'max_depth': 14, 'min_samples_split': 2, 'min_samples_leaf': 3, 'max_features': 'log2'}. Best is trial 33 with value: 0.14151721145110444.\n",
      "Optimizing RandomForest:  74%|███████▍  | 37/50 [00:33<00:12,  1.08it/s, Trial=37, Best=0.1415][I 2025-07-14 12:24:08,164] Trial 37 finished with value: 0.14876270850970919 and parameters: {'n_estimators': 389, 'max_depth': 7, 'min_samples_split': 4, 'min_samples_leaf': 5, 'max_features': None}. Best is trial 33 with value: 0.14151721145110444.\n",
      "Optimizing RandomForest:  76%|███████▌  | 38/50 [00:34<00:12,  1.01s/it, Trial=38, Best=0.1415][I 2025-07-14 12:24:08,507] Trial 38 finished with value: 0.1584699991990865 and parameters: {'n_estimators': 273, 'max_depth': 19, 'min_samples_split': 7, 'min_samples_leaf': 2, 'max_features': 'log2'}. Best is trial 33 with value: 0.14151721145110444.\n",
      "Optimizing RandomForest:  78%|███████▊  | 39/50 [00:34<00:08,  1.24it/s, Trial=39, Best=0.1415][I 2025-07-14 12:24:09,899] Trial 39 finished with value: 0.1437695837634741 and parameters: {'n_estimators': 337, 'max_depth': 17, 'min_samples_split': 10, 'min_samples_leaf': 1, 'max_features': None}. Best is trial 33 with value: 0.14151721145110444.\n",
      "Optimizing RandomForest:  80%|████████  | 40/50 [00:36<00:09,  1.02it/s, Trial=40, Best=0.1415][I 2025-07-14 12:24:10,234] Trial 40 finished with value: 0.18265608907815264 and parameters: {'n_estimators': 213, 'max_depth': 12, 'min_samples_split': 3, 'min_samples_leaf': 8, 'max_features': 'log2'}. Best is trial 33 with value: 0.14151721145110444.\n",
      "Optimizing RandomForest:  82%|████████▏ | 41/50 [00:36<00:07,  1.27it/s, Trial=41, Best=0.1415][I 2025-07-14 12:24:11,288] Trial 41 finished with value: 0.1428052073949541 and parameters: {'n_estimators': 253, 'max_depth': 18, 'min_samples_split': 5, 'min_samples_leaf': 3, 'max_features': None}. Best is trial 33 with value: 0.14151721145110444.\n",
      "Optimizing RandomForest:  84%|████████▍ | 42/50 [00:37<00:06,  1.15it/s, Trial=42, Best=0.1415][I 2025-07-14 12:24:12,695] Trial 42 finished with value: 0.14157783618598657 and parameters: {'n_estimators': 307, 'max_depth': 17, 'min_samples_split': 4, 'min_samples_leaf': 2, 'max_features': None}. Best is trial 33 with value: 0.14151721145110444.\n",
      "Optimizing RandomForest:  86%|████████▌ | 43/50 [00:39<00:07,  1.03s/it, Trial=43, Best=0.1415][I 2025-07-14 12:24:14,050] Trial 43 finished with value: 0.14151032206170197 and parameters: {'n_estimators': 297, 'max_depth': 19, 'min_samples_split': 3, 'min_samples_leaf': 2, 'max_features': None}. Best is trial 43 with value: 0.14151032206170197.\n",
      "Optimizing RandomForest:  88%|████████▊ | 44/50 [00:40<00:06,  1.13s/it, Trial=44, Best=0.1415][I 2025-07-14 12:24:15,918] Trial 44 finished with value: 0.14145614983107496 and parameters: {'n_estimators': 372, 'max_depth': 19, 'min_samples_split': 3, 'min_samples_leaf': 1, 'max_features': None}. Best is trial 44 with value: 0.14145614983107496.\n",
      "Optimizing RandomForest:  90%|█████████ | 45/50 [00:42<00:06,  1.35s/it, Trial=45, Best=0.1415][I 2025-07-14 12:24:17,233] Trial 45 finished with value: 0.14839971477245537 and parameters: {'n_estimators': 385, 'max_depth': 20, 'min_samples_split': 20, 'min_samples_leaf': 1, 'max_features': None}. Best is trial 44 with value: 0.14145614983107496.\n",
      "Optimizing RandomForest:  92%|█████████▏| 46/50 [00:43<00:05,  1.34s/it, Trial=46, Best=0.1415][I 2025-07-14 12:24:18,808] Trial 46 finished with value: 0.14541041389250836 and parameters: {'n_estimators': 374, 'max_depth': 19, 'min_samples_split': 14, 'min_samples_leaf': 1, 'max_features': None}. Best is trial 44 with value: 0.14145614983107496.\n",
      "Optimizing RandomForest:  94%|█████████▍| 47/50 [00:45<00:04,  1.41s/it, Trial=47, Best=0.1415][I 2025-07-14 12:24:20,029] Trial 47 finished with value: 0.14264783359417332 and parameters: {'n_estimators': 302, 'max_depth': 19, 'min_samples_split': 3, 'min_samples_leaf': 3, 'max_features': None}. Best is trial 44 with value: 0.14145614983107496.\n",
      "Optimizing RandomForest:  96%|█████████▌| 48/50 [00:46<00:02,  1.35s/it, Trial=48, Best=0.1415][I 2025-07-14 12:24:20,450] Trial 48 finished with value: 0.14296299974031315 and parameters: {'n_estimators': 316, 'max_depth': 18, 'min_samples_split': 6, 'min_samples_leaf': 1, 'max_features': 'sqrt'}. Best is trial 44 with value: 0.14145614983107496.\n",
      "Optimizing RandomForest:  98%|█████████▊| 49/50 [00:46<00:01,  1.07s/it, Trial=49, Best=0.1415][I 2025-07-14 12:24:21,611] Trial 49 finished with value: 0.14694559150172984 and parameters: {'n_estimators': 345, 'max_depth': 17, 'min_samples_split': 4, 'min_samples_leaf': 6, 'max_features': None}. Best is trial 44 with value: 0.14145614983107496.\n",
      "Optimizing RandomForest: 100%|██████████| 50/50 [00:47<00:00,  1.04it/s, Trial=50, Best=0.1415]\n"
     ]
    },
    {
     "name": "stdout",
     "output_type": "stream",
     "text": [
      "Best RandomForest RMSE: 0.1415\n",
      "Evaluating RandomForest_Optimized...\n"
     ]
    },
    {
     "name": "stderr",
     "output_type": "stream",
     "text": [
      "                                                                        \r"
     ]
    }
   ],
   "source": [
    "def objective_rf(trial):\n",
    "    \"\"\"Objective function for RandomForest hyperparameter optimization\"\"\"\n",
    "    params = {\n",
    "        'n_estimators': trial.suggest_int('n_estimators', 100, 500),\n",
    "        'max_depth': trial.suggest_int('max_depth', 5, 20),\n",
    "        'min_samples_split': trial.suggest_int('min_samples_split', 2, 20),\n",
    "        'min_samples_leaf': trial.suggest_int('min_samples_leaf', 1, 10),\n",
    "        'max_features': trial.suggest_categorical('max_features', ['sqrt', 'log2', None]),\n",
    "        'random_state': 42,\n",
    "        'n_jobs': -1\n",
    "    }\n",
    "    \n",
    "    model = RandomForestRegressor(**params)\n",
    "    \n",
    "    cv_scores = cross_val_score(model, X_train_split, y_train, cv=cv, \n",
    "                               scoring='neg_mean_squared_error', n_jobs=-1)\n",
    "    return np.sqrt(-cv_scores.mean())\n",
    "\n",
    "print(\"Optimizing RandomForest...\")\n",
    "study_rf = optuna.create_study(direction='minimize', study_name='rf_optimization')\n",
    "n_trials_rf = 50\n",
    "callback_rf = OptunaTqdmCallback(n_trials_rf, \"RandomForest\")\n",
    "study_rf.optimize(objective_rf, n_trials=n_trials_rf, callbacks=[callback_rf])\n",
    "\n",
    "print(f\"Best RandomForest RMSE: {study_rf.best_value:.4f}\")\n",
    "best_rf_params = study_rf.best_params\n",
    "best_rf = RandomForestRegressor(**best_rf_params, random_state=42, n_jobs=-1)\n",
    "rf_result = evaluate_model(best_rf, X_train_split, y_train, cv, \"RandomForest_Optimized\")"
   ]
  },
  {
   "cell_type": "code",
   "execution_count": 14,
   "id": "5e53da92",
   "metadata": {},
   "outputs": [
    {
     "name": "stderr",
     "output_type": "stream",
     "text": [
      "[I 2025-07-14 12:24:24,128] A new study created in memory with name: lasso_optimization\n",
      "[I 2025-07-14 12:24:24,306] Trial 0 finished with value: 0.1263104872568883 and parameters: {'alpha': 0.002183081214331445}. Best is trial 0 with value: 0.1263104872568883.\n"
     ]
    },
    {
     "name": "stdout",
     "output_type": "stream",
     "text": [
      "Optimizing Lasso...\n"
     ]
    },
    {
     "name": "stderr",
     "output_type": "stream",
     "text": [
      "Optimizing Lasso:   0%|          | 0/30 [00:00<?, ?it/s, Trial=1, Best=0.1263][I 2025-07-14 12:24:24,435] Trial 1 finished with value: 0.1707807677606674 and parameters: {'alpha': 0.026831336060463336}. Best is trial 0 with value: 0.1263104872568883.\n",
      "Optimizing Lasso:   7%|▋         | 2/30 [00:00<00:01, 15.50it/s, Trial=2, Best=0.1263][I 2025-07-14 12:24:24,580] Trial 2 finished with value: 0.31787364601969764 and parameters: {'alpha': 0.3434883980186226}. Best is trial 0 with value: 0.1263104872568883.\n",
      "Optimizing Lasso:   7%|▋         | 2/30 [00:00<00:01, 15.50it/s, Trial=3, Best=0.1263][I 2025-07-14 12:24:24,739] Trial 3 finished with value: 0.14604104370404902 and parameters: {'alpha': 0.010142813345163218}. Best is trial 0 with value: 0.1263104872568883.\n",
      "Optimizing Lasso:  13%|█▎        | 4/30 [00:00<00:03,  8.63it/s, Trial=4, Best=0.1263][I 2025-07-14 12:24:24,934] Trial 4 finished with value: 0.12329567427739482 and parameters: {'alpha': 0.001724563577617469}. Best is trial 4 with value: 0.12329567427739482.\n",
      "Optimizing Lasso:  13%|█▎        | 4/30 [00:00<00:03,  8.63it/s, Trial=5, Best=0.1233][I 2025-07-14 12:24:25,138] Trial 5 finished with value: 0.12114497064884451 and parameters: {'alpha': 0.00010229098046881307}. Best is trial 5 with value: 0.12114497064884451.\n",
      "Optimizing Lasso:  20%|██        | 6/30 [00:00<00:03,  6.49it/s, Trial=6, Best=0.1211][I 2025-07-14 12:24:25,296] Trial 6 finished with value: 0.14988078241723507 and parameters: {'alpha': 0.012291219168260278}. Best is trial 5 with value: 0.12114497064884451.\n",
      "Optimizing Lasso:  23%|██▎       | 7/30 [00:00<00:03,  6.45it/s, Trial=7, Best=0.1211][I 2025-07-14 12:24:25,431] Trial 7 finished with value: 0.272072115047476 and parameters: {'alpha': 0.20455370705079487}. Best is trial 5 with value: 0.12114497064884451.\n",
      "Optimizing Lasso:  27%|██▋       | 8/30 [00:01<00:03,  6.65it/s, Trial=8, Best=0.1211][I 2025-07-14 12:24:25,634] Trial 8 finished with value: 0.11938125537654151 and parameters: {'alpha': 0.00020386290574373467}. Best is trial 8 with value: 0.11938125537654151.\n",
      "Optimizing Lasso:  30%|███       | 9/30 [00:01<00:03,  6.10it/s, Trial=9, Best=0.1194][I 2025-07-14 12:24:25,783] Trial 9 finished with value: 0.16398377680312415 and parameters: {'alpha': 0.019578875758040425}. Best is trial 8 with value: 0.11938125537654151.\n",
      "Optimizing Lasso:  33%|███▎      | 10/30 [00:01<00:03,  6.24it/s, Trial=10, Best=0.1194][I 2025-07-14 12:24:25,993] Trial 10 finished with value: 0.1209551442402022 and parameters: {'alpha': 0.00010915559292826788}. Best is trial 8 with value: 0.11938125537654151.\n",
      "Optimizing Lasso:  37%|███▋      | 11/30 [00:01<00:03,  5.74it/s, Trial=11, Best=0.1194][I 2025-07-14 12:24:26,176] Trial 11 finished with value: 0.1191682690188072 and parameters: {'alpha': 0.00022925637304927095}. Best is trial 11 with value: 0.1191682690188072.\n",
      "Optimizing Lasso:  40%|████      | 12/30 [00:01<00:03,  5.66it/s, Trial=12, Best=0.1192][I 2025-07-14 12:24:26,370] Trial 12 finished with value: 0.11830730667547824 and parameters: {'alpha': 0.0006759091663233429}. Best is trial 12 with value: 0.11830730667547824.\n",
      "Optimizing Lasso:  43%|████▎     | 13/30 [00:02<00:03,  5.50it/s, Trial=13, Best=0.1183][I 2025-07-14 12:24:26,618] Trial 13 finished with value: 0.11895771597977647 and parameters: {'alpha': 0.00086475237611787}. Best is trial 12 with value: 0.11830730667547824.\n",
      "Optimizing Lasso:  47%|████▋     | 14/30 [00:02<00:03,  4.97it/s, Trial=14, Best=0.1183][I 2025-07-14 12:24:26,812] Trial 14 finished with value: 0.11937613180401077 and parameters: {'alpha': 0.0009812529450790198}. Best is trial 12 with value: 0.11830730667547824.\n",
      "Optimizing Lasso:  50%|█████     | 15/30 [00:02<00:02,  5.02it/s, Trial=15, Best=0.1183][I 2025-07-14 12:24:27,004] Trial 15 finished with value: 0.11780949526491905 and parameters: {'alpha': 0.0005500098787728189}. Best is trial 15 with value: 0.11780949526491905.\n",
      "Optimizing Lasso:  53%|█████▎    | 16/30 [00:02<00:02,  5.08it/s, Trial=16, Best=0.1178][I 2025-07-14 12:24:27,187] Trial 16 finished with value: 0.1318975430133001 and parameters: {'alpha': 0.00333774439040689}. Best is trial 15 with value: 0.11780949526491905.\n",
      "Optimizing Lasso:  57%|█████▋    | 17/30 [00:02<00:02,  5.18it/s, Trial=17, Best=0.1178][I 2025-07-14 12:24:27,527] Trial 17 finished with value: 0.11803788119461751 and parameters: {'alpha': 0.00036609880101362075}. Best is trial 15 with value: 0.11780949526491905.\n",
      "Optimizing Lasso:  60%|██████    | 18/30 [00:03<00:02,  4.22it/s, Trial=18, Best=0.1178][I 2025-07-14 12:24:27,663] Trial 18 finished with value: 0.20526328602421612 and parameters: {'alpha': 0.07237542032620237}. Best is trial 15 with value: 0.11780949526491905.\n",
      "Optimizing Lasso:  63%|██████▎   | 19/30 [00:03<00:02,  4.83it/s, Trial=19, Best=0.1178][I 2025-07-14 12:24:27,862] Trial 19 finished with value: 0.13527099380856042 and parameters: {'alpha': 0.0045508416252646525}. Best is trial 15 with value: 0.11780949526491905.\n",
      "Optimizing Lasso:  67%|██████▋   | 20/30 [00:03<00:02,  4.90it/s, Trial=20, Best=0.1178][I 2025-07-14 12:24:28,203] Trial 20 finished with value: 0.11774510688800584 and parameters: {'alpha': 0.0004729980337508004}. Best is trial 20 with value: 0.11774510688800584.\n",
      "Optimizing Lasso:  70%|███████   | 21/30 [00:03<00:02,  4.08it/s, Trial=21, Best=0.1177][I 2025-07-14 12:24:28,500] Trial 21 finished with value: 0.11793815182557707 and parameters: {'alpha': 0.000386919075777173}. Best is trial 20 with value: 0.11774510688800584.\n",
      "Optimizing Lasso:  73%|███████▎  | 22/30 [00:04<00:02,  3.84it/s, Trial=22, Best=0.1177][I 2025-07-14 12:24:28,697] Trial 22 finished with value: 0.11798147147826857 and parameters: {'alpha': 0.0005914626706321792}. Best is trial 20 with value: 0.11774510688800584.\n",
      "Optimizing Lasso:  77%|███████▋  | 23/30 [00:04<00:01,  4.14it/s, Trial=23, Best=0.1177][I 2025-07-14 12:24:28,905] Trial 23 finished with value: 0.1185180028096137 and parameters: {'alpha': 0.0002939769430904247}. Best is trial 20 with value: 0.11774510688800584.\n",
      "Optimizing Lasso:  80%|████████  | 24/30 [00:04<00:01,  4.32it/s, Trial=24, Best=0.1177][I 2025-07-14 12:24:29,090] Trial 24 finished with value: 0.12021281239146814 and parameters: {'alpha': 0.0011676877435717024}. Best is trial 20 with value: 0.11774510688800584.\n",
      "Optimizing Lasso:  83%|████████▎ | 25/30 [00:04<00:01,  4.60it/s, Trial=25, Best=0.1177][I 2025-07-14 12:24:29,266] Trial 25 finished with value: 0.13118833578286154 and parameters: {'alpha': 0.003177557992685602}. Best is trial 20 with value: 0.11774510688800584.\n",
      "Optimizing Lasso:  87%|████████▋ | 26/30 [00:04<00:00,  4.87it/s, Trial=26, Best=0.1177][I 2025-07-14 12:24:29,451] Trial 26 finished with value: 0.13758835340738984 and parameters: {'alpha': 0.005733459260216325}. Best is trial 20 with value: 0.11774510688800584.\n",
      "Optimizing Lasso:  90%|█████████ | 27/30 [00:05<00:00,  5.02it/s, Trial=27, Best=0.1177][I 2025-07-14 12:24:29,828] Trial 27 finished with value: 0.11783063019554259 and parameters: {'alpha': 0.00042349737626168565}. Best is trial 20 with value: 0.11774510688800584.\n",
      "Optimizing Lasso:  93%|█████████▎| 28/30 [00:05<00:00,  3.96it/s, Trial=28, Best=0.1177][I 2025-07-14 12:24:29,964] Trial 28 finished with value: 0.3203961786210396 and parameters: {'alpha': 0.87265339975611}. Best is trial 20 with value: 0.11774510688800584.\n",
      "Optimizing Lasso:  97%|█████████▋| 29/30 [00:05<00:00,  4.59it/s, Trial=29, Best=0.1177][I 2025-07-14 12:24:30,163] Trial 29 finished with value: 0.12368448283595582 and parameters: {'alpha': 0.0017840413907289543}. Best is trial 20 with value: 0.11774510688800584.\n",
      "Optimizing Lasso: 100%|██████████| 30/30 [00:05<00:00,  5.12it/s, Trial=30, Best=0.1177]\n"
     ]
    },
    {
     "name": "stdout",
     "output_type": "stream",
     "text": [
      "Best Lasso RMSE: 0.1177\n",
      "Evaluating Lasso_Optimized...\n"
     ]
    },
    {
     "name": "stderr",
     "output_type": "stream",
     "text": [
      "                                                                 \r"
     ]
    }
   ],
   "source": [
    "def objective_lasso(trial):\n",
    "    \"\"\"Objective function for Lasso hyperparameter optimization\"\"\"\n",
    "    alpha = trial.suggest_float('alpha', 1e-4, 1.0, log=True)\n",
    "    model = Lasso(alpha=alpha, random_state=42, max_iter=3000)\n",
    "    \n",
    "    cv_scores = cross_val_score(model, X_train_split, y_train, cv=cv, \n",
    "                               scoring='neg_mean_squared_error', n_jobs=-1)\n",
    "    return np.sqrt(-cv_scores.mean())\n",
    "\n",
    "print(\"Optimizing Lasso...\")\n",
    "study_lasso = optuna.create_study(direction='minimize', study_name='lasso_optimization')\n",
    "n_trials_lasso = 30\n",
    "callback_lasso = OptunaTqdmCallback(n_trials_lasso, \"Lasso\")\n",
    "study_lasso.optimize(objective_lasso, n_trials=n_trials_lasso, callbacks=[callback_lasso])\n",
    "\n",
    "print(f\"Best Lasso RMSE: {study_lasso.best_value:.4f}\")\n",
    "best_lasso_params = study_lasso.best_params\n",
    "best_lasso = Lasso(**best_lasso_params, random_state=42, max_iter=3000)\n",
    "lasso_result = evaluate_model(best_lasso, X_train_split, y_train, cv, \"Lasso_Optimized\")"
   ]
  },
  {
   "cell_type": "code",
   "execution_count": 15,
   "id": "1b8ae09f",
   "metadata": {},
   "outputs": [
    {
     "name": "stderr",
     "output_type": "stream",
     "text": [
      "[I 2025-07-14 12:24:30,539] A new study created in memory with name: elasticnet_optimization\n",
      "[I 2025-07-14 12:24:30,671] Trial 0 finished with value: 0.15966038370311758 and parameters: {'alpha': 0.03466464636789856, 'l1_ratio': 0.49192735789612113}. Best is trial 0 with value: 0.15966038370311758.\n"
     ]
    },
    {
     "name": "stdout",
     "output_type": "stream",
     "text": [
      "Optimizing ElasticNet...\n"
     ]
    },
    {
     "name": "stderr",
     "output_type": "stream",
     "text": [
      "Optimizing ElasticNet:   0%|          | 0/30 [00:00<?, ?it/s, Trial=1, Best=0.1597][I 2025-07-14 12:24:30,804] Trial 1 finished with value: 0.17849429934807134 and parameters: {'alpha': 0.25470622632711926, 'l1_ratio': 0.10416895948076982}. Best is trial 0 with value: 0.15966038370311758.\n",
      "Optimizing ElasticNet:   7%|▋         | 2/30 [00:00<00:01, 15.14it/s, Trial=2, Best=0.1597][I 2025-07-14 12:24:30,938] Trial 2 finished with value: 0.16829443948309153 and parameters: {'alpha': 0.04213803008534849, 'l1_ratio': 0.5564044356191723}. Best is trial 0 with value: 0.15966038370311758.\n",
      "Optimizing ElasticNet:   7%|▋         | 2/30 [00:00<00:01, 15.14it/s, Trial=3, Best=0.1597][I 2025-07-14 12:24:31,069] Trial 3 finished with value: 0.16278267678674563 and parameters: {'alpha': 0.05225418175678114, 'l1_ratio': 0.35525406713939695}. Best is trial 0 with value: 0.15966038370311758.\n",
      "Optimizing ElasticNet:  13%|█▎        | 4/30 [00:00<00:02,  9.47it/s, Trial=4, Best=0.1597][I 2025-07-14 12:24:31,219] Trial 4 finished with value: 0.15432153678411312 and parameters: {'alpha': 0.018464165412541454, 'l1_ratio': 0.7875308478089704}. Best is trial 4 with value: 0.15432153678411312.\n",
      "Optimizing ElasticNet:  13%|█▎        | 4/30 [00:00<00:02,  9.47it/s, Trial=5, Best=0.1543][I 2025-07-14 12:24:31,429] Trial 5 finished with value: 0.11908740357044269 and parameters: {'alpha': 0.0007917854634168415, 'l1_ratio': 0.26704004333034403}. Best is trial 5 with value: 0.11908740357044269.\n",
      "Optimizing ElasticNet:  20%|██        | 6/30 [00:00<00:03,  7.17it/s, Trial=6, Best=0.1191][I 2025-07-14 12:24:31,564] Trial 6 finished with value: 0.23619519417292487 and parameters: {'alpha': 0.24145228136414035, 'l1_ratio': 0.5546867251336015}. Best is trial 5 with value: 0.11908740357044269.\n",
      "Optimizing ElasticNet:  23%|██▎       | 7/30 [00:00<00:03,  7.21it/s, Trial=7, Best=0.1191][I 2025-07-14 12:24:31,702] Trial 7 finished with value: 0.2280234903504908 and parameters: {'alpha': 0.14780323181015675, 'l1_ratio': 0.8272039949201816}. Best is trial 5 with value: 0.11908740357044269.\n",
      "Optimizing ElasticNet:  27%|██▋       | 8/30 [00:01<00:03,  7.21it/s, Trial=8, Best=0.1191][I 2025-07-14 12:24:31,856] Trial 8 finished with value: 0.214612832250276 and parameters: {'alpha': 0.21523849948826754, 'l1_ratio': 0.4102558674484007}. Best is trial 5 with value: 0.11908740357044269.\n",
      "Optimizing ElasticNet:  30%|███       | 9/30 [00:01<00:02,  7.00it/s, Trial=9, Best=0.1191][I 2025-07-14 12:24:32,022] Trial 9 finished with value: 0.12367912091649265 and parameters: {'alpha': 0.009939814877856076, 'l1_ratio': 0.13271204709966425}. Best is trial 5 with value: 0.11908740357044269.\n",
      "Optimizing ElasticNet:  33%|███▎      | 10/30 [00:01<00:02,  6.71it/s, Trial=10, Best=0.1191][I 2025-07-14 12:24:32,294] Trial 10 finished with value: 0.12032094993636429 and parameters: {'alpha': 0.000416114456929396, 'l1_ratio': 0.2804970803874346}. Best is trial 5 with value: 0.11908740357044269.\n",
      "Optimizing ElasticNet:  37%|███▋      | 11/30 [00:01<00:03,  5.45it/s, Trial=11, Best=0.1191][I 2025-07-14 12:24:32,573] Trial 11 finished with value: 0.12058309758276639 and parameters: {'alpha': 0.00037180897466052655, 'l1_ratio': 0.28043199574208644}. Best is trial 5 with value: 0.11908740357044269.\n",
      "Optimizing ElasticNet:  40%|████      | 12/30 [00:01<00:03,  4.73it/s, Trial=12, Best=0.1191][I 2025-07-14 12:24:32,871] Trial 12 finished with value: 0.12106585523436998 and parameters: {'alpha': 0.0003455950059930756, 'l1_ratio': 0.24361517962856272}. Best is trial 5 with value: 0.11908740357044269.\n",
      "Optimizing ElasticNet:  43%|████▎     | 13/30 [00:02<00:04,  4.23it/s, Trial=13, Best=0.1191][I 2025-07-14 12:24:33,040] Trial 13 finished with value: 0.11820587011383822 and parameters: {'alpha': 0.0017917137511375076, 'l1_ratio': 0.22781385691517336}. Best is trial 13 with value: 0.11820587011383822.\n",
      "Optimizing ElasticNet:  47%|████▋     | 14/30 [00:02<00:03,  4.62it/s, Trial=14, Best=0.1182][I 2025-07-14 12:24:33,196] Trial 14 finished with value: 0.11876053048843382 and parameters: {'alpha': 0.0028032605150875864, 'l1_ratio': 0.20732913487331234}. Best is trial 13 with value: 0.11820587011383822.\n",
      "Optimizing ElasticNet:  50%|█████     | 15/30 [00:02<00:02,  5.03it/s, Trial=15, Best=0.1182][I 2025-07-14 12:24:33,358] Trial 15 finished with value: 0.12669108667611606 and parameters: {'alpha': 0.0031662830020661426, 'l1_ratio': 0.6870565986952688}. Best is trial 13 with value: 0.11820587011383822.\n",
      "Optimizing ElasticNet:  53%|█████▎    | 16/30 [00:02<00:02,  5.33it/s, Trial=16, Best=0.1182][I 2025-07-14 12:24:33,517] Trial 16 finished with value: 0.11830607177522652 and parameters: {'alpha': 0.002274716559635397, 'l1_ratio': 0.180745639461075}. Best is trial 13 with value: 0.11820587011383822.\n",
      "Optimizing ElasticNet:  57%|█████▋    | 17/30 [00:02<00:02,  5.57it/s, Trial=17, Best=0.1182][I 2025-07-14 12:24:33,904] Trial 17 finished with value: 0.12330990871440783 and parameters: {'alpha': 0.00010603064618446488, 'l1_ratio': 0.3981172284633998}. Best is trial 13 with value: 0.11820587011383822.\n",
      "Optimizing ElasticNet:  60%|██████    | 18/30 [00:03<00:02,  4.14it/s, Trial=18, Best=0.1182][I 2025-07-14 12:24:34,062] Trial 18 finished with value: 0.11837867713049499 and parameters: {'alpha': 0.002585070104314776, 'l1_ratio': 0.15302330402337558}. Best is trial 13 with value: 0.11820587011383822.\n",
      "Optimizing ElasticNet:  63%|██████▎   | 19/30 [00:03<00:02,  4.62it/s, Trial=19, Best=0.1182][I 2025-07-14 12:24:34,214] Trial 19 finished with value: 0.12863100233153663 and parameters: {'alpha': 0.006759369857148438, 'l1_ratio': 0.3516606599405951}. Best is trial 13 with value: 0.11820587011383822.\n",
      "Optimizing ElasticNet:  67%|██████▋   | 20/30 [00:03<00:01,  5.07it/s, Trial=20, Best=0.1182][I 2025-07-14 12:24:34,388] Trial 20 finished with value: 0.11845253658656953 and parameters: {'alpha': 0.0015177713506018473, 'l1_ratio': 0.19488326684507618}. Best is trial 13 with value: 0.11820587011383822.\n",
      "Optimizing ElasticNet:  70%|███████   | 21/30 [00:03<00:01,  5.26it/s, Trial=21, Best=0.1182][I 2025-07-14 12:24:34,562] Trial 21 finished with value: 0.11838935928432574 and parameters: {'alpha': 0.002106941704313682, 'l1_ratio': 0.15218537332771762}. Best is trial 13 with value: 0.11820587011383822.\n",
      "Optimizing ElasticNet:  73%|███████▎  | 22/30 [00:03<00:01,  5.40it/s, Trial=22, Best=0.1182][I 2025-07-14 12:24:34,713] Trial 22 finished with value: 0.1203441427379714 and parameters: {'alpha': 0.0052183349758732015, 'l1_ratio': 0.16479577022692904}. Best is trial 13 with value: 0.11820587011383822.\n",
      "Optimizing ElasticNet:  77%|███████▋  | 23/30 [00:04<00:01,  5.72it/s, Trial=23, Best=0.1182][I 2025-07-14 12:24:34,913] Trial 23 finished with value: 0.11980810685584323 and parameters: {'alpha': 0.0010702707067421745, 'l1_ratio': 0.10696036039556046}. Best is trial 13 with value: 0.11820587011383822.\n",
      "Optimizing ElasticNet:  80%|████████  | 24/30 [00:04<00:01,  5.48it/s, Trial=24, Best=0.1182][I 2025-07-14 12:24:35,051] Trial 24 finished with value: 0.30222665830438705 and parameters: {'alpha': 0.8329795040682352, 'l1_ratio': 0.30242197309195784}. Best is trial 13 with value: 0.11820587011383822.\n",
      "Optimizing ElasticNet:  83%|████████▎ | 25/30 [00:04<00:00,  5.90it/s, Trial=25, Best=0.1182][I 2025-07-14 12:24:35,204] Trial 25 finished with value: 0.12008440781583378 and parameters: {'alpha': 0.004279858517673093, 'l1_ratio': 0.20053008005535727}. Best is trial 13 with value: 0.11820587011383822.\n",
      "Optimizing ElasticNet:  87%|████████▋ | 26/30 [00:04<00:00,  6.08it/s, Trial=26, Best=0.1182][I 2025-07-14 12:24:35,344] Trial 26 finished with value: 0.14042438287682163 and parameters: {'alpha': 0.015275563096581072, 'l1_ratio': 0.43324186845226276}. Best is trial 13 with value: 0.11820587011383822.\n",
      "Optimizing ElasticNet:  90%|█████████ | 27/30 [00:04<00:00,  6.35it/s, Trial=27, Best=0.1182][I 2025-07-14 12:24:35,535] Trial 27 finished with value: 0.11864711489052 and parameters: {'alpha': 0.0008000971662028453, 'l1_ratio': 0.34025677020045186}. Best is trial 13 with value: 0.11820587011383822.\n",
      "Optimizing ElasticNet:  93%|█████████▎| 28/30 [00:04<00:00,  6.00it/s, Trial=28, Best=0.1182][I 2025-07-14 12:24:35,935] Trial 28 finished with value: 0.12385448290420609 and parameters: {'alpha': 0.00012489148463646949, 'l1_ratio': 0.23222105491589545}. Best is trial 13 with value: 0.11820587011383822.\n",
      "Optimizing ElasticNet:  97%|█████████▋| 29/30 [00:05<00:00,  4.22it/s, Trial=29, Best=0.1182][I 2025-07-14 12:24:36,109] Trial 29 finished with value: 0.11977861750475065 and parameters: {'alpha': 0.0018849580897129185, 'l1_ratio': 0.5154604713609278}. Best is trial 13 with value: 0.11820587011383822.\n",
      "Optimizing ElasticNet: 100%|██████████| 30/30 [00:05<00:00,  5.52it/s, Trial=30, Best=0.1182]\n"
     ]
    },
    {
     "name": "stdout",
     "output_type": "stream",
     "text": [
      "Best ElasticNet RMSE: 0.1182\n",
      "Evaluating ElasticNet_Optimized...\n"
     ]
    },
    {
     "name": "stderr",
     "output_type": "stream",
     "text": [
      "                                                                      \r"
     ]
    }
   ],
   "source": [
    "def objective_elasticnet(trial):\n",
    "    \"\"\"Objective function for ElasticNet hyperparameter optimization\"\"\"\n",
    "    alpha = trial.suggest_float('alpha', 1e-4, 1.0, log=True)\n",
    "    l1_ratio = trial.suggest_float('l1_ratio', 0.1, 0.9)\n",
    "    model = ElasticNet(alpha=alpha, l1_ratio=l1_ratio, random_state=42, max_iter=3000)\n",
    "    \n",
    "    cv_scores = cross_val_score(model, X_train_split, y_train, cv=cv, \n",
    "                               scoring='neg_mean_squared_error', n_jobs=-1)\n",
    "    return np.sqrt(-cv_scores.mean())\n",
    "\n",
    "print(\"Optimizing ElasticNet...\")\n",
    "study_elasticnet = optuna.create_study(direction='minimize', study_name='elasticnet_optimization')\n",
    "n_trials_elasticnet = 30\n",
    "callback_elasticnet = OptunaTqdmCallback(n_trials_elasticnet, \"ElasticNet\")\n",
    "study_elasticnet.optimize(objective_elasticnet, n_trials=n_trials_elasticnet, callbacks=[callback_elasticnet])\n",
    "\n",
    "print(f\"Best ElasticNet RMSE: {study_elasticnet.best_value:.4f}\")\n",
    "best_elasticnet_params = study_elasticnet.best_params\n",
    "best_elasticnet = ElasticNet(**best_elasticnet_params, random_state=42, max_iter=3000)\n",
    "elasticnet_result = evaluate_model(best_elasticnet, X_train_split, y_train, cv, \"ElasticNet_Optimized\")"
   ]
  },
  {
   "cell_type": "code",
   "execution_count": 16,
   "id": "6ee30eaf",
   "metadata": {},
   "outputs": [
    {
     "name": "stdout",
     "output_type": "stream",
     "text": [
      "\n",
      "=====================================================================================\n",
      "HYPERPARAMETER OPTIMIZATION RESULTS\n",
      "=====================================================================================\n",
      "Model           CV RMSE      CV Std     Val RMSE     Improvement \n",
      "-------------------------------------------------------------------------------------\n",
      "CatBoost        0.1131       0.0097     0.1222       7.19        %\n",
      "XGBoost         0.1154       0.0120     0.1264       5.29        %\n",
      "Lasso           0.1175       0.0082     0.1199       3.58        %\n",
      "ElasticNet      0.1179       0.0084     0.1204       3.22        %\n",
      "LightGBM        0.1242       0.0121     0.1263       -1.94       %\n",
      "RandomForest    0.1411       0.0101     0.1439       -15.82      %\n",
      "\n",
      "Best individual model: CatBoost (CV RMSE: 0.1131)\n"
     ]
    }
   ],
   "source": [
    "# Compile all optimization results\n",
    "optimized_results = {\n",
    "    'XGBoost': xgb_result,\n",
    "    'CatBoost': catboost_result,\n",
    "    'LightGBM': lgbm_result,\n",
    "    'RandomForest': rf_result,\n",
    "    'Lasso': lasso_result,\n",
    "    'ElasticNet': elasticnet_result\n",
    "}\n",
    "\n",
    "print(\"\\n\" + \"=\"*85)\n",
    "print(\"HYPERPARAMETER OPTIMIZATION RESULTS\")\n",
    "print(\"=\"*85)\n",
    "print(f\"{'Model':<15} {'CV RMSE':<12} {'CV Std':<10} {'Val RMSE':<12} {'Improvement':<12}\")\n",
    "print(\"-\"*85)\n",
    "\n",
    "baseline_cv_rmse = best_baseline[1]['cv_rmse_mean'] if 'best_baseline' in locals() else float('inf')\n",
    "\n",
    "for name, result in sorted(optimized_results.items(), key=lambda x: x[1]['cv_rmse_mean']):\n",
    "    if baseline_cv_rmse != float('inf'):\n",
    "        improvement = (baseline_cv_rmse - result['cv_rmse_mean']) / baseline_cv_rmse * 100\n",
    "    else:\n",
    "        improvement = 0\n",
    "    \n",
    "    print(f\"{name:<15} {result['cv_rmse_mean']:<12.4f} {result['cv_rmse_std']:<10.4f} \"\n",
    "          f\"{result['val_rmse']:<12.4f} {improvement:<12.2f}%\")\n",
    "\n",
    "best_individual = min(optimized_results.items(), key=lambda x: x[1]['cv_rmse_mean'])\n",
    "print(f\"\\nBest individual model: {best_individual[0]} (CV RMSE: {best_individual[1]['cv_rmse_mean']:.4f})\")"
   ]
  },
  {
   "cell_type": "code",
   "execution_count": null,
   "id": "c584d1ad",
   "metadata": {},
   "outputs": [
    {
     "name": "stdout",
     "output_type": "stream",
     "text": [
      "\n",
      "Top 3 models selected for ensembles:\n",
      "  1. CatBoost: 0.1131\n",
      "  2. XGBoost: 0.1154\n",
      "  3. Lasso: 0.1175\n",
      "  4. ElasticNet: 0.1179\n",
      "  5. LightGBM: 0.1242\n"
     ]
    }
   ],
   "source": [
    "# Select top 4 models for ensemble methods\n",
    "top_models = sorted(optimized_results.items(), key=lambda x: x[1]['cv_rmse_mean'])[:4]\n",
    "print(f\"\\nTop 4 models selected for ensembles:\")\n",
    "for i, (name, result) in enumerate(top_models, 1):\n",
    "    print(f\"  {i}. {name}: {result['cv_rmse_mean']:.4f}\")\n",
    "\n",
    "# Get model objects\n",
    "model_map = {\n",
    "    'XGBoost': best_xgb,\n",
    "    'CatBoost': best_catboost,\n",
    "    'LightGBM': best_lgbm,\n",
    "    'RandomForest': best_rf,\n",
    "    'Lasso': best_lasso,\n",
    "    'ElasticNet': best_elasticnet\n",
    "}\n",
    "\n",
    "top_model_objects = [model_map[name] for name, _ in top_models]\n",
    "top_model_names = [name for name, _ in top_models]"
   ]
  },
  {
   "cell_type": "code",
   "execution_count": 52,
   "id": "a0628205",
   "metadata": {},
   "outputs": [
    {
     "name": "stdout",
     "output_type": "stream",
     "text": [
      "Evaluating Simple_Ensemble...\n"
     ]
    },
    {
     "name": "stderr",
     "output_type": "stream",
     "text": [
      "                                                                 \r"
     ]
    },
    {
     "name": "stdout",
     "output_type": "stream",
     "text": [
      "Simple Ensemble RMSE: 0.1118\n"
     ]
    }
   ],
   "source": [
    "class SimpleEnsemble(BaseEstimator, RegressorMixin):\n",
    "    \"\"\"Simple averaging ensemble\"\"\"\n",
    "    def __init__(self, models):\n",
    "        self.models = models\n",
    "    \n",
    "    def fit(self, X, y):\n",
    "        self.fitted_models_ = []\n",
    "        for model in self.models:\n",
    "            fitted_model = clone(model)\n",
    "            fitted_model.fit(X, y)\n",
    "            self.fitted_models_.append(fitted_model)\n",
    "        return self\n",
    "    \n",
    "    def predict(self, X):\n",
    "        predictions = np.column_stack([\n",
    "            model.predict(X) for model in self.fitted_models_\n",
    "        ])\n",
    "        return np.mean(predictions, axis=1)\n",
    "\n",
    "simple_ensemble = SimpleEnsemble(top_model_objects)\n",
    "simple_result = evaluate_model(simple_ensemble, X_train_split, y_train, cv, \"Simple_Ensemble\")\n",
    "print(f\"Simple Ensemble RMSE: {simple_result['cv_rmse_mean']:.4f}\")"
   ]
  },
  {
   "cell_type": "code",
   "execution_count": 53,
   "id": "fe571bde",
   "metadata": {},
   "outputs": [
    {
     "name": "stdout",
     "output_type": "stream",
     "text": [
      "Evaluating Weighted_Ensemble...\n"
     ]
    },
    {
     "name": "stderr",
     "output_type": "stream",
     "text": [
      "CV Weighted_Ensemble:  20%|██        | 1/5 [00:02<00:11,  2.96s/it]"
     ]
    },
    {
     "name": "stdout",
     "output_type": "stream",
     "text": [
      "Optimized weights: {'CatBoost': np.float64(0.20254967941687496), 'XGBoost': np.float64(0.13037018692817776), 'Lasso': np.float64(0.2715765697740728), 'ElasticNet': np.float64(0.24283917013080852), 'LightGBM': np.float64(0.15266439375006607)}\n"
     ]
    },
    {
     "name": "stderr",
     "output_type": "stream",
     "text": [
      "CV Weighted_Ensemble:  40%|████      | 2/5 [00:05<00:08,  2.96s/it]"
     ]
    },
    {
     "name": "stdout",
     "output_type": "stream",
     "text": [
      "Optimized weights: {'CatBoost': np.float64(0.6226696350972698), 'XGBoost': np.float64(0.3043230605951608), 'Lasso': np.float64(0.03186520761819381), 'ElasticNet': np.float64(0.0411420966893758), 'LightGBM': np.float64(0.0)}\n"
     ]
    },
    {
     "name": "stderr",
     "output_type": "stream",
     "text": [
      "CV Weighted_Ensemble:  60%|██████    | 3/5 [00:08<00:05,  2.96s/it]"
     ]
    },
    {
     "name": "stdout",
     "output_type": "stream",
     "text": [
      "Optimized weights: {'CatBoost': np.float64(0.5526965838061496), 'XGBoost': np.float64(0.10380394943269555), 'Lasso': np.float64(0.18428242275668769), 'ElasticNet': np.float64(0.15921704400446726), 'LightGBM': np.float64(0.0)}\n"
     ]
    },
    {
     "name": "stderr",
     "output_type": "stream",
     "text": [
      "CV Weighted_Ensemble:  80%|████████  | 4/5 [00:11<00:02,  2.90s/it]"
     ]
    },
    {
     "name": "stdout",
     "output_type": "stream",
     "text": [
      "Optimized weights: {'CatBoost': np.float64(0.5308231886735776), 'XGBoost': np.float64(0.0), 'Lasso': np.float64(0.2334069904279068), 'ElasticNet': np.float64(0.2357698208985157), 'LightGBM': np.float64(0.0)}\n"
     ]
    },
    {
     "name": "stderr",
     "output_type": "stream",
     "text": [
      "                                                                   "
     ]
    },
    {
     "name": "stdout",
     "output_type": "stream",
     "text": [
      "Optimized weights: {'CatBoost': np.float64(0.2), 'XGBoost': np.float64(0.2), 'Lasso': np.float64(0.2), 'ElasticNet': np.float64(0.2), 'LightGBM': np.float64(0.2)}\n"
     ]
    },
    {
     "name": "stderr",
     "output_type": "stream",
     "text": [
      "\r"
     ]
    },
    {
     "name": "stdout",
     "output_type": "stream",
     "text": [
      "Optimized weights: {'CatBoost': np.float64(0.5146753027951187), 'XGBoost': np.float64(0.0), 'Lasso': np.float64(0.2838068310534047), 'ElasticNet': np.float64(0.20151786615147643), 'LightGBM': np.float64(0.0)}\n",
      "Weighted Ensemble RMSE: 0.1117\n"
     ]
    }
   ],
   "source": [
    "class WeightedEnsemble(BaseEstimator, RegressorMixin):\n",
    "    \"\"\"Weighted averaging ensemble with optimized weights\"\"\"\n",
    "    def __init__(self, models):\n",
    "        self.models = models\n",
    "        self.weights_ = None\n",
    "    \n",
    "    def fit(self, X, y):\n",
    "        self.fitted_models_ = []\n",
    "        for model in self.models:\n",
    "            fitted_model = clone(model)\n",
    "            fitted_model.fit(X, y)\n",
    "            self.fitted_models_.append(fitted_model)\n",
    "        \n",
    "        # Optimize weights using validation approach\n",
    "        X_opt, X_weight_val, y_opt, y_weight_val = train_test_split(\n",
    "            X, y, test_size=0.2, random_state=42\n",
    "        )\n",
    "        \n",
    "        # Fit models on optimization set\n",
    "        opt_models = []\n",
    "        for model in self.models:\n",
    "            opt_model = clone(model)\n",
    "            opt_model.fit(X_opt, y_opt)\n",
    "            opt_models.append(opt_model)\n",
    "        \n",
    "        # Get predictions on weight validation set\n",
    "        weight_val_preds = np.column_stack([\n",
    "            model.predict(X_weight_val) for model in opt_models\n",
    "        ])\n",
    "        \n",
    "        # Optimize weights\n",
    "        def objective(weights):\n",
    "            weights = weights / weights.sum()  # Normalize\n",
    "            ensemble_pred = np.dot(weight_val_preds, weights)\n",
    "            return mean_squared_error(y_weight_val, ensemble_pred)\n",
    "        \n",
    "        # Initial equal weights\n",
    "        initial_weights = np.ones(len(self.models)) / len(self.models)\n",
    "        \n",
    "        # Constraints: weights sum to 1 and are non-negative\n",
    "        constraints = {'type': 'eq', 'fun': lambda w: w.sum() - 1}\n",
    "        bounds = [(0, 1) for _ in range(len(self.models))]\n",
    "        \n",
    "        result = minimize(objective, initial_weights, method='SLSQP',\n",
    "                         bounds=bounds, constraints=constraints)\n",
    "        \n",
    "        self.weights_ = result.x\n",
    "        print(f\"Optimized weights: {dict(zip(top_model_names, self.weights_))}\")\n",
    "        \n",
    "        return self\n",
    "    \n",
    "    def predict(self, X):\n",
    "        predictions = np.column_stack([\n",
    "            model.predict(X) for model in self.fitted_models_\n",
    "        ])\n",
    "        return np.dot(predictions, self.weights_)\n",
    "\n",
    "weighted_ensemble = WeightedEnsemble(top_model_objects)\n",
    "weighted_result = evaluate_model(weighted_ensemble, X_train_split, y_train, cv, \"Weighted_Ensemble\")\n",
    "print(f\"Weighted Ensemble RMSE: {weighted_result['cv_rmse_mean']:.4f}\")"
   ]
  },
  {
   "cell_type": "code",
   "execution_count": 54,
   "id": "4fec7ca1",
   "metadata": {},
   "outputs": [
    {
     "name": "stdout",
     "output_type": "stream",
     "text": [
      "Evaluating Stacking_Ensemble...\n"
     ]
    },
    {
     "name": "stderr",
     "output_type": "stream",
     "text": [
      "                                                                   \r"
     ]
    },
    {
     "name": "stdout",
     "output_type": "stream",
     "text": [
      "Stacking Ensemble RMSE: 0.1113\n"
     ]
    }
   ],
   "source": [
    "# Create stacking ensemble with Ridge as meta-learner\n",
    "stacking_ensemble = StackingRegressor(\n",
    "    estimators=[(name, model) for name, model in zip(top_model_names, top_model_objects)],\n",
    "    final_estimator=Ridge(alpha=1.0),\n",
    "    cv=3,\n",
    "    n_jobs=-1\n",
    ")\n",
    "\n",
    "stacking_result = evaluate_model(stacking_ensemble, X_train_split, y_train, cv, \"Stacking_Ensemble\")\n",
    "print(f\"Stacking Ensemble RMSE: {stacking_result['cv_rmse_mean']:.4f}\")"
   ]
  },
  {
   "cell_type": "code",
   "execution_count": 55,
   "id": "6942aa62",
   "metadata": {},
   "outputs": [
    {
     "name": "stdout",
     "output_type": "stream",
     "text": [
      "\n",
      "======================================================================\n",
      "ENSEMBLE METHOD RESULTS\n",
      "======================================================================\n",
      "Method               CV RMSE      CV Std     Val RMSE    \n",
      "----------------------------------------------------------------------\n",
      "Stacking_Ensemble    0.1113       0.0097     0.1157      \n",
      "Weighted_Ensemble    0.1117       0.0097     0.1159      \n",
      "Simple_Ensemble      0.1118       0.0101     0.1164      \n",
      "----------------------------------------------------------------------\n"
     ]
    }
   ],
   "source": [
    "# Compile ensemble results\n",
    "ensemble_results = {\n",
    "    'Simple_Ensemble': simple_result,\n",
    "    'Weighted_Ensemble': weighted_result,\n",
    "    'Stacking_Ensemble': stacking_result\n",
    "}\n",
    "\n",
    "print(\"\\n\" + \"=\"*70)\n",
    "print(\"ENSEMBLE METHOD RESULTS\")\n",
    "print(\"=\"*70)\n",
    "print(f\"{'Method':<20} {'CV RMSE':<12} {'CV Std':<10} {'Val RMSE':<12}\")\n",
    "print(\"-\"*70)\n",
    "\n",
    "for name, result in sorted(ensemble_results.items(), key=lambda x: x[1]['cv_rmse_mean']):\n",
    "    print(f\"{name:<20} {result['cv_rmse_mean']:<12.4f} {result['cv_rmse_std']:<10.4f} \"\n",
    "          f\"{result['val_rmse']:<12.4f}\")\n",
    "\n",
    "print(\"-\"*70)"
   ]
  },
  {
   "cell_type": "code",
   "execution_count": 56,
   "id": "124862eb",
   "metadata": {},
   "outputs": [
    {
     "name": "stdout",
     "output_type": "stream",
     "text": [
      "\n",
      "==========================================================================================\n",
      "FINAL MODEL PERFORMANCE MATRIX\n",
      "==========================================================================================\n",
      "Model                CV RMSE      CV Std     Val RMSE     Status      \n",
      "------------------------------------------------------------------------------------------\n",
      "Stacking_Ensemble    0.1113       0.0097     0.1157       TARGET ACHIEVED\n",
      "Weighted_Ensemble    0.1117       0.0097     0.1159       TARGET ACHIEVED\n",
      "Simple_Ensemble      0.1118       0.0101     0.1164       TARGET ACHIEVED\n",
      "CatBoost             0.1131       0.0097     0.1222       TARGET ACHIEVED\n",
      "XGBoost              0.1154       0.0120     0.1264       TARGET ACHIEVED\n",
      "Lasso                0.1175       0.0082     0.1199       TARGET ACHIEVED\n",
      "ElasticNet           0.1179       0.0084     0.1204       TARGET ACHIEVED\n",
      "LightGBM             0.1242       0.0121     0.1263       BELOW TARGET\n",
      "RandomForest         0.1411       0.0101     0.1439       BELOW TARGET\n",
      "\n",
      "FINAL MODEL SELECTED: Stacking_Ensemble\n",
      "Final RMSE: 0.1113\n",
      "Target Achievement: SUCCESS\n"
     ]
    }
   ],
   "source": [
    "# Combine all results\n",
    "all_model_results = {**optimized_results, **ensemble_results}\n",
    "\n",
    "print(\"\\n\" + \"=\"*90)\n",
    "print(\"FINAL MODEL PERFORMANCE MATRIX\")\n",
    "print(\"=\"*90)\n",
    "print(f\"{'Model':<20} {'CV RMSE':<12} {'CV Std':<10} {'Val RMSE':<12} {'Status':<12}\")\n",
    "print(\"-\"*90)\n",
    "\n",
    "target_rmse = 0.1185\n",
    "\n",
    "for name, result in sorted(all_model_results.items(), key=lambda x: x[1]['cv_rmse_mean']):\n",
    "    status = \"TARGET ACHIEVED\" if result['cv_rmse_mean'] < target_rmse else \"BELOW TARGET\"\n",
    "    print(f\"{name:<20} {result['cv_rmse_mean']:<12.4f} {result['cv_rmse_std']:<10.4f} \"\n",
    "          f\"{result['val_rmse']:<12.4f} {status:<12}\")\n",
    "\n",
    "# Select final model\n",
    "final_model_name = min(all_model_results.items(), key=lambda x: x[1]['cv_rmse_mean'])[0]\n",
    "final_model_rmse = all_model_results[final_model_name]['cv_rmse_mean']\n",
    "\n",
    "print(f\"\\nFINAL MODEL SELECTED: {final_model_name}\")\n",
    "print(f\"Final RMSE: {final_model_rmse:.4f}\")\n",
    "print(f\"Target Achievement: {'SUCCESS' if final_model_rmse < target_rmse else 'MISSED'}\")\n",
    "\n",
    "# Get the actual model object\n",
    "if final_model_name == \"Simple_Ensemble\":\n",
    "    final_model = simple_ensemble\n",
    "elif final_model_name == \"Weighted_Ensemble\":\n",
    "    final_model = weighted_ensemble\n",
    "elif final_model_name == \"Stacking_Ensemble\":\n",
    "    final_model = stacking_ensemble\n",
    "else:\n",
    "    final_model = model_map[final_model_name]"
   ]
  },
  {
   "cell_type": "code",
   "execution_count": 57,
   "id": "c9f527ea",
   "metadata": {},
   "outputs": [
    {
     "name": "stdout",
     "output_type": "stream",
     "text": [
      "\n",
      "Final Model Validation:\n",
      "==================================================\n",
      "Validation Metrics:\n",
      "  RMSE (log scale): 0.1157\n",
      "  RMSE (original): $18,517\n",
      "  MAE (original): $13,404\n",
      "  R² Score: 0.9379\n",
      "  Mean Absolute Percentage Error: 8.10%\n",
      "  Median Absolute Percentage Error: 5.56%\n",
      "\n",
      "Prediction Range Analysis:\n",
      "  Training price range: $34,900 - $755,000\n",
      "  Validation predictions: $46,979 - $490,170\n",
      "  Validation actual: $35,311 - $451,950\n"
     ]
    }
   ],
   "source": [
    "print(\"\\nFinal Model Validation:\")\n",
    "print(\"=\"*50)\n",
    "\n",
    "# Fit on full training data\n",
    "final_model.fit(X_train_split, y_train)\n",
    "\n",
    "# Validation predictions\n",
    "val_predictions_log = final_model.predict(X_val)\n",
    "val_predictions_original = np.exp(val_predictions_log)\n",
    "y_val_original = np.exp(y_val)\n",
    "\n",
    "# Calculate comprehensive metrics\n",
    "val_rmse_log = np.sqrt(mean_squared_error(y_val, val_predictions_log))\n",
    "val_rmse_original = np.sqrt(mean_squared_error(y_val_original, val_predictions_original))\n",
    "val_mae_original = mean_absolute_error(y_val_original, val_predictions_original)\n",
    "val_r2 = r2_score(y_val_original, val_predictions_original)\n",
    "\n",
    "print(f\"Validation Metrics:\")\n",
    "print(f\"  RMSE (log scale): {val_rmse_log:.4f}\")\n",
    "print(f\"  RMSE (original): ${val_rmse_original:,.0f}\")\n",
    "print(f\"  MAE (original): ${val_mae_original:,.0f}\")\n",
    "print(f\"  R² Score: {val_r2:.4f}\")\n",
    "\n",
    "# Percentage errors\n",
    "percentage_errors = np.abs((val_predictions_original - y_val_original) / y_val_original) * 100\n",
    "print(f\"  Mean Absolute Percentage Error: {percentage_errors.mean():.2f}%\")\n",
    "print(f\"  Median Absolute Percentage Error: {np.median(percentage_errors):.2f}%\")\n",
    "\n",
    "# Price range analysis\n",
    "print(f\"\\nPrediction Range Analysis:\")\n",
    "print(f\"  Training price range: ${np.exp(y_log).min():,.0f} - ${np.exp(y_log).max():,.0f}\")\n",
    "print(f\"  Validation predictions: ${val_predictions_original.min():,.0f} - ${val_predictions_original.max():,.0f}\")\n",
    "print(f\"  Validation actual: ${y_val_original.min():,.0f} - ${y_val_original.max():,.0f}\")"
   ]
  },
  {
   "cell_type": "code",
   "execution_count": 58,
   "id": "37565e8a",
   "metadata": {},
   "outputs": [
    {
     "name": "stdout",
     "output_type": "stream",
     "text": [
      "\n",
      "Residual Analysis:\n"
     ]
    },
    {
     "data": {
      "image/png": "[encoded data removed]",
      "text/plain": [
       "<Figure size 1500x1000 with 4 Axes>"
      ]
     },
     "metadata": {},
     "output_type": "display_data"
    },
    {
     "name": "stdout",
     "output_type": "stream",
     "text": [
      "Residual Normality Test: statistic=150.7219, p-value=0.0000\n",
      "Normal distribution: No\n",
      "Mean residual: -0.005267\n",
      "Residual std: 0.1158\n"
     ]
    }
   ],
   "source": [
    "print(\"\\nResidual Analysis:\")\n",
    "\n",
    "residuals_log = y_val - val_predictions_log\n",
    "residuals_original = y_val_original - val_predictions_original\n",
    "\n",
    "# Create residual plots\n",
    "fig, ((ax1, ax2), (ax3, ax4)) = plt.subplots(2, 2, figsize=(15, 10))\n",
    "\n",
    "# Predicted vs Actual (log scale)\n",
    "ax1.scatter(val_predictions_log, y_val, alpha=0.6, s=20)\n",
    "ax1.plot([y_val.min(), y_val.max()], [y_val.min(), y_val.max()], 'r--', lw=2)\n",
    "ax1.set_xlabel('Predicted (log scale)')\n",
    "ax1.set_ylabel('Actual (log scale)')\n",
    "ax1.set_title('Predicted vs Actual (Log Scale)')\n",
    "ax1.grid(True, alpha=0.3)\n",
    "\n",
    "# Predicted vs Actual (original scale)\n",
    "ax2.scatter(val_predictions_original, y_val_original, alpha=0.6, s=20)\n",
    "ax2.plot([y_val_original.min(), y_val_original.max()], \n",
    "         [y_val_original.min(), y_val_original.max()], 'r--', lw=2)\n",
    "ax2.set_xlabel('Predicted Price ($)')\n",
    "ax2.set_ylabel('Actual Price ($)')\n",
    "ax2.set_title('Predicted vs Actual (Original Scale)')\n",
    "ax2.grid(True, alpha=0.3)\n",
    "\n",
    "# Residuals vs Predicted (log scale)\n",
    "ax3.scatter(val_predictions_log, residuals_log, alpha=0.6, s=20)\n",
    "ax3.axhline(y=0, color='r', linestyle='--')\n",
    "ax3.set_xlabel('Predicted (log scale)')\n",
    "ax3.set_ylabel('Residuals (log scale)')\n",
    "ax3.set_title('Residuals vs Predicted (Log Scale)')\n",
    "ax3.grid(True, alpha=0.3)\n",
    "\n",
    "# Residual distribution\n",
    "ax4.hist(residuals_log, bins=30, alpha=0.7, edgecolor='black')\n",
    "ax4.set_xlabel('Residuals (log scale)')\n",
    "ax4.set_ylabel('Frequency')\n",
    "ax4.set_title('Residual Distribution')\n",
    "ax4.grid(True, alpha=0.3)\n",
    "\n",
    "plt.tight_layout()\n",
    "plt.show()\n",
    "\n",
    "# Statistical analysis of residuals\n",
    "from scipy.stats import normaltest\n",
    "\n",
    "stat, p_value = normaltest(residuals_log)\n",
    "print(f\"Residual Normality Test: statistic={stat:.4f}, p-value={p_value:.4f}\")\n",
    "print(f\"Normal distribution: {'Yes' if p_value > 0.05 else 'No'}\")\n",
    "print(f\"Mean residual: {residuals_log.mean():.6f}\")\n",
    "print(f\"Residual std: {residuals_log.std():.4f}\")"
   ]
  },
  {
   "cell_type": "code",
   "execution_count": 64,
   "id": "8cbed6a7",
   "metadata": {},
   "outputs": [
    {
     "name": "stdout",
     "output_type": "stream",
     "text": [
      "\n",
      "Feature Importance Analysis:\n",
      "\n",
      "Top 15 Most Important Features:\n",
      "----------------------------------------\n",
      "LotArea                   99.6671\n",
      "OverallQual               76.8825\n",
      "GrLivArea                 71.3884\n",
      "HouseAge                  69.0406\n",
      "BsmtUnfSF                 66.0123\n",
      "TotalFlrSF                63.7457\n",
      "BsmtFinSF                 63.4308\n",
      "GarageAreaPerCar          59.7433\n",
      "OverallCond               57.5802\n",
      "YearsSinceRemodel         43.7967\n",
      "GarageAge                 40.9342\n",
      "TotalBaths                38.4272\n",
      "OpenPorchSF               29.4800\n",
      "WoodDeckSF                28.7722\n",
      "LotFrontage               28.7504\n",
      "BsmtFinType1              22.7441\n",
      "Functional                22.1494\n",
      "SaleCondition_Normal      20.2261\n",
      "BsmtExposure              19.2042\n",
      "KitchenQual               17.9991\n",
      "ScreenPorch               16.7509\n",
      "MasVnrArea                16.7464\n",
      "EnclosedPorch             16.4173\n",
      "GarageType_Detchd         16.0084\n",
      "Neighborhood_Crawfor      15.4975\n",
      "Condition1_Norm           14.4320\n",
      "Exterior1st_BrkFace       12.7704\n",
      "ExterQual                 11.7037\n",
      "MSSubClass                11.5104\n",
      "FireplaceQu               11.0588\n",
      "Neighborhood_BrkSide      10.7467\n",
      "LotConfig_Inside          10.6812\n",
      "LotConfig_CulDSac         9.7221\n",
      "CentralAir                9.5948\n",
      "Foundation_PConc          9.2567\n",
      "Fence                     9.0189\n",
      "Exterior1st_HdBoard       9.0067\n",
      "Fireplaces                8.2006\n",
      "Neighborhood_Edwards      8.0741\n",
      "GarageFinish              7.8945\n",
      "HeatingQC                 7.7293\n",
      "BsmtFinType2              7.6903\n",
      "BsmtQual                  7.2165\n",
      "GarageQual                7.1569\n",
      "MasVnrType_Stone          6.0287\n"
     ]
    }
   ],
   "source": [
    "print(\"\\nFeature Importance Analysis:\")\n",
    "\n",
    "if hasattr(final_model, 'feature_importances_'):\n",
    "    # Single model with feature importance\n",
    "    feature_importance = pd.DataFrame({\n",
    "        'Feature': X_train.columns,\n",
    "        'Importance': final_model.feature_importances_\n",
    "    }).sort_values('Importance', ascending=False)\n",
    "    \n",
    "elif hasattr(final_model, 'fitted_models_'):\n",
    "    # Ensemble model - average importance from models that have it\n",
    "    importances = []\n",
    "    for model in final_model.fitted_models_:\n",
    "        if hasattr(model, 'feature_importances_'):\n",
    "            importances.append(model.feature_importances_)\n",
    "    \n",
    "    if importances:\n",
    "        avg_importance = np.mean(importances, axis=0)\n",
    "        feature_importance = pd.DataFrame({\n",
    "            'Feature': X_train.columns,\n",
    "            'Importance': avg_importance\n",
    "        }).sort_values('Importance', ascending=False)\n",
    "    else:\n",
    "        feature_importance = None\n",
    "        \n",
    "elif hasattr(final_model, 'named_estimators_'):\n",
    "    # Stacking ensemble\n",
    "    importances = []\n",
    "    for name, model in final_model.named_estimators_.items():\n",
    "        if hasattr(model, 'feature_importances_'):\n",
    "            importances.append(model.feature_importances_)\n",
    "    \n",
    "    if importances:\n",
    "        avg_importance = np.mean(importances, axis=0)\n",
    "        feature_importance = pd.DataFrame({\n",
    "            'Feature': X_train.columns,\n",
    "            'Importance': avg_importance\n",
    "        }).sort_values('Importance', ascending=False)\n",
    "    else:\n",
    "        feature_importance = None\n",
    "else:\n",
    "    feature_importance = None\n",
    "\n",
    "if feature_importance is not None:\n",
    "    print(\"\\nTop 15 Most Important Features:\")\n",
    "    print(\"-\" * 40)\n",
    "    for idx, row in feature_importance.head(45).iterrows():\n",
    "        feat = row['Feature']\n",
    "        importance = row['Importance']\n",
    "        print(f\"{feat:<25} {importance:.4f}\")\n",
    "else:\n",
    "    print(\"Feature importance not available for this model type\")"
   ]
  },
  {
   "cell_type": "code",
   "execution_count": 60,
   "id": "3bf4cf2a",
   "metadata": {},
   "outputs": [
    {
     "name": "stdout",
     "output_type": "stream",
     "text": [
      "\n",
      "============================================================\n",
      "GENERATING FINAL TEST PREDICTIONS\n",
      "============================================================\n",
      "WARNING: First and only time touching test data\n",
      "Test predictions generated: 1459 samples\n",
      "\n",
      "Prediction Statistics:\n",
      "  Range: $46,920 - $711,885\n",
      "  Mean: $178,887\n",
      "  Median: $155,906\n",
      "  Std: $78,533\n",
      "\n",
      "Sanity Checks:\n",
      "  Negative predictions: 0\n",
      "  Very low predictions (<$10k): 0\n",
      "  Very high predictions (>$500k): 7\n",
      "  Training mean: $180,933\n",
      "  Test prediction mean: $178,887\n",
      "  Difference: 1.1%\n",
      "  Distribution similarity: Good\n"
     ]
    }
   ],
   "source": [
    "print(\"\\n\" + \"=\"*60)\n",
    "print(\"GENERATING FINAL TEST PREDICTIONS\")\n",
    "print(\"=\"*60)\n",
    "\n",
    "print(\"WARNING: First and only time touching test data\")\n",
    "\n",
    "# Fit final model on complete training data\n",
    "final_model.fit(X_train, y_log)\n",
    "\n",
    "# Generate predictions on test set\n",
    "test_predictions_log = final_model.predict(X_test)\n",
    "test_predictions_original = np.exp(test_predictions_log)\n",
    "\n",
    "print(f\"Test predictions generated: {len(test_predictions_original)} samples\")\n",
    "\n",
    "# Prediction statistics\n",
    "print(f\"\\nPrediction Statistics:\")\n",
    "print(f\"  Range: ${test_predictions_original.min():,.0f} - ${test_predictions_original.max():,.0f}\")\n",
    "print(f\"  Mean: ${test_predictions_original.mean():,.0f}\")\n",
    "print(f\"  Median: ${np.median(test_predictions_original):,.0f}\")\n",
    "print(f\"  Std: ${test_predictions_original.std():,.0f}\")\n",
    "\n",
    "# Sanity checks\n",
    "print(f\"\\nSanity Checks:\")\n",
    "negative_count = (test_predictions_original < 0).sum()\n",
    "low_count = (test_predictions_original < 10000).sum()\n",
    "high_count = (test_predictions_original > 500000).sum()\n",
    "\n",
    "print(f\"  Negative predictions: {negative_count}\")\n",
    "print(f\"  Very low predictions (<$10k): {low_count}\")\n",
    "print(f\"  Very high predictions (>$500k): {high_count}\")\n",
    "\n",
    "# Compare with training distribution\n",
    "train_mean = np.exp(y_log).mean()\n",
    "test_mean = test_predictions_original.mean()\n",
    "difference_pct = abs(test_mean - train_mean) / train_mean * 100\n",
    "\n",
    "print(f\"  Training mean: ${train_mean:,.0f}\")\n",
    "print(f\"  Test prediction mean: ${test_mean:,.0f}\")\n",
    "print(f\"  Difference: {difference_pct:.1f}%\")\n",
    "\n",
    "if difference_pct > 20:\n",
    "    print(\"  WARNING: Large difference between train and test means\")\n",
    "else:\n",
    "    print(\"  Distribution similarity: Good\")"
   ]
  },
  {
   "cell_type": "code",
   "execution_count": null,
   "id": "e65348dc",
   "metadata": {},
   "outputs": [
    {
     "name": "stdout",
     "output_type": "stream",
     "text": [
      "\n",
      "Submission File Created:\n",
      "  Filename: ../submissions/submission_Stacking_Ensemble5.csv\n",
      "  Shape: (1459, 2)\n",
      "\n",
      "Submission Preview:\n",
      "     Id      SalePrice\n",
      "0  1461  116079.066038\n",
      "1  1462  157431.599793\n",
      "2  1463  182004.986253\n",
      "3  1464  194013.808746\n",
      "4  1465  193833.332561\n",
      "5  1466  170555.491784\n",
      "6  1467  170210.832522\n",
      "7  1468  160750.481541\n",
      "8  1469  187716.349720\n",
      "9  1470  120196.019259\n",
      "...\n",
      "        Id      SalePrice\n",
      "1454  2915   84607.823740\n",
      "1455  2916   81181.628680\n",
      "1456  2917  161702.962343\n",
      "1457  2918  117099.977633\n",
      "1458  2919  216517.830564\n",
      "\n",
      "Submission Validation:\n",
      "  IDs start at: 1461\n",
      "  IDs end at: 2919\n",
      "  ID count: 1459\n",
      "  Expected count: 1459\n",
      "  Format valid: True\n"
     ]
    }
   ],
   "source": [
    "# Create submission DataFrame\n",
    "submission = pd.DataFrame({\n",
    "    'Id': range(1461, 1461 + len(test_predictions_original)),\n",
    "    'SalePrice': test_predictions_original\n",
    "})\n",
    "\n",
    "# Generate timestamp for unique filename\n",
    "submission_filename = f'../submissions/submission_{final_model_name}41.csv'\n",
    "\n",
    "# Save submission\n",
    "submission.to_csv(submission_filename, index=False)\n",
    "\n",
    "print(f\"\\nSubmission File Created:\")\n",
    "print(f\"  Filename: {submission_filename}\")\n",
    "print(f\"  Shape: {submission.shape}\")\n",
    "\n",
    "# Display submission preview\n",
    "print(f\"\\nSubmission Preview:\")\n",
    "print(submission.head(10))\n",
    "print(\"...\")\n",
    "print(submission.tail(5))\n",
    "\n",
    "# Validate submission format\n",
    "print(f\"\\nSubmission Validation:\")\n",
    "print(f\"  IDs start at: {submission['Id'].min()}\")\n",
    "print(f\"  IDs end at: {submission['Id'].max()}\")\n",
    "print(f\"  ID count: {len(submission)}\")\n",
    "print(f\"  Expected count: {len(X_test)}\")\n",
    "print(f\"  Format valid: {len(submission) == len(X_test) and submission['Id'].min() == 1461}\")"
   ]
  }
 ],
 "metadata": {
  "kernelspec": {
   "display_name": "HousePrediction",
   "language": "python",
   "name": "python3"
  },
  "language_info": {
   "codemirror_mode": {
    "name": "ipython",
    "version": 3
   },
   "file_extension": ".py",
   "mimetype": "text/x-python",
   "name": "python",
   "nbconvert_exporter": "python",
   "pygments_lexer": "ipython3",
   "version": "3.11.11"
  }
 },
 "nbformat": 4,
 "nbformat_minor": 5
}
