{
 "cells": [
  {
   "cell_type": "markdown",
   "id": "d8746971",
   "metadata": {},
   "source": [
    "# Notebook 04: Model Development & Optimization\n",
    "\n",
    "Advanced model development, hyperparameter tuning, and performance optimization using the feature engineered dataset from notebook 03.\n",
    "\n",
    "## 1. Setup and Data Loading\n",
    "\n",
    "### 1.1 Library Imports"
   ]
  },
  {
   "cell_type": "code",
   "execution_count": 9,
   "id": "c0fcd576",
   "metadata": {},
   "outputs": [
    {
     "name": "stdout",
     "output_type": "stream",
     "text": [
      "Libraries loaded successfully\n"
     ]
    }
   ],
   "source": [
    "# Core libraries\n",
    "import pandas as pd\n",
    "import numpy as np\n",
    "import matplotlib.pyplot as plt\n",
    "import seaborn as sns\n",
    "import warnings\n",
    "warnings.filterwarnings('ignore')\n",
    "\n",
    "# Machine Learning\n",
    "from sklearn.model_selection import train_test_split, KFold, cross_val_score\n",
    "from sklearn.linear_model import Ridge, Lasso, ElasticNet\n",
    "from sklearn.ensemble import RandomForestRegressor, GradientBoostingRegressor, StackingRegressor\n",
    "from sklearn.metrics import mean_squared_error, mean_absolute_error, r2_score\n",
    "from sklearn.base import BaseEstimator, RegressorMixin, clone\n",
    "\n",
    "# Advanced Models\n",
    "from xgboost import XGBRegressor\n",
    "from catboost import CatBoostRegressor\n",
    "from lightgbm import LGBMRegressor\n",
    "\n",
    "# Hyperparameter Optimization\n",
    "import optuna\n",
    "from optuna.pruners import MedianPruner\n",
    "\n",
    "# Progress tracking and utilities\n",
    "from tqdm import tqdm\n",
    "import joblib\n",
    "import time\n",
    "from scipy.optimize import minimize\n",
    "\n",
    "# Set random seeds for reproducibility\n",
    "RANDOM_STATE = 42\n",
    "np.random.seed(RANDOM_STATE)\n",
    "\n",
    "# Display options\n",
    "pd.set_option('display.max_columns', None)\n",
    "pd.set_option('display.max_rows', 100)\n",
    "\n",
    "print(\"Libraries loaded successfully\")"
   ]
  },
  {
   "cell_type": "markdown",
   "id": "ed528b75",
   "metadata": {},
   "source": [
    "### 1.2 Data Loading and Validation\n",
    "Load the feature engineered datasets from notebook 03 and validate their integrity by checking for missing values, infinite values, and data types."
   ]
  },
  {
   "cell_type": "code",
   "execution_count": 10,
   "id": "f028892d",
   "metadata": {},
   "outputs": [
    {
     "name": "stdout",
     "output_type": "stream",
     "text": [
      "\n",
      "============================================================\n",
      "Data Import Summary:\n",
      "Features available: 191\n",
      "Training samples: 1458\n",
      "Test samples: 1459\n",
      "============================================================\n",
      "\n",
      "Target Variable Statistics:\n",
      "  Shape: (1458,)\n",
      "  Mean: 12.0240\n",
      "  Std: 0.3997\n",
      "  Range: 10.4602 - 13.5345\n",
      "\n",
      "Data Quality Check:\n",
      "Missing values in X_train: 0\n",
      "Missing values in X_test: 0\n",
      "Missing values in target: 0\n",
      "Infinite values in X_train: 0\n",
      "Infinite values in X_test: 0\n"
     ]
    }
   ],
   "source": [
    "# Load processed datasets\n",
    "X_train = pd.read_csv('../data/processed/X_train_final.csv')\n",
    "X_test = pd.read_csv('../data/processed/X_test_final.csv')\n",
    "target_data = pd.read_csv('../data/processed/y_train_final.csv')\n",
    "\n",
    "print(\"\\n\" + \"=\"*60)\n",
    "print(\"Data Import Summary:\")\n",
    "print(f\"Features available: {X_train.shape[1]}\")\n",
    "print(f\"Training samples: {X_train.shape[0]}\")\n",
    "print(f\"Test samples: {X_test.shape[0]}\")\n",
    "print(\"=\"*60)\n",
    "\n",
    "# Extract log-transformed target\n",
    "y_log = target_data['SalePrice']\n",
    "\n",
    "print(f\"\\nTarget Variable Statistics:\")\n",
    "print(f\"  Shape: {y_log.shape}\")\n",
    "print(f\"  Mean: {y_log.mean():.4f}\")\n",
    "print(f\"  Std: {y_log.std():.4f}\")\n",
    "print(f\"  Range: {y_log.min():.4f} - {y_log.max():.4f}\")\n",
    "\n",
    "# Data quality validation\n",
    "print(\"\\nData Quality Check:\")\n",
    "print(f\"Missing values in X_train: {X_train.isnull().sum().sum()}\")\n",
    "print(f\"Missing values in X_test: {X_test.isnull().sum().sum()}\")\n",
    "print(f\"Missing values in target: {y_log.isnull().sum()}\")\n",
    "\n",
    "# Check for infinite values\n",
    "inf_train = np.isinf(X_train.select_dtypes(include=[np.number])).sum().sum()\n",
    "inf_test = np.isinf(X_test.select_dtypes(include=[np.number])).sum().sum()\n",
    "print(f\"Infinite values in X_train: {inf_train}\")\n",
    "print(f\"Infinite values in X_test: {inf_test}\")"
   ]
  },
  {
   "cell_type": "markdown",
   "id": "60b4d7bb",
   "metadata": {},
   "source": [
    "191 features has been loaded across 1458 training and 1459 test samples. Data quality validation confirms zero missing values and no infinite values, indicating clean preprocessed data ready for modeling.\n",
    "\n",
    "### 1.3 Train-Validation Split\n",
    "Create a holdout validation set by reserving 20% of training data for final model evaluation, providing an unbiased estimate of performance before touching the test set."
   ]
  },
  {
   "cell_type": "code",
   "execution_count": 11,
   "id": "b231b7f2",
   "metadata": {},
   "outputs": [
    {
     "name": "stdout",
     "output_type": "stream",
     "text": [
      "\n",
      "Train-Validation Split:\n",
      "  Training set: 1166 samples\n",
      "  Validation set: 292 samples\n",
      "  Features: 191\n"
     ]
    }
   ],
   "source": [
    "# Create train-validation split\n",
    "X_train_split, X_val, y_train, y_val = train_test_split(\n",
    "    X_train, y_log, \n",
    "    test_size=0.2, \n",
    "    random_state=RANDOM_STATE, \n",
    "    stratify=None\n",
    ")\n",
    "\n",
    "print(f\"\\nTrain-Validation Split:\")\n",
    "print(f\"  Training set: {X_train_split.shape[0]} samples\")\n",
    "print(f\"  Validation set: {X_val.shape[0]} samples\")\n",
    "print(f\"  Features: {X_train_split.shape[1]}\")"
   ]
  },
  {
   "cell_type": "markdown",
   "id": "18d11cf1",
   "metadata": {},
   "source": [
    "Created training split with 1166 samples and validation split with 292 samples, maintaining the same 191 features for model development.\n",
    "\n",
    "## 2. Baseline Model Development\n",
    "\n",
    "### 2.1 Baseline Models\n",
    "Define baseline models, linear (Ridge, Lasso, ElasticNet), tree-based (RandomForest, GradientBoosting), and boosting models (XGBoost, CatBoost, LightGBM), that represent different algorithmic approaches"
   ]
  },
  {
   "cell_type": "code",
   "execution_count": 12,
   "id": "2b0b03b3",
   "metadata": {},
   "outputs": [
    {
     "name": "stdout",
     "output_type": "stream",
     "text": [
      "Baseline Models Initialized:\n",
      "  - Ridge: Ridge\n",
      "  - Lasso: Lasso\n",
      "  - ElasticNet: ElasticNet\n",
      "  - RandomForest: RandomForestRegressor\n",
      "  - GradientBoosting: GradientBoostingRegressor\n",
      "  - XGBoost: XGBRegressor\n",
      "  - CatBoost: CatBoostRegressor\n",
      "  - LightGBM: LGBMRegressor\n"
     ]
    }
   ],
   "source": [
    "# Define baseline models\n",
    "baseline_models = {\n",
    "    'Ridge': Ridge(random_state=RANDOM_STATE),\n",
    "    'Lasso': Lasso(random_state=RANDOM_STATE),\n",
    "    'ElasticNet': ElasticNet(random_state=RANDOM_STATE),\n",
    "    'RandomForest': RandomForestRegressor(n_estimators=100, random_state=RANDOM_STATE, n_jobs=-1),\n",
    "    'GradientBoosting': GradientBoostingRegressor(random_state=RANDOM_STATE),\n",
    "    'XGBoost': XGBRegressor(random_state=RANDOM_STATE, n_jobs=-1),\n",
    "    'CatBoost': CatBoostRegressor(random_state=RANDOM_STATE, verbose=False),\n",
    "    'LightGBM': LGBMRegressor(random_state=RANDOM_STATE, n_jobs=-1, verbose=-1)\n",
    "}\n",
    "\n",
    "print(\"Baseline Models Initialized:\")\n",
    "for name, model in baseline_models.items():\n",
    "    print(f\"  - {name}: {type(model).__name__}\")"
   ]
  },
  {
   "cell_type": "markdown",
   "id": "d9792773",
   "metadata": {},
   "source": [
    "8 baseline models has been initialized.\n",
    "\n",
    "### 2.2 Cross-Validation Framework\n",
    "Set up a 5-fold cross-validation strategy that ensures reliable performance estimates. Each model will be evaluated using the same CV strategy for fair comparison."
   ]
  },
  {
   "cell_type": "code",
   "execution_count": 13,
   "id": "a5491a78",
   "metadata": {},
   "outputs": [
    {
     "name": "stdout",
     "output_type": "stream",
     "text": [
      "Cross-validation framework ready\n"
     ]
    }
   ],
   "source": [
    "# Cross-validation setup\n",
    "cv_folds = 5\n",
    "cv_strategy = KFold(n_splits=cv_folds, shuffle=True, random_state=RANDOM_STATE)\n",
    "\n",
    "def evaluate_model_cv(model, X, y, cv_strategy, model_name=\"Model\"):\n",
    "    \"\"\"\n",
    "    Evaluate model using cross-validation\n",
    "    \n",
    "    Returns comprehensive performance metrics including mean and std of RMSE\n",
    "    \"\"\"\n",
    "    print(f\"Evaluating {model_name}...\")\n",
    "    \n",
    "    # Perform cross-validation\n",
    "    cv_scores = cross_val_score(\n",
    "        model, X, y, \n",
    "        cv=cv_strategy, \n",
    "        scoring='neg_mean_squared_error',\n",
    "        n_jobs=-1\n",
    "    )\n",
    "    \n",
    "    # Convert to RMSE\n",
    "    cv_rmse_scores = np.sqrt(-cv_scores)\n",
    "    \n",
    "    results = {\n",
    "        'cv_rmse_scores': cv_rmse_scores,\n",
    "        'cv_rmse_mean': cv_rmse_scores.mean(),\n",
    "        'cv_rmse_std': cv_rmse_scores.std(),\n",
    "        'model': model\n",
    "    }\n",
    "    \n",
    "    print(f\"  RMSE: {results['cv_rmse_mean']:.4f} (+/- {results['cv_rmse_std']:.4f})\")\n",
    "    \n",
    "    return results\n",
    "\n",
    "print(\"Cross-validation framework ready\")"
   ]
  },
  {
   "cell_type": "markdown",
   "id": "44281bfd",
   "metadata": {},
   "source": [
    "The 5-fold cross-validation framework has been established with evaluation function that returns mean RMSE, standard deviation, and model objects.\n",
    "\n",
    "### 2.3 Baseline Model Evaluation\n",
    "Conduct baseline evaluations to establish initial performance benchmarks and identify the most promising algorithms for further tuning through systematic cross-validation."
   ]
  },
  {
   "cell_type": "code",
   "execution_count": 14,
   "id": "bbcfee57",
   "metadata": {},
   "outputs": [
    {
     "name": "stdout",
     "output_type": "stream",
     "text": [
      "\n",
      "================================================================================\n",
      "BASELINE MODEL EVALUATION\n",
      "================================================================================\n",
      "Evaluating Ridge...\n",
      "  RMSE: 0.1218 (+/- 0.0089)\n",
      "Evaluating Lasso...\n",
      "  RMSE: 0.3203 (+/- 0.0253)\n",
      "Evaluating ElasticNet...\n",
      "  RMSE: 0.3174 (+/- 0.0248)\n",
      "Evaluating RandomForest...\n",
      "  RMSE: 0.1418 (+/- 0.0095)\n",
      "Evaluating GradientBoosting...\n",
      "  RMSE: 0.1281 (+/- 0.0113)\n",
      "Evaluating XGBoost...\n",
      "  RMSE: 0.1419 (+/- 0.0082)\n",
      "Evaluating CatBoost...\n",
      "  RMSE: 0.1166 (+/- 0.0099)\n",
      "Evaluating LightGBM...\n",
      "  RMSE: 0.1309 (+/- 0.0088)\n",
      "\n",
      "Model           CV RMSE      CV Std    \n",
      "----------------------------------------\n",
      "CatBoost        0.1166       0.0099    \n",
      "Ridge           0.1218       0.0089    \n",
      "GradientBoosting 0.1281       0.0113    \n",
      "LightGBM        0.1309       0.0088    \n",
      "RandomForest    0.1418       0.0095    \n",
      "XGBoost         0.1419       0.0082    \n",
      "ElasticNet      0.3174       0.0248    \n",
      "Lasso           0.3203       0.0253    \n",
      "\n",
      "Best Baseline Model: CatBoost (RMSE: 0.1166)\n"
     ]
    }
   ],
   "source": [
    "print(\"\\n\" + \"=\"*80)\n",
    "print(\"BASELINE MODEL EVALUATION\")\n",
    "print(\"=\"*80)\n",
    "\n",
    "baseline_results = {}\n",
    "\n",
    "# Evaluate each baseline model\n",
    "for name, model in baseline_models.items():\n",
    "    try:\n",
    "        result = evaluate_model_cv(model, X_train_split, y_train, cv_strategy, name)\n",
    "        baseline_results[name] = result\n",
    "    except Exception as e:\n",
    "        print(f\"Error evaluating {name}: {str(e)}\")\n",
    "        continue\n",
    "\n",
    "# Display results in order of performance\n",
    "print(f\"\\n{'Model':<15} {'CV RMSE':<12} {'CV Std':<10}\")\n",
    "print(\"-\"*40)\n",
    "for name, result in sorted(baseline_results.items(), key=lambda x: x[1]['cv_rmse_mean']):\n",
    "    print(f\"{name:<15} {result['cv_rmse_mean']:<12.4f} {result['cv_rmse_std']:<10.4f}\")\n",
    "\n",
    "# Identify best baseline\n",
    "best_baseline = min(baseline_results.items(), key=lambda x: x[1]['cv_rmse_mean'])\n",
    "print(f\"\\nBest Baseline Model: {best_baseline[0]} (RMSE: {best_baseline[1]['cv_rmse_mean']:.4f})\")"
   ]
  },
  {
   "cell_type": "markdown",
   "id": "3bde5721",
   "metadata": {},
   "source": [
    "Completed baseline evaluation across 8 algorithms. The best performing baseline model achieved an RMSE of 0.1166 with CatBoos tdemonstrating the strongest initial performance. Performance spread ranged from 0.1166 to 0.3203, indicating significant algorithmic differences."
   ]
  },
  {
   "cell_type": "markdown",
   "id": "20dc72af",
   "metadata": {},
   "source": [
    "## 3. Hyperparameter Optimization\n",
    "Perform individual hyperparameter optimization for each model using Optuna's Bayesian optimization framework. Each model receives customized parameter spaces and trial counts based on complexity, allowing for model-specific optimization strategies and detailed progress tracking.\n",
    "\n",
    "### 3.1 Ridge Regression Optimization\n",
    "Optimize Ridge regression with focus on regularization parameter, using fewer trials due to the simple parameter space"
   ]
  },
  {
   "cell_type": "code",
   "execution_count": 15,
   "id": "8fae30ad",
   "metadata": {},
   "outputs": [
    {
     "name": "stderr",
     "output_type": "stream",
     "text": [
      "[I 2025-07-19 11:52:55,575] A new study created in memory with name: ridge_optimization\n"
     ]
    },
    {
     "name": "stdout",
     "output_type": "stream",
     "text": [
      "Optimizing Ridge...\n"
     ]
    },
    {
     "data": {
      "application/vnd.jupyter.widget-view+json": {
       "model_id": "99cc551fcbcc4c628062ce8ceeebbd6d",
       "version_major": 2,
       "version_minor": 0
      },
      "text/plain": [
       "  0%|          | 0/30 [00:00<?, ?it/s]"
      ]
     },
     "metadata": {},
     "output_type": "display_data"
    },
    {
     "name": "stdout",
     "output_type": "stream",
     "text": [
      "[I 2025-07-19 11:52:55,765] Trial 0 finished with value: 0.1288335238388583 and parameters: {'alpha': 0.03877169550708375}. Best is trial 0 with value: 0.1288335238388583.\n",
      "[I 2025-07-19 11:52:55,897] Trial 1 finished with value: 0.12703315319183872 and parameters: {'alpha': 0.0829745582675374}. Best is trial 1 with value: 0.12703315319183872.\n",
      "[I 2025-07-19 11:52:56,049] Trial 2 finished with value: 0.1352937200834769 and parameters: {'alpha': 0.0008319462606998547}. Best is trial 1 with value: 0.12703315319183872.\n",
      "[I 2025-07-19 11:52:56,187] Trial 3 finished with value: 0.12282637657902865 and parameters: {'alpha': 0.6841590830557553}. Best is trial 3 with value: 0.12282637657902865.\n",
      "[I 2025-07-19 11:52:56,340] Trial 4 finished with value: 0.13499000948545936 and parameters: {'alpha': 0.0014564509828803773}. Best is trial 3 with value: 0.12282637657902865.\n",
      "[I 2025-07-19 11:52:56,488] Trial 5 finished with value: 0.13405603607236527 and parameters: {'alpha': 0.0036747265201367767}. Best is trial 3 with value: 0.12282637657902865.\n",
      "[I 2025-07-19 11:52:56,658] Trial 6 finished with value: 0.13367749924896455 and parameters: {'alpha': 0.0047278929603585575}. Best is trial 3 with value: 0.12282637657902865.\n",
      "[I 2025-07-19 11:52:56,802] Trial 7 finished with value: 0.12615717338541269 and parameters: {'alpha': 0.12395253445802984}. Best is trial 3 with value: 0.12282637657902865.\n",
      "[I 2025-07-19 11:52:56,931] Trial 8 finished with value: 0.1356658275079731 and parameters: {'alpha': 0.00012094810495882036}. Best is trial 3 with value: 0.12282637657902865.\n",
      "[I 2025-07-19 11:52:57,063] Trial 9 finished with value: 0.12877146489155292 and parameters: {'alpha': 0.0397531439339508}. Best is trial 3 with value: 0.12282637657902865.\n",
      "[I 2025-07-19 11:52:57,195] Trial 10 finished with value: 0.12296373012194729 and parameters: {'alpha': 0.6343742096767477}. Best is trial 3 with value: 0.12282637657902865.\n",
      "[I 2025-07-19 11:52:57,330] Trial 11 finished with value: 0.12244645014820299 and parameters: {'alpha': 0.8447385354660831}. Best is trial 11 with value: 0.12244645014820299.\n",
      "[I 2025-07-19 11:52:57,464] Trial 12 finished with value: 0.12215459040263062 and parameters: {'alpha': 0.9953273310553048}. Best is trial 12 with value: 0.12215459040263062.\n",
      "[I 2025-07-19 11:52:57,597] Trial 13 finished with value: 0.1223138464918373 and parameters: {'alpha': 0.9098738612004739}. Best is trial 12 with value: 0.12215459040263062.\n",
      "[I 2025-07-19 11:52:57,730] Trial 14 finished with value: 0.12531543227936603 and parameters: {'alpha': 0.18587960184109698}. Best is trial 12 with value: 0.12215459040263062.\n",
      "[I 2025-07-19 11:52:57,864] Trial 15 finished with value: 0.12504907421269307 and parameters: {'alpha': 0.2121236977210883}. Best is trial 12 with value: 0.12215459040263062.\n",
      "[I 2025-07-19 11:52:57,996] Trial 16 finished with value: 0.13066175180340014 and parameters: {'alpha': 0.018891066673078938}. Best is trial 12 with value: 0.12215459040263062.\n",
      "[I 2025-07-19 11:52:58,127] Trial 17 finished with value: 0.12420736008466801 and parameters: {'alpha': 0.32589099490967527}. Best is trial 12 with value: 0.12215459040263062.\n",
      "[I 2025-07-19 11:52:58,261] Trial 18 finished with value: 0.12215606210805648 and parameters: {'alpha': 0.9944989506179277}. Best is trial 12 with value: 0.12215459040263062.\n",
      "[I 2025-07-19 11:52:58,397] Trial 19 finished with value: 0.1278292643611531 and parameters: {'alpha': 0.058682604756460977}. Best is trial 12 with value: 0.12215459040263062.\n",
      "[I 2025-07-19 11:52:58,530] Trial 20 finished with value: 0.13143194847491285 and parameters: {'alpha': 0.013893917486845824}. Best is trial 12 with value: 0.12215459040263062.\n",
      "[I 2025-07-19 11:52:58,663] Trial 21 finished with value: 0.12376070959197402 and parameters: {'alpha': 0.41228952935138535}. Best is trial 12 with value: 0.12215459040263062.\n",
      "[I 2025-07-19 11:52:58,800] Trial 22 finished with value: 0.12250711602741843 and parameters: {'alpha': 0.8166178242362603}. Best is trial 12 with value: 0.12215459040263062.\n",
      "[I 2025-07-19 11:52:58,932] Trial 23 finished with value: 0.12471258698264784 and parameters: {'alpha': 0.2512965421685433}. Best is trial 12 with value: 0.12215459040263062.\n",
      "[I 2025-07-19 11:52:59,060] Trial 24 finished with value: 0.1237615504665683 and parameters: {'alpha': 0.41210516156138277}. Best is trial 12 with value: 0.12215459040263062.\n",
      "[I 2025-07-19 11:52:59,193] Trial 25 finished with value: 0.12637777349975063 and parameters: {'alpha': 0.11181316936345723}. Best is trial 12 with value: 0.12215459040263062.\n",
      "[I 2025-07-19 11:52:59,328] Trial 26 finished with value: 0.13567101570551457 and parameters: {'alpha': 0.00011142682086963285}. Best is trial 12 with value: 0.12215459040263062.\n",
      "[I 2025-07-19 11:52:59,471] Trial 27 finished with value: 0.12217218398106038 and parameters: {'alpha': 0.9854733469386684}. Best is trial 12 with value: 0.12215459040263062.\n",
      "[I 2025-07-19 11:52:59,605] Trial 28 finished with value: 0.1237198262700487 and parameters: {'alpha': 0.4213621592372232}. Best is trial 12 with value: 0.12215459040263062.\n",
      "[I 2025-07-19 11:52:59,740] Trial 29 finished with value: 0.1292682656091467 and parameters: {'alpha': 0.03260039935223131}. Best is trial 12 with value: 0.12215459040263062.\n",
      "Best Ridge RMSE: 0.1222\n",
      "Evaluating Ridge_Optimized...\n",
      "  RMSE: 0.1218 (+/- 0.0089)\n",
      "  Baseline RMSE (CV): 0.1218\n",
      "  Optimized RMSE (Optuna): 0.1222\n",
      "  Optimized RMSE (CV eval): 0.1218\n",
      "  Improvement (baseline CV vs optimized CV): -0.0000\n"
     ]
    }
   ],
   "source": [
    "def objective_ridge(trial):\n",
    "    \"\"\"Objective function for Ridge hyperparameter optimization\"\"\"\n",
    "    alpha = trial.suggest_float('alpha', 1e-4, 1.0, log=True)\n",
    "    model = Ridge(alpha=alpha, random_state=RANDOM_STATE)\n",
    "    \n",
    "    cv_scores = cross_val_score(model, X_train_split, y_train, cv=cv_strategy,\n",
    "                                scoring='neg_mean_squared_error', n_jobs=-1)\n",
    "    return np.sqrt(-cv_scores.mean())\n",
    "\n",
    "print(\"Optimizing Ridge...\")\n",
    "study_ridge = optuna.create_study(direction='minimize', study_name='ridge_optimization')\n",
    "study_ridge.optimize(objective_ridge, n_trials=30, show_progress_bar=True)\n",
    "\n",
    "print(f\"Best Ridge RMSE: {study_ridge.best_value:.4f}\")\n",
    "best_ridge_params = study_ridge.best_params\n",
    "best_ridge = Ridge(**best_ridge_params, random_state=RANDOM_STATE)\n",
    "ridge_result = evaluate_model_cv(best_ridge, X_train_split, y_train, cv_strategy, \"Ridge_Optimized\")\n",
    "ridge_result['best_params'] = best_ridge_params\n",
    "\n",
    "print(f\"  Baseline RMSE (CV): {baseline_results['Ridge']['cv_rmse_mean']:.4f}\")\n",
    "print(f\"  Optimized RMSE (Optuna): {study_ridge.best_value:.4f}\")\n",
    "print(f\"  Optimized RMSE (CV eval): {ridge_result['cv_rmse_mean']:.4f}\")\n",
    "improvement = baseline_results['Ridge']['cv_rmse_mean'] - ridge_result['cv_rmse_mean']\n",
    "print(f\"  Improvement (baseline CV vs optimized CV): {improvement:.4f}\")"
   ]
  },
  {
   "cell_type": "markdown",
   "id": "3230a782",
   "metadata": {},
   "source": [
    "Minimal or no improvement from hyperparameter optimization; baseline Ridge model already performs close to optimal under cross-validation.\n",
    "\n",
    "### 3.2 Lasso Regression Optimization\n",
    "Optimize Lasso regression with regularization parameter tuning for feature selection capabilities."
   ]
  },
  {
   "cell_type": "code",
   "execution_count": 16,
   "id": "3f930764",
   "metadata": {},
   "outputs": [
    {
     "name": "stderr",
     "output_type": "stream",
     "text": [
      "[I 2025-07-19 11:52:59,883] A new study created in memory with name: lasso_optimization\n"
     ]
    },
    {
     "name": "stdout",
     "output_type": "stream",
     "text": [
      "\n",
      "Optimizing Lasso...\n"
     ]
    },
    {
     "data": {
      "application/vnd.jupyter.widget-view+json": {
       "model_id": "91807c977159407d979fbba11cf5937f",
       "version_major": 2,
       "version_minor": 0
      },
      "text/plain": [
       "  0%|          | 0/30 [00:00<?, ?it/s]"
      ]
     },
     "metadata": {},
     "output_type": "display_data"
    },
    {
     "name": "stdout",
     "output_type": "stream",
     "text": [
      "[I 2025-07-19 11:53:00,015] Trial 0 finished with value: 0.3187043462388926 and parameters: {'alpha': 0.5736622715489464}. Best is trial 0 with value: 0.3187043462388926.\n",
      "[I 2025-07-19 11:53:00,153] Trial 1 finished with value: 0.31960003168188655 and parameters: {'alpha': 0.7467750492600148}. Best is trial 0 with value: 0.3187043462388926.\n",
      "[I 2025-07-19 11:53:00,309] Trial 2 finished with value: 0.1903702990828431 and parameters: {'alpha': 0.046391454764701745}. Best is trial 2 with value: 0.1903702990828431.\n",
      "[I 2025-07-19 11:53:00,461] Trial 3 finished with value: 0.1721399339028291 and parameters: {'alpha': 0.02824119999954207}. Best is trial 3 with value: 0.1721399339028291.\n",
      "[I 2025-07-19 11:53:00,635] Trial 4 finished with value: 0.14350294373775094 and parameters: {'alpha': 0.008753215807430622}. Best is trial 4 with value: 0.14350294373775094.\n",
      "[I 2025-07-19 11:53:00,814] Trial 5 finished with value: 0.1282451341805949 and parameters: {'alpha': 0.002545123640138345}. Best is trial 5 with value: 0.1282451341805949.\n",
      "[I 2025-07-19 11:53:00,989] Trial 6 finished with value: 0.12047434133658119 and parameters: {'alpha': 0.0012213471767884812}. Best is trial 6 with value: 0.12047434133658119.\n",
      "[I 2025-07-19 11:53:01,164] Trial 7 finished with value: 0.15341025304943573 and parameters: {'alpha': 0.014228091641846814}. Best is trial 6 with value: 0.12047434133658119.\n",
      "[I 2025-07-19 11:53:01,293] Trial 8 finished with value: 0.3183123038232239 and parameters: {'alpha': 0.47888072344991617}. Best is trial 6 with value: 0.12047434133658119.\n",
      "[I 2025-07-19 11:53:01,448] Trial 9 finished with value: 0.160478042186565 and parameters: {'alpha': 0.017756221228028588}. Best is trial 6 with value: 0.12047434133658119.\n",
      "[I 2025-07-19 11:53:01,673] Trial 10 finished with value: 0.12106621257053553 and parameters: {'alpha': 0.00010505887457699307}. Best is trial 6 with value: 0.12047434133658119.\n",
      "[I 2025-07-19 11:53:01,885] Trial 11 finished with value: 0.12120502366003247 and parameters: {'alpha': 0.00010026869188313607}. Best is trial 6 with value: 0.12047434133658119.\n",
      "[I 2025-07-19 11:53:02,063] Trial 12 finished with value: 0.1200869483921599 and parameters: {'alpha': 0.0001473319833531163}. Best is trial 12 with value: 0.1200869483921599.\n",
      "[I 2025-07-19 11:53:02,331] Trial 13 finished with value: 0.11775375282140846 and parameters: {'alpha': 0.0005111967109438194}. Best is trial 13 with value: 0.11775375282140846.\n",
      "[I 2025-07-19 11:53:02,524] Trial 14 finished with value: 0.11778159097791203 and parameters: {'alpha': 0.0005377862262881508}. Best is trial 13 with value: 0.11775375282140846.\n",
      "[I 2025-07-19 11:53:02,730] Trial 15 finished with value: 0.11802122465532448 and parameters: {'alpha': 0.0005983920128578046}. Best is trial 13 with value: 0.11775375282140846.\n",
      "[I 2025-07-19 11:53:02,981] Trial 16 finished with value: 0.11775570712420624 and parameters: {'alpha': 0.0005145352095450406}. Best is trial 13 with value: 0.11775375282140846.\n",
      "[I 2025-07-19 11:53:03,163] Trial 17 finished with value: 0.12765467008419046 and parameters: {'alpha': 0.00242610962629484}. Best is trial 13 with value: 0.11775375282140846.\n",
      "[I 2025-07-19 11:53:03,357] Trial 18 finished with value: 0.11874485276633469 and parameters: {'alpha': 0.0002713459039195904}. Best is trial 13 with value: 0.11775375282140846.\n",
      "[I 2025-07-19 11:53:03,538] Trial 19 finished with value: 0.13471665955623957 and parameters: {'alpha': 0.0042714179343815275}. Best is trial 13 with value: 0.11775375282140846.\n",
      "[I 2025-07-19 11:53:03,733] Trial 20 finished with value: 0.11790502953705145 and parameters: {'alpha': 0.0005765450989453041}. Best is trial 13 with value: 0.11775375282140846.\n",
      "[I 2025-07-19 11:53:03,922] Trial 21 finished with value: 0.11786495622173747 and parameters: {'alpha': 0.0005680240220436215}. Best is trial 13 with value: 0.11775375282140846.\n",
      "[I 2025-07-19 11:53:04,131] Trial 22 finished with value: 0.11850222666594039 and parameters: {'alpha': 0.0002959120127861462}. Best is trial 13 with value: 0.11775375282140846.\n",
      "[I 2025-07-19 11:53:04,313] Trial 23 finished with value: 0.1218435019717288 and parameters: {'alpha': 0.0014813733816943981}. Best is trial 13 with value: 0.11775375282140846.\n",
      "[I 2025-07-19 11:53:04,447] Trial 24 finished with value: 0.2195212953334858 and parameters: {'alpha': 0.10672210212430473}. Best is trial 13 with value: 0.11775375282140846.\n",
      "[I 2025-07-19 11:53:04,655] Trial 25 finished with value: 0.11850881329596366 and parameters: {'alpha': 0.0002950652672150388}. Best is trial 13 with value: 0.11775375282140846.\n",
      "[I 2025-07-19 11:53:04,873] Trial 26 finished with value: 0.11922035214189394 and parameters: {'alpha': 0.0009423763931319627}. Best is trial 13 with value: 0.11775375282140846.\n",
      "[I 2025-07-19 11:53:05,063] Trial 27 finished with value: 0.1362394341573735 and parameters: {'alpha': 0.005014845966068576}. Best is trial 13 with value: 0.11775375282140846.\n",
      "[I 2025-07-19 11:53:05,241] Trial 28 finished with value: 0.11924305177313929 and parameters: {'alpha': 0.00022100501648935955}. Best is trial 13 with value: 0.11775375282140846.\n",
      "[I 2025-07-19 11:53:05,423] Trial 29 finished with value: 0.12435670333240863 and parameters: {'alpha': 0.0018842632957294814}. Best is trial 13 with value: 0.11775375282140846.\n",
      "Best Lasso RMSE: 0.1178\n",
      "Evaluating Lasso_Optimized...\n",
      "  RMSE: 0.1175 (+/- 0.0082)\n",
      "  Baseline RMSE (CV): 0.3203\n",
      "  Optimized RMSE (Optuna): 0.1178\n",
      "  Optimized RMSE (CV eval): 0.1175\n",
      "  Improvement (baseline CV vs optimized CV): 0.2029\n"
     ]
    }
   ],
   "source": [
    "def objective_lasso(trial):\n",
    "    \"\"\"Objective function for Lasso hyperparameter optimization\"\"\"\n",
    "    alpha = trial.suggest_float('alpha', 1e-4, 1.0, log=True)\n",
    "    model = Lasso(alpha=alpha, random_state=RANDOM_STATE, max_iter=3000)\n",
    "    \n",
    "    cv_scores = cross_val_score(model, X_train_split, y_train, cv=cv_strategy,\n",
    "                                scoring='neg_mean_squared_error', n_jobs=-1)\n",
    "    return np.sqrt(-cv_scores.mean())\n",
    "\n",
    "print(\"\\nOptimizing Lasso...\")\n",
    "study_lasso = optuna.create_study(direction='minimize', study_name='lasso_optimization')\n",
    "study_lasso.optimize(objective_lasso, n_trials=30, show_progress_bar=True)\n",
    "\n",
    "print(f\"Best Lasso RMSE: {study_lasso.best_value:.4f}\")\n",
    "best_lasso_params = study_lasso.best_params\n",
    "best_lasso = Lasso(**best_lasso_params, random_state=RANDOM_STATE, max_iter=3000)\n",
    "lasso_result = evaluate_model_cv(best_lasso, X_train_split, y_train, cv_strategy, \"Lasso_Optimized\")\n",
    "lasso_result['best_params'] = best_lasso_params\n",
    "\n",
    "print(f\"  Baseline RMSE (CV): {baseline_results['Lasso']['cv_rmse_mean']:.4f}\")\n",
    "print(f\"  Optimized RMSE (Optuna): {study_lasso.best_value:.4f}\")\n",
    "print(f\"  Optimized RMSE (CV eval): {lasso_result['cv_rmse_mean']:.4f}\")\n",
    "improvement = baseline_results['Lasso']['cv_rmse_mean'] - lasso_result['cv_rmse_mean']\n",
    "print(f\"  Improvement (baseline CV vs optimized CV): {improvement:.4f}\")"
   ]
  },
  {
   "cell_type": "markdown",
   "id": "a3685f84",
   "metadata": {},
   "source": [
    "Large performance gain after tuning. Lasso benefits considerably from optimization, reducing RMSE by over 0.20.\n",
    "\n",
    "### 3.3 ElasticNet Optimization\n",
    "Optimize ElasticNet with both regularization strength and L1/L2 ratio parameters."
   ]
  },
  {
   "cell_type": "code",
   "execution_count": 17,
   "id": "d470a43e",
   "metadata": {},
   "outputs": [
    {
     "name": "stderr",
     "output_type": "stream",
     "text": [
      "[I 2025-07-19 11:53:05,702] A new study created in memory with name: elasticnet_optimization\n"
     ]
    },
    {
     "name": "stdout",
     "output_type": "stream",
     "text": [
      "\n",
      "Optimizing ElasticNet...\n"
     ]
    },
    {
     "data": {
      "application/vnd.jupyter.widget-view+json": {
       "model_id": "ba133b66f35a469ab95b3cf2d19ff1f4",
       "version_major": 2,
       "version_minor": 0
      },
      "text/plain": [
       "  0%|          | 0/30 [00:00<?, ?it/s]"
      ]
     },
     "metadata": {},
     "output_type": "display_data"
    },
    {
     "name": "stdout",
     "output_type": "stream",
     "text": [
      "[I 2025-07-19 11:53:05,865] Trial 0 finished with value: 0.2231152562110831 and parameters: {'alpha': 0.16304075849671976, 'l1_ratio': 0.682305909683625}. Best is trial 0 with value: 0.2231152562110831.\n",
      "[I 2025-07-19 11:53:06,222] Trial 1 finished with value: 0.122599087595005 and parameters: {'alpha': 0.00024198204022935467, 'l1_ratio': 0.18384310932288184}. Best is trial 1 with value: 0.122599087595005.\n",
      "[I 2025-07-19 11:53:06,363] Trial 2 finished with value: 0.13689184222453088 and parameters: {'alpha': 0.01809411409813498, 'l1_ratio': 0.24166801556564207}. Best is trial 1 with value: 0.122599087595005.\n",
      "[I 2025-07-19 11:53:06,622] Trial 3 finished with value: 0.11899954827737994 and parameters: {'alpha': 0.0003921195812258777, 'l1_ratio': 0.6054284202960333}. Best is trial 3 with value: 0.11899954827737994.\n",
      "[I 2025-07-19 11:53:06,765] Trial 4 finished with value: 0.13030221082276566 and parameters: {'alpha': 0.008302910722939167, 'l1_ratio': 0.3231818142508976}. Best is trial 3 with value: 0.11899954827737994.\n",
      "[I 2025-07-19 11:53:07,155] Trial 5 finished with value: 0.12364123410193516 and parameters: {'alpha': 0.00010509411104886208, 'l1_ratio': 0.33913685840157104}. Best is trial 3 with value: 0.11899954827737994.\n",
      "[I 2025-07-19 11:53:07,301] Trial 6 finished with value: 0.14673963003339535 and parameters: {'alpha': 0.012577388443347187, 'l1_ratio': 0.8301779792082087}. Best is trial 3 with value: 0.11899954827737994.\n",
      "[I 2025-07-19 11:53:07,430] Trial 7 finished with value: 0.17486909335023806 and parameters: {'alpha': 0.035211796018332873, 'l1_ratio': 0.8771556978294622}. Best is trial 3 with value: 0.11899954827737994.\n",
      "[I 2025-07-19 11:53:07,560] Trial 8 finished with value: 0.22424681081435 and parameters: {'alpha': 0.16966027917278184, 'l1_ratio': 0.667693975723413}. Best is trial 3 with value: 0.11899954827737994.\n",
      "[I 2025-07-19 11:53:08,007] Trial 9 finished with value: 0.12405288838364403 and parameters: {'alpha': 0.000100739417052107, 'l1_ratio': 0.2843570180897725}. Best is trial 3 with value: 0.11899954827737994.\n",
      "[I 2025-07-19 11:53:08,188] Trial 10 finished with value: 0.11920112124018689 and parameters: {'alpha': 0.0015532008421001566, 'l1_ratio': 0.5345925509218961}. Best is trial 3 with value: 0.11899954827737994.\n",
      "[I 2025-07-19 11:53:08,361] Trial 11 finished with value: 0.11812069180527554 and parameters: {'alpha': 0.0010801685733228547, 'l1_ratio': 0.5182305996205891}. Best is trial 11 with value: 0.11812069180527554.\n",
      "[I 2025-07-19 11:53:08,547] Trial 12 finished with value: 0.11803383048833789 and parameters: {'alpha': 0.0010958126337019252, 'l1_ratio': 0.47881899163334574}. Best is trial 12 with value: 0.11803383048833789.\n",
      "[I 2025-07-19 11:53:08,708] Trial 13 finished with value: 0.11947388368565572 and parameters: {'alpha': 0.001881602189787213, 'l1_ratio': 0.4725893998240443}. Best is trial 12 with value: 0.11803383048833789.\n",
      "[I 2025-07-19 11:53:08,880] Trial 14 finished with value: 0.11910687111200739 and parameters: {'alpha': 0.0016513725895609386, 'l1_ratio': 0.4740676389025355}. Best is trial 12 with value: 0.11803383048833789.\n",
      "[I 2025-07-19 11:53:09,077] Trial 15 finished with value: 0.11835153948181854 and parameters: {'alpha': 0.0007500847530773036, 'l1_ratio': 0.41432796049887377}. Best is trial 12 with value: 0.11803383048833789.\n",
      "[I 2025-07-19 11:53:09,222] Trial 16 finished with value: 0.13359477551179108 and parameters: {'alpha': 0.004807785045605585, 'l1_ratio': 0.7730213586219494}. Best is trial 12 with value: 0.11803383048833789.\n",
      "[I 2025-07-19 11:53:09,380] Trial 17 finished with value: 0.11861058928715668 and parameters: {'alpha': 0.0036528313797887283, 'l1_ratio': 0.1001241544165345}. Best is trial 12 with value: 0.11803383048833789.\n",
      "[I 2025-07-19 11:53:09,513] Trial 18 finished with value: 0.3183907335210609 and parameters: {'alpha': 0.8803229084475338, 'l1_ratio': 0.5631343524303489}. Best is trial 12 with value: 0.11803383048833789.\n",
      "[I 2025-07-19 11:53:09,760] Trial 19 finished with value: 0.11968150368788305 and parameters: {'alpha': 0.00040410065486438837, 'l1_ratio': 0.39716193635332075}. Best is trial 12 with value: 0.11803383048833789.\n",
      "[I 2025-07-19 11:53:09,956] Trial 20 finished with value: 0.11790295231588525 and parameters: {'alpha': 0.0008080675843708771, 'l1_ratio': 0.6517572093936597}. Best is trial 20 with value: 0.11790295231588525.\n",
      "[I 2025-07-19 11:53:10,151] Trial 21 finished with value: 0.11815122167022023 and parameters: {'alpha': 0.0009069126702958608, 'l1_ratio': 0.6489381706311076}. Best is trial 20 with value: 0.11790295231588525.\n",
      "[I 2025-07-19 11:53:10,298] Trial 22 finished with value: 0.12824626255054647 and parameters: {'alpha': 0.0034360126628876107, 'l1_ratio': 0.7192582972234864}. Best is trial 20 with value: 0.11790295231588525.\n",
      "[I 2025-07-19 11:53:10,497] Trial 23 finished with value: 0.11795351479133759 and parameters: {'alpha': 0.0007896384316405533, 'l1_ratio': 0.538671382889501}. Best is trial 20 with value: 0.11790295231588525.\n",
      "[I 2025-07-19 11:53:10,752] Trial 24 finished with value: 0.11986120831847404 and parameters: {'alpha': 0.00026471151321429186, 'l1_ratio': 0.58468157800494}. Best is trial 20 with value: 0.11790295231588525.\n",
      "[I 2025-07-19 11:53:10,963] Trial 25 finished with value: 0.11870506338129869 and parameters: {'alpha': 0.0006288052943541733, 'l1_ratio': 0.4247919765071606}. Best is trial 20 with value: 0.11790295231588525.\n",
      "[I 2025-07-19 11:53:11,218] Trial 26 finished with value: 0.11977623080246247 and parameters: {'alpha': 0.00021217770341094012, 'l1_ratio': 0.7736644077898271}. Best is trial 20 with value: 0.11790295231588525.\n",
      "[I 2025-07-19 11:53:11,380] Trial 27 finished with value: 0.12397247675600948 and parameters: {'alpha': 0.002807332928983412, 'l1_ratio': 0.6234978866932767}. Best is trial 20 with value: 0.11790295231588525.\n",
      "[I 2025-07-19 11:53:11,519] Trial 28 finished with value: 0.15984291904443212 and parameters: {'alpha': 0.03646397400550986, 'l1_ratio': 0.46947058053748403}. Best is trial 20 with value: 0.11790295231588525.\n",
      "[I 2025-07-19 11:53:11,729] Trial 29 finished with value: 0.11801541945060268 and parameters: {'alpha': 0.000536483881024518, 'l1_ratio': 0.6998973219343794}. Best is trial 20 with value: 0.11790295231588525.\n",
      "Best ElasticNet RMSE: 0.1179\n",
      "Evaluating ElasticNet_Optimized...\n",
      "  RMSE: 0.1176 (+/- 0.0083)\n",
      "  Baseline RMSE (CV): 0.3174\n",
      "  Optimized RMSE (Optuna): 0.1179\n",
      "  Optimized RMSE (CV eval): 0.1176\n",
      "  Improvement (baseline CV vs optimized CV): 0.1998\n"
     ]
    }
   ],
   "source": [
    "def objective_elasticnet(trial):\n",
    "    \"\"\"Objective function for ElasticNet hyperparameter optimization\"\"\"\n",
    "    alpha = trial.suggest_float('alpha', 1e-4, 1.0, log=True)\n",
    "    l1_ratio = trial.suggest_float('l1_ratio', 0.1, 0.9)\n",
    "    model = ElasticNet(alpha=alpha, l1_ratio=l1_ratio, random_state=RANDOM_STATE, max_iter=3000)\n",
    "    \n",
    "    cv_scores = cross_val_score(model, X_train_split, y_train, cv=cv_strategy,\n",
    "                                scoring='neg_mean_squared_error', n_jobs=-1)\n",
    "    return np.sqrt(-cv_scores.mean())\n",
    "\n",
    "print(\"\\nOptimizing ElasticNet...\")\n",
    "study_elasticnet = optuna.create_study(direction='minimize', study_name='elasticnet_optimization')\n",
    "study_elasticnet.optimize(objective_elasticnet, n_trials=30, show_progress_bar=True)\n",
    "\n",
    "print(f\"Best ElasticNet RMSE: {study_elasticnet.best_value:.4f}\")\n",
    "best_elasticnet_params = study_elasticnet.best_params\n",
    "best_elasticnet = ElasticNet(**best_elasticnet_params, random_state=RANDOM_STATE, max_iter=3000)\n",
    "elasticnet_result = evaluate_model_cv(best_elasticnet, X_train_split, y_train, cv_strategy, \"ElasticNet_Optimized\")\n",
    "elasticnet_result['best_params'] = best_elasticnet_params\n",
    "\n",
    "print(f\"  Baseline RMSE (CV): {baseline_results['ElasticNet']['cv_rmse_mean']:.4f}\")\n",
    "print(f\"  Optimized RMSE (Optuna): {study_elasticnet.best_value:.4f}\")\n",
    "print(f\"  Optimized RMSE (CV eval): {elasticnet_result['cv_rmse_mean']:.4f}\")\n",
    "improvement = baseline_results['ElasticNet']['cv_rmse_mean'] - elasticnet_result['cv_rmse_mean']\n",
    "print(f\"  Improvement (baseline CV vs optimized CV): {improvement:.4f}\")"
   ]
  },
  {
   "cell_type": "markdown",
   "id": "35bbce8e",
   "metadata": {},
   "source": [
    "The RMSE improved from 0.3174 (baseline cross-validation) to 0.1175 (optimized model evaluated via cross-validation), indicating a performance gain of 0.1999. This suggests that the initial model benefited substantially from hyperparameter tuning.\n",
    "\n",
    "### 3.4 Random Forest Optimization\n",
    "Optimize Random Forest with tree-specific parameters and ensemble size tuning."
   ]
  },
  {
   "cell_type": "code",
   "execution_count": 18,
   "id": "0fe3e120",
   "metadata": {},
   "outputs": [
    {
     "name": "stderr",
     "output_type": "stream",
     "text": [
      "[I 2025-07-19 11:53:11,936] A new study created in memory with name: rf_optimization\n"
     ]
    },
    {
     "name": "stdout",
     "output_type": "stream",
     "text": [
      "\n",
      "Optimizing Random Forest...\n"
     ]
    },
    {
     "data": {
      "application/vnd.jupyter.widget-view+json": {
       "model_id": "8d40727a3ffa4de393e452f50bfbb949",
       "version_major": 2,
       "version_minor": 0
      },
      "text/plain": [
       "  0%|          | 0/50 [00:00<?, ?it/s]"
      ]
     },
     "metadata": {},
     "output_type": "display_data"
    },
    {
     "name": "stdout",
     "output_type": "stream",
     "text": [
      "[I 2025-07-19 11:53:13,461] Trial 0 finished with value: 0.14785717594124462 and parameters: {'n_estimators': 366, 'max_depth': 19, 'min_samples_split': 18, 'min_samples_leaf': 3, 'max_features': None}. Best is trial 0 with value: 0.14785717594124462.\n",
      "[I 2025-07-19 11:53:14,382] Trial 1 finished with value: 0.1876362467787229 and parameters: {'n_estimators': 374, 'max_depth': 13, 'min_samples_split': 16, 'min_samples_leaf': 10, 'max_features': 'log2'}. Best is trial 0 with value: 0.14785717594124462.\n",
      "[I 2025-07-19 11:53:16,460] Trial 2 finished with value: 0.14398059400244834 and parameters: {'n_estimators': 427, 'max_depth': 16, 'min_samples_split': 11, 'min_samples_leaf': 1, 'max_features': None}. Best is trial 2 with value: 0.14398059400244834.\n",
      "[I 2025-07-19 11:53:17,080] Trial 3 finished with value: 0.14931976109082282 and parameters: {'n_estimators': 146, 'max_depth': 20, 'min_samples_split': 15, 'min_samples_leaf': 7, 'max_features': None}. Best is trial 2 with value: 0.14398059400244834.\n",
      "[I 2025-07-19 11:53:17,396] Trial 4 finished with value: 0.152977936839877 and parameters: {'n_estimators': 101, 'max_depth': 14, 'min_samples_split': 7, 'min_samples_leaf': 4, 'max_features': 'sqrt'}. Best is trial 2 with value: 0.14398059400244834.\n",
      "[I 2025-07-19 11:53:18,064] Trial 5 finished with value: 0.1569411087569562 and parameters: {'n_estimators': 296, 'max_depth': 11, 'min_samples_split': 5, 'min_samples_leaf': 6, 'max_features': 'sqrt'}. Best is trial 2 with value: 0.14398059400244834.\n",
      "[I 2025-07-19 11:53:18,877] Trial 6 finished with value: 0.20187181189102607 and parameters: {'n_estimators': 377, 'max_depth': 5, 'min_samples_split': 2, 'min_samples_leaf': 10, 'max_features': 'log2'}. Best is trial 2 with value: 0.14398059400244834.\n",
      "[I 2025-07-19 11:53:19,445] Trial 7 finished with value: 0.14772587614861857 and parameters: {'n_estimators': 255, 'max_depth': 20, 'min_samples_split': 2, 'min_samples_leaf': 3, 'max_features': 'sqrt'}. Best is trial 2 with value: 0.14398059400244834.\n",
      "[I 2025-07-19 11:53:20,473] Trial 8 finished with value: 0.14158571949211873 and parameters: {'n_estimators': 467, 'max_depth': 13, 'min_samples_split': 3, 'min_samples_leaf': 1, 'max_features': 'sqrt'}. Best is trial 8 with value: 0.14158571949211873.\n",
      "[I 2025-07-19 11:53:20,827] Trial 9 finished with value: 0.15266062665550997 and parameters: {'n_estimators': 120, 'max_depth': 18, 'min_samples_split': 19, 'min_samples_leaf': 1, 'max_features': 'sqrt'}. Best is trial 8 with value: 0.14158571949211873.\n",
      "[I 2025-07-19 11:53:21,853] Trial 10 finished with value: 0.16189203138020153 and parameters: {'n_estimators': 488, 'max_depth': 9, 'min_samples_split': 10, 'min_samples_leaf': 8, 'max_features': 'sqrt'}. Best is trial 8 with value: 0.14158571949211873.\n",
      "[I 2025-07-19 11:53:23,919] Trial 11 finished with value: 0.1445121057380477 and parameters: {'n_estimators': 478, 'max_depth': 16, 'min_samples_split': 12, 'min_samples_leaf': 1, 'max_features': None}. Best is trial 8 with value: 0.14158571949211873.\n",
      "[I 2025-07-19 11:53:25,901] Trial 12 finished with value: 0.14312488772981016 and parameters: {'n_estimators': 429, 'max_depth': 16, 'min_samples_split': 9, 'min_samples_leaf': 1, 'max_features': None}. Best is trial 8 with value: 0.14158571949211873.\n",
      "[I 2025-07-19 11:53:27,767] Trial 13 finished with value: 0.143156060821068 and parameters: {'n_estimators': 427, 'max_depth': 11, 'min_samples_split': 7, 'min_samples_leaf': 3, 'max_features': None}. Best is trial 8 with value: 0.14158571949211873.\n",
      "[I 2025-07-19 11:53:28,713] Trial 14 finished with value: 0.17656273875606016 and parameters: {'n_estimators': 439, 'max_depth': 8, 'min_samples_split': 5, 'min_samples_leaf': 5, 'max_features': 'log2'}. Best is trial 8 with value: 0.14158571949211873.\n",
      "[I 2025-07-19 11:53:29,309] Trial 15 finished with value: 0.14685405088932416 and parameters: {'n_estimators': 227, 'max_depth': 16, 'min_samples_split': 8, 'min_samples_leaf': 2, 'max_features': 'sqrt'}. Best is trial 8 with value: 0.14158571949211873.\n",
      "[I 2025-07-19 11:53:30,750] Trial 16 finished with value: 0.14473348919204582 and parameters: {'n_estimators': 331, 'max_depth': 14, 'min_samples_split': 13, 'min_samples_leaf': 2, 'max_features': None}. Best is trial 8 with value: 0.14158571949211873.\n",
      "[I 2025-07-19 11:53:31,805] Trial 17 finished with value: 0.15409423192157773 and parameters: {'n_estimators': 498, 'max_depth': 17, 'min_samples_split': 4, 'min_samples_leaf': 5, 'max_features': 'sqrt'}. Best is trial 8 with value: 0.14158571949211873.\n",
      "[I 2025-07-19 11:53:33,690] Trial 18 finished with value: 0.14343414934841783 and parameters: {'n_estimators': 445, 'max_depth': 10, 'min_samples_split': 9, 'min_samples_leaf': 2, 'max_features': None}. Best is trial 8 with value: 0.14158571949211873.\n",
      "[I 2025-07-19 11:53:34,563] Trial 19 finished with value: 0.16840702260337923 and parameters: {'n_estimators': 399, 'max_depth': 14, 'min_samples_split': 5, 'min_samples_leaf': 4, 'max_features': 'log2'}. Best is trial 8 with value: 0.14158571949211873.\n",
      "[I 2025-07-19 11:53:35,797] Trial 20 finished with value: 0.14998046081485175 and parameters: {'n_estimators': 321, 'max_depth': 12, 'min_samples_split': 13, 'min_samples_leaf': 8, 'max_features': None}. Best is trial 8 with value: 0.14158571949211873.\n",
      "[I 2025-07-19 11:53:37,578] Trial 21 finished with value: 0.14496232782107055 and parameters: {'n_estimators': 457, 'max_depth': 8, 'min_samples_split': 7, 'min_samples_leaf': 3, 'max_features': None}. Best is trial 8 with value: 0.14158571949211873.\n",
      "[I 2025-07-19 11:53:39,566] Trial 22 finished with value: 0.1427677650711719 and parameters: {'n_estimators': 412, 'max_depth': 12, 'min_samples_split': 7, 'min_samples_leaf': 1, 'max_features': None}. Best is trial 8 with value: 0.14158571949211873.\n",
      "[I 2025-07-19 11:53:41,802] Trial 23 finished with value: 0.14135677645707273 and parameters: {'n_estimators': 402, 'max_depth': 15, 'min_samples_split': 3, 'min_samples_leaf': 1, 'max_features': None}. Best is trial 23 with value: 0.14135677645707273.\n",
      "[I 2025-07-19 11:53:43,775] Trial 24 finished with value: 0.14150207084863337 and parameters: {'n_estimators': 404, 'max_depth': 13, 'min_samples_split': 3, 'min_samples_leaf': 2, 'max_features': None}. Best is trial 23 with value: 0.14135677645707273.\n",
      "[I 2025-07-19 11:53:44,629] Trial 25 finished with value: 0.14488692853554266 and parameters: {'n_estimators': 355, 'max_depth': 14, 'min_samples_split': 3, 'min_samples_leaf': 2, 'max_features': 'sqrt'}. Best is trial 23 with value: 0.14135677645707273.\n",
      "[I 2025-07-19 11:53:46,656] Trial 26 finished with value: 0.14404801507525491 and parameters: {'n_estimators': 464, 'max_depth': 13, 'min_samples_split': 4, 'min_samples_leaf': 4, 'max_features': None}. Best is trial 23 with value: 0.14135677645707273.\n",
      "[I 2025-07-19 11:53:48,020] Trial 27 finished with value: 0.14232911885029415 and parameters: {'n_estimators': 278, 'max_depth': 10, 'min_samples_split': 3, 'min_samples_leaf': 2, 'max_features': None}. Best is trial 23 with value: 0.14135677645707273.\n",
      "[I 2025-07-19 11:53:48,902] Trial 28 finished with value: 0.15231230822624542 and parameters: {'n_estimators': 393, 'max_depth': 15, 'min_samples_split': 6, 'min_samples_leaf': 1, 'max_features': 'log2'}. Best is trial 23 with value: 0.14135677645707273.\n",
      "[I 2025-07-19 11:53:49,375] Trial 29 finished with value: 0.1478410491401362 and parameters: {'n_estimators': 191, 'max_depth': 18, 'min_samples_split': 2, 'min_samples_leaf': 3, 'max_features': 'sqrt'}. Best is trial 23 with value: 0.14135677645707273.\n",
      "[I 2025-07-19 11:53:50,635] Trial 30 finished with value: 0.16032289726634616 and parameters: {'n_estimators': 348, 'max_depth': 5, 'min_samples_split': 4, 'min_samples_leaf': 2, 'max_features': None}. Best is trial 23 with value: 0.14135677645707273.\n",
      "[I 2025-07-19 11:53:52,030] Trial 31 finished with value: 0.14196065132440144 and parameters: {'n_estimators': 289, 'max_depth': 11, 'min_samples_split': 3, 'min_samples_leaf': 2, 'max_features': None}. Best is trial 23 with value: 0.14135677645707273.\n",
      "[I 2025-07-19 11:53:53,469] Trial 32 finished with value: 0.14283494535270488 and parameters: {'n_estimators': 314, 'max_depth': 12, 'min_samples_split': 3, 'min_samples_leaf': 3, 'max_features': None}. Best is trial 23 with value: 0.14135677645707273.\n",
      "[I 2025-07-19 11:53:54,846] Trial 33 finished with value: 0.1424257520533866 and parameters: {'n_estimators': 266, 'max_depth': 15, 'min_samples_split': 5, 'min_samples_leaf': 1, 'max_features': None}. Best is trial 23 with value: 0.14135677645707273.\n",
      "[I 2025-07-19 11:53:56,628] Trial 34 finished with value: 0.1417937544746038 and parameters: {'n_estimators': 376, 'max_depth': 11, 'min_samples_split': 2, 'min_samples_leaf': 2, 'max_features': None}. Best is trial 23 with value: 0.14135677645707273.\n",
      "[I 2025-07-19 11:53:58,782] Trial 35 finished with value: 0.14146726383715286 and parameters: {'n_estimators': 377, 'max_depth': 13, 'min_samples_split': 2, 'min_samples_leaf': 1, 'max_features': None}. Best is trial 23 with value: 0.14135677645707273.\n",
      "[I 2025-07-19 11:54:00,487] Trial 36 finished with value: 0.14641417505425228 and parameters: {'n_estimators': 404, 'max_depth': 13, 'min_samples_split': 16, 'min_samples_leaf': 1, 'max_features': None}. Best is trial 23 with value: 0.14135677645707273.\n",
      "[I 2025-07-19 11:54:01,338] Trial 37 finished with value: 0.15241894110462864 and parameters: {'n_estimators': 349, 'max_depth': 15, 'min_samples_split': 6, 'min_samples_leaf': 1, 'max_features': 'log2'}. Best is trial 23 with value: 0.14135677645707273.\n",
      "[I 2025-07-19 11:54:02,335] Trial 38 finished with value: 0.15132183438936206 and parameters: {'n_estimators': 468, 'max_depth': 13, 'min_samples_split': 4, 'min_samples_leaf': 4, 'max_features': 'sqrt'}. Best is trial 23 with value: 0.14135677645707273.\n",
      "[I 2025-07-19 11:54:03,782] Trial 39 finished with value: 0.15117110655127974 and parameters: {'n_estimators': 384, 'max_depth': 17, 'min_samples_split': 20, 'min_samples_leaf': 7, 'max_features': None}. Best is trial 23 with value: 0.14135677645707273.\n",
      "[I 2025-07-19 11:54:04,668] Trial 40 finished with value: 0.1417828743551273 and parameters: {'n_estimators': 364, 'max_depth': 15, 'min_samples_split': 2, 'min_samples_leaf': 1, 'max_features': 'sqrt'}. Best is trial 23 with value: 0.14135677645707273.\n",
      "[I 2025-07-19 11:54:05,634] Trial 41 finished with value: 0.1416327600039569 and parameters: {'n_estimators': 417, 'max_depth': 15, 'min_samples_split': 2, 'min_samples_leaf': 1, 'max_features': 'sqrt'}. Best is trial 23 with value: 0.14135677645707273.\n",
      "[I 2025-07-19 11:54:06,587] Trial 42 finished with value: 0.14210540248506576 and parameters: {'n_estimators': 415, 'max_depth': 14, 'min_samples_split': 3, 'min_samples_leaf': 1, 'max_features': 'sqrt'}. Best is trial 23 with value: 0.14135677645707273.\n",
      "[I 2025-07-19 11:54:07,622] Trial 43 finished with value: 0.1443201291147625 and parameters: {'n_estimators': 452, 'max_depth': 13, 'min_samples_split': 2, 'min_samples_leaf': 2, 'max_features': 'sqrt'}. Best is trial 23 with value: 0.14135677645707273.\n",
      "[I 2025-07-19 11:54:08,580] Trial 44 finished with value: 0.14265631749160237 and parameters: {'n_estimators': 421, 'max_depth': 17, 'min_samples_split': 6, 'min_samples_leaf': 1, 'max_features': 'sqrt'}. Best is trial 23 with value: 0.14135677645707273.\n",
      "[I 2025-07-19 11:54:09,618] Trial 45 finished with value: 0.14796496434120207 and parameters: {'n_estimators': 487, 'max_depth': 14, 'min_samples_split': 4, 'min_samples_leaf': 3, 'max_features': 'sqrt'}. Best is trial 23 with value: 0.14135677645707273.\n",
      "[I 2025-07-19 11:54:10,631] Trial 46 finished with value: 0.14104906518395274 and parameters: {'n_estimators': 441, 'max_depth': 16, 'min_samples_split': 2, 'min_samples_leaf': 1, 'max_features': 'sqrt'}. Best is trial 46 with value: 0.14104906518395274.\n",
      "[I 2025-07-19 11:54:12,234] Trial 47 finished with value: 0.1528342647813835 and parameters: {'n_estimators': 439, 'max_depth': 18, 'min_samples_split': 5, 'min_samples_leaf': 10, 'max_features': None}. Best is trial 46 with value: 0.14104906518395274.\n",
      "[I 2025-07-19 11:54:13,255] Trial 48 finished with value: 0.18574645071722531 and parameters: {'n_estimators': 473, 'max_depth': 16, 'min_samples_split': 3, 'min_samples_leaf': 9, 'max_features': 'log2'}. Best is trial 46 with value: 0.14104906518395274.\n",
      "[I 2025-07-19 11:54:14,156] Trial 49 finished with value: 0.15176445990095488 and parameters: {'n_estimators': 390, 'max_depth': 19, 'min_samples_split': 17, 'min_samples_leaf': 2, 'max_features': 'sqrt'}. Best is trial 46 with value: 0.14104906518395274.\n",
      "Best Random Forest RMSE: 0.1410\n",
      "Evaluating RandomForest_Optimized...\n",
      "  RMSE: 0.1403 (+/- 0.0143)\n",
      "  Baseline RMSE (CV): 0.1418\n",
      "  Optimized RMSE (Optuna): 0.1410\n",
      "  Optimized RMSE (CV eval): 0.1403\n",
      "  Improvement (baseline CV vs optimized CV): 0.0015\n"
     ]
    }
   ],
   "source": [
    "def objective_randomforest(trial):\n",
    "    \"\"\"Objective function for Random Forest hyperparameter optimization\"\"\"\n",
    "    params = {\n",
    "        'n_estimators': trial.suggest_int('n_estimators', 100, 500),\n",
    "        'max_depth': trial.suggest_int('max_depth', 5, 20),\n",
    "        'min_samples_split': trial.suggest_int('min_samples_split', 2, 20),\n",
    "        'min_samples_leaf': trial.suggest_int('min_samples_leaf', 1, 10),\n",
    "        'max_features': trial.suggest_categorical('max_features', ['sqrt', 'log2', None]),\n",
    "        'random_state': RANDOM_STATE,\n",
    "        'n_jobs': -1\n",
    "    }\n",
    "    \n",
    "    model = RandomForestRegressor(**params)\n",
    "    cv_scores = cross_val_score(model, X_train_split, y_train, cv=cv_strategy,\n",
    "                                scoring='neg_mean_squared_error', n_jobs=1)  # Single job to avoid conflicts\n",
    "    return np.sqrt(-cv_scores.mean())\n",
    "\n",
    "print(\"\\nOptimizing Random Forest...\")\n",
    "study_rf = optuna.create_study(direction='minimize', study_name='rf_optimization')\n",
    "study_rf.optimize(objective_randomforest, n_trials=50, show_progress_bar=True)\n",
    "\n",
    "print(f\"Best Random Forest RMSE: {study_rf.best_value:.4f}\")\n",
    "best_rf_params = study_rf.best_params\n",
    "best_rf = RandomForestRegressor(**best_rf_params, random_state=RANDOM_STATE, n_jobs=-1)\n",
    "rf_result = evaluate_model_cv(best_rf, X_train_split, y_train, cv_strategy, \"RandomForest_Optimized\")\n",
    "rf_result['best_params'] = best_rf_params\n",
    "\n",
    "print(f\"  Baseline RMSE (CV): {baseline_results['RandomForest']['cv_rmse_mean']:.4f}\")\n",
    "print(f\"  Optimized RMSE (Optuna): {study_rf.best_value:.4f}\")\n",
    "print(f\"  Optimized RMSE (CV eval): {rf_result['cv_rmse_mean']:.4f}\")\n",
    "improvement = baseline_results['RandomForest']['cv_rmse_mean'] - rf_result['cv_rmse_mean']\n",
    "print(f\"  Improvement (baseline CV vs optimized CV): {improvement:.4f}\")"
   ]
  },
  {
   "cell_type": "markdown",
   "id": "a068ede0",
   "metadata": {},
   "source": [
    "A very slight improvement was observed after hyperparameter tuning: RMSE decreased from 0.1418 (baseline CV) to 0.1412 (optimized CV evaluation). Although the difference is small (0.0005), it indicates a modest gain in predictive accuracy through tuning.\n",
    "\n",
    "### 3.5 Gradient Boosting Optimization\n",
    "Optimize Gradient Boosting with learning rate, tree depth, and ensemble parameters."
   ]
  },
  {
   "cell_type": "code",
   "execution_count": 19,
   "id": "adc75898",
   "metadata": {},
   "outputs": [
    {
     "name": "stderr",
     "output_type": "stream",
     "text": [
      "[I 2025-07-19 11:54:14,970] A new study created in memory with name: gradientboosting_optimization\n"
     ]
    },
    {
     "name": "stdout",
     "output_type": "stream",
     "text": [
      "\n",
      "Optimizing Gradient Boosting...\n"
     ]
    },
    {
     "data": {
      "application/vnd.jupyter.widget-view+json": {
       "model_id": "dc59d1003dc44fe2b6007627a70b2de8",
       "version_major": 2,
       "version_minor": 0
      },
      "text/plain": [
       "  0%|          | 0/60 [00:00<?, ?it/s]"
      ]
     },
     "metadata": {},
     "output_type": "display_data"
    },
    {
     "name": "stdout",
     "output_type": "stream",
     "text": [
      "[I 2025-07-19 11:54:15,996] Trial 0 finished with value: 0.13241942648435007 and parameters: {'n_estimators': 159, 'learning_rate': 0.02836664030499371, 'max_depth': 6, 'subsample': 0.8561441280427049}. Best is trial 0 with value: 0.13241942648435007.\n",
      "[I 2025-07-19 11:54:16,616] Trial 1 finished with value: 0.12783333051051957 and parameters: {'n_estimators': 159, 'learning_rate': 0.14063789992823353, 'max_depth': 3, 'subsample': 0.9747455294933989}. Best is trial 1 with value: 0.12783333051051957.\n",
      "[I 2025-07-19 11:54:17,229] Trial 2 finished with value: 0.16002164945190406 and parameters: {'n_estimators': 123, 'learning_rate': 0.016530909481350792, 'max_depth': 4, 'subsample': 0.9510351296698337}. Best is trial 1 with value: 0.12783333051051957.\n",
      "[I 2025-07-19 11:54:18,604] Trial 3 finished with value: 0.1475526810338382 and parameters: {'n_estimators': 161, 'learning_rate': 0.057019551295850776, 'max_depth': 8, 'subsample': 0.9779162439906836}. Best is trial 1 with value: 0.12783333051051957.\n",
      "[I 2025-07-19 11:54:19,668] Trial 4 finished with value: 0.1399220641026958 and parameters: {'n_estimators': 154, 'learning_rate': 0.2108737682768005, 'max_depth': 7, 'subsample': 0.8645610778926638}. Best is trial 1 with value: 0.12783333051051957.\n",
      "[I 2025-07-19 11:54:21,201] Trial 5 finished with value: 0.14705267340085762 and parameters: {'n_estimators': 184, 'learning_rate': 0.12328413217032724, 'max_depth': 8, 'subsample': 0.946383043129634}. Best is trial 1 with value: 0.12783333051051957.\n",
      "[I 2025-07-19 11:54:21,799] Trial 6 finished with value: 0.13500717633379078 and parameters: {'n_estimators': 78, 'learning_rate': 0.10300981147697046, 'max_depth': 6, 'subsample': 0.9880525022813538}. Best is trial 1 with value: 0.12783333051051957.\n",
      "[I 2025-07-19 11:54:22,304] Trial 7 finished with value: 0.1402864843421822 and parameters: {'n_estimators': 65, 'learning_rate': 0.2830245838197308, 'max_depth': 6, 'subsample': 0.9422601862568114}. Best is trial 1 with value: 0.12783333051051957.\n",
      "[I 2025-07-19 11:54:23,078] Trial 8 finished with value: 0.13898370983536862 and parameters: {'n_estimators': 129, 'learning_rate': 0.22481094885565528, 'max_depth': 6, 'subsample': 0.8111270592004104}. Best is trial 1 with value: 0.12783333051051957.\n",
      "[I 2025-07-19 11:54:23,823] Trial 9 finished with value: 0.13315652239872053 and parameters: {'n_estimators': 112, 'learning_rate': 0.05524785831858358, 'max_depth': 6, 'subsample': 0.9149148757632931}. Best is trial 1 with value: 0.12783333051051957.\n",
      "[I 2025-07-19 11:54:24,530] Trial 10 finished with value: 0.12666586896391152 and parameters: {'n_estimators': 193, 'learning_rate': 0.1719575801635667, 'max_depth': 3, 'subsample': 0.892929480035085}. Best is trial 10 with value: 0.12666586896391152.\n",
      "[I 2025-07-19 11:54:25,238] Trial 11 finished with value: 0.12696453286005333 and parameters: {'n_estimators': 198, 'learning_rate': 0.17973315525894876, 'max_depth': 3, 'subsample': 0.8982017631635055}. Best is trial 10 with value: 0.12666586896391152.\n",
      "[I 2025-07-19 11:54:25,919] Trial 12 finished with value: 0.1292921533013105 and parameters: {'n_estimators': 199, 'learning_rate': 0.19386230525860257, 'max_depth': 3, 'subsample': 0.8868423372174742}. Best is trial 10 with value: 0.12666586896391152.\n",
      "[I 2025-07-19 11:54:26,777] Trial 13 finished with value: 0.12707429288972286 and parameters: {'n_estimators': 196, 'learning_rate': 0.17660363395790576, 'max_depth': 4, 'subsample': 0.9003320625766871}. Best is trial 10 with value: 0.12666586896391152.\n",
      "[I 2025-07-19 11:54:27,546] Trial 14 finished with value: 0.1354937226451016 and parameters: {'n_estimators': 183, 'learning_rate': 0.2627422273922391, 'max_depth': 4, 'subsample': 0.8352429417984519}. Best is trial 10 with value: 0.12666586896391152.\n",
      "[I 2025-07-19 11:54:28,209] Trial 15 finished with value: 0.12899686148306821 and parameters: {'n_estimators': 178, 'learning_rate': 0.23963504583679357, 'max_depth': 3, 'subsample': 0.919315178258128}. Best is trial 10 with value: 0.12666586896391152.\n",
      "[I 2025-07-19 11:54:28,840] Trial 16 finished with value: 0.13080697820311238 and parameters: {'n_estimators': 105, 'learning_rate': 0.1642796745865343, 'max_depth': 5, 'subsample': 0.8779653225608652}. Best is trial 10 with value: 0.12666586896391152.\n",
      "[I 2025-07-19 11:54:29,471] Trial 17 finished with value: 0.12478215725391598 and parameters: {'n_estimators': 142, 'learning_rate': 0.09691371289264261, 'max_depth': 4, 'subsample': 0.841810543145288}. Best is trial 17 with value: 0.12478215725391598.\n",
      "[I 2025-07-19 11:54:30,177] Trial 18 finished with value: 0.12660271544518803 and parameters: {'n_estimators': 137, 'learning_rate': 0.09736389615821794, 'max_depth': 5, 'subsample': 0.8303133989499509}. Best is trial 17 with value: 0.12478215725391598.\n",
      "[I 2025-07-19 11:54:30,884] Trial 19 finished with value: 0.12536097375395663 and parameters: {'n_estimators': 139, 'learning_rate': 0.09423139833306218, 'max_depth': 5, 'subsample': 0.8034052707023391}. Best is trial 17 with value: 0.12478215725391598.\n",
      "[I 2025-07-19 11:54:31,621] Trial 20 finished with value: 0.12788387555346614 and parameters: {'n_estimators': 141, 'learning_rate': 0.07650403345119962, 'max_depth': 5, 'subsample': 0.8274478819100037}. Best is trial 17 with value: 0.12478215725391598.\n",
      "[I 2025-07-19 11:54:32,322] Trial 21 finished with value: 0.1290552133597925 and parameters: {'n_estimators': 137, 'learning_rate': 0.09801211031177652, 'max_depth': 5, 'subsample': 0.8100779961869015}. Best is trial 17 with value: 0.12478215725391598.\n",
      "[I 2025-07-19 11:54:32,789] Trial 22 finished with value: 0.1275132007213973 and parameters: {'n_estimators': 96, 'learning_rate': 0.12630509927953107, 'max_depth': 4, 'subsample': 0.8430996119291108}. Best is trial 17 with value: 0.12478215725391598.\n",
      "[I 2025-07-19 11:54:33,519] Trial 23 finished with value: 0.12751461928292565 and parameters: {'n_estimators': 146, 'learning_rate': 0.0898799663401063, 'max_depth': 5, 'subsample': 0.8072268309491657}. Best is trial 17 with value: 0.12478215725391598.\n",
      "[I 2025-07-19 11:54:34,063] Trial 24 finished with value: 0.1274195927864483 and parameters: {'n_estimators': 122, 'learning_rate': 0.06881713853866572, 'max_depth': 4, 'subsample': 0.8250563991595001}. Best is trial 17 with value: 0.12478215725391598.\n",
      "[I 2025-07-19 11:54:34,929] Trial 25 finished with value: 0.12772501543407355 and parameters: {'n_estimators': 170, 'learning_rate': 0.039759922861404715, 'max_depth': 5, 'subsample': 0.8527181713926903}. Best is trial 17 with value: 0.12478215725391598.\n",
      "[I 2025-07-19 11:54:35,570] Trial 26 finished with value: 0.13366350822078046 and parameters: {'n_estimators': 89, 'learning_rate': 0.11776064001895732, 'max_depth': 7, 'subsample': 0.8012348367897658}. Best is trial 17 with value: 0.12478215725391598.\n",
      "[I 2025-07-19 11:54:36,152] Trial 27 finished with value: 0.12752666104727844 and parameters: {'n_estimators': 133, 'learning_rate': 0.13498450009996638, 'max_depth': 4, 'subsample': 0.8217161437514778}. Best is trial 17 with value: 0.12478215725391598.\n",
      "[I 2025-07-19 11:54:36,796] Trial 28 finished with value: 0.1289832814004726 and parameters: {'n_estimators': 114, 'learning_rate': 0.1494726771625937, 'max_depth': 5, 'subsample': 0.869818310940458}. Best is trial 17 with value: 0.12478215725391598.\n",
      "[I 2025-07-19 11:54:37,810] Trial 29 finished with value: 0.13381100711957927 and parameters: {'n_estimators': 148, 'learning_rate': 0.08277078873565206, 'max_depth': 7, 'subsample': 0.8483371688189605}. Best is trial 17 with value: 0.12478215725391598.\n",
      "[I 2025-07-19 11:54:38,664] Trial 30 finished with value: 0.1294184801205092 and parameters: {'n_estimators': 172, 'learning_rate': 0.10987765444011738, 'max_depth': 5, 'subsample': 0.8374518558435375}. Best is trial 17 with value: 0.12478215725391598.\n",
      "[I 2025-07-19 11:54:39,243] Trial 31 finished with value: 0.12793691163563126 and parameters: {'n_estimators': 165, 'learning_rate': 0.03966856510426818, 'max_depth': 3, 'subsample': 0.8617542286846381}. Best is trial 17 with value: 0.12478215725391598.\n",
      "[I 2025-07-19 11:54:39,885] Trial 32 finished with value: 0.1268648057775684 and parameters: {'n_estimators': 150, 'learning_rate': 0.154719658845328, 'max_depth': 4, 'subsample': 0.8177308059306024}. Best is trial 17 with value: 0.12478215725391598.\n",
      "[I 2025-07-19 11:54:40,330] Trial 33 finished with value: 0.19685988213843506 and parameters: {'n_estimators': 121, 'learning_rate': 0.01162333279844148, 'max_depth': 3, 'subsample': 0.8331852390323585}. Best is trial 17 with value: 0.12478215725391598.\n",
      "[I 2025-07-19 11:54:40,978] Trial 34 finished with value: 0.12399765833154594 and parameters: {'n_estimators': 158, 'learning_rate': 0.06474112822398269, 'max_depth': 4, 'subsample': 0.800531952291841}. Best is trial 34 with value: 0.12399765833154594.\n",
      "[I 2025-07-19 11:54:41,626] Trial 35 finished with value: 0.12797735324365536 and parameters: {'n_estimators': 157, 'learning_rate': 0.041628696589191355, 'max_depth': 4, 'subsample': 0.8004832586729721}. Best is trial 34 with value: 0.12399765833154594.\n",
      "[I 2025-07-19 11:54:42,359] Trial 36 finished with value: 0.12789738915638973 and parameters: {'n_estimators': 143, 'learning_rate': 0.05586400562253985, 'max_depth': 5, 'subsample': 0.816021064002829}. Best is trial 34 with value: 0.12399765833154594.\n",
      "[I 2025-07-19 11:54:43,056] Trial 37 finished with value: 0.12795415959660514 and parameters: {'n_estimators': 160, 'learning_rate': 0.0736985372656424, 'max_depth': 4, 'subsample': 0.8514557397426956}. Best is trial 34 with value: 0.12399765833154594.\n",
      "[I 2025-07-19 11:54:43,754] Trial 38 finished with value: 0.12709762019688256 and parameters: {'n_estimators': 132, 'learning_rate': 0.09199967313406515, 'max_depth': 5, 'subsample': 0.8257180518503852}. Best is trial 34 with value: 0.12399765833154594.\n",
      "[I 2025-07-19 11:54:44,146] Trial 39 finished with value: 0.19039577926270954 and parameters: {'n_estimators': 50, 'learning_rate': 0.023899094098374346, 'max_depth': 6, 'subsample': 0.8419767817796187}. Best is trial 34 with value: 0.12399765833154594.\n",
      "[I 2025-07-19 11:54:44,926] Trial 40 finished with value: 0.1289060541000086 and parameters: {'n_estimators': 155, 'learning_rate': 0.10878299565615504, 'max_depth': 4, 'subsample': 0.9645496826196662}. Best is trial 34 with value: 0.12399765833154594.\n",
      "[I 2025-07-19 11:54:45,467] Trial 41 finished with value: 0.1260611686983841 and parameters: {'n_estimators': 137, 'learning_rate': 0.13726033821179393, 'max_depth': 3, 'subsample': 0.9368438291352594}. Best is trial 34 with value: 0.12399765833154594.\n",
      "[I 2025-07-19 11:54:46,103] Trial 42 finished with value: 0.1301490219335415 and parameters: {'n_estimators': 126, 'learning_rate': 0.13902871817086218, 'max_depth': 4, 'subsample': 0.9297063947468429}. Best is trial 34 with value: 0.12399765833154594.\n",
      "[I 2025-07-19 11:54:46,659] Trial 43 finished with value: 0.12855206686543424 and parameters: {'n_estimators': 138, 'learning_rate': 0.06795950300617974, 'max_depth': 3, 'subsample': 0.9989819093494154}. Best is trial 34 with value: 0.12399765833154594.\n",
      "[I 2025-07-19 11:54:47,126] Trial 44 finished with value: 0.1258584465295855 and parameters: {'n_estimators': 115, 'learning_rate': 0.11789059709444534, 'max_depth': 3, 'subsample': 0.9352311538928928}. Best is trial 34 with value: 0.12399765833154594.\n",
      "[I 2025-07-19 11:54:47,587] Trial 45 finished with value: 0.12468194604420117 and parameters: {'n_estimators': 113, 'learning_rate': 0.13004777667481077, 'max_depth': 3, 'subsample': 0.9393943848253603}. Best is trial 34 with value: 0.12399765833154594.\n",
      "[I 2025-07-19 11:54:48,037] Trial 46 finished with value: 0.1253869416533353 and parameters: {'n_estimators': 105, 'learning_rate': 0.12217134550706574, 'max_depth': 3, 'subsample': 0.9558170653860494}. Best is trial 34 with value: 0.12399765833154594.\n",
      "[I 2025-07-19 11:54:48,473] Trial 47 finished with value: 0.1320425749316395 and parameters: {'n_estimators': 99, 'learning_rate': 0.05712868589736097, 'max_depth': 3, 'subsample': 0.9565692824394926}. Best is trial 34 with value: 0.12399765833154594.\n",
      "[I 2025-07-19 11:54:48,864] Trial 48 finished with value: 0.12566631667244849 and parameters: {'n_estimators': 85, 'learning_rate': 0.12218298797113814, 'max_depth': 3, 'subsample': 0.9694793015703398}. Best is trial 34 with value: 0.12399765833154594.\n",
      "[I 2025-07-19 11:54:49,401] Trial 49 finished with value: 0.12628216695998912 and parameters: {'n_estimators': 108, 'learning_rate': 0.19129926095981814, 'max_depth': 4, 'subsample': 0.9119394929401669}. Best is trial 34 with value: 0.12399765833154594.\n",
      "[I 2025-07-19 11:54:49,777] Trial 50 finished with value: 0.1294777942517411 and parameters: {'n_estimators': 77, 'learning_rate': 0.08631886687160148, 'max_depth': 3, 'subsample': 0.9800613562172108}. Best is trial 34 with value: 0.12399765833154594.\n",
      "[I 2025-07-19 11:54:50,164] Trial 51 finished with value: 0.12758188307462354 and parameters: {'n_estimators': 85, 'learning_rate': 0.10633399227562465, 'max_depth': 3, 'subsample': 0.9668057055854413}. Best is trial 34 with value: 0.12399765833154594.\n",
      "[I 2025-07-19 11:54:50,501] Trial 52 finished with value: 0.12910029743068122 and parameters: {'n_estimators': 67, 'learning_rate': 0.12344147881127046, 'max_depth': 3, 'subsample': 0.9506668027917439}. Best is trial 34 with value: 0.12399765833154594.\n",
      "[I 2025-07-19 11:54:50,937] Trial 53 finished with value: 0.12978399711408725 and parameters: {'n_estimators': 100, 'learning_rate': 0.16496234513921604, 'max_depth': 3, 'subsample': 0.9709938867562145}. Best is trial 34 with value: 0.12399765833154594.\n",
      "[I 2025-07-19 11:54:51,414] Trial 54 finished with value: 0.12949430391287847 and parameters: {'n_estimators': 89, 'learning_rate': 0.13044178489348093, 'max_depth': 4, 'subsample': 0.9607289989113906}. Best is trial 34 with value: 0.12399765833154594.\n",
      "[I 2025-07-19 11:54:51,887] Trial 55 finished with value: 0.1280116253755428 and parameters: {'n_estimators': 118, 'learning_rate': 0.14560432499268067, 'max_depth': 3, 'subsample': 0.9239109459658509}. Best is trial 34 with value: 0.12399765833154594.\n",
      "[I 2025-07-19 11:54:52,441] Trial 56 finished with value: 0.12744694633471304 and parameters: {'n_estimators': 105, 'learning_rate': 0.10426182080288743, 'max_depth': 4, 'subsample': 0.9831833701933208}. Best is trial 34 with value: 0.12399765833154594.\n",
      "[I 2025-07-19 11:54:53,159] Trial 57 finished with value: 0.1460004844832515 and parameters: {'n_estimators': 77, 'learning_rate': 0.11751272291684382, 'max_depth': 8, 'subsample': 0.9552249065928948}. Best is trial 34 with value: 0.12399765833154594.\n",
      "[I 2025-07-19 11:54:53,660] Trial 58 finished with value: 0.12764196667496513 and parameters: {'n_estimators': 125, 'learning_rate': 0.06402812545138353, 'max_depth': 3, 'subsample': 0.9409607807992248}. Best is trial 34 with value: 0.12399765833154594.\n",
      "[I 2025-07-19 11:54:54,172] Trial 59 finished with value: 0.1292329667064302 and parameters: {'n_estimators': 95, 'learning_rate': 0.08164884852358328, 'max_depth': 4, 'subsample': 0.9929475661126035}. Best is trial 34 with value: 0.12399765833154594.\n",
      "Best Gradient Boosting RMSE: 0.1240\n",
      "Evaluating GradientBoosting_Optimized...\n",
      "  RMSE: 0.1236 (+/- 0.0102)\n",
      "  Baseline RMSE (CV): 0.1281\n",
      "  Optimized RMSE (Optuna): 0.1240\n",
      "  Optimized RMSE (CV eval): 0.1236\n",
      "  Improvement (baseline CV vs optimized CV): 0.0045\n"
     ]
    }
   ],
   "source": [
    "def objective_gradientboosting(trial):\n",
    "    \"\"\"Objective function for Gradient Boosting hyperparameter optimization\"\"\"\n",
    "    params = {\n",
    "        'n_estimators': trial.suggest_int('n_estimators', 50, 200),\n",
    "        'learning_rate': trial.suggest_float('learning_rate', 0.01, 0.3),\n",
    "        'max_depth': trial.suggest_int('max_depth', 3, 8),\n",
    "        'subsample': trial.suggest_float('subsample', 0.8, 1.0),\n",
    "        'random_state': RANDOM_STATE\n",
    "    }\n",
    "    \n",
    "    model = GradientBoostingRegressor(**params)\n",
    "    cv_scores = cross_val_score(model, X_train_split, y_train, cv=cv_strategy,\n",
    "                                scoring='neg_mean_squared_error', n_jobs=-1)\n",
    "    return np.sqrt(-cv_scores.mean())\n",
    "\n",
    "print(\"\\nOptimizing Gradient Boosting...\")\n",
    "study_gb = optuna.create_study(direction='minimize', study_name='gradientboosting_optimization')\n",
    "study_gb.optimize(objective_gradientboosting, n_trials=60, show_progress_bar=True)\n",
    "\n",
    "print(f\"Best Gradient Boosting RMSE: {study_gb.best_value:.4f}\")\n",
    "best_gb_params = study_gb.best_params\n",
    "best_gb = GradientBoostingRegressor(**best_gb_params, random_state=RANDOM_STATE)\n",
    "gb_result = evaluate_model_cv(best_gb, X_train_split, y_train, cv_strategy, \"GradientBoosting_Optimized\")\n",
    "gb_result['best_params'] = best_gb_params\n",
    "\n",
    "print(f\"  Baseline RMSE (CV): {baseline_results['GradientBoosting']['cv_rmse_mean']:.4f}\")\n",
    "print(f\"  Optimized RMSE (Optuna): {study_gb.best_value:.4f}\")\n",
    "print(f\"  Optimized RMSE (CV eval): {gb_result['cv_rmse_mean']:.4f}\")\n",
    "improvement = baseline_results['GradientBoosting']['cv_rmse_mean'] - gb_result['cv_rmse_mean']\n",
    "print(f\"  Improvement (baseline CV vs optimized CV): {improvement:.4f}\")"
   ]
  },
  {
   "cell_type": "markdown",
   "id": "e96e2570",
   "metadata": {},
   "source": [
    "Gradient Boosting showed a modest improvement through optimization, with RMSE decreasing from 0.1281 (baseline CV) to 0.1227 (optimized CV evaluation), yielding a gain of 0.0054. This suggests that hyperparameter tuning provided a measurable but limited enhancement in performance.\n",
    "\n",
    "### 3.6 XGBoost Optimization\n",
    "Optimize XGBoost with comprehensive parameter tuning including regularization and tree structure parameters."
   ]
  },
  {
   "cell_type": "code",
   "execution_count": 20,
   "id": "ba531c9a",
   "metadata": {},
   "outputs": [
    {
     "name": "stderr",
     "output_type": "stream",
     "text": [
      "[I 2025-07-19 11:54:54,834] A new study created in memory with name: xgb_optimization\n"
     ]
    },
    {
     "name": "stdout",
     "output_type": "stream",
     "text": [
      "\n",
      "Optimizing XGBoost...\n"
     ]
    },
    {
     "data": {
      "application/vnd.jupyter.widget-view+json": {
       "model_id": "82e7758e50ae47309696eeda9605114c",
       "version_major": 2,
       "version_minor": 0
      },
      "text/plain": [
       "  0%|          | 0/75 [00:00<?, ?it/s]"
      ]
     },
     "metadata": {},
     "output_type": "display_data"
    },
    {
     "name": "stdout",
     "output_type": "stream",
     "text": [
      "[I 2025-07-19 11:55:13,960] Trial 0 finished with value: 0.12031403750125162 and parameters: {'n_estimators': 2642, 'learning_rate': 0.010745616166612154, 'colsample_bytree': 0.5957002173957451, 'subsample': 0.7234105767623558, 'min_child_weight': 3}. Best is trial 0 with value: 0.12031403750125162.\n",
      "[I 2025-07-19 11:55:53,623] Trial 1 finished with value: 0.12079490649398605 and parameters: {'n_estimators': 7909, 'learning_rate': 0.03537928027406367, 'colsample_bytree': 0.9225787534946733, 'subsample': 0.517912760257471, 'min_child_weight': 5}. Best is trial 0 with value: 0.12031403750125162.\n",
      "[I 2025-07-19 11:56:26,224] Trial 2 finished with value: 0.12193658173168215 and parameters: {'n_estimators': 4317, 'learning_rate': 0.008923199890986378, 'colsample_bytree': 0.8244997676272053, 'subsample': 0.702571604286222, 'min_child_weight': 3}. Best is trial 0 with value: 0.12031403750125162.\n",
      "[I 2025-07-19 11:57:14,290] Trial 3 finished with value: 0.11940050080622111 and parameters: {'n_estimators': 6630, 'learning_rate': 0.017614007114873455, 'colsample_bytree': 0.9987973094722911, 'subsample': 0.4268889901886136, 'min_child_weight': 5}. Best is trial 3 with value: 0.11940050080622111.\n",
      "[I 2025-07-19 11:57:33,003] Trial 4 finished with value: 0.12228002915754382 and parameters: {'n_estimators': 3496, 'learning_rate': 0.08431168306762957, 'colsample_bytree': 0.35802192198853017, 'subsample': 0.4833745314152337, 'min_child_weight': 4}. Best is trial 3 with value: 0.11940050080622111.\n",
      "[I 2025-07-19 11:58:23,330] Trial 5 finished with value: 0.11871641727125305 and parameters: {'n_estimators': 7164, 'learning_rate': 0.008736187725442423, 'colsample_bytree': 0.5424895926414162, 'subsample': 0.6809054249169991, 'min_child_weight': 5}. Best is trial 5 with value: 0.11871641727125305.\n",
      "[I 2025-07-19 11:58:38,310] Trial 6 finished with value: 0.12187140286829001 and parameters: {'n_estimators': 2037, 'learning_rate': 0.005716845735180498, 'colsample_bytree': 0.7534365592474669, 'subsample': 0.7012515835704125, 'min_child_weight': 3}. Best is trial 5 with value: 0.11871641727125305.\n",
      "[I 2025-07-19 11:59:16,261] Trial 7 finished with value: 0.12145428049555035 and parameters: {'n_estimators': 7455, 'learning_rate': 0.024989422544843147, 'colsample_bytree': 0.5697689740252744, 'subsample': 0.7298132312156916, 'min_child_weight': 5}. Best is trial 5 with value: 0.11871641727125305.\n",
      "[I 2025-07-19 11:59:22,911] Trial 8 finished with value: 0.12924030306179235 and parameters: {'n_estimators': 1242, 'learning_rate': 0.16503866174784868, 'colsample_bytree': 0.49334226236978246, 'subsample': 0.6500641711824242, 'min_child_weight': 4}. Best is trial 5 with value: 0.11871641727125305.\n",
      "[I 2025-07-19 11:59:32,688] Trial 9 finished with value: 0.11929781662504466 and parameters: {'n_estimators': 1381, 'learning_rate': 0.012114008367760686, 'colsample_bytree': 0.28444195564583874, 'subsample': 0.591304541469044, 'min_child_weight': 2}. Best is trial 5 with value: 0.11871641727125305.\n",
      "[I 2025-07-19 11:59:54,710] Trial 10 finished with value: 0.12281611991569141 and parameters: {'n_estimators': 5853, 'learning_rate': 0.0726394849474065, 'colsample_bytree': 0.4467039625248824, 'subsample': 0.7934588022297138, 'min_child_weight': 4}. Best is trial 5 with value: 0.11871641727125305.\n",
      "[I 2025-07-19 12:00:31,812] Trial 11 finished with value: 0.11865232185909055 and parameters: {'n_estimators': 5300, 'learning_rate': 0.005452333020073116, 'colsample_bytree': 0.22149914102561036, 'subsample': 0.5773151041879684, 'min_child_weight': 2}. Best is trial 11 with value: 0.11865232185909055.\n",
      "[I 2025-07-19 12:01:10,182] Trial 12 finished with value: 0.11893018679576525 and parameters: {'n_estimators': 5537, 'learning_rate': 0.005537932356869225, 'colsample_bytree': 0.21220754751869758, 'subsample': 0.5764208099291194, 'min_child_weight': 2}. Best is trial 11 with value: 0.11865232185909055.\n",
      "[I 2025-07-19 12:01:48,401] Trial 13 finished with value: 0.12063054538955016 and parameters: {'n_estimators': 5171, 'learning_rate': 0.005102941511792769, 'colsample_bytree': 0.7458280619994908, 'subsample': 0.6491102122256559, 'min_child_weight': 2}. Best is trial 11 with value: 0.11865232185909055.\n",
      "[I 2025-07-19 12:02:31,158] Trial 14 finished with value: 0.11775691066629262 and parameters: {'n_estimators': 6570, 'learning_rate': 0.016808527009134353, 'colsample_bytree': 0.4289196643477664, 'subsample': 0.5386428088033532, 'min_child_weight': 3}. Best is trial 14 with value: 0.11775691066629262.\n",
      "[I 2025-07-19 12:03:11,950] Trial 15 finished with value: 0.11929879225281466 and parameters: {'n_estimators': 6336, 'learning_rate': 0.016619933836790102, 'colsample_bytree': 0.39132446101376667, 'subsample': 0.5339042840720267, 'min_child_weight': 2}. Best is trial 14 with value: 0.11775691066629262.\n",
      "[I 2025-07-19 12:03:38,992] Trial 16 finished with value: 0.12038082939601197 and parameters: {'n_estimators': 4122, 'learning_rate': 0.04277069781553955, 'colsample_bytree': 0.2060776633177252, 'subsample': 0.40394386551549266, 'min_child_weight': 3}. Best is trial 14 with value: 0.11775691066629262.\n",
      "[I 2025-07-19 12:04:11,878] Trial 17 finished with value: 0.11880670722622416 and parameters: {'n_estimators': 4967, 'learning_rate': 0.022135578321885785, 'colsample_bytree': 0.33752215226333704, 'subsample': 0.46929270022753955, 'min_child_weight': 2}. Best is trial 14 with value: 0.11775691066629262.\n",
      "[I 2025-07-19 12:04:38,514] Trial 18 finished with value: 0.14098934639344138 and parameters: {'n_estimators': 6366, 'learning_rate': 0.286413939894288, 'colsample_bytree': 0.2899900345827173, 'subsample': 0.551720275254221, 'min_child_weight': 3}. Best is trial 14 with value: 0.11775691066629262.\n",
      "[I 2025-07-19 12:04:58,224] Trial 19 finished with value: 0.12069340619806113 and parameters: {'n_estimators': 3568, 'learning_rate': 0.03937466533272546, 'colsample_bytree': 0.4376859269664314, 'subsample': 0.6241365051662999, 'min_child_weight': 2}. Best is trial 14 with value: 0.11775691066629262.\n",
      "[I 2025-07-19 12:05:40,301] Trial 20 finished with value: 0.1186234126900699 and parameters: {'n_estimators': 5836, 'learning_rate': 0.008183734255898955, 'colsample_bytree': 0.6935136680323264, 'subsample': 0.4859824794515354, 'min_child_weight': 3}. Best is trial 14 with value: 0.11775691066629262.\n",
      "[I 2025-07-19 12:06:22,397] Trial 21 finished with value: 0.11791036526981367 and parameters: {'n_estimators': 5851, 'learning_rate': 0.0072146703991059265, 'colsample_bytree': 0.6858874324425135, 'subsample': 0.505416444341236, 'min_child_weight': 3}. Best is trial 14 with value: 0.11775691066629262.\n",
      "[I 2025-07-19 12:07:10,892] Trial 22 finished with value: 0.11934995947739706 and parameters: {'n_estimators': 6900, 'learning_rate': 0.013114676916222505, 'colsample_bytree': 0.6696641339607858, 'subsample': 0.485994006514319, 'min_child_weight': 3}. Best is trial 14 with value: 0.11775691066629262.\n",
      "[I 2025-07-19 12:07:52,957] Trial 23 finished with value: 0.11762155544390104 and parameters: {'n_estimators': 5915, 'learning_rate': 0.00799337403098292, 'colsample_bytree': 0.6793053395008898, 'subsample': 0.4617299929768124, 'min_child_weight': 4}. Best is trial 23 with value: 0.11762155544390104.\n",
      "[I 2025-07-19 12:08:35,374] Trial 24 finished with value: 0.11708025295084826 and parameters: {'n_estimators': 5976, 'learning_rate': 0.007106987255232649, 'colsample_bytree': 0.6539687085220641, 'subsample': 0.4399435053694096, 'min_child_weight': 4}. Best is trial 24 with value: 0.11708025295084826.\n",
      "[I 2025-07-19 12:09:09,268] Trial 25 finished with value: 0.11801489454213437 and parameters: {'n_estimators': 4778, 'learning_rate': 0.013849742110264815, 'colsample_bytree': 0.6353039306458188, 'subsample': 0.4464840257212397, 'min_child_weight': 4}. Best is trial 24 with value: 0.11708025295084826.\n",
      "[I 2025-07-19 12:09:52,909] Trial 26 finished with value: 0.12008751630496692 and parameters: {'n_estimators': 7553, 'learning_rate': 0.02554424929887704, 'colsample_bytree': 0.8108273620486148, 'subsample': 0.45293901454994373, 'min_child_weight': 4}. Best is trial 24 with value: 0.11708025295084826.\n",
      "[I 2025-07-19 12:10:37,808] Trial 27 finished with value: 0.11665165547875699 and parameters: {'n_estimators': 6342, 'learning_rate': 0.017521908717443895, 'colsample_bytree': 0.5180266878099578, 'subsample': 0.41144656734305124, 'min_child_weight': 4}. Best is trial 27 with value: 0.11665165547875699.\n",
      "[I 2025-07-19 12:11:21,428] Trial 28 finished with value: 0.11632331576837608 and parameters: {'n_estimators': 6108, 'learning_rate': 0.00717341506560608, 'colsample_bytree': 0.5157498187581441, 'subsample': 0.42388894692935963, 'min_child_weight': 4}. Best is trial 28 with value: 0.11632331576837608.\n",
      "[I 2025-07-19 12:12:12,231] Trial 29 finished with value: 0.11667943412996572 and parameters: {'n_estimators': 7158, 'learning_rate': 0.010529766617140663, 'colsample_bytree': 0.5460731297057837, 'subsample': 0.40642467113984976, 'min_child_weight': 4}. Best is trial 28 with value: 0.11632331576837608.\n",
      "[I 2025-07-19 12:13:08,749] Trial 30 finished with value: 0.11731568683779098 and parameters: {'n_estimators': 7971, 'learning_rate': 0.010670624313022905, 'colsample_bytree': 0.5098351690863315, 'subsample': 0.4080354374175819, 'min_child_weight': 4}. Best is trial 28 with value: 0.11632331576837608.\n",
      "[I 2025-07-19 12:28:59,059] Trial 31 finished with value: 0.11781987078076614 and parameters: {'n_estimators': 7115, 'learning_rate': 0.011523528365357711, 'colsample_bytree': 0.6116422535826271, 'subsample': 0.4252143850784967, 'min_child_weight': 4}. Best is trial 28 with value: 0.11632331576837608.\n",
      "[I 2025-07-19 12:29:43,508] Trial 32 finished with value: 0.11613741893236751 and parameters: {'n_estimators': 6360, 'learning_rate': 0.006790964400703539, 'colsample_bytree': 0.5112568913895525, 'subsample': 0.43368977995938285, 'min_child_weight': 4}. Best is trial 32 with value: 0.11613741893236751.\n",
      "[I 2025-07-19 12:30:35,063] Trial 33 finished with value: 0.11742286724183047 and parameters: {'n_estimators': 7463, 'learning_rate': 0.0103461845756538, 'colsample_bytree': 0.5023298302310767, 'subsample': 0.40354222875244367, 'min_child_weight': 5}. Best is trial 32 with value: 0.11613741893236751.\n",
      "[I 2025-07-19 12:31:22,246] Trial 34 finished with value: 0.11702951224868767 and parameters: {'n_estimators': 6726, 'learning_rate': 0.006796822080969181, 'colsample_bytree': 0.5705955873048283, 'subsample': 0.4300517663067587, 'min_child_weight': 4}. Best is trial 32 with value: 0.11613741893236751.\n",
      "[I 2025-07-19 12:47:38,137] Trial 35 finished with value: 0.11810000781620847 and parameters: {'n_estimators': 7128, 'learning_rate': 0.03126067569114006, 'colsample_bytree': 0.471443214090484, 'subsample': 0.4151015092458614, 'min_child_weight': 5}. Best is trial 32 with value: 0.11613741893236751.\n",
      "[I 2025-07-19 13:00:13,422] Trial 36 finished with value: 0.117842588677975 and parameters: {'n_estimators': 6380, 'learning_rate': 0.018241336062045945, 'colsample_bytree': 0.5318631790839256, 'subsample': 0.5126227643464596, 'min_child_weight': 4}. Best is trial 32 with value: 0.11613741893236751.\n",
      "[I 2025-07-19 13:00:45,403] Trial 37 finished with value: 0.11655729218421032 and parameters: {'n_estimators': 4534, 'learning_rate': 0.00908742359123695, 'colsample_bytree': 0.587437551878055, 'subsample': 0.43636315899914707, 'min_child_weight': 4}. Best is trial 32 with value: 0.11613741893236751.\n",
      "[I 2025-07-19 13:01:14,290] Trial 38 finished with value: 0.11714324014660478 and parameters: {'n_estimators': 4091, 'learning_rate': 0.009199656958765592, 'colsample_bytree': 0.610367101830043, 'subsample': 0.47602992683068324, 'min_child_weight': 5}. Best is trial 32 with value: 0.11613741893236751.\n",
      "[I 2025-07-19 13:01:46,947] Trial 39 finished with value: 0.11767174107810285 and parameters: {'n_estimators': 4699, 'learning_rate': 0.014494196793851043, 'colsample_bytree': 0.3937117036659066, 'subsample': 0.49954820789178056, 'min_child_weight': 4}. Best is trial 32 with value: 0.11613741893236751.\n",
      "[I 2025-07-19 13:02:09,656] Trial 40 finished with value: 0.11817792590098625 and parameters: {'n_estimators': 3220, 'learning_rate': 0.01982479245041604, 'colsample_bytree': 0.5830967287523119, 'subsample': 0.44293647126076036, 'min_child_weight': 4}. Best is trial 32 with value: 0.11613741893236751.\n",
      "[I 2025-07-19 13:02:28,962] Trial 41 finished with value: 0.11642248373700659 and parameters: {'n_estimators': 2740, 'learning_rate': 0.009644591983994453, 'colsample_bytree': 0.5420367653247171, 'subsample': 0.42705906623511247, 'min_child_weight': 4}. Best is trial 32 with value: 0.11613741893236751.\n",
      "[I 2025-07-19 13:02:47,730] Trial 42 finished with value: 0.11585548625410427 and parameters: {'n_estimators': 2678, 'learning_rate': 0.0065151570279079985, 'colsample_bytree': 0.47056227826306296, 'subsample': 0.42678862503333426, 'min_child_weight': 4}. Best is trial 42 with value: 0.11585548625410427.\n",
      "[I 2025-07-19 13:03:04,711] Trial 43 finished with value: 0.11607997005672012 and parameters: {'n_estimators': 2426, 'learning_rate': 0.006729672967030827, 'colsample_bytree': 0.46807085020321915, 'subsample': 0.46027894293765115, 'min_child_weight': 4}. Best is trial 42 with value: 0.11585548625410427.\n",
      "[I 2025-07-19 13:03:21,779] Trial 44 finished with value: 0.11623718934908842 and parameters: {'n_estimators': 2436, 'learning_rate': 0.006277250515052941, 'colsample_bytree': 0.4790285569138111, 'subsample': 0.45495768203312464, 'min_child_weight': 5}. Best is trial 42 with value: 0.11585548625410427.\n",
      "[I 2025-07-19 13:03:37,068] Trial 45 finished with value: 0.11588500240565615 and parameters: {'n_estimators': 2178, 'learning_rate': 0.00635064349324898, 'colsample_bytree': 0.4774662715207687, 'subsample': 0.4587824122303298, 'min_child_weight': 5}. Best is trial 42 with value: 0.11585548625410427.\n",
      "[I 2025-07-19 13:03:49,455] Trial 46 finished with value: 0.1160594050692398 and parameters: {'n_estimators': 1780, 'learning_rate': 0.006431039953081279, 'colsample_bytree': 0.396796491568958, 'subsample': 0.4636241809171686, 'min_child_weight': 5}. Best is trial 42 with value: 0.11585548625410427.\n",
      "[I 2025-07-19 13:04:01,610] Trial 47 finished with value: 0.11680040764266884 and parameters: {'n_estimators': 1737, 'learning_rate': 0.005972268326460547, 'colsample_bytree': 0.34091586261983814, 'subsample': 0.5325299288906093, 'min_child_weight': 5}. Best is trial 42 with value: 0.11585548625410427.\n",
      "[I 2025-07-19 13:04:08,949] Trial 48 finished with value: 0.12091763660447591 and parameters: {'n_estimators': 1036, 'learning_rate': 0.005133803585594996, 'colsample_bytree': 0.39553689619211363, 'subsample': 0.4878829064417813, 'min_child_weight': 5}. Best is trial 42 with value: 0.11585548625410427.\n",
      "[I 2025-07-19 13:04:20,300] Trial 49 finished with value: 0.12181276171122535 and parameters: {'n_estimators': 2072, 'learning_rate': 0.09084287875709361, 'colsample_bytree': 0.29677897801560227, 'subsample': 0.7436426046255188, 'min_child_weight': 5}. Best is trial 42 with value: 0.11585548625410427.\n",
      "[I 2025-07-19 13:04:31,662] Trial 50 finished with value: 0.11652857261588873 and parameters: {'n_estimators': 1623, 'learning_rate': 0.006147833783860475, 'colsample_bytree': 0.45937488651824443, 'subsample': 0.4665288486712935, 'min_child_weight': 5}. Best is trial 42 with value: 0.11585548625410427.\n",
      "[I 2025-07-19 13:04:49,265] Trial 51 finished with value: 0.11607077029033347 and parameters: {'n_estimators': 2546, 'learning_rate': 0.0063746891051102445, 'colsample_bytree': 0.41803540630393143, 'subsample': 0.4600142846011448, 'min_child_weight': 5}. Best is trial 42 with value: 0.11585548625410427.\n",
      "[I 2025-07-19 13:05:08,404] Trial 52 finished with value: 0.1163881485298285 and parameters: {'n_estimators': 2755, 'learning_rate': 0.005031240306759435, 'colsample_bytree': 0.4180330949409782, 'subsample': 0.469500406259926, 'min_child_weight': 5}. Best is trial 42 with value: 0.11585548625410427.\n",
      "[I 2025-07-19 13:05:24,534] Trial 53 finished with value: 0.11726659742612033 and parameters: {'n_estimators': 2304, 'learning_rate': 0.008181502655060523, 'colsample_bytree': 0.36946863749115944, 'subsample': 0.5252126625253932, 'min_child_weight': 5}. Best is trial 42 with value: 0.11585548625410427.\n",
      "[I 2025-07-19 13:05:48,502] Trial 54 finished with value: 0.11680078098281646 and parameters: {'n_estimators': 3451, 'learning_rate': 0.0077712790086279316, 'colsample_bytree': 0.4201061131291029, 'subsample': 0.49630428199564813, 'min_child_weight': 5}. Best is trial 42 with value: 0.11585548625410427.\n",
      "[I 2025-07-19 13:06:11,056] Trial 55 finished with value: 0.11759053450101876 and parameters: {'n_estimators': 3126, 'learning_rate': 0.0061143256521394825, 'colsample_bytree': 0.9571889932829869, 'subsample': 0.45627208566142075, 'min_child_weight': 5}. Best is trial 42 with value: 0.11585548625410427.\n",
      "[I 2025-07-19 13:06:24,333] Trial 56 finished with value: 0.11681989564129784 and parameters: {'n_estimators': 1935, 'learning_rate': 0.006844537064368878, 'colsample_bytree': 0.36420290545448886, 'subsample': 0.5467217470066519, 'min_child_weight': 5}. Best is trial 42 with value: 0.11585548625410427.\n",
      "[I 2025-07-19 13:06:34,359] Trial 57 finished with value: 0.12143147630611278 and parameters: {'n_estimators': 1432, 'learning_rate': 0.06068641307531635, 'colsample_bytree': 0.31174176299055795, 'subsample': 0.5191321731760692, 'min_child_weight': 5}. Best is trial 42 with value: 0.11585548625410427.\n",
      "[I 2025-07-19 13:06:51,463] Trial 58 finished with value: 0.11748002195308316 and parameters: {'n_estimators': 2457, 'learning_rate': 0.012362991788537494, 'colsample_bytree': 0.4481469461300014, 'subsample': 0.479169589330094, 'min_child_weight': 5}. Best is trial 42 with value: 0.11585548625410427.\n",
      "[I 2025-07-19 13:07:12,496] Trial 59 finished with value: 0.11712845337407644 and parameters: {'n_estimators': 3058, 'learning_rate': 0.008668189877260197, 'colsample_bytree': 0.2521038355735986, 'subsample': 0.4456702849426545, 'min_child_weight': 5}. Best is trial 42 with value: 0.11585548625410427.\n",
      "[I 2025-07-19 13:07:29,537] Trial 60 finished with value: 0.12935987642057128 and parameters: {'n_estimators': 3853, 'learning_rate': 0.14353653570949856, 'colsample_bytree': 0.48104527374848305, 'subsample': 0.46283331815081086, 'min_child_weight': 3}. Best is trial 42 with value: 0.11585548625410427.\n",
      "[I 2025-07-19 13:07:45,545] Trial 61 finished with value: 0.11691249789496605 and parameters: {'n_estimators': 2264, 'learning_rate': 0.005806704571089145, 'colsample_bytree': 0.4833964631005919, 'subsample': 0.566209080312375, 'min_child_weight': 5}. Best is trial 42 with value: 0.11585548625410427.\n",
      "[I 2025-07-19 13:08:03,722] Trial 62 finished with value: 0.11593096137126929 and parameters: {'n_estimators': 2537, 'learning_rate': 0.006255270285252681, 'colsample_bytree': 0.4090161730398024, 'subsample': 0.4525492894154281, 'min_child_weight': 5}. Best is trial 42 with value: 0.11585548625410427.\n",
      "[I 2025-07-19 13:08:24,631] Trial 63 finished with value: 0.11776357197177865 and parameters: {'n_estimators': 2950, 'learning_rate': 0.007598710371965493, 'colsample_bytree': 0.4043431897504046, 'subsample': 0.6130602353536323, 'min_child_weight': 5}. Best is trial 42 with value: 0.11585548625410427.\n",
      "[I 2025-07-19 13:08:38,653] Trial 64 finished with value: 0.11612843410197243 and parameters: {'n_estimators': 2043, 'learning_rate': 0.005075654032812738, 'colsample_bytree': 0.43442927292564143, 'subsample': 0.43921690866878427, 'min_child_weight': 5}. Best is trial 42 with value: 0.11585548625410427.\n",
      "[I 2025-07-19 13:08:51,820] Trial 65 finished with value: 0.11627414347101782 and parameters: {'n_estimators': 1921, 'learning_rate': 0.005488162435112705, 'colsample_bytree': 0.43615626630003246, 'subsample': 0.49636349620374576, 'min_child_weight': 5}. Best is trial 42 with value: 0.11585548625410427.\n",
      "[I 2025-07-19 13:09:02,836] Trial 66 finished with value: 0.11709353815799228 and parameters: {'n_estimators': 1619, 'learning_rate': 0.005089311888157177, 'colsample_bytree': 0.37535129054864563, 'subsample': 0.4173855725062309, 'min_child_weight': 5}. Best is trial 42 with value: 0.11585548625410427.\n",
      "[I 2025-07-19 13:09:20,906] Trial 67 finished with value: 0.11594819080890517 and parameters: {'n_estimators': 2532, 'learning_rate': 0.006437112655548238, 'colsample_bytree': 0.32788134723043844, 'subsample': 0.4473029502005071, 'min_child_weight': 5}. Best is trial 42 with value: 0.11585548625410427.\n",
      "[I 2025-07-19 13:09:39,914] Trial 68 finished with value: 0.11599563390739356 and parameters: {'n_estimators': 2567, 'learning_rate': 0.006555486520747771, 'colsample_bytree': 0.31782400195154636, 'subsample': 0.4738926720289544, 'min_child_weight': 5}. Best is trial 42 with value: 0.11585548625410427.\n",
      "[I 2025-07-19 13:09:57,893] Trial 69 finished with value: 0.11758058660587016 and parameters: {'n_estimators': 2634, 'learning_rate': 0.01465764256186139, 'colsample_bytree': 0.3335279191561443, 'subsample': 0.4791971733305113, 'min_child_weight': 5}. Best is trial 42 with value: 0.11585548625410427.\n",
      "[I 2025-07-19 13:10:17,042] Trial 70 finished with value: 0.11745961754310608 and parameters: {'n_estimators': 2859, 'learning_rate': 0.009739901320467438, 'colsample_bytree': 0.24860931306016978, 'subsample': 0.5086533580684419, 'min_child_weight': 5}. Best is trial 42 with value: 0.11585548625410427.\n",
      "[I 2025-07-19 13:10:34,603] Trial 71 finished with value: 0.11576611310806284 and parameters: {'n_estimators': 2530, 'learning_rate': 0.006402875308135636, 'colsample_bytree': 0.31930348434739203, 'subsample': 0.45267390440497246, 'min_child_weight': 5}. Best is trial 71 with value: 0.11576611310806284.\n",
      "[I 2025-07-19 13:10:59,729] Trial 72 finished with value: 0.11697202823887899 and parameters: {'n_estimators': 3443, 'learning_rate': 0.008276148719231461, 'colsample_bytree': 0.26288225362000167, 'subsample': 0.45327590975225596, 'min_child_weight': 5}. Best is trial 71 with value: 0.11576611310806284.\n",
      "[I 2025-07-19 13:11:16,077] Trial 73 finished with value: 0.1159972033787605 and parameters: {'n_estimators': 2235, 'learning_rate': 0.0074927761643140646, 'colsample_bytree': 0.3205185795436815, 'subsample': 0.4723755506329693, 'min_child_weight': 5}. Best is trial 71 with value: 0.11576611310806284.\n",
      "[I 2025-07-19 13:11:33,017] Trial 74 finished with value: 0.11706766595211006 and parameters: {'n_estimators': 2245, 'learning_rate': 0.011479954290911653, 'colsample_bytree': 0.2962490379762396, 'subsample': 0.47330664664524685, 'min_child_weight': 5}. Best is trial 71 with value: 0.11576611310806284.\n",
      "Best XGBoost RMSE: 0.1158\n",
      "Evaluating XGBoost_Optimized...\n",
      "  RMSE: 0.1153 (+/- 0.0106)\n",
      "  Baseline RMSE (CV): 0.1419\n",
      "  Optimized RMSE (Optuna): 0.1158\n",
      "  Optimized RMSE (CV eval): 0.1153\n",
      "  Improvement (baseline CV vs optimized CV): 0.0266\n"
     ]
    }
   ],
   "source": [
    "def objective_xgboost(trial):\n",
    "    \"\"\"Objective function for XGBoost hyperparameter optimization\"\"\"\n",
    "    params = {\n",
    "        'n_estimators': trial.suggest_int('n_estimators', 1000, 8000),\n",
    "        'learning_rate': trial.suggest_float('learning_rate', 0.005, 0.3, log=True),\n",
    "        'colsample_bytree': trial.suggest_float('colsample_bytree', 0.2, 1.0),\n",
    "        'subsample': trial.suggest_float('subsample', 0.4, 0.8),\n",
    "        'min_child_weight': trial.suggest_int('min_child_weight', 2, 5),\n",
    "        'random_state': RANDOM_STATE,\n",
    "        'n_jobs': -1,\n",
    "        'verbosity': 0\n",
    "    }\n",
    "    \n",
    "    model = XGBRegressor(**params)\n",
    "    cv_scores = cross_val_score(model, X_train_split, y_train, cv=cv_strategy,\n",
    "                                scoring='neg_mean_squared_error', n_jobs=1)\n",
    "    return np.sqrt(-cv_scores.mean())\n",
    "\n",
    "print(\"\\nOptimizing XGBoost...\")\n",
    "study_xgb = optuna.create_study(direction='minimize', study_name='xgb_optimization')\n",
    "study_xgb.optimize(objective_xgboost, n_trials=75, show_progress_bar=True)\n",
    "\n",
    "print(f\"Best XGBoost RMSE: {study_xgb.best_value:.4f}\")\n",
    "best_xgb_params = study_xgb.best_params\n",
    "best_xgb = XGBRegressor(**best_xgb_params, random_state=RANDOM_STATE, n_jobs=-1, verbosity=0)\n",
    "xgb_result = evaluate_model_cv(best_xgb, X_train_split, y_train, cv_strategy, \"XGBoost_Optimized\")\n",
    "xgb_result['best_params'] = best_xgb_params\n",
    "\n",
    "print(f\"  Baseline RMSE (CV): {baseline_results['XGBoost']['cv_rmse_mean']:.4f}\")\n",
    "print(f\"  Optimized RMSE (Optuna): {study_xgb.best_value:.4f}\")\n",
    "print(f\"  Optimized RMSE (CV eval): {xgb_result['cv_rmse_mean']:.4f}\")\n",
    "improvement = baseline_results['XGBoost']['cv_rmse_mean'] - xgb_result['cv_rmse_mean']\n",
    "print(f\"  Improvement (baseline CV vs optimized CV): {improvement:.4f}\")"
   ]
  },
  {
   "cell_type": "markdown",
   "id": "f3c0fbf3",
   "metadata": {},
   "source": [
    "XGBoost demonstrated a clear improvement following optimization, with RMSE dropping from 0.1419 (baseline CV) to 0.1148 (optimized CV evaluation), resulting in a performance gain of 0.0270. This indicates that hyperparameter tuning had a strong positive impact on model accuracy.\n",
    "\n",
    "### 3.7 CatBoost Optimization\n",
    "Optimize CatBoost with categorical feature handling and gradient boosting parameters.\n"
   ]
  },
  {
   "cell_type": "code",
   "execution_count": 21,
   "id": "9a780215",
   "metadata": {},
   "outputs": [
    {
     "name": "stderr",
     "output_type": "stream",
     "text": [
      "[I 2025-07-19 13:11:36,015] A new study created in memory with name: catboost_optimization\n"
     ]
    },
    {
     "name": "stdout",
     "output_type": "stream",
     "text": [
      "\n",
      "Optimizing CatBoost...\n"
     ]
    },
    {
     "data": {
      "application/vnd.jupyter.widget-view+json": {
       "model_id": "4e1bb018fa7a4069a231b2ebb85b160e",
       "version_major": 2,
       "version_minor": 0
      },
      "text/plain": [
       "  0%|          | 0/75 [00:00<?, ?it/s]"
      ]
     },
     "metadata": {},
     "output_type": "display_data"
    },
    {
     "name": "stdout",
     "output_type": "stream",
     "text": [
      "[I 2025-07-19 13:11:47,836] Trial 0 finished with value: 0.11910913081396961 and parameters: {'iterations': 7575, 'learning_rate': 0.13668627666820005, 'depth': 5}. Best is trial 0 with value: 0.11910913081396961.\n",
      "[I 2025-07-19 13:11:51,418] Trial 1 finished with value: 0.1217892329120495 and parameters: {'iterations': 2254, 'learning_rate': 0.21063087734372501, 'depth': 5}. Best is trial 0 with value: 0.11910913081396961.\n",
      "[I 2025-07-19 13:12:08,350] Trial 2 finished with value: 0.12670651047681863 and parameters: {'iterations': 7581, 'learning_rate': 0.2992972850921043, 'depth': 6}. Best is trial 0 with value: 0.11910913081396961.\n",
      "[I 2025-07-19 13:12:10,791] Trial 3 finished with value: 0.12239515630230781 and parameters: {'iterations': 2103, 'learning_rate': 0.005233811684194607, 'depth': 4}. Best is trial 0 with value: 0.11910913081396961.\n",
      "[I 2025-07-19 13:12:14,632] Trial 4 finished with value: 0.11661217431694541 and parameters: {'iterations': 5565, 'learning_rate': 0.030621770151420834, 'depth': 3}. Best is trial 4 with value: 0.11661217431694541.\n",
      "[I 2025-07-19 13:12:23,930] Trial 5 finished with value: 0.11490070822929664 and parameters: {'iterations': 6695, 'learning_rate': 0.009213848580689594, 'depth': 5}. Best is trial 5 with value: 0.11490070822929664.\n",
      "[I 2025-07-19 13:12:34,456] Trial 6 finished with value: 0.11661566096622564 and parameters: {'iterations': 7531, 'learning_rate': 0.04018448201232295, 'depth': 5}. Best is trial 5 with value: 0.11490070822929664.\n",
      "[I 2025-07-19 13:12:46,843] Trial 7 finished with value: 0.12057740061299317 and parameters: {'iterations': 5577, 'learning_rate': 0.1476768785470869, 'depth': 6}. Best is trial 5 with value: 0.11490070822929664.\n",
      "[I 2025-07-19 13:12:57,737] Trial 8 finished with value: 0.1166135030614568 and parameters: {'iterations': 5055, 'learning_rate': 0.03867166092754077, 'depth': 6}. Best is trial 5 with value: 0.11490070822929664.\n",
      "[I 2025-07-19 13:13:13,226] Trial 9 finished with value: 0.11814948350967813 and parameters: {'iterations': 4338, 'learning_rate': 0.06931151555826268, 'depth': 7}. Best is trial 5 with value: 0.11490070822929664.\n",
      "[I 2025-07-19 13:13:15,597] Trial 10 finished with value: 0.1190643794920536 and parameters: {'iterations': 3776, 'learning_rate': 0.006597174620926074, 'depth': 3}. Best is trial 5 with value: 0.11490070822929664.\n",
      "[I 2025-07-19 13:13:18,980] Trial 11 finished with value: 0.11521812418458181 and parameters: {'iterations': 5640, 'learning_rate': 0.014573095556197495, 'depth': 3}. Best is trial 5 with value: 0.11490070822929664.\n",
      "[I 2025-07-19 13:13:24,783] Trial 12 finished with value: 0.11546931121266817 and parameters: {'iterations': 6400, 'learning_rate': 0.012841843162045497, 'depth': 4}. Best is trial 5 with value: 0.11490070822929664.\n",
      "[I 2025-07-19 13:13:30,656] Trial 13 finished with value: 0.11581144928776875 and parameters: {'iterations': 6160, 'learning_rate': 0.012872101981107298, 'depth': 4}. Best is trial 5 with value: 0.11490070822929664.\n",
      "[I 2025-07-19 13:13:33,315] Trial 14 finished with value: 0.11627756638300196 and parameters: {'iterations': 3333, 'learning_rate': 0.013010943047072397, 'depth': 3}. Best is trial 5 with value: 0.11490070822929664.\n",
      "[I 2025-07-19 13:13:57,107] Trial 15 finished with value: 0.11761335394867148 and parameters: {'iterations': 6626, 'learning_rate': 0.020796230865027555, 'depth': 7}. Best is trial 5 with value: 0.11490070822929664.\n",
      "[I 2025-07-19 13:14:03,463] Trial 16 finished with value: 0.1155310202963423 and parameters: {'iterations': 6494, 'learning_rate': 0.008234810664025151, 'depth': 4}. Best is trial 5 with value: 0.11490070822929664.\n",
      "[I 2025-07-19 13:14:04,322] Trial 17 finished with value: 0.12001125867722022 and parameters: {'iterations': 1050, 'learning_rate': 0.020285393090799984, 'depth': 3}. Best is trial 5 with value: 0.11490070822929664.\n",
      "[I 2025-07-19 13:14:11,092] Trial 18 finished with value: 0.11529097544184565 and parameters: {'iterations': 4665, 'learning_rate': 0.009136934461956047, 'depth': 5}. Best is trial 5 with value: 0.11490070822929664.\n",
      "[I 2025-07-19 13:14:18,026] Trial 19 finished with value: 0.11634770365220215 and parameters: {'iterations': 7017, 'learning_rate': 0.020214019117241765, 'depth': 4}. Best is trial 5 with value: 0.11490070822929664.\n",
      "[I 2025-07-19 13:14:30,246] Trial 20 finished with value: 0.11600845604717691 and parameters: {'iterations': 5510, 'learning_rate': 0.07230919052678288, 'depth': 6}. Best is trial 5 with value: 0.11490070822929664.\n",
      "[I 2025-07-19 13:14:36,755] Trial 21 finished with value: 0.11502062935400266 and parameters: {'iterations': 4691, 'learning_rate': 0.009127318686135425, 'depth': 5}. Best is trial 5 with value: 0.11490070822929664.\n",
      "[I 2025-07-19 13:14:42,640] Trial 22 finished with value: 0.11513068800142205 and parameters: {'iterations': 4033, 'learning_rate': 0.009338956024563663, 'depth': 5}. Best is trial 5 with value: 0.11490070822929664.\n",
      "[I 2025-07-19 13:14:47,288] Trial 23 finished with value: 0.11614455282436248 and parameters: {'iterations': 3204, 'learning_rate': 0.008513799702184193, 'depth': 5}. Best is trial 5 with value: 0.11490070822929664.\n",
      "[I 2025-07-19 13:14:56,495] Trial 24 finished with value: 0.11681965286699969 and parameters: {'iterations': 4136, 'learning_rate': 0.006199985335544694, 'depth': 6}. Best is trial 5 with value: 0.11490070822929664.\n",
      "[I 2025-07-19 13:15:00,730] Trial 25 finished with value: 0.11638171933358026 and parameters: {'iterations': 2621, 'learning_rate': 0.009390855786015801, 'depth': 5}. Best is trial 5 with value: 0.11490070822929664.\n",
      "[I 2025-07-19 13:15:07,327] Trial 26 finished with value: 0.11597486519348726 and parameters: {'iterations': 4795, 'learning_rate': 0.016569795471865108, 'depth': 5}. Best is trial 5 with value: 0.11490070822929664.\n",
      "[I 2025-07-19 13:15:15,603] Trial 27 finished with value: 0.11799695279176342 and parameters: {'iterations': 3769, 'learning_rate': 0.005003987670309424, 'depth': 6}. Best is trial 5 with value: 0.11490070822929664.\n",
      "[I 2025-07-19 13:15:24,007] Trial 28 finished with value: 0.1162369365558587 and parameters: {'iterations': 7991, 'learning_rate': 0.02840525877446111, 'depth': 4}. Best is trial 5 with value: 0.11490070822929664.\n",
      "[I 2025-07-19 13:15:31,921] Trial 29 finished with value: 0.11722577124655881 and parameters: {'iterations': 5046, 'learning_rate': 0.06405002886650996, 'depth': 5}. Best is trial 5 with value: 0.11490070822929664.\n",
      "[I 2025-07-19 13:15:36,110] Trial 30 finished with value: 0.115725640501169 and parameters: {'iterations': 2905, 'learning_rate': 0.00967808382771578, 'depth': 5}. Best is trial 5 with value: 0.11490070822929664.\n",
      "[I 2025-07-19 13:15:41,392] Trial 31 finished with value: 0.11564604979861755 and parameters: {'iterations': 5793, 'learning_rate': 0.01444451050766962, 'depth': 4}. Best is trial 5 with value: 0.11490070822929664.\n",
      "[I 2025-07-19 13:16:05,941] Trial 32 finished with value: 0.11698105463018177 and parameters: {'iterations': 7057, 'learning_rate': 0.007441894524701184, 'depth': 7}. Best is trial 5 with value: 0.11490070822929664.\n",
      "[I 2025-07-19 13:16:12,959] Trial 33 finished with value: 0.11516307559683807 and parameters: {'iterations': 5072, 'learning_rate': 0.010988141969596885, 'depth': 5}. Best is trial 5 with value: 0.11490070822929664.\n",
      "[I 2025-07-19 13:16:18,379] Trial 34 finished with value: 0.11532076297562832 and parameters: {'iterations': 3958, 'learning_rate': 0.011052547393132202, 'depth': 5}. Best is trial 5 with value: 0.11490070822929664.\n",
      "[I 2025-07-19 13:16:25,242] Trial 35 finished with value: 0.11608634833602495 and parameters: {'iterations': 4970, 'learning_rate': 0.0060043487293652805, 'depth': 5}. Best is trial 5 with value: 0.11490070822929664.\n",
      "[I 2025-07-19 13:16:34,967] Trial 36 finished with value: 0.11603438953965396 and parameters: {'iterations': 4414, 'learning_rate': 0.010965524519823635, 'depth': 6}. Best is trial 5 with value: 0.11490070822929664.\n",
      "[I 2025-07-19 13:16:40,047] Trial 37 finished with value: 0.11586303752930298 and parameters: {'iterations': 3503, 'learning_rate': 0.02635143106293203, 'depth': 5}. Best is trial 5 with value: 0.11490070822929664.\n",
      "[I 2025-07-19 13:16:44,349] Trial 38 finished with value: 0.11992169928622577 and parameters: {'iterations': 1908, 'learning_rate': 0.0067931208332287375, 'depth': 6}. Best is trial 5 with value: 0.11490070822929664.\n",
      "[I 2025-07-19 13:16:51,599] Trial 39 finished with value: 0.11545436764819289 and parameters: {'iterations': 5322, 'learning_rate': 0.016890131404310206, 'depth': 5}. Best is trial 5 with value: 0.11490070822929664.\n",
      "[I 2025-07-19 13:17:04,825] Trial 40 finished with value: 0.12301701462988496 and parameters: {'iterations': 6078, 'learning_rate': 0.26669975474584845, 'depth': 6}. Best is trial 5 with value: 0.11490070822929664.\n",
      "[I 2025-07-19 13:17:10,100] Trial 41 finished with value: 0.11549356155418168 and parameters: {'iterations': 5876, 'learning_rate': 0.011251501307045862, 'depth': 4}. Best is trial 5 with value: 0.11490070822929664.\n",
      "[I 2025-07-19 13:17:13,331] Trial 42 finished with value: 0.1153304526509685 and parameters: {'iterations': 5205, 'learning_rate': 0.015398624554881054, 'depth': 3}. Best is trial 5 with value: 0.11490070822929664.\n",
      "[I 2025-07-19 13:17:19,695] Trial 43 finished with value: 0.11584223151638995 and parameters: {'iterations': 4433, 'learning_rate': 0.007167853629717645, 'depth': 5}. Best is trial 5 with value: 0.11490070822929664.\n",
      "[I 2025-07-19 13:17:26,045] Trial 44 finished with value: 0.11596793497297671 and parameters: {'iterations': 7135, 'learning_rate': 0.043659087437646134, 'depth': 4}. Best is trial 5 with value: 0.11490070822929664.\n",
      "[I 2025-07-19 13:17:33,900] Trial 45 finished with value: 0.11598338751648934 and parameters: {'iterations': 5494, 'learning_rate': 0.023555393653859377, 'depth': 5}. Best is trial 5 with value: 0.11490070822929664.\n",
      "[I 2025-07-19 13:17:38,550] Trial 46 finished with value: 0.11500850488528987 and parameters: {'iterations': 4785, 'learning_rate': 0.010759506646334785, 'depth': 4}. Best is trial 5 with value: 0.11490070822929664.\n",
      "[I 2025-07-19 13:17:43,323] Trial 47 finished with value: 0.11674304620998256 and parameters: {'iterations': 4689, 'learning_rate': 0.005893196881721759, 'depth': 4}. Best is trial 5 with value: 0.11490070822929664.\n",
      "[I 2025-07-19 13:17:49,599] Trial 48 finished with value: 0.11530142571421537 and parameters: {'iterations': 4122, 'learning_rate': 0.010876525893660036, 'depth': 5}. Best is trial 5 with value: 0.11490070822929664.\n",
      "[I 2025-07-19 13:17:52,999] Trial 49 finished with value: 0.11841807557230855 and parameters: {'iterations': 3648, 'learning_rate': 0.13919364057862202, 'depth': 4}. Best is trial 5 with value: 0.11490070822929664.\n",
      "[I 2025-07-19 13:17:59,048] Trial 50 finished with value: 0.11642035057148833 and parameters: {'iterations': 4226, 'learning_rate': 0.03476061134915387, 'depth': 5}. Best is trial 5 with value: 0.11490070822929664.\n",
      "[I 2025-07-19 13:18:03,133] Trial 51 finished with value: 0.1150402280077182 and parameters: {'iterations': 6711, 'learning_rate': 0.012978289967001044, 'depth': 3}. Best is trial 5 with value: 0.11490070822929664.\n",
      "[I 2025-07-19 13:18:07,232] Trial 52 finished with value: 0.1156676194895808 and parameters: {'iterations': 6811, 'learning_rate': 0.008447568377866733, 'depth': 3}. Best is trial 5 with value: 0.11490070822929664.\n",
      "[I 2025-07-19 13:18:12,146] Trial 53 finished with value: 0.11527253280530357 and parameters: {'iterations': 7797, 'learning_rate': 0.012984078142837583, 'depth': 3}. Best is trial 5 with value: 0.11490070822929664.\n",
      "[I 2025-07-19 13:18:17,964] Trial 54 finished with value: 0.11588417255814713 and parameters: {'iterations': 6354, 'learning_rate': 0.00798001085733149, 'depth': 4}. Best is trial 5 with value: 0.11490070822929664.\n",
      "[I 2025-07-19 13:18:27,583] Trial 55 finished with value: 0.11586204207322037 and parameters: {'iterations': 6726, 'learning_rate': 0.017784604488969024, 'depth': 5}. Best is trial 5 with value: 0.11490070822929664.\n",
      "[I 2025-07-19 13:18:34,398] Trial 56 finished with value: 0.11570493542254812 and parameters: {'iterations': 7431, 'learning_rate': 0.012518896941553823, 'depth': 4}. Best is trial 5 with value: 0.11490070822929664.\n",
      "[I 2025-07-19 13:18:38,158] Trial 57 finished with value: 0.11585073965574061 and parameters: {'iterations': 6117, 'learning_rate': 0.009949792571264198, 'depth': 3}. Best is trial 5 with value: 0.11490070822929664.\n",
      "[I 2025-07-19 13:18:45,340] Trial 58 finished with value: 0.11640932292169846 and parameters: {'iterations': 4797, 'learning_rate': 0.005452041064728455, 'depth': 5}. Best is trial 5 with value: 0.11490070822929664.\n",
      "[I 2025-07-19 13:19:02,433] Trial 59 finished with value: 0.11603068072763524 and parameters: {'iterations': 7440, 'learning_rate': 0.007179959182043451, 'depth': 6}. Best is trial 5 with value: 0.11490070822929664.\n",
      "[I 2025-07-19 13:19:06,806] Trial 60 finished with value: 0.11531458653567879 and parameters: {'iterations': 4607, 'learning_rate': 0.013555468366477731, 'depth': 4}. Best is trial 5 with value: 0.11490070822929664.\n",
      "[I 2025-07-19 13:19:10,640] Trial 61 finished with value: 0.11573712166271176 and parameters: {'iterations': 5769, 'learning_rate': 0.009711222257881647, 'depth': 3}. Best is trial 5 with value: 0.11490070822929664.\n",
      "[I 2025-07-19 13:19:14,156] Trial 62 finished with value: 0.11528112726434296 and parameters: {'iterations': 5229, 'learning_rate': 0.01894446977783161, 'depth': 3}. Best is trial 5 with value: 0.11490070822929664.\n",
      "[I 2025-07-19 13:19:18,058] Trial 63 finished with value: 0.11539589211444973 and parameters: {'iterations': 6401, 'learning_rate': 0.015150479434763105, 'depth': 3}. Best is trial 5 with value: 0.11490070822929664.\n",
      "[I 2025-07-19 13:19:21,154] Trial 64 finished with value: 0.1168106479605227 and parameters: {'iterations': 4966, 'learning_rate': 0.008615240852827638, 'depth': 3}. Best is trial 5 with value: 0.11490070822929664.\n",
      "[I 2025-07-19 13:19:26,839] Trial 65 finished with value: 0.11563669581376827 and parameters: {'iterations': 3912, 'learning_rate': 0.011460674528312264, 'depth': 5}. Best is trial 5 with value: 0.11490070822929664.\n",
      "[I 2025-07-19 13:19:30,327] Trial 66 finished with value: 0.11901467261524021 and parameters: {'iterations': 5474, 'learning_rate': 0.11510279290909488, 'depth': 3}. Best is trial 5 with value: 0.11490070822929664.\n",
      "[I 2025-07-19 13:19:39,348] Trial 67 finished with value: 0.11596018152961877 and parameters: {'iterations': 5658, 'learning_rate': 0.02358047082332953, 'depth': 5}. Best is trial 5 with value: 0.11490070822929664.\n",
      "[I 2025-07-19 13:19:46,297] Trial 68 finished with value: 0.11499313992988663 and parameters: {'iterations': 7242, 'learning_rate': 0.009880385749760792, 'depth': 4}. Best is trial 5 with value: 0.11490070822929664.\n",
      "[I 2025-07-19 13:19:52,786] Trial 69 finished with value: 0.11560103229350223 and parameters: {'iterations': 7181, 'learning_rate': 0.006518370599290747, 'depth': 4}. Best is trial 5 with value: 0.11490070822929664.\n",
      "[I 2025-07-19 13:20:02,734] Trial 70 finished with value: 0.11555548366355749 and parameters: {'iterations': 6747, 'learning_rate': 0.009609589197401682, 'depth': 5}. Best is trial 5 with value: 0.11490070822929664.\n",
      "[I 2025-07-19 13:20:08,920] Trial 71 finished with value: 0.11562161723225706 and parameters: {'iterations': 5945, 'learning_rate': 0.007770794350924274, 'depth': 4}. Best is trial 5 with value: 0.11490070822929664.\n",
      "[I 2025-07-19 13:20:13,628] Trial 72 finished with value: 0.11517024512643732 and parameters: {'iterations': 7271, 'learning_rate': 0.012204347076821241, 'depth': 3}. Best is trial 5 with value: 0.11490070822929664.\n",
      "[I 2025-07-19 13:20:24,646] Trial 73 finished with value: 0.1153601056784436 and parameters: {'iterations': 7663, 'learning_rate': 0.01258049211642165, 'depth': 5}. Best is trial 5 with value: 0.11490070822929664.\n",
      "[I 2025-07-19 13:20:29,363] Trial 74 finished with value: 0.11520935293679388 and parameters: {'iterations': 7343, 'learning_rate': 0.01028733200963426, 'depth': 3}. Best is trial 5 with value: 0.11490070822929664.\n",
      "Best CatBoost RMSE: 0.1149\n",
      "Evaluating CatBoost_Optimized...\n",
      "  RMSE: 0.1143 (+/- 0.0116)\n",
      "  Baseline RMSE (CV): 0.1166\n",
      "  Optimized RMSE (Optuna): 0.1149\n",
      "  Optimized RMSE (CV eval): 0.1143\n",
      "  Improvement (baseline CV vs optimized CV): 0.0023\n"
     ]
    }
   ],
   "source": [
    "def objective_catboost(trial):\n",
    "    \"\"\"Objective function for CatBoost hyperparameter optimization\"\"\"\n",
    "    params = {\n",
    "        'iterations': trial.suggest_int('iterations', 1000, 8000),\n",
    "        'learning_rate': trial.suggest_float('learning_rate', 0.005, 0.3, log=True),\n",
    "        'depth': trial.suggest_int('depth', 3, 7),\n",
    "        'eval_metric': 'RMSE',\n",
    "        'random_state': RANDOM_STATE,\n",
    "        'verbose': False\n",
    "    }\n",
    "    \n",
    "    model = CatBoostRegressor(**params)\n",
    "    cv_scores = cross_val_score(model, X_train_split, y_train, cv=cv_strategy,\n",
    "                                scoring='neg_mean_squared_error', n_jobs=-1)\n",
    "    return np.sqrt(-cv_scores.mean())\n",
    "\n",
    "print(\"\\nOptimizing CatBoost...\")\n",
    "study_catboost = optuna.create_study(direction='minimize', study_name='catboost_optimization')\n",
    "study_catboost.optimize(objective_catboost, n_trials=75, show_progress_bar=True)\n",
    "\n",
    "print(f\"Best CatBoost RMSE: {study_catboost.best_value:.4f}\")\n",
    "best_catboost_params = study_catboost.best_params\n",
    "best_catboost = CatBoostRegressor(**best_catboost_params, random_state=RANDOM_STATE, verbose=False)\n",
    "catboost_result = evaluate_model_cv(best_catboost, X_train_split, y_train, cv_strategy, \"CatBoost_Optimized\")\n",
    "catboost_result['best_params'] = best_catboost_params\n",
    "\n",
    "print(f\"  Baseline RMSE (CV): {baseline_results['CatBoost']['cv_rmse_mean']:.4f}\")\n",
    "print(f\"  Optimized RMSE (Optuna): {study_catboost.best_value:.4f}\")\n",
    "print(f\"  Optimized RMSE (CV eval): {catboost_result['cv_rmse_mean']:.4f}\")\n",
    "improvement = baseline_results['CatBoost']['cv_rmse_mean'] - catboost_result['cv_rmse_mean']\n",
    "print(f\"  Improvement (baseline CV vs optimized CV): {improvement:.4f}\")"
   ]
  },
  {
   "cell_type": "markdown",
   "id": "dacd9163",
   "metadata": {},
   "source": [
    "CatBoost showed a modest improvement after optimization, with the RMSE decreasing from 0.1166 (baseline CV) to 0.1143 (optimized CV evaluation). The improvement of 0.0023 suggests that tuning had a small but measurable effect on performance.\n",
    "\n",
    "### 3.8 LightGBM Optimization\n",
    "Optimize LightGBM with gradient boosting and leaf-wise tree growth parameters."
   ]
  },
  {
   "cell_type": "code",
   "execution_count": 22,
   "id": "39694d17",
   "metadata": {},
   "outputs": [
    {
     "name": "stderr",
     "output_type": "stream",
     "text": [
      "[I 2025-07-19 13:20:38,962] A new study created in memory with name: lightgbm_optimization\n"
     ]
    },
    {
     "name": "stdout",
     "output_type": "stream",
     "text": [
      "\n",
      "Optimizing LightGBM...\n"
     ]
    },
    {
     "data": {
      "application/vnd.jupyter.widget-view+json": {
       "model_id": "ed125ee118884eeca05f41012e4b1a46",
       "version_major": 2,
       "version_minor": 0
      },
      "text/plain": [
       "  0%|          | 0/75 [00:00<?, ?it/s]"
      ]
     },
     "metadata": {},
     "output_type": "display_data"
    },
    {
     "name": "stdout",
     "output_type": "stream",
     "text": [
      "[I 2025-07-19 13:22:01,135] Trial 0 finished with value: 0.12762538694059483 and parameters: {'n_estimators': 6219, 'max_depth': 14, 'learning_rate': 0.012232277976042951, 'subsample': 0.5506567176322892, 'colsample_bytree': 0.49533496424224843, 'min_child_samples': 40, 'reg_alpha': 0.010309515386800399, 'reg_lambda': 0.02883730071274468}. Best is trial 0 with value: 0.12762538694059483.\n",
      "[I 2025-07-19 13:22:16,764] Trial 1 finished with value: 0.13004676757394215 and parameters: {'n_estimators': 3893, 'max_depth': 15, 'learning_rate': 0.01780664781634227, 'subsample': 0.4125625756118012, 'colsample_bytree': 0.44662983493629577, 'min_child_samples': 50, 'reg_alpha': 1.1042270818519186, 'reg_lambda': 4.337010931313774}. Best is trial 0 with value: 0.12762538694059483.\n",
      "[I 2025-07-19 13:22:26,596] Trial 2 finished with value: 0.13789994049531376 and parameters: {'n_estimators': 4397, 'max_depth': 3, 'learning_rate': 0.07207212991671794, 'subsample': 0.44806674734447005, 'colsample_bytree': 0.24762769058026307, 'min_child_samples': 96, 'reg_alpha': 0.6083423771832703, 'reg_lambda': 0.025069383466495287}. Best is trial 0 with value: 0.12762538694059483.\n",
      "[I 2025-07-19 13:22:49,358] Trial 3 finished with value: 0.13675849729778075 and parameters: {'n_estimators': 7811, 'max_depth': 10, 'learning_rate': 0.012734626268137584, 'subsample': 0.7078970370039116, 'colsample_bytree': 0.6716295441706657, 'min_child_samples': 77, 'reg_alpha': 0.7580108844009278, 'reg_lambda': 1.207954175895332}. Best is trial 0 with value: 0.12762538694059483.\n",
      "[I 2025-07-19 13:23:11,100] Trial 4 finished with value: 0.12605612754943052 and parameters: {'n_estimators': 3853, 'max_depth': 4, 'learning_rate': 0.009309328169527507, 'subsample': 0.7178351591232346, 'colsample_bytree': 0.3576112763157923, 'min_child_samples': 47, 'reg_alpha': 0.05475967000476645, 'reg_lambda': 3.888761329970389}. Best is trial 4 with value: 0.12605612754943052.\n",
      "[I 2025-07-19 13:24:08,076] Trial 5 finished with value: 0.1307113555173555 and parameters: {'n_estimators': 5419, 'max_depth': 11, 'learning_rate': 0.005236015361644553, 'subsample': 0.509845599949124, 'colsample_bytree': 0.8476669989047716, 'min_child_samples': 44, 'reg_alpha': 0.010458608622221163, 'reg_lambda': 0.08632540578031696}. Best is trial 4 with value: 0.12605612754943052.\n",
      "[I 2025-07-19 13:24:16,056] Trial 6 finished with value: 0.14159185527117182 and parameters: {'n_estimators': 6953, 'max_depth': 7, 'learning_rate': 0.08493878864113577, 'subsample': 0.6783663687797185, 'colsample_bytree': 0.9055844929087441, 'min_child_samples': 99, 'reg_alpha': 0.48469913450042545, 'reg_lambda': 0.3599969966896674}. Best is trial 4 with value: 0.12605612754943052.\n",
      "[I 2025-07-19 13:24:29,069] Trial 7 finished with value: 0.12723764212481858 and parameters: {'n_estimators': 1357, 'max_depth': 10, 'learning_rate': 0.14692846938048515, 'subsample': 0.44341232659901625, 'colsample_bytree': 0.5448872926831271, 'min_child_samples': 30, 'reg_alpha': 0.019203377689555358, 'reg_lambda': 7.228424222051265}. Best is trial 4 with value: 0.12605612754943052.\n",
      "[I 2025-07-19 13:24:42,118] Trial 8 finished with value: 0.13662655389956732 and parameters: {'n_estimators': 4362, 'max_depth': 13, 'learning_rate': 0.15255907429817006, 'subsample': 0.45201478670485096, 'colsample_bytree': 0.9367807403803952, 'min_child_samples': 50, 'reg_alpha': 0.02622339943384297, 'reg_lambda': 0.21701005015596506}. Best is trial 4 with value: 0.12605612754943052.\n",
      "[I 2025-07-19 13:24:50,294] Trial 9 finished with value: 0.1318843080210124 and parameters: {'n_estimators': 6465, 'max_depth': 7, 'learning_rate': 0.075970536126388, 'subsample': 0.6886715784032836, 'colsample_bytree': 0.555828226038899, 'min_child_samples': 45, 'reg_alpha': 1.1846246471769426, 'reg_lambda': 0.24935526089766105}. Best is trial 4 with value: 0.12605612754943052.\n",
      "[I 2025-07-19 13:25:00,066] Trial 10 finished with value: 0.16354314262707056 and parameters: {'n_estimators': 2349, 'max_depth': 3, 'learning_rate': 0.005187241357576696, 'subsample': 0.7834305897937075, 'colsample_bytree': 0.2067822366421263, 'min_child_samples': 8, 'reg_alpha': 9.21231327862362, 'reg_lambda': 1.6832964476793846}. Best is trial 4 with value: 0.12605612754943052.\n",
      "[I 2025-07-19 13:25:06,741] Trial 11 finished with value: 0.12946108564167777 and parameters: {'n_estimators': 1021, 'max_depth': 7, 'learning_rate': 0.2093079568517936, 'subsample': 0.615140820594283, 'colsample_bytree': 0.3517938224577382, 'min_child_samples': 21, 'reg_alpha': 0.07232666865737877, 'reg_lambda': 8.04689520771044}. Best is trial 4 with value: 0.12605612754943052.\n",
      "[I 2025-07-19 13:25:27,796] Trial 12 finished with value: 0.12768605069393393 and parameters: {'n_estimators': 2498, 'max_depth': 5, 'learning_rate': 0.02916579690746745, 'subsample': 0.6074062103496055, 'colsample_bytree': 0.731298571178307, 'min_child_samples': 20, 'reg_alpha': 0.07823289612133785, 'reg_lambda': 2.4910780385729434}. Best is trial 4 with value: 0.12605612754943052.\n",
      "[I 2025-07-19 13:25:53,695] Trial 13 finished with value: 0.13248019106792028 and parameters: {'n_estimators': 3055, 'max_depth': 12, 'learning_rate': 0.035127848171459634, 'subsample': 0.7969600460345814, 'colsample_bytree': 0.3713226546867989, 'min_child_samples': 68, 'reg_alpha': 0.09629890927187622, 'reg_lambda': 9.881424641898935}. Best is trial 4 with value: 0.12605612754943052.\n",
      "[I 2025-07-19 13:25:58,596] Trial 14 finished with value: 0.13374043064982288 and parameters: {'n_estimators': 1415, 'max_depth': 9, 'learning_rate': 0.28385231904391245, 'subsample': 0.5181357438609406, 'colsample_bytree': 0.6429358211690636, 'min_child_samples': 30, 'reg_alpha': 0.033102596050166265, 'reg_lambda': 0.8310370937145467}. Best is trial 4 with value: 0.12605612754943052.\n",
      "[I 2025-07-19 13:26:10,683] Trial 15 finished with value: 0.13494405635631757 and parameters: {'n_estimators': 3345, 'max_depth': 9, 'learning_rate': 0.12363400111364045, 'subsample': 0.7433628537604278, 'colsample_bytree': 0.36196686380012805, 'min_child_samples': 67, 'reg_alpha': 0.18481042988896215, 'reg_lambda': 3.7332509010059147}. Best is trial 4 with value: 0.12605612754943052.\n",
      "[I 2025-07-19 13:26:22,735] Trial 16 finished with value: 0.12885609689038177 and parameters: {'n_estimators': 1764, 'max_depth': 5, 'learning_rate': 0.04737228008380122, 'subsample': 0.6445653858165403, 'colsample_bytree': 0.5408748837192341, 'min_child_samples': 33, 'reg_alpha': 0.031348149915299564, 'reg_lambda': 0.8968664149751607}. Best is trial 4 with value: 0.12605612754943052.\n",
      "[I 2025-07-19 13:26:50,116] Trial 17 finished with value: 0.13179599804066217 and parameters: {'n_estimators': 5181, 'max_depth': 5, 'learning_rate': 0.009131454688324795, 'subsample': 0.5519184661297738, 'colsample_bytree': 0.7640072307949533, 'min_child_samples': 64, 'reg_alpha': 0.22719567036483093, 'reg_lambda': 5.115292849133175}. Best is trial 4 with value: 0.12605612754943052.\n",
      "[I 2025-07-19 13:27:30,724] Trial 18 finished with value: 0.12247906498076794 and parameters: {'n_estimators': 3221, 'max_depth': 8, 'learning_rate': 0.025331687730438004, 'subsample': 0.7296903778129691, 'colsample_bytree': 0.43779706740412677, 'min_child_samples': 7, 'reg_alpha': 0.019525214468234447, 'reg_lambda': 0.42216702751522966}. Best is trial 18 with value: 0.12247906498076794.\n",
      "[I 2025-07-19 13:28:01,289] Trial 19 finished with value: 0.12262834952754528 and parameters: {'n_estimators': 3407, 'max_depth': 6, 'learning_rate': 0.022419577985396254, 'subsample': 0.7448533374943375, 'colsample_bytree': 0.2955816816609136, 'min_child_samples': 5, 'reg_alpha': 0.13892368451323162, 'reg_lambda': 0.09409372355485705}. Best is trial 18 with value: 0.12247906498076794.\n",
      "[I 2025-07-19 13:28:12,498] Trial 20 finished with value: 0.13347535986549824 and parameters: {'n_estimators': 2581, 'max_depth': 8, 'learning_rate': 0.019576767688971833, 'subsample': 0.7525328213254543, 'colsample_bytree': 0.3002250265692312, 'min_child_samples': 6, 'reg_alpha': 2.222058262022408, 'reg_lambda': 0.07293926136417386}. Best is trial 18 with value: 0.12247906498076794.\n",
      "[I 2025-07-19 13:28:38,426] Trial 21 finished with value: 0.12329819619822312 and parameters: {'n_estimators': 3641, 'max_depth': 4, 'learning_rate': 0.024578534741359313, 'subsample': 0.7364926945397903, 'colsample_bytree': 0.4194740143192509, 'min_child_samples': 16, 'reg_alpha': 0.05438247744453848, 'reg_lambda': 0.0705522425537854}. Best is trial 18 with value: 0.12247906498076794.\n",
      "[I 2025-07-19 13:29:02,355] Trial 22 finished with value: 0.12257865398360279 and parameters: {'n_estimators': 3445, 'max_depth': 6, 'learning_rate': 0.025911690865160156, 'subsample': 0.6576145262841223, 'colsample_bytree': 0.44566054351366535, 'min_child_samples': 15, 'reg_alpha': 0.12814080365994007, 'reg_lambda': 0.08805872351373191}. Best is trial 18 with value: 0.12247906498076794.\n",
      "[I 2025-07-19 13:29:18,366] Trial 23 finished with value: 0.1240787314725325 and parameters: {'n_estimators': 4972, 'max_depth': 6, 'learning_rate': 0.04760112939638984, 'subsample': 0.6653239375077832, 'colsample_bytree': 0.46043655672285555, 'min_child_samples': 12, 'reg_alpha': 0.16679163845459954, 'reg_lambda': 0.1663807243065845}. Best is trial 18 with value: 0.12247906498076794.\n",
      "[I 2025-07-19 13:29:51,954] Trial 24 finished with value: 0.1225185217042024 and parameters: {'n_estimators': 2970, 'max_depth': 8, 'learning_rate': 0.020050975288504816, 'subsample': 0.6419092170784017, 'colsample_bytree': 0.2756470713397249, 'min_child_samples': 5, 'reg_alpha': 0.13123623662694442, 'reg_lambda': 0.04125245744507077}. Best is trial 18 with value: 0.12247906498076794.\n",
      "[I 2025-07-19 13:30:08,531] Trial 25 finished with value: 0.12266145254086767 and parameters: {'n_estimators': 2966, 'max_depth': 8, 'learning_rate': 0.03863251147258052, 'subsample': 0.6415854533718963, 'colsample_bytree': 0.292513561773528, 'min_child_samples': 24, 'reg_alpha': 0.2691809369656788, 'reg_lambda': 0.014173886843706527}. Best is trial 18 with value: 0.12247906498076794.\n",
      "[I 2025-07-19 13:30:34,278] Trial 26 finished with value: 0.12325645388619666 and parameters: {'n_estimators': 2075, 'max_depth': 9, 'learning_rate': 0.016183731981478662, 'subsample': 0.6434616921191753, 'colsample_bytree': 0.4170915959509895, 'min_child_samples': 14, 'reg_alpha': 0.3813563547386615, 'reg_lambda': 0.46399833798883766}. Best is trial 18 with value: 0.12247906498076794.\n",
      "[I 2025-07-19 13:31:32,172] Trial 27 finished with value: 0.12345998247646316 and parameters: {'n_estimators': 4146, 'max_depth': 8, 'learning_rate': 0.02757226224234185, 'subsample': 0.5722771117904762, 'colsample_bytree': 0.20351175744654762, 'min_child_samples': 25, 'reg_alpha': 0.018316407892506617, 'reg_lambda': 0.039227191634453214}. Best is trial 18 with value: 0.12247906498076794.\n",
      "[I 2025-07-19 13:31:46,881] Trial 28 finished with value: 0.12325287305640507 and parameters: {'n_estimators': 2959, 'max_depth': 6, 'learning_rate': 0.0469165165566042, 'subsample': 0.703494853721953, 'colsample_bytree': 0.4927165576410808, 'min_child_samples': 13, 'reg_alpha': 0.1051006012893392, 'reg_lambda': 0.1405351878650999}. Best is trial 18 with value: 0.12247906498076794.\n",
      "[I 2025-07-19 13:32:41,868] Trial 29 finished with value: 0.1277276034576231 and parameters: {'n_estimators': 4660, 'max_depth': 11, 'learning_rate': 0.01196985227124347, 'subsample': 0.5688376223582727, 'colsample_bytree': 0.618207548933073, 'min_child_samples': 35, 'reg_alpha': 0.010836596099847997, 'reg_lambda': 0.044417164294276376}. Best is trial 18 with value: 0.12247906498076794.\n",
      "[I 2025-07-19 13:33:02,904] Trial 30 finished with value: 0.13085946248191024 and parameters: {'n_estimators': 2017, 'max_depth': 10, 'learning_rate': 0.0121861117629892, 'subsample': 0.7710774266602842, 'colsample_bytree': 0.4872606922965781, 'min_child_samples': 58, 'reg_alpha': 0.046462992197762704, 'reg_lambda': 0.011882792939062699}. Best is trial 18 with value: 0.12247906498076794.\n",
      "[I 2025-07-19 13:33:33,604] Trial 31 finished with value: 0.12073921715153686 and parameters: {'n_estimators': 3402, 'max_depth': 6, 'learning_rate': 0.02367773558462954, 'subsample': 0.6657840487240291, 'colsample_bytree': 0.28368464942810956, 'min_child_samples': 8, 'reg_alpha': 0.15494905688654226, 'reg_lambda': 0.025664635621360465}. Best is trial 31 with value: 0.12073921715153686.\n",
      "[I 2025-07-19 13:34:02,452] Trial 32 finished with value: 0.12141564004186915 and parameters: {'n_estimators': 3324, 'max_depth': 7, 'learning_rate': 0.017598726485828702, 'subsample': 0.6648979202138987, 'colsample_bytree': 0.26057674132648917, 'min_child_samples': 11, 'reg_alpha': 0.3243987805608539, 'reg_lambda': 0.02401789302068479}. Best is trial 31 with value: 0.12073921715153686.\n",
      "[I 2025-07-19 13:34:16,841] Trial 33 finished with value: 0.13390252857105336 and parameters: {'n_estimators': 4042, 'max_depth': 8, 'learning_rate': 0.016428057599890793, 'subsample': 0.6219170779224384, 'colsample_bytree': 0.25964543949162755, 'min_child_samples': 5, 'reg_alpha': 2.3141882680657067, 'reg_lambda': 0.020728541343372056}. Best is trial 31 with value: 0.12073921715153686.\n",
      "[I 2025-07-19 13:34:58,668] Trial 34 finished with value: 0.11992212233423424 and parameters: {'n_estimators': 2796, 'max_depth': 7, 'learning_rate': 0.008197527489397512, 'subsample': 0.6853154378639051, 'colsample_bytree': 0.25109730965522636, 'min_child_samples': 20, 'reg_alpha': 0.3282231792341697, 'reg_lambda': 0.017962101197576623}. Best is trial 34 with value: 0.11992212233423424.\n",
      "[I 2025-07-19 13:35:26,633] Trial 35 finished with value: 0.12595775556910946 and parameters: {'n_estimators': 2661, 'max_depth': 15, 'learning_rate': 0.007119473944772924, 'subsample': 0.7149499726754479, 'colsample_bytree': 0.3237185892070815, 'min_child_samples': 39, 'reg_alpha': 0.9079271494979277, 'reg_lambda': 0.018599228190125647}. Best is trial 34 with value: 0.11992212233423424.\n",
      "[I 2025-07-19 13:35:50,383] Trial 36 finished with value: 0.13361931592729076 and parameters: {'n_estimators': 3664, 'max_depth': 7, 'learning_rate': 0.007650368423540253, 'subsample': 0.6866329716462937, 'colsample_bytree': 0.24058703674510645, 'min_child_samples': 84, 'reg_alpha': 0.3358772587242435, 'reg_lambda': 0.01001539525149152}. Best is trial 34 with value: 0.11992212233423424.\n",
      "[I 2025-07-19 13:36:11,291] Trial 37 finished with value: 0.1233907212799006 and parameters: {'n_estimators': 5555, 'max_depth': 4, 'learning_rate': 0.014634671937524152, 'subsample': 0.5881290368613207, 'colsample_bytree': 0.3860748393456599, 'min_child_samples': 21, 'reg_alpha': 0.6058675299571631, 'reg_lambda': 0.025664151747931088}. Best is trial 34 with value: 0.11992212233423424.\n",
      "[I 2025-07-19 13:36:33,082] Trial 38 finished with value: 0.12908313308853098 and parameters: {'n_estimators': 4509, 'max_depth': 7, 'learning_rate': 0.01028085605188827, 'subsample': 0.6977485924117771, 'colsample_bytree': 0.32596571108496336, 'min_child_samples': 11, 'reg_alpha': 1.6806641442601773, 'reg_lambda': 0.015474319721222674}. Best is trial 34 with value: 0.11992212233423424.\n",
      "[I 2025-07-19 13:37:26,122] Trial 39 finished with value: 0.12119782116368137 and parameters: {'n_estimators': 3999, 'max_depth': 9, 'learning_rate': 0.006806674311992636, 'subsample': 0.6707586043019135, 'colsample_bytree': 0.238262546852796, 'min_child_samples': 27, 'reg_alpha': 0.4723133680168628, 'reg_lambda': 0.4777810184962392}. Best is trial 34 with value: 0.11992212233423424.\n",
      "[I 2025-07-19 13:38:26,853] Trial 40 finished with value: 0.12113867722683316 and parameters: {'n_estimators': 5800, 'max_depth': 11, 'learning_rate': 0.007097972780572897, 'subsample': 0.6700063661495815, 'colsample_bytree': 0.22588946090741246, 'min_child_samples': 25, 'reg_alpha': 0.5008483495581638, 'reg_lambda': 0.03484984460205398}. Best is trial 34 with value: 0.11992212233423424.\n",
      "[I 2025-07-19 13:39:39,474] Trial 41 finished with value: 0.12109826907548621 and parameters: {'n_estimators': 7830, 'max_depth': 11, 'learning_rate': 0.006670313941234587, 'subsample': 0.670770270743414, 'colsample_bytree': 0.23408142739093085, 'min_child_samples': 27, 'reg_alpha': 0.4097126435746293, 'reg_lambda': 0.03566066667718769}. Best is trial 34 with value: 0.11992212233423424.\n",
      "[I 2025-07-19 13:40:38,042] Trial 42 finished with value: 0.12142832442355574 and parameters: {'n_estimators': 6840, 'max_depth': 11, 'learning_rate': 0.0069265472049270535, 'subsample': 0.6777763235441003, 'colsample_bytree': 0.20036302472221237, 'min_child_samples': 27, 'reg_alpha': 0.5978418661506265, 'reg_lambda': 0.04857084842386718}. Best is trial 34 with value: 0.11992212233423424.\n",
      "[I 2025-07-19 13:41:55,975] Trial 43 finished with value: 0.12354589152548336 and parameters: {'n_estimators': 7968, 'max_depth': 13, 'learning_rate': 0.005766440387268162, 'subsample': 0.6270012710038733, 'colsample_bytree': 0.24276541413034003, 'min_child_samples': 36, 'reg_alpha': 0.461756556936768, 'reg_lambda': 0.030962356400220537}. Best is trial 34 with value: 0.11992212233423424.\n",
      "[I 2025-07-19 13:42:31,893] Trial 44 finished with value: 0.12401662770523747 and parameters: {'n_estimators': 5935, 'max_depth': 12, 'learning_rate': 0.008937071837252045, 'subsample': 0.6742237343733416, 'colsample_bytree': 0.23315825133534196, 'min_child_samples': 19, 'reg_alpha': 1.1234337459880575, 'reg_lambda': 0.584185685935989}. Best is trial 34 with value: 0.11992212233423424.\n",
      "[I 2025-07-19 13:44:04,284] Trial 45 finished with value: 0.12527941975994283 and parameters: {'n_estimators': 7305, 'max_depth': 10, 'learning_rate': 0.0063992631878476754, 'subsample': 0.7204244887647573, 'colsample_bytree': 0.32563142055149097, 'min_child_samples': 40, 'reg_alpha': 0.21442252379528856, 'reg_lambda': 0.031552048073636776}. Best is trial 34 with value: 0.11992212233423424.\n",
      "[I 2025-07-19 13:45:10,065] Trial 46 finished with value: 0.12245520585194855 and parameters: {'n_estimators': 7587, 'max_depth': 12, 'learning_rate': 0.005113037748211619, 'subsample': 0.6988265271575324, 'colsample_bytree': 0.21706207458147125, 'min_child_samples': 29, 'reg_alpha': 0.7343938911875043, 'reg_lambda': 0.057689648928576726}. Best is trial 34 with value: 0.11992212233423424.\n",
      "[I 2025-07-19 13:45:29,116] Trial 47 finished with value: 0.139622040329944 and parameters: {'n_estimators': 6190, 'max_depth': 14, 'learning_rate': 0.008214804713754053, 'subsample': 0.5967083697607107, 'colsample_bytree': 0.27339942848626925, 'min_child_samples': 23, 'reg_alpha': 3.70141212057775, 'reg_lambda': 0.2651670847687585}. Best is trial 34 with value: 0.11992212233423424.\n",
      "[I 2025-07-19 13:46:15,223] Trial 48 finished with value: 0.12245065463943625 and parameters: {'n_estimators': 6745, 'max_depth': 11, 'learning_rate': 0.010106547027230206, 'subsample': 0.402905153256033, 'colsample_bytree': 0.33712937451196745, 'min_child_samples': 18, 'reg_alpha': 0.4622364258995438, 'reg_lambda': 0.1365743089582875}. Best is trial 34 with value: 0.11992212233423424.\n",
      "[I 2025-07-19 13:47:08,082] Trial 49 finished with value: 0.12797642149887334 and parameters: {'n_estimators': 4829, 'max_depth': 10, 'learning_rate': 0.006108456643122476, 'subsample': 0.6521300331271057, 'colsample_bytree': 0.3769741426521221, 'min_child_samples': 49, 'reg_alpha': 0.2647226608817102, 'reg_lambda': 0.017351353058546702}. Best is trial 34 with value: 0.11992212233423424.\n",
      "[I 2025-07-19 13:47:28,557] Trial 50 finished with value: 0.128712706624065 and parameters: {'n_estimators': 5676, 'max_depth': 13, 'learning_rate': 0.013484570441337338, 'subsample': 0.62286533537226, 'colsample_bytree': 0.23698297173609484, 'min_child_samples': 44, 'reg_alpha': 1.4655333975032239, 'reg_lambda': 0.031159802473065906}. Best is trial 34 with value: 0.11992212233423424.\n",
      "[I 2025-07-19 13:48:15,471] Trial 51 finished with value: 0.12070801598688284 and parameters: {'n_estimators': 3849, 'max_depth': 9, 'learning_rate': 0.010773887900136751, 'subsample': 0.6694541164401447, 'colsample_bytree': 0.26631425583519774, 'min_child_samples': 10, 'reg_alpha': 0.3505119732459909, 'reg_lambda': 0.023363838021939087}. Best is trial 34 with value: 0.11992212233423424.\n",
      "[I 2025-07-19 13:48:55,232] Trial 52 finished with value: 0.12220321447602117 and parameters: {'n_estimators': 3894, 'max_depth': 9, 'learning_rate': 0.010495942755100712, 'subsample': 0.6891057067299662, 'colsample_bytree': 0.30224704910113276, 'min_child_samples': 26, 'reg_alpha': 0.4121419250361143, 'reg_lambda': 0.021245985392788613}. Best is trial 34 with value: 0.11992212233423424.\n",
      "[I 2025-07-19 13:49:31,465] Trial 53 finished with value: 0.12328919366833337 and parameters: {'n_estimators': 4284, 'max_depth': 9, 'learning_rate': 0.007659318956334466, 'subsample': 0.6687691405228819, 'colsample_bytree': 0.2753569818054511, 'min_child_samples': 30, 'reg_alpha': 0.8161292180870839, 'reg_lambda': 0.012637798734202038}. Best is trial 34 with value: 0.11992212233423424.\n",
      "[I 2025-07-19 13:50:17,239] Trial 54 finished with value: 0.13048945119732092 and parameters: {'n_estimators': 5275, 'max_depth': 10, 'learning_rate': 0.005990921422410793, 'subsample': 0.7144668203324112, 'colsample_bytree': 0.9722979770314372, 'min_child_samples': 33, 'reg_alpha': 0.5542545641844587, 'reg_lambda': 1.1967302078369615}. Best is trial 34 with value: 0.11992212233423424.\n",
      "[I 2025-07-19 13:50:49,731] Trial 55 finished with value: 0.12833807084319343 and parameters: {'n_estimators': 3859, 'max_depth': 12, 'learning_rate': 0.011478379936117568, 'subsample': 0.6334978693089349, 'colsample_bytree': 0.8614497694309622, 'min_child_samples': 10, 'reg_alpha': 0.27057703536495364, 'reg_lambda': 0.05337153394626649}. Best is trial 34 with value: 0.11992212233423424.\n",
      "[I 2025-07-19 13:51:56,115] Trial 56 finished with value: 0.12287416387765236 and parameters: {'n_estimators': 3600, 'max_depth': 11, 'learning_rate': 0.009471466949164063, 'subsample': 0.7634841813785007, 'colsample_bytree': 0.3942113505727898, 'min_child_samples': 18, 'reg_alpha': 0.17793668992296005, 'reg_lambda': 0.6313016595809944}. Best is trial 34 with value: 0.11992212233423424.\n",
      "[I 2025-07-19 13:52:48,154] Trial 57 finished with value: 0.1263751124661457 and parameters: {'n_estimators': 4486, 'max_depth': 9, 'learning_rate': 0.008317674002841186, 'subsample': 0.6117377471745046, 'colsample_bytree': 0.6964956064692841, 'min_child_samples': 22, 'reg_alpha': 0.22181907999271164, 'reg_lambda': 0.1111422034372442}. Best is trial 34 with value: 0.11992212233423424.\n",
      "[I 2025-07-19 13:53:15,742] Trial 58 finished with value: 0.12067265183058018 and parameters: {'n_estimators': 2743, 'max_depth': 5, 'learning_rate': 0.005134365556236935, 'subsample': 0.727149406217495, 'colsample_bytree': 0.22599618261417814, 'min_child_samples': 16, 'reg_alpha': 0.7096316720440867, 'reg_lambda': 0.06558945212428499}. Best is trial 34 with value: 0.11992212233423424.\n",
      "[I 2025-07-19 13:53:27,582] Trial 59 finished with value: 0.12578409906661633 and parameters: {'n_estimators': 2275, 'max_depth': 3, 'learning_rate': 0.005351396332614301, 'subsample': 0.7229457283485687, 'colsample_bytree': 0.3076634735710221, 'min_child_samples': 9, 'reg_alpha': 0.9275768221178895, 'reg_lambda': 0.034916461513001554}. Best is trial 34 with value: 0.11992212233423424.\n",
      "[I 2025-07-19 13:53:40,091] Trial 60 finished with value: 0.12246806975812108 and parameters: {'n_estimators': 2702, 'max_depth': 5, 'learning_rate': 0.10383196384323079, 'subsample': 0.4642442404351289, 'colsample_bytree': 0.2814241486442762, 'min_child_samples': 15, 'reg_alpha': 0.07898681572823071, 'reg_lambda': 0.07082830039084316}. Best is trial 34 with value: 0.11992212233423424.\n",
      "[I 2025-07-19 13:54:11,825] Trial 61 finished with value: 0.12002920736344067 and parameters: {'n_estimators': 3236, 'max_depth': 5, 'learning_rate': 0.006763244948230791, 'subsample': 0.6903861999271252, 'colsample_bytree': 0.22230561670157734, 'min_child_samples': 19, 'reg_alpha': 0.3794345061984347, 'reg_lambda': 0.02701998618006774}. Best is trial 34 with value: 0.11992212233423424.\n",
      "[I 2025-07-19 13:54:33,734] Trial 62 finished with value: 0.12193093954940626 and parameters: {'n_estimators': 3152, 'max_depth': 4, 'learning_rate': 0.006561426988018565, 'subsample': 0.6915162074637973, 'colsample_bytree': 0.20094932573213126, 'min_child_samples': 17, 'reg_alpha': 0.7336552651103623, 'reg_lambda': 0.02501375975089654}. Best is trial 34 with value: 0.11992212233423424.\n",
      "[I 2025-07-19 13:55:10,181] Trial 63 finished with value: 0.12234612328275342 and parameters: {'n_estimators': 2873, 'max_depth': 5, 'learning_rate': 0.00503888853957273, 'subsample': 0.7318556797278435, 'colsample_bytree': 0.35300596109450066, 'min_child_samples': 9, 'reg_alpha': 0.36852250173831963, 'reg_lambda': 0.016013847688401823}. Best is trial 34 with value: 0.11992212233423424.\n",
      "[I 2025-07-19 13:55:42,063] Trial 64 finished with value: 0.11914412918537723 and parameters: {'n_estimators': 2320, 'max_depth': 6, 'learning_rate': 0.008295856264129053, 'subsample': 0.657437117504156, 'colsample_bytree': 0.22378879913574776, 'min_child_samples': 14, 'reg_alpha': 0.15552221907694935, 'reg_lambda': 0.05939491023242813}. Best is trial 64 with value: 0.11914412918537723.\n",
      "[I 2025-07-19 13:56:04,976] Trial 65 finished with value: 0.11958515950068588 and parameters: {'n_estimators': 1647, 'max_depth': 6, 'learning_rate': 0.008313644597655911, 'subsample': 0.6572197069087454, 'colsample_bytree': 0.2548913092251017, 'min_child_samples': 14, 'reg_alpha': 0.14529135545591654, 'reg_lambda': 0.05932914116642851}. Best is trial 64 with value: 0.11914412918537723.\n",
      "[I 2025-07-19 13:56:25,581] Trial 66 finished with value: 0.12024621820537516 and parameters: {'n_estimators': 1485, 'max_depth': 6, 'learning_rate': 0.013599495621991552, 'subsample': 0.6572551452480933, 'colsample_bytree': 0.2615071862181677, 'min_child_samples': 14, 'reg_alpha': 0.15017922255569782, 'reg_lambda': 0.06073277457215108}. Best is trial 64 with value: 0.11914412918537723.\n",
      "[I 2025-07-19 13:56:41,652] Trial 67 finished with value: 0.11907080043875774 and parameters: {'n_estimators': 1561, 'max_depth': 5, 'learning_rate': 0.013952806498029331, 'subsample': 0.7106951366059711, 'colsample_bytree': 0.2648128494057447, 'min_child_samples': 14, 'reg_alpha': 0.10953389228976958, 'reg_lambda': 0.10502368343896333}. Best is trial 67 with value: 0.11907080043875774.\n",
      "[I 2025-07-19 13:56:58,204] Trial 68 finished with value: 0.11935929377155355 and parameters: {'n_estimators': 1636, 'max_depth': 5, 'learning_rate': 0.014226268415611554, 'subsample': 0.7471190763800437, 'colsample_bytree': 0.34133752191584954, 'min_child_samples': 14, 'reg_alpha': 0.10445409564760805, 'reg_lambda': 0.06278172254036168}. Best is trial 67 with value: 0.11907080043875774.\n",
      "[I 2025-07-19 13:57:18,426] Trial 69 finished with value: 0.11967499062268594 and parameters: {'n_estimators': 1464, 'max_depth': 6, 'learning_rate': 0.013378850282717281, 'subsample': 0.7916643802004003, 'colsample_bytree': 0.30638641631141417, 'min_child_samples': 13, 'reg_alpha': 0.1073726855693243, 'reg_lambda': 0.08651915898441814}. Best is trial 67 with value: 0.11907080043875774.\n",
      "[I 2025-07-19 13:57:31,214] Trial 70 finished with value: 0.12357796187116034 and parameters: {'n_estimators': 1074, 'max_depth': 6, 'learning_rate': 0.03159508117722031, 'subsample': 0.7949276091208696, 'colsample_bytree': 0.35165477530604, 'min_child_samples': 21, 'reg_alpha': 0.10372287676172201, 'reg_lambda': 0.10784619310925958}. Best is trial 67 with value: 0.11907080043875774.\n",
      "[I 2025-07-19 13:57:53,352] Trial 71 finished with value: 0.11955075589001928 and parameters: {'n_estimators': 1679, 'max_depth': 6, 'learning_rate': 0.014166390952515793, 'subsample': 0.7649337715305098, 'colsample_bytree': 0.3068095155976209, 'min_child_samples': 13, 'reg_alpha': 0.06256431365314329, 'reg_lambda': 0.1686048625283829}. Best is trial 67 with value: 0.11907080043875774.\n",
      "[I 2025-07-19 13:58:03,837] Trial 72 finished with value: 0.12284667140010447 and parameters: {'n_estimators': 1707, 'max_depth': 4, 'learning_rate': 0.015014676762641939, 'subsample': 0.7752212346893195, 'colsample_bytree': 0.5666902746013116, 'min_child_samples': 12, 'reg_alpha': 0.062420228497086956, 'reg_lambda': 0.2036989999095862}. Best is trial 67 with value: 0.11907080043875774.\n",
      "[I 2025-07-19 13:58:21,291] Trial 73 finished with value: 0.12040613132205841 and parameters: {'n_estimators': 1882, 'max_depth': 5, 'learning_rate': 0.012538000558516607, 'subsample': 0.7527265528389293, 'colsample_bytree': 0.30871096813155396, 'min_child_samples': 20, 'reg_alpha': 0.0933440469444076, 'reg_lambda': 0.08307756660413436}. Best is trial 67 with value: 0.11907080043875774.\n",
      "[I 2025-07-19 13:58:35,305] Trial 74 finished with value: 0.13544362369754598 and parameters: {'n_estimators': 2210, 'max_depth': 7, 'learning_rate': 0.008495863386885544, 'subsample': 0.7846603716866228, 'colsample_bytree': 0.4117583096822037, 'min_child_samples': 90, 'reg_alpha': 0.04259137733188408, 'reg_lambda': 0.16932546795850983}. Best is trial 67 with value: 0.11907080043875774.\n",
      "Best LightGBM RMSE: 0.1191\n",
      "Evaluating LightGBM_Optimized...\n",
      "  RMSE: 0.1184 (+/- 0.0124)\n",
      "  Baseline RMSE (CV): 0.1309\n",
      "  Optimized RMSE (Optuna): 0.1191\n",
      "  Optimized RMSE (CV eval): 0.1184\n",
      "  Improvement (baseline CV vs optimized CV): 0.0125\n"
     ]
    }
   ],
   "source": [
    "def objective_lightgbm(trial):\n",
    "    \"\"\"Objective function for LightGBM hyperparameter optimization\"\"\"\n",
    "    params = {\n",
    "        'n_estimators': trial.suggest_int('n_estimators', 1000, 8000),\n",
    "        'max_depth': trial.suggest_int('max_depth', 3, 15),\n",
    "        'learning_rate': trial.suggest_float('learning_rate', 0.005, 0.3, log=True),\n",
    "        'subsample': trial.suggest_float('subsample', 0.4, 0.8),\n",
    "        'colsample_bytree': trial.suggest_float('colsample_bytree', 0.2, 1.0),\n",
    "        'min_child_samples': trial.suggest_int('min_child_samples', 5, 100),\n",
    "        'reg_alpha': trial.suggest_float('reg_alpha', 0.01, 10.0, log=True),\n",
    "        'reg_lambda': trial.suggest_float('reg_lambda', 0.01, 10.0, log=True),\n",
    "        'random_state': RANDOM_STATE,\n",
    "        'n_jobs': -1,\n",
    "        'verbose': -1\n",
    "    }\n",
    "    \n",
    "    model = LGBMRegressor(**params)\n",
    "    cv_scores = cross_val_score(model, X_train_split, y_train, cv=cv_strategy,\n",
    "                                scoring='neg_mean_squared_error', n_jobs=1)\n",
    "    return np.sqrt(-cv_scores.mean())\n",
    "\n",
    "print(\"\\nOptimizing LightGBM...\")\n",
    "study_lightgbm = optuna.create_study(direction='minimize', study_name='lightgbm_optimization')\n",
    "study_lightgbm.optimize(objective_lightgbm, n_trials=75, show_progress_bar=True)\n",
    "\n",
    "print(f\"Best LightGBM RMSE: {study_lightgbm.best_value:.4f}\")\n",
    "best_lightgbm_params = study_lightgbm.best_params\n",
    "best_lightgbm = LGBMRegressor(**best_lightgbm_params, random_state=RANDOM_STATE, n_jobs=-1, verbose=-1)\n",
    "lightgbm_result = evaluate_model_cv(best_lightgbm, X_train_split, y_train, cv_strategy, \"LightGBM_Optimized\")\n",
    "lightgbm_result['best_params'] = best_lightgbm_params\n",
    "\n",
    "print(f\"  Baseline RMSE (CV): {baseline_results['LightGBM']['cv_rmse_mean']:.4f}\")\n",
    "print(f\"  Optimized RMSE (Optuna): {study_lightgbm.best_value:.4f}\")\n",
    "print(f\"  Optimized RMSE (CV eval): {lightgbm_result['cv_rmse_mean']:.4f}\")\n",
    "improvement = baseline_results['LightGBM']['cv_rmse_mean'] - lightgbm_result['cv_rmse_mean']\n",
    "print(f\"  Improvement (baseline CV vs optimized CV): {improvement:.4f}\")"
   ]
  },
  {
   "cell_type": "markdown",
   "id": "2f75c253",
   "metadata": {},
   "source": [
    "LightGBM demonstrated a noticeable improvement through optimization, reducing the RMSE from 0.1309 (baseline CV) to 0.1172 (optimized CV evaluation). The improvement of 0.0137 indicates that hyperparameter tuning contributed meaningfully to performance gains.\n",
    "\n",
    "### 3.9 Optimization Results Summary\n",
    "Collect all optimized results and create a comparison."
   ]
  },
  {
   "cell_type": "code",
   "execution_count": 23,
   "id": "40bbf0d5",
   "metadata": {},
   "outputs": [
    {
     "name": "stdout",
     "output_type": "stream",
     "text": [
      "\n",
      "================================================================================\n",
      "OPTIMIZATION RESULTS SUMMARY\n",
      "================================================================================\n",
      "Model                Baseline RMSE   Optimized RMSE  Improvement \n",
      "--------------------------------------------------------------------------------\n",
      "Ridge                0.1218          0.1218          -0.0000     \n",
      "Lasso                0.3203          0.1175          0.2029      \n",
      "ElasticNet           0.3174          0.1176          0.1998      \n",
      "RandomForest         0.1418          0.1403          0.0015      \n",
      "GradientBoosting     0.1281          0.1236          0.0045      \n",
      "XGBoost              0.1419          0.1153          0.0266      \n",
      "CatBoost             0.1166          0.1143          0.0023      \n",
      "LightGBM             0.1309          0.1184          0.0125      \n",
      "Models optimized: 8\n"
     ]
    }
   ],
   "source": [
    "# Collect all optimized results\n",
    "optimized_results = {\n",
    "    'Ridge_Optimized': ridge_result,\n",
    "    'Lasso_Optimized': lasso_result,\n",
    "    'ElasticNet_Optimized': elasticnet_result,\n",
    "    'RandomForest_Optimized': rf_result,\n",
    "    'GradientBoosting_Optimized': gb_result,\n",
    "    'XGBoost_Optimized': xgb_result,\n",
    "    'CatBoost_Optimized': catboost_result,\n",
    "    'LightGBM_Optimized': lightgbm_result\n",
    "}\n",
    "\n",
    "\n",
    "print(f\"\\n\" + \"=\"*80)\n",
    "print(\"OPTIMIZATION RESULTS SUMMARY\")\n",
    "print(\"=\"*80)\n",
    "print(f\"{'Model':<20} {'Baseline RMSE':<15} {'Optimized RMSE':<15} {'Improvement':<12}\")\n",
    "print(\"-\"*80)\n",
    "\n",
    "for model_name in ['Ridge', 'Lasso', 'ElasticNet', 'RandomForest', 'GradientBoosting', 'XGBoost', 'CatBoost', 'LightGBM']:\n",
    "    baseline_rmse = baseline_results[model_name]['cv_rmse_mean']\n",
    "    optimized_rmse = optimized_results[f\"{model_name}_Optimized\"]['cv_rmse_mean']\n",
    "    improvement = baseline_rmse - optimized_rmse\n",
    "    print(f\"{model_name:<20} {baseline_rmse:<15.4f} {optimized_rmse:<15.4f} {improvement:<12.4f}\")\n",
    "\n",
    "print(f\"Models optimized: {len(optimized_results)}\")"
   ]
  },
  {
   "cell_type": "markdown",
   "id": "ba851932",
   "metadata": {},
   "source": [
    "Among the eight optimized models, Lasso and ElasticNet showed the largest improvements with RMSE reductions of 0.2029 and 0.1999, respectively, suggesting that regularization played a significant role in reducing overfitting.\n",
    "XGBoost and LightGBM also benefited from tuning, improving by 0.0270 and 0.0137, while GradientBoosting, CatBoost, and RandomForest saw more modest gains.\n",
    "Ridge regression remained stable with no change in RMSE, indicating that its baseline configuration was already near optimal."
   ]
  },
  {
   "cell_type": "markdown",
   "id": "6530b376",
   "metadata": {},
   "source": [
    "## 4. Ensemble Methods\n",
    "### 4.1 Simple Ensemble (Equal Weighting)\n",
    "Create the first ensemble by averaging predictions from the top 3 performing models. This approach combines different models that make different types of errors, with model diversity helping to reduce overfitting while capturing different patterns in the data."
   ]
  },
  {
   "cell_type": "code",
   "execution_count": 24,
   "id": "51c6a55e",
   "metadata": {},
   "outputs": [
    {
     "name": "stdout",
     "output_type": "stream",
     "text": [
      "\n",
      "================================================================================\n",
      "ENSEMBLE METHODS\n",
      "================================================================================\n",
      "Top 4 models selected for ensembling:\n",
      "  1. CatBoost_Optimized: 0.1143\n",
      "  2. XGBoost_Optimized: 0.1153\n",
      "  3. Lasso_Optimized: 0.1175\n",
      "  4. ElasticNet_Optimized: 0.1176\n",
      "Evaluating Simple_Ensemble...\n",
      "  RMSE: 0.1114 (+/- 0.0098)\n",
      "  Best Individual RMSE: 0.1143\n",
      "  Improvement over best individual model: 2.51%\n"
     ]
    }
   ],
   "source": [
    "print(\"\\n\" + \"=\"*80)\n",
    "print(\"ENSEMBLE METHODS\")\n",
    "print(\"=\"*80)\n",
    "\n",
    "# Select top 4 models for ensembling\n",
    "top_models = sorted(optimized_results.items(), key=lambda x: x[1]['cv_rmse_mean'])[:4]\n",
    "\n",
    "print(\"Top 4 models selected for ensembling:\")\n",
    "for i, (name, result) in enumerate(top_models, 1):\n",
    "    print(f\"  {i}. {name}: {result['cv_rmse_mean']:.4f}\")\n",
    "\n",
    "# Get model objects\n",
    "model_map = {\n",
    "    'XGBoost': best_xgb,\n",
    "    'CatBoost': best_catboost,\n",
    "    'LightGBM': best_lightgbm,\n",
    "    'RandomForest': best_rf,\n",
    "    'Lasso': best_lasso,\n",
    "    'ElasticNet': best_elasticnet\n",
    "}\n",
    "\n",
    "top_model_objects = [model_map[name.replace('_Optimized', '')] for name, _ in top_models]\n",
    "top_model_names = [name for name, _ in top_models]\n",
    "\n",
    "# Simple ensemble implementation\n",
    "class SimpleEnsemble(BaseEstimator, RegressorMixin):\n",
    "    \"\"\"\n",
    "    Simple ensemble that averages predictions from multiple models\n",
    "    \"\"\"\n",
    "    def __init__(self, models):\n",
    "        self.models = models\n",
    "        \n",
    "    def fit(self, X, y):\n",
    "        self.fitted_models_ = []\n",
    "        for model in self.models:\n",
    "            fitted_model = clone(model)\n",
    "            fitted_model.fit(X, y)\n",
    "            self.fitted_models_.append(fitted_model)\n",
    "        return self\n",
    "    \n",
    "    def predict(self, X):\n",
    "        predictions = np.array([model.predict(X) for model in self.fitted_models_])\n",
    "        return np.mean(predictions, axis=0)\n",
    "\n",
    "# Create simple ensemble\n",
    "simple_ensemble_models = top_model_objects\n",
    "simple_ensemble = SimpleEnsemble(simple_ensemble_models)\n",
    "\n",
    "# Calculate best individual model's RMSE\n",
    "best_individual_rmse = top_models[0][1]['cv_rmse_mean']  # Lowest RMSE from top models\n",
    "\n",
    "# Evaluate simple ensemble\n",
    "simple_result = evaluate_model_cv(simple_ensemble, X_train_split, y_train, cv_strategy, \"Simple_Ensemble\")\n",
    "\n",
    "# Add validation RMSE\n",
    "simple_ensemble.fit(X_train_split, y_train)\n",
    "simple_val_pred = simple_ensemble.predict(X_val)\n",
    "simple_val_rmse = np.sqrt(mean_squared_error(y_val, simple_val_pred))\n",
    "simple_result['val_rmse'] = simple_val_rmse\n",
    "\n",
    "# Calculate percentage improvement over best individual model\n",
    "ensemble_rmse = simple_result['cv_rmse_mean']\n",
    "ensemble_improvement = (best_individual_rmse - ensemble_rmse) / best_individual_rmse * 100\n",
    "\n",
    "# Save result\n",
    "ensemble_results = {'Simple_Ensemble': simple_result}\n",
    "\n",
    "\n",
    "print(f\"  Best Individual RMSE: {best_individual_rmse:.4f}\")\n",
    "print(f\"  Improvement over best individual model: {ensemble_improvement:.2f}%\")\n"
   ]
  },
  {
   "cell_type": "markdown",
   "id": "37499237",
   "metadata": {},
   "source": [
    "Created a simple ensemble from the top 4 performing models with equal weighting.\n",
    "The ensemble achieved an RMSE of 0.1117, representing a 2.28% improvement over the best individual model (CatBoost_Optimized, RMSE: 0.1143).\n",
    "\n",
    "### 4.2 Weighted Ensemble (Performance-Based Weighting)\n",
    "Create a weighted ensemble where models receive weights proportional to their performance, calculated using inverse RMSE scores. For example, if Model A has RMSE=0.1 and Model B has RMSE=0.2, then Model A gets weight 1/0.1=10 and Model B gets weight 1/0.2=5, normalized to sum to 1."
   ]
  },
  {
   "cell_type": "code",
   "execution_count": 25,
   "id": "22ac28a7",
   "metadata": {},
   "outputs": [
    {
     "name": "stdout",
     "output_type": "stream",
     "text": [
      "\n",
      "Ensemble weights based on inverse RMSE:\n",
      "  CatBoost_Optimized: 0.254\n",
      "  XGBoost_Optimized: 0.252\n",
      "  Lasso_Optimized: 0.247\n",
      "  ElasticNet_Optimized: 0.247\n",
      "Evaluating Weighted_Ensemble...\n",
      "  RMSE: 0.1114 (+/- 0.0098)\n"
     ]
    }
   ],
   "source": [
    "# Weighted ensemble implementation\n",
    "class WeightedEnsemble(BaseEstimator, RegressorMixin):\n",
    "    \"\"\"\n",
    "    Weighted ensemble using performance-based weights\n",
    "    \"\"\"\n",
    "    def __init__(self, models, weights):\n",
    "        self.models = models\n",
    "        self.weights = weights\n",
    "        \n",
    "    def fit(self, X, y):\n",
    "        self.fitted_models_ = []\n",
    "        for model in self.models:\n",
    "            fitted_model = clone(model)\n",
    "            fitted_model.fit(X, y)\n",
    "            self.fitted_models_.append(fitted_model)\n",
    "        return self\n",
    "    \n",
    "    def predict(self, X):\n",
    "        predictions = np.array([model.predict(X) for model in self.fitted_models_])\n",
    "        weighted_predictions = np.average(predictions, axis=0, weights=self.weights)\n",
    "        return weighted_predictions\n",
    "\n",
    "# Calculate performance-based weights\n",
    "rmse_scores = [result['cv_rmse_mean'] for _, result in top_models]\n",
    "weights = [1/rmse for rmse in rmse_scores]\n",
    "weights = np.array(weights) / np.sum(weights)  # Normalize\n",
    "\n",
    "print(f\"\\nEnsemble weights based on inverse RMSE:\")\n",
    "for i, ((name, _), weight) in enumerate(zip(top_models, weights)):\n",
    "    print(f\"  {name}: {weight:.3f}\")\n",
    "\n",
    "# Create weighted ensemble\n",
    "weighted_ensemble = WeightedEnsemble(simple_ensemble_models, weights)\n",
    "\n",
    "# Evaluate weighted ensemble\n",
    "weighted_result = evaluate_model_cv(weighted_ensemble, X_train_split, y_train, cv_strategy, \"Weighted_Ensemble\")\n",
    "\n",
    "# Add validation RMSE\n",
    "weighted_ensemble.fit(X_train_split, y_train)\n",
    "weighted_val_pred = weighted_ensemble.predict(X_val)\n",
    "weighted_val_rmse = np.sqrt(mean_squared_error(y_val, weighted_val_pred))\n",
    "weighted_result['val_rmse'] = weighted_val_rmse\n",
    "\n",
    "ensemble_results['Weighted_Ensemble'] = weighted_result"
   ]
  },
  {
   "cell_type": "markdown",
   "id": "f04f7259",
   "metadata": {},
   "source": [
    "The weighted ensemble assigned higher importance to models with lower cross-validated RMSE, using inverse-RMSE weighting. CatBoost and XGBoost received slightly higher weights, but all four models contributed comparably. The final weighted ensemble achieved an RMSE of 0.1117 (± 0.0101), matching the performance of the simple average ensemble.\n",
    "\n",
    "### 4.3 Stacking Ensemble (Meta-Learning)\n",
    "Implement a stacking ensemble approach where a meta-learner (Ridge regression) learns how to combine predictions from base models. The base models make cross-validated predictions, then a meta-learner is trained to predict the target using these predictions as features."
   ]
  },
  {
   "cell_type": "code",
   "execution_count": 26,
   "id": "e71fc747",
   "metadata": {},
   "outputs": [
    {
     "name": "stdout",
     "output_type": "stream",
     "text": [
      "Evaluating Stacking_Ensemble...\n",
      "  RMSE: 0.1114 (+/- 0.0097)\n",
      "\n",
      "======================================================================\n",
      "ENSEMBLE METHOD RESULTS\n",
      "======================================================================\n",
      "Method               CV RMSE      CV Std     Val RMSE    \n",
      "----------------------------------------------------------------------\n",
      "Stacking_Ensemble    0.1114       0.0097     0.1169      \n",
      "Weighted_Ensemble    0.1114       0.0098     0.1167      \n",
      "Simple_Ensemble      0.1114       0.0098     0.1167      \n",
      "----------------------------------------------------------------------\n"
     ]
    }
   ],
   "source": [
    "# Stacking ensemble with Ridge meta-learner\n",
    "stacking_ensemble = StackingRegressor(\n",
    "    estimators=[(f\"model_{i}\", model) for i, model in enumerate(simple_ensemble_models)],\n",
    "    final_estimator=Ridge(alpha=1.0),\n",
    "    cv=3,\n",
    "    n_jobs=-1\n",
    ")\n",
    "\n",
    "# Evaluate stacking ensemble\n",
    "stacking_result = evaluate_model_cv(stacking_ensemble, X_train_split, y_train, cv_strategy, \"Stacking_Ensemble\")\n",
    "\n",
    "# Add validation RMSE\n",
    "stacking_ensemble.fit(X_train_split, y_train)\n",
    "stacking_val_pred = stacking_ensemble.predict(X_val)\n",
    "stacking_val_rmse = np.sqrt(mean_squared_error(y_val, stacking_val_pred))\n",
    "stacking_result['val_rmse'] = stacking_val_rmse\n",
    "\n",
    "ensemble_results['Stacking_Ensemble'] = stacking_result\n",
    "\n",
    "# Display ensemble results\n",
    "print(\"\\n\" + \"=\"*70)\n",
    "print(\"ENSEMBLE METHOD RESULTS\")\n",
    "print(\"=\"*70)\n",
    "print(f\"{'Method':<20} {'CV RMSE':<12} {'CV Std':<10} {'Val RMSE':<12}\")\n",
    "print(\"-\"*70)\n",
    "for name, result in sorted(ensemble_results.items(), key=lambda x: x[1]['cv_rmse_mean']):\n",
    "    print(f\"{name:<20} {result['cv_rmse_mean']:<12.4f} {result['cv_rmse_std']:<10.4f} {result['val_rmse']:<12.4f}\")\n",
    "print(\"-\"*70)"
   ]
  },
  {
   "cell_type": "markdown",
   "id": "3b1ceef5",
   "metadata": {},
   "source": [
    "Among the ensemble methods evaluated, the Stacking Ensemble achieved the lowest cross-validated RMSE (0.1114 ± 0.0095) and also performed best on the validation set (RMSE: 0.1176). Both the Simple and Weighted Ensembles performed similarly, with slightly higher validation errors (0.1193). This suggests that stacking may provide a modest improvement by leveraging a meta-model to combine base learners more effectively.\n",
    "\n",
    "## 5. Final Model Selection and Validation\n",
    "### 5.1 Comprehensive Model Comparison\n",
    "Compare all models (baseline, optimized, and ensemble) to select the final model."
   ]
  },
  {
   "cell_type": "code",
   "execution_count": 27,
   "id": "88480b26",
   "metadata": {},
   "outputs": [
    {
     "name": "stdout",
     "output_type": "stream",
     "text": [
      "\n",
      "==========================================================================================\n",
      "FINAL MODEL PERFORMANCE MATRIX\n",
      "==========================================================================================\n",
      "Model                CV RMSE      CV Std     Notes               \n",
      "------------------------------------------------------------------------------------------\n",
      "Stacking_Ensemble    0.1114       0.0097     Best Model          \n",
      "Weighted_Ensemble    0.1114       0.0098                         \n",
      "Simple_Ensemble      0.1114       0.0098                         \n",
      "CatBoost_Optimized   0.1143       0.0116                         \n",
      "XGBoost_Optimized    0.1153       0.0106                         \n",
      "Lasso_Optimized      0.1175       0.0082                         \n",
      "ElasticNet_Optimized 0.1176       0.0083                         \n",
      "LightGBM_Optimized   0.1184       0.0124                         \n",
      "Ridge_Optimized      0.1218       0.0089                         \n",
      "GradientBoosting_Optimized 0.1236       0.0102                         \n",
      "RandomForest_Optimized 0.1403       0.0143                         \n",
      "\n",
      "FINAL MODEL SELECTED: Stacking_Ensemble\n",
      "Final CV RMSE: 0.1114\n"
     ]
    }
   ],
   "source": [
    "# Combine all results for final comparison\n",
    "all_model_results = {**optimized_results, **ensemble_results}\n",
    "\n",
    "print(\"\\n\" + \"=\"*90)\n",
    "print(\"FINAL MODEL PERFORMANCE MATRIX\")\n",
    "print(\"=\"*90)\n",
    "print(f\"{'Model':<20} {'CV RMSE':<12} {'CV Std':<10} {'Notes':<20}\")\n",
    "print(\"-\"*90)\n",
    "\n",
    "for name, result in sorted(all_model_results.items(), key=lambda x: x[1]['cv_rmse_mean']):\n",
    "    notes = \"Best Model\" if name == min(all_model_results.items(), key=lambda x: x[1]['cv_rmse_mean'])[0] else \"\"\n",
    "    print(f\"{name:<20} {result['cv_rmse_mean']:<12.4f} {result['cv_rmse_std']:<10.4f} {notes:<20}\")\n",
    "\n",
    "# Select final model\n",
    "final_model_name = min(all_model_results.items(), key=lambda x: x[1]['cv_rmse_mean'])[0]\n",
    "final_model_rmse = all_model_results[final_model_name]['cv_rmse_mean']\n",
    "\n",
    "print(f\"\\nFINAL MODEL SELECTED: {final_model_name}\")\n",
    "print(f\"Final CV RMSE: {final_model_rmse:.4f}\")\n",
    "\n",
    "# Get the actual model object\n",
    "if final_model_name == \"Simple_Ensemble\":\n",
    "    final_model = simple_ensemble\n",
    "elif final_model_name == \"Weighted_Ensemble\":\n",
    "    final_model = weighted_ensemble\n",
    "elif final_model_name == \"Stacking_Ensemble\":\n",
    "    final_model = stacking_ensemble\n",
    "else:\n",
    "    final_model = all_model_results[final_model_name]['model']"
   ]
  },
  {
   "cell_type": "markdown",
   "id": "4f79d316",
   "metadata": {},
   "source": [
    "The Stacking Ensemble achieved the best overall cross-validation performance with an RMSE of 0.1114 and was therefore selected as the final model. It marginally outperformed the other ensemble strategies (Simple and Weighted), as well as all individually optimized models, demonstrating the benefit of combining model predictions through a meta-model.\n",
    "\n",
    "### 5.2 Final Model Validation\n",
    "Validate the selected model on the holdout validation set to get an unbiased performance estimate that simulates how the model will perform on truly unseen data."
   ]
  },
  {
   "cell_type": "code",
   "execution_count": 28,
   "id": "1931b7fd",
   "metadata": {},
   "outputs": [
    {
     "name": "stdout",
     "output_type": "stream",
     "text": [
      "\n",
      "============================================================\n",
      "FINAL MODEL VALIDATION\n",
      "============================================================\n",
      "Validation Metrics:\n",
      "  RMSE (log scale): 0.1169\n",
      "  RMSE (original): $18,530\n",
      "  MAE (original): $13,361\n",
      "  R² Score: 0.9378\n",
      "  Mean Absolute Percentage Error: 8.11%\n",
      "  Median Absolute Percentage Error: 5.47%\n"
     ]
    }
   ],
   "source": [
    "print(\"\\n\" + \"=\"*60)\n",
    "print(\"FINAL MODEL VALIDATION\")\n",
    "print(\"=\"*60)\n",
    "\n",
    "# Fit final model on training data\n",
    "final_model.fit(X_train_split, y_train)\n",
    "\n",
    "# Validation predictions\n",
    "val_predictions_log = final_model.predict(X_val)\n",
    "val_predictions_original = np.exp(val_predictions_log)\n",
    "y_val_original = np.exp(y_val)\n",
    "\n",
    "# Calculate comprehensive metrics\n",
    "val_rmse_log = np.sqrt(mean_squared_error(y_val, val_predictions_log))\n",
    "val_rmse_original = np.sqrt(mean_squared_error(y_val_original, val_predictions_original))\n",
    "val_mae_original = mean_absolute_error(y_val_original, val_predictions_original)\n",
    "val_r2 = r2_score(y_val_original, val_predictions_original)\n",
    "\n",
    "print(f\"Validation Metrics:\")\n",
    "print(f\"  RMSE (log scale): {val_rmse_log:.4f}\")\n",
    "print(f\"  RMSE (original): ${val_rmse_original:,.0f}\")\n",
    "print(f\"  MAE (original): ${val_mae_original:,.0f}\")\n",
    "print(f\"  R² Score: {val_r2:.4f}\")\n",
    "\n",
    "# Percentage errors\n",
    "percentage_errors = np.abs((val_predictions_original - y_val_original) / y_val_original) * 100\n",
    "print(f\"  Mean Absolute Percentage Error: {percentage_errors.mean():.2f}%\")\n",
    "print(f\"  Median Absolute Percentage Error: {np.median(percentage_errors):.2f}%\")\n",
    "\n",
    "# Store validation results\n",
    "all_model_results[final_model_name]['val_rmse'] = val_rmse_log"
   ]
  },
  {
   "cell_type": "markdown",
   "id": "e8d4bd32",
   "metadata": {},
   "source": [
    "The final model (Stacking Ensemble) demonstrates strong generalization performance on the validation set. With an RMSE of $18,713 and an R² of 0.9366, it accurately captures the variance in housing prices. The low MAE ($13,499) and median absolute percentage error (5.46%) suggest the model makes consistently accurate predictions with minimal large deviations.\n",
    "\n",
    "### 5.3 Residual Analysis\n",
    "Analyze model residuals to understand prediction quality and identify potential issues like bias, heteroscedasticity, or non-normality of errors."
   ]
  },
  {
   "cell_type": "code",
   "execution_count": 29,
   "id": "92fc5278",
   "metadata": {},
   "outputs": [
    {
     "name": "stdout",
     "output_type": "stream",
     "text": [
      "\n",
      "Residual Analysis:\n"
     ]
    },
    {
     "data": {
      "image/png": "[encoded data removed]",
      "text/plain": [
       "<Figure size 1500x1000 with 4 Axes>"
      ]
     },
     "metadata": {},
     "output_type": "display_data"
    },
    {
     "name": "stdout",
     "output_type": "stream",
     "text": [
      "Residual Normality Test: statistic=159.6673, p-value=0.0000\n",
      "Normal distribution: No\n",
      "Mean residual: -0.005274\n",
      "Residual std: 0.1170\n"
     ]
    }
   ],
   "source": [
    "print(\"\\nResidual Analysis:\")\n",
    "\n",
    "residuals_log = y_val - val_predictions_log\n",
    "residuals_original = y_val_original - val_predictions_original\n",
    "\n",
    "# Create comprehensive residual plots\n",
    "fig, ((ax1, ax2), (ax3, ax4)) = plt.subplots(2, 2, figsize=(15, 10))\n",
    "\n",
    "# Predicted vs Actual (log scale)\n",
    "ax1.scatter(val_predictions_log, y_val, alpha=0.6, s=20)\n",
    "ax1.plot([y_val.min(), y_val.max()], [y_val.min(), y_val.max()], 'r--', lw=2)\n",
    "ax1.set_xlabel('Predicted (log scale)')\n",
    "ax1.set_ylabel('Actual (log scale)')\n",
    "ax1.set_title('Predicted vs Actual (Log Scale)')\n",
    "ax1.grid(True, alpha=0.3)\n",
    "\n",
    "# Predicted vs Actual (original scale)\n",
    "ax2.scatter(val_predictions_original, y_val_original, alpha=0.6, s=20)\n",
    "ax2.plot([y_val_original.min(), y_val_original.max()], \n",
    "         [y_val_original.min(), y_val_original.max()], 'r--', lw=2)\n",
    "ax2.set_xlabel('Predicted Price ($)')\n",
    "ax2.set_ylabel('Actual Price ($)')\n",
    "ax2.set_title('Predicted vs Actual (Original Scale)')\n",
    "ax2.grid(True, alpha=0.3)\n",
    "\n",
    "# Residuals vs Predicted (log scale)\n",
    "ax3.scatter(val_predictions_log, residuals_log, alpha=0.6, s=20)\n",
    "ax3.axhline(y=0, color='r', linestyle='--')\n",
    "ax3.set_xlabel('Predicted (log scale)')\n",
    "ax3.set_ylabel('Residuals (log scale)')\n",
    "ax3.set_title('Residuals vs Predicted (Log Scale)')\n",
    "ax3.grid(True, alpha=0.3)\n",
    "\n",
    "# Residual distribution\n",
    "ax4.hist(residuals_log, bins=30, alpha=0.7, edgecolor='black')\n",
    "ax4.set_xlabel('Residuals (log scale)')\n",
    "ax4.set_ylabel('Frequency')\n",
    "ax4.set_title('Residual Distribution')\n",
    "ax4.grid(True, alpha=0.3)\n",
    "\n",
    "plt.tight_layout()\n",
    "plt.show()\n",
    "\n",
    "# Statistical analysis of residuals\n",
    "from scipy.stats import normaltest\n",
    "\n",
    "stat, p_value = normaltest(residuals_log)\n",
    "print(f\"Residual Normality Test: statistic={stat:.4f}, p-value={p_value:.4f}\")\n",
    "print(f\"Normal distribution: {'Yes' if p_value > 0.05 else 'No'}\")\n",
    "print(f\"Mean residual: {residuals_log.mean():.6f}\")\n",
    "print(f\"Residual std: {residuals_log.std():.4f}\")"
   ]
  },
  {
   "cell_type": "markdown",
   "id": "bd8e1db9",
   "metadata": {},
   "source": [
    "The residual plots suggest that the model captures the underlying data structure well, with most predictions closely aligned along the diagonal in both log and original scales. The residuals are mostly centered around zero and show no clear heteroscedasticity or strong pattern against predicted values, which supports the assumption of constant variance.\n",
    "\n",
    "However, the residual distribution deviates from normality, as confirmed by the normality test (statistic = 154.31, p-value < 0.0001), and the histogram shows a slight left skew. Despite this, the residual mean is close to zero (−0.006), and the standard deviation (0.118) is consistent with the overall RMSE, suggesting no severe bias.\n",
    "\n",
    "### 5. Feature Importance Analysis\n",
    "Analyze the importance of features used in the final model to understand which variables contribute most to predictions. This can help validate feature engineering decisions and provide insights into the underlying data relationships.\n",
    "\n",
    "### 5.1 Permutation Importance Analysis\n",
    "Assess which features have the greatest impact on the model's performance by measuring the increase in prediction error when each feature’s values are randomly shuffled. This model-agnostic approach offers a robust interpretation of feature relevance and helps validate or challenge assumptions made during feature engineering."
   ]
  },
  {
   "cell_type": "code",
   "execution_count": 30,
   "id": "09e26b8f",
   "metadata": {},
   "outputs": [
    {
     "name": "stdout",
     "output_type": "stream",
     "text": [
      "Calculating Permutation Importance for Stacking_Ensemble...\n",
      "✓ Permutation importance calculated successfully\n",
      "  Repeats: 5\n",
      "  Features analyzed: 191\n",
      "\n",
      "Top 15 Features by Permutation Importance:\n",
      "Feature                   Importance   Std       \n",
      "--------------------------------------------------\n",
      "GrLivArea                 0.0173       0.0011    \n",
      "OverallQual               0.0126       0.0009    \n",
      "TotalFlrSF                0.0038       0.0004    \n",
      "HouseAge                  0.0037       0.0005    \n",
      "OverallCond               0.0035       0.0002    \n",
      "LotArea                   0.0027       0.0005    \n",
      "BsmtFinSF                 0.0021       0.0004    \n",
      "TotalBaths                0.0019       0.0003    \n",
      "SaleCondition_Normal      0.0013       0.0002    \n",
      "KitchenQual               0.0012       0.0003    \n",
      "YearsSinceRemodel         0.0011       0.0003    \n",
      "CentralAir                0.0009       0.0001    \n",
      "Functional                0.0008       0.0003    \n",
      "BsmtExposure              0.0006       0.0002    \n",
      "BsmtQual                  0.0006       0.0001    \n"
     ]
    },
    {
     "data": {
      "image/png": "[encoded data removed]",
      "text/plain": [
       "<Figure size 1000x800 with 1 Axes>"
      ]
     },
     "metadata": {},
     "output_type": "display_data"
    }
   ],
   "source": [
    "def get_permutation_importance(model, X_train, X_val, y_val, model_name=\"Model\", n_repeats=5):\n",
    "    \"\"\"\n",
    "    Calculate permutation importance for any model\n",
    "    Works by shuffling each feature and measuring performance drop\n",
    "    \"\"\"\n",
    "    print(f\"Calculating Permutation Importance for {model_name}...\")\n",
    "    \n",
    "    try:\n",
    "        from sklearn.inspection import permutation_importance\n",
    "        \n",
    "        # Calculate permutation importance\n",
    "        perm_importance = permutation_importance(\n",
    "            model, X_val, y_val,\n",
    "            n_repeats=n_repeats,\n",
    "            random_state=42,\n",
    "            scoring='neg_mean_squared_error',\n",
    "            n_jobs=-1\n",
    "        )\n",
    "        \n",
    "        # Create results dataframe\n",
    "        perm_df = pd.DataFrame({\n",
    "            'Feature': X_train.columns,\n",
    "            'Permutation_Importance': perm_importance.importances_mean,\n",
    "            'Permutation_Std': perm_importance.importances_std\n",
    "        }).sort_values('Permutation_Importance', ascending=False)\n",
    "        \n",
    "        print(\"✓ Permutation importance calculated successfully\")\n",
    "        print(f\"  Repeats: {n_repeats}\")\n",
    "        print(f\"  Features analyzed: {len(X_train.columns)}\")\n",
    "        \n",
    "        # Display top features\n",
    "        print(\"\\nTop 15 Features by Permutation Importance:\")\n",
    "        print(f\"{'Feature':<25} {'Importance':<12} {'Std':<10}\")\n",
    "        print(\"-\" * 50)\n",
    "        for idx, row in perm_df.head(15).iterrows():\n",
    "            print(f\"{row['Feature']:<25} {row['Permutation_Importance']:<12.4f} {row['Permutation_Std']:<10.4f}\")\n",
    "        \n",
    "        # Plot\n",
    "        plt.figure(figsize=(10, 8))\n",
    "        top_features = perm_df.head(20)\n",
    "        \n",
    "        # Bar plot with error bars\n",
    "        plt.barh(range(len(top_features)), top_features['Permutation_Importance'], \n",
    "                xerr=top_features['Permutation_Std'], alpha=0.7)\n",
    "        plt.yticks(range(len(top_features)), top_features['Feature'])\n",
    "        plt.xlabel('Permutation Importance (RMSE increase when shuffled)')\n",
    "        plt.title(f'Top 20 Permutation Feature Importance - {model_name}')\n",
    "        plt.gca().invert_yaxis()\n",
    "        plt.grid(True, alpha=0.3)\n",
    "        plt.tight_layout()\n",
    "        plt.show()\n",
    "        \n",
    "        return perm_df\n",
    "        \n",
    "    except ImportError:\n",
    "        print(\"sklearn.inspection not available. Update scikit-learn:\")\n",
    "        print(\"pip install --upgrade scikit-learn\")\n",
    "        return None\n",
    "    except Exception as e:\n",
    "        print(f\"Permutation importance calculation failed: {e}\")\n",
    "        return None\n",
    "\n",
    "# Usage:\n",
    "perm_importance = get_permutation_importance(final_model, X_train, X_val, y_val, final_model_name)"
   ]
  },
  {
   "cell_type": "markdown",
   "id": "0b655143",
   "metadata": {},
   "source": [
    "GrLivArea emerged as the most influential feature, with a substantial impact on prediction accuracy when shuffled. Other key predictors included OverallQual, OverallCond, and TotalFlrSF. The top features align well with domain expectations, indicating the model’s reliance on both size and quality-related attributes. Most other features showed relatively modest importance, suggesting a smaller marginal contribution to overall predictive performance.\n",
    "\n",
    "### 5.2 Correlation Importance Analysis\n",
    "Compute the linear correlation between each feature and the target variable to identify features with strong direct or inverse relationships. Unlike permutation importance, this method is model-agnostic and does not reflect interaction effects or non-linear dependencies."
   ]
  },
  {
   "cell_type": "code",
   "execution_count": 31,
   "id": "de56ce07",
   "metadata": {},
   "outputs": [
    {
     "name": "stdout",
     "output_type": "stream",
     "text": [
      "Calculating Correlation Importance for Stacking_Ensemble...\n",
      "✓ Correlation importance calculated successfully\n",
      "  Method: pearson\n",
      "  Features analyzed: 191\n",
      "  Strongest correlation: 0.8214\n",
      "\n",
      "Top 15 Features by Correlation Importance:\n",
      "Feature                   Correlation  Abs_Corr  \n",
      "--------------------------------------------------\n",
      "OverallQual               0.8214       0.8214    \n",
      "TotalFlrSF                0.7444       0.7444    \n",
      "GrLivArea                 0.7374       0.7374    \n",
      "ExterQual                 0.6822       0.6822    \n",
      "TotalBaths                0.6767       0.6767    \n",
      "KitchenQual               0.6700       0.6700    \n",
      "BsmtQual                  0.6169       0.6169    \n",
      "HouseAge                  -0.6084      0.6084    \n",
      "GarageFinish              0.6056       0.6056    \n",
      "YearsSinceRemodel         -0.5685      0.5685    \n",
      "FireplaceQu               0.5468       0.5468    \n",
      "TotRmsAbvGrd              0.5421       0.5421    \n",
      "Foundation_PConc          0.5312       0.5312    \n",
      "Fireplaces                0.5102       0.5102    \n",
      "HeatingQC                 0.4739       0.4739    \n"
     ]
    },
    {
     "data": {
      "image/png": "[encoded data removed]",
      "text/plain": [
       "<Figure size 1500x800 with 2 Axes>"
      ]
     },
     "metadata": {},
     "output_type": "display_data"
    },
    {
     "name": "stdout",
     "output_type": "stream",
     "text": [
      "\n",
      "Correlation Summary:\n",
      "  Positive correlations: 104\n",
      "  Negative correlations: 87\n",
      "  Strong correlations (|r| > 0.3): 41\n"
     ]
    }
   ],
   "source": [
    "def get_correlation_importance(X_train, y_train, model_name=\"Model\", method='pearson'):\n",
    "    \"\"\"\n",
    "    Calculate correlation-based feature importance\n",
    "    Simple but fast method showing linear relationships with target\n",
    "    \"\"\"\n",
    "    print(f\"Calculating Correlation Importance for {model_name}...\")\n",
    "    \n",
    "    try:\n",
    "        # Calculate correlations\n",
    "        if method == 'pearson':\n",
    "            correlations = X_train.corrwith(y_train)\n",
    "        elif method == 'spearman':\n",
    "            correlations = X_train.corrwith(y_train, method='spearman')\n",
    "        else:\n",
    "            print(f\"Unknown method {method}, using pearson\")\n",
    "            correlations = X_train.corrwith(y_train)\n",
    "        \n",
    "        # Create results dataframe\n",
    "        corr_df = pd.DataFrame({\n",
    "            'Feature': X_train.columns,\n",
    "            'Correlation': correlations.values,\n",
    "            'Abs_Correlation': np.abs(correlations.values)\n",
    "        }).sort_values('Abs_Correlation', ascending=False)\n",
    "        \n",
    "        # Remove any NaN correlations\n",
    "        corr_df = corr_df.dropna()\n",
    "        \n",
    "        print(\"✓ Correlation importance calculated successfully\")\n",
    "        print(f\"  Method: {method}\")\n",
    "        print(f\"  Features analyzed: {len(corr_df)}\")\n",
    "        print(f\"  Strongest correlation: {corr_df['Abs_Correlation'].max():.4f}\")\n",
    "        \n",
    "        # Display top features\n",
    "        print(\"\\nTop 15 Features by Correlation Importance:\")\n",
    "        print(f\"{'Feature':<25} {'Correlation':<12} {'Abs_Corr':<10}\")\n",
    "        print(\"-\" * 50)\n",
    "        for idx, row in corr_df.head(15).iterrows():\n",
    "            print(f\"{row['Feature']:<25} {row['Correlation']:<12.4f} {row['Abs_Correlation']:<10.4f}\")\n",
    "        \n",
    "        # Plot\n",
    "        fig, (ax1, ax2) = plt.subplots(1, 2, figsize=(15, 8))\n",
    "        \n",
    "        # Plot 1: Top absolute correlations\n",
    "        top_features = corr_df.head(20)\n",
    "        colors = ['red' if x < 0 else 'blue' for x in top_features['Correlation']]\n",
    "        \n",
    "        ax1.barh(range(len(top_features)), top_features['Abs_Correlation'], color=colors, alpha=0.7)\n",
    "        ax1.set_yticks(range(len(top_features)))\n",
    "        ax1.set_yticklabels(top_features['Feature'])\n",
    "        ax1.set_xlabel('Absolute Correlation with Target')\n",
    "        ax1.set_title(f'Top 20 Feature Correlations - {model_name}')\n",
    "        ax1.invert_yaxis()\n",
    "        ax1.grid(True, alpha=0.3)\n",
    "        \n",
    "        # Plot 2: Correlation distribution\n",
    "        ax2.hist(corr_df['Correlation'], bins=30, alpha=0.7, edgecolor='black')\n",
    "        ax2.axvline(x=0, color='red', linestyle='--', alpha=0.7)\n",
    "        ax2.set_xlabel('Correlation with Target')\n",
    "        ax2.set_ylabel('Number of Features')\n",
    "        ax2.set_title(f'Distribution of Feature Correlations - {model_name}')\n",
    "        ax2.grid(True, alpha=0.3)\n",
    "        \n",
    "        plt.tight_layout()\n",
    "        plt.show()\n",
    "        \n",
    "        # Additional insights\n",
    "        positive_corr = (corr_df['Correlation'] > 0).sum()\n",
    "        negative_corr = (corr_df['Correlation'] < 0).sum()\n",
    "        strong_corr = (corr_df['Abs_Correlation'] > 0.3).sum()\n",
    "        \n",
    "        print(f\"\\nCorrelation Summary:\")\n",
    "        print(f\"  Positive correlations: {positive_corr}\")\n",
    "        print(f\"  Negative correlations: {negative_corr}\")\n",
    "        print(f\"  Strong correlations (|r| > 0.3): {strong_corr}\")\n",
    "        \n",
    "        return corr_df\n",
    "        \n",
    "    except Exception as e:\n",
    "        print(f\"Correlation importance calculation failed: {e}\")\n",
    "        return None\n",
    "    \n",
    "# Usage:\n",
    "corr_importance = get_correlation_importance(X_train, y_log, final_model_name, method='pearson')  "
   ]
  },
  {
   "cell_type": "markdown",
   "id": "89353c01",
   "metadata": {},
   "source": [
    "The correlation analysis revealed that OverallQual (correlation: 0.82), TotalFlrSF (0.74), and GrLivArea (0.73) are the most strongly positively correlated features with the target variable. A total of 41 features show strong correlations (|r| > 0.3), with a roughly even split between positive (104) and negative (87) relationships. This indicates that both linear positive and inverse associations exist across the feature set. The histogram confirms a concentration of weakly correlated features around zero, with a few features demonstrating meaningful linear influence on house prices.\n",
    "\n",
    "#### Summary of Feature Importance Analysis\n",
    "While the permutation importance analysis emphasized GrLivArea, OverallQual, and OverallCond as the most critical features based on their actual impact on model performance, the correlation analysis similarly highlighted OverallQual, TotalFlrSF, and GrLivArea as the most linearly associated with the target.\n",
    "\n",
    "This overlap suggests that these top features are not only statistically correlated with house prices but also practically important for prediction within the final model. However, some features—like OverallCond—ranked highly in permutation importance despite having weaker correlation, indicating that their predictive value may stem from nonlinear interactions or interdependencies the model captures."
   ]
  },
  {
   "cell_type": "markdown",
   "id": "db3f6c83",
   "metadata": {},
   "source": [
    "## 6. Final Test Predictions\n",
    "### 6.1 Test Set Prediction Generation\n",
    "6.1 Test Set Prediction Generation\n",
    "The final stacked ensemble model is trained on the full training data and used to predict house prices in the test set. Predictions are converted from log scale to the original price scale using the exponential function. Descriptive statistics and sanity checks are applied to ensure prediction values are reasonable and align with the distribution of the training data."
   ]
  },
  {
   "cell_type": "code",
   "execution_count": 33,
   "id": "160d2852",
   "metadata": {},
   "outputs": [
    {
     "name": "stdout",
     "output_type": "stream",
     "text": [
      "\n",
      "============================================================\n",
      "GENERATING FINAL TEST PREDICTIONS\n",
      "============================================================\n",
      "Test predictions generated: 1459 samples\n",
      "\n",
      "Prediction Statistics:\n",
      "  Range: $48,015 - $697,161\n",
      "  Mean: $178,949\n",
      "  Median: $156,288\n",
      "  Std: $78,995\n",
      "\n",
      "Sanity Checks:\n",
      "  Negative predictions: 0\n",
      "  Very low predictions (<$10k): 0\n",
      "  Very high predictions (>$500k): 7\n",
      "  Training mean: $180,933\n",
      "  Test prediction mean: $178,949\n",
      "  Difference: 1.1%\n",
      "  Distribution similarity: Good\n"
     ]
    }
   ],
   "source": [
    "print(\"\\n\" + \"=\"*60)\n",
    "print(\"GENERATING FINAL TEST PREDICTIONS\")\n",
    "print(\"=\"*60)\n",
    "\n",
    "\n",
    "# Fit final model on complete training data\n",
    "final_model.fit(X_train, y_log)\n",
    "\n",
    "# Generate predictions on test set\n",
    "test_predictions_log = final_model.predict(X_test)\n",
    "test_predictions_original = np.exp(test_predictions_log)\n",
    "\n",
    "print(f\"Test predictions generated: {len(test_predictions_original)} samples\")\n",
    "\n",
    "# Prediction statistics\n",
    "print(f\"\\nPrediction Statistics:\")\n",
    "print(f\"  Range: ${test_predictions_original.min():,.0f} - ${test_predictions_original.max():,.0f}\")\n",
    "print(f\"  Mean: ${test_predictions_original.mean():,.0f}\")\n",
    "print(f\"  Median: ${np.median(test_predictions_original):,.0f}\")\n",
    "print(f\"  Std: ${test_predictions_original.std():,.0f}\")\n",
    "\n",
    "# Sanity checks\n",
    "print(f\"\\nSanity Checks:\")\n",
    "negative_count = (test_predictions_original < 0).sum()\n",
    "low_count = (test_predictions_original < 10000).sum()\n",
    "high_count = (test_predictions_original > 500000).sum()\n",
    "\n",
    "print(f\"  Negative predictions: {negative_count}\")\n",
    "print(f\"  Very low predictions (<$10k): {low_count}\")\n",
    "print(f\"  Very high predictions (>$500k): {high_count}\")\n",
    "\n",
    "# Compare with training distribution\n",
    "train_mean = np.exp(y_log).mean()\n",
    "test_mean = test_predictions_original.mean()\n",
    "difference_pct = abs(test_mean - train_mean) / train_mean * 100\n",
    "\n",
    "print(f\"  Training mean: ${train_mean:,.0f}\")\n",
    "print(f\"  Test prediction mean: ${test_mean:,.0f}\")\n",
    "print(f\"  Difference: {difference_pct:.1f}%\")\n",
    "\n",
    "if difference_pct > 20:\n",
    "    print(\"  WARNING: Large difference between train and test means\")\n",
    "else:\n",
    "    print(\"  Distribution similarity: Good\")"
   ]
  },
  {
   "cell_type": "markdown",
   "id": "a6f4ae5c",
   "metadata": {},
   "source": [
    "The final model generated 1,459 test predictions with a mean of $178,964 and a range from $47,690 to $701,555. No negative or unrealistically low values were produced, and only 7 predictions exceeded $500,000. The test prediction mean is within 1.1% of the training mean ($180,933), indicating good consistency between the two distributions. These results confirm the model’s stability and generalization performance.\n",
    "\n",
    "### 6.2 Submission File Creation\n",
    "Create a a submission file with predictions, including validation checks to ensure the format meets the kaggle competition requirements."
   ]
  },
  {
   "cell_type": "code",
   "execution_count": 34,
   "id": "820bb2d5",
   "metadata": {},
   "outputs": [
    {
     "name": "stdout",
     "output_type": "stream",
     "text": [
      "\n",
      "Submission File Created:\n",
      "  Filename: ../submissions/submission_Stacking_Ensemble6.csv\n",
      "  Shape: (1459, 2)\n",
      "\n",
      "Submission Preview:\n",
      "     Id      SalePrice\n",
      "0  1461  115830.808664\n",
      "1  1462  159913.536753\n",
      "2  1463  180562.242378\n",
      "3  1464  193398.887246\n",
      "4  1465  192241.000159\n",
      "5  1466  171067.158145\n",
      "6  1467  172030.792073\n",
      "7  1468  161517.337797\n",
      "8  1469  187083.241119\n",
      "9  1470  119544.261548\n",
      "...\n",
      "        Id      SalePrice\n",
      "1454  2915   84015.385358\n",
      "1455  2916   82672.349296\n",
      "1456  2917  158007.030568\n",
      "1457  2918  116591.654819\n",
      "1458  2919  216622.010409\n",
      "\n",
      "Submission Validation:\n",
      "  IDs start at: 1461\n",
      "  IDs end at: 2919\n",
      "  ID count: 1459\n",
      "  Expected count: 1459\n",
      "  Format valid: True\n"
     ]
    }
   ],
   "source": [
    "# Create submission DataFrame\n",
    "submission = pd.DataFrame({\n",
    "    'Id': range(1461, 1461 + len(test_predictions_original)),\n",
    "    'SalePrice': test_predictions_original\n",
    "})\n",
    "\n",
    "# Create submission filename\n",
    "submission_filename = f'../submissions/submission_{final_model_name}6.csv'\n",
    "\n",
    "# Save submission\n",
    "submission.to_csv(submission_filename, index=False)\n",
    "\n",
    "print(f\"\\nSubmission File Created:\")\n",
    "print(f\"  Filename: {submission_filename}\")\n",
    "print(f\"  Shape: {submission.shape}\")\n",
    "\n",
    "# Display submission preview\n",
    "print(f\"\\nSubmission Preview:\")\n",
    "print(submission.head(10))\n",
    "print(\"...\")\n",
    "print(submission.tail(5))\n",
    "\n",
    "# Validate submission format\n",
    "print(f\"\\nSubmission Validation:\")\n",
    "print(f\"  IDs start at: {submission['Id'].min()}\")\n",
    "print(f\"  IDs end at: {submission['Id'].max()}\")\n",
    "print(f\"  ID count: {len(submission)}\")\n",
    "print(f\"  Expected count: {len(X_test)}\")\n",
    "print(f\"  Format valid: {len(submission) == len(X_test) and submission['Id'].min() == 1461}\")"
   ]
  },
  {
   "cell_type": "markdown",
   "id": "c885aa82",
   "metadata": {},
   "source": [
    "## 7. Results Summary and Analysis\n",
    "### 7.1 Performance Summary\n",
    "Create a summary of modeling pipeline results."
   ]
  },
  {
   "cell_type": "code",
   "execution_count": 36,
   "id": "53c2b103",
   "metadata": {},
   "outputs": [
    {
     "name": "stdout",
     "output_type": "stream",
     "text": [
      "\n",
      "====================================================================================================\n",
      "FINAL MODELING RESULTS SUMMARY\n",
      "====================================================================================================\n",
      "Final Model: Stacking_Ensemble\n",
      "Final CV RMSE: 0.1114\n",
      "Validation RMSE: 0.1169\n",
      "\n",
      "Performance Progression:\n",
      "  Best baseline: 0.1166\n",
      "  Best individual: 0.1143 (+1.99%)\n",
      "  Final ensemble: 0.1114 (+4.50%)\n",
      "\n",
      "Model Development Statistics:\n",
      "  Baseline models tested: 8\n",
      "  Ensemble methods tested: 3\n",
      "  Total models evaluated: 11\n",
      "\n",
      "Final Model Validation (Original Scale):\n",
      "  RMSE: $18,530\n",
      "  MAE: $13,361\n",
      "  R² Score: 0.9378\n",
      "  MAPE: 8.11%\n",
      "\n",
      "Submission Details:\n",
      "  File: ../submissions/submission_Stacking_Ensemble6.csv\n",
      "  Predictions: 1459\n",
      "  Price range: $48,015 - $697,161\n"
     ]
    }
   ],
   "source": [
    "print(\"\\n\" + \"=\"*100)\n",
    "print(\"FINAL MODELING RESULTS SUMMARY\")\n",
    "print(\"=\"*100)\n",
    "\n",
    "print(f\"Final Model: {final_model_name}\")\n",
    "print(f\"Final CV RMSE: {final_model_rmse:.4f}\")\n",
    "print(f\"Validation RMSE: {val_rmse_log:.4f}\")\n",
    "\n",
    "# Performance progression analysis\n",
    "if baseline_results:\n",
    "    baseline_rmse = best_baseline[1]['cv_rmse_mean']\n",
    "    individual_best = min(optimized_results.items(), key=lambda x: x[1]['cv_rmse_mean'])\n",
    "    individual_improvement = (baseline_rmse - individual_best[1]['cv_rmse_mean']) / baseline_rmse * 100\n",
    "    final_improvement = (baseline_rmse - final_model_rmse) / baseline_rmse * 100\n",
    "    \n",
    "    print(f\"\\nPerformance Progression:\")\n",
    "    print(f\"  Best baseline: {baseline_rmse:.4f}\")\n",
    "    print(f\"  Best individual: {individual_best[1]['cv_rmse_mean']:.4f} ({individual_improvement:+.2f}%)\")\n",
    "    print(f\"  Final ensemble: {final_model_rmse:.4f} ({final_improvement:+.2f}%)\")\n",
    "\n",
    "# Development statistics\n",
    "print(f\"\\nModel Development Statistics:\")\n",
    "print(f\"  Baseline models tested: {len(baseline_models)}\")\n",
    "print(f\"  Ensemble methods tested: {len(ensemble_results)}\")\n",
    "print(f\"  Total models evaluated: {len(all_model_results)}\")\n",
    "\n",
    "# Validation metrics summary\n",
    "print(f\"\\nFinal Model Validation (Original Scale):\")\n",
    "print(f\"  RMSE: ${val_rmse_original:,.0f}\")\n",
    "print(f\"  MAE: ${val_mae_original:,.0f}\")\n",
    "print(f\"  R² Score: {val_r2:.4f}\")\n",
    "print(f\"  MAPE: {percentage_errors.mean():.2f}%\")\n",
    "\n",
    "print(f\"\\nSubmission Details:\")\n",
    "print(f\"  File: {submission_filename}\")\n",
    "print(f\"  Predictions: {len(test_predictions_original)}\")\n",
    "print(f\"  Price range: ${test_predictions_original.min():,.0f} - ${test_predictions_original.max():,.0f}\")"
   ]
  },
  {
   "cell_type": "markdown",
   "id": "1090eac9",
   "metadata": {},
   "source": [
    "The final model, a stacking ensemble, achieved a cross-validated RMSE of 0.1114, improving by +4.51% over the best baseline. A total of 11 models were evaluated, including 415 hyperparameter tuning trials and 3 ensemble strategies.\n",
    "\n",
    "On the validation set (original scale), the model delivered strong performance with:\n",
    "- RMSE: $18,713\n",
    "- MAE: $13,499\n",
    "- R² Score: 0.9366\n",
    "- MAPE: 8.18%\n",
    "\n",
    "These results indicate that the model generalizes well and produces reliable predictions across a realistic price range from $47,690 to $701,555."
   ]
  },
  {
   "cell_type": "markdown",
   "id": "250c92ec",
   "metadata": {},
   "source": [
    "### 7.2 Key Insights and Learnings\n",
    "Analyze results to extract actionable insights about model performance, ensemble effectiveness, and algorithm ranking to understand what worked best in this specific problem context."
   ]
  },
  {
   "cell_type": "code",
   "execution_count": 37,
   "id": "b8dd7355",
   "metadata": {},
   "outputs": [
    {
     "name": "stdout",
     "output_type": "stream",
     "text": [
      "\n",
      "Key Insights:\n",
      "1. Best Model Types:\n",
      "   1. Stacking_Ensemble: 0.1114\n",
      "   2. Weighted_Ensemble: 0.1114\n",
      "   3. Simple_Ensemble: 0.1114\n",
      "\n",
      "2. Ensemble Effectiveness:\n",
      "   Best individual: 0.1143\n",
      "   Best ensemble: 0.1114\n",
      "   Ensemble improvement: 2.56%\n",
      "\n",
      "3. Algorithm Performance Ranking:\n",
      "   1. CatBoost: 0.1143\n",
      "   2. XGBoost: 0.1153\n",
      "   3. Lasso: 0.1175\n",
      "   4. ElasticNet: 0.1176\n",
      "   5. LightGBM: 0.1184\n",
      "   6. Ridge: 0.1218\n",
      "   7. GradientBoosting: 0.1236\n",
      "   8. RandomForest: 0.1403\n"
     ]
    }
   ],
   "source": [
    "print(f\"\\nKey Insights:\")\n",
    "\n",
    "# Model performance insights\n",
    "print(f\"1. Best Model Types:\")\n",
    "top_3_models_final = sorted(all_model_results.items(), key=lambda x: x[1]['cv_rmse_mean'])[:3]\n",
    "for i, (name, result) in enumerate(top_3_models_final, 1):\n",
    "    print(f\"   {i}. {name}: {result['cv_rmse_mean']:.4f}\")\n",
    "\n",
    "# Ensemble effectiveness\n",
    "if optimized_results and ensemble_results:\n",
    "    individual_best_rmse = min(optimized_results.values(), key=lambda x: x['cv_rmse_mean'])['cv_rmse_mean']\n",
    "    ensemble_best_rmse = min(ensemble_results.values(), key=lambda x: x['cv_rmse_mean'])['cv_rmse_mean']\n",
    "    ensemble_improvement = (individual_best_rmse - ensemble_best_rmse) / individual_best_rmse * 100\n",
    "    \n",
    "    print(f\"\\n2. Ensemble Effectiveness:\")\n",
    "    print(f\"   Best individual: {individual_best_rmse:.4f}\")\n",
    "    print(f\"   Best ensemble: {ensemble_best_rmse:.4f}\")\n",
    "    if ensemble_improvement > 0:\n",
    "        print(f\"   Ensemble improvement: {ensemble_improvement:.2f}%\")\n",
    "    else:\n",
    "        print(f\"   Ensemble did not improve over best individual model\")\n",
    "\n",
    "# Algorithm performance ranking\n",
    "print(f\"\\n3. Algorithm Performance Ranking:\")\n",
    "algorithm_performance = {}\n",
    "for name, result in optimized_results.items():\n",
    "    algorithm = name.replace('_Optimized', '')\n",
    "    algorithm_performance[algorithm] = result['cv_rmse_mean']\n",
    "\n",
    "for i, (algorithm, rmse) in enumerate(sorted(algorithm_performance.items(), key=lambda x: x[1]), 1):\n",
    "    print(f\"   {i}. {algorithm}: {rmse:.4f}\")"
   ]
  },
  {
   "cell_type": "markdown",
   "id": "27bd1334",
   "metadata": {},
   "source": [
    "CatBoost showed the strongest performance among individual models with a CV RMSE of 0.1143. Ensemble methods performed slightly better, with the Stacking Ensemble achieving the lowest RMSE of 0.1114, corresponding to a 2.57% improvement over the best individual model.\n",
    "The results indicate that ensemble techniques can contribute to modest performance gains. The algorithm ranking highlights variation in model performance, with tree-based methods generally performing better than linear approaches in this setup."
   ]
  },
  {
   "cell_type": "markdown",
   "id": "2bdec897",
   "metadata": {},
   "source": [
    "## 8. Export Models\n",
    "\n",
    "### 8.1 Create Models Directory\n"
   ]
  },
  {
   "cell_type": "code",
   "execution_count": 38,
   "id": "f1a700ca",
   "metadata": {},
   "outputs": [
    {
     "name": "stdout",
     "output_type": "stream",
     "text": [
      "Models directory created: ../models\n"
     ]
    }
   ],
   "source": [
    "import os\n",
    "import joblib\n",
    "import json\n",
    "from pathlib import Path\n",
    "\n",
    "# Create models directory\n",
    "models_dir = Path('../models')\n",
    "models_dir.mkdir(exist_ok=True)\n",
    "\n",
    "print(f\"Models directory created: {models_dir}\")"
   ]
  },
  {
   "cell_type": "markdown",
   "id": "79fd4c32",
   "metadata": {},
   "source": [
    "### 8.2 Export Individual Models"
   ]
  },
  {
   "cell_type": "code",
   "execution_count": 39,
   "id": "ba9ee2c0",
   "metadata": {},
   "outputs": [
    {
     "name": "stdout",
     "output_type": "stream",
     "text": [
      "Exporting individual models...\n",
      "✓ Saved Ridge_Optimized: ../models/Ridge_Optimized.joblib\n",
      "  CV RMSE: 0.1218\n",
      "✓ Saved Lasso_Optimized: ../models/Lasso_Optimized.joblib\n",
      "  CV RMSE: 0.1175\n",
      "✓ Saved ElasticNet_Optimized: ../models/ElasticNet_Optimized.joblib\n",
      "  CV RMSE: 0.1176\n",
      "✓ Saved RandomForest_Optimized: ../models/RandomForest_Optimized.joblib\n",
      "  CV RMSE: 0.1403\n",
      "✓ Saved GradientBoosting_Optimized: ../models/GradientBoosting_Optimized.joblib\n",
      "  CV RMSE: 0.1236\n",
      "✓ Saved XGBoost_Optimized: ../models/XGBoost_Optimized.joblib\n",
      "  CV RMSE: 0.1153\n",
      "✓ Saved CatBoost_Optimized: ../models/CatBoost_Optimized.joblib\n",
      "  CV RMSE: 0.1143\n",
      "✓ Saved LightGBM_Optimized: ../models/LightGBM_Optimized.joblib\n",
      "  CV RMSE: 0.1184\n"
     ]
    }
   ],
   "source": [
    "def save_model_with_metadata(model, model_name, result_dict, models_dir='../models'):\n",
    "    \"\"\"\n",
    "    Save a model with its performance metadata\n",
    "    \"\"\"\n",
    "    models_path = Path(models_dir)\n",
    "\n",
    "    # Save the model\n",
    "    model_file = models_path / f\"{model_name}.joblib\"\n",
    "    joblib.dump(model, model_file)\n",
    "\n",
    "    # Save metadata\n",
    "    metadata = {\n",
    "        'model_name': model_name,\n",
    "        'cv_rmse_mean': result_dict['cv_rmse_mean'],\n",
    "        'cv_rmse_std': result_dict['cv_rmse_std'],\n",
    "        'val_rmse': result_dict.get('val_rmse', None),\n",
    "        'best_params': result_dict.get('best_params', None),\n",
    "        'model_type': type(model).__name__\n",
    "    }\n",
    "\n",
    "    metadata_file = models_path / f\"{model_name}_metadata.json\"\n",
    "    with open(metadata_file, 'w') as f:\n",
    "        json.dump(metadata, f, indent=2)\n",
    "\n",
    "    print(f\"✓ Saved {model_name}: {model_file}\")\n",
    "    print(f\"  CV RMSE: {result_dict['cv_rmse_mean']:.4f}\")\n",
    "\n",
    "# Export all optimized individual models\n",
    "individual_models = {\n",
    "    'Ridge_Optimized': (best_ridge, ridge_result),\n",
    "    'Lasso_Optimized': (best_lasso, lasso_result),\n",
    "    'ElasticNet_Optimized': (best_elasticnet, elasticnet_result),\n",
    "    'RandomForest_Optimized': (best_rf, rf_result),\n",
    "    'GradientBoosting_Optimized': (best_gb, gb_result),\n",
    "    'XGBoost_Optimized': (best_xgb, xgb_result),\n",
    "    'CatBoost_Optimized': (best_catboost, catboost_result),\n",
    "    'LightGBM_Optimized': (best_lightgbm, lightgbm_result)\n",
    "}\n",
    "\n",
    "print(\"Exporting individual models...\")\n",
    "for model_name, (model, result) in individual_models.items():\n",
    "    save_model_with_metadata(model, model_name, result)"
   ]
  },
  {
   "cell_type": "markdown",
   "id": "54d0effc",
   "metadata": {},
   "source": [
    "### 8.3 Export Ensemble Models"
   ]
  },
  {
   "cell_type": "code",
   "execution_count": 40,
   "id": "0747646f",
   "metadata": {},
   "outputs": [
    {
     "name": "stdout",
     "output_type": "stream",
     "text": [
      "\n",
      "Exporting ensemble models...\n",
      "✓ Saved Simple_Ensemble: ../models/Simple_Ensemble.joblib\n",
      "  CV RMSE: 0.1114\n",
      "✓ Saved Weighted_Ensemble: ../models/Weighted_Ensemble.joblib\n",
      "  CV RMSE: 0.1114\n",
      "✓ Saved Stacking_Ensemble: ../models/Stacking_Ensemble.joblib\n",
      "  CV RMSE: 0.1114\n"
     ]
    }
   ],
   "source": [
    "def save_ensemble_model(ensemble, ensemble_name, result_dict, component_models=None, models_dir='../models'):\n",
    "    \"\"\"\n",
    "    Save an ensemble model with its components and metadata\n",
    "    \"\"\"\n",
    "    models_path = Path(models_dir)\n",
    "\n",
    "    # Save the ensemble model\n",
    "    ensemble_file = models_path / f\"{ensemble_name}.joblib\"\n",
    "    joblib.dump(ensemble, ensemble_file)\n",
    "\n",
    "    # Save metadata\n",
    "    metadata = {\n",
    "        'ensemble_name': ensemble_name,\n",
    "        'cv_rmse_mean': result_dict['cv_rmse_mean'],\n",
    "        'cv_rmse_std': result_dict['cv_rmse_std'],\n",
    "        'val_rmse': result_dict.get('val_rmse', None),\n",
    "        'ensemble_type': type(ensemble).__name__,\n",
    "        'component_models': component_models or []\n",
    "    }\n",
    "\n",
    "    metadata_file = models_path / f\"{ensemble_name}_metadata.json\"\n",
    "    with open(metadata_file, 'w') as f:\n",
    "        json.dump(metadata, f, indent=2)\n",
    "\n",
    "    print(f\"✓ Saved {ensemble_name}: {ensemble_file}\")\n",
    "    print(f\"  CV RMSE: {result_dict['cv_rmse_mean']:.4f}\")\n",
    "\n",
    "# Export ensemble models\n",
    "ensemble_models = {\n",
    "    'Simple_Ensemble': (simple_ensemble, simple_result, ['CatBoost', 'XGBoost', 'LightGBM', 'Lasso']),\n",
    "    'Weighted_Ensemble': (weighted_ensemble, weighted_result, ['CatBoost', 'XGBoost', 'LightGBM', 'Lasso']),\n",
    "    'Stacking_Ensemble': (stacking_ensemble, stacking_result, ['CatBoost', 'XGBoost', 'LightGBM', 'Lasso'])\n",
    "}\n",
    "\n",
    "print(\"\\nExporting ensemble models...\")\n",
    "for ensemble_name, (ensemble, result, components) in ensemble_models.items():\n",
    "    save_ensemble_model(ensemble, ensemble_name, result, components)"
   ]
  },
  {
   "cell_type": "markdown",
   "id": "8ff8b23d",
   "metadata": {},
   "source": [
    "### 8.4 Export Final Model"
   ]
  },
  {
   "cell_type": "code",
   "execution_count": 41,
   "id": "fce09c9e",
   "metadata": {},
   "outputs": [
    {
     "name": "stdout",
     "output_type": "stream",
     "text": [
      "\n",
      "✓ Final model saved: ../models/final_model.joblib\n",
      "  Model: Stacking_Ensemble\n",
      "  CV RMSE: 0.1114\n"
     ]
    }
   ],
   "source": [
    "# Export the final selected model\n",
    "final_model_metadata = {\n",
    "    'final_model_name': final_model_name,\n",
    "    'final_cv_rmse': final_model_rmse,\n",
    "    'selection_criteria': 'Best cross-validation RMSE',\n",
    "    'exported_at': str(pd.Timestamp.now())\n",
    "}\n",
    "\n",
    "models_path = Path(models_dir)\n",
    "\n",
    "# Save final model\n",
    "final_model_file = models_path / \"final_model.joblib\"\n",
    "joblib.dump(final_model, final_model_file)\n",
    "\n",
    "# Save final model metadata\n",
    "final_metadata_file = models_path / \"final_model_metadata.json\"\n",
    "with open(final_metadata_file, 'w') as f:\n",
    "    json.dump(final_model_metadata, f, indent=2)\n",
    "\n",
    "print(f\"\\n✓ Final model saved: {final_model_file}\")\n",
    "print(f\"  Model: {final_model_name}\")\n",
    "print(f\"  CV RMSE: {final_model_rmse:.4f}\")\n"
   ]
  },
  {
   "cell_type": "markdown",
   "id": "97d1d106",
   "metadata": {},
   "source": [
    "### 8.4 Create Model Summary"
   ]
  },
  {
   "cell_type": "code",
   "execution_count": 42,
   "id": "512725df",
   "metadata": {},
   "outputs": [
    {
     "name": "stdout",
     "output_type": "stream",
     "text": [
      "\n",
      "✓ Model summary saved: ../models/model_summary.json\n"
     ]
    }
   ],
   "source": [
    "model_summary = {\n",
    "    'project_info': {\n",
    "        'dataset': 'House Prices - Advanced Regression Techniques',\n",
    "        'target': 'SalePrice (log-transformed)',\n",
    "        'features': X_train.shape[1],\n",
    "        'training_samples': X_train.shape[0],\n",
    "        'test_samples': X_test.shape[0]\n",
    "    },\n",
    "    'individual_models': {},\n",
    "    'ensemble_models': {},\n",
    "    'final_model': final_model_metadata,\n",
    "    'performance_comparison': {}\n",
    "}\n",
    "\n",
    "# Add individual model performance\n",
    "for model_name, (model, result) in individual_models.items():\n",
    "    model_summary['individual_models'][model_name] = {\n",
    "        'cv_rmse_mean': result['cv_rmse_mean'],\n",
    "        'cv_rmse_std': result['cv_rmse_std'],\n",
    "        'model_type': type(model).__name__\n",
    "    }\n",
    "\n",
    "# Add ensemble model performance\n",
    "for ensemble_name, (ensemble, result, components) in ensemble_models.items():\n",
    "    model_summary['ensemble_models'][ensemble_name] = {\n",
    "        'cv_rmse_mean': result['cv_rmse_mean'],\n",
    "        'cv_rmse_std': result['cv_rmse_std'],\n",
    "        'components': components\n",
    "    }\n",
    "\n",
    "# Add performance comparison\n",
    "all_results = {**{name: result for name, (model, result) in individual_models.items()},\n",
    "               **{name: result for name, (ensemble, result, components) in ensemble_models.items()}}\n",
    "\n",
    "for model_name, result in sorted(all_results.items(), key=lambda x: x[1]['cv_rmse_mean']):\n",
    "    model_summary['performance_comparison'][model_name] = result['cv_rmse_mean']\n",
    "\n",
    "# Save model summary\n",
    "summary_file = models_path / \"model_summary.json\"\n",
    "with open(summary_file, 'w') as f:\n",
    "    json.dump(model_summary, f, indent=2)\n",
    "\n",
    "print(f\"\\n✓ Model summary saved: {summary_file}\")"
   ]
  }
 ],
 "metadata": {
  "kernelspec": {
   "display_name": "HousePrediction",
   "language": "python",
   "name": "python3"
  },
  "language_info": {
   "codemirror_mode": {
    "name": "ipython",
    "version": 3
   },
   "file_extension": ".py",
   "mimetype": "text/x-python",
   "name": "python",
   "nbconvert_exporter": "python",
   "pygments_lexer": "ipython3",
   "version": "3.11.11"
  }
 },
 "nbformat": 4,
 "nbformat_minor": 5
}
