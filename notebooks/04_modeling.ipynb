{
 "cells": [
  {
   "cell_type": "markdown",
   "id": "d8746971",
   "metadata": {},
   "source": [
    "# Notebook 04: Model Development & Optimization\n",
    "\n",
    "Advanced model development, hyperparameter tuning, and performance optimization using the feature engineered dataset from notebook 03.\n",
    "\n",
    "## 1. Setup and Data Loading\n",
    "\n",
    "### 1.1 Library Imports"
   ]
  },
  {
   "cell_type": "code",
   "execution_count": 2,
   "id": "c0fcd576",
   "metadata": {},
   "outputs": [
    {
     "name": "stdout",
     "output_type": "stream",
     "text": [
      "Libraries loaded successfully\n"
     ]
    }
   ],
   "source": [
    "# Core libraries\n",
    "import pandas as pd\n",
    "import numpy as np\n",
    "import matplotlib.pyplot as plt\n",
    "import seaborn as sns\n",
    "import warnings\n",
    "warnings.filterwarnings('ignore')\n",
    "\n",
    "# Machine Learning\n",
    "from sklearn.model_selection import train_test_split, KFold, cross_val_score\n",
    "from sklearn.linear_model import Ridge, Lasso, ElasticNet\n",
    "from sklearn.ensemble import RandomForestRegressor, GradientBoostingRegressor, StackingRegressor\n",
    "from sklearn.metrics import mean_squared_error, mean_absolute_error, r2_score\n",
    "from sklearn.base import BaseEstimator, RegressorMixin, clone\n",
    "\n",
    "# Advanced Models\n",
    "from xgboost import XGBRegressor\n",
    "from catboost import CatBoostRegressor\n",
    "from lightgbm import LGBMRegressor\n",
    "\n",
    "# Hyperparameter Optimization\n",
    "import optuna\n",
    "from optuna.pruners import MedianPruner\n",
    "\n",
    "# Progress tracking and utilities\n",
    "from tqdm import tqdm\n",
    "import joblib\n",
    "import time\n",
    "from scipy.optimize import minimize\n",
    "\n",
    "# Set random seeds for reproducibility\n",
    "RANDOM_STATE = 42\n",
    "np.random.seed(RANDOM_STATE)\n",
    "\n",
    "# Display options\n",
    "pd.set_option('display.max_columns', None)\n",
    "pd.set_option('display.max_rows', 100)\n",
    "\n",
    "print(\"Libraries loaded successfully\")"
   ]
  },
  {
   "cell_type": "markdown",
   "id": "ed528b75",
   "metadata": {},
   "source": [
    "### 1.2 Data Loading and Validation\n",
    "Load the feature engineered datasets from notebook 03 and validate their integrity by checking for missing values, infinite values, and data types."
   ]
  },
  {
   "cell_type": "code",
   "execution_count": 3,
   "id": "f028892d",
   "metadata": {},
   "outputs": [
    {
     "name": "stdout",
     "output_type": "stream",
     "text": [
      "\n",
      "============================================================\n",
      "Data Import Summary:\n",
      "Features available: 191\n",
      "Training samples: 1458\n",
      "Test samples: 1459\n",
      "============================================================\n",
      "\n",
      "Target Variable Statistics:\n",
      "  Shape: (1458,)\n",
      "  Mean: 12.0240\n",
      "  Std: 0.3997\n",
      "  Range: 10.4602 - 13.5345\n",
      "\n",
      "Data Quality Check:\n",
      "Missing values in X_train: 0\n",
      "Missing values in X_test: 0\n",
      "Missing values in target: 0\n",
      "Infinite values in X_train: 0\n",
      "Infinite values in X_test: 0\n"
     ]
    }
   ],
   "source": [
    "# Load processed datasets\n",
    "X_train = pd.read_csv('../data/processed/X_train_final.csv')\n",
    "X_test = pd.read_csv('../data/processed/X_test_final.csv')\n",
    "target_data = pd.read_csv('../data/processed/y_train_final.csv')\n",
    "\n",
    "print(\"\\n\" + \"=\"*60)\n",
    "print(\"Data Import Summary:\")\n",
    "print(f\"Features available: {X_train.shape[1]}\")\n",
    "print(f\"Training samples: {X_train.shape[0]}\")\n",
    "print(f\"Test samples: {X_test.shape[0]}\")\n",
    "print(\"=\"*60)\n",
    "\n",
    "# Extract log-transformed target\n",
    "y_log = target_data['SalePrice']\n",
    "\n",
    "print(f\"\\nTarget Variable Statistics:\")\n",
    "print(f\"  Shape: {y_log.shape}\")\n",
    "print(f\"  Mean: {y_log.mean():.4f}\")\n",
    "print(f\"  Std: {y_log.std():.4f}\")\n",
    "print(f\"  Range: {y_log.min():.4f} - {y_log.max():.4f}\")\n",
    "\n",
    "# Data quality validation\n",
    "print(\"\\nData Quality Check:\")\n",
    "print(f\"Missing values in X_train: {X_train.isnull().sum().sum()}\")\n",
    "print(f\"Missing values in X_test: {X_test.isnull().sum().sum()}\")\n",
    "print(f\"Missing values in target: {y_log.isnull().sum()}\")\n",
    "\n",
    "# Check for infinite values\n",
    "inf_train = np.isinf(X_train.select_dtypes(include=[np.number])).sum().sum()\n",
    "inf_test = np.isinf(X_test.select_dtypes(include=[np.number])).sum().sum()\n",
    "print(f\"Infinite values in X_train: {inf_train}\")\n",
    "print(f\"Infinite values in X_test: {inf_test}\")"
   ]
  },
  {
   "cell_type": "markdown",
   "id": "60b4d7bb",
   "metadata": {},
   "source": [
    "191 features has been loaded across 1458 training and 1459 test samples. Data quality validation confirms zero missing values and no infinite values, indicating clean preprocessed data ready for modeling.\n",
    "\n",
    "### 1.3 Train-Validation Split\n",
    "Create a holdout validation set by reserving 20% of training data for final model evaluation, providing an unbiased estimate of performance before touching the test set."
   ]
  },
  {
   "cell_type": "code",
   "execution_count": 4,
   "id": "b231b7f2",
   "metadata": {},
   "outputs": [
    {
     "name": "stdout",
     "output_type": "stream",
     "text": [
      "\n",
      "Train-Validation Split:\n",
      "  Training set: 1166 samples\n",
      "  Validation set: 292 samples\n",
      "  Features: 191\n"
     ]
    }
   ],
   "source": [
    "# Create train-validation split\n",
    "X_train_split, X_val, y_train, y_val = train_test_split(\n",
    "    X_train, y_log, \n",
    "    test_size=0.2, \n",
    "    random_state=RANDOM_STATE, \n",
    "    stratify=None\n",
    ")\n",
    "\n",
    "print(f\"\\nTrain-Validation Split:\")\n",
    "print(f\"  Training set: {X_train_split.shape[0]} samples\")\n",
    "print(f\"  Validation set: {X_val.shape[0]} samples\")\n",
    "print(f\"  Features: {X_train_split.shape[1]}\")"
   ]
  },
  {
   "cell_type": "markdown",
   "id": "18d11cf1",
   "metadata": {},
   "source": [
    "Created training split with 1166 samples and validation split with 292 samples, maintaining the same 191 features for model development.\n",
    "\n",
    "## 2. Baseline Model Development\n",
    "\n",
    "### 2.1 Baseline Models\n",
    "Define baseline models, linear (Ridge, Lasso, ElasticNet), tree-based (RandomForest, GradientBoosting), and boosting models (XGBoost, CatBoost, LightGBM), that represent different algorithmic approaches"
   ]
  },
  {
   "cell_type": "code",
   "execution_count": 5,
   "id": "2b0b03b3",
   "metadata": {},
   "outputs": [
    {
     "name": "stdout",
     "output_type": "stream",
     "text": [
      "Baseline Models Initialized:\n",
      "  - Ridge: Ridge\n",
      "  - Lasso: Lasso\n",
      "  - ElasticNet: ElasticNet\n",
      "  - RandomForest: RandomForestRegressor\n",
      "  - GradientBoosting: GradientBoostingRegressor\n",
      "  - XGBoost: XGBRegressor\n",
      "  - CatBoost: CatBoostRegressor\n",
      "  - LightGBM: LGBMRegressor\n"
     ]
    }
   ],
   "source": [
    "# Define baseline models\n",
    "baseline_models = {\n",
    "    'Ridge': Ridge(random_state=RANDOM_STATE),\n",
    "    'Lasso': Lasso(random_state=RANDOM_STATE),\n",
    "    'ElasticNet': ElasticNet(random_state=RANDOM_STATE),\n",
    "    'RandomForest': RandomForestRegressor(n_estimators=100, random_state=RANDOM_STATE, n_jobs=-1),\n",
    "    'GradientBoosting': GradientBoostingRegressor(random_state=RANDOM_STATE),\n",
    "    'XGBoost': XGBRegressor(random_state=RANDOM_STATE, n_jobs=-1),\n",
    "    'CatBoost': CatBoostRegressor(random_state=RANDOM_STATE, verbose=False),\n",
    "    'LightGBM': LGBMRegressor(random_state=RANDOM_STATE, n_jobs=-1, verbose=-1)\n",
    "}\n",
    "\n",
    "print(\"Baseline Models Initialized:\")\n",
    "for name, model in baseline_models.items():\n",
    "    print(f\"  - {name}: {type(model).__name__}\")"
   ]
  },
  {
   "cell_type": "markdown",
   "id": "d9792773",
   "metadata": {},
   "source": [
    "8 baseline models has been initialized.\n",
    "\n",
    "### 2.2 Cross-Validation Framework\n",
    "Set up a 5-fold cross-validation strategy that ensures reliable performance estimates. Each model will be evaluated using the same CV strategy for fair comparison."
   ]
  },
  {
   "cell_type": "code",
   "execution_count": 6,
   "id": "a5491a78",
   "metadata": {},
   "outputs": [
    {
     "name": "stdout",
     "output_type": "stream",
     "text": [
      "Cross-validation framework ready\n"
     ]
    }
   ],
   "source": [
    "# Cross-validation setup\n",
    "cv_folds = 5\n",
    "cv_strategy = KFold(n_splits=cv_folds, shuffle=True, random_state=RANDOM_STATE)\n",
    "\n",
    "def evaluate_model_cv(model, X, y, cv_strategy, model_name=\"Model\"):\n",
    "    \"\"\"\n",
    "    Evaluate model using cross-validation\n",
    "    \n",
    "    Returns comprehensive performance metrics including mean and std of RMSE\n",
    "    \"\"\"\n",
    "    print(f\"Evaluating {model_name}...\")\n",
    "    \n",
    "    # Perform cross-validation\n",
    "    cv_scores = cross_val_score(\n",
    "        model, X, y, \n",
    "        cv=cv_strategy, \n",
    "        scoring='neg_mean_squared_error',\n",
    "        n_jobs=-1\n",
    "    )\n",
    "    \n",
    "    # Convert to RMSE\n",
    "    cv_rmse_scores = np.sqrt(-cv_scores)\n",
    "    \n",
    "    results = {\n",
    "        'cv_rmse_scores': cv_rmse_scores,\n",
    "        'cv_rmse_mean': cv_rmse_scores.mean(),\n",
    "        'cv_rmse_std': cv_rmse_scores.std(),\n",
    "        'model': model\n",
    "    }\n",
    "    \n",
    "    print(f\"  RMSE: {results['cv_rmse_mean']:.4f} (+/- {results['cv_rmse_std']:.4f})\")\n",
    "    \n",
    "    return results\n",
    "\n",
    "print(\"Cross-validation framework ready\")"
   ]
  },
  {
   "cell_type": "markdown",
   "id": "44281bfd",
   "metadata": {},
   "source": [
    "The 5-fold cross-validation framework has been established with evaluation function that returns mean RMSE, standard deviation, and model objects.\n",
    "\n",
    "### 2.3 Baseline Model Evaluation\n",
    "Conduct baseline evaluations to establish initial performance benchmarks and identify the most promising algorithms for further tuning through systematic cross-validation."
   ]
  },
  {
   "cell_type": "code",
   "execution_count": 7,
   "id": "bbcfee57",
   "metadata": {},
   "outputs": [
    {
     "name": "stdout",
     "output_type": "stream",
     "text": [
      "\n",
      "================================================================================\n",
      "BASELINE MODEL EVALUATION\n",
      "================================================================================\n",
      "Evaluating Ridge...\n",
      "  RMSE: 0.1218 (+/- 0.0089)\n",
      "Evaluating Lasso...\n",
      "  RMSE: 0.3203 (+/- 0.0253)\n",
      "Evaluating ElasticNet...\n",
      "  RMSE: 0.3174 (+/- 0.0248)\n",
      "Evaluating RandomForest...\n",
      "  RMSE: 0.1418 (+/- 0.0095)\n",
      "Evaluating GradientBoosting...\n",
      "  RMSE: 0.1281 (+/- 0.0113)\n",
      "Evaluating XGBoost...\n",
      "  RMSE: 0.1419 (+/- 0.0082)\n",
      "Evaluating CatBoost...\n",
      "  RMSE: 0.1166 (+/- 0.0099)\n",
      "Evaluating LightGBM...\n",
      "  RMSE: 0.1309 (+/- 0.0088)\n",
      "\n",
      "Model           CV RMSE      CV Std    \n",
      "----------------------------------------\n",
      "CatBoost        0.1166       0.0099    \n",
      "Ridge           0.1218       0.0089    \n",
      "GradientBoosting 0.1281       0.0113    \n",
      "LightGBM        0.1309       0.0088    \n",
      "RandomForest    0.1418       0.0095    \n",
      "XGBoost         0.1419       0.0082    \n",
      "ElasticNet      0.3174       0.0248    \n",
      "Lasso           0.3203       0.0253    \n",
      "\n",
      "Best Baseline Model: CatBoost (RMSE: 0.1166)\n"
     ]
    }
   ],
   "source": [
    "print(\"\\n\" + \"=\"*80)\n",
    "print(\"BASELINE MODEL EVALUATION\")\n",
    "print(\"=\"*80)\n",
    "\n",
    "baseline_results = {}\n",
    "\n",
    "# Evaluate each baseline model\n",
    "for name, model in baseline_models.items():\n",
    "    try:\n",
    "        result = evaluate_model_cv(model, X_train_split, y_train, cv_strategy, name)\n",
    "        baseline_results[name] = result\n",
    "    except Exception as e:\n",
    "        print(f\"Error evaluating {name}: {str(e)}\")\n",
    "        continue\n",
    "\n",
    "# Display results in order of performance\n",
    "print(f\"\\n{'Model':<15} {'CV RMSE':<12} {'CV Std':<10}\")\n",
    "print(\"-\"*40)\n",
    "for name, result in sorted(baseline_results.items(), key=lambda x: x[1]['cv_rmse_mean']):\n",
    "    print(f\"{name:<15} {result['cv_rmse_mean']:<12.4f} {result['cv_rmse_std']:<10.4f}\")\n",
    "\n",
    "# Identify best baseline\n",
    "best_baseline = min(baseline_results.items(), key=lambda x: x[1]['cv_rmse_mean'])\n",
    "print(f\"\\nBest Baseline Model: {best_baseline[0]} (RMSE: {best_baseline[1]['cv_rmse_mean']:.4f})\")"
   ]
  },
  {
   "cell_type": "markdown",
   "id": "3bde5721",
   "metadata": {},
   "source": [
    "Completed baseline evaluation across 8 algorithms. The best performing baseline model achieved an RMSE of 0.1166 with CatBoos tdemonstrating the strongest initial performance. Performance spread ranged from 0.1166 to 0.3203, indicating significant algorithmic differences."
   ]
  },
  {
   "cell_type": "markdown",
   "id": "20dc72af",
   "metadata": {},
   "source": [
    "## 3. Hyperparameter Optimization\n",
    "Perform individual hyperparameter optimization for each model using Optuna's Bayesian optimization framework. Each model receives customized parameter spaces and trial counts based on complexity, allowing for model-specific optimization strategies and detailed progress tracking.\n",
    "\n",
    "### 3.1 Ridge Regression Optimization\n",
    "Optimize Ridge regression with focus on regularization parameter, using fewer trials due to the simple parameter space"
   ]
  },
  {
   "cell_type": "code",
   "execution_count": 8,
   "id": "8fae30ad",
   "metadata": {},
   "outputs": [
    {
     "name": "stderr",
     "output_type": "stream",
     "text": [
      "[I 2025-07-15 15:34:48,295] A new study created in memory with name: ridge_optimization\n"
     ]
    },
    {
     "name": "stdout",
     "output_type": "stream",
     "text": [
      "Optimizing Ridge...\n"
     ]
    },
    {
     "data": {
      "application/vnd.jupyter.widget-view+json": {
       "model_id": "4072a8a4ca394be5af25a9e8821bb8ba",
       "version_major": 2,
       "version_minor": 0
      },
      "text/plain": [
       "  0%|          | 0/30 [00:00<?, ?it/s]"
      ]
     },
     "metadata": {},
     "output_type": "display_data"
    },
    {
     "name": "stdout",
     "output_type": "stream",
     "text": [
      "[I 2025-07-15 15:34:48,475] Trial 0 finished with value: 0.13520377102507894 and parameters: {'alpha': 0.0010125578098238882}. Best is trial 0 with value: 0.13520377102507894.\n",
      "[I 2025-07-15 15:34:48,616] Trial 1 finished with value: 0.13558975978594387 and parameters: {'alpha': 0.00026174581206313415}. Best is trial 0 with value: 0.13520377102507894.\n",
      "[I 2025-07-15 15:34:48,758] Trial 2 finished with value: 0.1266491657014568 and parameters: {'alpha': 0.09867766816892906}. Best is trial 2 with value: 0.1266491657014568.\n",
      "[I 2025-07-15 15:34:48,887] Trial 3 finished with value: 0.13424459625461946 and parameters: {'alpha': 0.003186175451099461}. Best is trial 2 with value: 0.1266491657014568.\n",
      "[I 2025-07-15 15:34:49,017] Trial 4 finished with value: 0.13340075718242597 and parameters: {'alpha': 0.005565624057422792}. Best is trial 2 with value: 0.1266491657014568.\n",
      "[I 2025-07-15 15:34:49,090] Trial 5 finished with value: 0.13561595575926716 and parameters: {'alpha': 0.0002130033123543967}. Best is trial 2 with value: 0.1266491657014568.\n",
      "[I 2025-07-15 15:34:49,216] Trial 6 finished with value: 0.12477657167823297 and parameters: {'alpha': 0.24327293259552135}. Best is trial 6 with value: 0.12477657167823297.\n",
      "[I 2025-07-15 15:34:49,347] Trial 7 finished with value: 0.12268987001534828 and parameters: {'alpha': 0.7377646275497303}. Best is trial 7 with value: 0.12268987001534828.\n",
      "[I 2025-07-15 15:34:49,474] Trial 8 finished with value: 0.13348565889320282 and parameters: {'alpha': 0.005302090804542698}. Best is trial 7 with value: 0.12268987001534828.\n",
      "[I 2025-07-15 15:34:49,609] Trial 9 finished with value: 0.13557967593601658 and parameters: {'alpha': 0.00028058074849351814}. Best is trial 7 with value: 0.12268987001534828.\n",
      "[I 2025-07-15 15:34:49,745] Trial 10 finished with value: 0.12296058219389108 and parameters: {'alpha': 0.6354710783605564}. Best is trial 7 with value: 0.12268987001534828.\n",
      "[I 2025-07-15 15:34:49,880] Trial 11 finished with value: 0.12241216429578665 and parameters: {'alpha': 0.8610868442391917}. Best is trial 11 with value: 0.12241216429578665.\n",
      "[I 2025-07-15 15:34:50,014] Trial 12 finished with value: 0.1280999132737087 and parameters: {'alpha': 0.052362049090890456}. Best is trial 11 with value: 0.12241216429578665.\n",
      "[I 2025-07-15 15:34:50,146] Trial 13 finished with value: 0.12227164138224456 and parameters: {'alpha': 0.9317200737145717}. Best is trial 13 with value: 0.12227164138224456.\n",
      "[I 2025-07-15 15:34:50,276] Trial 14 finished with value: 0.1292590381279573 and parameters: {'alpha': 0.03271965742519622}. Best is trial 13 with value: 0.12227164138224456.\n",
      "[I 2025-07-15 15:34:50,408] Trial 15 finished with value: 0.1244571907704717 and parameters: {'alpha': 0.2863486716506996}. Best is trial 13 with value: 0.12227164138224456.\n",
      "[I 2025-07-15 15:34:50,551] Trial 16 finished with value: 0.13059034526895807 and parameters: {'alpha': 0.019427848596759674}. Best is trial 13 with value: 0.12227164138224456.\n",
      "[I 2025-07-15 15:34:50,699] Trial 17 finished with value: 0.12217922636513541 and parameters: {'alpha': 0.9815587365086289}. Best is trial 17 with value: 0.12217922636513541.\n",
      "[I 2025-07-15 15:34:50,834] Trial 18 finished with value: 0.12572287627930206 and parameters: {'alpha': 0.15241911186551418}. Best is trial 17 with value: 0.12217922636513541.\n",
      "[I 2025-07-15 15:34:50,967] Trial 19 finished with value: 0.12393568854110132 and parameters: {'alpha': 0.37578418281634896}. Best is trial 17 with value: 0.12217922636513541.\n",
      "[I 2025-07-15 15:34:51,100] Trial 20 finished with value: 0.12773983841324216 and parameters: {'alpha': 0.0609592348809915}. Best is trial 17 with value: 0.12217922636513541.\n",
      "[I 2025-07-15 15:34:51,233] Trial 21 finished with value: 0.12222833434344456 and parameters: {'alpha': 0.9547257072383932}. Best is trial 17 with value: 0.12217922636513541.\n",
      "[I 2025-07-15 15:34:51,261] Trial 22 finished with value: 0.12233573342900853 and parameters: {'alpha': 0.8987622181314787}. Best is trial 17 with value: 0.12217922636513541.\n",
      "[I 2025-07-15 15:34:51,390] Trial 23 finished with value: 0.12556347467368134 and parameters: {'alpha': 0.16464028866366742}. Best is trial 17 with value: 0.12217922636513541.\n",
      "[I 2025-07-15 15:34:51,524] Trial 24 finished with value: 0.12439999946520534 and parameters: {'alpha': 0.29491308253827253}. Best is trial 17 with value: 0.12217922636513541.\n",
      "[I 2025-07-15 15:34:51,658] Trial 25 finished with value: 0.12364447765328508 and parameters: {'alpha': 0.43865424314671225}. Best is trial 17 with value: 0.12217922636513541.\n",
      "[I 2025-07-15 15:34:51,700] Trial 26 finished with value: 0.12658397815350486 and parameters: {'alpha': 0.10166575866514893}. Best is trial 17 with value: 0.12217922636513541.\n",
      "[I 2025-07-15 15:34:51,833] Trial 27 finished with value: 0.13017569000964843 and parameters: {'alpha': 0.02284546259543662}. Best is trial 17 with value: 0.12217922636513541.\n",
      "[I 2025-07-15 15:34:51,988] Trial 28 finished with value: 0.12217148440093975 and parameters: {'alpha': 0.9858631436199221}. Best is trial 28 with value: 0.12217148440093975.\n",
      "[I 2025-07-15 15:34:52,036] Trial 29 finished with value: 0.13500135002029204 and parameters: {'alpha': 0.0014323659093139045}. Best is trial 28 with value: 0.12217148440093975.\n",
      "Best Ridge RMSE: 0.1222\n",
      "Evaluating Ridge_Optimized...\n",
      "  RMSE: 0.1218 (+/- 0.0089)\n",
      "  Baseline RMSE (CV): 0.1218\n",
      "  Optimized RMSE (Optuna): 0.1222\n",
      "  Optimized RMSE (CV eval): 0.1218\n",
      "  Improvement (baseline CV vs optimized CV): -0.0000\n"
     ]
    }
   ],
   "source": [
    "def objective_ridge(trial):\n",
    "    \"\"\"Objective function for Ridge hyperparameter optimization\"\"\"\n",
    "    alpha = trial.suggest_float('alpha', 1e-4, 1.0, log=True)\n",
    "    model = Ridge(alpha=alpha, random_state=RANDOM_STATE)\n",
    "    \n",
    "    cv_scores = cross_val_score(model, X_train_split, y_train, cv=cv_strategy,\n",
    "                                scoring='neg_mean_squared_error', n_jobs=-1)\n",
    "    return np.sqrt(-cv_scores.mean())\n",
    "\n",
    "print(\"Optimizing Ridge...\")\n",
    "study_ridge = optuna.create_study(direction='minimize', study_name='ridge_optimization')\n",
    "study_ridge.optimize(objective_ridge, n_trials=30, show_progress_bar=True)\n",
    "\n",
    "print(f\"Best Ridge RMSE: {study_ridge.best_value:.4f}\")\n",
    "best_ridge_params = study_ridge.best_params\n",
    "best_ridge = Ridge(**best_ridge_params, random_state=RANDOM_STATE)\n",
    "ridge_result = evaluate_model_cv(best_ridge, X_train_split, y_train, cv_strategy, \"Ridge_Optimized\")\n",
    "ridge_result['best_params'] = best_ridge_params\n",
    "\n",
    "print(f\"  Baseline RMSE (CV): {baseline_results['Ridge']['cv_rmse_mean']:.4f}\")\n",
    "print(f\"  Optimized RMSE (Optuna): {study_ridge.best_value:.4f}\")\n",
    "print(f\"  Optimized RMSE (CV eval): {ridge_result['cv_rmse_mean']:.4f}\")\n",
    "improvement = baseline_results['Ridge']['cv_rmse_mean'] - ridge_result['cv_rmse_mean']\n",
    "print(f\"  Improvement (baseline CV vs optimized CV): {improvement:.4f}\")"
   ]
  },
  {
   "cell_type": "markdown",
   "id": "3230a782",
   "metadata": {},
   "source": [
    "Minimal or no improvement from hyperparameter optimization; baseline Ridge model already performs close to optimal under cross-validation.\n",
    "\n",
    "### 3.2 Lasso Regression Optimization\n",
    "Optimize Lasso regression with regularization parameter tuning for feature selection capabilities."
   ]
  },
  {
   "cell_type": "code",
   "execution_count": 9,
   "id": "3f930764",
   "metadata": {},
   "outputs": [
    {
     "name": "stderr",
     "output_type": "stream",
     "text": [
      "[I 2025-07-15 15:35:13,831] A new study created in memory with name: lasso_optimization\n"
     ]
    },
    {
     "name": "stdout",
     "output_type": "stream",
     "text": [
      "\n",
      "Optimizing Lasso...\n"
     ]
    },
    {
     "data": {
      "application/vnd.jupyter.widget-view+json": {
       "model_id": "9fbdf564b43d4bc79e1e0a41b423bc73",
       "version_major": 2,
       "version_minor": 0
      },
      "text/plain": [
       "  0%|          | 0/30 [00:00<?, ?it/s]"
      ]
     },
     "metadata": {},
     "output_type": "display_data"
    },
    {
     "name": "stdout",
     "output_type": "stream",
     "text": [
      "[I 2025-07-15 15:35:14,085] Trial 0 finished with value: 0.1203782471259587 and parameters: {'alpha': 0.0012020982712995876}. Best is trial 0 with value: 0.1203782471259587.\n",
      "[I 2025-07-15 15:35:14,267] Trial 1 finished with value: 0.14077868708548372 and parameters: {'alpha': 0.007378442729924348}. Best is trial 0 with value: 0.1203782471259587.\n",
      "[I 2025-07-15 15:35:14,397] Trial 2 finished with value: 0.1812099932873769 and parameters: {'alpha': 0.03728635507961505}. Best is trial 0 with value: 0.1203782471259587.\n",
      "[I 2025-07-15 15:35:14,553] Trial 3 finished with value: 0.15715939874046073 and parameters: {'alpha': 0.01614818014233351}. Best is trial 0 with value: 0.1203782471259587.\n",
      "[I 2025-07-15 15:35:14,699] Trial 4 finished with value: 0.2005186150404107 and parameters: {'alpha': 0.06258841351936001}. Best is trial 0 with value: 0.1203782471259587.\n",
      "[I 2025-07-15 15:35:14,832] Trial 5 finished with value: 0.19034783051917548 and parameters: {'alpha': 0.046362787622075956}. Best is trial 0 with value: 0.1203782471259587.\n",
      "[I 2025-07-15 15:35:15,037] Trial 6 finished with value: 0.12028970309923206 and parameters: {'alpha': 0.00013762443521741677}. Best is trial 6 with value: 0.12028970309923206.\n",
      "[I 2025-07-15 15:35:15,170] Trial 7 finished with value: 0.3210610173723426 and parameters: {'alpha': 0.9655050683144005}. Best is trial 6 with value: 0.12028970309923206.\n",
      "[I 2025-07-15 15:35:15,352] Trial 8 finished with value: 0.12182985614440388 and parameters: {'alpha': 0.0014789335406921887}. Best is trial 6 with value: 0.12028970309923206.\n",
      "[I 2025-07-15 15:35:15,503] Trial 9 finished with value: 0.1642734132839073 and parameters: {'alpha': 0.019803909304898025}. Best is trial 6 with value: 0.12028970309923206.\n",
      "[I 2025-07-15 15:35:15,691] Trial 10 finished with value: 0.12031633333316824 and parameters: {'alpha': 0.00013637843416003883}. Best is trial 6 with value: 0.12028970309923206.\n",
      "[I 2025-07-15 15:35:15,896] Trial 11 finished with value: 0.12106222634602577 and parameters: {'alpha': 0.00010520198285381514}. Best is trial 6 with value: 0.12028970309923206.\n",
      "[I 2025-07-15 15:35:16,088] Trial 12 finished with value: 0.12012546665976515 and parameters: {'alpha': 0.00014549687625983463}. Best is trial 12 with value: 0.12012546665976515.\n",
      "[I 2025-07-15 15:35:16,293] Trial 13 finished with value: 0.11800982223713322 and parameters: {'alpha': 0.0005964195257968764}. Best is trial 13 with value: 0.11800982223713322.\n",
      "[I 2025-07-15 15:35:16,628] Trial 14 finished with value: 0.1188957593805818 and parameters: {'alpha': 0.0008448479318809716}. Best is trial 13 with value: 0.11800982223713322.\n",
      "[I 2025-07-15 15:35:16,832] Trial 15 finished with value: 0.1185563997081198 and parameters: {'alpha': 0.0007417574594338305}. Best is trial 13 with value: 0.11800982223713322.\n",
      "[I 2025-07-15 15:35:17,012] Trial 16 finished with value: 0.13030350051150708 and parameters: {'alpha': 0.0029789180146760634}. Best is trial 13 with value: 0.11800982223713322.\n",
      "[I 2025-07-15 15:35:17,237] Trial 17 finished with value: 0.11822117215562764 and parameters: {'alpha': 0.00033587653101399307}. Best is trial 13 with value: 0.11800982223713322.\n",
      "[I 2025-07-15 15:35:17,625] Trial 18 finished with value: 0.1178588772032621 and parameters: {'alpha': 0.0004098587738314809}. Best is trial 18 with value: 0.1178588772032621.\n",
      "[I 2025-07-15 15:35:17,821] Trial 19 finished with value: 0.13490765358417173 and parameters: {'alpha': 0.004369506452872585}. Best is trial 18 with value: 0.1178588772032621.\n",
      "[I 2025-07-15 15:35:18,204] Trial 20 finished with value: 0.11774661447649165 and parameters: {'alpha': 0.00047058865393524485}. Best is trial 20 with value: 0.11774661447649165.\n",
      "[I 2025-07-15 15:35:18,513] Trial 21 finished with value: 0.11790764416532233 and parameters: {'alpha': 0.0003953246491438969}. Best is trial 20 with value: 0.11774661447649165.\n",
      "[I 2025-07-15 15:35:18,730] Trial 22 finished with value: 0.11834960220974086 and parameters: {'alpha': 0.00031687365516060335}. Best is trial 20 with value: 0.11774661447649165.\n",
      "[I 2025-07-15 15:35:18,913] Trial 23 finished with value: 0.12436864344861266 and parameters: {'alpha': 0.0018860470665148718}. Best is trial 20 with value: 0.11774661447649165.\n",
      "[I 2025-07-15 15:35:19,153] Trial 24 finished with value: 0.11859985934305246 and parameters: {'alpha': 0.00028513007604556283}. Best is trial 20 with value: 0.11774661447649165.\n",
      "[I 2025-07-15 15:35:19,285] Trial 25 finished with value: 0.2573646188003998 and parameters: {'alpha': 0.17840622055275918}. Best is trial 20 with value: 0.11774661447649165.\n",
      "[I 2025-07-15 15:35:19,631] Trial 26 finished with value: 0.11774863770528343 and parameters: {'alpha': 0.0004677931189032069}. Best is trial 20 with value: 0.11774661447649165.\n",
      "[I 2025-07-15 15:35:19,847] Trial 27 finished with value: 0.1287141146696817 and parameters: {'alpha': 0.0026408064754402456}. Best is trial 20 with value: 0.11774661447649165.\n",
      "[I 2025-07-15 15:35:20,085] Trial 28 finished with value: 0.1381061686544237 and parameters: {'alpha': 0.006023257028271119}. Best is trial 20 with value: 0.11774661447649165.\n",
      "[I 2025-07-15 15:35:20,268] Trial 29 finished with value: 0.12027584481571095 and parameters: {'alpha': 0.0011809794277534008}. Best is trial 20 with value: 0.11774661447649165.\n",
      "Best Lasso RMSE: 0.1177\n",
      "Evaluating Lasso_Optimized...\n",
      "  RMSE: 0.1175 (+/- 0.0082)\n",
      "  Baseline RMSE (CV): 0.3203\n",
      "  Optimized RMSE (Optuna): 0.1177\n",
      "  Optimized RMSE (CV eval): 0.1175\n",
      "  Improvement (baseline CV vs optimized CV): 0.2029\n"
     ]
    }
   ],
   "source": [
    "def objective_lasso(trial):\n",
    "    \"\"\"Objective function for Lasso hyperparameter optimization\"\"\"\n",
    "    alpha = trial.suggest_float('alpha', 1e-4, 1.0, log=True)\n",
    "    model = Lasso(alpha=alpha, random_state=RANDOM_STATE, max_iter=3000)\n",
    "    \n",
    "    cv_scores = cross_val_score(model, X_train_split, y_train, cv=cv_strategy,\n",
    "                                scoring='neg_mean_squared_error', n_jobs=-1)\n",
    "    return np.sqrt(-cv_scores.mean())\n",
    "\n",
    "print(\"\\nOptimizing Lasso...\")\n",
    "study_lasso = optuna.create_study(direction='minimize', study_name='lasso_optimization')\n",
    "study_lasso.optimize(objective_lasso, n_trials=30, show_progress_bar=True)\n",
    "\n",
    "print(f\"Best Lasso RMSE: {study_lasso.best_value:.4f}\")\n",
    "best_lasso_params = study_lasso.best_params\n",
    "best_lasso = Lasso(**best_lasso_params, random_state=RANDOM_STATE, max_iter=3000)\n",
    "lasso_result = evaluate_model_cv(best_lasso, X_train_split, y_train, cv_strategy, \"Lasso_Optimized\")\n",
    "lasso_result['best_params'] = best_lasso_params\n",
    "\n",
    "print(f\"  Baseline RMSE (CV): {baseline_results['Lasso']['cv_rmse_mean']:.4f}\")\n",
    "print(f\"  Optimized RMSE (Optuna): {study_lasso.best_value:.4f}\")\n",
    "print(f\"  Optimized RMSE (CV eval): {lasso_result['cv_rmse_mean']:.4f}\")\n",
    "improvement = baseline_results['Lasso']['cv_rmse_mean'] - lasso_result['cv_rmse_mean']\n",
    "print(f\"  Improvement (baseline CV vs optimized CV): {improvement:.4f}\")"
   ]
  },
  {
   "cell_type": "markdown",
   "id": "a3685f84",
   "metadata": {},
   "source": [
    "Large performance gain after tuning. Lasso benefits considerably from optimization, reducing RMSE by over 0.20.\n",
    "\n",
    "### 3.3 ElasticNet Optimization\n",
    "Optimize ElasticNet with both regularization strength and L1/L2 ratio parameters."
   ]
  },
  {
   "cell_type": "code",
   "execution_count": 10,
   "id": "d470a43e",
   "metadata": {},
   "outputs": [
    {
     "name": "stderr",
     "output_type": "stream",
     "text": [
      "[I 2025-07-15 15:35:20,618] A new study created in memory with name: elasticnet_optimization\n"
     ]
    },
    {
     "name": "stdout",
     "output_type": "stream",
     "text": [
      "\n",
      "Optimizing ElasticNet...\n"
     ]
    },
    {
     "data": {
      "application/vnd.jupyter.widget-view+json": {
       "model_id": "5ac6cbd0cfc749adbc0f0dcaa916b007",
       "version_major": 2,
       "version_minor": 0
      },
      "text/plain": [
       "  0%|          | 0/30 [00:00<?, ?it/s]"
      ]
     },
     "metadata": {},
     "output_type": "display_data"
    },
    {
     "name": "stdout",
     "output_type": "stream",
     "text": [
      "[I 2025-07-15 15:35:20,776] Trial 0 finished with value: 0.16382359728303844 and parameters: {'alpha': 0.030320534242929267, 'l1_ratio': 0.6399974069355291}. Best is trial 0 with value: 0.16382359728303844.\n",
      "[I 2025-07-15 15:35:20,908] Trial 1 finished with value: 0.1816146663334864 and parameters: {'alpha': 0.055908366212521245, 'l1_ratio': 0.6607376201796784}. Best is trial 0 with value: 0.16382359728303844.\n",
      "[I 2025-07-15 15:35:21,053] Trial 2 finished with value: 0.1797300075757017 and parameters: {'alpha': 0.11958544496029479, 'l1_ratio': 0.271665290071691}. Best is trial 0 with value: 0.16382359728303844.\n",
      "[I 2025-07-15 15:35:21,240] Trial 3 finished with value: 0.1185459158898347 and parameters: {'alpha': 0.0011316205200236561, 'l1_ratio': 0.5934596814732499}. Best is trial 3 with value: 0.1185459158898347.\n",
      "[I 2025-07-15 15:35:21,384] Trial 4 finished with value: 0.1538774329124556 and parameters: {'alpha': 0.06126632562319973, 'l1_ratio': 0.2039837066362029}. Best is trial 3 with value: 0.1185459158898347.\n",
      "[I 2025-07-15 15:35:21,587] Trial 5 finished with value: 0.1198651204358802 and parameters: {'alpha': 0.001554378702316675, 'l1_ratio': 0.6585049867598016}. Best is trial 3 with value: 0.1185459158898347.\n",
      "[I 2025-07-15 15:35:21,731] Trial 6 finished with value: 0.12293197915618159 and parameters: {'alpha': 0.0033558995024279134, 'l1_ratio': 0.45768803461281904}. Best is trial 3 with value: 0.1185459158898347.\n",
      "[I 2025-07-15 15:35:21,946] Trial 7 finished with value: 0.11849436047360132 and parameters: {'alpha': 0.00036082112938849313, 'l1_ratio': 0.8218115580346769}. Best is trial 7 with value: 0.11849436047360132.\n",
      "[I 2025-07-15 15:35:22,075] Trial 8 finished with value: 0.2747043543666447 and parameters: {'alpha': 0.3588535299279312, 'l1_ratio': 0.5718033027465733}. Best is trial 7 with value: 0.11849436047360132.\n",
      "[I 2025-07-15 15:35:22,274] Trial 9 finished with value: 0.13453348304843654 and parameters: {'alpha': 0.004993997758991423, 'l1_ratio': 0.8251113462122326}. Best is trial 7 with value: 0.11849436047360132.\n",
      "[I 2025-07-15 15:35:22,457] Trial 10 finished with value: 0.11908611826300883 and parameters: {'alpha': 0.00026505623647797696, 'l1_ratio': 0.8842374142467087}. Best is trial 7 with value: 0.11849436047360132.\n",
      "[I 2025-07-15 15:35:22,869] Trial 11 finished with value: 0.12273666335707129 and parameters: {'alpha': 0.00012440476980592316, 'l1_ratio': 0.4156179812700338}. Best is trial 7 with value: 0.11849436047360132.\n",
      "[I 2025-07-15 15:35:23,060] Trial 12 finished with value: 0.1183536410581054 and parameters: {'alpha': 0.0008530831670210071, 'l1_ratio': 0.7652189353990458}. Best is trial 12 with value: 0.1183536410581054.\n",
      "[I 2025-07-15 15:35:23,299] Trial 13 finished with value: 0.11815690501583176 and parameters: {'alpha': 0.0004427279453343236, 'l1_ratio': 0.7788655975394934}. Best is trial 13 with value: 0.11815690501583176.\n",
      "[I 2025-07-15 15:35:23,501] Trial 14 finished with value: 0.11805489960271719 and parameters: {'alpha': 0.0007728285263697445, 'l1_ratio': 0.7547521861966666}. Best is trial 14 with value: 0.11805489960271719.\n",
      "[I 2025-07-15 15:35:23,636] Trial 15 finished with value: 0.14332423151158186 and parameters: {'alpha': 0.011533579564788241, 'l1_ratio': 0.7364513126392725}. Best is trial 14 with value: 0.11805489960271719.\n",
      "[I 2025-07-15 15:35:23,829] Trial 16 finished with value: 0.1207879000814674 and parameters: {'alpha': 0.00012716934001672127, 'l1_ratio': 0.8974919227458208}. Best is trial 14 with value: 0.11805489960271719.\n",
      "[I 2025-07-15 15:35:24,073] Trial 17 finished with value: 0.1198391871850819 and parameters: {'alpha': 0.0004381950172319787, 'l1_ratio': 0.33279546920286407}. Best is trial 14 with value: 0.11805489960271719.\n",
      "[I 2025-07-15 15:35:24,235] Trial 18 finished with value: 0.12162903349321633 and parameters: {'alpha': 0.0025454497440616287, 'l1_ratio': 0.5245816556096596}. Best is trial 14 with value: 0.11805489960271719.\n",
      "[I 2025-07-15 15:35:24,520] Trial 19 finished with value: 0.1407928133173508 and parameters: {'alpha': 0.009852828660461223, 'l1_ratio': 0.7368397259252867}. Best is trial 14 with value: 0.11805489960271719.\n",
      "[I 2025-07-15 15:35:24,945] Trial 20 finished with value: 0.11780735276807432 and parameters: {'alpha': 0.0006161984828235228, 'l1_ratio': 0.7899545328613731}. Best is trial 20 with value: 0.11780735276807432.\n",
      "[I 2025-07-15 15:35:25,158] Trial 21 finished with value: 0.11782522777052512 and parameters: {'alpha': 0.0006612171153241156, 'l1_ratio': 0.793893669877331}. Best is trial 20 with value: 0.11780735276807432.\n",
      "[I 2025-07-15 15:35:25,357] Trial 22 finished with value: 0.11809561832095658 and parameters: {'alpha': 0.000845466232486393, 'l1_ratio': 0.6898493680402571}. Best is trial 20 with value: 0.11780735276807432.\n",
      "[I 2025-07-15 15:35:25,570] Trial 23 finished with value: 0.13823887633275914 and parameters: {'alpha': 0.007228875847505354, 'l1_ratio': 0.8380537901111182}. Best is trial 20 with value: 0.11780735276807432.\n",
      "[I 2025-07-15 15:35:25,735] Trial 24 finished with value: 0.12259592820600752 and parameters: {'alpha': 0.0021217018628585157, 'l1_ratio': 0.7337494273188828}. Best is trial 20 with value: 0.11780735276807432.\n",
      "[I 2025-07-15 15:35:25,940] Trial 25 finished with value: 0.11974325589737894 and parameters: {'alpha': 0.00020216460488211167, 'l1_ratio': 0.8288757165329965}. Best is trial 20 with value: 0.11780735276807432.\n",
      "[I 2025-07-15 15:35:26,156] Trial 26 finished with value: 0.11831051199305134 and parameters: {'alpha': 0.0005594747184272255, 'l1_ratio': 0.5686408172825788}. Best is trial 20 with value: 0.11780735276807432.\n",
      "[I 2025-07-15 15:35:26,374] Trial 27 finished with value: 0.11961553449266099 and parameters: {'alpha': 0.0013825378450515026, 'l1_ratio': 0.7074315446974453}. Best is trial 20 with value: 0.11780735276807432.\n",
      "[I 2025-07-15 15:35:26,518] Trial 28 finished with value: 0.31869838649440696 and parameters: {'alpha': 0.9288905588512512, 'l1_ratio': 0.6126654440636896}. Best is trial 20 with value: 0.11780735276807432.\n",
      "[I 2025-07-15 15:35:26,712] Trial 29 finished with value: 0.15241010513196462 and parameters: {'alpha': 0.017037278464049094, 'l1_ratio': 0.793589269665507}. Best is trial 20 with value: 0.11780735276807432.\n",
      "Best ElasticNet RMSE: 0.1178\n",
      "Evaluating ElasticNet_Optimized...\n",
      "  RMSE: 0.1175 (+/- 0.0083)\n",
      "  Baseline RMSE (CV): 0.3174\n",
      "  Optimized RMSE (Optuna): 0.1178\n",
      "  Optimized RMSE (CV eval): 0.1175\n",
      "  Improvement (baseline CV vs optimized CV): 0.1999\n"
     ]
    }
   ],
   "source": [
    "def objective_elasticnet(trial):\n",
    "    \"\"\"Objective function for ElasticNet hyperparameter optimization\"\"\"\n",
    "    alpha = trial.suggest_float('alpha', 1e-4, 1.0, log=True)\n",
    "    l1_ratio = trial.suggest_float('l1_ratio', 0.1, 0.9)\n",
    "    model = ElasticNet(alpha=alpha, l1_ratio=l1_ratio, random_state=RANDOM_STATE, max_iter=3000)\n",
    "    \n",
    "    cv_scores = cross_val_score(model, X_train_split, y_train, cv=cv_strategy,\n",
    "                                scoring='neg_mean_squared_error', n_jobs=-1)\n",
    "    return np.sqrt(-cv_scores.mean())\n",
    "\n",
    "print(\"\\nOptimizing ElasticNet...\")\n",
    "study_elasticnet = optuna.create_study(direction='minimize', study_name='elasticnet_optimization')\n",
    "study_elasticnet.optimize(objective_elasticnet, n_trials=30, show_progress_bar=True)\n",
    "\n",
    "print(f\"Best ElasticNet RMSE: {study_elasticnet.best_value:.4f}\")\n",
    "best_elasticnet_params = study_elasticnet.best_params\n",
    "best_elasticnet = ElasticNet(**best_elasticnet_params, random_state=RANDOM_STATE, max_iter=3000)\n",
    "elasticnet_result = evaluate_model_cv(best_elasticnet, X_train_split, y_train, cv_strategy, \"ElasticNet_Optimized\")\n",
    "elasticnet_result['best_params'] = best_elasticnet_params\n",
    "\n",
    "print(f\"  Baseline RMSE (CV): {baseline_results['ElasticNet']['cv_rmse_mean']:.4f}\")\n",
    "print(f\"  Optimized RMSE (Optuna): {study_elasticnet.best_value:.4f}\")\n",
    "print(f\"  Optimized RMSE (CV eval): {elasticnet_result['cv_rmse_mean']:.4f}\")\n",
    "improvement = baseline_results['ElasticNet']['cv_rmse_mean'] - elasticnet_result['cv_rmse_mean']\n",
    "print(f\"  Improvement (baseline CV vs optimized CV): {improvement:.4f}\")"
   ]
  },
  {
   "cell_type": "markdown",
   "id": "35bbce8e",
   "metadata": {},
   "source": [
    "The RMSE improved from 0.3174 (baseline cross-validation) to 0.1175 (optimized model evaluated via cross-validation), indicating a performance gain of 0.1999. This suggests that the initial model benefited substantially from hyperparameter tuning.\n",
    "\n",
    "### 3.4 Random Forest Optimization\n",
    "Optimize Random Forest with tree-specific parameters and ensemble size tuning."
   ]
  },
  {
   "cell_type": "code",
   "execution_count": 11,
   "id": "0fe3e120",
   "metadata": {},
   "outputs": [
    {
     "name": "stderr",
     "output_type": "stream",
     "text": [
      "[I 2025-07-15 15:35:27,009] A new study created in memory with name: rf_optimization\n"
     ]
    },
    {
     "name": "stdout",
     "output_type": "stream",
     "text": [
      "\n",
      "Optimizing Random Forest...\n"
     ]
    },
    {
     "data": {
      "application/vnd.jupyter.widget-view+json": {
       "model_id": "2351d6da4ed3436f96aba162eeac0ce0",
       "version_major": 2,
       "version_minor": 0
      },
      "text/plain": [
       "  0%|          | 0/50 [00:00<?, ?it/s]"
      ]
     },
     "metadata": {},
     "output_type": "display_data"
    },
    {
     "name": "stdout",
     "output_type": "stream",
     "text": [
      "[I 2025-07-15 15:35:27,821] Trial 0 finished with value: 0.161980059612074 and parameters: {'n_estimators': 340, 'max_depth': 9, 'min_samples_split': 11, 'min_samples_leaf': 8, 'max_features': 'sqrt'}. Best is trial 0 with value: 0.161980059612074.\n",
      "[I 2025-07-15 15:35:28,405] Trial 1 finished with value: 0.17550496220685327 and parameters: {'n_estimators': 255, 'max_depth': 13, 'min_samples_split': 16, 'min_samples_leaf': 5, 'max_features': 'log2'}. Best is trial 0 with value: 0.161980059612074.\n",
      "[I 2025-07-15 15:35:30,466] Trial 2 finished with value: 0.14234170429875087 and parameters: {'n_estimators': 419, 'max_depth': 16, 'min_samples_split': 7, 'min_samples_leaf': 2, 'max_features': None}. Best is trial 2 with value: 0.14234170429875087.\n",
      "[I 2025-07-15 15:35:32,372] Trial 3 finished with value: 0.1468283217299734 and parameters: {'n_estimators': 412, 'max_depth': 17, 'min_samples_split': 13, 'min_samples_leaf': 5, 'max_features': None}. Best is trial 2 with value: 0.14234170429875087.\n",
      "[I 2025-07-15 15:35:32,694] Trial 4 finished with value: 0.15757551614088183 and parameters: {'n_estimators': 110, 'max_depth': 7, 'min_samples_split': 7, 'min_samples_leaf': 2, 'max_features': 'sqrt'}. Best is trial 2 with value: 0.14234170429875087.\n",
      "[I 2025-07-15 15:35:33,098] Trial 5 finished with value: 0.1866274579067256 and parameters: {'n_estimators': 146, 'max_depth': 13, 'min_samples_split': 12, 'min_samples_leaf': 9, 'max_features': 'log2'}. Best is trial 2 with value: 0.14234170429875087.\n",
      "[I 2025-07-15 15:35:35,140] Trial 6 finished with value: 0.14690300755223548 and parameters: {'n_estimators': 444, 'max_depth': 11, 'min_samples_split': 10, 'min_samples_leaf': 6, 'max_features': None}. Best is trial 2 with value: 0.14234170429875087.\n",
      "[I 2025-07-15 15:35:35,612] Trial 7 finished with value: 0.16379718101148175 and parameters: {'n_estimators': 168, 'max_depth': 18, 'min_samples_split': 7, 'min_samples_leaf': 9, 'max_features': 'sqrt'}. Best is trial 2 with value: 0.14234170429875087.\n",
      "[I 2025-07-15 15:35:36,476] Trial 8 finished with value: 0.15499556216278895 and parameters: {'n_estimators': 353, 'max_depth': 20, 'min_samples_split': 19, 'min_samples_leaf': 3, 'max_features': 'sqrt'}. Best is trial 2 with value: 0.14234170429875087.\n",
      "[I 2025-07-15 15:35:37,740] Trial 9 finished with value: 0.15823393466166405 and parameters: {'n_estimators': 459, 'max_depth': 18, 'min_samples_split': 19, 'min_samples_leaf': 5, 'max_features': 'sqrt'}. Best is trial 2 with value: 0.14234170429875087.\n",
      "[I 2025-07-15 15:35:39,439] Trial 10 finished with value: 0.1420351781728942 and parameters: {'n_estimators': 256, 'max_depth': 15, 'min_samples_split': 2, 'min_samples_leaf': 1, 'max_features': None}. Best is trial 10 with value: 0.1420351781728942.\n",
      "[I 2025-07-15 15:35:41,009] Trial 11 finished with value: 0.1418538130438185 and parameters: {'n_estimators': 239, 'max_depth': 16, 'min_samples_split': 2, 'min_samples_leaf': 1, 'max_features': None}. Best is trial 11 with value: 0.1418538130438185.\n",
      "[I 2025-07-15 15:35:42,968] Trial 12 finished with value: 0.14204373092866582 and parameters: {'n_estimators': 236, 'max_depth': 15, 'min_samples_split': 2, 'min_samples_leaf': 1, 'max_features': None}. Best is trial 11 with value: 0.1418538130438185.\n",
      "[I 2025-07-15 15:35:44,532] Trial 13 finished with value: 0.1418935885759404 and parameters: {'n_estimators': 236, 'max_depth': 14, 'min_samples_split': 2, 'min_samples_leaf': 1, 'max_features': None}. Best is trial 11 with value: 0.1418538130438185.\n",
      "[I 2025-07-15 15:35:45,592] Trial 14 finished with value: 0.14324904125587662 and parameters: {'n_estimators': 207, 'max_depth': 11, 'min_samples_split': 4, 'min_samples_leaf': 3, 'max_features': None}. Best is trial 11 with value: 0.1418538130438185.\n",
      "[I 2025-07-15 15:35:46,790] Trial 15 finished with value: 0.16024876332960397 and parameters: {'n_estimators': 296, 'max_depth': 5, 'min_samples_split': 5, 'min_samples_leaf': 3, 'max_features': None}. Best is trial 11 with value: 0.1418538130438185.\n",
      "[I 2025-07-15 15:35:47,330] Trial 16 finished with value: 0.1802836506263108 and parameters: {'n_estimators': 199, 'max_depth': 20, 'min_samples_split': 4, 'min_samples_leaf': 7, 'max_features': 'log2'}. Best is trial 11 with value: 0.1418538130438185.\n",
      "[I 2025-07-15 15:35:49,025] Trial 17 finished with value: 0.1433091602203606 and parameters: {'n_estimators': 311, 'max_depth': 14, 'min_samples_split': 9, 'min_samples_leaf': 1, 'max_features': None}. Best is trial 11 with value: 0.1418538130438185.\n",
      "[I 2025-07-15 15:35:51,148] Trial 18 finished with value: 0.14430611415698935 and parameters: {'n_estimators': 374, 'max_depth': 11, 'min_samples_split': 2, 'min_samples_leaf': 4, 'max_features': None}. Best is trial 11 with value: 0.1418538130438185.\n",
      "[I 2025-07-15 15:35:52,462] Trial 19 finished with value: 0.14619756542415374 and parameters: {'n_estimators': 286, 'max_depth': 9, 'min_samples_split': 14, 'min_samples_leaf': 2, 'max_features': None}. Best is trial 11 with value: 0.1418538130438185.\n",
      "[I 2025-07-15 15:35:52,962] Trial 20 finished with value: 0.16874242567398312 and parameters: {'n_estimators': 202, 'max_depth': 17, 'min_samples_split': 5, 'min_samples_leaf': 4, 'max_features': 'log2'}. Best is trial 11 with value: 0.1418538130438185.\n",
      "[I 2025-07-15 15:35:54,854] Trial 21 finished with value: 0.14199719956800494 and parameters: {'n_estimators': 250, 'max_depth': 15, 'min_samples_split': 2, 'min_samples_leaf': 1, 'max_features': None}. Best is trial 11 with value: 0.1418538130438185.\n",
      "[I 2025-07-15 15:35:56,269] Trial 22 finished with value: 0.14194053041343133 and parameters: {'n_estimators': 235, 'max_depth': 15, 'min_samples_split': 4, 'min_samples_leaf': 1, 'max_features': None}. Best is trial 11 with value: 0.1418538130438185.\n",
      "[I 2025-07-15 15:35:57,403] Trial 23 finished with value: 0.1418465371250042 and parameters: {'n_estimators': 160, 'max_depth': 12, 'min_samples_split': 4, 'min_samples_leaf': 2, 'max_features': None}. Best is trial 23 with value: 0.1418465371250042.\n",
      "[I 2025-07-15 15:35:58,157] Trial 24 finished with value: 0.14233908959739566 and parameters: {'n_estimators': 135, 'max_depth': 12, 'min_samples_split': 6, 'min_samples_leaf': 2, 'max_features': None}. Best is trial 23 with value: 0.1418465371250042.\n",
      "[I 2025-07-15 15:35:59,023] Trial 25 finished with value: 0.14516749928170472 and parameters: {'n_estimators': 172, 'max_depth': 9, 'min_samples_split': 9, 'min_samples_leaf': 3, 'max_features': None}. Best is trial 23 with value: 0.1418465371250042.\n",
      "[I 2025-07-15 15:35:59,646] Trial 26 finished with value: 0.141653678618143 and parameters: {'n_estimators': 109, 'max_depth': 13, 'min_samples_split': 3, 'min_samples_leaf': 2, 'max_features': None}. Best is trial 26 with value: 0.141653678618143.\n",
      "[I 2025-07-15 15:36:00,290] Trial 27 finished with value: 0.14483359433436438 and parameters: {'n_estimators': 101, 'max_depth': 12, 'min_samples_split': 4, 'min_samples_leaf': 4, 'max_features': None}. Best is trial 26 with value: 0.141653678618143.\n",
      "[I 2025-07-15 15:36:00,662] Trial 28 finished with value: 0.1606396267177536 and parameters: {'n_estimators': 127, 'max_depth': 13, 'min_samples_split': 8, 'min_samples_leaf': 2, 'max_features': 'log2'}. Best is trial 26 with value: 0.141653678618143.\n",
      "[I 2025-07-15 15:36:01,540] Trial 29 finished with value: 0.15324247388692788 and parameters: {'n_estimators': 161, 'max_depth': 10, 'min_samples_split': 3, 'min_samples_leaf': 10, 'max_features': None}. Best is trial 26 with value: 0.141653678618143.\n",
      "[I 2025-07-15 15:36:02,612] Trial 30 finished with value: 0.15922019642097693 and parameters: {'n_estimators': 495, 'max_depth': 17, 'min_samples_split': 6, 'min_samples_leaf': 7, 'max_features': 'sqrt'}. Best is trial 26 with value: 0.141653678618143.\n",
      "[I 2025-07-15 15:36:03,656] Trial 31 finished with value: 0.14174488806018684 and parameters: {'n_estimators': 182, 'max_depth': 13, 'min_samples_split': 3, 'min_samples_leaf': 2, 'max_features': None}. Best is trial 26 with value: 0.141653678618143.\n",
      "[I 2025-07-15 15:36:04,869] Trial 32 finished with value: 0.14178909715418586 and parameters: {'n_estimators': 191, 'max_depth': 14, 'min_samples_split': 3, 'min_samples_leaf': 2, 'max_features': None}. Best is trial 26 with value: 0.141653678618143.\n",
      "[I 2025-07-15 15:36:05,816] Trial 33 finished with value: 0.14282670890667196 and parameters: {'n_estimators': 179, 'max_depth': 14, 'min_samples_split': 5, 'min_samples_leaf': 3, 'max_features': None}. Best is trial 26 with value: 0.141653678618143.\n",
      "[I 2025-07-15 15:36:06,390] Trial 34 finished with value: 0.1467995855304681 and parameters: {'n_estimators': 124, 'max_depth': 12, 'min_samples_split': 17, 'min_samples_leaf': 2, 'max_features': None}. Best is trial 26 with value: 0.141653678618143.\n",
      "[I 2025-07-15 15:36:07,207] Trial 35 finished with value: 0.14511048339525937 and parameters: {'n_estimators': 146, 'max_depth': 10, 'min_samples_split': 3, 'min_samples_leaf': 4, 'max_features': None}. Best is trial 26 with value: 0.141653678618143.\n",
      "[I 2025-07-15 15:36:07,690] Trial 36 finished with value: 0.16002384426440255 and parameters: {'n_estimators': 192, 'max_depth': 13, 'min_samples_split': 6, 'min_samples_leaf': 2, 'max_features': 'log2'}. Best is trial 26 with value: 0.141653678618143.\n",
      "[I 2025-07-15 15:36:08,282] Trial 37 finished with value: 0.1431015235086996 and parameters: {'n_estimators': 101, 'max_depth': 14, 'min_samples_split': 3, 'min_samples_leaf': 3, 'max_features': None}. Best is trial 26 with value: 0.141653678618143.\n",
      "[I 2025-07-15 15:36:08,968] Trial 38 finished with value: 0.1487497218007032 and parameters: {'n_estimators': 151, 'max_depth': 7, 'min_samples_split': 11, 'min_samples_leaf': 2, 'max_features': None}. Best is trial 26 with value: 0.141653678618143.\n",
      "[I 2025-07-15 15:36:09,839] Trial 39 finished with value: 0.15474255617775579 and parameters: {'n_estimators': 213, 'max_depth': 10, 'min_samples_split': 8, 'min_samples_leaf': 5, 'max_features': 'sqrt'}. Best is trial 26 with value: 0.141653678618143.\n",
      "[I 2025-07-15 15:36:11,240] Trial 40 finished with value: 0.14669260747631463 and parameters: {'n_estimators': 272, 'max_depth': 12, 'min_samples_split': 14, 'min_samples_leaf': 4, 'max_features': None}. Best is trial 26 with value: 0.141653678618143.\n",
      "[I 2025-07-15 15:36:12,360] Trial 41 finished with value: 0.1418652839776044 and parameters: {'n_estimators': 174, 'max_depth': 16, 'min_samples_split': 3, 'min_samples_leaf': 2, 'max_features': None}. Best is trial 26 with value: 0.141653678618143.\n",
      "[I 2025-07-15 15:36:13,884] Trial 42 finished with value: 0.1422960448520752 and parameters: {'n_estimators': 220, 'max_depth': 13, 'min_samples_split': 5, 'min_samples_leaf': 1, 'max_features': None}. Best is trial 26 with value: 0.141653678618143.\n",
      "[I 2025-07-15 15:36:14,888] Trial 43 finished with value: 0.14169698665296415 and parameters: {'n_estimators': 182, 'max_depth': 16, 'min_samples_split': 3, 'min_samples_leaf': 2, 'max_features': None}. Best is trial 26 with value: 0.141653678618143.\n",
      "[I 2025-07-15 15:36:15,595] Trial 44 finished with value: 0.14310857394065363 and parameters: {'n_estimators': 124, 'max_depth': 14, 'min_samples_split': 4, 'min_samples_leaf': 3, 'max_features': None}. Best is trial 26 with value: 0.141653678618143.\n",
      "[I 2025-07-15 15:36:16,048] Trial 45 finished with value: 0.14423321321599375 and parameters: {'n_estimators': 149, 'max_depth': 16, 'min_samples_split': 3, 'min_samples_leaf': 2, 'max_features': 'sqrt'}. Best is trial 26 with value: 0.141653678618143.\n",
      "[I 2025-07-15 15:36:17,078] Trial 46 finished with value: 0.14331557050617943 and parameters: {'n_estimators': 187, 'max_depth': 18, 'min_samples_split': 7, 'min_samples_leaf': 3, 'max_features': None}. Best is trial 26 with value: 0.141653678618143.\n",
      "[I 2025-07-15 15:36:17,869] Trial 47 finished with value: 0.14165406492413796 and parameters: {'n_estimators': 116, 'max_depth': 13, 'min_samples_split': 3, 'min_samples_leaf': 2, 'max_features': None}. Best is trial 26 with value: 0.141653678618143.\n",
      "[I 2025-07-15 15:36:18,219] Trial 48 finished with value: 0.17765462494923714 and parameters: {'n_estimators': 123, 'max_depth': 19, 'min_samples_split': 6, 'min_samples_leaf': 6, 'max_features': 'log2'}. Best is trial 26 with value: 0.141653678618143.\n",
      "[I 2025-07-15 15:36:19,030] Trial 49 finished with value: 0.14157368084085967 and parameters: {'n_estimators': 111, 'max_depth': 16, 'min_samples_split': 3, 'min_samples_leaf': 1, 'max_features': None}. Best is trial 49 with value: 0.14157368084085967.\n",
      "Best Random Forest RMSE: 0.1416\n",
      "Evaluating RandomForest_Optimized...\n",
      "  RMSE: 0.1412 (+/- 0.0096)\n",
      "  Baseline RMSE (CV): 0.1418\n",
      "  Optimized RMSE (Optuna): 0.1416\n",
      "  Optimized RMSE (CV eval): 0.1412\n",
      "  Improvement (baseline CV vs optimized CV): 0.0005\n"
     ]
    }
   ],
   "source": [
    "def objective_randomforest(trial):\n",
    "    \"\"\"Objective function for Random Forest hyperparameter optimization\"\"\"\n",
    "    params = {\n",
    "        'n_estimators': trial.suggest_int('n_estimators', 100, 500),\n",
    "        'max_depth': trial.suggest_int('max_depth', 5, 20),\n",
    "        'min_samples_split': trial.suggest_int('min_samples_split', 2, 20),\n",
    "        'min_samples_leaf': trial.suggest_int('min_samples_leaf', 1, 10),\n",
    "        'max_features': trial.suggest_categorical('max_features', ['sqrt', 'log2', None]),\n",
    "        'random_state': RANDOM_STATE,\n",
    "        'n_jobs': -1\n",
    "    }\n",
    "    \n",
    "    model = RandomForestRegressor(**params)\n",
    "    cv_scores = cross_val_score(model, X_train_split, y_train, cv=cv_strategy,\n",
    "                                scoring='neg_mean_squared_error', n_jobs=1)  # Single job to avoid conflicts\n",
    "    return np.sqrt(-cv_scores.mean())\n",
    "\n",
    "print(\"\\nOptimizing Random Forest...\")\n",
    "study_rf = optuna.create_study(direction='minimize', study_name='rf_optimization')\n",
    "study_rf.optimize(objective_randomforest, n_trials=50, show_progress_bar=True)\n",
    "\n",
    "print(f\"Best Random Forest RMSE: {study_rf.best_value:.4f}\")\n",
    "best_rf_params = study_rf.best_params\n",
    "best_rf = RandomForestRegressor(**best_rf_params, random_state=RANDOM_STATE, n_jobs=-1)\n",
    "rf_result = evaluate_model_cv(best_rf, X_train_split, y_train, cv_strategy, \"RandomForest_Optimized\")\n",
    "rf_result['best_params'] = best_rf_params\n",
    "\n",
    "print(f\"  Baseline RMSE (CV): {baseline_results['RandomForest']['cv_rmse_mean']:.4f}\")\n",
    "print(f\"  Optimized RMSE (Optuna): {study_rf.best_value:.4f}\")\n",
    "print(f\"  Optimized RMSE (CV eval): {rf_result['cv_rmse_mean']:.4f}\")\n",
    "improvement = baseline_results['RandomForest']['cv_rmse_mean'] - rf_result['cv_rmse_mean']\n",
    "print(f\"  Improvement (baseline CV vs optimized CV): {improvement:.4f}\")"
   ]
  },
  {
   "cell_type": "markdown",
   "id": "a068ede0",
   "metadata": {},
   "source": [
    "A very slight improvement was observed after hyperparameter tuning: RMSE decreased from 0.1418 (baseline CV) to 0.1412 (optimized CV evaluation). Although the difference is small (0.0005), it indicates a modest gain in predictive accuracy through tuning.\n",
    "\n",
    "### 3.5 Gradient Boosting Optimization\n",
    "Optimize Gradient Boosting with learning rate, tree depth, and ensemble parameters."
   ]
  },
  {
   "cell_type": "code",
   "execution_count": 12,
   "id": "adc75898",
   "metadata": {},
   "outputs": [
    {
     "name": "stderr",
     "output_type": "stream",
     "text": [
      "[I 2025-07-15 15:36:19,786] A new study created in memory with name: gradientboosting_optimization\n"
     ]
    },
    {
     "name": "stdout",
     "output_type": "stream",
     "text": [
      "\n",
      "Optimizing Gradient Boosting...\n"
     ]
    },
    {
     "data": {
      "application/vnd.jupyter.widget-view+json": {
       "model_id": "fa9753fdaf4e483b939e2f9c07fa2fb4",
       "version_major": 2,
       "version_minor": 0
      },
      "text/plain": [
       "  0%|          | 0/60 [00:00<?, ?it/s]"
      ]
     },
     "metadata": {},
     "output_type": "display_data"
    },
    {
     "name": "stdout",
     "output_type": "stream",
     "text": [
      "[I 2025-07-15 15:36:20,389] Trial 0 finished with value: 0.145380816091639 and parameters: {'n_estimators': 52, 'learning_rate': 0.13819871581319598, 'max_depth': 8, 'subsample': 0.9253970048327695}. Best is trial 0 with value: 0.145380816091639.\n",
      "[I 2025-07-15 15:36:21,570] Trial 1 finished with value: 0.14931585156944183 and parameters: {'n_estimators': 102, 'learning_rate': 0.2988646562044713, 'max_depth': 8, 'subsample': 0.854819651832775}. Best is trial 0 with value: 0.145380816091639.\n",
      "[I 2025-07-15 15:36:22,896] Trial 2 finished with value: 0.14111845594464184 and parameters: {'n_estimators': 133, 'learning_rate': 0.04484878251994911, 'max_depth': 7, 'subsample': 0.9715708677935734}. Best is trial 2 with value: 0.14111845594464184.\n",
      "[I 2025-07-15 15:36:23,346] Trial 3 finished with value: 0.12917577345035194 and parameters: {'n_estimators': 54, 'learning_rate': 0.23173238215869657, 'max_depth': 3, 'subsample': 0.8173520035000198}. Best is trial 3 with value: 0.12917577345035194.\n",
      "[I 2025-07-15 15:36:24,083] Trial 4 finished with value: 0.12580305619802273 and parameters: {'n_estimators': 199, 'learning_rate': 0.03987716991733081, 'max_depth': 3, 'subsample': 0.9068116428572836}. Best is trial 4 with value: 0.12580305619802273.\n",
      "[I 2025-07-15 15:36:24,724] Trial 5 finished with value: 0.13646637499870748 and parameters: {'n_estimators': 95, 'learning_rate': 0.16158458464226594, 'max_depth': 6, 'subsample': 0.8123380041067333}. Best is trial 4 with value: 0.12580305619802273.\n",
      "[I 2025-07-15 15:36:26,029] Trial 6 finished with value: 0.1348713258510516 and parameters: {'n_estimators': 199, 'learning_rate': 0.1941188039048215, 'max_depth': 6, 'subsample': 0.8407403608100263}. Best is trial 4 with value: 0.12580305619802273.\n",
      "[I 2025-07-15 15:36:26,876] Trial 7 finished with value: 0.1449989076204734 and parameters: {'n_estimators': 99, 'learning_rate': 0.23078065796251462, 'max_depth': 7, 'subsample': 0.9707724480627096}. Best is trial 4 with value: 0.12580305619802273.\n",
      "[I 2025-07-15 15:36:28,001] Trial 8 finished with value: 0.1360157097661224 and parameters: {'n_estimators': 148, 'learning_rate': 0.037213847983510934, 'max_depth': 6, 'subsample': 0.9652719491063074}. Best is trial 4 with value: 0.12580305619802273.\n",
      "[I 2025-07-15 15:36:28,647] Trial 9 finished with value: 0.1289902190572642 and parameters: {'n_estimators': 166, 'learning_rate': 0.13528160473969267, 'max_depth': 3, 'subsample': 0.9902327135308832}. Best is trial 4 with value: 0.12580305619802273.\n",
      "[I 2025-07-15 15:36:29,766] Trial 10 finished with value: 0.12655508524417775 and parameters: {'n_estimators': 199, 'learning_rate': 0.09034516260233569, 'max_depth': 4, 'subsample': 0.8909003584438948}. Best is trial 4 with value: 0.12580305619802273.\n",
      "[I 2025-07-15 15:36:30,828] Trial 11 finished with value: 0.1263665135079073 and parameters: {'n_estimators': 199, 'learning_rate': 0.08207481556690989, 'max_depth': 4, 'subsample': 0.8951559390899577}. Best is trial 4 with value: 0.12580305619802273.\n",
      "[I 2025-07-15 15:36:31,700] Trial 12 finished with value: 0.15220291779165232 and parameters: {'n_estimators': 173, 'learning_rate': 0.013302205833098265, 'max_depth': 4, 'subsample': 0.9058487501396306}. Best is trial 4 with value: 0.12580305619802273.\n",
      "[I 2025-07-15 15:36:32,537] Trial 13 finished with value: 0.12528186806213298 and parameters: {'n_estimators': 176, 'learning_rate': 0.08364529761194098, 'max_depth': 4, 'subsample': 0.8786832525477163}. Best is trial 13 with value: 0.12528186806213298.\n",
      "[I 2025-07-15 15:36:33,632] Trial 14 finished with value: 0.12710950185681988 and parameters: {'n_estimators': 172, 'learning_rate': 0.08227537059101772, 'max_depth': 5, 'subsample': 0.8651464975324653}. Best is trial 13 with value: 0.12528186806213298.\n",
      "[I 2025-07-15 15:36:34,329] Trial 15 finished with value: 0.12421480398292324 and parameters: {'n_estimators': 152, 'learning_rate': 0.10527875850100003, 'max_depth': 3, 'subsample': 0.9264494934204478}. Best is trial 15 with value: 0.12421480398292324.\n",
      "[I 2025-07-15 15:36:35,268] Trial 16 finished with value: 0.12944705455496439 and parameters: {'n_estimators': 152, 'learning_rate': 0.10783646708878591, 'max_depth': 5, 'subsample': 0.9418390318813915}. Best is trial 15 with value: 0.12421480398292324.\n",
      "[I 2025-07-15 15:36:35,917] Trial 17 finished with value: 0.12796890363506985 and parameters: {'n_estimators': 123, 'learning_rate': 0.10919857194633711, 'max_depth': 4, 'subsample': 0.8777632847356269}. Best is trial 15 with value: 0.12421480398292324.\n",
      "[I 2025-07-15 15:36:36,626] Trial 18 finished with value: 0.12738167212029353 and parameters: {'n_estimators': 179, 'learning_rate': 0.15921987524714537, 'max_depth': 3, 'subsample': 0.933925133304651}. Best is trial 15 with value: 0.12421480398292324.\n",
      "[I 2025-07-15 15:36:37,572] Trial 19 finished with value: 0.12730181939628687 and parameters: {'n_estimators': 150, 'learning_rate': 0.06354888005509954, 'max_depth': 5, 'subsample': 0.8422714847183841}. Best is trial 15 with value: 0.12421480398292324.\n",
      "[I 2025-07-15 15:36:38,272] Trial 20 finished with value: 0.12995048841348783 and parameters: {'n_estimators': 134, 'learning_rate': 0.18670648649003307, 'max_depth': 4, 'subsample': 0.9185173850933285}. Best is trial 15 with value: 0.12421480398292324.\n",
      "[I 2025-07-15 15:36:39,039] Trial 21 finished with value: 0.16832187483216784 and parameters: {'n_estimators': 183, 'learning_rate': 0.01104199512612937, 'max_depth': 3, 'subsample': 0.8763403623773443}. Best is trial 15 with value: 0.12421480398292324.\n",
      "[I 2025-07-15 15:36:39,881] Trial 22 finished with value: 0.12564882976592054 and parameters: {'n_estimators': 186, 'learning_rate': 0.05491147183160491, 'max_depth': 3, 'subsample': 0.9490254197418514}. Best is trial 15 with value: 0.12421480398292324.\n",
      "[I 2025-07-15 15:36:40,611] Trial 23 finished with value: 0.12559315559905113 and parameters: {'n_estimators': 162, 'learning_rate': 0.11845158387871804, 'max_depth': 3, 'subsample': 0.9546315382866273}. Best is trial 15 with value: 0.12421480398292324.\n",
      "[I 2025-07-15 15:36:41,491] Trial 24 finished with value: 0.12932867544939108 and parameters: {'n_estimators': 159, 'learning_rate': 0.12279511117346373, 'max_depth': 4, 'subsample': 0.9949820868798411}. Best is trial 15 with value: 0.12421480398292324.\n",
      "[I 2025-07-15 15:36:42,069] Trial 25 finished with value: 0.12341158409170477 and parameters: {'n_estimators': 118, 'learning_rate': 0.10333700905405914, 'max_depth': 3, 'subsample': 0.9501583036970154}. Best is trial 25 with value: 0.12341158409170477.\n",
      "[I 2025-07-15 15:36:42,631] Trial 26 finished with value: 0.12784879231964574 and parameters: {'n_estimators': 114, 'learning_rate': 0.08993475685287865, 'max_depth': 4, 'subsample': 0.9193647057682414}. Best is trial 25 with value: 0.12341158409170477.\n",
      "[I 2025-07-15 15:36:43,202] Trial 27 finished with value: 0.13071407327015727 and parameters: {'n_estimators': 74, 'learning_rate': 0.07075221260539649, 'max_depth': 5, 'subsample': 0.9340204949185621}. Best is trial 25 with value: 0.12341158409170477.\n",
      "[I 2025-07-15 15:36:43,926] Trial 28 finished with value: 0.12648607124067993 and parameters: {'n_estimators': 141, 'learning_rate': 0.14158748058028184, 'max_depth': 3, 'subsample': 0.8877416739554934}. Best is trial 25 with value: 0.12341158409170477.\n",
      "[I 2025-07-15 15:36:44,512] Trial 29 finished with value: 0.12989667242817407 and parameters: {'n_estimators': 113, 'learning_rate': 0.1821870817165075, 'max_depth': 4, 'subsample': 0.9184629985788618}. Best is trial 25 with value: 0.12341158409170477.\n",
      "[I 2025-07-15 15:36:45,108] Trial 30 finished with value: 0.12589663182318958 and parameters: {'n_estimators': 124, 'learning_rate': 0.10181583407398426, 'max_depth': 3, 'subsample': 0.9818250702915057}. Best is trial 25 with value: 0.12341158409170477.\n",
      "[I 2025-07-15 15:36:45,862] Trial 31 finished with value: 0.1259160495052568 and parameters: {'n_estimators': 161, 'learning_rate': 0.12419702270283366, 'max_depth': 3, 'subsample': 0.9481600693764505}. Best is trial 25 with value: 0.12341158409170477.\n",
      "[I 2025-07-15 15:36:46,563] Trial 32 finished with value: 0.12469140185510934 and parameters: {'n_estimators': 140, 'learning_rate': 0.11833218501598138, 'max_depth': 3, 'subsample': 0.9557123658561237}. Best is trial 25 with value: 0.12341158409170477.\n",
      "[I 2025-07-15 15:36:47,200] Trial 33 finished with value: 0.12804068725992596 and parameters: {'n_estimators': 135, 'learning_rate': 0.15156653242127432, 'max_depth': 3, 'subsample': 0.962232892290679}. Best is trial 25 with value: 0.12341158409170477.\n",
      "[I 2025-07-15 15:36:47,814] Trial 34 finished with value: 0.12861431101963605 and parameters: {'n_estimators': 111, 'learning_rate': 0.06914360923963014, 'max_depth': 4, 'subsample': 0.9369369230230651}. Best is trial 25 with value: 0.12341158409170477.\n",
      "[I 2025-07-15 15:36:48,680] Trial 35 finished with value: 0.14337139828916268 and parameters: {'n_estimators': 82, 'learning_rate': 0.09853659164390571, 'max_depth': 8, 'subsample': 0.9270248913136435}. Best is trial 25 with value: 0.12341158409170477.\n",
      "[I 2025-07-15 15:36:49,288] Trial 36 finished with value: 0.13197366588533088 and parameters: {'n_estimators': 145, 'learning_rate': 0.2820069961395568, 'max_depth': 3, 'subsample': 0.9081163437783923}. Best is trial 25 with value: 0.12341158409170477.\n",
      "[I 2025-07-15 15:36:49,869] Trial 37 finished with value: 0.1263384769117691 and parameters: {'n_estimators': 128, 'learning_rate': 0.1366949824473, 'max_depth': 3, 'subsample': 0.975268785445809}. Best is trial 25 with value: 0.12341158409170477.\n",
      "[I 2025-07-15 15:36:50,587] Trial 38 finished with value: 0.1345211015789904 and parameters: {'n_estimators': 88, 'learning_rate': 0.04530223472741554, 'max_depth': 4, 'subsample': 0.9591068465943551}. Best is trial 25 with value: 0.12341158409170477.\n",
      "[I 2025-07-15 15:36:51,190] Trial 39 finished with value: 0.12377095491188878 and parameters: {'n_estimators': 156, 'learning_rate': 0.17006437661180532, 'max_depth': 3, 'subsample': 0.858078331032728}. Best is trial 25 with value: 0.12341158409170477.\n",
      "[I 2025-07-15 15:36:51,621] Trial 40 finished with value: 0.1273585557282009 and parameters: {'n_estimators': 106, 'learning_rate': 0.21562373953203515, 'max_depth': 3, 'subsample': 0.8275900362954051}. Best is trial 25 with value: 0.12341158409170477.\n",
      "[I 2025-07-15 15:36:52,321] Trial 41 finished with value: 0.1263686350495582 and parameters: {'n_estimators': 155, 'learning_rate': 0.16493019971738426, 'max_depth': 3, 'subsample': 0.8553499892675875}. Best is trial 25 with value: 0.12341158409170477.\n",
      "[I 2025-07-15 15:36:53,013] Trial 42 finished with value: 0.12574010114467127 and parameters: {'n_estimators': 139, 'learning_rate': 0.17548656583199793, 'max_depth': 3, 'subsample': 0.8653638525543287}. Best is trial 25 with value: 0.12341158409170477.\n",
      "[I 2025-07-15 15:36:53,890] Trial 43 finished with value: 0.12853545478730813 and parameters: {'n_estimators': 167, 'learning_rate': 0.14186681792867956, 'max_depth': 4, 'subsample': 0.8798325277135968}. Best is trial 25 with value: 0.12341158409170477.\n",
      "[I 2025-07-15 15:36:55,295] Trial 44 finished with value: 0.13969642813874303 and parameters: {'n_estimators': 189, 'learning_rate': 0.20578759848886702, 'max_depth': 7, 'subsample': 0.8485814076914675}. Best is trial 25 with value: 0.12341158409170477.\n",
      "[I 2025-07-15 15:36:55,810] Trial 45 finished with value: 0.12404100124861589 and parameters: {'n_estimators': 144, 'learning_rate': 0.1273676395058931, 'max_depth': 3, 'subsample': 0.8321742214190242}. Best is trial 25 with value: 0.12341158409170477.\n",
      "[I 2025-07-15 15:36:56,262] Trial 46 finished with value: 0.12482931256440377 and parameters: {'n_estimators': 119, 'learning_rate': 0.12459575738456481, 'max_depth': 3, 'subsample': 0.8001134951699311}. Best is trial 25 with value: 0.12341158409170477.\n",
      "[I 2025-07-15 15:36:57,517] Trial 47 finished with value: 0.14007383926896444 and parameters: {'n_estimators': 130, 'learning_rate': 0.2528598320672904, 'max_depth': 7, 'subsample': 0.8278442260795462}. Best is trial 25 with value: 0.12341158409170477.\n",
      "[I 2025-07-15 15:36:58,111] Trial 48 finished with value: 0.12443238114132346 and parameters: {'n_estimators': 146, 'learning_rate': 0.15040940750959775, 'max_depth': 3, 'subsample': 0.827862183032354}. Best is trial 25 with value: 0.12341158409170477.\n",
      "[I 2025-07-15 15:36:58,842] Trial 49 finished with value: 0.12321094107570073 and parameters: {'n_estimators': 145, 'learning_rate': 0.14932721829839746, 'max_depth': 3, 'subsample': 0.8292219082426387}. Best is trial 49 with value: 0.12321094107570073.\n",
      "[I 2025-07-15 15:36:59,619] Trial 50 finished with value: 0.12968292077502228 and parameters: {'n_estimators': 155, 'learning_rate': 0.17058487718281323, 'max_depth': 4, 'subsample': 0.8123492787945646}. Best is trial 49 with value: 0.12321094107570073.\n",
      "[I 2025-07-15 15:37:00,191] Trial 51 finished with value: 0.12355274699897646 and parameters: {'n_estimators': 143, 'learning_rate': 0.1542141312274494, 'max_depth': 3, 'subsample': 0.8231589914768839}. Best is trial 49 with value: 0.12321094107570073.\n",
      "[I 2025-07-15 15:37:00,792] Trial 52 finished with value: 0.12444546762178328 and parameters: {'n_estimators': 167, 'learning_rate': 0.19394217691749743, 'max_depth': 3, 'subsample': 0.834901709606307}. Best is trial 49 with value: 0.12321094107570073.\n",
      "[I 2025-07-15 15:37:01,382] Trial 53 finished with value: 0.12385350030931316 and parameters: {'n_estimators': 144, 'learning_rate': 0.1552082210599774, 'max_depth': 3, 'subsample': 0.8184725869765385}. Best is trial 49 with value: 0.12321094107570073.\n",
      "[I 2025-07-15 15:37:02,456] Trial 54 finished with value: 0.13405820218669992 and parameters: {'n_estimators': 145, 'learning_rate': 0.1507820377357766, 'max_depth': 6, 'subsample': 0.8003088770400618}. Best is trial 49 with value: 0.12321094107570073.\n",
      "[I 2025-07-15 15:37:02,948] Trial 55 finished with value: 0.12675955101512942 and parameters: {'n_estimators': 135, 'learning_rate': 0.1632845035330968, 'max_depth': 3, 'subsample': 0.8196356874964946}. Best is trial 49 with value: 0.12321094107570073.\n",
      "[I 2025-07-15 15:37:03,412] Trial 56 finished with value: 0.1246368135581037 and parameters: {'n_estimators': 128, 'learning_rate': 0.17773796015974036, 'max_depth': 3, 'subsample': 0.8181857722212714}. Best is trial 49 with value: 0.12321094107570073.\n",
      "[I 2025-07-15 15:37:04,006] Trial 57 finished with value: 0.12743575785034497 and parameters: {'n_estimators': 122, 'learning_rate': 0.13176309634373212, 'max_depth': 4, 'subsample': 0.8386239347084132}. Best is trial 49 with value: 0.12321094107570073.\n",
      "[I 2025-07-15 15:37:04,334] Trial 58 finished with value: 0.12945954724089836 and parameters: {'n_estimators': 59, 'learning_rate': 0.21098679879880872, 'max_depth': 3, 'subsample': 0.8554843991329977}. Best is trial 49 with value: 0.12321094107570073.\n",
      "[I 2025-07-15 15:37:04,987] Trial 59 finished with value: 0.1310926909758337 and parameters: {'n_estimators': 139, 'learning_rate': 0.19241742569618756, 'max_depth': 4, 'subsample': 0.8113770447620339}. Best is trial 49 with value: 0.12321094107570073.\n",
      "Best Gradient Boosting RMSE: 0.1232\n",
      "Evaluating GradientBoosting_Optimized...\n",
      "  RMSE: 0.1227 (+/- 0.0111)\n",
      "  Baseline RMSE (CV): 0.1281\n",
      "  Optimized RMSE (Optuna): 0.1232\n",
      "  Optimized RMSE (CV eval): 0.1227\n",
      "  Improvement (baseline CV vs optimized CV): 0.0054\n"
     ]
    }
   ],
   "source": [
    "def objective_gradientboosting(trial):\n",
    "    \"\"\"Objective function for Gradient Boosting hyperparameter optimization\"\"\"\n",
    "    params = {\n",
    "        'n_estimators': trial.suggest_int('n_estimators', 50, 200),\n",
    "        'learning_rate': trial.suggest_float('learning_rate', 0.01, 0.3),\n",
    "        'max_depth': trial.suggest_int('max_depth', 3, 8),\n",
    "        'subsample': trial.suggest_float('subsample', 0.8, 1.0),\n",
    "        'random_state': RANDOM_STATE\n",
    "    }\n",
    "    \n",
    "    model = GradientBoostingRegressor(**params)\n",
    "    cv_scores = cross_val_score(model, X_train_split, y_train, cv=cv_strategy,\n",
    "                                scoring='neg_mean_squared_error', n_jobs=-1)\n",
    "    return np.sqrt(-cv_scores.mean())\n",
    "\n",
    "print(\"\\nOptimizing Gradient Boosting...\")\n",
    "study_gb = optuna.create_study(direction='minimize', study_name='gradientboosting_optimization')\n",
    "study_gb.optimize(objective_gradientboosting, n_trials=60, show_progress_bar=True)\n",
    "\n",
    "print(f\"Best Gradient Boosting RMSE: {study_gb.best_value:.4f}\")\n",
    "best_gb_params = study_gb.best_params\n",
    "best_gb = GradientBoostingRegressor(**best_gb_params, random_state=RANDOM_STATE)\n",
    "gb_result = evaluate_model_cv(best_gb, X_train_split, y_train, cv_strategy, \"GradientBoosting_Optimized\")\n",
    "gb_result['best_params'] = best_gb_params\n",
    "\n",
    "print(f\"  Baseline RMSE (CV): {baseline_results['GradientBoosting']['cv_rmse_mean']:.4f}\")\n",
    "print(f\"  Optimized RMSE (Optuna): {study_gb.best_value:.4f}\")\n",
    "print(f\"  Optimized RMSE (CV eval): {gb_result['cv_rmse_mean']:.4f}\")\n",
    "improvement = baseline_results['GradientBoosting']['cv_rmse_mean'] - gb_result['cv_rmse_mean']\n",
    "print(f\"  Improvement (baseline CV vs optimized CV): {improvement:.4f}\")"
   ]
  },
  {
   "cell_type": "markdown",
   "id": "e96e2570",
   "metadata": {},
   "source": [
    "Gradient Boosting showed a modest improvement through optimization, with RMSE decreasing from 0.1281 (baseline CV) to 0.1227 (optimized CV evaluation), yielding a gain of 0.0054. This suggests that hyperparameter tuning provided a measurable but limited enhancement in performance.\n",
    "\n",
    "### 3.6 XGBoost Optimization\n",
    "Optimize XGBoost with comprehensive parameter tuning including regularization and tree structure parameters."
   ]
  },
  {
   "cell_type": "code",
   "execution_count": 13,
   "id": "ba531c9a",
   "metadata": {},
   "outputs": [
    {
     "name": "stderr",
     "output_type": "stream",
     "text": [
      "[I 2025-07-15 15:37:05,537] A new study created in memory with name: xgb_optimization\n"
     ]
    },
    {
     "name": "stdout",
     "output_type": "stream",
     "text": [
      "\n",
      "Optimizing XGBoost...\n"
     ]
    },
    {
     "data": {
      "application/vnd.jupyter.widget-view+json": {
       "model_id": "12a35629421d478199c93cf59f392c9f",
       "version_major": 2,
       "version_minor": 0
      },
      "text/plain": [
       "  0%|          | 0/75 [00:00<?, ?it/s]"
      ]
     },
     "metadata": {},
     "output_type": "display_data"
    },
    {
     "name": "stdout",
     "output_type": "stream",
     "text": [
      "[I 2025-07-15 15:37:13,990] Trial 0 finished with value: 0.1306995152490078 and parameters: {'n_estimators': 1768, 'learning_rate': 0.19485559534533878, 'colsample_bytree': 0.61642047930317, 'subsample': 0.712767011364308, 'min_child_weight': 3}. Best is trial 0 with value: 0.1306995152490078.\n",
      "[I 2025-07-15 15:37:40,223] Trial 1 finished with value: 0.12138309870597618 and parameters: {'n_estimators': 3446, 'learning_rate': 0.007925221374941328, 'colsample_bytree': 0.6429393749395897, 'subsample': 0.7790851464336763, 'min_child_weight': 4}. Best is trial 1 with value: 0.12138309870597618.\n",
      "[I 2025-07-15 15:38:03,687] Trial 2 finished with value: 0.11706352271993893 and parameters: {'n_estimators': 3156, 'learning_rate': 0.00952940220125351, 'colsample_bytree': 0.6173107436842491, 'subsample': 0.4714658622489154, 'min_child_weight': 4}. Best is trial 2 with value: 0.11706352271993893.\n",
      "[I 2025-07-15 15:38:29,260] Trial 3 finished with value: 0.12739574127569375 and parameters: {'n_estimators': 6376, 'learning_rate': 0.15106598021866288, 'colsample_bytree': 0.5169891944549704, 'subsample': 0.5283186878949703, 'min_child_weight': 2}. Best is trial 2 with value: 0.11706352271993893.\n",
      "[I 2025-07-15 15:39:02,358] Trial 4 finished with value: 0.1227746375406939 and parameters: {'n_estimators': 4588, 'learning_rate': 0.015755660832004127, 'colsample_bytree': 0.8634602902351219, 'subsample': 0.7771224855207706, 'min_child_weight': 4}. Best is trial 2 with value: 0.11706352271993893.\n",
      "[I 2025-07-15 15:39:23,864] Trial 5 finished with value: 0.120296514313136 and parameters: {'n_estimators': 3026, 'learning_rate': 0.012771458006614255, 'colsample_bytree': 0.4012038586989999, 'subsample': 0.7190579635191698, 'min_child_weight': 3}. Best is trial 2 with value: 0.11706352271993893.\n",
      "[I 2025-07-15 15:40:01,186] Trial 6 finished with value: 0.11976844952642188 and parameters: {'n_estimators': 5318, 'learning_rate': 0.009490630120641174, 'colsample_bytree': 0.24814810911522872, 'subsample': 0.7314108714803579, 'min_child_weight': 3}. Best is trial 2 with value: 0.11706352271993893.\n",
      "[I 2025-07-15 15:40:14,130] Trial 7 finished with value: 0.11788948486414182 and parameters: {'n_estimators': 1793, 'learning_rate': 0.0092622107260482, 'colsample_bytree': 0.28979853623934915, 'subsample': 0.5781474741065492, 'min_child_weight': 3}. Best is trial 2 with value: 0.11706352271993893.\n",
      "[I 2025-07-15 15:41:00,057] Trial 8 finished with value: 0.11735198206952589 and parameters: {'n_estimators': 6100, 'learning_rate': 0.006635985329683296, 'colsample_bytree': 0.7971314014448618, 'subsample': 0.4342418986169776, 'min_child_weight': 2}. Best is trial 2 with value: 0.11706352271993893.\n",
      "[I 2025-07-15 15:41:08,834] Trial 9 finished with value: 0.12157551306528036 and parameters: {'n_estimators': 1155, 'learning_rate': 0.03825901110793896, 'colsample_bytree': 0.6292221261000861, 'subsample': 0.7224086492404955, 'min_child_weight': 5}. Best is trial 2 with value: 0.11706352271993893.\n",
      "[I 2025-07-15 15:41:53,816] Trial 10 finished with value: 0.12049817781493889 and parameters: {'n_estimators': 7986, 'learning_rate': 0.033062643611194154, 'colsample_bytree': 0.9926037520408203, 'subsample': 0.4072004277143912, 'min_child_weight': 5}. Best is trial 2 with value: 0.11706352271993893.\n",
      "[I 2025-07-15 15:42:40,830] Trial 11 finished with value: 0.1160200350502091 and parameters: {'n_estimators': 6360, 'learning_rate': 0.005124246630770614, 'colsample_bytree': 0.8147238029043861, 'subsample': 0.4077312837642431, 'min_child_weight': 2}. Best is trial 11 with value: 0.1160200350502091.\n",
      "[I 2025-07-15 15:43:34,137] Trial 12 finished with value: 0.1178457294249568 and parameters: {'n_estimators': 7392, 'learning_rate': 0.0051838941839622635, 'colsample_bytree': 0.7724757158706309, 'subsample': 0.48879902638574874, 'min_child_weight': 4}. Best is trial 11 with value: 0.1160200350502091.\n",
      "[I 2025-07-15 15:43:59,412] Trial 13 finished with value: 0.1180481961421825 and parameters: {'n_estimators': 3505, 'learning_rate': 0.019461514897004255, 'colsample_bytree': 0.47305356917059393, 'subsample': 0.47331876215755986, 'min_child_weight': 2}. Best is trial 11 with value: 0.1160200350502091.\n",
      "[I 2025-07-15 15:44:20,597] Trial 14 finished with value: 0.12492832706431123 and parameters: {'n_estimators': 5216, 'learning_rate': 0.08533415710890582, 'colsample_bytree': 0.7405130378177922, 'subsample': 0.6086863316978974, 'min_child_weight': 4}. Best is trial 11 with value: 0.1160200350502091.\n",
      "[I 2025-07-15 15:44:59,132] Trial 15 finished with value: 0.11977297256023814 and parameters: {'n_estimators': 6545, 'learning_rate': 0.02463353721196617, 'colsample_bytree': 0.9211581522935597, 'subsample': 0.40160448294411843, 'min_child_weight': 2}. Best is trial 11 with value: 0.1160200350502091.\n",
      "[I 2025-07-15 15:45:15,536] Trial 16 finished with value: 0.122794153282707 and parameters: {'n_estimators': 2754, 'learning_rate': 0.06459249348833908, 'colsample_bytree': 0.696351564637716, 'subsample': 0.5489377425399761, 'min_child_weight': 5}. Best is trial 11 with value: 0.1160200350502091.\n",
      "[I 2025-07-15 15:45:46,914] Trial 17 finished with value: 0.12055431084218338 and parameters: {'n_estimators': 4234, 'learning_rate': 0.005586704575440141, 'colsample_bytree': 0.8473752074028167, 'subsample': 0.628305809175399, 'min_child_weight': 3}. Best is trial 11 with value: 0.1160200350502091.\n",
      "[I 2025-07-15 15:46:17,923] Trial 18 finished with value: 0.11737688689869095 and parameters: {'n_estimators': 4367, 'learning_rate': 0.012213802766412232, 'colsample_bytree': 0.5258734519711132, 'subsample': 0.47451161864754376, 'min_child_weight': 4}. Best is trial 11 with value: 0.1160200350502091.\n",
      "[I 2025-07-15 15:47:04,483] Trial 19 finished with value: 0.11856115745727107 and parameters: {'n_estimators': 7048, 'learning_rate': 0.023335778515315198, 'colsample_bytree': 0.3572401937855528, 'subsample': 0.4438106085843098, 'min_child_weight': 5}. Best is trial 11 with value: 0.1160200350502091.\n",
      "[I 2025-07-15 15:47:28,437] Trial 20 finished with value: 0.12072096106939485 and parameters: {'n_estimators': 5649, 'learning_rate': 0.07308008899260957, 'colsample_bytree': 0.6900460496792067, 'subsample': 0.5175187276691342, 'min_child_weight': 2}. Best is trial 11 with value: 0.1160200350502091.\n",
      "[I 2025-07-15 15:48:13,858] Trial 21 finished with value: 0.1170487570616117 and parameters: {'n_estimators': 6111, 'learning_rate': 0.007165122416042557, 'colsample_bytree': 0.7923012100385564, 'subsample': 0.43567739078173134, 'min_child_weight': 2}. Best is trial 11 with value: 0.1160200350502091.\n",
      "[I 2025-07-15 15:48:50,030] Trial 22 finished with value: 0.11749571831711866 and parameters: {'n_estimators': 4827, 'learning_rate': 0.005096774281074685, 'colsample_bytree': 0.9244401841093365, 'subsample': 0.4446324706077005, 'min_child_weight': 2}. Best is trial 11 with value: 0.1160200350502091.\n",
      "[I 2025-07-15 15:49:32,986] Trial 23 finished with value: 0.11943026614769243 and parameters: {'n_estimators': 5860, 'learning_rate': 0.010182012490879995, 'colsample_bytree': 0.8248260506850835, 'subsample': 0.4996118339886289, 'min_child_weight': 3}. Best is trial 11 with value: 0.1160200350502091.\n",
      "[I 2025-07-15 15:50:01,413] Trial 24 finished with value: 0.11747186273471474 and parameters: {'n_estimators': 3887, 'learning_rate': 0.0072172438202914545, 'colsample_bytree': 0.7024368618552014, 'subsample': 0.43785382091823405, 'min_child_weight': 2}. Best is trial 11 with value: 0.1160200350502091.\n",
      "[I 2025-07-15 15:50:46,115] Trial 25 finished with value: 0.12014580849331816 and parameters: {'n_estimators': 6977, 'learning_rate': 0.014119402258530343, 'colsample_bytree': 0.5687710863463703, 'subsample': 0.6648896093487754, 'min_child_weight': 3}. Best is trial 11 with value: 0.1160200350502091.\n",
      "[I 2025-07-15 15:51:25,419] Trial 26 finished with value: 0.11908781884932654 and parameters: {'n_estimators': 5136, 'learning_rate': 0.007313996443217796, 'colsample_bytree': 0.9040530845291287, 'subsample': 0.5447270776209373, 'min_child_weight': 4}. Best is trial 11 with value: 0.1160200350502091.\n",
      "[I 2025-07-15 15:51:43,901] Trial 27 finished with value: 0.11688969476901404 and parameters: {'n_estimators': 2466, 'learning_rate': 0.010443549304727628, 'colsample_bytree': 0.7559313873205409, 'subsample': 0.4026778653956733, 'min_child_weight': 2}. Best is trial 11 with value: 0.1160200350502091.\n",
      "[I 2025-07-15 15:52:02,390] Trial 28 finished with value: 0.11778356620896482 and parameters: {'n_estimators': 2439, 'learning_rate': 0.018257401181872145, 'colsample_bytree': 0.9871734213485737, 'subsample': 0.4104166088018101, 'min_child_weight': 2}. Best is trial 11 with value: 0.1160200350502091.\n",
      "[I 2025-07-15 15:52:12,943] Trial 29 finished with value: 0.1319699111520924 and parameters: {'n_estimators': 2047, 'learning_rate': 0.1536446367593125, 'colsample_bytree': 0.7421003532846324, 'subsample': 0.43096860441836454, 'min_child_weight': 2}. Best is trial 11 with value: 0.1160200350502091.\n",
      "[I 2025-07-15 15:52:43,332] Trial 30 finished with value: 0.13849456361335447 and parameters: {'n_estimators': 7965, 'learning_rate': 0.2531216728513852, 'colsample_bytree': 0.7792153426360321, 'subsample': 0.458264586927315, 'min_child_weight': 2}. Best is trial 11 with value: 0.1160200350502091.\n",
      "[I 2025-07-15 15:52:53,401] Trial 31 finished with value: 0.11673456072207636 and parameters: {'n_estimators': 1401, 'learning_rate': 0.010549183069282814, 'colsample_bytree': 0.6087401485923443, 'subsample': 0.4193786994209091, 'min_child_weight': 3}. Best is trial 11 with value: 0.1160200350502091.\n",
      "[I 2025-07-15 15:53:01,622] Trial 32 finished with value: 0.11785410393510479 and parameters: {'n_estimators': 1140, 'learning_rate': 0.006297614227099103, 'colsample_bytree': 0.6467702667355496, 'subsample': 0.40032259064603004, 'min_child_weight': 3}. Best is trial 11 with value: 0.1160200350502091.\n",
      "[I 2025-07-15 15:53:11,956] Trial 33 finished with value: 0.11746680892518693 and parameters: {'n_estimators': 1380, 'learning_rate': 0.011098570165257948, 'colsample_bytree': 0.8722175175523008, 'subsample': 0.42584554325082025, 'min_child_weight': 2}. Best is trial 11 with value: 0.1160200350502091.\n",
      "[I 2025-07-15 15:53:28,456] Trial 34 finished with value: 0.11808379608433765 and parameters: {'n_estimators': 2253, 'learning_rate': 0.009047000593749147, 'colsample_bytree': 0.582522742348193, 'subsample': 0.4984891967722376, 'min_child_weight': 2}. Best is trial 11 with value: 0.1160200350502091.\n",
      "[I 2025-07-15 15:54:16,276] Trial 35 finished with value: 0.11734918036544954 and parameters: {'n_estimators': 6559, 'learning_rate': 0.008312173639792397, 'colsample_bytree': 0.6570585604266719, 'subsample': 0.4600978206032441, 'min_child_weight': 3}. Best is trial 11 with value: 0.1160200350502091.\n",
      "[I 2025-07-15 15:54:28,938] Trial 36 finished with value: 0.11718992928679763 and parameters: {'n_estimators': 1702, 'learning_rate': 0.01576230714269771, 'colsample_bytree': 0.822919507020446, 'subsample': 0.41877582212893644, 'min_child_weight': 2}. Best is trial 11 with value: 0.1160200350502091.\n",
      "[I 2025-07-15 15:54:47,867] Trial 37 finished with value: 0.11796914248086544 and parameters: {'n_estimators': 2580, 'learning_rate': 0.007135603981002272, 'colsample_bytree': 0.7383569891226458, 'subsample': 0.5196097134533354, 'min_child_weight': 3}. Best is trial 11 with value: 0.1160200350502091.\n",
      "[I 2025-07-15 15:55:12,166] Trial 38 finished with value: 0.11758789742370594 and parameters: {'n_estimators': 3355, 'learning_rate': 0.01171980283436619, 'colsample_bytree': 0.5508806101424248, 'subsample': 0.46090642733034815, 'min_child_weight': 2}. Best is trial 11 with value: 0.1160200350502091.\n",
      "[I 2025-07-15 15:55:45,802] Trial 39 finished with value: 0.1195076746202622 and parameters: {'n_estimators': 6261, 'learning_rate': 0.026499238416134926, 'colsample_bytree': 0.44836033238535733, 'subsample': 0.5727286969493991, 'min_child_weight': 2}. Best is trial 11 with value: 0.1160200350502091.\n",
      "[I 2025-07-15 15:56:04,668] Trial 40 finished with value: 0.12422149498659962 and parameters: {'n_estimators': 3858, 'learning_rate': 0.05156022279245122, 'colsample_bytree': 0.8901913944869594, 'subsample': 0.6654723441577671, 'min_child_weight': 3}. Best is trial 11 with value: 0.1160200350502091.\n",
      "[I 2025-07-15 15:56:16,284] Trial 41 finished with value: 0.11659411375528783 and parameters: {'n_estimators': 1603, 'learning_rate': 0.008720255395984183, 'colsample_bytree': 0.6127407437892084, 'subsample': 0.4194113051108953, 'min_child_weight': 4}. Best is trial 11 with value: 0.1160200350502091.\n",
      "[I 2025-07-15 15:56:27,460] Trial 42 finished with value: 0.11670230747207039 and parameters: {'n_estimators': 1565, 'learning_rate': 0.006249569472554245, 'colsample_bytree': 0.6655613054072994, 'subsample': 0.42093457746416096, 'min_child_weight': 4}. Best is trial 11 with value: 0.1160200350502091.\n",
      "[I 2025-07-15 15:56:39,677] Trial 43 finished with value: 0.1168191514114682 and parameters: {'n_estimators': 1674, 'learning_rate': 0.006231032485505312, 'colsample_bytree': 0.6121797445473338, 'subsample': 0.4201868767855812, 'min_child_weight': 4}. Best is trial 11 with value: 0.1160200350502091.\n",
      "[I 2025-07-15 15:56:52,899] Trial 44 finished with value: 0.11740554533173461 and parameters: {'n_estimators': 1847, 'learning_rate': 0.005742410440572522, 'colsample_bytree': 0.6155680393587327, 'subsample': 0.48807220626545866, 'min_child_weight': 4}. Best is trial 11 with value: 0.1160200350502091.\n",
      "[I 2025-07-15 15:57:03,974] Trial 45 finished with value: 0.1159901004562893 and parameters: {'n_estimators': 1544, 'learning_rate': 0.008436858194394539, 'colsample_bytree': 0.4776769684135067, 'subsample': 0.42321318696070775, 'min_child_weight': 4}. Best is trial 45 with value: 0.1159901004562893.\n",
      "[I 2025-07-15 15:57:14,166] Trial 46 finished with value: 0.11648986023151874 and parameters: {'n_estimators': 1385, 'learning_rate': 0.008969799769189504, 'colsample_bytree': 0.47699800852901064, 'subsample': 0.45519441076122286, 'min_child_weight': 4}. Best is trial 45 with value: 0.1159901004562893.\n",
      "[I 2025-07-15 15:57:21,845] Trial 47 finished with value: 0.1208550941891474 and parameters: {'n_estimators': 1041, 'learning_rate': 0.008534022668311667, 'colsample_bytree': 0.49528316033887737, 'subsample': 0.7636175293456463, 'min_child_weight': 4}. Best is trial 45 with value: 0.1159901004562893.\n",
      "[I 2025-07-15 15:57:37,083] Trial 48 finished with value: 0.11605706739097947 and parameters: {'n_estimators': 2081, 'learning_rate': 0.008559178595056274, 'colsample_bytree': 0.4184117982067528, 'subsample': 0.45258108703712396, 'min_child_weight': 4}. Best is trial 45 with value: 0.1159901004562893.\n",
      "[I 2025-07-15 15:57:52,029] Trial 49 finished with value: 0.11694418879406265 and parameters: {'n_estimators': 2108, 'learning_rate': 0.013892948860575524, 'colsample_bytree': 0.38428963430609187, 'subsample': 0.4535119565580402, 'min_child_weight': 4}. Best is trial 45 with value: 0.1159901004562893.\n",
      "[I 2025-07-15 15:58:12,760] Trial 50 finished with value: 0.11802664419941357 and parameters: {'n_estimators': 2955, 'learning_rate': 0.01708789481855622, 'colsample_bytree': 0.3178794131595276, 'subsample': 0.4748138525716727, 'min_child_weight': 4}. Best is trial 45 with value: 0.1159901004562893.\n",
      "[I 2025-07-15 15:58:23,292] Trial 51 finished with value: 0.11774705934882372 and parameters: {'n_estimators': 1461, 'learning_rate': 0.005105520701181667, 'colsample_bytree': 0.4360448343880166, 'subsample': 0.4465448346499321, 'min_child_weight': 4}. Best is trial 45 with value: 0.1159901004562893.\n",
      "[I 2025-07-15 15:58:37,335] Trial 52 finished with value: 0.1164068211379186 and parameters: {'n_estimators': 1967, 'learning_rate': 0.00923884340906173, 'colsample_bytree': 0.5227145799055043, 'subsample': 0.48491376002782266, 'min_child_weight': 4}. Best is trial 45 with value: 0.1159901004562893.\n",
      "[I 2025-07-15 15:58:50,662] Trial 53 finished with value: 0.11670498943113489 and parameters: {'n_estimators': 1892, 'learning_rate': 0.008398301358566508, 'colsample_bytree': 0.44071914457257166, 'subsample': 0.48577058322513067, 'min_child_weight': 5}. Best is trial 45 with value: 0.1159901004562893.\n",
      "[I 2025-07-15 15:59:10,510] Trial 54 finished with value: 0.11772822133212928 and parameters: {'n_estimators': 2789, 'learning_rate': 0.012384362859122222, 'colsample_bytree': 0.5220180654337375, 'subsample': 0.5071653571567989, 'min_child_weight': 4}. Best is trial 45 with value: 0.1159901004562893.\n",
      "[I 2025-07-15 15:59:26,229] Trial 55 finished with value: 0.11776420677702712 and parameters: {'n_estimators': 2253, 'learning_rate': 0.009345817791569865, 'colsample_bytree': 0.2048824643031789, 'subsample': 0.47342635505915365, 'min_child_weight': 4}. Best is trial 45 with value: 0.1159901004562893.\n",
      "[I 2025-07-15 15:59:36,081] Trial 56 finished with value: 0.1175222961078199 and parameters: {'n_estimators': 1371, 'learning_rate': 0.021080548593564032, 'colsample_bytree': 0.4059037297518187, 'subsample': 0.5364401388117721, 'min_child_weight': 5}. Best is trial 45 with value: 0.1159901004562893.\n",
      "[I 2025-07-15 15:59:49,946] Trial 57 finished with value: 0.11752169951451585 and parameters: {'n_estimators': 1982, 'learning_rate': 0.014523337753844592, 'colsample_bytree': 0.3745517522576062, 'subsample': 0.43709733868118417, 'min_child_weight': 4}. Best is trial 45 with value: 0.1159901004562893.\n",
      "[I 2025-07-15 15:59:57,567] Trial 58 finished with value: 0.11725111180136988 and parameters: {'n_estimators': 1072, 'learning_rate': 0.007625968486743375, 'colsample_bytree': 0.32776207180057315, 'subsample': 0.45565504923213074, 'min_child_weight': 4}. Best is trial 45 with value: 0.1159901004562893.\n",
      "[I 2025-07-15 16:00:06,831] Trial 59 finished with value: 0.11809036804736267 and parameters: {'n_estimators': 1308, 'learning_rate': 0.029417183609519854, 'colsample_bytree': 0.48100259786452837, 'subsample': 0.4658465975296624, 'min_child_weight': 4}. Best is trial 45 with value: 0.1159901004562893.\n",
      "[I 2025-07-15 16:00:29,901] Trial 60 finished with value: 0.11764512242476516 and parameters: {'n_estimators': 3227, 'learning_rate': 0.005737882022763668, 'colsample_bytree': 0.5508183742018524, 'subsample': 0.5777584826333826, 'min_child_weight': 4}. Best is trial 45 with value: 0.1159901004562893.\n",
      "[I 2025-07-15 16:00:41,268] Trial 61 finished with value: 0.11615061477072057 and parameters: {'n_estimators': 1588, 'learning_rate': 0.006456516226171276, 'colsample_bytree': 0.4161874099329157, 'subsample': 0.41903785523650083, 'min_child_weight': 4}. Best is trial 45 with value: 0.1159901004562893.\n",
      "[I 2025-07-15 16:00:53,009] Trial 62 finished with value: 0.11593215052664621 and parameters: {'n_estimators': 1675, 'learning_rate': 0.007479570736625698, 'colsample_bytree': 0.41494144272685285, 'subsample': 0.410673876661589, 'min_child_weight': 4}. Best is trial 62 with value: 0.11593215052664621.\n",
      "[I 2025-07-15 16:01:08,805] Trial 63 finished with value: 0.11553680078609242 and parameters: {'n_estimators': 2250, 'learning_rate': 0.0069838904765707616, 'colsample_bytree': 0.40915471463680514, 'subsample': 0.40994871393564103, 'min_child_weight': 4}. Best is trial 63 with value: 0.11553680078609242.\n",
      "[I 2025-07-15 16:01:24,460] Trial 64 finished with value: 0.11581721785665659 and parameters: {'n_estimators': 2231, 'learning_rate': 0.006497004574764716, 'colsample_bytree': 0.41277184803097305, 'subsample': 0.40981464467116485, 'min_child_weight': 4}. Best is trial 63 with value: 0.11553680078609242.\n",
      "[I 2025-07-15 16:01:43,303] Trial 65 finished with value: 0.11551445907412412 and parameters: {'n_estimators': 2681, 'learning_rate': 0.006720228875521187, 'colsample_bytree': 0.41305334635064395, 'subsample': 0.4110064282622357, 'min_child_weight': 4}. Best is trial 65 with value: 0.11551445907412412.\n",
      "[I 2025-07-15 16:02:01,550] Trial 66 finished with value: 0.11578454361905664 and parameters: {'n_estimators': 2637, 'learning_rate': 0.005576069505760572, 'colsample_bytree': 0.3373494740290896, 'subsample': 0.4083402613812967, 'min_child_weight': 5}. Best is trial 65 with value: 0.11551445907412412.\n",
      "[I 2025-07-15 16:02:27,225] Trial 67 finished with value: 0.11536951852969192 and parameters: {'n_estimators': 3706, 'learning_rate': 0.005021188806472412, 'colsample_bytree': 0.34760012476084856, 'subsample': 0.408714643982352, 'min_child_weight': 5}. Best is trial 67 with value: 0.11536951852969192.\n",
      "[I 2025-07-15 16:02:52,499] Trial 68 finished with value: 0.11581683239450201 and parameters: {'n_estimators': 3620, 'learning_rate': 0.005725202083192147, 'colsample_bytree': 0.34112616974159476, 'subsample': 0.4076853045940988, 'min_child_weight': 5}. Best is trial 67 with value: 0.11536951852969192.\n",
      "[I 2025-07-15 16:03:17,299] Trial 69 finished with value: 0.11531840880061808 and parameters: {'n_estimators': 3584, 'learning_rate': 0.005654997811285728, 'colsample_bytree': 0.26496221177384605, 'subsample': 0.40158588642059856, 'min_child_weight': 5}. Best is trial 69 with value: 0.11531840880061808.\n",
      "[I 2025-07-15 16:03:42,883] Trial 70 finished with value: 0.11534214837000006 and parameters: {'n_estimators': 3630, 'learning_rate': 0.0050218199593723934, 'colsample_bytree': 0.2724809990832405, 'subsample': 0.4003806947078133, 'min_child_weight': 5}. Best is trial 69 with value: 0.11531840880061808.\n",
      "[I 2025-07-15 16:04:07,696] Trial 71 finished with value: 0.11571541961688248 and parameters: {'n_estimators': 3583, 'learning_rate': 0.005514849443109214, 'colsample_bytree': 0.26984650997744664, 'subsample': 0.4077203886568801, 'min_child_weight': 5}. Best is trial 69 with value: 0.11531840880061808.\n",
      "[I 2025-07-15 16:04:33,934] Trial 72 finished with value: 0.11534996981146797 and parameters: {'n_estimators': 3774, 'learning_rate': 0.005656486120324526, 'colsample_bytree': 0.2519965672605229, 'subsample': 0.40257723716175414, 'min_child_weight': 5}. Best is trial 69 with value: 0.11531840880061808.\n",
      "[I 2025-07-15 16:05:00,442] Trial 73 finished with value: 0.11545307933684608 and parameters: {'n_estimators': 3835, 'learning_rate': 0.0051582240054758996, 'colsample_bytree': 0.2685913658606153, 'subsample': 0.43242019575917773, 'min_child_weight': 5}. Best is trial 69 with value: 0.11531840880061808.\n",
      "[I 2025-07-15 16:05:28,399] Trial 74 finished with value: 0.11565813752689806 and parameters: {'n_estimators': 4044, 'learning_rate': 0.005141340762568967, 'colsample_bytree': 0.2628193868186768, 'subsample': 0.4315994295707376, 'min_child_weight': 5}. Best is trial 69 with value: 0.11531840880061808.\n",
      "Best XGBoost RMSE: 0.1153\n",
      "Evaluating XGBoost_Optimized...\n",
      "  RMSE: 0.1148 (+/- 0.0104)\n",
      "  Baseline RMSE (CV): 0.1419\n",
      "  Optimized RMSE (Optuna): 0.1153\n",
      "  Optimized RMSE (CV eval): 0.1148\n",
      "  Improvement (baseline CV vs optimized CV): 0.0270\n"
     ]
    }
   ],
   "source": [
    "def objective_xgboost(trial):\n",
    "    \"\"\"Objective function for XGBoost hyperparameter optimization\"\"\"\n",
    "    params = {\n",
    "        'n_estimators': trial.suggest_int('n_estimators', 1000, 8000),\n",
    "        'learning_rate': trial.suggest_float('learning_rate', 0.005, 0.3, log=True),\n",
    "        'colsample_bytree': trial.suggest_float('colsample_bytree', 0.2, 1.0),\n",
    "        'subsample': trial.suggest_float('subsample', 0.4, 0.8),\n",
    "        'min_child_weight': trial.suggest_int('min_child_weight', 2, 5),\n",
    "        'random_state': RANDOM_STATE,\n",
    "        'n_jobs': -1,\n",
    "        'verbosity': 0\n",
    "    }\n",
    "    \n",
    "    model = XGBRegressor(**params)\n",
    "    cv_scores = cross_val_score(model, X_train_split, y_train, cv=cv_strategy,\n",
    "                                scoring='neg_mean_squared_error', n_jobs=1)\n",
    "    return np.sqrt(-cv_scores.mean())\n",
    "\n",
    "print(\"\\nOptimizing XGBoost...\")\n",
    "study_xgb = optuna.create_study(direction='minimize', study_name='xgb_optimization')\n",
    "study_xgb.optimize(objective_xgboost, n_trials=75, show_progress_bar=True)\n",
    "\n",
    "print(f\"Best XGBoost RMSE: {study_xgb.best_value:.4f}\")\n",
    "best_xgb_params = study_xgb.best_params\n",
    "best_xgb = XGBRegressor(**best_xgb_params, random_state=RANDOM_STATE, n_jobs=-1, verbosity=0)\n",
    "xgb_result = evaluate_model_cv(best_xgb, X_train_split, y_train, cv_strategy, \"XGBoost_Optimized\")\n",
    "xgb_result['best_params'] = best_xgb_params\n",
    "\n",
    "print(f\"  Baseline RMSE (CV): {baseline_results['XGBoost']['cv_rmse_mean']:.4f}\")\n",
    "print(f\"  Optimized RMSE (Optuna): {study_xgb.best_value:.4f}\")\n",
    "print(f\"  Optimized RMSE (CV eval): {xgb_result['cv_rmse_mean']:.4f}\")\n",
    "improvement = baseline_results['XGBoost']['cv_rmse_mean'] - xgb_result['cv_rmse_mean']\n",
    "print(f\"  Improvement (baseline CV vs optimized CV): {improvement:.4f}\")"
   ]
  },
  {
   "cell_type": "markdown",
   "id": "f3c0fbf3",
   "metadata": {},
   "source": [
    "XGBoost demonstrated a clear improvement following optimization, with RMSE dropping from 0.1419 (baseline CV) to 0.1148 (optimized CV evaluation), resulting in a performance gain of 0.0270. This indicates that hyperparameter tuning had a strong positive impact on model accuracy.\n",
    "\n",
    "### 3.7 CatBoost Optimization\n",
    "Optimize CatBoost with categorical feature handling and gradient boosting parameters.\n"
   ]
  },
  {
   "cell_type": "code",
   "execution_count": 14,
   "id": "9a780215",
   "metadata": {},
   "outputs": [
    {
     "name": "stderr",
     "output_type": "stream",
     "text": [
      "[I 2025-07-15 16:05:31,984] A new study created in memory with name: catboost_optimization\n"
     ]
    },
    {
     "name": "stdout",
     "output_type": "stream",
     "text": [
      "\n",
      "Optimizing CatBoost...\n"
     ]
    },
    {
     "data": {
      "application/vnd.jupyter.widget-view+json": {
       "model_id": "1d6ffd97cdf6434781c6bc60db219033",
       "version_major": 2,
       "version_minor": 0
      },
      "text/plain": [
       "  0%|          | 0/75 [00:00<?, ?it/s]"
      ]
     },
     "metadata": {},
     "output_type": "display_data"
    },
    {
     "name": "stdout",
     "output_type": "stream",
     "text": [
      "[I 2025-07-15 16:05:47,507] Trial 0 finished with value: 0.11596915972900862 and parameters: {'iterations': 6962, 'learning_rate': 0.00662087967314295, 'depth': 6}. Best is trial 0 with value: 0.11596915972900862.\n",
      "[I 2025-07-15 16:05:50,638] Trial 1 finished with value: 0.12049666947852163 and parameters: {'iterations': 4838, 'learning_rate': 0.14172217037341484, 'depth': 3}. Best is trial 0 with value: 0.11596915972900862.\n",
      "[I 2025-07-15 16:05:56,305] Trial 2 finished with value: 0.11619565845250399 and parameters: {'iterations': 2399, 'learning_rate': 0.02156408563732035, 'depth': 6}. Best is trial 0 with value: 0.11596915972900862.\n",
      "[I 2025-07-15 16:05:58,782] Trial 3 finished with value: 0.11689034315964737 and parameters: {'iterations': 3516, 'learning_rate': 0.05378539154372889, 'depth': 3}. Best is trial 0 with value: 0.11596915972900862.\n",
      "[I 2025-07-15 16:06:09,918] Trial 4 finished with value: 0.11485906509796444 and parameters: {'iterations': 7796, 'learning_rate': 0.008019557229247127, 'depth': 5}. Best is trial 4 with value: 0.11485906509796444.\n",
      "[I 2025-07-15 16:06:18,946] Trial 5 finished with value: 0.11732399104863661 and parameters: {'iterations': 2556, 'learning_rate': 0.06791736713051232, 'depth': 7}. Best is trial 4 with value: 0.11485906509796444.\n",
      "[I 2025-07-15 16:06:24,289] Trial 6 finished with value: 0.11777613426345104 and parameters: {'iterations': 5867, 'learning_rate': 0.08157044073850364, 'depth': 4}. Best is trial 4 with value: 0.11485906509796444.\n",
      "[I 2025-07-15 16:06:25,765] Trial 7 finished with value: 0.1203913362320856 and parameters: {'iterations': 2311, 'learning_rate': 0.00863403181701009, 'depth': 3}. Best is trial 4 with value: 0.11485906509796444.\n",
      "[I 2025-07-15 16:06:47,637] Trial 8 finished with value: 0.12062049629558379 and parameters: {'iterations': 6124, 'learning_rate': 0.10611328404268677, 'depth': 7}. Best is trial 4 with value: 0.11485906509796444.\n",
      "[I 2025-07-15 16:06:48,502] Trial 9 finished with value: 0.11637058500109987 and parameters: {'iterations': 1160, 'learning_rate': 0.04036485350608345, 'depth': 3}. Best is trial 4 with value: 0.11485906509796444.\n",
      "[I 2025-07-15 16:06:59,886] Trial 10 finished with value: 0.11649371335606212 and parameters: {'iterations': 7757, 'learning_rate': 0.016220637997416684, 'depth': 5}. Best is trial 4 with value: 0.11485906509796444.\n",
      "[I 2025-07-15 16:07:11,048] Trial 11 finished with value: 0.11515721265122547 and parameters: {'iterations': 7990, 'learning_rate': 0.005015378777748842, 'depth': 5}. Best is trial 4 with value: 0.11485906509796444.\n",
      "[I 2025-07-15 16:07:21,411] Trial 12 finished with value: 0.1153001986583396 and parameters: {'iterations': 7709, 'learning_rate': 0.01233374938109509, 'depth': 5}. Best is trial 4 with value: 0.11485906509796444.\n",
      "[I 2025-07-15 16:07:27,204] Trial 13 finished with value: 0.11570222731032911 and parameters: {'iterations': 6521, 'learning_rate': 0.005734003585377572, 'depth': 4}. Best is trial 4 with value: 0.11485906509796444.\n",
      "[I 2025-07-15 16:07:38,817] Trial 14 finished with value: 0.1256783584293584 and parameters: {'iterations': 4937, 'learning_rate': 0.2752446431795361, 'depth': 6}. Best is trial 4 with value: 0.11485906509796444.\n",
      "[I 2025-07-15 16:07:45,786] Trial 15 finished with value: 0.11634015954584874 and parameters: {'iterations': 7777, 'learning_rate': 0.025232717837995803, 'depth': 4}. Best is trial 4 with value: 0.11485906509796444.\n",
      "[I 2025-07-15 16:07:53,381] Trial 16 finished with value: 0.11527684035465104 and parameters: {'iterations': 5577, 'learning_rate': 0.010914982940861925, 'depth': 5}. Best is trial 4 with value: 0.11485906509796444.\n",
      "[I 2025-07-15 16:11:57,371] Trial 17 finished with value: 0.11619717970984693 and parameters: {'iterations': 6829, 'learning_rate': 0.005977349809146318, 'depth': 6}. Best is trial 4 with value: 0.11485906509796444.\n",
      "[I 2025-07-15 16:12:04,518] Trial 18 finished with value: 0.11617115543649012 and parameters: {'iterations': 4062, 'learning_rate': 0.02762633104640988, 'depth': 5}. Best is trial 4 with value: 0.11485906509796444.\n",
      "[I 2025-07-15 16:12:11,966] Trial 19 finished with value: 0.11525118050232758 and parameters: {'iterations': 7124, 'learning_rate': 0.01486715539609506, 'depth': 4}. Best is trial 4 with value: 0.11485906509796444.\n",
      "[I 2025-07-15 16:12:24,845] Trial 20 finished with value: 0.11494087967865504 and parameters: {'iterations': 7957, 'learning_rate': 0.008537853380668056, 'depth': 5}. Best is trial 4 with value: 0.11485906509796444.\n",
      "[I 2025-07-15 16:12:36,033] Trial 21 finished with value: 0.1151581900332475 and parameters: {'iterations': 7798, 'learning_rate': 0.008460959176274985, 'depth': 5}. Best is trial 4 with value: 0.11485906509796444.\n",
      "[I 2025-07-15 16:12:46,962] Trial 22 finished with value: 0.1152567134985401 and parameters: {'iterations': 7289, 'learning_rate': 0.005172221918781229, 'depth': 5}. Best is trial 4 with value: 0.11485906509796444.\n",
      "[I 2025-07-15 16:13:02,012] Trial 23 finished with value: 0.11590234963802157 and parameters: {'iterations': 6372, 'learning_rate': 0.008986351023197326, 'depth': 6}. Best is trial 4 with value: 0.11485906509796444.\n",
      "[I 2025-07-15 16:13:09,803] Trial 24 finished with value: 0.11532122301922464 and parameters: {'iterations': 7923, 'learning_rate': 0.01624643081010391, 'depth': 4}. Best is trial 4 with value: 0.11485906509796444.\n",
      "[I 2025-07-15 16:13:20,539] Trial 25 finished with value: 0.11511728467592425 and parameters: {'iterations': 7392, 'learning_rate': 0.007270847090899909, 'depth': 5}. Best is trial 4 with value: 0.11485906509796444.\n",
      "[I 2025-07-15 16:13:28,435] Trial 26 finished with value: 0.11506686449543696 and parameters: {'iterations': 5487, 'learning_rate': 0.007847807139554077, 'depth': 5}. Best is trial 4 with value: 0.11485906509796444.\n",
      "[I 2025-07-15 16:13:39,294] Trial 27 finished with value: 0.11665596575009106 and parameters: {'iterations': 4985, 'learning_rate': 0.02006636778860487, 'depth': 6}. Best is trial 4 with value: 0.11485906509796444.\n",
      "[I 2025-07-15 16:13:43,298] Trial 28 finished with value: 0.11572393517699055 and parameters: {'iterations': 3966, 'learning_rate': 0.011408039260969104, 'depth': 4}. Best is trial 4 with value: 0.11485906509796444.\n",
      "[I 2025-07-15 16:13:55,435] Trial 29 finished with value: 0.11578065423069604 and parameters: {'iterations': 5460, 'learning_rate': 0.0073166378398032425, 'depth': 6}. Best is trial 4 with value: 0.11485906509796444.\n",
      "[I 2025-07-15 16:14:02,176] Trial 30 finished with value: 0.11642515524901145 and parameters: {'iterations': 6877, 'learning_rate': 0.03122411513145842, 'depth': 4}. Best is trial 4 with value: 0.11485906509796444.\n",
      "[I 2025-07-15 16:14:12,237] Trial 31 finished with value: 0.1150113039431892 and parameters: {'iterations': 7135, 'learning_rate': 0.0072575241058556545, 'depth': 5}. Best is trial 4 with value: 0.11485906509796444.\n",
      "[I 2025-07-15 16:14:21,584] Trial 32 finished with value: 0.1152664793364588 and parameters: {'iterations': 6649, 'learning_rate': 0.010136936068291946, 'depth': 5}. Best is trial 4 with value: 0.11485906509796444.\n",
      "[I 2025-07-15 16:14:32,838] Trial 33 finished with value: 0.11486448423547296 and parameters: {'iterations': 7371, 'learning_rate': 0.013089610591275409, 'depth': 5}. Best is trial 4 with value: 0.11485906509796444.\n",
      "[I 2025-07-15 16:14:42,972] Trial 34 finished with value: 0.11554627588158577 and parameters: {'iterations': 7356, 'learning_rate': 0.013803116873519641, 'depth': 5}. Best is trial 4 with value: 0.11485906509796444.\n",
      "[I 2025-07-15 16:14:58,743] Trial 35 finished with value: 0.11650869319517114 and parameters: {'iterations': 7069, 'learning_rate': 0.01930491348303316, 'depth': 6}. Best is trial 4 with value: 0.11485906509796444.\n",
      "[I 2025-07-15 16:15:12,344] Trial 36 finished with value: 0.11599258589395062 and parameters: {'iterations': 6160, 'learning_rate': 0.006456813326561565, 'depth': 6}. Best is trial 4 with value: 0.11485906509796444.\n",
      "[I 2025-07-15 16:15:23,179] Trial 37 finished with value: 0.11519074223375204 and parameters: {'iterations': 7278, 'learning_rate': 0.009994414735090303, 'depth': 5}. Best is trial 4 with value: 0.11485906509796444.\n",
      "[I 2025-07-15 16:15:49,346] Trial 38 finished with value: 0.11795665775321187 and parameters: {'iterations': 7392, 'learning_rate': 0.035436953992007726, 'depth': 7}. Best is trial 4 with value: 0.11485906509796444.\n",
      "[I 2025-07-15 16:15:55,392] Trial 39 finished with value: 0.11721000079405709 and parameters: {'iterations': 6751, 'learning_rate': 0.048036496014553315, 'depth': 4}. Best is trial 4 with value: 0.11485906509796444.\n",
      "[I 2025-07-15 16:16:00,071] Trial 40 finished with value: 0.11522516777479355 and parameters: {'iterations': 3096, 'learning_rate': 0.013199565173133598, 'depth': 5}. Best is trial 4 with value: 0.11485906509796444.\n",
      "[I 2025-07-15 16:16:08,034] Trial 41 finished with value: 0.11515675123748134 and parameters: {'iterations': 5820, 'learning_rate': 0.007828746585305111, 'depth': 5}. Best is trial 4 with value: 0.11485906509796444.\n",
      "[I 2025-07-15 16:16:15,503] Trial 42 finished with value: 0.11533754441325672 and parameters: {'iterations': 5219, 'learning_rate': 0.006833320018931413, 'depth': 5}. Best is trial 4 with value: 0.11485906509796444.\n",
      "[I 2025-07-15 16:16:24,184] Trial 43 finished with value: 0.11517873914074044 and parameters: {'iterations': 6077, 'learning_rate': 0.008739069762227563, 'depth': 5}. Best is trial 4 with value: 0.11485906509796444.\n",
      "[I 2025-07-15 16:16:35,071] Trial 44 finished with value: 0.11493755418590165 and parameters: {'iterations': 7670, 'learning_rate': 0.0062477093036548735, 'depth': 5}. Best is trial 4 with value: 0.11485906509796444.\n",
      "[I 2025-07-15 16:16:41,895] Trial 45 finished with value: 0.11530090626825433 and parameters: {'iterations': 7575, 'learning_rate': 0.006086499928825044, 'depth': 4}. Best is trial 4 with value: 0.11485906509796444.\n",
      "[I 2025-07-15 16:16:43,790] Trial 46 finished with value: 0.12041827343028873 and parameters: {'iterations': 1185, 'learning_rate': 0.009786684490258704, 'depth': 5}. Best is trial 4 with value: 0.11485906509796444.\n",
      "[I 2025-07-15 16:17:01,489] Trial 47 finished with value: 0.11635410567697696 and parameters: {'iterations': 7984, 'learning_rate': 0.011732423396363505, 'depth': 6}. Best is trial 4 with value: 0.11485906509796444.\n",
      "[I 2025-07-15 16:17:08,345] Trial 48 finished with value: 0.11538799079191274 and parameters: {'iterations': 7569, 'learning_rate': 0.0050305751819062034, 'depth': 4}. Best is trial 4 with value: 0.11485906509796444.\n",
      "[I 2025-07-15 16:17:17,670] Trial 49 finished with value: 0.11602027781922244 and parameters: {'iterations': 6447, 'learning_rate': 0.017897474394476844, 'depth': 5}. Best is trial 4 with value: 0.11485906509796444.\n",
      "[I 2025-07-15 16:17:27,914] Trial 50 finished with value: 0.12293358881649925 and parameters: {'iterations': 6938, 'learning_rate': 0.19678621695739976, 'depth': 5}. Best is trial 4 with value: 0.11485906509796444.\n",
      "[I 2025-07-15 16:17:38,181] Trial 51 finished with value: 0.1152344531311043 and parameters: {'iterations': 7580, 'learning_rate': 0.007514352867909958, 'depth': 5}. Best is trial 4 with value: 0.11485906509796444.\n",
      "[I 2025-07-15 16:17:47,879] Trial 52 finished with value: 0.11637538988248543 and parameters: {'iterations': 7054, 'learning_rate': 0.07589396430610068, 'depth': 5}. Best is trial 4 with value: 0.11485906509796444.\n",
      "[I 2025-07-15 16:17:58,787] Trial 53 finished with value: 0.11511217238440419 and parameters: {'iterations': 7630, 'learning_rate': 0.005695015346295151, 'depth': 5}. Best is trial 4 with value: 0.11485906509796444.\n",
      "[I 2025-07-15 16:18:09,973] Trial 54 finished with value: 0.11596578872636233 and parameters: {'iterations': 4698, 'learning_rate': 0.008459095239938466, 'depth': 6}. Best is trial 4 with value: 0.11485906509796444.\n",
      "[I 2025-07-15 16:18:15,817] Trial 55 finished with value: 0.11576362150971117 and parameters: {'iterations': 4316, 'learning_rate': 0.006620929416859478, 'depth': 5}. Best is trial 4 with value: 0.11485906509796444.\n",
      "[I 2025-07-15 16:18:27,525] Trial 56 finished with value: 0.1163189124092542 and parameters: {'iterations': 7892, 'learning_rate': 0.024527219541563717, 'depth': 5}. Best is trial 4 with value: 0.11485906509796444.\n",
      "[I 2025-07-15 16:18:33,333] Trial 57 finished with value: 0.11534017829136685 and parameters: {'iterations': 6339, 'learning_rate': 0.01190168977039236, 'depth': 4}. Best is trial 4 with value: 0.11485906509796444.\n",
      "[I 2025-07-15 16:18:43,443] Trial 58 finished with value: 0.11605933836164252 and parameters: {'iterations': 7101, 'learning_rate': 0.015700244329067716, 'depth': 5}. Best is trial 4 with value: 0.11485906509796444.\n",
      "[I 2025-07-15 16:18:57,983] Trial 59 finished with value: 0.11598736658078496 and parameters: {'iterations': 6642, 'learning_rate': 0.00965154178838048, 'depth': 6}. Best is trial 4 with value: 0.11485906509796444.\n",
      "[I 2025-07-15 16:19:06,073] Trial 60 finished with value: 0.11569542444634541 and parameters: {'iterations': 5732, 'learning_rate': 0.005798892338869922, 'depth': 5}. Best is trial 4 with value: 0.11485906509796444.\n",
      "[I 2025-07-15 16:19:17,175] Trial 61 finished with value: 0.11537354043595427 and parameters: {'iterations': 7629, 'learning_rate': 0.0055875698383667455, 'depth': 5}. Best is trial 4 with value: 0.11485906509796444.\n",
      "[I 2025-07-15 16:19:28,460] Trial 62 finished with value: 0.11514766721518022 and parameters: {'iterations': 7715, 'learning_rate': 0.00808975269183398, 'depth': 5}. Best is trial 4 with value: 0.11485906509796444.\n",
      "[I 2025-07-15 16:19:39,020] Trial 63 finished with value: 0.11504962222624224 and parameters: {'iterations': 7299, 'learning_rate': 0.006303650858930548, 'depth': 5}. Best is trial 4 with value: 0.11485906509796444.\n",
      "[I 2025-07-15 16:19:49,473] Trial 64 finished with value: 0.1151919088626507 and parameters: {'iterations': 7251, 'learning_rate': 0.006768897894184765, 'depth': 5}. Best is trial 4 with value: 0.11485906509796444.\n",
      "[I 2025-07-15 16:20:00,329] Trial 65 finished with value: 0.11881065342527265 and parameters: {'iterations': 7425, 'learning_rate': 0.12244104291859835, 'depth': 5}. Best is trial 4 with value: 0.11485906509796444.\n",
      "[I 2025-07-15 16:20:06,635] Trial 66 finished with value: 0.11564324178155821 and parameters: {'iterations': 6834, 'learning_rate': 0.011109898951490529, 'depth': 4}. Best is trial 4 with value: 0.11485906509796444.\n",
      "[I 2025-07-15 16:20:11,354] Trial 67 finished with value: 0.11591670767911627 and parameters: {'iterations': 7851, 'learning_rate': 0.007624893155707444, 'depth': 3}. Best is trial 4 with value: 0.11485906509796444.\n",
      "[I 2025-07-15 16:20:23,154] Trial 68 finished with value: 0.11487400562913976 and parameters: {'iterations': 7993, 'learning_rate': 0.009099743189030297, 'depth': 5}. Best is trial 4 with value: 0.11485906509796444.\n",
      "[I 2025-07-15 16:20:39,026] Trial 69 finished with value: 0.11615056220773814 and parameters: {'iterations': 7203, 'learning_rate': 0.013014883222917445, 'depth': 6}. Best is trial 4 with value: 0.11485906509796444.\n",
      "[I 2025-07-15 16:20:50,004] Trial 70 finished with value: 0.11546312424955961 and parameters: {'iterations': 7992, 'learning_rate': 0.009841070610420407, 'depth': 5}. Best is trial 4 with value: 0.11485906509796444.\n",
      "[I 2025-07-15 16:21:01,123] Trial 71 finished with value: 0.11567905561146898 and parameters: {'iterations': 7379, 'learning_rate': 0.008909305585486613, 'depth': 5}. Best is trial 4 with value: 0.11485906509796444.\n",
      "[I 2025-07-15 16:21:12,128] Trial 72 finished with value: 0.11517398420813171 and parameters: {'iterations': 7764, 'learning_rate': 0.00640368661038449, 'depth': 5}. Best is trial 4 with value: 0.11485906509796444.\n",
      "[I 2025-07-15 16:21:21,939] Trial 73 finished with value: 0.11490542514056114 and parameters: {'iterations': 7004, 'learning_rate': 0.0072941205177936225, 'depth': 5}. Best is trial 4 with value: 0.11485906509796444.\n",
      "[I 2025-07-15 16:21:32,173] Trial 74 finished with value: 0.11525579173437434 and parameters: {'iterations': 7453, 'learning_rate': 0.007036514778374443, 'depth': 5}. Best is trial 4 with value: 0.11485906509796444.\n",
      "Best CatBoost RMSE: 0.1149\n",
      "Evaluating CatBoost_Optimized...\n",
      "  RMSE: 0.1143 (+/- 0.0113)\n",
      "  Baseline RMSE (CV): 0.1166\n",
      "  Optimized RMSE (Optuna): 0.1149\n",
      "  Optimized RMSE (CV eval): 0.1143\n",
      "  Improvement (baseline CV vs optimized CV): 0.0023\n"
     ]
    }
   ],
   "source": [
    "def objective_catboost(trial):\n",
    "    \"\"\"Objective function for CatBoost hyperparameter optimization\"\"\"\n",
    "    params = {\n",
    "        'iterations': trial.suggest_int('iterations', 1000, 8000),\n",
    "        'learning_rate': trial.suggest_float('learning_rate', 0.005, 0.3, log=True),\n",
    "        'depth': trial.suggest_int('depth', 3, 7),\n",
    "        'eval_metric': 'RMSE',\n",
    "        'random_state': RANDOM_STATE,\n",
    "        'verbose': False\n",
    "    }\n",
    "    \n",
    "    model = CatBoostRegressor(**params)\n",
    "    cv_scores = cross_val_score(model, X_train_split, y_train, cv=cv_strategy,\n",
    "                                scoring='neg_mean_squared_error', n_jobs=-1)\n",
    "    return np.sqrt(-cv_scores.mean())\n",
    "\n",
    "print(\"\\nOptimizing CatBoost...\")\n",
    "study_catboost = optuna.create_study(direction='minimize', study_name='catboost_optimization')\n",
    "study_catboost.optimize(objective_catboost, n_trials=75, show_progress_bar=True)\n",
    "\n",
    "print(f\"Best CatBoost RMSE: {study_catboost.best_value:.4f}\")\n",
    "best_catboost_params = study_catboost.best_params\n",
    "best_catboost = CatBoostRegressor(**best_catboost_params, random_state=RANDOM_STATE, verbose=False)\n",
    "catboost_result = evaluate_model_cv(best_catboost, X_train_split, y_train, cv_strategy, \"CatBoost_Optimized\")\n",
    "catboost_result['best_params'] = best_catboost_params\n",
    "\n",
    "print(f\"  Baseline RMSE (CV): {baseline_results['CatBoost']['cv_rmse_mean']:.4f}\")\n",
    "print(f\"  Optimized RMSE (Optuna): {study_catboost.best_value:.4f}\")\n",
    "print(f\"  Optimized RMSE (CV eval): {catboost_result['cv_rmse_mean']:.4f}\")\n",
    "improvement = baseline_results['CatBoost']['cv_rmse_mean'] - catboost_result['cv_rmse_mean']\n",
    "print(f\"  Improvement (baseline CV vs optimized CV): {improvement:.4f}\")"
   ]
  },
  {
   "cell_type": "markdown",
   "id": "dacd9163",
   "metadata": {},
   "source": [
    "CatBoost showed a modest improvement after optimization, with the RMSE decreasing from 0.1166 (baseline CV) to 0.1143 (optimized CV evaluation). The improvement of 0.0023 suggests that tuning had a small but measurable effect on performance.\n",
    "\n",
    "### 3.8 LightGBM Optimization\n",
    "Optimize LightGBM with gradient boosting and leaf-wise tree growth parameters."
   ]
  },
  {
   "cell_type": "code",
   "execution_count": 15,
   "id": "39694d17",
   "metadata": {},
   "outputs": [
    {
     "name": "stderr",
     "output_type": "stream",
     "text": [
      "[I 2025-07-15 16:21:43,049] A new study created in memory with name: lightgbm_optimization\n"
     ]
    },
    {
     "name": "stdout",
     "output_type": "stream",
     "text": [
      "\n",
      "Optimizing LightGBM...\n"
     ]
    },
    {
     "data": {
      "application/vnd.jupyter.widget-view+json": {
       "model_id": "dc599fe2d630418c8f8a11ffeef425f1",
       "version_major": 2,
       "version_minor": 0
      },
      "text/plain": [
       "  0%|          | 0/75 [00:00<?, ?it/s]"
      ]
     },
     "metadata": {},
     "output_type": "display_data"
    },
    {
     "name": "stdout",
     "output_type": "stream",
     "text": [
      "[I 2025-07-15 16:21:48,180] Trial 0 finished with value: 0.17070600366190783 and parameters: {'n_estimators': 6700, 'max_depth': 4, 'learning_rate': 0.18771640917513788, 'subsample': 0.6781129208739136, 'colsample_bytree': 0.6121198123449142, 'min_child_samples': 88, 'reg_alpha': 9.82186871673033, 'reg_lambda': 5.901392379940298}. Best is trial 0 with value: 0.17070600366190783.\n",
      "[I 2025-07-15 16:21:55,245] Trial 1 finished with value: 0.1297706048488239 and parameters: {'n_estimators': 1089, 'max_depth': 4, 'learning_rate': 0.008227863569129292, 'subsample': 0.6447207473228928, 'colsample_bytree': 0.3620055436905002, 'min_child_samples': 43, 'reg_alpha': 0.7065475216012482, 'reg_lambda': 0.12785758289728338}. Best is trial 1 with value: 0.1297706048488239.\n",
      "[I 2025-07-15 16:22:06,305] Trial 2 finished with value: 0.1390059542407407 and parameters: {'n_estimators': 2198, 'max_depth': 14, 'learning_rate': 0.009604456082360081, 'subsample': 0.6884379623006328, 'colsample_bytree': 0.8232021193515138, 'min_child_samples': 94, 'reg_alpha': 0.04323191607230819, 'reg_lambda': 0.01465740746364908}. Best is trial 1 with value: 0.1297706048488239.\n",
      "[I 2025-07-15 16:22:23,540] Trial 3 finished with value: 0.13172444604142072 and parameters: {'n_estimators': 2141, 'max_depth': 8, 'learning_rate': 0.008738002056461433, 'subsample': 0.6123506726031442, 'colsample_bytree': 0.44913513753727496, 'min_child_samples': 70, 'reg_alpha': 0.07983801978879157, 'reg_lambda': 1.070577486149034}. Best is trial 1 with value: 0.1297706048488239.\n",
      "[I 2025-07-15 16:22:29,240] Trial 4 finished with value: 0.1276127889387197 and parameters: {'n_estimators': 1979, 'max_depth': 5, 'learning_rate': 0.05966396031669394, 'subsample': 0.6976933180690696, 'colsample_bytree': 0.570493683938722, 'min_child_samples': 31, 'reg_alpha': 0.3885074792682456, 'reg_lambda': 0.8447851002555168}. Best is trial 4 with value: 0.1276127889387197.\n",
      "[I 2025-07-15 16:22:39,785] Trial 5 finished with value: 0.14548790483898955 and parameters: {'n_estimators': 4687, 'max_depth': 14, 'learning_rate': 0.1871776294926075, 'subsample': 0.4573803166931849, 'colsample_bytree': 0.5186341148114951, 'min_child_samples': 86, 'reg_alpha': 0.16247640091004467, 'reg_lambda': 0.1750455944901542}. Best is trial 4 with value: 0.1276127889387197.\n",
      "[I 2025-07-15 16:34:01,266] Trial 6 finished with value: 0.12650533978979733 and parameters: {'n_estimators': 7002, 'max_depth': 9, 'learning_rate': 0.005323389590230621, 'subsample': 0.6189137498867922, 'colsample_bytree': 0.7492202202666586, 'min_child_samples': 6, 'reg_alpha': 0.10721048955489794, 'reg_lambda': 0.5273768137824802}. Best is trial 6 with value: 0.12650533978979733.\n",
      "[I 2025-07-15 16:34:12,304] Trial 7 finished with value: 0.15104636198851043 and parameters: {'n_estimators': 6861, 'max_depth': 8, 'learning_rate': 0.1899631137197844, 'subsample': 0.5387183273795154, 'colsample_bytree': 0.6838350686065965, 'min_child_samples': 99, 'reg_alpha': 0.12199589002783551, 'reg_lambda': 2.0146239877952765}. Best is trial 6 with value: 0.12650533978979733.\n",
      "[I 2025-07-15 16:34:22,634] Trial 8 finished with value: 0.14932102314954535 and parameters: {'n_estimators': 3360, 'max_depth': 11, 'learning_rate': 0.009254934386775306, 'subsample': 0.7284475406367567, 'colsample_bytree': 0.3117441768313981, 'min_child_samples': 99, 'reg_alpha': 4.341307514656162, 'reg_lambda': 0.3093633923306418}. Best is trial 6 with value: 0.12650533978979733.\n",
      "[I 2025-07-15 16:34:28,779] Trial 9 finished with value: 0.13527880900982264 and parameters: {'n_estimators': 3793, 'max_depth': 5, 'learning_rate': 0.16131633497811926, 'subsample': 0.775524187580882, 'colsample_bytree': 0.22989719270110412, 'min_child_samples': 58, 'reg_alpha': 1.8502680239391283, 'reg_lambda': 0.4678282669555185}. Best is trial 6 with value: 0.12650533978979733.\n",
      "[I 2025-07-15 16:35:18,059] Trial 10 finished with value: 0.1252030468982211 and parameters: {'n_estimators': 5560, 'max_depth': 11, 'learning_rate': 0.02547008658284435, 'subsample': 0.5192626208820862, 'colsample_bytree': 0.986470600751035, 'min_child_samples': 10, 'reg_alpha': 0.011315491136255374, 'reg_lambda': 0.040337223105906664}. Best is trial 10 with value: 0.1252030468982211.\n",
      "[I 2025-07-15 16:35:47,674] Trial 11 finished with value: 0.12764053181499893 and parameters: {'n_estimators': 7929, 'max_depth': 11, 'learning_rate': 0.026324336359139, 'subsample': 0.5295125214721641, 'colsample_bytree': 0.9588444151509968, 'min_child_samples': 6, 'reg_alpha': 0.02627735886842132, 'reg_lambda': 0.04011575221217255}. Best is trial 10 with value: 0.1252030468982211.\n",
      "[I 2025-07-15 16:36:20,448] Trial 12 finished with value: 0.12834736991956977 and parameters: {'n_estimators': 5559, 'max_depth': 11, 'learning_rate': 0.024364195027860112, 'subsample': 0.5409888709126458, 'colsample_bytree': 0.9762294542819501, 'min_child_samples': 6, 'reg_alpha': 0.018992986367192464, 'reg_lambda': 0.06320815261329948}. Best is trial 10 with value: 0.1252030468982211.\n",
      "[I 2025-07-15 16:37:30,777] Trial 13 finished with value: 0.12628577517382258 and parameters: {'n_estimators': 5772, 'max_depth': 9, 'learning_rate': 0.0051372742298366894, 'subsample': 0.435093674570983, 'colsample_bytree': 0.8172138875152577, 'min_child_samples': 22, 'reg_alpha': 0.012799579204450483, 'reg_lambda': 0.026898652272141943}. Best is trial 10 with value: 0.1252030468982211.\n",
      "[I 2025-07-15 16:38:16,851] Trial 14 finished with value: 0.12847465173975317 and parameters: {'n_estimators': 5470, 'max_depth': 12, 'learning_rate': 0.04604396151941934, 'subsample': 0.41119460908567196, 'colsample_bytree': 0.8508311572119585, 'min_child_samples': 25, 'reg_alpha': 0.012208106704339824, 'reg_lambda': 0.010768388637006238}. Best is trial 10 with value: 0.1252030468982211.\n",
      "[I 2025-07-15 16:38:37,043] Trial 15 finished with value: 0.130407757128993 and parameters: {'n_estimators': 5622, 'max_depth': 7, 'learning_rate': 0.08840253999077087, 'subsample': 0.4733040570024788, 'colsample_bytree': 0.8827701911845008, 'min_child_samples': 27, 'reg_alpha': 0.010318286279017517, 'reg_lambda': 0.029865648682695554}. Best is trial 10 with value: 0.1252030468982211.\n",
      "[I 2025-07-15 16:39:44,237] Trial 16 finished with value: 0.12875304504319882 and parameters: {'n_estimators': 4450, 'max_depth': 13, 'learning_rate': 0.01783734256849342, 'subsample': 0.4015660578875448, 'colsample_bytree': 0.9998009585389563, 'min_child_samples': 18, 'reg_alpha': 0.04134184847862738, 'reg_lambda': 0.09567600724199705}. Best is trial 10 with value: 0.1252030468982211.\n",
      "[I 2025-07-15 16:40:46,997] Trial 17 finished with value: 0.13060811805469083 and parameters: {'n_estimators': 6079, 'max_depth': 10, 'learning_rate': 0.014943655509957101, 'subsample': 0.4691334529973769, 'colsample_bytree': 0.7556853185072843, 'min_child_samples': 43, 'reg_alpha': 0.03318049467836344, 'reg_lambda': 0.024019084426058237}. Best is trial 10 with value: 0.1252030468982211.\n",
      "[I 2025-07-15 16:40:56,809] Trial 18 finished with value: 0.12912322235549614 and parameters: {'n_estimators': 7910, 'max_depth': 15, 'learning_rate': 0.08428735782935214, 'subsample': 0.5048212148267568, 'colsample_bytree': 0.9076562309047262, 'min_child_samples': 17, 'reg_alpha': 0.24428288442770413, 'reg_lambda': 0.05833957182569658}. Best is trial 10 with value: 0.1252030468982211.\n",
      "[I 2025-07-15 16:41:32,787] Trial 19 finished with value: 0.13007124735252357 and parameters: {'n_estimators': 4730, 'max_depth': 7, 'learning_rate': 0.005344466598087831, 'subsample': 0.5609252373398371, 'colsample_bytree': 0.7805664659394835, 'min_child_samples': 37, 'reg_alpha': 0.7214971870835201, 'reg_lambda': 0.02258441513196741}. Best is trial 10 with value: 0.1252030468982211.\n",
      "[I 2025-07-15 16:41:59,463] Trial 20 finished with value: 0.13339112607388606 and parameters: {'n_estimators': 3644, 'max_depth': 9, 'learning_rate': 0.03337883990024926, 'subsample': 0.4389948780509242, 'colsample_bytree': 0.671776512931037, 'min_child_samples': 59, 'reg_alpha': 0.060213244339147695, 'reg_lambda': 0.250069039975805}. Best is trial 10 with value: 0.1252030468982211.\n",
      "[I 2025-07-15 16:43:43,897] Trial 21 finished with value: 0.126213798773209 and parameters: {'n_estimators': 6914, 'max_depth': 9, 'learning_rate': 0.005496710223019041, 'subsample': 0.5900330603580043, 'colsample_bytree': 0.7159906886480935, 'min_child_samples': 16, 'reg_alpha': 0.019277746501741116, 'reg_lambda': 1.8055237564747024}. Best is trial 10 with value: 0.1252030468982211.\n",
      "[I 2025-07-15 16:45:33,324] Trial 22 finished with value: 0.1267010507454699 and parameters: {'n_estimators': 6281, 'max_depth': 10, 'learning_rate': 0.014441983134396857, 'subsample': 0.5807282890232578, 'colsample_bytree': 0.6938769201165474, 'min_child_samples': 16, 'reg_alpha': 0.01570874570131051, 'reg_lambda': 7.577704838551267}. Best is trial 10 with value: 0.1252030468982211.\n",
      "[I 2025-07-15 16:46:57,575] Trial 23 finished with value: 0.12800798680105124 and parameters: {'n_estimators': 7056, 'max_depth': 7, 'learning_rate': 0.0052097907785193555, 'subsample': 0.5138005739679611, 'colsample_bytree': 0.905124718028026, 'min_child_samples': 16, 'reg_alpha': 0.02340254496488545, 'reg_lambda': 3.149578645694853}. Best is trial 10 with value: 0.1252030468982211.\n",
      "[I 2025-07-15 16:48:18,920] Trial 24 finished with value: 0.12759621332610527 and parameters: {'n_estimators': 5258, 'max_depth': 12, 'learning_rate': 0.01261877594073261, 'subsample': 0.49744151454438734, 'colsample_bytree': 0.8017942899565398, 'min_child_samples': 24, 'reg_alpha': 0.010476697694598669, 'reg_lambda': 1.9549143669834994}. Best is trial 10 with value: 0.1252030468982211.\n",
      "[I 2025-07-15 16:49:21,043] Trial 25 finished with value: 0.129292308082077 and parameters: {'n_estimators': 6028, 'max_depth': 9, 'learning_rate': 0.007202240902806533, 'subsample': 0.5814307397062851, 'colsample_bytree': 0.9189252083027568, 'min_child_samples': 35, 'reg_alpha': 0.020626148584589662, 'reg_lambda': 0.07044424233264984}. Best is trial 10 with value: 0.1252030468982211.\n",
      "[I 2025-07-15 16:49:53,694] Trial 26 finished with value: 0.12538874143507353 and parameters: {'n_estimators': 7461, 'max_depth': 6, 'learning_rate': 0.020682884693441747, 'subsample': 0.43479309116469445, 'colsample_bytree': 0.7117341119683077, 'min_child_samples': 11, 'reg_alpha': 0.05500859104688777, 'reg_lambda': 0.016620440892132424}. Best is trial 10 with value: 0.1252030468982211.\n",
      "[I 2025-07-15 16:50:28,716] Trial 27 finished with value: 0.1232571519594894 and parameters: {'n_estimators': 7606, 'max_depth': 6, 'learning_rate': 0.024548719689878984, 'subsample': 0.48938364805326084, 'colsample_bytree': 0.4741877745045271, 'min_child_samples': 8, 'reg_alpha': 0.059255292841072796, 'reg_lambda': 0.013628944822848014}. Best is trial 27 with value: 0.1232571519594894.\n",
      "[I 2025-07-15 16:51:04,627] Trial 28 finished with value: 0.12270606157963126 and parameters: {'n_estimators': 7448, 'max_depth': 3, 'learning_rate': 0.024082878390526825, 'subsample': 0.49514696391432017, 'colsample_bytree': 0.43686595745142054, 'min_child_samples': 11, 'reg_alpha': 0.06758852346403284, 'reg_lambda': 0.011041937673164805}. Best is trial 28 with value: 0.12270606157963126.\n",
      "[I 2025-07-15 16:51:27,076] Trial 29 finished with value: 0.1291064074601962 and parameters: {'n_estimators': 6449, 'max_depth': 3, 'learning_rate': 0.03613981348022042, 'subsample': 0.48354711709159304, 'colsample_bytree': 0.4446028619477774, 'min_child_samples': 46, 'reg_alpha': 0.20664006456609918, 'reg_lambda': 0.010383287186779867}. Best is trial 28 with value: 0.12270606157963126.\n",
      "[I 2025-07-15 16:51:42,336] Trial 30 finished with value: 0.13127707215537232 and parameters: {'n_estimators': 7428, 'max_depth': 3, 'learning_rate': 0.0490010541002257, 'subsample': 0.5580658525857655, 'colsample_bytree': 0.5027568417977198, 'min_child_samples': 70, 'reg_alpha': 0.4650933884238292, 'reg_lambda': 0.03933551318843537}. Best is trial 28 with value: 0.12270606157963126.\n",
      "[I 2025-07-15 16:52:16,492] Trial 31 finished with value: 0.1242934903199767 and parameters: {'n_estimators': 7473, 'max_depth': 5, 'learning_rate': 0.020347954813901687, 'subsample': 0.43745577744032893, 'colsample_bytree': 0.6219674825862906, 'min_child_samples': 11, 'reg_alpha': 0.048691481218387046, 'reg_lambda': 0.01684926259325535}. Best is trial 28 with value: 0.12270606157963126.\n",
      "[I 2025-07-15 16:52:48,215] Trial 32 finished with value: 0.12120449986764807 and parameters: {'n_estimators': 7629, 'max_depth': 4, 'learning_rate': 0.02720542171820917, 'subsample': 0.5138364648522503, 'colsample_bytree': 0.3656099394872258, 'min_child_samples': 11, 'reg_alpha': 0.07776146660827372, 'reg_lambda': 0.01832660709870054}. Best is trial 32 with value: 0.12120449986764807.\n",
      "[I 2025-07-15 16:53:28,747] Trial 33 finished with value: 0.12160587501592737 and parameters: {'n_estimators': 7572, 'max_depth': 4, 'learning_rate': 0.018703269525287326, 'subsample': 0.4494211609943321, 'colsample_bytree': 0.36631374680904777, 'min_child_samples': 11, 'reg_alpha': 0.08267915123158597, 'reg_lambda': 0.015408626746534477}. Best is trial 32 with value: 0.12120449986764807.\n",
      "[I 2025-07-15 16:54:00,708] Trial 34 finished with value: 0.12644486503012953 and parameters: {'n_estimators': 7953, 'max_depth': 4, 'learning_rate': 0.03044434780974445, 'subsample': 0.49639638773197453, 'colsample_bytree': 0.38483490432345874, 'min_child_samples': 31, 'reg_alpha': 0.11418952957714341, 'reg_lambda': 0.010195191986880691}. Best is trial 32 with value: 0.12120449986764807.\n",
      "[I 2025-07-15 17:09:58,422] Trial 35 finished with value: 0.12101206423423236 and parameters: {'n_estimators': 7415, 'max_depth': 4, 'learning_rate': 0.011310097932114566, 'subsample': 0.63962817352837, 'colsample_bytree': 0.34094265352186065, 'min_child_samples': 11, 'reg_alpha': 0.07675502431417446, 'reg_lambda': 0.015745596016684228}. Best is trial 35 with value: 0.12101206423423236.\n",
      "[I 2025-07-15 17:10:42,025] Trial 36 finished with value: 0.12187017491671397 and parameters: {'n_estimators': 6506, 'max_depth': 4, 'learning_rate': 0.011874978661350613, 'subsample': 0.6630854235536647, 'colsample_bytree': 0.31222886982453674, 'min_child_samples': 22, 'reg_alpha': 0.08106865199027118, 'reg_lambda': 0.018095877174225998}. Best is trial 35 with value: 0.12101206423423236.\n",
      "[I 2025-07-15 17:11:26,441] Trial 37 finished with value: 0.12206858411145687 and parameters: {'n_estimators': 6607, 'max_depth': 4, 'learning_rate': 0.01072949287589181, 'subsample': 0.6461161927668183, 'colsample_bytree': 0.27216625586457033, 'min_child_samples': 21, 'reg_alpha': 0.08597684505901554, 'reg_lambda': 0.12960075391839762}. Best is trial 35 with value: 0.12101206423423236.\n",
      "[I 2025-07-15 17:12:12,196] Trial 38 finished with value: 0.12386143585145853 and parameters: {'n_estimators': 7195, 'max_depth': 4, 'learning_rate': 0.00754355505197682, 'subsample': 0.6578670931601653, 'colsample_bytree': 0.36113002722308024, 'min_child_samples': 30, 'reg_alpha': 0.17534897578178504, 'reg_lambda': 0.018800055061385153}. Best is trial 35 with value: 0.12101206423423236.\n",
      "[I 2025-07-15 17:12:51,444] Trial 39 finished with value: 0.12480325394250512 and parameters: {'n_estimators': 6455, 'max_depth': 6, 'learning_rate': 0.011932473784635108, 'subsample': 0.7130457429205377, 'colsample_bytree': 0.32308998836294406, 'min_child_samples': 35, 'reg_alpha': 0.34205777836867773, 'reg_lambda': 0.04060528336266267}. Best is trial 35 with value: 0.12101206423423236.\n",
      "[I 2025-07-15 17:28:13,731] Trial 40 finished with value: 0.1343398564419289 and parameters: {'n_estimators': 6742, 'max_depth': 5, 'learning_rate': 0.016112547457506225, 'subsample': 0.6181730005333322, 'colsample_bytree': 0.20986598335523715, 'min_child_samples': 84, 'reg_alpha': 0.7423656343106614, 'reg_lambda': 0.027486166019589958}. Best is trial 35 with value: 0.12101206423423236.\n",
      "[I 2025-07-15 17:28:21,667] Trial 41 finished with value: 0.12027529012053975 and parameters: {'n_estimators': 1170, 'max_depth': 4, 'learning_rate': 0.010741797683659349, 'subsample': 0.6458628487588456, 'colsample_bytree': 0.27760278809799604, 'min_child_samples': 21, 'reg_alpha': 0.09420613355720346, 'reg_lambda': 0.16009143633390047}. Best is trial 41 with value: 0.12027529012053975.\n",
      "[I 2025-07-15 17:28:29,394] Trial 42 finished with value: 0.1192239068212308 and parameters: {'n_estimators': 1550, 'max_depth': 3, 'learning_rate': 0.009510915350751303, 'subsample': 0.6684510641678616, 'colsample_bytree': 0.27783274171174577, 'min_child_samples': 13, 'reg_alpha': 0.1372657192180392, 'reg_lambda': 0.016966992591480455}. Best is trial 42 with value: 0.1192239068212308.\n",
      "[I 2025-07-15 17:28:34,848] Trial 43 finished with value: 0.12240692751214216 and parameters: {'n_estimators': 1030, 'max_depth': 3, 'learning_rate': 0.009095174728589292, 'subsample': 0.6839864742715857, 'colsample_bytree': 0.25749171230762113, 'min_child_samples': 5, 'reg_alpha': 0.13130193779267274, 'reg_lambda': 0.7993977130149578}. Best is trial 42 with value: 0.1192239068212308.\n",
      "[I 2025-07-15 17:28:46,512] Trial 44 finished with value: 0.12194761840003945 and parameters: {'n_estimators': 1536, 'max_depth': 4, 'learning_rate': 0.006858733897651142, 'subsample': 0.6064126366646733, 'colsample_bytree': 0.3841544716172509, 'min_child_samples': 13, 'reg_alpha': 0.2647430005260781, 'reg_lambda': 0.09204321007835123}. Best is trial 42 with value: 0.1192239068212308.\n",
      "[I 2025-07-15 17:29:01,293] Trial 45 finished with value: 0.12198871509329987 and parameters: {'n_estimators': 1556, 'max_depth': 5, 'learning_rate': 0.01874078631851929, 'subsample': 0.7421413320769349, 'colsample_bytree': 0.3478752032347561, 'min_child_samples': 20, 'reg_alpha': 0.15228920448523392, 'reg_lambda': 0.20447301156931236}. Best is trial 42 with value: 0.1192239068212308.\n",
      "[I 2025-07-15 17:29:14,496] Trial 46 finished with value: 0.11837033376553684 and parameters: {'n_estimators': 2795, 'max_depth': 3, 'learning_rate': 0.009473852045039621, 'subsample': 0.6366064919766997, 'colsample_bytree': 0.2604503145853728, 'min_child_samples': 15, 'reg_alpha': 0.03663355610406066, 'reg_lambda': 0.41250311123969496}. Best is trial 46 with value: 0.11837033376553684.\n",
      "[I 2025-07-15 17:29:25,655] Trial 47 finished with value: 0.12069677961106898 and parameters: {'n_estimators': 2578, 'max_depth': 3, 'learning_rate': 0.010165503136845357, 'subsample': 0.6337433948912723, 'colsample_bytree': 0.270210208770118, 'min_child_samples': 29, 'reg_alpha': 0.03433490201244056, 'reg_lambda': 0.5813236117259698}. Best is trial 46 with value: 0.11837033376553684.\n",
      "[I 2025-07-15 17:29:37,505] Trial 48 finished with value: 0.1209611093098804 and parameters: {'n_estimators': 2642, 'max_depth': 3, 'learning_rate': 0.006441146645147523, 'subsample': 0.636789624427615, 'colsample_bytree': 0.26464008805994627, 'min_child_samples': 28, 'reg_alpha': 0.035843631746112, 'reg_lambda': 0.42021051266038834}. Best is trial 46 with value: 0.11837033376553684.\n",
      "[I 2025-07-15 17:29:49,695] Trial 49 finished with value: 0.12442807830864763 and parameters: {'n_estimators': 2655, 'max_depth': 3, 'learning_rate': 0.006346438027072838, 'subsample': 0.6329185041429107, 'colsample_bytree': 0.26805942470833083, 'min_child_samples': 41, 'reg_alpha': 0.03273764203304376, 'reg_lambda': 0.3621470688914593}. Best is trial 46 with value: 0.11837033376553684.\n",
      "[I 2025-07-15 17:30:02,848] Trial 50 finished with value: 0.12051754230205959 and parameters: {'n_estimators': 2823, 'max_depth': 3, 'learning_rate': 0.008613348046255357, 'subsample': 0.6976335274323852, 'colsample_bytree': 0.23707870058374705, 'min_child_samples': 27, 'reg_alpha': 0.03461903033474401, 'reg_lambda': 0.42138947797239334}. Best is trial 46 with value: 0.11837033376553684.\n",
      "[I 2025-07-15 17:30:14,864] Trial 51 finished with value: 0.12017480294435419 and parameters: {'n_estimators': 2621, 'max_depth': 3, 'learning_rate': 0.008871283053879438, 'subsample': 0.6990973198067592, 'colsample_bytree': 0.23589115565923596, 'min_child_samples': 28, 'reg_alpha': 0.03305391091935021, 'reg_lambda': 0.627648059348806}. Best is trial 46 with value: 0.11837033376553684.\n",
      "[I 2025-07-15 17:30:27,360] Trial 52 finished with value: 0.11926615208076677 and parameters: {'n_estimators': 2643, 'max_depth': 3, 'learning_rate': 0.008224106229394856, 'subsample': 0.7033293869522163, 'colsample_bytree': 0.20075439738888462, 'min_child_samples': 25, 'reg_alpha': 0.028562352106427224, 'reg_lambda': 0.6454182469001865}. Best is trial 46 with value: 0.11837033376553684.\n",
      "[I 2025-07-15 17:30:40,872] Trial 53 finished with value: 0.11863245681512034 and parameters: {'n_estimators': 2975, 'max_depth': 3, 'learning_rate': 0.008182793813205797, 'subsample': 0.7022171932207895, 'colsample_bytree': 0.20084003230704428, 'min_child_samples': 24, 'reg_alpha': 0.03008998426869628, 'reg_lambda': 1.234845236971966}. Best is trial 46 with value: 0.11837033376553684.\n",
      "[I 2025-07-15 17:31:04,826] Trial 54 finished with value: 0.12477339569543282 and parameters: {'n_estimators': 3126, 'max_depth': 5, 'learning_rate': 0.008217015452304608, 'subsample': 0.7298693300401059, 'colsample_bytree': 0.20221925517908867, 'min_child_samples': 51, 'reg_alpha': 0.025072257019876518, 'reg_lambda': 1.3089513136026631}. Best is trial 46 with value: 0.11837033376553684.\n",
      "[I 2025-07-15 17:31:14,661] Trial 55 finished with value: 0.13483176737153119 and parameters: {'n_estimators': 1984, 'max_depth': 3, 'learning_rate': 0.28800008804867455, 'subsample': 0.7651720991923631, 'colsample_bytree': 0.3027238826472535, 'min_child_samples': 24, 'reg_alpha': 0.014490130477372404, 'reg_lambda': 0.6787425082853491}. Best is trial 46 with value: 0.11837033376553684.\n",
      "[I 2025-07-15 17:31:21,461] Trial 56 finished with value: 0.152328085738196 and parameters: {'n_estimators': 2212, 'max_depth': 5, 'learning_rate': 0.014357454887190037, 'subsample': 0.6708374598581553, 'colsample_bytree': 0.23052909335543387, 'min_child_samples': 34, 'reg_alpha': 6.583085105101652, 'reg_lambda': 1.082386312683397}. Best is trial 46 with value: 0.11837033376553684.\n",
      "[I 2025-07-15 17:31:28,476] Trial 57 finished with value: 0.12119963285514468 and parameters: {'n_estimators': 1434, 'max_depth': 3, 'learning_rate': 0.010037423517689544, 'subsample': 0.7033137826306783, 'colsample_bytree': 0.2970160063377427, 'min_child_samples': 20, 'reg_alpha': 0.04454809514131658, 'reg_lambda': 3.318593053559043}. Best is trial 46 with value: 0.11837033376553684.\n",
      "[I 2025-07-15 17:31:58,419] Trial 58 finished with value: 0.12028683560793549 and parameters: {'n_estimators': 4020, 'max_depth': 4, 'learning_rate': 0.007908881448518775, 'subsample': 0.7504582451162728, 'colsample_bytree': 0.40977015642650105, 'min_child_samples': 15, 'reg_alpha': 0.017325905744821356, 'reg_lambda': 1.1892935335986636}. Best is trial 46 with value: 0.11837033376553684.\n",
      "[I 2025-07-15 17:32:28,102] Trial 59 finished with value: 0.12361237971915172 and parameters: {'n_estimators': 3114, 'max_depth': 6, 'learning_rate': 0.005814751768142265, 'subsample': 0.7986047536083125, 'colsample_bytree': 0.2047613070545714, 'min_child_samples': 40, 'reg_alpha': 0.027717108882452324, 'reg_lambda': 0.31609380368060086}. Best is trial 46 with value: 0.11837033376553684.\n",
      "[I 2025-07-15 17:32:38,643] Trial 60 finished with value: 0.1217487219547538 and parameters: {'n_estimators': 2292, 'max_depth': 3, 'learning_rate': 0.01388658204996257, 'subsample': 0.6840968605271441, 'colsample_bytree': 0.24317777365541476, 'min_child_samples': 32, 'reg_alpha': 0.10738102051235933, 'reg_lambda': 0.913819306972384}. Best is trial 46 with value: 0.11837033376553684.\n",
      "[I 2025-07-15 17:33:06,358] Trial 61 finished with value: 0.1203632505675322 and parameters: {'n_estimators': 3780, 'max_depth': 4, 'learning_rate': 0.007814115361354417, 'subsample': 0.7466838688406652, 'colsample_bytree': 0.40800642803792075, 'min_child_samples': 15, 'reg_alpha': 0.018155788109779948, 'reg_lambda': 1.4657688902110615}. Best is trial 46 with value: 0.11837033376553684.\n",
      "[I 2025-07-15 17:33:34,478] Trial 62 finished with value: 0.1214418966011576 and parameters: {'n_estimators': 4121, 'max_depth': 4, 'learning_rate': 0.009389132060120004, 'subsample': 0.7122318710880992, 'colsample_bytree': 0.2901627860797569, 'min_child_samples': 25, 'reg_alpha': 0.016608145316332704, 'reg_lambda': 0.562243156745475}. Best is trial 46 with value: 0.11837033376553684.\n",
      "[I 2025-07-15 17:33:50,215] Trial 63 finished with value: 0.1222262903535173 and parameters: {'n_estimators': 1759, 'max_depth': 5, 'learning_rate': 0.008129857289812088, 'subsample': 0.6540306160195108, 'colsample_bytree': 0.563972014213218, 'min_child_samples': 18, 'reg_alpha': 0.04387121499561368, 'reg_lambda': 0.7304094319032177}. Best is trial 46 with value: 0.11837033376553684.\n",
      "[I 2025-07-15 17:34:08,662] Trial 64 finished with value: 0.11787374674444236 and parameters: {'n_estimators': 3497, 'max_depth': 3, 'learning_rate': 0.006831418992172088, 'subsample': 0.6724421311065499, 'colsample_bytree': 0.22472189202344234, 'min_child_samples': 14, 'reg_alpha': 0.02792483927931928, 'reg_lambda': 2.9342994679506806}. Best is trial 64 with value: 0.11787374674444236.\n",
      "[I 2025-07-15 17:34:25,821] Trial 65 finished with value: 0.11972716709449632 and parameters: {'n_estimators': 3384, 'max_depth': 3, 'learning_rate': 0.006095759153721915, 'subsample': 0.6730798109955546, 'colsample_bytree': 0.22632482663987996, 'min_child_samples': 19, 'reg_alpha': 0.026981746961339, 'reg_lambda': 4.323796671776647}. Best is trial 64 with value: 0.11787374674444236.\n",
      "[I 2025-07-15 17:34:43,002] Trial 66 finished with value: 0.1176175234047301 and parameters: {'n_estimators': 3383, 'max_depth': 3, 'learning_rate': 0.00629854505825865, 'subsample': 0.6731376062274274, 'colsample_bytree': 0.2228861117942048, 'min_child_samples': 8, 'reg_alpha': 0.02664608385668524, 'reg_lambda': 3.3220327864416124}. Best is trial 66 with value: 0.1176175234047301.\n",
      "[I 2025-07-15 17:35:55,985] Trial 67 finished with value: 0.11907739688339565 and parameters: {'n_estimators': 3579, 'max_depth': 8, 'learning_rate': 0.006029325119889178, 'subsample': 0.6807091595638796, 'colsample_bytree': 0.21845583299746985, 'min_child_samples': 8, 'reg_alpha': 0.023914822964125445, 'reg_lambda': 4.1995127439063085}. Best is trial 66 with value: 0.1176175234047301.\n",
      "[I 2025-07-15 17:37:08,478] Trial 68 finished with value: 0.11951781794686635 and parameters: {'n_estimators': 3576, 'max_depth': 8, 'learning_rate': 0.00503067955871339, 'subsample': 0.721128275396596, 'colsample_bytree': 0.20356644197199503, 'min_child_samples': 8, 'reg_alpha': 0.022735900950965778, 'reg_lambda': 5.894224454439228}. Best is trial 66 with value: 0.1176175234047301.\n",
      "[I 2025-07-15 17:38:20,816] Trial 69 finished with value: 0.12083197427364888 and parameters: {'n_estimators': 2989, 'max_depth': 10, 'learning_rate': 0.006769758678596799, 'subsample': 0.6724777668519796, 'colsample_bytree': 0.3216603535489524, 'min_child_samples': 8, 'reg_alpha': 0.050079806394729545, 'reg_lambda': 2.83531739679936}. Best is trial 66 with value: 0.1176175234047301.\n",
      "[I 2025-07-15 17:39:37,067] Trial 70 finished with value: 0.11963853779296105 and parameters: {'n_estimators': 3349, 'max_depth': 8, 'learning_rate': 0.005852893784599382, 'subsample': 0.690885617133017, 'colsample_bytree': 0.24924432398090157, 'min_child_samples': 5, 'reg_alpha': 0.013316567212481869, 'reg_lambda': 2.455319747020444}. Best is trial 66 with value: 0.1176175234047301.\n",
      "[I 2025-07-15 17:41:08,445] Trial 71 finished with value: 0.12038991252708096 and parameters: {'n_estimators': 3575, 'max_depth': 13, 'learning_rate': 0.005066698521530019, 'subsample': 0.7236983643625807, 'colsample_bytree': 0.20170349092521955, 'min_child_samples': 7, 'reg_alpha': 0.02145898933258662, 'reg_lambda': 6.432451275903211}. Best is trial 66 with value: 0.1176175234047301.\n",
      "[I 2025-07-15 17:42:50,898] Trial 72 finished with value: 0.11999658444677909 and parameters: {'n_estimators': 4183, 'max_depth': 15, 'learning_rate': 0.007053307998573273, 'subsample': 0.717064541469811, 'colsample_bytree': 0.2214096091286148, 'min_child_samples': 14, 'reg_alpha': 0.02370459553373869, 'reg_lambda': 4.1994113905744115}. Best is trial 66 with value: 0.1176175234047301.\n",
      "[I 2025-07-15 17:43:14,143] Trial 73 finished with value: 0.13340942096120864 and parameters: {'n_estimators': 2403, 'max_depth': 7, 'learning_rate': 0.005721947823647215, 'subsample': 0.6613805085206252, 'colsample_bytree': 0.25008341642692383, 'min_child_samples': 9, 'reg_alpha': 2.442502533381068, 'reg_lambda': 9.03912056786759}. Best is trial 66 with value: 0.1176175234047301.\n",
      "[I 2025-07-15 17:44:45,913] Trial 74 finished with value: 0.12029591913144073 and parameters: {'n_estimators': 4414, 'max_depth': 8, 'learning_rate': 0.007142187353977338, 'subsample': 0.7309395274316933, 'colsample_bytree': 0.2865195632546286, 'min_child_samples': 8, 'reg_alpha': 0.028688879148625883, 'reg_lambda': 4.327000301943655}. Best is trial 66 with value: 0.1176175234047301.\n",
      "Best LightGBM RMSE: 0.1176\n",
      "Evaluating LightGBM_Optimized...\n",
      "  RMSE: 0.1172 (+/- 0.0102)\n",
      "  Baseline RMSE (CV): 0.1309\n",
      "  Optimized RMSE (Optuna): 0.1176\n",
      "  Optimized RMSE (CV eval): 0.1172\n",
      "  Improvement (baseline CV vs optimized CV): 0.0137\n"
     ]
    }
   ],
   "source": [
    "def objective_lightgbm(trial):\n",
    "    \"\"\"Objective function for LightGBM hyperparameter optimization\"\"\"\n",
    "    params = {\n",
    "        'n_estimators': trial.suggest_int('n_estimators', 1000, 8000),\n",
    "        'max_depth': trial.suggest_int('max_depth', 3, 15),\n",
    "        'learning_rate': trial.suggest_float('learning_rate', 0.005, 0.3, log=True),\n",
    "        'subsample': trial.suggest_float('subsample', 0.4, 0.8),\n",
    "        'colsample_bytree': trial.suggest_float('colsample_bytree', 0.2, 1.0),\n",
    "        'min_child_samples': trial.suggest_int('min_child_samples', 5, 100),\n",
    "        'reg_alpha': trial.suggest_float('reg_alpha', 0.01, 10.0, log=True),\n",
    "        'reg_lambda': trial.suggest_float('reg_lambda', 0.01, 10.0, log=True),\n",
    "        'random_state': RANDOM_STATE,\n",
    "        'n_jobs': -1,\n",
    "        'verbose': -1\n",
    "    }\n",
    "    \n",
    "    model = LGBMRegressor(**params)\n",
    "    cv_scores = cross_val_score(model, X_train_split, y_train, cv=cv_strategy,\n",
    "                                scoring='neg_mean_squared_error', n_jobs=1)\n",
    "    return np.sqrt(-cv_scores.mean())\n",
    "\n",
    "print(\"\\nOptimizing LightGBM...\")\n",
    "study_lightgbm = optuna.create_study(direction='minimize', study_name='lightgbm_optimization')\n",
    "study_lightgbm.optimize(objective_lightgbm, n_trials=75, show_progress_bar=True)\n",
    "\n",
    "print(f\"Best LightGBM RMSE: {study_lightgbm.best_value:.4f}\")\n",
    "best_lightgbm_params = study_lightgbm.best_params\n",
    "best_lightgbm = LGBMRegressor(**best_lightgbm_params, random_state=RANDOM_STATE, n_jobs=-1, verbose=-1)\n",
    "lightgbm_result = evaluate_model_cv(best_lightgbm, X_train_split, y_train, cv_strategy, \"LightGBM_Optimized\")\n",
    "lightgbm_result['best_params'] = best_lightgbm_params\n",
    "\n",
    "print(f\"  Baseline RMSE (CV): {baseline_results['LightGBM']['cv_rmse_mean']:.4f}\")\n",
    "print(f\"  Optimized RMSE (Optuna): {study_lightgbm.best_value:.4f}\")\n",
    "print(f\"  Optimized RMSE (CV eval): {lightgbm_result['cv_rmse_mean']:.4f}\")\n",
    "improvement = baseline_results['LightGBM']['cv_rmse_mean'] - lightgbm_result['cv_rmse_mean']\n",
    "print(f\"  Improvement (baseline CV vs optimized CV): {improvement:.4f}\")"
   ]
  },
  {
   "cell_type": "markdown",
   "id": "2f75c253",
   "metadata": {},
   "source": [
    "LightGBM demonstrated a noticeable improvement through optimization, reducing the RMSE from 0.1309 (baseline CV) to 0.1172 (optimized CV evaluation). The improvement of 0.0137 indicates that hyperparameter tuning contributed meaningfully to performance gains.\n",
    "\n",
    "### 3.9 Optimization Results Summary\n",
    "Collect all optimized results and create a comparison."
   ]
  },
  {
   "cell_type": "code",
   "execution_count": 40,
   "id": "40bbf0d5",
   "metadata": {},
   "outputs": [
    {
     "name": "stdout",
     "output_type": "stream",
     "text": [
      "\n",
      "================================================================================\n",
      "OPTIMIZATION RESULTS SUMMARY\n",
      "================================================================================\n",
      "Model                Baseline RMSE   Optimized RMSE  Improvement \n",
      "--------------------------------------------------------------------------------\n",
      "Ridge                0.1218          0.1218          -0.0000     \n",
      "Lasso                0.3203          0.1175          0.2029      \n",
      "ElasticNet           0.3174          0.1175          0.1999      \n",
      "RandomForest         0.1418          0.1412          0.0005      \n",
      "GradientBoosting     0.1281          0.1227          0.0054      \n",
      "XGBoost              0.1419          0.1148          0.0270      \n",
      "CatBoost             0.1166          0.1143          0.0023      \n",
      "LightGBM             0.1309          0.1172          0.0137      \n",
      "Models optimized: 8\n"
     ]
    }
   ],
   "source": [
    "# Collect all optimized results\n",
    "optimized_results = {\n",
    "    'Ridge_Optimized': ridge_result,\n",
    "    'Lasso_Optimized': lasso_result,\n",
    "    'ElasticNet_Optimized': elasticnet_result,\n",
    "    'RandomForest_Optimized': rf_result,\n",
    "    'GradientBoosting_Optimized': gb_result,\n",
    "    'XGBoost_Optimized': xgb_result,\n",
    "    'CatBoost_Optimized': catboost_result,\n",
    "    'LightGBM_Optimized': lightgbm_result\n",
    "}\n",
    "\n",
    "\n",
    "print(f\"\\n\" + \"=\"*80)\n",
    "print(\"OPTIMIZATION RESULTS SUMMARY\")\n",
    "print(\"=\"*80)\n",
    "print(f\"{'Model':<20} {'Baseline RMSE':<15} {'Optimized RMSE':<15} {'Improvement':<12}\")\n",
    "print(\"-\"*80)\n",
    "\n",
    "for model_name in ['Ridge', 'Lasso', 'ElasticNet', 'RandomForest', 'GradientBoosting', 'XGBoost', 'CatBoost', 'LightGBM']:\n",
    "    baseline_rmse = baseline_results[model_name]['cv_rmse_mean']\n",
    "    optimized_rmse = optimized_results[f\"{model_name}_Optimized\"]['cv_rmse_mean']\n",
    "    improvement = baseline_rmse - optimized_rmse\n",
    "    print(f\"{model_name:<20} {baseline_rmse:<15.4f} {optimized_rmse:<15.4f} {improvement:<12.4f}\")\n",
    "\n",
    "print(f\"Models optimized: {len(optimized_results)}\")"
   ]
  },
  {
   "cell_type": "markdown",
   "id": "ba851932",
   "metadata": {},
   "source": [
    "Among the eight optimized models, Lasso and ElasticNet showed the largest improvements with RMSE reductions of 0.2029 and 0.1999, respectively, suggesting that regularization played a significant role in reducing overfitting.\n",
    "XGBoost and LightGBM also benefited from tuning, improving by 0.0270 and 0.0137, while GradientBoosting, CatBoost, and RandomForest saw more modest gains.\n",
    "Ridge regression remained stable with no change in RMSE, indicating that its baseline configuration was already near optimal."
   ]
  },
  {
   "cell_type": "markdown",
   "id": "6530b376",
   "metadata": {},
   "source": [
    "## 4. Ensemble Methods\n",
    "### 4.1 Simple Ensemble (Equal Weighting)\n",
    "Create the first ensemble by averaging predictions from the top 3 performing models. This approach combines different models that make different types of errors, with model diversity helping to reduce overfitting while capturing different patterns in the data."
   ]
  },
  {
   "cell_type": "code",
   "execution_count": 42,
   "id": "51c6a55e",
   "metadata": {},
   "outputs": [
    {
     "name": "stdout",
     "output_type": "stream",
     "text": [
      "\n",
      "================================================================================\n",
      "ENSEMBLE METHODS\n",
      "================================================================================\n",
      "Top 4 models selected for ensembling:\n",
      "  1. CatBoost_Optimized: 0.1143\n",
      "  2. XGBoost_Optimized: 0.1148\n",
      "  3. LightGBM_Optimized: 0.1172\n",
      "  4. Lasso_Optimized: 0.1175\n",
      "Evaluating Simple_Ensemble...\n",
      "  RMSE: 0.1117 (+/- 0.0100)\n",
      "  Best Individual RMSE: 0.1143\n",
      "  Improvement over best individual model: 2.31%\n"
     ]
    }
   ],
   "source": [
    "print(\"\\n\" + \"=\"*80)\n",
    "print(\"ENSEMBLE METHODS\")\n",
    "print(\"=\"*80)\n",
    "\n",
    "# Select top 4 models for ensembling\n",
    "top_models = sorted(optimized_results.items(), key=lambda x: x[1]['cv_rmse_mean'])[:4]\n",
    "\n",
    "print(\"Top 4 models selected for ensembling:\")\n",
    "for i, (name, result) in enumerate(top_models, 1):\n",
    "    print(f\"  {i}. {name}: {result['cv_rmse_mean']:.4f}\")\n",
    "\n",
    "# Get model objects\n",
    "model_map = {\n",
    "    'XGBoost': best_xgb,\n",
    "    'CatBoost': best_catboost,\n",
    "    'LightGBM': best_lightgbm,\n",
    "    'RandomForest': best_rf,\n",
    "    'Lasso': best_lasso,\n",
    "    'ElasticNet': best_elasticnet\n",
    "}\n",
    "\n",
    "top_model_objects = [model_map[name.replace('_Optimized', '')] for name, _ in top_models]\n",
    "top_model_names = [name for name, _ in top_models]\n",
    "\n",
    "# Simple ensemble implementation\n",
    "class SimpleEnsemble(BaseEstimator, RegressorMixin):\n",
    "    \"\"\"\n",
    "    Simple ensemble that averages predictions from multiple models\n",
    "    \"\"\"\n",
    "    def __init__(self, models):\n",
    "        self.models = models\n",
    "        \n",
    "    def fit(self, X, y):\n",
    "        self.fitted_models_ = []\n",
    "        for model in self.models:\n",
    "            fitted_model = clone(model)\n",
    "            fitted_model.fit(X, y)\n",
    "            self.fitted_models_.append(fitted_model)\n",
    "        return self\n",
    "    \n",
    "    def predict(self, X):\n",
    "        predictions = np.array([model.predict(X) for model in self.fitted_models_])\n",
    "        return np.mean(predictions, axis=0)\n",
    "\n",
    "# Create simple ensemble\n",
    "simple_ensemble_models = top_model_objects\n",
    "simple_ensemble = SimpleEnsemble(simple_ensemble_models)\n",
    "\n",
    "# Calculate best individual model's RMSE\n",
    "best_individual_rmse = top_models[0][1]['cv_rmse_mean']  # Lowest RMSE from top models\n",
    "\n",
    "# Evaluate simple ensemble\n",
    "simple_result = evaluate_model_cv(simple_ensemble, X_train_split, y_train, cv_strategy, \"Simple_Ensemble\")\n",
    "\n",
    "# Add validation RMSE\n",
    "simple_ensemble.fit(X_train_split, y_train)\n",
    "simple_val_pred = simple_ensemble.predict(X_val)\n",
    "simple_val_rmse = np.sqrt(mean_squared_error(y_val, simple_val_pred))\n",
    "simple_result['val_rmse'] = simple_val_rmse\n",
    "\n",
    "# Calculate percentage improvement over best individual model\n",
    "ensemble_rmse = simple_result['cv_rmse_mean']\n",
    "ensemble_improvement = (best_individual_rmse - ensemble_rmse) / best_individual_rmse * 100\n",
    "\n",
    "# Save result\n",
    "ensemble_results = {'Simple_Ensemble': simple_result}\n",
    "\n",
    "\n",
    "print(f\"  Best Individual RMSE: {best_individual_rmse:.4f}\")\n",
    "print(f\"  Improvement over best individual model: {ensemble_improvement:.2f}%\")\n"
   ]
  },
  {
   "cell_type": "markdown",
   "id": "37499237",
   "metadata": {},
   "source": [
    "Created a simple ensemble from the top 4 performing models with equal weighting.\n",
    "The ensemble achieved an RMSE of 0.1117, representing a 2.28% improvement over the best individual model (CatBoost_Optimized, RMSE: 0.1143).\n",
    "\n",
    "### 4.2 Weighted Ensemble (Performance-Based Weighting)\n",
    "Create a weighted ensemble where models receive weights proportional to their performance, calculated using inverse RMSE scores. For example, if Model A has RMSE=0.1 and Model B has RMSE=0.2, then Model A gets weight 1/0.1=10 and Model B gets weight 1/0.2=5, normalized to sum to 1."
   ]
  },
  {
   "cell_type": "code",
   "execution_count": 45,
   "id": "22ac28a7",
   "metadata": {},
   "outputs": [
    {
     "name": "stdout",
     "output_type": "stream",
     "text": [
      "\n",
      "Ensemble weights based on inverse RMSE:\n",
      "  CatBoost_Optimized: 0.254\n",
      "  XGBoost_Optimized: 0.252\n",
      "  LightGBM_Optimized: 0.247\n",
      "  Lasso_Optimized: 0.247\n",
      "Evaluating Weighted_Ensemble...\n",
      "  RMSE: 0.1117 (+/- 0.0101)\n"
     ]
    }
   ],
   "source": [
    "# Weighted ensemble implementation\n",
    "class WeightedEnsemble(BaseEstimator, RegressorMixin):\n",
    "    \"\"\"\n",
    "    Weighted ensemble using performance-based weights\n",
    "    \"\"\"\n",
    "    def __init__(self, models, weights):\n",
    "        self.models = models\n",
    "        self.weights = weights\n",
    "        \n",
    "    def fit(self, X, y):\n",
    "        self.fitted_models_ = []\n",
    "        for model in self.models:\n",
    "            fitted_model = clone(model)\n",
    "            fitted_model.fit(X, y)\n",
    "            self.fitted_models_.append(fitted_model)\n",
    "        return self\n",
    "    \n",
    "    def predict(self, X):\n",
    "        predictions = np.array([model.predict(X) for model in self.fitted_models_])\n",
    "        weighted_predictions = np.average(predictions, axis=0, weights=self.weights)\n",
    "        return weighted_predictions\n",
    "\n",
    "# Calculate performance-based weights\n",
    "rmse_scores = [result['cv_rmse_mean'] for _, result in top_models]\n",
    "weights = [1/rmse for rmse in rmse_scores]\n",
    "weights = np.array(weights) / np.sum(weights)  # Normalize\n",
    "\n",
    "print(f\"\\nEnsemble weights based on inverse RMSE:\")\n",
    "for i, ((name, _), weight) in enumerate(zip(top_models, weights)):\n",
    "    print(f\"  {name}: {weight:.3f}\")\n",
    "\n",
    "# Create weighted ensemble\n",
    "weighted_ensemble = WeightedEnsemble(simple_ensemble_models, weights)\n",
    "\n",
    "# Evaluate weighted ensemble\n",
    "weighted_result = evaluate_model_cv(weighted_ensemble, X_train_split, y_train, cv_strategy, \"Weighted_Ensemble\")\n",
    "\n",
    "# Add validation RMSE\n",
    "weighted_ensemble.fit(X_train_split, y_train)\n",
    "weighted_val_pred = weighted_ensemble.predict(X_val)\n",
    "weighted_val_rmse = np.sqrt(mean_squared_error(y_val, weighted_val_pred))\n",
    "weighted_result['val_rmse'] = weighted_val_rmse\n",
    "\n",
    "ensemble_results['Weighted_Ensemble'] = weighted_result"
   ]
  },
  {
   "cell_type": "markdown",
   "id": "f04f7259",
   "metadata": {},
   "source": [
    "The weighted ensemble assigned higher importance to models with lower cross-validated RMSE, using inverse-RMSE weighting. CatBoost and XGBoost received slightly higher weights, but all four models contributed comparably. The final weighted ensemble achieved an RMSE of 0.1117 (± 0.0101), matching the performance of the simple average ensemble.\n",
    "\n",
    "### 4.3 Stacking Ensemble (Meta-Learning)\n",
    "Implement a stacking ensemble approach where a meta-learner (Ridge regression) learns how to combine predictions from base models. The base models make cross-validated predictions, then a meta-learner is trained to predict the target using these predictions as features."
   ]
  },
  {
   "cell_type": "code",
   "execution_count": 46,
   "id": "e71fc747",
   "metadata": {},
   "outputs": [
    {
     "name": "stdout",
     "output_type": "stream",
     "text": [
      "Evaluating Stacking_Ensemble...\n",
      "  RMSE: 0.1114 (+/- 0.0095)\n",
      "\n",
      "======================================================================\n",
      "ENSEMBLE METHOD RESULTS\n",
      "======================================================================\n",
      "Method               CV RMSE      CV Std     Val RMSE    \n",
      "----------------------------------------------------------------------\n",
      "Stacking_Ensemble    0.1114       0.0095     0.1176      \n",
      "Simple_Ensemble      0.1117       0.0100     0.1193      \n",
      "Weighted_Ensemble    0.1117       0.0101     0.1193      \n",
      "----------------------------------------------------------------------\n"
     ]
    }
   ],
   "source": [
    "# Stacking ensemble with Ridge meta-learner\n",
    "stacking_ensemble = StackingRegressor(\n",
    "    estimators=[(f\"model_{i}\", model) for i, model in enumerate(simple_ensemble_models)],\n",
    "    final_estimator=Ridge(alpha=1.0),\n",
    "    cv=3,\n",
    "    n_jobs=-1\n",
    ")\n",
    "\n",
    "# Evaluate stacking ensemble\n",
    "stacking_result = evaluate_model_cv(stacking_ensemble, X_train_split, y_train, cv_strategy, \"Stacking_Ensemble\")\n",
    "\n",
    "# Add validation RMSE\n",
    "stacking_ensemble.fit(X_train_split, y_train)\n",
    "stacking_val_pred = stacking_ensemble.predict(X_val)\n",
    "stacking_val_rmse = np.sqrt(mean_squared_error(y_val, stacking_val_pred))\n",
    "stacking_result['val_rmse'] = stacking_val_rmse\n",
    "\n",
    "ensemble_results['Stacking_Ensemble'] = stacking_result\n",
    "\n",
    "# Display ensemble results\n",
    "print(\"\\n\" + \"=\"*70)\n",
    "print(\"ENSEMBLE METHOD RESULTS\")\n",
    "print(\"=\"*70)\n",
    "print(f\"{'Method':<20} {'CV RMSE':<12} {'CV Std':<10} {'Val RMSE':<12}\")\n",
    "print(\"-\"*70)\n",
    "for name, result in sorted(ensemble_results.items(), key=lambda x: x[1]['cv_rmse_mean']):\n",
    "    print(f\"{name:<20} {result['cv_rmse_mean']:<12.4f} {result['cv_rmse_std']:<10.4f} {result['val_rmse']:<12.4f}\")\n",
    "print(\"-\"*70)"
   ]
  },
  {
   "cell_type": "markdown",
   "id": "3b1ceef5",
   "metadata": {},
   "source": [
    "Among the ensemble methods evaluated, the Stacking Ensemble achieved the lowest cross-validated RMSE (0.1114 ± 0.0095) and also performed best on the validation set (RMSE: 0.1176). Both the Simple and Weighted Ensembles performed similarly, with slightly higher validation errors (0.1193). This suggests that stacking may provide a modest improvement by leveraging a meta-model to combine base learners more effectively.\n",
    "\n",
    "## 5. Final Model Selection and Validation\n",
    "### 5.1 Comprehensive Model Comparison\n",
    "Compare all models (baseline, optimized, and ensemble) to select the final model."
   ]
  },
  {
   "cell_type": "code",
   "execution_count": 47,
   "id": "88480b26",
   "metadata": {},
   "outputs": [
    {
     "name": "stdout",
     "output_type": "stream",
     "text": [
      "\n",
      "==========================================================================================\n",
      "FINAL MODEL PERFORMANCE MATRIX\n",
      "==========================================================================================\n",
      "Model                CV RMSE      CV Std     Notes               \n",
      "------------------------------------------------------------------------------------------\n",
      "Stacking_Ensemble    0.1114       0.0095     Best Model          \n",
      "Simple_Ensemble      0.1117       0.0100                         \n",
      "Weighted_Ensemble    0.1117       0.0101                         \n",
      "CatBoost_Optimized   0.1143       0.0113                         \n",
      "XGBoost_Optimized    0.1148       0.0104                         \n",
      "LightGBM_Optimized   0.1172       0.0102                         \n",
      "Lasso_Optimized      0.1175       0.0082                         \n",
      "ElasticNet_Optimized 0.1175       0.0083                         \n",
      "Ridge_Optimized      0.1218       0.0089                         \n",
      "GradientBoosting_Optimized 0.1227       0.0111                         \n",
      "RandomForest_Optimized 0.1412       0.0096                         \n",
      "\n",
      "FINAL MODEL SELECTED: Stacking_Ensemble\n",
      "Final CV RMSE: 0.1114\n"
     ]
    }
   ],
   "source": [
    "# Combine all results for final comparison\n",
    "all_model_results = {**optimized_results, **ensemble_results}\n",
    "\n",
    "print(\"\\n\" + \"=\"*90)\n",
    "print(\"FINAL MODEL PERFORMANCE MATRIX\")\n",
    "print(\"=\"*90)\n",
    "print(f\"{'Model':<20} {'CV RMSE':<12} {'CV Std':<10} {'Notes':<20}\")\n",
    "print(\"-\"*90)\n",
    "\n",
    "for name, result in sorted(all_model_results.items(), key=lambda x: x[1]['cv_rmse_mean']):\n",
    "    notes = \"Best Model\" if name == min(all_model_results.items(), key=lambda x: x[1]['cv_rmse_mean'])[0] else \"\"\n",
    "    print(f\"{name:<20} {result['cv_rmse_mean']:<12.4f} {result['cv_rmse_std']:<10.4f} {notes:<20}\")\n",
    "\n",
    "# Select final model\n",
    "final_model_name = min(all_model_results.items(), key=lambda x: x[1]['cv_rmse_mean'])[0]\n",
    "final_model_rmse = all_model_results[final_model_name]['cv_rmse_mean']\n",
    "\n",
    "print(f\"\\nFINAL MODEL SELECTED: {final_model_name}\")\n",
    "print(f\"Final CV RMSE: {final_model_rmse:.4f}\")\n",
    "\n",
    "# Get the actual model object\n",
    "if final_model_name == \"Simple_Ensemble\":\n",
    "    final_model = simple_ensemble\n",
    "elif final_model_name == \"Weighted_Ensemble\":\n",
    "    final_model = weighted_ensemble\n",
    "elif final_model_name == \"Stacking_Ensemble\":\n",
    "    final_model = stacking_ensemble\n",
    "else:\n",
    "    final_model = all_model_results[final_model_name]['model']"
   ]
  },
  {
   "cell_type": "markdown",
   "id": "4f79d316",
   "metadata": {},
   "source": [
    "The Stacking Ensemble achieved the best overall cross-validation performance with an RMSE of 0.1114 and was therefore selected as the final model. It marginally outperformed the other ensemble strategies (Simple and Weighted), as well as all individually optimized models, demonstrating the benefit of combining model predictions through a meta-model.\n",
    "\n",
    "### 5.2 Final Model Validation\n",
    "Validate the selected model on the holdout validation set to get an unbiased performance estimate that simulates how the model will perform on truly unseen data."
   ]
  },
  {
   "cell_type": "code",
   "execution_count": 48,
   "id": "1931b7fd",
   "metadata": {},
   "outputs": [
    {
     "name": "stdout",
     "output_type": "stream",
     "text": [
      "\n",
      "============================================================\n",
      "FINAL MODEL VALIDATION\n",
      "============================================================\n"
     ]
    },
    {
     "name": "stdout",
     "output_type": "stream",
     "text": [
      "Validation Metrics:\n",
      "  RMSE (log scale): 0.1176\n",
      "  RMSE (original): $18,713\n",
      "  MAE (original): $13,499\n",
      "  R² Score: 0.9366\n",
      "  Mean Absolute Percentage Error: 8.18%\n",
      "  Median Absolute Percentage Error: 5.46%\n"
     ]
    }
   ],
   "source": [
    "print(\"\\n\" + \"=\"*60)\n",
    "print(\"FINAL MODEL VALIDATION\")\n",
    "print(\"=\"*60)\n",
    "\n",
    "# Fit final model on training data\n",
    "final_model.fit(X_train_split, y_train)\n",
    "\n",
    "# Validation predictions\n",
    "val_predictions_log = final_model.predict(X_val)\n",
    "val_predictions_original = np.exp(val_predictions_log)\n",
    "y_val_original = np.exp(y_val)\n",
    "\n",
    "# Calculate comprehensive metrics\n",
    "val_rmse_log = np.sqrt(mean_squared_error(y_val, val_predictions_log))\n",
    "val_rmse_original = np.sqrt(mean_squared_error(y_val_original, val_predictions_original))\n",
    "val_mae_original = mean_absolute_error(y_val_original, val_predictions_original)\n",
    "val_r2 = r2_score(y_val_original, val_predictions_original)\n",
    "\n",
    "print(f\"Validation Metrics:\")\n",
    "print(f\"  RMSE (log scale): {val_rmse_log:.4f}\")\n",
    "print(f\"  RMSE (original): ${val_rmse_original:,.0f}\")\n",
    "print(f\"  MAE (original): ${val_mae_original:,.0f}\")\n",
    "print(f\"  R² Score: {val_r2:.4f}\")\n",
    "\n",
    "# Percentage errors\n",
    "percentage_errors = np.abs((val_predictions_original - y_val_original) / y_val_original) * 100\n",
    "print(f\"  Mean Absolute Percentage Error: {percentage_errors.mean():.2f}%\")\n",
    "print(f\"  Median Absolute Percentage Error: {np.median(percentage_errors):.2f}%\")\n",
    "\n",
    "# Store validation results\n",
    "all_model_results[final_model_name]['val_rmse'] = val_rmse_log"
   ]
  },
  {
   "cell_type": "markdown",
   "id": "e8d4bd32",
   "metadata": {},
   "source": [
    "The final model (Stacking Ensemble) demonstrates strong generalization performance on the validation set. With an RMSE of $18,713 and an R² of 0.9366, it accurately captures the variance in housing prices. The low MAE ($13,499) and median absolute percentage error (5.46%) suggest the model makes consistently accurate predictions with minimal large deviations.\n",
    "\n",
    "### 5.3 Residual Analysis\n",
    "Analyze model residuals to understand prediction quality and identify potential issues like bias, heteroscedasticity, or non-normality of errors."
   ]
  },
  {
   "cell_type": "code",
   "execution_count": 22,
   "id": "92fc5278",
   "metadata": {},
   "outputs": [
    {
     "name": "stdout",
     "output_type": "stream",
     "text": [
      "\n",
      "Residual Analysis:\n"
     ]
    },
    {
     "data": {
      "image/png": "[encoded data removed]",
      "text/plain": [
       "<Figure size 1500x1000 with 4 Axes>"
      ]
     },
     "metadata": {},
     "output_type": "display_data"
    },
    {
     "name": "stdout",
     "output_type": "stream",
     "text": [
      "Residual Normality Test: statistic=154.3081, p-value=0.0000\n",
      "Normal distribution: No\n",
      "Mean residual: -0.005865\n",
      "Residual std: 0.1176\n"
     ]
    }
   ],
   "source": [
    "print(\"\\nResidual Analysis:\")\n",
    "\n",
    "residuals_log = y_val - val_predictions_log\n",
    "residuals_original = y_val_original - val_predictions_original\n",
    "\n",
    "# Create comprehensive residual plots\n",
    "fig, ((ax1, ax2), (ax3, ax4)) = plt.subplots(2, 2, figsize=(15, 10))\n",
    "\n",
    "# Predicted vs Actual (log scale)\n",
    "ax1.scatter(val_predictions_log, y_val, alpha=0.6, s=20)\n",
    "ax1.plot([y_val.min(), y_val.max()], [y_val.min(), y_val.max()], 'r--', lw=2)\n",
    "ax1.set_xlabel('Predicted (log scale)')\n",
    "ax1.set_ylabel('Actual (log scale)')\n",
    "ax1.set_title('Predicted vs Actual (Log Scale)')\n",
    "ax1.grid(True, alpha=0.3)\n",
    "\n",
    "# Predicted vs Actual (original scale)\n",
    "ax2.scatter(val_predictions_original, y_val_original, alpha=0.6, s=20)\n",
    "ax2.plot([y_val_original.min(), y_val_original.max()], \n",
    "         [y_val_original.min(), y_val_original.max()], 'r--', lw=2)\n",
    "ax2.set_xlabel('Predicted Price ($)')\n",
    "ax2.set_ylabel('Actual Price ($)')\n",
    "ax2.set_title('Predicted vs Actual (Original Scale)')\n",
    "ax2.grid(True, alpha=0.3)\n",
    "\n",
    "# Residuals vs Predicted (log scale)\n",
    "ax3.scatter(val_predictions_log, residuals_log, alpha=0.6, s=20)\n",
    "ax3.axhline(y=0, color='r', linestyle='--')\n",
    "ax3.set_xlabel('Predicted (log scale)')\n",
    "ax3.set_ylabel('Residuals (log scale)')\n",
    "ax3.set_title('Residuals vs Predicted (Log Scale)')\n",
    "ax3.grid(True, alpha=0.3)\n",
    "\n",
    "# Residual distribution\n",
    "ax4.hist(residuals_log, bins=30, alpha=0.7, edgecolor='black')\n",
    "ax4.set_xlabel('Residuals (log scale)')\n",
    "ax4.set_ylabel('Frequency')\n",
    "ax4.set_title('Residual Distribution')\n",
    "ax4.grid(True, alpha=0.3)\n",
    "\n",
    "plt.tight_layout()\n",
    "plt.show()\n",
    "\n",
    "# Statistical analysis of residuals\n",
    "from scipy.stats import normaltest\n",
    "\n",
    "stat, p_value = normaltest(residuals_log)\n",
    "print(f\"Residual Normality Test: statistic={stat:.4f}, p-value={p_value:.4f}\")\n",
    "print(f\"Normal distribution: {'Yes' if p_value > 0.05 else 'No'}\")\n",
    "print(f\"Mean residual: {residuals_log.mean():.6f}\")\n",
    "print(f\"Residual std: {residuals_log.std():.4f}\")"
   ]
  },
  {
   "cell_type": "markdown",
   "id": "bd8e1db9",
   "metadata": {},
   "source": [
    "The residual plots suggest that the model captures the underlying data structure well, with most predictions closely aligned along the diagonal in both log and original scales. The residuals are mostly centered around zero and show no clear heteroscedasticity or strong pattern against predicted values, which supports the assumption of constant variance.\n",
    "\n",
    "However, the residual distribution deviates from normality, as confirmed by the normality test (statistic = 154.31, p-value < 0.0001), and the histogram shows a slight left skew. Despite this, the residual mean is close to zero (−0.006), and the standard deviation (0.118) is consistent with the overall RMSE, suggesting no severe bias.\n",
    "\n",
    "### 5. Feature Importance Analysis\n",
    "Analyze the importance of features used in the final model to understand which variables contribute most to predictions. This can help validate feature engineering decisions and provide insights into the underlying data relationships.\n",
    "\n",
    "### 5.1 Permutation Importance Analysis\n",
    "Assess which features have the greatest impact on the model's performance by measuring the increase in prediction error when each feature’s values are randomly shuffled. This model-agnostic approach offers a robust interpretation of feature relevance and helps validate or challenge assumptions made during feature engineering."
   ]
  },
  {
   "cell_type": "code",
   "execution_count": 38,
   "id": "09e26b8f",
   "metadata": {},
   "outputs": [
    {
     "name": "stdout",
     "output_type": "stream",
     "text": [
      "Calculating Permutation Importance for Stacking_Ensemble...\n",
      "✓ Permutation importance calculated successfully\n",
      "  Repeats: 5\n",
      "  Features analyzed: 191\n",
      "\n",
      "Top 15 Features by Permutation Importance:\n",
      "Feature                   Importance   Std       \n",
      "--------------------------------------------------\n",
      "GrLivArea                 0.0200       0.0010    \n",
      "OverallQual               0.0125       0.0007    \n",
      "OverallCond               0.0035       0.0002    \n",
      "TotalFlrSF                0.0034       0.0002    \n",
      "LotArea                   0.0030       0.0003    \n",
      "HouseAge                  0.0030       0.0003    \n",
      "BsmtFinSF                 0.0025       0.0003    \n",
      "TotalBaths                0.0017       0.0002    \n",
      "YearsSinceRemodel         0.0014       0.0001    \n",
      "SaleCondition_Normal      0.0012       0.0002    \n",
      "KitchenQual               0.0011       0.0002    \n",
      "Functional                0.0007       0.0002    \n",
      "GarageAge                 0.0007       0.0001    \n",
      "LotFrontage               0.0007       0.0001    \n",
      "BsmtUnfSF                 0.0007       0.0001    \n"
     ]
    },
    {
     "data": {
      "image/png": "[encoded data removed]",
      "text/plain": [
       "<Figure size 1000x800 with 1 Axes>"
      ]
     },
     "metadata": {},
     "output_type": "display_data"
    }
   ],
   "source": [
    "def get_permutation_importance(model, X_train, X_val, y_val, model_name=\"Model\", n_repeats=5):\n",
    "    \"\"\"\n",
    "    Calculate permutation importance for any model\n",
    "    Works by shuffling each feature and measuring performance drop\n",
    "    \"\"\"\n",
    "    print(f\"Calculating Permutation Importance for {model_name}...\")\n",
    "    \n",
    "    try:\n",
    "        from sklearn.inspection import permutation_importance\n",
    "        \n",
    "        # Calculate permutation importance\n",
    "        perm_importance = permutation_importance(\n",
    "            model, X_val, y_val,\n",
    "            n_repeats=n_repeats,\n",
    "            random_state=42,\n",
    "            scoring='neg_mean_squared_error',\n",
    "            n_jobs=-1\n",
    "        )\n",
    "        \n",
    "        # Create results dataframe\n",
    "        perm_df = pd.DataFrame({\n",
    "            'Feature': X_train.columns,\n",
    "            'Permutation_Importance': perm_importance.importances_mean,\n",
    "            'Permutation_Std': perm_importance.importances_std\n",
    "        }).sort_values('Permutation_Importance', ascending=False)\n",
    "        \n",
    "        print(\"✓ Permutation importance calculated successfully\")\n",
    "        print(f\"  Repeats: {n_repeats}\")\n",
    "        print(f\"  Features analyzed: {len(X_train.columns)}\")\n",
    "        \n",
    "        # Display top features\n",
    "        print(\"\\nTop 15 Features by Permutation Importance:\")\n",
    "        print(f\"{'Feature':<25} {'Importance':<12} {'Std':<10}\")\n",
    "        print(\"-\" * 50)\n",
    "        for idx, row in perm_df.head(15).iterrows():\n",
    "            print(f\"{row['Feature']:<25} {row['Permutation_Importance']:<12.4f} {row['Permutation_Std']:<10.4f}\")\n",
    "        \n",
    "        # Plot\n",
    "        plt.figure(figsize=(10, 8))\n",
    "        top_features = perm_df.head(20)\n",
    "        \n",
    "        # Bar plot with error bars\n",
    "        plt.barh(range(len(top_features)), top_features['Permutation_Importance'], \n",
    "                xerr=top_features['Permutation_Std'], alpha=0.7)\n",
    "        plt.yticks(range(len(top_features)), top_features['Feature'])\n",
    "        plt.xlabel('Permutation Importance (RMSE increase when shuffled)')\n",
    "        plt.title(f'Top 20 Permutation Feature Importance - {model_name}')\n",
    "        plt.gca().invert_yaxis()\n",
    "        plt.grid(True, alpha=0.3)\n",
    "        plt.tight_layout()\n",
    "        plt.show()\n",
    "        \n",
    "        return perm_df\n",
    "        \n",
    "    except ImportError:\n",
    "        print(\"sklearn.inspection not available. Update scikit-learn:\")\n",
    "        print(\"pip install --upgrade scikit-learn\")\n",
    "        return None\n",
    "    except Exception as e:\n",
    "        print(f\"Permutation importance calculation failed: {e}\")\n",
    "        return None\n",
    "\n",
    "# Usage:\n",
    "perm_importance = get_permutation_importance(final_model, X_train, X_val, y_val, final_model_name)"
   ]
  },
  {
   "cell_type": "markdown",
   "id": "0b655143",
   "metadata": {},
   "source": [
    "GrLivArea emerged as the most influential feature, with a substantial impact on prediction accuracy when shuffled. Other key predictors included OverallQual, OverallCond, and TotalFlrSF. The top features align well with domain expectations, indicating the model’s reliance on both size and quality-related attributes. Most other features showed relatively modest importance, suggesting a smaller marginal contribution to overall predictive performance.\n",
    "\n",
    "### 5.2 Correlation Importance Analysis\n",
    "Compute the linear correlation between each feature and the target variable to identify features with strong direct or inverse relationships. Unlike permutation importance, this method is model-agnostic and does not reflect interaction effects or non-linear dependencies."
   ]
  },
  {
   "cell_type": "code",
   "execution_count": 50,
   "id": "de56ce07",
   "metadata": {},
   "outputs": [
    {
     "name": "stdout",
     "output_type": "stream",
     "text": [
      "Calculating Correlation Importance for Stacking_Ensemble...\n",
      "✓ Correlation importance calculated successfully\n",
      "  Method: pearson\n",
      "  Features analyzed: 191\n",
      "  Strongest correlation: 0.8214\n",
      "\n",
      "Top 15 Features by Correlation Importance:\n",
      "Feature                   Correlation  Abs_Corr  \n",
      "--------------------------------------------------\n",
      "OverallQual               0.8214       0.8214    \n",
      "TotalFlrSF                0.7444       0.7444    \n",
      "GrLivArea                 0.7374       0.7374    \n",
      "ExterQual                 0.6822       0.6822    \n",
      "TotalBaths                0.6767       0.6767    \n",
      "KitchenQual               0.6700       0.6700    \n",
      "BsmtQual                  0.6169       0.6169    \n",
      "HouseAge                  -0.6084      0.6084    \n",
      "GarageFinish              0.6056       0.6056    \n",
      "YearsSinceRemodel         -0.5685      0.5685    \n",
      "FireplaceQu               0.5468       0.5468    \n",
      "TotRmsAbvGrd              0.5421       0.5421    \n",
      "Foundation_PConc          0.5312       0.5312    \n",
      "Fireplaces                0.5102       0.5102    \n",
      "HeatingQC                 0.4739       0.4739    \n"
     ]
    },
    {
     "data": {
      "image/png": "[encoded data removed]",
      "text/plain": [
       "<Figure size 1500x800 with 2 Axes>"
      ]
     },
     "metadata": {},
     "output_type": "display_data"
    },
    {
     "name": "stdout",
     "output_type": "stream",
     "text": [
      "\n",
      "Correlation Summary:\n",
      "  Positive correlations: 104\n",
      "  Negative correlations: 87\n",
      "  Strong correlations (|r| > 0.3): 41\n"
     ]
    }
   ],
   "source": [
    "def get_correlation_importance(X_train, y_train, model_name=\"Model\", method='pearson'):\n",
    "    \"\"\"\n",
    "    Calculate correlation-based feature importance\n",
    "    Simple but fast method showing linear relationships with target\n",
    "    \"\"\"\n",
    "    print(f\"Calculating Correlation Importance for {model_name}...\")\n",
    "    \n",
    "    try:\n",
    "        # Calculate correlations\n",
    "        if method == 'pearson':\n",
    "            correlations = X_train.corrwith(y_train)\n",
    "        elif method == 'spearman':\n",
    "            correlations = X_train.corrwith(y_train, method='spearman')\n",
    "        else:\n",
    "            print(f\"Unknown method {method}, using pearson\")\n",
    "            correlations = X_train.corrwith(y_train)\n",
    "        \n",
    "        # Create results dataframe\n",
    "        corr_df = pd.DataFrame({\n",
    "            'Feature': X_train.columns,\n",
    "            'Correlation': correlations.values,\n",
    "            'Abs_Correlation': np.abs(correlations.values)\n",
    "        }).sort_values('Abs_Correlation', ascending=False)\n",
    "        \n",
    "        # Remove any NaN correlations\n",
    "        corr_df = corr_df.dropna()\n",
    "        \n",
    "        print(\"✓ Correlation importance calculated successfully\")\n",
    "        print(f\"  Method: {method}\")\n",
    "        print(f\"  Features analyzed: {len(corr_df)}\")\n",
    "        print(f\"  Strongest correlation: {corr_df['Abs_Correlation'].max():.4f}\")\n",
    "        \n",
    "        # Display top features\n",
    "        print(\"\\nTop 15 Features by Correlation Importance:\")\n",
    "        print(f\"{'Feature':<25} {'Correlation':<12} {'Abs_Corr':<10}\")\n",
    "        print(\"-\" * 50)\n",
    "        for idx, row in corr_df.head(15).iterrows():\n",
    "            print(f\"{row['Feature']:<25} {row['Correlation']:<12.4f} {row['Abs_Correlation']:<10.4f}\")\n",
    "        \n",
    "        # Plot\n",
    "        fig, (ax1, ax2) = plt.subplots(1, 2, figsize=(15, 8))\n",
    "        \n",
    "        # Plot 1: Top absolute correlations\n",
    "        top_features = corr_df.head(20)\n",
    "        colors = ['red' if x < 0 else 'blue' for x in top_features['Correlation']]\n",
    "        \n",
    "        ax1.barh(range(len(top_features)), top_features['Abs_Correlation'], color=colors, alpha=0.7)\n",
    "        ax1.set_yticks(range(len(top_features)))\n",
    "        ax1.set_yticklabels(top_features['Feature'])\n",
    "        ax1.set_xlabel('Absolute Correlation with Target')\n",
    "        ax1.set_title(f'Top 20 Feature Correlations - {model_name}')\n",
    "        ax1.invert_yaxis()\n",
    "        ax1.grid(True, alpha=0.3)\n",
    "        \n",
    "        # Plot 2: Correlation distribution\n",
    "        ax2.hist(corr_df['Correlation'], bins=30, alpha=0.7, edgecolor='black')\n",
    "        ax2.axvline(x=0, color='red', linestyle='--', alpha=0.7)\n",
    "        ax2.set_xlabel('Correlation with Target')\n",
    "        ax2.set_ylabel('Number of Features')\n",
    "        ax2.set_title(f'Distribution of Feature Correlations - {model_name}')\n",
    "        ax2.grid(True, alpha=0.3)\n",
    "        \n",
    "        plt.tight_layout()\n",
    "        plt.show()\n",
    "        \n",
    "        # Additional insights\n",
    "        positive_corr = (corr_df['Correlation'] > 0).sum()\n",
    "        negative_corr = (corr_df['Correlation'] < 0).sum()\n",
    "        strong_corr = (corr_df['Abs_Correlation'] > 0.3).sum()\n",
    "        \n",
    "        print(f\"\\nCorrelation Summary:\")\n",
    "        print(f\"  Positive correlations: {positive_corr}\")\n",
    "        print(f\"  Negative correlations: {negative_corr}\")\n",
    "        print(f\"  Strong correlations (|r| > 0.3): {strong_corr}\")\n",
    "        \n",
    "        return corr_df\n",
    "        \n",
    "    except Exception as e:\n",
    "        print(f\"Correlation importance calculation failed: {e}\")\n",
    "        return None\n",
    "\n",
    "# Usage:\n",
    "corr_importance = get_correlation_importance(X_train, y_log, final_model_name, method='pearson')"
   ]
  },
  {
   "cell_type": "markdown",
   "id": "89353c01",
   "metadata": {},
   "source": [
    "The correlation analysis revealed that OverallQual (correlation: 0.82), TotalFlrSF (0.74), and GrLivArea (0.73) are the most strongly positively correlated features with the target variable. A total of 41 features show strong correlations (|r| > 0.3), with a roughly even split between positive (104) and negative (87) relationships. This indicates that both linear positive and inverse associations exist across the feature set. The histogram confirms a concentration of weakly correlated features around zero, with a few features demonstrating meaningful linear influence on house prices.\n",
    "\n",
    "#### Summary of Feature Importance Analysis\n",
    "While the permutation importance analysis emphasized GrLivArea, OverallQual, and OverallCond as the most critical features based on their actual impact on model performance, the correlation analysis similarly highlighted OverallQual, TotalFlrSF, and GrLivArea as the most linearly associated with the target.\n",
    "\n",
    "This overlap suggests that these top features are not only statistically correlated with house prices but also practically important for prediction within the final model. However, some features—like OverallCond—ranked highly in permutation importance despite having weaker correlation, indicating that their predictive value may stem from nonlinear interactions or interdependencies the model captures."
   ]
  },
  {
   "cell_type": "markdown",
   "id": "db3f6c83",
   "metadata": {},
   "source": [
    "## 6. Final Test Predictions\n",
    "### 6.1 Test Set Prediction Generation\n",
    "6.1 Test Set Prediction Generation\n",
    "The final stacked ensemble model is trained on the full training data and used to predict house prices in the test set. Predictions are converted from log scale to the original price scale using the exponential function. Descriptive statistics and sanity checks are applied to ensure prediction values are reasonable and align with the distribution of the training data."
   ]
  },
  {
   "cell_type": "code",
   "execution_count": 51,
   "id": "160d2852",
   "metadata": {},
   "outputs": [
    {
     "name": "stdout",
     "output_type": "stream",
     "text": [
      "\n",
      "============================================================\n",
      "GENERATING FINAL TEST PREDICTIONS\n",
      "============================================================\n",
      "Test predictions generated: 1459 samples\n",
      "\n",
      "Prediction Statistics:\n",
      "  Range: $47,690 - $701,555\n",
      "  Mean: $178,964\n",
      "  Median: $156,005\n",
      "  Std: $79,131\n",
      "\n",
      "Sanity Checks:\n",
      "  Negative predictions: 0\n",
      "  Very low predictions (<$10k): 0\n",
      "  Very high predictions (>$500k): 7\n",
      "  Training mean: $180,933\n",
      "  Test prediction mean: $178,964\n",
      "  Difference: 1.1%\n",
      "  Distribution similarity: Good\n"
     ]
    }
   ],
   "source": [
    "print(\"\\n\" + \"=\"*60)\n",
    "print(\"GENERATING FINAL TEST PREDICTIONS\")\n",
    "print(\"=\"*60)\n",
    "\n",
    "\n",
    "# Fit final model on complete training data\n",
    "final_model.fit(X_train, y_log)\n",
    "\n",
    "# Generate predictions on test set\n",
    "test_predictions_log = final_model.predict(X_test)\n",
    "test_predictions_original = np.exp(test_predictions_log)\n",
    "\n",
    "print(f\"Test predictions generated: {len(test_predictions_original)} samples\")\n",
    "\n",
    "# Prediction statistics\n",
    "print(f\"\\nPrediction Statistics:\")\n",
    "print(f\"  Range: ${test_predictions_original.min():,.0f} - ${test_predictions_original.max():,.0f}\")\n",
    "print(f\"  Mean: ${test_predictions_original.mean():,.0f}\")\n",
    "print(f\"  Median: ${np.median(test_predictions_original):,.0f}\")\n",
    "print(f\"  Std: ${test_predictions_original.std():,.0f}\")\n",
    "\n",
    "# Sanity checks\n",
    "print(f\"\\nSanity Checks:\")\n",
    "negative_count = (test_predictions_original < 0).sum()\n",
    "low_count = (test_predictions_original < 10000).sum()\n",
    "high_count = (test_predictions_original > 500000).sum()\n",
    "\n",
    "print(f\"  Negative predictions: {negative_count}\")\n",
    "print(f\"  Very low predictions (<$10k): {low_count}\")\n",
    "print(f\"  Very high predictions (>$500k): {high_count}\")\n",
    "\n",
    "# Compare with training distribution\n",
    "train_mean = np.exp(y_log).mean()\n",
    "test_mean = test_predictions_original.mean()\n",
    "difference_pct = abs(test_mean - train_mean) / train_mean * 100\n",
    "\n",
    "print(f\"  Training mean: ${train_mean:,.0f}\")\n",
    "print(f\"  Test prediction mean: ${test_mean:,.0f}\")\n",
    "print(f\"  Difference: {difference_pct:.1f}%\")\n",
    "\n",
    "if difference_pct > 20:\n",
    "    print(\"  WARNING: Large difference between train and test means\")\n",
    "else:\n",
    "    print(\"  Distribution similarity: Good\")"
   ]
  },
  {
   "cell_type": "markdown",
   "id": "a6f4ae5c",
   "metadata": {},
   "source": [
    "The final model generated 1,459 test predictions with a mean of $178,964 and a range from $47,690 to $701,555. No negative or unrealistically low values were produced, and only 7 predictions exceeded $500,000. The test prediction mean is within 1.1% of the training mean ($180,933), indicating good consistency between the two distributions. These results confirm the model’s stability and generalization performance.\n",
    "\n",
    "### 6.2 Submission File Creation\n",
    "Create a a submission file with predictions, including validation checks to ensure the format meets the kaggle competition requirements."
   ]
  },
  {
   "cell_type": "code",
   "execution_count": 52,
   "id": "820bb2d5",
   "metadata": {},
   "outputs": [
    {
     "name": "stdout",
     "output_type": "stream",
     "text": [
      "\n",
      "Submission File Created:\n",
      "  Filename: ../submissions/submission_Stacking_Ensemble6.csv\n",
      "  Shape: (1459, 2)\n",
      "\n",
      "Submission Preview:\n",
      "     Id      SalePrice\n",
      "0  1461  115545.419014\n",
      "1  1462  160534.686069\n",
      "2  1463  181487.844246\n",
      "3  1464  193782.818349\n",
      "4  1465  192528.835989\n",
      "5  1466  170491.926518\n",
      "6  1467  171739.099485\n",
      "7  1468  162240.787803\n",
      "8  1469  185267.697244\n",
      "9  1470  119970.695634\n",
      "...\n",
      "        Id      SalePrice\n",
      "1454  2915   84378.882645\n",
      "1455  2916   82832.341501\n",
      "1456  2917  160069.446514\n",
      "1457  2918  116028.023343\n",
      "1458  2919  216451.375678\n",
      "\n",
      "Submission Validation:\n",
      "  IDs start at: 1461\n",
      "  IDs end at: 2919\n",
      "  ID count: 1459\n",
      "  Expected count: 1459\n",
      "  Format valid: True\n"
     ]
    }
   ],
   "source": [
    "# Create submission DataFrame\n",
    "submission = pd.DataFrame({\n",
    "    'Id': range(1461, 1461 + len(test_predictions_original)),\n",
    "    'SalePrice': test_predictions_original\n",
    "})\n",
    "\n",
    "# Create submission filename\n",
    "submission_filename = f'../submissions/submission_{final_model_name}6.csv'\n",
    "\n",
    "# Save submission\n",
    "submission.to_csv(submission_filename, index=False)\n",
    "\n",
    "print(f\"\\nSubmission File Created:\")\n",
    "print(f\"  Filename: {submission_filename}\")\n",
    "print(f\"  Shape: {submission.shape}\")\n",
    "\n",
    "# Display submission preview\n",
    "print(f\"\\nSubmission Preview:\")\n",
    "print(submission.head(10))\n",
    "print(\"...\")\n",
    "print(submission.tail(5))\n",
    "\n",
    "# Validate submission format\n",
    "print(f\"\\nSubmission Validation:\")\n",
    "print(f\"  IDs start at: {submission['Id'].min()}\")\n",
    "print(f\"  IDs end at: {submission['Id'].max()}\")\n",
    "print(f\"  ID count: {len(submission)}\")\n",
    "print(f\"  Expected count: {len(X_test)}\")\n",
    "print(f\"  Format valid: {len(submission) == len(X_test) and submission['Id'].min() == 1461}\")"
   ]
  },
  {
   "cell_type": "markdown",
   "id": "c885aa82",
   "metadata": {},
   "source": [
    "## 7. Results Summary and Analysis\n",
    "### 7.1 Performance Summary\n",
    "Create a summary of modeling pipeline results."
   ]
  },
  {
   "cell_type": "code",
   "execution_count": 54,
   "id": "53c2b103",
   "metadata": {},
   "outputs": [
    {
     "name": "stdout",
     "output_type": "stream",
     "text": [
      "\n",
      "====================================================================================================\n",
      "FINAL MODELING RESULTS SUMMARY\n",
      "====================================================================================================\n",
      "Final Model: Stacking_Ensemble\n",
      "Final CV RMSE: 0.1114\n",
      "Validation RMSE: 0.1176\n",
      "\n",
      "Performance Progression:\n",
      "  Best baseline: 0.1166\n",
      "  Best individual: 0.1143 (+2.00%)\n",
      "  Final ensemble: 0.1114 (+4.51%)\n",
      "\n",
      "Model Development Statistics:\n",
      "  Baseline models tested: 8\n",
      "  Hyperparameter optimization trials: 415\n",
      "  Ensemble methods tested: 3\n",
      "  Total models evaluated: 11\n",
      "\n",
      "Final Model Validation (Original Scale):\n",
      "  RMSE: $18,713\n",
      "  MAE: $13,499\n",
      "  R² Score: 0.9366\n",
      "  MAPE: 8.18%\n",
      "\n",
      "Submission Details:\n",
      "  File: ../submissions/submission_Stacking_Ensemble6.csv\n",
      "  Predictions: 1459\n",
      "  Price range: $47,690 - $701,555\n"
     ]
    }
   ],
   "source": [
    "print(\"\\n\" + \"=\"*100)\n",
    "print(\"FINAL MODELING RESULTS SUMMARY\")\n",
    "print(\"=\"*100)\n",
    "\n",
    "print(f\"Final Model: {final_model_name}\")\n",
    "print(f\"Final CV RMSE: {final_model_rmse:.4f}\")\n",
    "print(f\"Validation RMSE: {val_rmse_log:.4f}\")\n",
    "\n",
    "# Performance progression analysis\n",
    "if baseline_results:\n",
    "    baseline_rmse = best_baseline[1]['cv_rmse_mean']\n",
    "    individual_best = min(optimized_results.items(), key=lambda x: x[1]['cv_rmse_mean'])\n",
    "    individual_improvement = (baseline_rmse - individual_best[1]['cv_rmse_mean']) / baseline_rmse * 100\n",
    "    final_improvement = (baseline_rmse - final_model_rmse) / baseline_rmse * 100\n",
    "    \n",
    "    print(f\"\\nPerformance Progression:\")\n",
    "    print(f\"  Best baseline: {baseline_rmse:.4f}\")\n",
    "    print(f\"  Best individual: {individual_best[1]['cv_rmse_mean']:.4f} ({individual_improvement:+.2f}%)\")\n",
    "    print(f\"  Final ensemble: {final_model_rmse:.4f} ({final_improvement:+.2f}%)\")\n",
    "\n",
    "# Development statistics\n",
    "print(f\"\\nModel Development Statistics:\")\n",
    "print(f\"  Baseline models tested: {len(baseline_models)}\")\n",
    "print(f\"  Hyperparameter optimization trials: {total_trials}\")\n",
    "print(f\"  Ensemble methods tested: {len(ensemble_results)}\")\n",
    "print(f\"  Total models evaluated: {len(all_model_results)}\")\n",
    "\n",
    "# Validation metrics summary\n",
    "print(f\"\\nFinal Model Validation (Original Scale):\")\n",
    "print(f\"  RMSE: ${val_rmse_original:,.0f}\")\n",
    "print(f\"  MAE: ${val_mae_original:,.0f}\")\n",
    "print(f\"  R² Score: {val_r2:.4f}\")\n",
    "print(f\"  MAPE: {percentage_errors.mean():.2f}%\")\n",
    "\n",
    "print(f\"\\nSubmission Details:\")\n",
    "print(f\"  File: {submission_filename}\")\n",
    "print(f\"  Predictions: {len(test_predictions_original)}\")\n",
    "print(f\"  Price range: ${test_predictions_original.min():,.0f} - ${test_predictions_original.max():,.0f}\")"
   ]
  },
  {
   "cell_type": "markdown",
   "id": "1090eac9",
   "metadata": {},
   "source": [
    "The final model, a stacking ensemble, achieved a cross-validated RMSE of 0.1114, improving by +4.51% over the best baseline. A total of 11 models were evaluated, including 415 hyperparameter tuning trials and 3 ensemble strategies.\n",
    "\n",
    "On the validation set (original scale), the model delivered strong performance with:\n",
    "- RMSE: $18,713\n",
    "- MAE: $13,499\n",
    "- R² Score: 0.9366\n",
    "- MAPE: 8.18%\n",
    "\n",
    "These results indicate that the model generalizes well and produces reliable predictions across a realistic price range from $47,690 to $701,555."
   ]
  },
  {
   "cell_type": "markdown",
   "id": "250c92ec",
   "metadata": {},
   "source": [
    "### 7.2 Key Insights and Learnings\n",
    "Analyze results to extract actionable insights about model performance, ensemble effectiveness, and algorithm ranking to understand what worked best in this specific problem context."
   ]
  },
  {
   "cell_type": "code",
   "execution_count": 55,
   "id": "b8dd7355",
   "metadata": {},
   "outputs": [
    {
     "name": "stdout",
     "output_type": "stream",
     "text": [
      "\n",
      "Key Insights:\n",
      "1. Best Model Types:\n",
      "   1. Stacking_Ensemble: 0.1114\n",
      "   2. Simple_Ensemble: 0.1117\n",
      "   3. Weighted_Ensemble: 0.1117\n",
      "\n",
      "2. Ensemble Effectiveness:\n",
      "   Best individual: 0.1143\n",
      "   Best ensemble: 0.1114\n",
      "   Ensemble improvement: 2.57%\n",
      "\n",
      "3. Algorithm Performance Ranking:\n",
      "   1. CatBoost: 0.1143\n",
      "   2. XGBoost: 0.1148\n",
      "   3. LightGBM: 0.1172\n",
      "   4. Lasso: 0.1175\n",
      "   5. ElasticNet: 0.1175\n",
      "   6. Ridge: 0.1218\n",
      "   7. GradientBoosting: 0.1227\n",
      "   8. RandomForest: 0.1412\n"
     ]
    }
   ],
   "source": [
    "print(f\"\\nKey Insights:\")\n",
    "\n",
    "# Model performance insights\n",
    "print(f\"1. Best Model Types:\")\n",
    "top_3_models_final = sorted(all_model_results.items(), key=lambda x: x[1]['cv_rmse_mean'])[:3]\n",
    "for i, (name, result) in enumerate(top_3_models_final, 1):\n",
    "    print(f\"   {i}. {name}: {result['cv_rmse_mean']:.4f}\")\n",
    "\n",
    "# Ensemble effectiveness\n",
    "if optimized_results and ensemble_results:\n",
    "    individual_best_rmse = min(optimized_results.values(), key=lambda x: x['cv_rmse_mean'])['cv_rmse_mean']\n",
    "    ensemble_best_rmse = min(ensemble_results.values(), key=lambda x: x['cv_rmse_mean'])['cv_rmse_mean']\n",
    "    ensemble_improvement = (individual_best_rmse - ensemble_best_rmse) / individual_best_rmse * 100\n",
    "    \n",
    "    print(f\"\\n2. Ensemble Effectiveness:\")\n",
    "    print(f\"   Best individual: {individual_best_rmse:.4f}\")\n",
    "    print(f\"   Best ensemble: {ensemble_best_rmse:.4f}\")\n",
    "    if ensemble_improvement > 0:\n",
    "        print(f\"   Ensemble improvement: {ensemble_improvement:.2f}%\")\n",
    "    else:\n",
    "        print(f\"   Ensemble did not improve over best individual model\")\n",
    "\n",
    "# Algorithm performance ranking\n",
    "print(f\"\\n3. Algorithm Performance Ranking:\")\n",
    "algorithm_performance = {}\n",
    "for name, result in optimized_results.items():\n",
    "    algorithm = name.replace('_Optimized', '')\n",
    "    algorithm_performance[algorithm] = result['cv_rmse_mean']\n",
    "\n",
    "for i, (algorithm, rmse) in enumerate(sorted(algorithm_performance.items(), key=lambda x: x[1]), 1):\n",
    "    print(f\"   {i}. {algorithm}: {rmse:.4f}\")"
   ]
  },
  {
   "cell_type": "markdown",
   "id": "27bd1334",
   "metadata": {},
   "source": [
    "CatBoost showed the strongest performance among individual models with a CV RMSE of 0.1143. Ensemble methods performed slightly better, with the Stacking Ensemble achieving the lowest RMSE of 0.1114, corresponding to a 2.57% improvement over the best individual model.\n",
    "The results indicate that ensemble techniques can contribute to modest performance gains. The algorithm ranking highlights variation in model performance, with tree-based methods generally performing better than linear approaches in this setup."
   ]
  },
  {
   "cell_type": "markdown",
   "id": "2bdec897",
   "metadata": {},
   "source": [
    "## 8. Export Models\n",
    "\n",
    "### 8.1 Create Models Directory\n"
   ]
  },
  {
   "cell_type": "code",
   "execution_count": 58,
   "id": "f1a700ca",
   "metadata": {},
   "outputs": [
    {
     "name": "stdout",
     "output_type": "stream",
     "text": [
      "Models directory created: ../models\n"
     ]
    }
   ],
   "source": [
    "import os\n",
    "import joblib\n",
    "import json\n",
    "from pathlib import Path\n",
    "\n",
    "# Create models directory\n",
    "models_dir = Path('../models')\n",
    "models_dir.mkdir(exist_ok=True)\n",
    "\n",
    "print(f\"Models directory created: {models_dir}\")"
   ]
  },
  {
   "cell_type": "markdown",
   "id": "79fd4c32",
   "metadata": {},
   "source": [
    "### 8.2 Export Individual Models"
   ]
  },
  {
   "cell_type": "code",
   "execution_count": 59,
   "id": "ba9ee2c0",
   "metadata": {},
   "outputs": [
    {
     "name": "stdout",
     "output_type": "stream",
     "text": [
      "Exporting individual models...\n",
      "✓ Saved Ridge_Optimized: ../models/Ridge_Optimized.joblib\n",
      "  CV RMSE: 0.1218\n",
      "✓ Saved Lasso_Optimized: ../models/Lasso_Optimized.joblib\n",
      "  CV RMSE: 0.1175\n",
      "✓ Saved ElasticNet_Optimized: ../models/ElasticNet_Optimized.joblib\n",
      "  CV RMSE: 0.1175\n",
      "✓ Saved RandomForest_Optimized: ../models/RandomForest_Optimized.joblib\n",
      "  CV RMSE: 0.1412\n",
      "✓ Saved GradientBoosting_Optimized: ../models/GradientBoosting_Optimized.joblib\n",
      "  CV RMSE: 0.1227\n",
      "✓ Saved XGBoost_Optimized: ../models/XGBoost_Optimized.joblib\n",
      "  CV RMSE: 0.1148\n",
      "✓ Saved CatBoost_Optimized: ../models/CatBoost_Optimized.joblib\n",
      "  CV RMSE: 0.1143\n",
      "✓ Saved LightGBM_Optimized: ../models/LightGBM_Optimized.joblib\n",
      "  CV RMSE: 0.1172\n"
     ]
    }
   ],
   "source": [
    "def save_model_with_metadata(model, model_name, result_dict, models_dir='../models'):\n",
    "    \"\"\"\n",
    "    Save a model with its performance metadata\n",
    "    \"\"\"\n",
    "    models_path = Path(models_dir)\n",
    "\n",
    "    # Save the model\n",
    "    model_file = models_path / f\"{model_name}.joblib\"\n",
    "    joblib.dump(model, model_file)\n",
    "\n",
    "    # Save metadata\n",
    "    metadata = {\n",
    "        'model_name': model_name,\n",
    "        'cv_rmse_mean': result_dict['cv_rmse_mean'],\n",
    "        'cv_rmse_std': result_dict['cv_rmse_std'],\n",
    "        'val_rmse': result_dict.get('val_rmse', None),\n",
    "        'best_params': result_dict.get('best_params', None),\n",
    "        'model_type': type(model).__name__\n",
    "    }\n",
    "\n",
    "    metadata_file = models_path / f\"{model_name}_metadata.json\"\n",
    "    with open(metadata_file, 'w') as f:\n",
    "        json.dump(metadata, f, indent=2)\n",
    "\n",
    "    print(f\"✓ Saved {model_name}: {model_file}\")\n",
    "    print(f\"  CV RMSE: {result_dict['cv_rmse_mean']:.4f}\")\n",
    "\n",
    "# Export all optimized individual models\n",
    "individual_models = {\n",
    "    'Ridge_Optimized': (best_ridge, ridge_result),\n",
    "    'Lasso_Optimized': (best_lasso, lasso_result),\n",
    "    'ElasticNet_Optimized': (best_elasticnet, elasticnet_result),\n",
    "    'RandomForest_Optimized': (best_rf, rf_result),\n",
    "    'GradientBoosting_Optimized': (best_gb, gb_result),\n",
    "    'XGBoost_Optimized': (best_xgb, xgb_result),\n",
    "    'CatBoost_Optimized': (best_catboost, catboost_result),\n",
    "    'LightGBM_Optimized': (best_lightgbm, lightgbm_result)\n",
    "}\n",
    "\n",
    "print(\"Exporting individual models...\")\n",
    "for model_name, (model, result) in individual_models.items():\n",
    "    save_model_with_metadata(model, model_name, result)"
   ]
  },
  {
   "cell_type": "markdown",
   "id": "54d0effc",
   "metadata": {},
   "source": [
    "### 8.3 Export Ensemble Models"
   ]
  },
  {
   "cell_type": "code",
   "execution_count": 60,
   "id": "0747646f",
   "metadata": {},
   "outputs": [
    {
     "name": "stdout",
     "output_type": "stream",
     "text": [
      "\n",
      "Exporting ensemble models...\n",
      "✓ Saved Simple_Ensemble: ../models/Simple_Ensemble.joblib\n",
      "  CV RMSE: 0.1117\n",
      "✓ Saved Weighted_Ensemble: ../models/Weighted_Ensemble.joblib\n",
      "  CV RMSE: 0.1117\n",
      "✓ Saved Stacking_Ensemble: ../models/Stacking_Ensemble.joblib\n",
      "  CV RMSE: 0.1114\n"
     ]
    }
   ],
   "source": [
    "def save_ensemble_model(ensemble, ensemble_name, result_dict, component_models=None, models_dir='../models'):\n",
    "    \"\"\"\n",
    "    Save an ensemble model with its components and metadata\n",
    "    \"\"\"\n",
    "    models_path = Path(models_dir)\n",
    "\n",
    "    # Save the ensemble model\n",
    "    ensemble_file = models_path / f\"{ensemble_name}.joblib\"\n",
    "    joblib.dump(ensemble, ensemble_file)\n",
    "\n",
    "    # Save metadata\n",
    "    metadata = {\n",
    "        'ensemble_name': ensemble_name,\n",
    "        'cv_rmse_mean': result_dict['cv_rmse_mean'],\n",
    "        'cv_rmse_std': result_dict['cv_rmse_std'],\n",
    "        'val_rmse': result_dict.get('val_rmse', None),\n",
    "        'ensemble_type': type(ensemble).__name__,\n",
    "        'component_models': component_models or []\n",
    "    }\n",
    "\n",
    "    metadata_file = models_path / f\"{ensemble_name}_metadata.json\"\n",
    "    with open(metadata_file, 'w') as f:\n",
    "        json.dump(metadata, f, indent=2)\n",
    "\n",
    "    print(f\"✓ Saved {ensemble_name}: {ensemble_file}\")\n",
    "    print(f\"  CV RMSE: {result_dict['cv_rmse_mean']:.4f}\")\n",
    "\n",
    "# Export ensemble models\n",
    "ensemble_models = {\n",
    "    'Simple_Ensemble': (simple_ensemble, simple_result, ['CatBoost', 'XGBoost', 'LightGBM', 'Lasso']),\n",
    "    'Weighted_Ensemble': (weighted_ensemble, weighted_result, ['CatBoost', 'XGBoost', 'LightGBM', 'Lasso']),\n",
    "    'Stacking_Ensemble': (stacking_ensemble, stacking_result, ['CatBoost', 'XGBoost', 'LightGBM', 'Lasso'])\n",
    "}\n",
    "\n",
    "print(\"\\nExporting ensemble models...\")\n",
    "for ensemble_name, (ensemble, result, components) in ensemble_models.items():\n",
    "    save_ensemble_model(ensemble, ensemble_name, result, components)"
   ]
  },
  {
   "cell_type": "markdown",
   "id": "8ff8b23d",
   "metadata": {},
   "source": [
    "### 8.4 Export Final Model"
   ]
  },
  {
   "cell_type": "code",
   "execution_count": 64,
   "id": "fce09c9e",
   "metadata": {},
   "outputs": [
    {
     "name": "stdout",
     "output_type": "stream",
     "text": [
      "\n",
      "✓ Final model saved: ../models/final_model.joblib\n",
      "  Model: Stacking_Ensemble\n",
      "  CV RMSE: 0.1114\n"
     ]
    }
   ],
   "source": [
    "# Export the final selected model\n",
    "final_model_metadata = {\n",
    "    'final_model_name': final_model_name,\n",
    "    'final_cv_rmse': final_model_rmse,\n",
    "    'selection_criteria': 'Best cross-validation RMSE',\n",
    "    'exported_at': str(pd.Timestamp.now())\n",
    "}\n",
    "\n",
    "models_path = Path(models_dir)\n",
    "\n",
    "# Save final model\n",
    "final_model_file = models_path / \"final_model.joblib\"\n",
    "joblib.dump(final_model, final_model_file)\n",
    "\n",
    "# Save final model metadata\n",
    "final_metadata_file = models_path / \"final_model_metadata.json\"\n",
    "with open(final_metadata_file, 'w') as f:\n",
    "    json.dump(final_model_metadata, f, indent=2)\n",
    "\n",
    "print(f\"\\n✓ Final model saved: {final_model_file}\")\n",
    "print(f\"  Model: {final_model_name}\")\n",
    "print(f\"  CV RMSE: {final_model_rmse:.4f}\")\n"
   ]
  },
  {
   "cell_type": "markdown",
   "id": "97d1d106",
   "metadata": {},
   "source": [
    "### 8.4 Create Model Summary"
   ]
  },
  {
   "cell_type": "code",
   "execution_count": 65,
   "id": "512725df",
   "metadata": {},
   "outputs": [
    {
     "name": "stdout",
     "output_type": "stream",
     "text": [
      "\n",
      "✓ Model summary saved: ../models/model_summary.json\n"
     ]
    }
   ],
   "source": [
    "model_summary = {\n",
    "    'project_info': {\n",
    "        'dataset': 'House Prices - Advanced Regression Techniques',\n",
    "        'target': 'SalePrice (log-transformed)',\n",
    "        'features': X_train.shape[1],\n",
    "        'training_samples': X_train.shape[0],\n",
    "        'test_samples': X_test.shape[0]\n",
    "    },\n",
    "    'individual_models': {},\n",
    "    'ensemble_models': {},\n",
    "    'final_model': final_model_metadata,\n",
    "    'performance_comparison': {}\n",
    "}\n",
    "\n",
    "# Add individual model performance\n",
    "for model_name, (model, result) in individual_models.items():\n",
    "    model_summary['individual_models'][model_name] = {\n",
    "        'cv_rmse_mean': result['cv_rmse_mean'],\n",
    "        'cv_rmse_std': result['cv_rmse_std'],\n",
    "        'model_type': type(model).__name__\n",
    "    }\n",
    "\n",
    "# Add ensemble model performance\n",
    "for ensemble_name, (ensemble, result, components) in ensemble_models.items():\n",
    "    model_summary['ensemble_models'][ensemble_name] = {\n",
    "        'cv_rmse_mean': result['cv_rmse_mean'],\n",
    "        'cv_rmse_std': result['cv_rmse_std'],\n",
    "        'components': components\n",
    "    }\n",
    "\n",
    "# Add performance comparison\n",
    "all_results = {**{name: result for name, (model, result) in individual_models.items()},\n",
    "               **{name: result for name, (ensemble, result, components) in ensemble_models.items()}}\n",
    "\n",
    "for model_name, result in sorted(all_results.items(), key=lambda x: x[1]['cv_rmse_mean']):\n",
    "    model_summary['performance_comparison'][model_name] = result['cv_rmse_mean']\n",
    "\n",
    "# Save model summary\n",
    "summary_file = models_path / \"model_summary.json\"\n",
    "with open(summary_file, 'w') as f:\n",
    "    json.dump(model_summary, f, indent=2)\n",
    "\n",
    "print(f\"\\n✓ Model summary saved: {summary_file}\")"
   ]
  }
 ],
 "metadata": {
  "kernelspec": {
   "display_name": "HousePrediction",
   "language": "python",
   "name": "python3"
  },
  "language_info": {
   "codemirror_mode": {
    "name": "ipython",
    "version": 3
   },
   "file_extension": ".py",
   "mimetype": "text/x-python",
   "name": "python",
   "nbconvert_exporter": "python",
   "pygments_lexer": "ipython3",
   "version": "3.11.11"
  }
 },
 "nbformat": 4,
 "nbformat_minor": 5
}
