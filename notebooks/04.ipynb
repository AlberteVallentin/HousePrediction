{
 "cells": [
  {
   "cell_type": "markdown",
   "id": "1499a5b8",
   "metadata": {},
   "source": [
    "# Notebook 04: Model Development & Optimization\n",
    "\n",
    "Advanced model development, hyperparameter tuning, and performance optimization using the feature engineered dataset from Notebook 03.\n",
    "\n",
    "## Objectives:\n",
    "1. Load and verify feature engineered data from Notebook 03\n",
    "2. Develop baseline models for comparison\n",
    "3. Implement advanced regression models (Random Forest, XGBoost, etc.)\n",
    "4. Perform hyperparameter optimization\n",
    "5. Ensemble methods and model stacking\n",
    "6. Final model evaluation and selection"
   ]
  },
  {
   "cell_type": "code",
   "execution_count": 14,
   "id": "88dbd0ca",
   "metadata": {},
   "outputs": [
    {
     "name": "stdout",
     "output_type": "stream",
     "text": [
      "Libraries loaded successfully\n"
     ]
    }
   ],
   "source": [
    "# Core libraries\n",
    "import pandas as pd\n",
    "import numpy as np\n",
    "import matplotlib.pyplot as plt\n",
    "import seaborn as sns\n",
    "import warnings\n",
    "warnings.filterwarnings('ignore')\n",
    "\n",
    "# Machine Learning\n",
    "from sklearn.model_selection import train_test_split, KFold, cross_val_score\n",
    "from sklearn.linear_model import Ridge, Lasso, ElasticNet\n",
    "from sklearn.ensemble import RandomForestRegressor, GradientBoostingRegressor, StackingRegressor\n",
    "from sklearn.metrics import mean_squared_error, mean_absolute_error, r2_score\n",
    "from sklearn.base import BaseEstimator, RegressorMixin, clone\n",
    "\n",
    "# Advanced Models\n",
    "from xgboost import XGBRegressor\n",
    "from catboost import CatBoostRegressor\n",
    "from lightgbm import LGBMRegressor\n",
    "\n",
    "# Hyperparameter Optimization\n",
    "import optuna\n",
    "from optuna.pruners import MedianPruner\n",
    "\n",
    "# Progress tracking and utilities\n",
    "from tqdm import tqdm\n",
    "import joblib\n",
    "import time\n",
    "from scipy.optimize import minimize\n",
    "\n",
    "# Set random seeds\n",
    "np.random.seed(42)\n",
    "\n",
    "# Display options\n",
    "pd.set_option('display.max_columns', None)\n",
    "pd.set_option('display.max_rows', 100)\n",
    "\n",
    "print(\"Libraries loaded successfully\")"
   ]
  },
  {
   "cell_type": "code",
   "execution_count": 15,
   "id": "22c5145a",
   "metadata": {},
   "outputs": [
    {
     "name": "stdout",
     "output_type": "stream",
     "text": [
      "\n",
      "============================================================\n",
      "Data Import Summary:\n",
      "Features available: 190\n",
      "Training samples: 1458\n",
      "Test samples: 1459\n",
      "============================================================\n",
      "\n",
      "Target Variable Statistics:\n",
      "  Shape: (1458,)\n",
      "  Mean: 12.0240\n",
      "  Std: 0.3997\n",
      "  Range: 10.4602 - 13.5345\n",
      "\n",
      "Data Quality Check:\n",
      "Missing values in X_train: 0\n",
      "Missing values in X_test: 0\n",
      "Missing values in target: 0\n",
      "Infinite values in X_train: 0\n",
      "Infinite values in X_test: 0\n",
      "Data loading complete\n"
     ]
    }
   ],
   "source": [
    "# Load processed datasets\n",
    "X_train = pd.read_csv('../data/processed/X_train_final.csv')\n",
    "X_test = pd.read_csv('../data/processed/X_test_final.csv')\n",
    "target_data = pd.read_csv('../data/processed/y_train_final.csv')\n",
    "\n",
    "print(\"\\n\" + \"=\"*60)\n",
    "print(\"Data Import Summary:\")\n",
    "print(f\"Features available: {X_train.shape[1]}\")\n",
    "print(f\"Training samples: {X_train.shape[0]}\")\n",
    "print(f\"Test samples: {X_test.shape[0]}\")\n",
    "print(\"=\"*60)\n",
    "\n",
    "# Extract log-transformed target\n",
    "y_log = target_data['SalePrice']\n",
    "\n",
    "print(f\"\\nTarget Variable Statistics:\")\n",
    "print(f\"  Shape: {y_log.shape}\")\n",
    "print(f\"  Mean: {y_log.mean():.4f}\")\n",
    "print(f\"  Std: {y_log.std():.4f}\")\n",
    "print(f\"  Range: {y_log.min():.4f} - {y_log.max():.4f}\")\n",
    "\n",
    "# Data quality validation\n",
    "print(\"\\nData Quality Check:\")\n",
    "print(f\"Missing values in X_train: {X_train.isnull().sum().sum()}\")\n",
    "print(f\"Missing values in X_test: {X_test.isnull().sum().sum()}\")\n",
    "print(f\"Missing values in target: {y_log.isnull().sum()}\")\n",
    "\n",
    "# Handle infinite values\n",
    "inf_train = np.isinf(X_train.select_dtypes(include=[np.number])).sum().sum()\n",
    "inf_test = np.isinf(X_test.select_dtypes(include=[np.number])).sum().sum()\n",
    "\n",
    "print(f\"Infinite values in X_train: {inf_train}\")\n",
    "print(f\"Infinite values in X_test: {inf_test}\")\n",
    "\n",
    "if inf_test > 0:\n",
    "    print(\"Handling infinite values in test data...\")\n",
    "    inf_cols = X_test.columns[np.isinf(X_test).any()]\n",
    "    for col in inf_cols:\n",
    "        if col in X_train.columns:\n",
    "            replacement_value = X_train[col].median()\n",
    "            X_test[col] = X_test[col].replace([np.inf, -np.inf], replacement_value)\n",
    "            print(f\"  {col}: replaced with training median {replacement_value:.4f}\")\n",
    "    print(\"Infinite values handled\")\n",
    "\n",
    "print(\"Data loading complete\")"
   ]
  },
  {
   "cell_type": "code",
   "execution_count": 16,
   "id": "626980fd",
   "metadata": {},
   "outputs": [
    {
     "name": "stdout",
     "output_type": "stream",
     "text": [
      "\n",
      "Data Split Summary:\n",
      "Training set: (1166, 190)\n",
      "Validation set: (292, 190)\n",
      "Test set: (1459, 190)\n",
      "Cross-validation configured: 5-fold\n"
     ]
    }
   ],
   "source": [
    "# Create train-validation split\n",
    "X_train_split, X_val, y_train, y_val = train_test_split(\n",
    "    X_train, y_log, \n",
    "    test_size=0.2, \n",
    "    random_state=42\n",
    ")\n",
    "\n",
    "print(f\"\\nData Split Summary:\")\n",
    "print(f\"Training set: {X_train_split.shape}\")\n",
    "print(f\"Validation set: {X_val.shape}\")\n",
    "print(f\"Test set: {X_test.shape}\")\n",
    "\n",
    "# Setup cross-validation\n",
    "cv = KFold(n_splits=5, shuffle=True, random_state=42)\n",
    "print(\"Cross-validation configured: 5-fold\")"
   ]
  },
  {
   "cell_type": "code",
   "execution_count": 17,
   "id": "bc456c51",
   "metadata": {},
   "outputs": [
    {
     "name": "stdout",
     "output_type": "stream",
     "text": [
      "Model evaluation function ready\n"
     ]
    }
   ],
   "source": [
    "def evaluate_model(model, X, y, cv_folds, model_name=\"Model\"):\n",
    "    \"\"\"\n",
    "    Evaluate model using cross-validation and validation set\n",
    "    \"\"\"\n",
    "    print(f\"Evaluating {model_name}...\")\n",
    "    \n",
    "    # Cross-validation scores\n",
    "    cv_scores = []\n",
    "    with tqdm(total=cv_folds.n_splits, desc=f\"CV {model_name}\", leave=False) as pbar:\n",
    "        for train_idx, val_idx in cv_folds.split(X, y):\n",
    "            X_fold_train, X_fold_val = X.iloc[train_idx], X.iloc[val_idx]\n",
    "            y_fold_train, y_fold_val = y.iloc[train_idx], y.iloc[val_idx]\n",
    "            \n",
    "            # Fit and predict\n",
    "            model_copy = clone(model)\n",
    "            model_copy.fit(X_fold_train, y_fold_train)\n",
    "            pred = model_copy.predict(X_fold_val)\n",
    "            \n",
    "            # Calculate RMSE for this fold\n",
    "            fold_rmse = np.sqrt(mean_squared_error(y_fold_val, pred))\n",
    "            cv_scores.append(fold_rmse)\n",
    "            \n",
    "            pbar.update(1)\n",
    "    \n",
    "    cv_rmse = np.array(cv_scores)\n",
    "    \n",
    "    # Validation set score\n",
    "    model.fit(X, y)\n",
    "    val_pred = model.predict(X_val)\n",
    "    val_rmse = np.sqrt(mean_squared_error(y_val, val_pred))\n",
    "    \n",
    "    return {\n",
    "        'model_name': model_name,\n",
    "        'cv_rmse_mean': cv_rmse.mean(),\n",
    "        'cv_rmse_std': cv_rmse.std(),\n",
    "        'val_rmse': val_rmse\n",
    "    }\n",
    "\n",
    "print(\"Model evaluation function ready\")"
   ]
  },
  {
   "cell_type": "code",
   "execution_count": 18,
   "id": "e993f9d8",
   "metadata": {},
   "outputs": [
    {
     "name": "stdout",
     "output_type": "stream",
     "text": [
      "\n",
      "Baseline Model Performance:\n",
      "===========================================================================\n",
      "Model           CV RMSE      CV Std     Val RMSE    \n",
      "---------------------------------------------------------------------------\n"
     ]
    },
    {
     "name": "stderr",
     "output_type": "stream",
     "text": [
      "Training Ridge:   0%|          | 0/7 [00:00<?, ?it/s] "
     ]
    },
    {
     "name": "stdout",
     "output_type": "stream",
     "text": [
      "Evaluating Ridge...\n"
     ]
    },
    {
     "name": "stderr",
     "output_type": "stream",
     "text": [
      "Training Lasso:  14%|█▍        | 1/7 [00:00<00:00, 35.85it/s]"
     ]
    },
    {
     "name": "stdout",
     "output_type": "stream",
     "text": [
      "Ridge           0.1219       0.0089     0.1201      \n",
      "Evaluating Lasso...\n"
     ]
    },
    {
     "name": "stderr",
     "output_type": "stream",
     "text": [
      "Training ElasticNet:  29%|██▊       | 2/7 [00:00<00:00, 14.48it/s]"
     ]
    },
    {
     "name": "stdout",
     "output_type": "stream",
     "text": [
      "Lasso           0.1454       0.0067     0.1488      \n",
      "Evaluating ElasticNet...\n"
     ]
    },
    {
     "name": "stderr",
     "output_type": "stream",
     "text": [
      "Training RandomForest:  43%|████▎     | 3/7 [00:00<00:00, 14.48it/s]"
     ]
    },
    {
     "name": "stdout",
     "output_type": "stream",
     "text": [
      "ElasticNet      0.1366       0.0081     0.1389      \n",
      "Evaluating RandomForest...\n"
     ]
    },
    {
     "name": "stderr",
     "output_type": "stream",
     "text": [
      "Training GradientBoosting:  57%|█████▋    | 4/7 [00:01<00:01,  2.92it/s]"
     ]
    },
    {
     "name": "stdout",
     "output_type": "stream",
     "text": [
      "RandomForest    0.1415       0.0106     0.1468      \n",
      "Evaluating GradientBoosting...\n"
     ]
    },
    {
     "name": "stderr",
     "output_type": "stream",
     "text": [
      "Training XGBoost:  71%|███████▏  | 5/7 [00:03<00:01,  1.28it/s]         "
     ]
    },
    {
     "name": "stdout",
     "output_type": "stream",
     "text": [
      "GradientBoosting 0.1279       0.0097     0.1285      \n",
      "Evaluating XGBoost...\n"
     ]
    },
    {
     "name": "stderr",
     "output_type": "stream",
     "text": [
      "Training LightGBM:  86%|████████▌ | 6/7 [00:04<00:00,  1.16it/s]"
     ]
    },
    {
     "name": "stdout",
     "output_type": "stream",
     "text": [
      "XGBoost         0.1378       0.0093     0.1473      \n",
      "Evaluating LightGBM...\n"
     ]
    },
    {
     "name": "stderr",
     "output_type": "stream",
     "text": [
      "Training LightGBM: 100%|██████████| 7/7 [00:06<00:00,  1.02it/s]"
     ]
    },
    {
     "name": "stdout",
     "output_type": "stream",
     "text": [
      "LightGBM        0.1297       0.0089     0.1341      \n",
      "---------------------------------------------------------------------------\n",
      "Best baseline model: Ridge (CV RMSE: 0.1219)\n"
     ]
    },
    {
     "name": "stderr",
     "output_type": "stream",
     "text": [
      "\n"
     ]
    }
   ],
   "source": [
    "# Define seven diverse baseline models\n",
    "baseline_models = {\n",
    "    'Ridge': Ridge(alpha=1.0, random_state=42),\n",
    "    'Lasso': Lasso(alpha=0.01, random_state=42, max_iter=2000),\n",
    "    'ElasticNet': ElasticNet(alpha=0.01, l1_ratio=0.5, random_state=42, max_iter=2000),\n",
    "    'RandomForest': RandomForestRegressor(n_estimators=100, random_state=42, n_jobs=-1),\n",
    "    'GradientBoosting': GradientBoostingRegressor(n_estimators=100, random_state=42),\n",
    "    'XGBoost': XGBRegressor(n_estimators=100, random_state=42, verbosity=0),\n",
    "    'LightGBM': LGBMRegressor(n_estimators=100, random_state=42, verbosity=-1)\n",
    "}\n",
    "\n",
    "print(\"\\nBaseline Model Performance:\")\n",
    "print(\"=\" * 75)\n",
    "print(f\"{'Model':<15} {'CV RMSE':<12} {'CV Std':<10} {'Val RMSE':<12}\")\n",
    "print(\"-\" * 75)\n",
    "\n",
    "baseline_results = {}\n",
    "total_models = len(baseline_models)\n",
    "\n",
    "with tqdm(total=total_models, desc=\"Baseline Models\") as pbar:\n",
    "    for name, model in baseline_models.items():\n",
    "        pbar.set_description(f\"Training {name}\")\n",
    "        \n",
    "        try:\n",
    "            result = evaluate_model(model, X_train_split, y_train, cv, name)\n",
    "            baseline_results[name] = result\n",
    "            \n",
    "            print(f\"{name:<15} {result['cv_rmse_mean']:<12.4f} {result['cv_rmse_std']:<10.4f} \"\n",
    "                  f\"{result['val_rmse']:<12.4f}\")\n",
    "        except Exception as e:\n",
    "            print(f\"{name:<15} FAILED: {str(e)[:50]}\")\n",
    "            baseline_results[name] = {\n",
    "                'cv_rmse_mean': float('inf'), \n",
    "                'cv_rmse_std': 0, \n",
    "                'val_rmse': float('inf')\n",
    "            }\n",
    "        \n",
    "        pbar.update(1)\n",
    "\n",
    "print(\"-\" * 75)\n",
    "\n",
    "# Find best baseline model\n",
    "valid_results = {k: v for k, v in baseline_results.items() if v['cv_rmse_mean'] != float('inf')}\n",
    "if valid_results:\n",
    "    best_baseline = min(valid_results.items(), key=lambda x: x[1]['cv_rmse_mean'])\n",
    "    print(f\"Best baseline model: {best_baseline[0]} (CV RMSE: {best_baseline[1]['cv_rmse_mean']:.4f})\")\n",
    "else:\n",
    "    print(\"Warning: No baseline models succeeded\")"
   ]
  },
  {
   "cell_type": "code",
   "execution_count": 19,
   "id": "265bcf8e",
   "metadata": {},
   "outputs": [
    {
     "name": "stdout",
     "output_type": "stream",
     "text": [
      "Optuna callback configured\n"
     ]
    }
   ],
   "source": [
    "class OptunaTqdmCallback:\n",
    "    \"\"\"Custom callback for Optuna to show progress with tqdm\"\"\"\n",
    "    def __init__(self, n_trials, model_name):\n",
    "        self.n_trials = n_trials\n",
    "        self.model_name = model_name\n",
    "        self.pbar = None\n",
    "    \n",
    "    def __call__(self, study, trial):\n",
    "        if self.pbar is None:\n",
    "            self.pbar = tqdm(total=self.n_trials, desc=f\"Optimizing {self.model_name}\")\n",
    "        \n",
    "        self.pbar.set_postfix({\n",
    "            'Trial': trial.number + 1,\n",
    "            'Best': f\"{study.best_value:.4f}\" if study.best_value else \"N/A\"\n",
    "        })\n",
    "        self.pbar.update(1)\n",
    "        \n",
    "        if trial.number + 1 >= self.n_trials:\n",
    "            self.pbar.close()\n",
    "\n",
    "print(\"Optuna callback configured\")"
   ]
  },
  {
   "cell_type": "code",
   "execution_count": 20,
   "id": "575a3933",
   "metadata": {},
   "outputs": [
    {
     "name": "stderr",
     "output_type": "stream",
     "text": [
      "[I 2025-07-14 09:47:11,770] A new study created in memory with name: xgb_optimization\n"
     ]
    },
    {
     "name": "stdout",
     "output_type": "stream",
     "text": [
      "Optimizing XGBoost...\n"
     ]
    },
    {
     "name": "stderr",
     "output_type": "stream",
     "text": [
      "[I 2025-07-14 09:47:13,503] Trial 0 finished with value: 0.14264049184210173 and parameters: {'n_estimators': 661, 'max_depth': 7, 'learning_rate': 0.2948447418942032, 'subsample': 0.7105768040088728, 'colsample_bytree': 0.6995037606292803, 'min_child_weight': 4}. Best is trial 0 with value: 0.14264049184210173.\n",
      "Optimizing XGBoost:   0%|          | 0/75 [00:00<?, ?it/s, Trial=1, Best=0.1426][I 2025-07-14 09:47:14,694] Trial 1 finished with value: 0.13345651307210954 and parameters: {'n_estimators': 565, 'max_depth': 9, 'learning_rate': 0.1927695788222153, 'subsample': 0.8970078934339085, 'colsample_bytree': 0.6108400300678034, 'min_child_weight': 7}. Best is trial 1 with value: 0.13345651307210954.\n",
      "Optimizing XGBoost:   3%|▎         | 2/75 [00:01<00:43,  1.68it/s, Trial=2, Best=0.1335][I 2025-07-14 09:47:15,607] Trial 2 finished with value: 0.12332345378098178 and parameters: {'n_estimators': 357, 'max_depth': 3, 'learning_rate': 0.027421449122479874, 'subsample': 0.7129951408383852, 'colsample_bytree': 0.8667050557214369, 'min_child_weight': 4}. Best is trial 2 with value: 0.12332345378098178.\n",
      "Optimizing XGBoost:   4%|▍         | 3/75 [00:02<00:52,  1.37it/s, Trial=3, Best=0.1233][I 2025-07-14 09:47:16,052] Trial 3 finished with value: 0.13744874201225474 and parameters: {'n_estimators': 491, 'max_depth': 5, 'learning_rate': 0.2950169684099978, 'subsample': 0.8580815894538598, 'colsample_bytree': 0.8147189272635367, 'min_child_weight': 7}. Best is trial 2 with value: 0.12332345378098178.\n",
      "Optimizing XGBoost:   5%|▌         | 4/75 [00:02<00:44,  1.61it/s, Trial=4, Best=0.1233][I 2025-07-14 09:47:16,265] Trial 4 finished with value: 0.12490287546658588 and parameters: {'n_estimators': 153, 'max_depth': 3, 'learning_rate': 0.08849614724192027, 'subsample': 0.8880786562644486, 'colsample_bytree': 0.9646473834043783, 'min_child_weight': 5}. Best is trial 2 with value: 0.12332345378098178.\n",
      "Optimizing XGBoost:   7%|▋         | 5/75 [00:02<00:33,  2.08it/s, Trial=5, Best=0.1233][I 2025-07-14 09:47:17,792] Trial 5 finished with value: 0.1264115502376126 and parameters: {'n_estimators': 898, 'max_depth': 5, 'learning_rate': 0.08177748583253956, 'subsample': 0.634569354931521, 'colsample_bytree': 0.9599020539255907, 'min_child_weight': 6}. Best is trial 2 with value: 0.12332345378098178.\n",
      "Optimizing XGBoost:   8%|▊         | 6/75 [00:04<00:57,  1.21it/s, Trial=6, Best=0.1233][I 2025-07-14 09:47:18,870] Trial 6 finished with value: 0.1384894537490216 and parameters: {'n_estimators': 609, 'max_depth': 5, 'learning_rate': 0.28969672342564873, 'subsample': 0.8773545889899952, 'colsample_bytree': 0.9413778003189018, 'min_child_weight': 4}. Best is trial 2 with value: 0.12332345378098178.\n",
      "Optimizing XGBoost:   9%|▉         | 7/75 [00:05<01:01,  1.10it/s, Trial=7, Best=0.1233][I 2025-07-14 09:47:19,210] Trial 7 finished with value: 0.13494203976853125 and parameters: {'n_estimators': 577, 'max_depth': 5, 'learning_rate': 0.2865446431623889, 'subsample': 0.9461773105825468, 'colsample_bytree': 0.8015320723548937, 'min_child_weight': 5}. Best is trial 2 with value: 0.12332345378098178.\n",
      "Optimizing XGBoost:  11%|█         | 8/75 [00:05<00:48,  1.37it/s, Trial=8, Best=0.1233][I 2025-07-14 09:47:19,570] Trial 8 finished with value: 0.12714453159038486 and parameters: {'n_estimators': 492, 'max_depth': 3, 'learning_rate': 0.15595570832282554, 'subsample': 0.9948912644148455, 'colsample_bytree': 0.9650199200130758, 'min_child_weight': 7}. Best is trial 2 with value: 0.12332345378098178.\n",
      "Optimizing XGBoost:  12%|█▏        | 9/75 [00:06<00:40,  1.63it/s, Trial=9, Best=0.1233][I 2025-07-14 09:47:20,566] Trial 9 finished with value: 0.12479761222336885 and parameters: {'n_estimators': 853, 'max_depth': 6, 'learning_rate': 0.03248142112463623, 'subsample': 0.7415970408174996, 'colsample_bytree': 0.9123982638773201, 'min_child_weight': 2}. Best is trial 2 with value: 0.12332345378098178.\n",
      "Optimizing XGBoost:  13%|█▎        | 10/75 [00:07<00:47,  1.37it/s, Trial=10, Best=0.1233][I 2025-07-14 09:47:21,564] Trial 10 finished with value: 0.13299643354106655 and parameters: {'n_estimators': 246, 'max_depth': 10, 'learning_rate': 0.01629987414490952, 'subsample': 0.6017935033493882, 'colsample_bytree': 0.873338049818892, 'min_child_weight': 1}. Best is trial 2 with value: 0.12332345378098178.\n",
      "Optimizing XGBoost:  15%|█▍        | 11/75 [00:08<00:52,  1.23it/s, Trial=11, Best=0.1233][I 2025-07-14 09:47:23,768] Trial 11 finished with value: 0.12632319551587443 and parameters: {'n_estimators': 986, 'max_depth': 7, 'learning_rate': 0.0103728584303228, 'subsample': 0.7544325361027322, 'colsample_bytree': 0.895413744249307, 'min_child_weight': 2}. Best is trial 2 with value: 0.12332345378098178.\n",
      "Optimizing XGBoost:  16%|█▌        | 12/75 [00:10<01:17,  1.24s/it, Trial=12, Best=0.1233][I 2025-07-14 09:47:24,468] Trial 12 finished with value: 0.12994709606044902 and parameters: {'n_estimators': 310, 'max_depth': 8, 'learning_rate': 0.06637339619772076, 'subsample': 0.6986428416355852, 'colsample_bytree': 0.8644587251784344, 'min_child_weight': 2}. Best is trial 2 with value: 0.12332345378098178.\n",
      "Optimizing XGBoost:  17%|█▋        | 13/75 [00:10<01:06,  1.07s/it, Trial=13, Best=0.1233][I 2025-07-14 09:47:24,993] Trial 13 finished with value: 0.1216557438527504 and parameters: {'n_estimators': 783, 'max_depth': 4, 'learning_rate': 0.05353980950958907, 'subsample': 0.7975772254090515, 'colsample_bytree': 0.7355526125706053, 'min_child_weight': 3}. Best is trial 13 with value: 0.1216557438527504.\n",
      "Optimizing XGBoost:  19%|█▊        | 14/75 [00:11<00:55,  1.10it/s, Trial=14, Best=0.1217][I 2025-07-14 09:47:25,430] Trial 14 finished with value: 0.12162233183426857 and parameters: {'n_estimators': 733, 'max_depth': 3, 'learning_rate': 0.12013215532742444, 'subsample': 0.807587634025618, 'colsample_bytree': 0.725962922784943, 'min_child_weight': 3}. Best is trial 14 with value: 0.12162233183426857.\n",
      "Optimizing XGBoost:  20%|██        | 15/75 [00:11<00:45,  1.31it/s, Trial=15, Best=0.1216][I 2025-07-14 09:47:25,944] Trial 15 finished with value: 0.12676374123737866 and parameters: {'n_estimators': 753, 'max_depth': 4, 'learning_rate': 0.12775080731125119, 'subsample': 0.8055025583671803, 'colsample_bytree': 0.7195581059490069, 'min_child_weight': 3}. Best is trial 14 with value: 0.12162233183426857.\n",
      "Optimizing XGBoost:  21%|██▏       | 16/75 [00:12<00:40,  1.45it/s, Trial=16, Best=0.1216][I 2025-07-14 09:47:26,452] Trial 16 finished with value: 0.12939992370541867 and parameters: {'n_estimators': 744, 'max_depth': 4, 'learning_rate': 0.20135182401061297, 'subsample': 0.8057379437409353, 'colsample_bytree': 0.7281379048174597, 'min_child_weight': 3}. Best is trial 14 with value: 0.12162233183426857.\n",
      "Optimizing XGBoost:  23%|██▎       | 17/75 [00:12<00:36,  1.57it/s, Trial=17, Best=0.1216][I 2025-07-14 09:47:26,963] Trial 17 finished with value: 0.12618933204891505 and parameters: {'n_estimators': 746, 'max_depth': 4, 'learning_rate': 0.1221345218545302, 'subsample': 0.8403607335165049, 'colsample_bytree': 0.6640015317661226, 'min_child_weight': 3}. Best is trial 14 with value: 0.12162233183426857.\n",
      "Optimizing XGBoost:  24%|██▍       | 18/75 [00:13<00:34,  1.67it/s, Trial=18, Best=0.1216][I 2025-07-14 09:47:27,935] Trial 18 finished with value: 0.1256847026383288 and parameters: {'n_estimators': 866, 'max_depth': 6, 'learning_rate': 0.06195732908503595, 'subsample': 0.763021425967711, 'colsample_bytree': 0.737109591205379, 'min_child_weight': 1}. Best is trial 14 with value: 0.12162233183426857.\n",
      "Optimizing XGBoost:  25%|██▌       | 19/75 [00:14<00:39,  1.41it/s, Trial=19, Best=0.1216][I 2025-07-14 09:47:28,341] Trial 19 finished with value: 0.12491654594929139 and parameters: {'n_estimators': 674, 'max_depth': 3, 'learning_rate': 0.11095953803339394, 'subsample': 0.6626702434727714, 'colsample_bytree': 0.7570582221739456, 'min_child_weight': 5}. Best is trial 14 with value: 0.12162233183426857.\n",
      "Optimizing XGBoost:  27%|██▋       | 20/75 [00:14<00:34,  1.62it/s, Trial=20, Best=0.1216][I 2025-07-14 09:47:28,920] Trial 20 finished with value: 0.12757349640998428 and parameters: {'n_estimators': 938, 'max_depth': 4, 'learning_rate': 0.17258641176187406, 'subsample': 0.8245832283729054, 'colsample_bytree': 0.6581620978183985, 'min_child_weight': 3}. Best is trial 14 with value: 0.12162233183426857.\n",
      "Optimizing XGBoost:  28%|██▊       | 21/75 [00:15<00:32,  1.65it/s, Trial=21, Best=0.1216][I 2025-07-14 09:47:29,223] Trial 21 finished with value: 0.12088138979732016 and parameters: {'n_estimators': 387, 'max_depth': 3, 'learning_rate': 0.051081757010766046, 'subsample': 0.7718795881380708, 'colsample_bytree': 0.7693875304845305, 'min_child_weight': 4}. Best is trial 21 with value: 0.12088138979732016.\n",
      "Optimizing XGBoost:  29%|██▉       | 22/75 [00:15<00:27,  1.94it/s, Trial=22, Best=0.1209][I 2025-07-14 09:47:29,545] Trial 22 finished with value: 0.12007619022183759 and parameters: {'n_estimators': 428, 'max_depth': 3, 'learning_rate': 0.05019055333822699, 'subsample': 0.7847677692245948, 'colsample_bytree': 0.7616805076859001, 'min_child_weight': 3}. Best is trial 22 with value: 0.12007619022183759.\n",
      "Optimizing XGBoost:  31%|███       | 23/75 [00:16<00:23,  2.18it/s, Trial=23, Best=0.1201][I 2025-07-14 09:47:29,848] Trial 23 finished with value: 0.12101145391228382 and parameters: {'n_estimators': 396, 'max_depth': 3, 'learning_rate': 0.09806382868386328, 'subsample': 0.7409812875416146, 'colsample_bytree': 0.7765369224852255, 'min_child_weight': 4}. Best is trial 22 with value: 0.12007619022183759.\n",
      "Optimizing XGBoost:  32%|███▏      | 24/75 [00:16<00:20,  2.43it/s, Trial=24, Best=0.1201][I 2025-07-14 09:47:30,167] Trial 24 finished with value: 0.12062381046621161 and parameters: {'n_estimators': 408, 'max_depth': 3, 'learning_rate': 0.04607576874126697, 'subsample': 0.7812267350978349, 'colsample_bytree': 0.7753786895927974, 'min_child_weight': 5}. Best is trial 22 with value: 0.12007619022183759.\n",
      "Optimizing XGBoost:  33%|███▎      | 25/75 [00:16<00:19,  2.61it/s, Trial=25, Best=0.1201][I 2025-07-14 09:47:30,542] Trial 25 finished with value: 0.12239968424890162 and parameters: {'n_estimators': 443, 'max_depth': 4, 'learning_rate': 0.046452980569996895, 'subsample': 0.7686237626322799, 'colsample_bytree': 0.8259388112325629, 'min_child_weight': 6}. Best is trial 22 with value: 0.12007619022183759.\n",
      "Optimizing XGBoost:  35%|███▍      | 26/75 [00:17<00:18,  2.63it/s, Trial=26, Best=0.1201][I 2025-07-14 09:47:30,793] Trial 26 finished with value: 0.13392851143912105 and parameters: {'n_estimators': 253, 'max_depth': 3, 'learning_rate': 0.250150818786135, 'subsample': 0.6797330203891315, 'colsample_bytree': 0.7794268066671117, 'min_child_weight': 5}. Best is trial 22 with value: 0.12007619022183759.\n",
      "Optimizing XGBoost:  36%|███▌      | 27/75 [00:17<00:16,  2.92it/s, Trial=27, Best=0.1201][I 2025-07-14 09:47:31,057] Trial 27 finished with value: 0.12672209281013339 and parameters: {'n_estimators': 127, 'max_depth': 6, 'learning_rate': 0.04034466048601249, 'subsample': 0.7796520998688269, 'colsample_bytree': 0.6724022657240698, 'min_child_weight': 6}. Best is trial 22 with value: 0.12007619022183759.\n",
      "Optimizing XGBoost:  37%|███▋      | 28/75 [00:17<00:14,  3.14it/s, Trial=28, Best=0.1201][I 2025-07-14 09:47:31,508] Trial 28 finished with value: 0.13001938736494134 and parameters: {'n_estimators': 486, 'max_depth': 5, 'learning_rate': 0.14418871060464064, 'subsample': 0.8527356976298452, 'colsample_bytree': 0.8331443634664178, 'min_child_weight': 5}. Best is trial 22 with value: 0.12007619022183759.\n",
      "Optimizing XGBoost:  39%|███▊      | 29/75 [00:18<00:16,  2.79it/s, Trial=29, Best=0.1201][I 2025-07-14 09:47:32,108] Trial 29 finished with value: 0.12723946396241106 and parameters: {'n_estimators': 394, 'max_depth': 8, 'learning_rate': 0.07808927307122832, 'subsample': 0.7257104375344884, 'colsample_bytree': 0.776464807939944, 'min_child_weight': 4}. Best is trial 22 with value: 0.12007619022183759.\n",
      "Optimizing XGBoost:  40%|████      | 30/75 [00:18<00:19,  2.32it/s, Trial=30, Best=0.1201][I 2025-07-14 09:47:32,411] Trial 30 finished with value: 0.12461463761805211 and parameters: {'n_estimators': 291, 'max_depth': 4, 'learning_rate': 0.10082862474684287, 'subsample': 0.7808973925024987, 'colsample_bytree': 0.6966362397592565, 'min_child_weight': 4}. Best is trial 22 with value: 0.12007619022183759.\n",
      "Optimizing XGBoost:  41%|████▏     | 31/75 [00:18<00:17,  2.55it/s, Trial=31, Best=0.1201][I 2025-07-14 09:47:32,722] Trial 31 finished with value: 0.12018876566114228 and parameters: {'n_estimators': 414, 'max_depth': 3, 'learning_rate': 0.06932099996098348, 'subsample': 0.7320505888155817, 'colsample_bytree': 0.7725271493480418, 'min_child_weight': 4}. Best is trial 22 with value: 0.12007619022183759.\n",
      "Optimizing XGBoost:  43%|████▎     | 32/75 [00:19<00:15,  2.72it/s, Trial=32, Best=0.1201][I 2025-07-14 09:47:33,030] Trial 32 finished with value: 0.1190022855484272 and parameters: {'n_estimators': 429, 'max_depth': 3, 'learning_rate': 0.06958772969375517, 'subsample': 0.7019497374401187, 'colsample_bytree': 0.7665742284643303, 'min_child_weight': 4}. Best is trial 32 with value: 0.1190022855484272.\n",
      "Optimizing XGBoost:  44%|████▍     | 33/75 [00:19<00:14,  2.86it/s, Trial=33, Best=0.1190][I 2025-07-14 09:47:33,394] Trial 33 finished with value: 0.1205802190778175 and parameters: {'n_estimators': 528, 'max_depth': 3, 'learning_rate': 0.06906080312274318, 'subsample': 0.7004631943793778, 'colsample_bytree': 0.8439529972570037, 'min_child_weight': 5}. Best is trial 32 with value: 0.1190022855484272.\n",
      "Optimizing XGBoost:  45%|████▌     | 34/75 [00:19<00:14,  2.82it/s, Trial=34, Best=0.1190][I 2025-07-14 09:47:33,809] Trial 34 finished with value: 0.12244272611272747 and parameters: {'n_estimators': 536, 'max_depth': 4, 'learning_rate': 0.0754677210661309, 'subsample': 0.7020331149617863, 'colsample_bytree': 0.8364112241067064, 'min_child_weight': 4}. Best is trial 32 with value: 0.1190022855484272.\n",
      "Optimizing XGBoost:  47%|████▋     | 35/75 [00:20<00:14,  2.68it/s, Trial=35, Best=0.1190][I 2025-07-14 09:47:34,183] Trial 35 finished with value: 0.1218057725274243 and parameters: {'n_estimators': 636, 'max_depth': 3, 'learning_rate': 0.09312727617748971, 'subsample': 0.6836447127266834, 'colsample_bytree': 0.6111573125766379, 'min_child_weight': 6}. Best is trial 32 with value: 0.1190022855484272.\n",
      "Optimizing XGBoost:  48%|████▊     | 36/75 [00:20<00:14,  2.68it/s, Trial=36, Best=0.1190][I 2025-07-14 09:47:34,477] Trial 36 finished with value: 0.1241792691675492 and parameters: {'n_estimators': 329, 'max_depth': 3, 'learning_rate': 0.02814560248692019, 'subsample': 0.6577953074045565, 'colsample_bytree': 0.807479641063314, 'min_child_weight': 2}. Best is trial 32 with value: 0.1190022855484272.\n",
      "Optimizing XGBoost:  49%|████▉     | 37/75 [00:20<00:13,  2.86it/s, Trial=37, Best=0.1190][I 2025-07-14 09:47:34,961] Trial 37 finished with value: 0.12258623555710534 and parameters: {'n_estimators': 536, 'max_depth': 5, 'learning_rate': 0.06859597120736192, 'subsample': 0.7262697521861015, 'colsample_bytree': 0.8485909648121924, 'min_child_weight': 5}. Best is trial 32 with value: 0.1190022855484272.\n",
      "Optimizing XGBoost:  51%|█████     | 38/75 [00:21<00:14,  2.57it/s, Trial=38, Best=0.1190][I 2025-07-14 09:47:35,336] Trial 38 finished with value: 0.12806874234854612 and parameters: {'n_estimators': 459, 'max_depth': 4, 'learning_rate': 0.21526118198376698, 'subsample': 0.6334063554368122, 'colsample_bytree': 0.6952959256593979, 'min_child_weight': 4}. Best is trial 32 with value: 0.1190022855484272.\n",
      "Optimizing XGBoost:  52%|█████▏    | 39/75 [00:21<00:13,  2.60it/s, Trial=39, Best=0.1190][I 2025-07-14 09:47:35,616] Trial 39 finished with value: 0.12544281006953892 and parameters: {'n_estimators': 187, 'max_depth': 5, 'learning_rate': 0.08486255687532873, 'subsample': 0.7116944225680808, 'colsample_bytree': 0.7532859767955494, 'min_child_weight': 3}. Best is trial 32 with value: 0.1190022855484272.\n",
      "Optimizing XGBoost:  53%|█████▎    | 40/75 [00:22<00:12,  2.83it/s, Trial=40, Best=0.1190][I 2025-07-14 09:47:36,284] Trial 40 finished with value: 0.13151391084028247 and parameters: {'n_estimators': 574, 'max_depth': 10, 'learning_rate': 0.13911837532080282, 'subsample': 0.6289918862916476, 'colsample_bytree': 0.7883970155738702, 'min_child_weight': 6}. Best is trial 32 with value: 0.1190022855484272.\n",
      "Optimizing XGBoost:  55%|█████▍    | 41/75 [00:22<00:15,  2.23it/s, Trial=41, Best=0.1190][I 2025-07-14 09:47:36,656] Trial 41 finished with value: 0.12233938600715037 and parameters: {'n_estimators': 443, 'max_depth': 3, 'learning_rate': 0.03098830697776539, 'subsample': 0.7401136938925199, 'colsample_bytree': 0.8148796742693979, 'min_child_weight': 5}. Best is trial 32 with value: 0.1190022855484272.\n",
      "Optimizing XGBoost:  56%|█████▌    | 42/75 [00:23<00:14,  2.35it/s, Trial=42, Best=0.1190][I 2025-07-14 09:47:37,115] Trial 42 finished with value: 0.1189094553540941 and parameters: {'n_estimators': 356, 'max_depth': 3, 'learning_rate': 0.052712014658600675, 'subsample': 0.6762211937712207, 'colsample_bytree': 0.7964406271477398, 'min_child_weight': 5}. Best is trial 42 with value: 0.1189094553540941.\n",
      "Optimizing XGBoost:  57%|█████▋    | 43/75 [00:23<00:13,  2.30it/s, Trial=43, Best=0.1189][I 2025-07-14 09:47:37,466] Trial 43 finished with value: 0.12005667271640988 and parameters: {'n_estimators': 508, 'max_depth': 3, 'learning_rate': 0.0588790454365308, 'subsample': 0.6603263397565055, 'colsample_bytree': 0.7948589891369747, 'min_child_weight': 4}. Best is trial 42 with value: 0.1189094553540941.\n",
      "Optimizing XGBoost:  59%|█████▊    | 44/75 [00:23<00:12,  2.44it/s, Trial=44, Best=0.1189][I 2025-07-14 09:47:37,828] Trial 44 finished with value: 0.12505960753530201 and parameters: {'n_estimators': 361, 'max_depth': 3, 'learning_rate': 0.020435462341487798, 'subsample': 0.6592602921063921, 'colsample_bytree': 0.7963931952700088, 'min_child_weight': 4}. Best is trial 42 with value: 0.1189094553540941.\n",
      "Optimizing XGBoost:  60%|██████    | 45/75 [00:24<00:11,  2.53it/s, Trial=45, Best=0.1189][I 2025-07-14 09:47:38,179] Trial 45 finished with value: 0.1227036180571232 and parameters: {'n_estimators': 265, 'max_depth': 4, 'learning_rate': 0.05914112029217657, 'subsample': 0.6770176454838185, 'colsample_bytree': 0.9978559981732833, 'min_child_weight': 4}. Best is trial 42 with value: 0.1189094553540941.\n",
      "Optimizing XGBoost:  61%|██████▏   | 46/75 [00:24<00:11,  2.62it/s, Trial=46, Best=0.1189][I 2025-07-14 09:47:38,478] Trial 46 finished with value: 0.1250780744365179 and parameters: {'n_estimators': 194, 'max_depth': 3, 'learning_rate': 0.037164414547716344, 'subsample': 0.6051115443185341, 'colsample_bytree': 0.7514880551627436, 'min_child_weight': 3}. Best is trial 42 with value: 0.1189094553540941.\n",
      "Optimizing XGBoost:  63%|██████▎   | 47/75 [00:24<00:09,  2.80it/s, Trial=47, Best=0.1189][I 2025-07-14 09:47:39,035] Trial 47 finished with value: 0.13372116649398832 and parameters: {'n_estimators': 337, 'max_depth': 8, 'learning_rate': 0.10541147673735754, 'subsample': 0.9102743062152623, 'colsample_bytree': 0.8047354156387592, 'min_child_weight': 4}. Best is trial 42 with value: 0.1189094553540941.\n",
      "Optimizing XGBoost:  64%|██████▍   | 48/75 [00:25<00:11,  2.40it/s, Trial=48, Best=0.1189][I 2025-07-14 09:47:39,523] Trial 48 finished with value: 0.12420435808816507 and parameters: {'n_estimators': 504, 'max_depth': 5, 'learning_rate': 0.08656066623631829, 'subsample': 0.6452251168964703, 'colsample_bytree': 0.7500537610336432, 'min_child_weight': 2}. Best is trial 42 with value: 0.1189094553540941.\n",
      "Optimizing XGBoost:  65%|██████▌   | 49/75 [00:26<00:11,  2.28it/s, Trial=49, Best=0.1189][I 2025-07-14 09:47:39,972] Trial 49 finished with value: 0.12064814071830321 and parameters: {'n_estimators': 601, 'max_depth': 4, 'learning_rate': 0.057243134282051744, 'subsample': 0.726162019558503, 'colsample_bytree': 0.7119574858184006, 'min_child_weight': 3}. Best is trial 42 with value: 0.1189094553540941.\n",
      "Optimizing XGBoost:  67%|██████▋   | 50/75 [00:26<00:11,  2.27it/s, Trial=50, Best=0.1189][I 2025-07-14 09:47:40,761] Trial 50 finished with value: 0.1254351473058759 and parameters: {'n_estimators': 430, 'max_depth': 9, 'learning_rate': 0.020823104026961137, 'subsample': 0.6901471174344643, 'colsample_bytree': 0.8681055153957807, 'min_child_weight': 4}. Best is trial 42 with value: 0.1189094553540941.\n",
      "Optimizing XGBoost:  68%|██████▊   | 51/75 [00:27<00:13,  1.83it/s, Trial=51, Best=0.1189][I 2025-07-14 09:47:41,115] Trial 51 finished with value: 0.11974734726867683 and parameters: {'n_estimators': 488, 'max_depth': 3, 'learning_rate': 0.07107716857271941, 'subsample': 0.6998452064173618, 'colsample_bytree': 0.8499037167350246, 'min_child_weight': 5}. Best is trial 42 with value: 0.1189094553540941.\n",
      "Optimizing XGBoost:  69%|██████▉   | 52/75 [00:27<00:11,  2.05it/s, Trial=52, Best=0.1189][I 2025-07-14 09:47:41,508] Trial 52 finished with value: 0.12149019164921898 and parameters: {'n_estimators': 481, 'max_depth': 3, 'learning_rate': 0.07443035537140887, 'subsample': 0.6165697055244391, 'colsample_bytree': 0.9114547692524037, 'min_child_weight': 5}. Best is trial 42 with value: 0.1189094553540941.\n",
      "Optimizing XGBoost:  71%|███████   | 53/75 [00:28<00:10,  2.18it/s, Trial=53, Best=0.1189][I 2025-07-14 09:47:41,848] Trial 53 finished with value: 0.12006869427653045 and parameters: {'n_estimators': 362, 'max_depth': 3, 'learning_rate': 0.04275060161944741, 'subsample': 0.6700161557051622, 'colsample_bytree': 0.7916965362796291, 'min_child_weight': 7}. Best is trial 42 with value: 0.1189094553540941.\n",
      "Optimizing XGBoost:  72%|███████▏  | 54/75 [00:28<00:08,  2.36it/s, Trial=54, Best=0.1189][I 2025-07-14 09:47:42,235] Trial 54 finished with value: 0.12809531915750427 and parameters: {'n_estimators': 465, 'max_depth': 4, 'learning_rate': 0.01031124239279503, 'subsample': 0.6664680151550453, 'colsample_bytree': 0.8511514840165981, 'min_child_weight': 7}. Best is trial 42 with value: 0.1189094553540941.\n",
      "Optimizing XGBoost:  73%|███████▎  | 55/75 [00:28<00:08,  2.42it/s, Trial=55, Best=0.1189][I 2025-07-14 09:47:42,550] Trial 55 finished with value: 0.12086595612307588 and parameters: {'n_estimators': 362, 'max_depth': 3, 'learning_rate': 0.048529971019065865, 'subsample': 0.6477311932147642, 'colsample_bytree': 0.8238822675337172, 'min_child_weight': 6}. Best is trial 42 with value: 0.1189094553540941.\n",
      "Optimizing XGBoost:  75%|███████▍  | 56/75 [00:29<00:07,  2.61it/s, Trial=56, Best=0.1189][I 2025-07-14 09:47:42,976] Trial 56 finished with value: 0.12173455257612992 and parameters: {'n_estimators': 510, 'max_depth': 4, 'learning_rate': 0.03590875559934952, 'subsample': 0.7137881463383188, 'colsample_bytree': 0.883499021040196, 'min_child_weight': 7}. Best is trial 42 with value: 0.1189094553540941.\n",
      "Optimizing XGBoost:  76%|███████▌  | 57/75 [00:29<00:07,  2.52it/s, Trial=57, Best=0.1189][I 2025-07-14 09:47:43,253] Trial 57 finished with value: 0.12165555327086239 and parameters: {'n_estimators': 296, 'max_depth': 3, 'learning_rate': 0.05861157190313459, 'subsample': 0.6182871460802628, 'colsample_bytree': 0.7925194435662982, 'min_child_weight': 7}. Best is trial 42 with value: 0.1189094553540941.\n",
      "Optimizing XGBoost:  77%|███████▋  | 58/75 [00:29<00:06,  2.77it/s, Trial=58, Best=0.1189][I 2025-07-14 09:47:43,648] Trial 58 finished with value: 0.12003911693547574 and parameters: {'n_estimators': 686, 'max_depth': 3, 'learning_rate': 0.02325595589144107, 'subsample': 0.6451246083966173, 'colsample_bytree': 0.7429142507686992, 'min_child_weight': 6}. Best is trial 42 with value: 0.1189094553540941.\n",
      "Optimizing XGBoost:  79%|███████▊  | 59/75 [00:30<00:05,  2.70it/s, Trial=59, Best=0.1189][I 2025-07-14 09:47:44,042] Trial 59 finished with value: 0.12025633745841663 and parameters: {'n_estimators': 647, 'max_depth': 3, 'learning_rate': 0.018253155300682923, 'subsample': 0.6467682455245549, 'colsample_bytree': 0.7391930357903396, 'min_child_weight': 6}. Best is trial 42 with value: 0.1189094553540941.\n",
      "Optimizing XGBoost:  80%|████████  | 60/75 [00:30<00:05,  2.65it/s, Trial=60, Best=0.1189][I 2025-07-14 09:47:44,518] Trial 60 finished with value: 0.12737576301162706 and parameters: {'n_estimators': 699, 'max_depth': 4, 'learning_rate': 0.11497598652466764, 'subsample': 0.6731478414484353, 'colsample_bytree': 0.8165760777094622, 'min_child_weight': 7}. Best is trial 42 with value: 0.1189094553540941.\n",
      "Optimizing XGBoost:  81%|████████▏ | 61/75 [00:31<00:05,  2.46it/s, Trial=61, Best=0.1189][I 2025-07-14 09:47:44,888] Trial 61 finished with value: 0.12033831489673497 and parameters: {'n_estimators': 566, 'max_depth': 3, 'learning_rate': 0.04237190567367765, 'subsample': 0.6904931104855253, 'colsample_bytree': 0.7637027470306319, 'min_child_weight': 6}. Best is trial 42 with value: 0.1189094553540941.\n",
      "Optimizing XGBoost:  83%|████████▎ | 62/75 [00:31<00:05,  2.53it/s, Trial=62, Best=0.1189][I 2025-07-14 09:47:45,385] Trial 62 finished with value: 0.11878768928622381 and parameters: {'n_estimators': 825, 'max_depth': 3, 'learning_rate': 0.023810419028745998, 'subsample': 0.6505527990299675, 'colsample_bytree': 0.7877532335311394, 'min_child_weight': 5}. Best is trial 62 with value: 0.11878768928622381.\n",
      "Optimizing XGBoost:  84%|████████▍ | 63/75 [00:31<00:05,  2.35it/s, Trial=63, Best=0.1188][I 2025-07-14 09:47:45,844] Trial 63 finished with value: 0.11883161309868832 and parameters: {'n_estimators': 852, 'max_depth': 3, 'learning_rate': 0.03131845694001077, 'subsample': 0.6251539411001381, 'colsample_bytree': 0.7920075471719178, 'min_child_weight': 5}. Best is trial 62 with value: 0.11878768928622381.\n",
      "Optimizing XGBoost:  85%|████████▌ | 64/75 [00:32<00:04,  2.29it/s, Trial=64, Best=0.1188][I 2025-07-14 09:47:46,301] Trial 64 finished with value: 0.11874050001545415 and parameters: {'n_estimators': 849, 'max_depth': 3, 'learning_rate': 0.026182684783710542, 'subsample': 0.6192041115072013, 'colsample_bytree': 0.7421807400737711, 'min_child_weight': 5}. Best is trial 64 with value: 0.11874050001545415.\n",
      "Optimizing XGBoost:  87%|████████▋ | 65/75 [00:32<00:04,  2.26it/s, Trial=65, Best=0.1187][I 2025-07-14 09:47:46,830] Trial 65 finished with value: 0.11907227332952212 and parameters: {'n_estimators': 845, 'max_depth': 4, 'learning_rate': 0.02563484168206963, 'subsample': 0.6192633593454118, 'colsample_bytree': 0.7181609345348888, 'min_child_weight': 5}. Best is trial 64 with value: 0.11874050001545415.\n",
      "Optimizing XGBoost:  88%|████████▊ | 66/75 [00:33<00:04,  2.14it/s, Trial=66, Best=0.1187][I 2025-07-14 09:47:47,644] Trial 66 finished with value: 0.12152512058188947 and parameters: {'n_estimators': 826, 'max_depth': 7, 'learning_rate': 0.029358554355610616, 'subsample': 0.6211116808615519, 'colsample_bytree': 0.715555023891726, 'min_child_weight': 5}. Best is trial 64 with value: 0.11874050001545415.\n",
      "Optimizing XGBoost:  89%|████████▉ | 67/75 [00:34<00:04,  1.75it/s, Trial=67, Best=0.1187][I 2025-07-14 09:47:48,205] Trial 67 finished with value: 0.12042008919178089 and parameters: {'n_estimators': 916, 'max_depth': 4, 'learning_rate': 0.032878346778324456, 'subsample': 0.6051948775086423, 'colsample_bytree': 0.7247748742353326, 'min_child_weight': 5}. Best is trial 64 with value: 0.11874050001545415.\n",
      "Optimizing XGBoost:  91%|█████████ | 68/75 [00:34<00:03,  1.76it/s, Trial=68, Best=0.1187][I 2025-07-14 09:47:48,819] Trial 68 finished with value: 0.11974488323600772 and parameters: {'n_estimators': 996, 'max_depth': 4, 'learning_rate': 0.010617001172222612, 'subsample': 0.6003727351981893, 'colsample_bytree': 0.7066182809746986, 'min_child_weight': 5}. Best is trial 64 with value: 0.11874050001545415.\n",
      "Optimizing XGBoost:  92%|█████████▏| 69/75 [00:35<00:03,  1.72it/s, Trial=69, Best=0.1187][I 2025-07-14 09:47:49,509] Trial 69 finished with value: 0.11911830368964334 and parameters: {'n_estimators': 977, 'max_depth': 5, 'learning_rate': 0.01056989340049205, 'subsample': 0.60035434719488, 'colsample_bytree': 0.681714794770167, 'min_child_weight': 5}. Best is trial 64 with value: 0.11874050001545415.\n",
      "Optimizing XGBoost:  93%|█████████▎| 70/75 [00:36<00:03,  1.63it/s, Trial=70, Best=0.1187][I 2025-07-14 09:47:50,301] Trial 70 finished with value: 0.12049051706748774 and parameters: {'n_estimators': 950, 'max_depth': 6, 'learning_rate': 0.02532582861541669, 'subsample': 0.6309949630621259, 'colsample_bytree': 0.6858589103498557, 'min_child_weight': 5}. Best is trial 64 with value: 0.11874050001545415.\n",
      "Optimizing XGBoost:  95%|█████████▍| 71/75 [00:36<00:02,  1.50it/s, Trial=71, Best=0.1187][I 2025-07-14 09:47:50,984] Trial 71 finished with value: 0.11963094408556454 and parameters: {'n_estimators': 999, 'max_depth': 5, 'learning_rate': 0.011770304577431535, 'subsample': 0.6011798045748458, 'colsample_bytree': 0.6504390036180188, 'min_child_weight': 5}. Best is trial 64 with value: 0.11874050001545415.\n",
      "Optimizing XGBoost:  96%|█████████▌| 72/75 [00:37<00:02,  1.49it/s, Trial=72, Best=0.1187][I 2025-07-14 09:47:51,697] Trial 72 finished with value: 0.12012522071951179 and parameters: {'n_estimators': 864, 'max_depth': 6, 'learning_rate': 0.01437048258020349, 'subsample': 0.6157746137411643, 'colsample_bytree': 0.637938737096069, 'min_child_weight': 5}. Best is trial 64 with value: 0.11874050001545415.\n",
      "Optimizing XGBoost:  97%|█████████▋| 73/75 [00:38<00:01,  1.46it/s, Trial=73, Best=0.1187][I 2025-07-14 09:47:52,282] Trial 73 finished with value: 0.11950375932362454 and parameters: {'n_estimators': 810, 'max_depth': 5, 'learning_rate': 0.022740660162500245, 'subsample': 0.6353772052122234, 'colsample_bytree': 0.6515480233612175, 'min_child_weight': 5}. Best is trial 64 with value: 0.11874050001545415.\n",
      "Optimizing XGBoost:  99%|█████████▊| 74/75 [00:38<00:00,  1.53it/s, Trial=74, Best=0.1187][I 2025-07-14 09:47:52,951] Trial 74 finished with value: 0.12043584299807285 and parameters: {'n_estimators': 809, 'max_depth': 5, 'learning_rate': 0.035455046972805784, 'subsample': 0.6426810304292302, 'colsample_bytree': 0.683175014048168, 'min_child_weight': 5}. Best is trial 64 with value: 0.11874050001545415.\n",
      "Optimizing XGBoost: 100%|██████████| 75/75 [00:39<00:00,  1.90it/s, Trial=75, Best=0.1187]\n"
     ]
    },
    {
     "name": "stdout",
     "output_type": "stream",
     "text": [
      "Best XGBoost RMSE: 0.1187\n",
      "Evaluating XGBoost_Optimized...\n"
     ]
    },
    {
     "name": "stderr",
     "output_type": "stream",
     "text": [
      "                                                                   \r"
     ]
    }
   ],
   "source": [
    "def objective_xgb(trial):\n",
    "    \"\"\"Objective function for XGBoost hyperparameter optimization\"\"\"\n",
    "    params = {\n",
    "        'n_estimators': trial.suggest_int('n_estimators', 100, 1000),\n",
    "        'max_depth': trial.suggest_int('max_depth', 3, 10),\n",
    "        'learning_rate': trial.suggest_float('learning_rate', 0.01, 0.3),\n",
    "        'subsample': trial.suggest_float('subsample', 0.6, 1.0),\n",
    "        'colsample_bytree': trial.suggest_float('colsample_bytree', 0.6, 1.0),\n",
    "        'min_child_weight': trial.suggest_int('min_child_weight', 1, 7),\n",
    "        'random_state': 42,\n",
    "        'verbosity': 0\n",
    "    }\n",
    "    \n",
    "    model = XGBRegressor(**params)\n",
    "    \n",
    "    cv_scores = cross_val_score(model, X_train_split, y_train, cv=cv, \n",
    "                               scoring='neg_mean_squared_error', n_jobs=-1)\n",
    "    return np.sqrt(-cv_scores.mean())\n",
    "\n",
    "print(\"Optimizing XGBoost...\")\n",
    "study_xgb = optuna.create_study(direction='minimize', study_name='xgb_optimization',\n",
    "                               pruner=MedianPruner(n_startup_trials=10))\n",
    "n_trials_xgb = 75\n",
    "callback_xgb = OptunaTqdmCallback(n_trials_xgb, \"XGBoost\")\n",
    "study_xgb.optimize(objective_xgb, n_trials=n_trials_xgb, callbacks=[callback_xgb])\n",
    "\n",
    "print(f\"Best XGBoost RMSE: {study_xgb.best_value:.4f}\")\n",
    "best_xgb_params = study_xgb.best_params\n",
    "best_xgb = XGBRegressor(**best_xgb_params, random_state=42, verbosity=0)\n",
    "xgb_result = evaluate_model(best_xgb, X_train_split, y_train, cv, \"XGBoost_Optimized\")"
   ]
  },
  {
   "cell_type": "code",
   "execution_count": 21,
   "id": "18cb96a5",
   "metadata": {},
   "outputs": [
    {
     "name": "stderr",
     "output_type": "stream",
     "text": [
      "[I 2025-07-14 09:47:57,304] A new study created in memory with name: catboost_optimization\n"
     ]
    },
    {
     "name": "stdout",
     "output_type": "stream",
     "text": [
      "Optimizing CatBoost...\n"
     ]
    },
    {
     "name": "stderr",
     "output_type": "stream",
     "text": [
      "[I 2025-07-14 09:47:57,865] Trial 0 finished with value: 0.12573624564146613 and parameters: {'iterations': 152, 'depth': 4, 'learning_rate': 0.06419767564223734, 'l2_leaf_reg': 4.758353740238038}. Best is trial 0 with value: 0.12573624564146613.\n",
      "Optimizing CatBoost:   0%|          | 0/75 [00:00<?, ?it/s, Trial=1, Best=0.1257][I 2025-07-14 09:47:59,009] Trial 1 finished with value: 0.12550499619694144 and parameters: {'iterations': 986, 'depth': 4, 'learning_rate': 0.2957247751307392, 'l2_leaf_reg': 2.6449752391983155}. Best is trial 1 with value: 0.12550499619694144.\n",
      "Optimizing CatBoost:   3%|▎         | 2/75 [00:01<00:41,  1.75it/s, Trial=2, Best=0.1255][I 2025-07-14 09:48:02,703] Trial 2 finished with value: 0.12882099493423385 and parameters: {'iterations': 311, 'depth': 9, 'learning_rate': 0.031493010130684874, 'l2_leaf_reg': 3.437998104803449}. Best is trial 1 with value: 0.12550499619694144.\n",
      "Optimizing CatBoost:   4%|▍         | 3/75 [00:04<02:14,  1.87s/it, Trial=3, Best=0.1255][I 2025-07-14 09:48:06,934] Trial 3 finished with value: 0.13483547717074912 and parameters: {'iterations': 385, 'depth': 9, 'learning_rate': 0.27416795762056084, 'l2_leaf_reg': 8.496010975341976}. Best is trial 1 with value: 0.12550499619694144.\n",
      "Optimizing CatBoost:   5%|▌         | 4/75 [00:09<03:15,  2.75s/it, Trial=4, Best=0.1255][I 2025-07-14 09:48:15,313] Trial 4 finished with value: 0.13109211310153357 and parameters: {'iterations': 418, 'depth': 10, 'learning_rate': 0.1882174148144414, 'l2_leaf_reg': 6.462197824831224}. Best is trial 1 with value: 0.12550499619694144.\n",
      "Optimizing CatBoost:   7%|▋         | 5/75 [00:17<05:29,  4.71s/it, Trial=5, Best=0.1255][I 2025-07-14 09:48:16,646] Trial 5 finished with value: 0.11909176740575746 and parameters: {'iterations': 542, 'depth': 6, 'learning_rate': 0.09729927458189247, 'l2_leaf_reg': 6.5462006324055535}. Best is trial 5 with value: 0.11909176740575746.\n",
      "Optimizing CatBoost:   8%|▊         | 6/75 [00:18<04:07,  3.59s/it, Trial=6, Best=0.1191][I 2025-07-14 09:48:19,639] Trial 6 finished with value: 0.1294381550906965 and parameters: {'iterations': 473, 'depth': 8, 'learning_rate': 0.22369036864236655, 'l2_leaf_reg': 6.199358211243122}. Best is trial 5 with value: 0.11909176740575746.\n",
      "Optimizing CatBoost:   9%|▉         | 7/75 [00:21<03:50,  3.40s/it, Trial=7, Best=0.1191][I 2025-07-14 09:48:21,335] Trial 7 finished with value: 0.13147354731144748 and parameters: {'iterations': 262, 'depth': 8, 'learning_rate': 0.2713866337885657, 'l2_leaf_reg': 2.085264208942264}. Best is trial 5 with value: 0.11909176740575746.\n",
      "Optimizing CatBoost:  11%|█         | 8/75 [00:23<03:11,  2.86s/it, Trial=8, Best=0.1191][I 2025-07-14 09:48:30,910] Trial 8 finished with value: 0.1318532570236037 and parameters: {'iterations': 503, 'depth': 10, 'learning_rate': 0.1952244918116032, 'l2_leaf_reg': 9.459899832140607}. Best is trial 5 with value: 0.11909176740575746.\n",
      "Optimizing CatBoost:  12%|█▏        | 9/75 [00:33<05:26,  4.94s/it, Trial=9, Best=0.1191][I 2025-07-14 09:48:37,805] Trial 9 finished with value: 0.12556223624457075 and parameters: {'iterations': 643, 'depth': 9, 'learning_rate': 0.03777561537825579, 'l2_leaf_reg': 7.850045093241384}. Best is trial 5 with value: 0.11909176740575746.\n",
      "Optimizing CatBoost:  13%|█▎        | 10/75 [00:39<06:00,  5.54s/it, Trial=10, Best=0.1191][I 2025-07-14 09:48:39,567] Trial 10 finished with value: 0.12048618254642805 and parameters: {'iterations': 737, 'depth': 6, 'learning_rate': 0.11052663525641035, 'l2_leaf_reg': 4.712240947528081}. Best is trial 5 with value: 0.11909176740575746.\n",
      "Optimizing CatBoost:  15%|█▍        | 11/75 [00:41<04:40,  4.39s/it, Trial=11, Best=0.1191][I 2025-07-14 09:48:41,381] Trial 11 finished with value: 0.11957110692045865 and parameters: {'iterations': 713, 'depth': 6, 'learning_rate': 0.09919326140404472, 'l2_leaf_reg': 4.512558079746182}. Best is trial 5 with value: 0.11909176740575746.\n",
      "Optimizing CatBoost:  16%|█▌        | 12/75 [00:43<03:47,  3.61s/it, Trial=12, Best=0.1191][I 2025-07-14 09:48:43,303] Trial 12 finished with value: 0.11935844848243385 and parameters: {'iterations': 785, 'depth': 6, 'learning_rate': 0.11131219505132289, 'l2_leaf_reg': 6.986042330147541}. Best is trial 5 with value: 0.11909176740575746.\n",
      "Optimizing CatBoost:  17%|█▋        | 13/75 [00:45<03:12,  3.10s/it, Trial=13, Best=0.1191][I 2025-07-14 09:48:45,369] Trial 13 finished with value: 0.12184270833613191 and parameters: {'iterations': 884, 'depth': 6, 'learning_rate': 0.13346403194822617, 'l2_leaf_reg': 7.600987755715755}. Best is trial 5 with value: 0.11909176740575746.\n",
      "Optimizing CatBoost:  19%|█▊        | 14/75 [00:47<02:50,  2.79s/it, Trial=14, Best=0.1191][I 2025-07-14 09:48:46,375] Trial 14 finished with value: 0.11800613096965082 and parameters: {'iterations': 614, 'depth': 5, 'learning_rate': 0.09295150360615312, 'l2_leaf_reg': 6.547791504575838}. Best is trial 14 with value: 0.11800613096965082.\n",
      "Optimizing CatBoost:  20%|██        | 15/75 [00:48<02:15,  2.25s/it, Trial=15, Best=0.1180][I 2025-07-14 09:48:47,471] Trial 15 finished with value: 0.11612332485997297 and parameters: {'iterations': 591, 'depth': 5, 'learning_rate': 0.07415463187494546, 'l2_leaf_reg': 1.0935239429562698}. Best is trial 15 with value: 0.11612332485997297.\n",
      "Optimizing CatBoost:  21%|██▏       | 16/75 [00:49<01:52,  1.90s/it, Trial=16, Best=0.1161][I 2025-07-14 09:48:48,485] Trial 16 finished with value: 0.1295885851445716 and parameters: {'iterations': 592, 'depth': 5, 'learning_rate': 0.011010677384532055, 'l2_leaf_reg': 3.3205368907817823}. Best is trial 15 with value: 0.11612332485997297.\n",
      "Optimizing CatBoost:  23%|██▎       | 17/75 [00:50<01:34,  1.64s/it, Trial=17, Best=0.1161][I 2025-07-14 09:48:49,559] Trial 17 finished with value: 0.1161334479381656 and parameters: {'iterations': 643, 'depth': 5, 'learning_rate': 0.06492090127703785, 'l2_leaf_reg': 1.151919783728568}. Best is trial 15 with value: 0.11612332485997297.\n",
      "Optimizing CatBoost:  24%|██▍       | 18/75 [00:51<01:23,  1.47s/it, Trial=18, Best=0.1161][I 2025-07-14 09:48:50,851] Trial 18 finished with value: 0.1159264917432461 and parameters: {'iterations': 837, 'depth': 5, 'learning_rate': 0.058498748129611096, 'l2_leaf_reg': 1.0147011799605377}. Best is trial 18 with value: 0.1159264917432461.\n",
      "Optimizing CatBoost:  25%|██▌       | 19/75 [00:52<01:19,  1.41s/it, Trial=19, Best=0.1159][I 2025-07-14 09:48:53,953] Trial 19 finished with value: 0.12296972443452409 and parameters: {'iterations': 851, 'depth': 7, 'learning_rate': 0.14782509676486225, 'l2_leaf_reg': 1.0040254454631825}. Best is trial 18 with value: 0.1159264917432461.\n",
      "Optimizing CatBoost:  27%|██▋       | 20/75 [00:56<01:45,  1.92s/it, Trial=20, Best=0.1159][I 2025-07-14 09:48:55,072] Trial 20 finished with value: 0.11693620940900724 and parameters: {'iterations': 967, 'depth': 4, 'learning_rate': 0.05946793076787256, 'l2_leaf_reg': 1.940406411234802}. Best is trial 18 with value: 0.1159264917432461.\n",
      "Optimizing CatBoost:  28%|██▊       | 21/75 [00:57<01:30,  1.68s/it, Trial=21, Best=0.1159][I 2025-07-14 09:48:56,139] Trial 21 finished with value: 0.11578673226392304 and parameters: {'iterations': 663, 'depth': 5, 'learning_rate': 0.0661563958129286, 'l2_leaf_reg': 1.0404961937729533}. Best is trial 21 with value: 0.11578673226392304.\n",
      "Optimizing CatBoost:  29%|██▉       | 22/75 [00:58<01:19,  1.50s/it, Trial=22, Best=0.1158][I 2025-07-14 09:48:57,367] Trial 22 finished with value: 0.11589043564696835 and parameters: {'iterations': 809, 'depth': 5, 'learning_rate': 0.0435491486932183, 'l2_leaf_reg': 1.782137168460097}. Best is trial 21 with value: 0.11578673226392304.\n",
      "Optimizing CatBoost:  31%|███       | 23/75 [00:59<01:13,  1.42s/it, Trial=23, Best=0.1158][I 2025-07-14 09:49:00,659] Trial 23 finished with value: 0.12129911331467029 and parameters: {'iterations': 852, 'depth': 7, 'learning_rate': 0.013239492653343017, 'l2_leaf_reg': 2.020003109895753}. Best is trial 21 with value: 0.11578673226392304.\n",
      "Optimizing CatBoost:  32%|███▏      | 24/75 [01:02<01:40,  1.98s/it, Trial=24, Best=0.1158][I 2025-07-14 09:49:01,850] Trial 24 finished with value: 0.11697366950746901 and parameters: {'iterations': 772, 'depth': 5, 'learning_rate': 0.03549619072644522, 'l2_leaf_reg': 3.0538556079325834}. Best is trial 21 with value: 0.11578673226392304.\n",
      "Optimizing CatBoost:  33%|███▎      | 25/75 [01:03<01:27,  1.74s/it, Trial=25, Best=0.1158][I 2025-07-14 09:49:02,875] Trial 25 finished with value: 0.11635979004602957 and parameters: {'iterations': 704, 'depth': 4, 'learning_rate': 0.04924597104428213, 'l2_leaf_reg': 3.9844666731203993}. Best is trial 21 with value: 0.11578673226392304.\n",
      "Optimizing CatBoost:  35%|███▍      | 26/75 [01:05<01:14,  1.53s/it, Trial=26, Best=0.1158][I 2025-07-14 09:49:04,347] Trial 26 finished with value: 0.11880662135672283 and parameters: {'iterations': 914, 'depth': 5, 'learning_rate': 0.13101615503221503, 'l2_leaf_reg': 1.6274086888513049}. Best is trial 21 with value: 0.11578673226392304.\n",
      "Optimizing CatBoost:  36%|███▌      | 27/75 [01:06<01:12,  1.51s/it, Trial=27, Best=0.1158][I 2025-07-14 09:49:05,262] Trial 27 finished with value: 0.11647482350651064 and parameters: {'iterations': 787, 'depth': 4, 'learning_rate': 0.0823702544146284, 'l2_leaf_reg': 2.6500898139055677}. Best is trial 21 with value: 0.11578673226392304.\n",
      "Optimizing CatBoost:  37%|███▋      | 28/75 [01:07<01:02,  1.33s/it, Trial=28, Best=0.1158][I 2025-07-14 09:49:08,342] Trial 28 finished with value: 0.12395232185042558 and parameters: {'iterations': 823, 'depth': 7, 'learning_rate': 0.18020123758317547, 'l2_leaf_reg': 2.5554197769329248}. Best is trial 21 with value: 0.11578673226392304.\n",
      "Optimizing CatBoost:  39%|███▊      | 29/75 [01:10<01:25,  1.86s/it, Trial=29, Best=0.1158][I 2025-07-14 09:49:08,638] Trial 29 finished with value: 0.1278871300643 and parameters: {'iterations': 160, 'depth': 4, 'learning_rate': 0.055081582496260925, 'l2_leaf_reg': 5.551321475053355}. Best is trial 21 with value: 0.11578673226392304.\n",
      "Optimizing CatBoost:  40%|████      | 30/75 [01:10<01:02,  1.39s/it, Trial=30, Best=0.1158][I 2025-07-14 09:49:10,241] Trial 30 finished with value: 0.11694452477783664 and parameters: {'iterations': 677, 'depth': 6, 'learning_rate': 0.02879263102017468, 'l2_leaf_reg': 1.5442776439463717}. Best is trial 21 with value: 0.11578673226392304.\n",
      "Optimizing CatBoost:  41%|████▏     | 31/75 [01:12<01:03,  1.45s/it, Trial=31, Best=0.1158][I 2025-07-14 09:49:11,150] Trial 31 finished with value: 0.11517235883599096 and parameters: {'iterations': 556, 'depth': 5, 'learning_rate': 0.0740739266895889, 'l2_leaf_reg': 1.0651581667364554}. Best is trial 31 with value: 0.11517235883599096.\n",
      "Optimizing CatBoost:  43%|████▎     | 32/75 [01:13<00:55,  1.29s/it, Trial=32, Best=0.1152][I 2025-07-14 09:49:12,519] Trial 32 finished with value: 0.11534413131091213 and parameters: {'iterations': 911, 'depth': 5, 'learning_rate': 0.07239935185526465, 'l2_leaf_reg': 2.4125819873405874}. Best is trial 31 with value: 0.11517235883599096.\n",
      "Optimizing CatBoost:  44%|████▍     | 33/75 [01:14<00:55,  1.31s/it, Trial=33, Best=0.1152][I 2025-07-14 09:49:13,467] Trial 33 finished with value: 0.1155708288461753 and parameters: {'iterations': 940, 'depth': 4, 'learning_rate': 0.07895832365204511, 'l2_leaf_reg': 2.507102729028765}. Best is trial 31 with value: 0.11517235883599096.\n",
      "Optimizing CatBoost:  45%|████▌     | 34/75 [01:15<00:49,  1.20s/it, Trial=34, Best=0.1152][I 2025-07-14 09:49:14,508] Trial 34 finished with value: 0.11757094165410858 and parameters: {'iterations': 990, 'depth': 4, 'learning_rate': 0.07926359415751864, 'l2_leaf_reg': 3.790125673223124}. Best is trial 31 with value: 0.11517235883599096.\n",
      "Optimizing CatBoost:  47%|████▋     | 35/75 [01:16<00:46,  1.16s/it, Trial=35, Best=0.1152][I 2025-07-14 09:49:15,488] Trial 35 finished with value: 0.12019901010292951 and parameters: {'iterations': 935, 'depth': 4, 'learning_rate': 0.1263261678460242, 'l2_leaf_reg': 3.0274268839618825}. Best is trial 31 with value: 0.11517235883599096.\n",
      "Optimizing CatBoost:  48%|████▊     | 36/75 [01:17<00:42,  1.10s/it, Trial=36, Best=0.1152][I 2025-07-14 09:49:15,983] Trial 36 finished with value: 0.11852557987787374 and parameters: {'iterations': 402, 'depth': 4, 'learning_rate': 0.1705626918057347, 'l2_leaf_reg': 2.5548436013543485}. Best is trial 31 with value: 0.11517235883599096.\n",
      "Optimizing CatBoost:  49%|████▉     | 37/75 [01:18<00:34,  1.09it/s, Trial=37, Best=0.1152][I 2025-07-14 09:49:17,409] Trial 37 finished with value: 0.11638816929989566 and parameters: {'iterations': 914, 'depth': 5, 'learning_rate': 0.08282960490618792, 'l2_leaf_reg': 2.291483575812344}. Best is trial 31 with value: 0.11517235883599096.\n",
      "Optimizing CatBoost:  51%|█████     | 38/75 [01:19<00:39,  1.07s/it, Trial=38, Best=0.1152][I 2025-07-14 09:49:17,975] Trial 38 finished with value: 0.11761862131825147 and parameters: {'iterations': 480, 'depth': 4, 'learning_rate': 0.11469669485993939, 'l2_leaf_reg': 3.6829808031758207}. Best is trial 31 with value: 0.11517235883599096.\n",
      "Optimizing CatBoost:  52%|█████▏    | 39/75 [01:20<00:33,  1.09it/s, Trial=39, Best=0.1152][I 2025-07-14 09:49:18,797] Trial 39 finished with value: 0.12043719123611378 and parameters: {'iterations': 307, 'depth': 6, 'learning_rate': 0.15524718846187507, 'l2_leaf_reg': 5.36873777892979}. Best is trial 31 with value: 0.11517235883599096.\n",
      "Optimizing CatBoost:  53%|█████▎    | 40/75 [01:20<00:31,  1.12it/s, Trial=40, Best=0.1152][I 2025-07-14 09:49:20,867] Trial 40 finished with value: 0.11984381830082724 and parameters: {'iterations': 544, 'depth': 7, 'learning_rate': 0.09576738781270039, 'l2_leaf_reg': 1.4643992258565037}. Best is trial 31 with value: 0.11517235883599096.\n",
      "Optimizing CatBoost:  55%|█████▍    | 41/75 [01:23<00:42,  1.24s/it, Trial=41, Best=0.1152][I 2025-07-14 09:49:22,375] Trial 41 finished with value: 0.11548034396180115 and parameters: {'iterations': 998, 'depth': 5, 'learning_rate': 0.042538097036769695, 'l2_leaf_reg': 1.8597927259172016}. Best is trial 31 with value: 0.11517235883599096.\n",
      "Optimizing CatBoost:  56%|█████▌    | 42/75 [01:24<00:43,  1.32s/it, Trial=42, Best=0.1152][I 2025-07-14 09:49:23,934] Trial 42 finished with value: 0.11656073323306813 and parameters: {'iterations': 998, 'depth': 5, 'learning_rate': 0.023459074716945756, 'l2_leaf_reg': 2.2932141577017506}. Best is trial 31 with value: 0.11517235883599096.\n",
      "Optimizing CatBoost:  57%|█████▋    | 43/75 [01:26<00:44,  1.39s/it, Trial=43, Best=0.1152][I 2025-07-14 09:49:26,075] Trial 43 finished with value: 0.11730221188596342 and parameters: {'iterations': 945, 'depth': 6, 'learning_rate': 0.0711518050693394, 'l2_leaf_reg': 2.9262746607959946}. Best is trial 31 with value: 0.11517235883599096.\n",
      "Optimizing CatBoost:  59%|█████▊    | 44/75 [01:28<00:50,  1.62s/it, Trial=44, Best=0.1152][I 2025-07-14 09:49:31,375] Trial 44 finished with value: 0.12712882089775882 and parameters: {'iterations': 886, 'depth': 8, 'learning_rate': 0.23753442409399655, 'l2_leaf_reg': 1.5138868833170804}. Best is trial 31 with value: 0.11517235883599096.\n",
      "Optimizing CatBoost:  60%|██████    | 45/75 [01:33<01:21,  2.72s/it, Trial=45, Best=0.1152][I 2025-07-14 09:49:31,991] Trial 45 finished with value: 0.1183944722058018 and parameters: {'iterations': 355, 'depth': 5, 'learning_rate': 0.04517401154992487, 'l2_leaf_reg': 2.122172402994778}. Best is trial 31 with value: 0.11517235883599096.\n",
      "Optimizing CatBoost:  61%|██████▏   | 46/75 [01:34<01:00,  2.09s/it, Trial=46, Best=0.1152][I 2025-07-14 09:49:33,248] Trial 46 finished with value: 0.11928326413397643 and parameters: {'iterations': 517, 'depth': 6, 'learning_rate': 0.08754825390543591, 'l2_leaf_reg': 4.222730912392019}. Best is trial 31 with value: 0.11517235883599096.\n",
      "Optimizing CatBoost:  63%|██████▎   | 47/75 [01:35<00:51,  1.84s/it, Trial=47, Best=0.1152][I 2025-07-14 09:49:34,063] Trial 47 finished with value: 0.121650019561398 and parameters: {'iterations': 751, 'depth': 4, 'learning_rate': 0.02525085435030508, 'l2_leaf_reg': 9.674420665643503}. Best is trial 31 with value: 0.11517235883599096.\n",
      "Optimizing CatBoost:  64%|██████▍   | 48/75 [01:36<00:41,  1.53s/it, Trial=48, Best=0.1152][I 2025-07-14 09:49:34,847] Trial 48 finished with value: 0.11717533525268949 and parameters: {'iterations': 432, 'depth': 5, 'learning_rate': 0.10552267172515772, 'l2_leaf_reg': 1.406224694780223}. Best is trial 31 with value: 0.11517235883599096.\n",
      "Optimizing CatBoost:  65%|██████▌   | 49/75 [01:36<00:34,  1.31s/it, Trial=49, Best=0.1152][I 2025-07-14 09:49:35,800] Trial 49 finished with value: 0.1154530922738171 and parameters: {'iterations': 888, 'depth': 4, 'learning_rate': 0.06439247021169446, 'l2_leaf_reg': 2.6818218086407604}. Best is trial 31 with value: 0.11517235883599096.\n",
      "Optimizing CatBoost:  67%|██████▋   | 50/75 [01:37<00:30,  1.20s/it, Trial=50, Best=0.1152][I 2025-07-14 09:49:36,821] Trial 50 finished with value: 0.11961616990060811 and parameters: {'iterations': 951, 'depth': 4, 'learning_rate': 0.20332800552295305, 'l2_leaf_reg': 3.2633696303056263}. Best is trial 31 with value: 0.11517235883599096.\n",
      "Optimizing CatBoost:  68%|██████▊   | 51/75 [01:38<00:27,  1.15s/it, Trial=51, Best=0.1152][I 2025-07-14 09:49:37,789] Trial 51 finished with value: 0.11679550880418722 and parameters: {'iterations': 890, 'depth': 4, 'learning_rate': 0.06666207615923099, 'l2_leaf_reg': 2.6459030827798635}. Best is trial 31 with value: 0.11517235883599096.\n",
      "Optimizing CatBoost:  69%|██████▉   | 52/75 [01:39<00:25,  1.09s/it, Trial=52, Best=0.1152][I 2025-07-14 09:49:39,133] Trial 52 finished with value: 0.11569947958851778 and parameters: {'iterations': 872, 'depth': 5, 'learning_rate': 0.07242067483842787, 'l2_leaf_reg': 1.829570065070782}. Best is trial 31 with value: 0.11517235883599096.\n",
      "Optimizing CatBoost:  71%|███████   | 53/75 [01:41<00:25,  1.17s/it, Trial=53, Best=0.1152][I 2025-07-14 09:49:40,494] Trial 53 finished with value: 0.11544929808484848 and parameters: {'iterations': 872, 'depth': 5, 'learning_rate': 0.0511329894998027, 'l2_leaf_reg': 2.2903999253142433}. Best is trial 31 with value: 0.11517235883599096.\n",
      "Optimizing CatBoost:  72%|███████▏  | 54/75 [01:42<00:25,  1.23s/it, Trial=54, Best=0.1152][I 2025-07-14 09:49:50,828] Trial 54 finished with value: 0.12453585691072568 and parameters: {'iterations': 971, 'depth': 9, 'learning_rate': 0.05244759399882373, 'l2_leaf_reg': 2.286170095553457}. Best is trial 31 with value: 0.11517235883599096.\n",
      "Optimizing CatBoost:  73%|███████▎  | 55/75 [01:52<01:19,  3.96s/it, Trial=55, Best=0.1152][I 2025-07-14 09:49:51,229] Trial 55 finished with value: 0.12828937141239677 and parameters: {'iterations': 174, 'depth': 5, 'learning_rate': 0.04223553772905478, 'l2_leaf_reg': 3.4385986506394044}. Best is trial 31 with value: 0.11517235883599096.\n",
      "Optimizing CatBoost:  75%|███████▍  | 56/75 [01:53<00:54,  2.89s/it, Trial=56, Best=0.1152][I 2025-07-14 09:49:53,416] Trial 56 finished with value: 0.1208300119314333 and parameters: {'iterations': 912, 'depth': 6, 'learning_rate': 0.11917954033111171, 'l2_leaf_reg': 8.572458190181926}. Best is trial 31 with value: 0.11517235883599096.\n",
      "Optimizing CatBoost:  76%|███████▌  | 57/75 [01:55<00:48,  2.68s/it, Trial=57, Best=0.1152][I 2025-07-14 09:49:54,334] Trial 57 finished with value: 0.12110398660123575 and parameters: {'iterations': 852, 'depth': 4, 'learning_rate': 0.017371903689639943, 'l2_leaf_reg': 5.039661177080738}. Best is trial 31 with value: 0.11517235883599096.\n",
      "Optimizing CatBoost:  77%|███████▋  | 58/75 [01:56<00:36,  2.15s/it, Trial=58, Best=0.1152][I 2025-07-14 09:50:11,141] Trial 58 finished with value: 0.12626893442996895 and parameters: {'iterations': 807, 'depth': 10, 'learning_rate': 0.03239040707779365, 'l2_leaf_reg': 2.905529023092702}. Best is trial 31 with value: 0.11517235883599096.\n",
      "Optimizing CatBoost:  79%|███████▊  | 59/75 [02:13<01:44,  6.55s/it, Trial=59, Best=0.1152][I 2025-07-14 09:50:12,911] Trial 59 finished with value: 0.11669932521275048 and parameters: {'iterations': 948, 'depth': 5, 'learning_rate': 0.08951889342693153, 'l2_leaf_reg': 1.8888702579462733}. Best is trial 31 with value: 0.11517235883599096.\n",
      "Optimizing CatBoost:  80%|████████  | 60/75 [02:15<01:16,  5.11s/it, Trial=60, Best=0.1152][I 2025-07-14 09:50:15,075] Trial 60 finished with value: 0.11906972487752816 and parameters: {'iterations': 913, 'depth': 6, 'learning_rate': 0.1004735275235765, 'l2_leaf_reg': 1.390087520442838}. Best is trial 31 with value: 0.11517235883599096.\n",
      "Optimizing CatBoost:  81%|████████▏ | 61/75 [02:17<00:59,  4.23s/it, Trial=61, Best=0.1152][I 2025-07-14 09:50:16,450] Trial 61 finished with value: 0.11490262564217607 and parameters: {'iterations': 846, 'depth': 5, 'learning_rate': 0.07442056630226017, 'l2_leaf_reg': 1.7143443377575895}. Best is trial 61 with value: 0.11490262564217607.\n",
      "Optimizing CatBoost:  83%|████████▎ | 62/75 [02:18<00:43,  3.37s/it, Trial=62, Best=0.1149][I 2025-07-14 09:50:18,034] Trial 62 finished with value: 0.11531648651218442 and parameters: {'iterations': 996, 'depth': 5, 'learning_rate': 0.06312297911697565, 'l2_leaf_reg': 2.4001977789205515}. Best is trial 61 with value: 0.11490262564217607.\n",
      "Optimizing CatBoost:  84%|████████▍ | 63/75 [02:20<00:34,  2.84s/it, Trial=63, Best=0.1149][I 2025-07-14 09:50:19,685] Trial 63 finished with value: 0.11559575619738931 and parameters: {'iterations': 998, 'depth': 5, 'learning_rate': 0.05808951421016796, 'l2_leaf_reg': 2.1050276227797218}. Best is trial 61 with value: 0.11490262564217607.\n",
      "Optimizing CatBoost:  85%|████████▌ | 64/75 [02:21<00:27,  2.48s/it, Trial=64, Best=0.1149][I 2025-07-14 09:50:21,045] Trial 64 finished with value: 0.11590934979215001 and parameters: {'iterations': 865, 'depth': 5, 'learning_rate': 0.03872063115953372, 'l2_leaf_reg': 1.2540025631886653}. Best is trial 61 with value: 0.11490262564217607.\n",
      "Optimizing CatBoost:  87%|████████▋ | 65/75 [02:23<00:21,  2.14s/it, Trial=65, Best=0.1149][I 2025-07-14 09:50:22,828] Trial 65 finished with value: 0.11676973754707975 and parameters: {'iterations': 742, 'depth': 6, 'learning_rate': 0.050125064749978444, 'l2_leaf_reg': 1.7400553698355294}. Best is trial 61 with value: 0.11490262564217607.\n",
      "Optimizing CatBoost:  88%|████████▊ | 66/75 [02:24<00:18,  2.04s/it, Trial=66, Best=0.1149][I 2025-07-14 09:50:24,388] Trial 66 finished with value: 0.11569074706496471 and parameters: {'iterations': 966, 'depth': 5, 'learning_rate': 0.06350161481294041, 'l2_leaf_reg': 2.257581327440665}. Best is trial 61 with value: 0.11490262564217607.\n",
      "Optimizing CatBoost:  89%|████████▉ | 67/75 [02:26<00:15,  1.89s/it, Trial=67, Best=0.1149][I 2025-07-14 09:50:24,922] Trial 67 finished with value: 0.11797434456322001 and parameters: {'iterations': 212, 'depth': 5, 'learning_rate': 0.0758758921405163, 'l2_leaf_reg': 2.878531049904467}. Best is trial 61 with value: 0.11490262564217607.\n",
      "Optimizing CatBoost:  91%|█████████ | 68/75 [02:27<00:10,  1.49s/it, Trial=68, Best=0.1149][I 2025-07-14 09:50:26,804] Trial 68 finished with value: 0.11604781116775481 and parameters: {'iterations': 819, 'depth': 6, 'learning_rate': 0.06172036168290031, 'l2_leaf_reg': 3.435316678685033}. Best is trial 61 with value: 0.11490262564217607.\n",
      "Optimizing CatBoost:  92%|█████████▏| 69/75 [02:28<00:09,  1.60s/it, Trial=69, Best=0.1149][I 2025-07-14 09:50:28,312] Trial 69 finished with value: 0.11516404614136373 and parameters: {'iterations': 906, 'depth': 5, 'learning_rate': 0.03714477940437236, 'l2_leaf_reg': 1.6982595774501228}. Best is trial 61 with value: 0.11490262564217607.\n",
      "Optimizing CatBoost:  93%|█████████▎| 70/75 [02:30<00:07,  1.58s/it, Trial=70, Best=0.1149][I 2025-07-14 09:50:29,575] Trial 70 finished with value: 0.12461111556500827 and parameters: {'iterations': 779, 'depth': 5, 'learning_rate': 0.2676654508898847, 'l2_leaf_reg': 1.615779149837525}. Best is trial 61 with value: 0.11490262564217607.\n",
      "Optimizing CatBoost:  95%|█████████▍| 71/75 [02:31<00:05,  1.48s/it, Trial=71, Best=0.1149][I 2025-07-14 09:50:30,959] Trial 71 finished with value: 0.11661978357423969 and parameters: {'iterations': 897, 'depth': 5, 'learning_rate': 0.021042719263510604, 'l2_leaf_reg': 1.2186743515710095}. Best is trial 61 with value: 0.11490262564217607.\n",
      "Optimizing CatBoost:  96%|█████████▌| 72/75 [02:33<00:04,  1.45s/it, Trial=72, Best=0.1149][I 2025-07-14 09:50:32,416] Trial 72 finished with value: 0.11606758021376465 and parameters: {'iterations': 929, 'depth': 5, 'learning_rate': 0.0335592088178651, 'l2_leaf_reg': 1.965639876688182}. Best is trial 61 with value: 0.11490262564217607.\n",
      "Optimizing CatBoost:  97%|█████████▋| 73/75 [02:34<00:02,  1.45s/it, Trial=73, Best=0.1149][I 2025-07-14 09:50:34,494] Trial 73 finished with value: 0.11710826355313046 and parameters: {'iterations': 833, 'depth': 6, 'learning_rate': 0.049173741987611035, 'l2_leaf_reg': 2.4815287913427975}. Best is trial 61 with value: 0.11490262564217607.\n",
      "Optimizing CatBoost:  99%|█████████▊| 74/75 [02:36<00:01,  1.64s/it, Trial=74, Best=0.1149][I 2025-07-14 09:50:36,024] Trial 74 finished with value: 0.11608278708207412 and parameters: {'iterations': 976, 'depth': 5, 'learning_rate': 0.038107316134179586, 'l2_leaf_reg': 1.738695505249629}. Best is trial 61 with value: 0.11490262564217607.\n",
      "Optimizing CatBoost: 100%|██████████| 75/75 [02:38<00:00,  2.11s/it, Trial=75, Best=0.1149]\n"
     ]
    },
    {
     "name": "stdout",
     "output_type": "stream",
     "text": [
      "Best CatBoost RMSE: 0.1149\n",
      "Evaluating CatBoost_Optimized...\n"
     ]
    },
    {
     "name": "stderr",
     "output_type": "stream",
     "text": [
      "                                                                    \r"
     ]
    }
   ],
   "source": [
    "def objective_catboost(trial):\n",
    "    \"\"\"Objective function for CatBoost hyperparameter optimization\"\"\"\n",
    "    params = {\n",
    "        'iterations': trial.suggest_int('iterations', 100, 1000),\n",
    "        'depth': trial.suggest_int('depth', 4, 10),\n",
    "        'learning_rate': trial.suggest_float('learning_rate', 0.01, 0.3),\n",
    "        'l2_leaf_reg': trial.suggest_float('l2_leaf_reg', 1, 10),\n",
    "        'random_seed': 42,\n",
    "        'verbose': False\n",
    "    }\n",
    "    \n",
    "    model = CatBoostRegressor(**params)\n",
    "    \n",
    "    cv_scores = cross_val_score(model, X_train_split, y_train, cv=cv, \n",
    "                               scoring='neg_mean_squared_error', n_jobs=-1)\n",
    "    return np.sqrt(-cv_scores.mean())\n",
    "\n",
    "print(\"Optimizing CatBoost...\")\n",
    "study_catboost = optuna.create_study(direction='minimize', study_name='catboost_optimization',\n",
    "                                    pruner=MedianPruner(n_startup_trials=10))\n",
    "n_trials_catboost = 75\n",
    "callback_catboost = OptunaTqdmCallback(n_trials_catboost, \"CatBoost\")\n",
    "study_catboost.optimize(objective_catboost, n_trials=n_trials_catboost, callbacks=[callback_catboost])\n",
    "\n",
    "print(f\"Best CatBoost RMSE: {study_catboost.best_value:.4f}\")\n",
    "best_catboost_params = study_catboost.best_params\n",
    "best_catboost = CatBoostRegressor(**best_catboost_params, random_seed=42, verbose=False)\n",
    "catboost_result = evaluate_model(best_catboost, X_train_split, y_train, cv, \"CatBoost_Optimized\")"
   ]
  },
  {
   "cell_type": "code",
   "execution_count": 22,
   "id": "c4e4c563",
   "metadata": {},
   "outputs": [
    {
     "name": "stderr",
     "output_type": "stream",
     "text": [
      "[I 2025-07-14 09:50:39,314] A new study created in memory with name: lgbm_optimization\n"
     ]
    },
    {
     "name": "stdout",
     "output_type": "stream",
     "text": [
      "Optimizing LightGBM...\n"
     ]
    },
    {
     "name": "stderr",
     "output_type": "stream",
     "text": [
      "[I 2025-07-14 09:50:40,560] Trial 0 finished with value: 0.16516931186645506 and parameters: {'n_estimators': 985, 'max_depth': 10, 'learning_rate': 0.09054311123858225, 'subsample': 0.6459709501584275, 'colsample_bytree': 0.6234944571052636, 'min_child_samples': 47, 'reg_alpha': 9.044007144086155, 'reg_lambda': 9.752288454580984}. Best is trial 0 with value: 0.16516931186645506.\n",
      "Optimizing LightGBM:   0%|          | 0/75 [00:00<?, ?it/s, Trial=1, Best=0.1652][I 2025-07-14 09:50:42,207] Trial 1 finished with value: 0.16175521655342326 and parameters: {'n_estimators': 661, 'max_depth': 4, 'learning_rate': 0.03160786719385948, 'subsample': 0.898304571467673, 'colsample_bytree': 0.9595578529459057, 'min_child_samples': 44, 'reg_alpha': 7.869746309829756, 'reg_lambda': 0.5962121451442137}. Best is trial 1 with value: 0.16175521655342326.\n",
      "Optimizing LightGBM:   3%|▎         | 2/75 [00:01<01:00,  1.21it/s, Trial=2, Best=0.1618][I 2025-07-14 09:50:42,965] Trial 2 finished with value: 0.1713356912764188 and parameters: {'n_estimators': 644, 'max_depth': 10, 'learning_rate': 0.22409864612230357, 'subsample': 0.901312814964481, 'colsample_bytree': 0.8159142019239994, 'min_child_samples': 23, 'reg_alpha': 9.969930011684447, 'reg_lambda': 4.613245396369933}. Best is trial 1 with value: 0.16175521655342326.\n",
      "Optimizing LightGBM:   4%|▍         | 3/75 [00:02<00:57,  1.26it/s, Trial=3, Best=0.1618][I 2025-07-14 09:50:43,885] Trial 3 finished with value: 0.14674842453137008 and parameters: {'n_estimators': 799, 'max_depth': 9, 'learning_rate': 0.24153018891393663, 'subsample': 0.8648091125358179, 'colsample_bytree': 0.8289466052166519, 'min_child_samples': 89, 'reg_alpha': 2.8524174297411586, 'reg_lambda': 6.510915316179409}. Best is trial 3 with value: 0.14674842453137008.\n",
      "Optimizing LightGBM:   5%|▌         | 4/75 [00:03<00:59,  1.19it/s, Trial=4, Best=0.1467][I 2025-07-14 09:50:44,940] Trial 4 finished with value: 0.14074331556571337 and parameters: {'n_estimators': 906, 'max_depth': 4, 'learning_rate': 0.23650224138566325, 'subsample': 0.9809814556290546, 'colsample_bytree': 0.6568153532071551, 'min_child_samples': 54, 'reg_alpha': 2.44288189915578, 'reg_lambda': 9.950505329040244}. Best is trial 4 with value: 0.14074331556571337.\n",
      "Optimizing LightGBM:   7%|▋         | 5/75 [00:04<01:04,  1.09it/s, Trial=5, Best=0.1407][I 2025-07-14 09:50:45,837] Trial 5 finished with value: 0.14721884883505587 and parameters: {'n_estimators': 664, 'max_depth': 4, 'learning_rate': 0.11468750682824491, 'subsample': 0.9342892475154208, 'colsample_bytree': 0.8195424704361026, 'min_child_samples': 63, 'reg_alpha': 4.198385966102447, 'reg_lambda': 1.0543172007470392}. Best is trial 4 with value: 0.14074331556571337.\n",
      "Optimizing LightGBM:   8%|▊         | 6/75 [00:05<01:02,  1.10it/s, Trial=6, Best=0.1407][I 2025-07-14 09:50:46,613] Trial 6 finished with value: 0.15683184127708663 and parameters: {'n_estimators': 523, 'max_depth': 7, 'learning_rate': 0.19191287340626867, 'subsample': 0.8490649532434115, 'colsample_bytree': 0.7267317230079279, 'min_child_samples': 92, 'reg_alpha': 5.724117962627866, 'reg_lambda': 0.7335016968585839}. Best is trial 4 with value: 0.14074331556571337.\n",
      "Optimizing LightGBM:   9%|▉         | 7/75 [00:06<00:58,  1.15it/s, Trial=7, Best=0.1407][I 2025-07-14 09:50:47,482] Trial 7 finished with value: 0.14635957175015576 and parameters: {'n_estimators': 835, 'max_depth': 8, 'learning_rate': 0.2454944542275691, 'subsample': 0.8744311667463319, 'colsample_bytree': 0.6989381718463615, 'min_child_samples': 59, 'reg_alpha': 3.602494844352252, 'reg_lambda': 2.7575709892649147}. Best is trial 4 with value: 0.14074331556571337.\n",
      "Optimizing LightGBM:  11%|█         | 8/75 [00:06<00:58,  1.15it/s, Trial=8, Best=0.1407][I 2025-07-14 09:50:49,105] Trial 8 finished with value: 0.14399367331076315 and parameters: {'n_estimators': 997, 'max_depth': 5, 'learning_rate': 0.056719528072216384, 'subsample': 0.8642765876426157, 'colsample_bytree': 0.9452074400765751, 'min_child_samples': 48, 'reg_alpha': 3.698201569095767, 'reg_lambda': 0.07959703429339049}. Best is trial 4 with value: 0.14074331556571337.\n",
      "Optimizing LightGBM:  12%|█▏        | 9/75 [00:08<01:12,  1.10s/it, Trial=9, Best=0.1407][I 2025-07-14 09:50:50,028] Trial 9 finished with value: 0.16125737802668433 and parameters: {'n_estimators': 177, 'max_depth': 4, 'learning_rate': 0.04260327890706964, 'subsample': 0.8365747968208485, 'colsample_bytree': 0.6513797200887786, 'min_child_samples': 28, 'reg_alpha': 7.135560882516932, 'reg_lambda': 6.26702431553273}. Best is trial 4 with value: 0.14074331556571337.\n",
      "Optimizing LightGBM:  13%|█▎        | 10/75 [00:09<01:08,  1.05s/it, Trial=10, Best=0.1407][I 2025-07-14 09:50:53,362] Trial 10 finished with value: 0.13942481723088723 and parameters: {'n_estimators': 382, 'max_depth': 6, 'learning_rate': 0.2969512553015372, 'subsample': 0.9964942461526953, 'colsample_bytree': 0.7217209701508549, 'min_child_samples': 10, 'reg_alpha': 0.03979344788277572, 'reg_lambda': 9.652389411092605}. Best is trial 10 with value: 0.13942481723088723.\n",
      "Optimizing LightGBM:  15%|█▍        | 11/75 [00:12<01:51,  1.74s/it, Trial=11, Best=0.1394][I 2025-07-14 09:50:54,984] Trial 11 finished with value: 0.1387943763466358 and parameters: {'n_estimators': 333, 'max_depth': 6, 'learning_rate': 0.2970511203494665, 'subsample': 0.9806457121014323, 'colsample_bytree': 0.7333952645944639, 'min_child_samples': 6, 'reg_alpha': 0.33172972884251434, 'reg_lambda': 9.744820349352501}. Best is trial 11 with value: 0.1387943763466358.\n",
      "Optimizing LightGBM:  16%|█▌        | 12/75 [00:14<01:47,  1.71s/it, Trial=12, Best=0.1388][I 2025-07-14 09:50:58,304] Trial 12 finished with value: 0.1359019517671949 and parameters: {'n_estimators': 324, 'max_depth': 6, 'learning_rate': 0.29612980403109224, 'subsample': 0.9980130454906023, 'colsample_bytree': 0.7458639774933277, 'min_child_samples': 7, 'reg_alpha': 0.03239342020616198, 'reg_lambda': 7.987209264940322}. Best is trial 12 with value: 0.1359019517671949.\n",
      "Optimizing LightGBM:  17%|█▋        | 13/75 [00:17<02:16,  2.19s/it, Trial=13, Best=0.1359][I 2025-07-14 09:51:00,736] Trial 13 finished with value: 0.13757472929658088 and parameters: {'n_estimators': 261, 'max_depth': 6, 'learning_rate': 0.29609544600615406, 'subsample': 0.6279239739807441, 'colsample_bytree': 0.7638365083027497, 'min_child_samples': 6, 'reg_alpha': 0.11311692866806496, 'reg_lambda': 7.856029572835359}. Best is trial 12 with value: 0.1359019517671949.\n",
      "Optimizing LightGBM:  19%|█▊        | 14/75 [00:20<02:18,  2.27s/it, Trial=14, Best=0.1359][I 2025-07-14 09:51:01,679] Trial 14 finished with value: 0.13626275238061347 and parameters: {'n_estimators': 147, 'max_depth': 7, 'learning_rate': 0.16820288138118805, 'subsample': 0.722568371548691, 'colsample_bytree': 0.8772612667214764, 'min_child_samples': 21, 'reg_alpha': 1.5017498830308034, 'reg_lambda': 7.757135999964968}. Best is trial 12 with value: 0.1359019517671949.\n",
      "Optimizing LightGBM:  20%|██        | 15/75 [00:21<01:52,  1.87s/it, Trial=15, Best=0.1359][I 2025-07-14 09:51:02,778] Trial 15 finished with value: 0.13719653656974837 and parameters: {'n_estimators': 155, 'max_depth': 8, 'learning_rate': 0.14552097345877685, 'subsample': 0.7377207445136573, 'colsample_bytree': 0.888893809355594, 'min_child_samples': 24, 'reg_alpha': 1.9160023943091398, 'reg_lambda': 8.121702567532283}. Best is trial 12 with value: 0.1359019517671949.\n",
      "Optimizing LightGBM:  21%|██▏       | 16/75 [00:22<01:36,  1.64s/it, Trial=16, Best=0.1359][I 2025-07-14 09:51:03,978] Trial 16 finished with value: 0.13398900035845512 and parameters: {'n_estimators': 454, 'max_depth': 7, 'learning_rate': 0.17029931603739826, 'subsample': 0.7552335393933698, 'colsample_bytree': 0.8589399567151513, 'min_child_samples': 31, 'reg_alpha': 1.4010523363328953, 'reg_lambda': 7.665549057770744}. Best is trial 16 with value: 0.13398900035845512.\n",
      "Optimizing LightGBM:  23%|██▎       | 17/75 [00:23<01:27,  1.51s/it, Trial=17, Best=0.1340][I 2025-07-14 09:51:04,696] Trial 17 finished with value: 0.15232235495101729 and parameters: {'n_estimators': 445, 'max_depth': 8, 'learning_rate': 0.1908619033660617, 'subsample': 0.7576111896684082, 'colsample_bytree': 0.8869346098161355, 'min_child_samples': 38, 'reg_alpha': 5.329401011170655, 'reg_lambda': 4.725896713257964}. Best is trial 16 with value: 0.13398900035845512.\n",
      "Optimizing LightGBM:  24%|██▍       | 18/75 [00:24<01:12,  1.27s/it, Trial=18, Best=0.1340][I 2025-07-14 09:51:05,866] Trial 18 finished with value: 0.1353664044349031 and parameters: {'n_estimators': 458, 'max_depth': 3, 'learning_rate': 0.10196712162037376, 'subsample': 0.7832654795221423, 'colsample_bytree': 0.9999938533609162, 'min_child_samples': 72, 'reg_alpha': 1.2627910197285994, 'reg_lambda': 6.21480908996134}. Best is trial 16 with value: 0.13398900035845512.\n",
      "Optimizing LightGBM:  25%|██▌       | 19/75 [00:25<01:09,  1.24s/it, Trial=19, Best=0.1340][I 2025-07-14 09:51:07,020] Trial 19 finished with value: 0.13621403845801452 and parameters: {'n_estimators': 498, 'max_depth': 3, 'learning_rate': 0.10647326035042845, 'subsample': 0.7859920127915858, 'colsample_bytree': 0.9988076798534531, 'min_child_samples': 74, 'reg_alpha': 1.376656219056564, 'reg_lambda': 6.245092861591507}. Best is trial 16 with value: 0.13398900035845512.\n",
      "Optimizing LightGBM:  27%|██▋       | 20/75 [00:26<01:06,  1.21s/it, Trial=20, Best=0.1340][I 2025-07-14 09:51:07,897] Trial 20 finished with value: 0.15676307617700833 and parameters: {'n_estimators': 590, 'max_depth': 3, 'learning_rate': 0.07740882368107069, 'subsample': 0.687623322918182, 'colsample_bytree': 0.9426711418111915, 'min_child_samples': 77, 'reg_alpha': 6.449831758826529, 'reg_lambda': 3.722593273207664}. Best is trial 16 with value: 0.13398900035845512.\n",
      "Optimizing LightGBM:  28%|██▊       | 21/75 [00:27<01:00,  1.11s/it, Trial=21, Best=0.1340][I 2025-07-14 09:51:09,279] Trial 21 finished with value: 0.13156437657136197 and parameters: {'n_estimators': 304, 'max_depth': 5, 'learning_rate': 0.13801224507224558, 'subsample': 0.7837898551095419, 'colsample_bytree': 0.7756617721790855, 'min_child_samples': 36, 'reg_alpha': 0.7893097988555114, 'reg_lambda': 7.083545462713497}. Best is trial 21 with value: 0.13156437657136197.\n",
      "Optimizing LightGBM:  29%|██▉       | 22/75 [00:28<01:03,  1.19s/it, Trial=22, Best=0.1316][I 2025-07-14 09:51:10,553] Trial 22 finished with value: 0.1328884194219219 and parameters: {'n_estimators': 426, 'max_depth': 5, 'learning_rate': 0.13746653636237988, 'subsample': 0.7982826241082196, 'colsample_bytree': 0.779159488275457, 'min_child_samples': 33, 'reg_alpha': 1.2816418057649646, 'reg_lambda': 6.93053779216146}. Best is trial 21 with value: 0.13156437657136197.\n",
      "Optimizing LightGBM:  31%|███       | 23/75 [00:29<01:03,  1.22s/it, Trial=23, Best=0.1316][I 2025-07-14 09:51:11,392] Trial 23 finished with value: 0.13968794697338335 and parameters: {'n_estimators': 288, 'max_depth': 5, 'learning_rate': 0.1442008371735709, 'subsample': 0.826632196862914, 'colsample_bytree': 0.782652823885592, 'min_child_samples': 33, 'reg_alpha': 2.761953305512407, 'reg_lambda': 6.908075148095297}. Best is trial 21 with value: 0.13156437657136197.\n",
      "Optimizing LightGBM:  32%|███▏      | 24/75 [00:30<00:56,  1.10s/it, Trial=24, Best=0.1316][I 2025-07-14 09:51:12,887] Trial 24 finished with value: 0.13155935183067902 and parameters: {'n_estimators': 395, 'max_depth': 5, 'learning_rate': 0.12840358883062092, 'subsample': 0.6953535140627398, 'colsample_bytree': 0.8467632463587411, 'min_child_samples': 38, 'reg_alpha': 0.9125768472657712, 'reg_lambda': 8.903333468435779}. Best is trial 24 with value: 0.13155935183067902.\n",
      "Optimizing LightGBM:  33%|███▎      | 25/75 [00:32<01:01,  1.22s/it, Trial=25, Best=0.1316][I 2025-07-14 09:51:14,236] Trial 25 finished with value: 0.13173356926557844 and parameters: {'n_estimators': 241, 'max_depth': 5, 'learning_rate': 0.1322881677276215, 'subsample': 0.6883027636290493, 'colsample_bytree': 0.7805143810345924, 'min_child_samples': 36, 'reg_alpha': 0.8634423538503566, 'reg_lambda': 8.840001778701296}. Best is trial 24 with value: 0.13155935183067902.\n",
      "Optimizing LightGBM:  35%|███▍      | 26/75 [00:33<01:01,  1.26s/it, Trial=26, Best=0.1316][I 2025-07-14 09:51:16,331] Trial 26 finished with value: 0.17097081187994273 and parameters: {'n_estimators': 214, 'max_depth': 5, 'learning_rate': 0.010700026956441955, 'subsample': 0.6838119413572469, 'colsample_bytree': 0.8428208820721012, 'min_child_samples': 18, 'reg_alpha': 0.7561173495365461, 'reg_lambda': 8.7695852424031}. Best is trial 24 with value: 0.13155935183067902.\n",
      "Optimizing LightGBM:  36%|███▌      | 27/75 [00:35<01:12,  1.51s/it, Trial=27, Best=0.1316][I 2025-07-14 09:51:17,053] Trial 27 finished with value: 0.14716814178848972 and parameters: {'n_estimators': 222, 'max_depth': 5, 'learning_rate': 0.12799605912935927, 'subsample': 0.6941782437614071, 'colsample_bytree': 0.6899351080597058, 'min_child_samples': 38, 'reg_alpha': 4.467528285272122, 'reg_lambda': 8.825643962099052}. Best is trial 24 with value: 0.13155935183067902.\n",
      "Optimizing LightGBM:  37%|███▋      | 28/75 [00:36<00:59,  1.27s/it, Trial=28, Best=0.1316][I 2025-07-14 09:51:18,438] Trial 28 finished with value: 0.13919683998430404 and parameters: {'n_estimators': 373, 'max_depth': 5, 'learning_rate': 0.0736262843675334, 'subsample': 0.601931782841131, 'colsample_bytree': 0.7998665842797931, 'min_child_samples': 40, 'reg_alpha': 2.5020602418050526, 'reg_lambda': 8.928736191294576}. Best is trial 24 with value: 0.13155935183067902.\n",
      "Optimizing LightGBM:  39%|███▊      | 29/75 [00:37<01:00,  1.31s/it, Trial=29, Best=0.1316][I 2025-07-14 09:51:19,953] Trial 29 finished with value: 0.13041709041966987 and parameters: {'n_estimators': 259, 'max_depth': 4, 'learning_rate': 0.08450470099967257, 'subsample': 0.6531495592031077, 'colsample_bytree': 0.9055157656531615, 'min_child_samples': 16, 'reg_alpha': 0.7872972923375826, 'reg_lambda': 5.474390143297821}. Best is trial 29 with value: 0.13041709041966987.\n",
      "Optimizing LightGBM:  40%|████      | 30/75 [00:39<01:01,  1.37s/it, Trial=30, Best=0.1304][I 2025-07-14 09:51:21,013] Trial 30 finished with value: 0.14287241285179683 and parameters: {'n_estimators': 368, 'max_depth': 4, 'learning_rate': 0.08233526518124784, 'subsample': 0.6523136686645039, 'colsample_bytree': 0.857317202081937, 'min_child_samples': 13, 'reg_alpha': 3.2594360818473045, 'reg_lambda': 5.527452125040545}. Best is trial 29 with value: 0.13041709041966987.\n",
      "Optimizing LightGBM:  41%|████▏     | 31/75 [00:40<00:56,  1.28s/it, Trial=31, Best=0.1304][I 2025-07-14 09:51:21,636] Trial 31 finished with value: 0.13463916931536565 and parameters: {'n_estimators': 106, 'max_depth': 4, 'learning_rate': 0.11706613227646501, 'subsample': 0.6432821133998352, 'colsample_bytree': 0.9156060796418681, 'min_child_samples': 51, 'reg_alpha': 0.7688663971479118, 'reg_lambda': 7.114059092878355}. Best is trial 29 with value: 0.13041709041966987.\n",
      "Optimizing LightGBM:  43%|████▎     | 32/75 [00:41<00:46,  1.08s/it, Trial=32, Best=0.1304][I 2025-07-14 09:51:22,356] Trial 32 finished with value: 0.13815075994767773 and parameters: {'n_estimators': 263, 'max_depth': 4, 'learning_rate': 0.16398153429892087, 'subsample': 0.7115900080871146, 'colsample_bytree': 0.7923029009600091, 'min_child_samples': 43, 'reg_alpha': 2.073832925552675, 'reg_lambda': 5.48138877857651}. Best is trial 29 with value: 0.13041709041966987.\n",
      "Optimizing LightGBM:  44%|████▍     | 33/75 [00:41<00:40,  1.03it/s, Trial=33, Best=0.1304][I 2025-07-14 09:51:24,635] Trial 33 finished with value: 0.13053005527902492 and parameters: {'n_estimators': 306, 'max_depth': 5, 'learning_rate': 0.06177041920722094, 'subsample': 0.6648324402702194, 'colsample_bytree': 0.9125430510155871, 'min_child_samples': 19, 'reg_alpha': 0.8224666042289822, 'reg_lambda': 3.9027821428870055}. Best is trial 29 with value: 0.13041709041966987.\n",
      "Optimizing LightGBM:  45%|████▌     | 34/75 [00:44<00:55,  1.36s/it, Trial=34, Best=0.1304][I 2025-07-14 09:51:25,438] Trial 34 finished with value: 0.16427990953448396 and parameters: {'n_estimators': 304, 'max_depth': 3, 'learning_rate': 0.05523243121035642, 'subsample': 0.6608640749817224, 'colsample_bytree': 0.9088176258384362, 'min_child_samples': 15, 'reg_alpha': 8.661018451931334, 'reg_lambda': 3.2309292582982594}. Best is trial 29 with value: 0.13041709041966987.\n",
      "Optimizing LightGBM:  47%|████▋     | 35/75 [00:44<00:47,  1.20s/it, Trial=35, Best=0.1304][I 2025-07-14 09:51:26,778] Trial 35 finished with value: 0.13640349022071002 and parameters: {'n_estimators': 395, 'max_depth': 6, 'learning_rate': 0.09368280341352982, 'subsample': 0.6059146935764724, 'colsample_bytree': 0.917510849475095, 'min_child_samples': 28, 'reg_alpha': 1.9714466657926217, 'reg_lambda': 3.9700845388239316}. Best is trial 29 with value: 0.13041709041966987.\n",
      "Optimizing LightGBM:  48%|████▊     | 36/75 [00:46<00:48,  1.24s/it, Trial=36, Best=0.1304][I 2025-07-14 09:51:31,119] Trial 36 finished with value: 0.13220035922643136 and parameters: {'n_estimators': 343, 'max_depth': 10, 'learning_rate': 0.023185937099570335, 'subsample': 0.6692641731816162, 'colsample_bytree': 0.9569217483138629, 'min_child_samples': 23, 'reg_alpha': 0.7887981932806055, 'reg_lambda': 2.1129179055874836}. Best is trial 29 with value: 0.13041709041966987.\n",
      "Optimizing LightGBM:  49%|████▉     | 37/75 [00:50<01:22,  2.17s/it, Trial=37, Best=0.1304][I 2025-07-14 09:51:32,616] Trial 37 finished with value: 0.13567434181164875 and parameters: {'n_estimators': 568, 'max_depth': 4, 'learning_rate': 0.0674209340278138, 'subsample': 0.631692169179349, 'colsample_bytree': 0.8398982437993282, 'min_child_samples': 27, 'reg_alpha': 2.0029773153613752, 'reg_lambda': 5.338018841926252}. Best is trial 29 with value: 0.13041709041966987.\n",
      "Optimizing LightGBM:  51%|█████     | 38/75 [00:52<01:12,  1.97s/it, Trial=38, Best=0.1304][I 2025-07-14 09:51:33,827] Trial 38 finished with value: 0.12797105781548257 and parameters: {'n_estimators': 198, 'max_depth': 4, 'learning_rate': 0.0925115109337112, 'subsample': 0.7142550749380345, 'colsample_bytree': 0.6034306452415954, 'min_child_samples': 17, 'reg_alpha': 0.5580205381156728, 'reg_lambda': 4.289098011296318}. Best is trial 38 with value: 0.12797105781548257.\n",
      "Optimizing LightGBM:  52%|█████▏    | 39/75 [00:53<01:02,  1.74s/it, Trial=39, Best=0.1280][I 2025-07-14 09:51:34,444] Trial 39 finished with value: 0.1573120275387276 and parameters: {'n_estimators': 129, 'max_depth': 4, 'learning_rate': 0.039071045427120824, 'subsample': 0.705855142650528, 'colsample_bytree': 0.9766645962026973, 'min_child_samples': 100, 'reg_alpha': 3.1368961710038263, 'reg_lambda': 1.9974580809438747}. Best is trial 38 with value: 0.12797105781548257.\n",
      "Optimizing LightGBM:  53%|█████▎    | 40/75 [00:53<00:49,  1.40s/it, Trial=40, Best=0.1280][I 2025-07-14 09:51:35,116] Trial 40 finished with value: 0.1471416519620349 and parameters: {'n_estimators': 192, 'max_depth': 3, 'learning_rate': 0.09445602336127479, 'subsample': 0.7296871873168806, 'colsample_bytree': 0.6051780202431478, 'min_child_samples': 15, 'reg_alpha': 4.480616962136907, 'reg_lambda': 4.114549828825492}. Best is trial 38 with value: 0.12797105781548257.\n",
      "Optimizing LightGBM:  55%|█████▍    | 41/75 [00:54<00:40,  1.18s/it, Trial=41, Best=0.1280][I 2025-07-14 09:51:37,052] Trial 41 finished with value: 0.13039462326124254 and parameters: {'n_estimators': 277, 'max_depth': 5, 'learning_rate': 0.11359188463524411, 'subsample': 0.7483118603927139, 'colsample_bytree': 0.8213984158869563, 'min_child_samples': 18, 'reg_alpha': 0.5362314822928488, 'reg_lambda': 4.351210858958701}. Best is trial 38 with value: 0.12797105781548257.\n",
      "Optimizing LightGBM:  56%|█████▌    | 42/75 [00:56<00:46,  1.41s/it, Trial=42, Best=0.1280][I 2025-07-14 09:51:38,967] Trial 42 finished with value: 0.1297284518460188 and parameters: {'n_estimators': 263, 'max_depth': 5, 'learning_rate': 0.11947392385208866, 'subsample': 0.7540112096907176, 'colsample_bytree': 0.866480746314978, 'min_child_samples': 19, 'reg_alpha': 0.5037138546344577, 'reg_lambda': 4.475342878335916}. Best is trial 38 with value: 0.12797105781548257.\n",
      "Optimizing LightGBM:  57%|█████▋    | 43/75 [00:58<00:49,  1.56s/it, Trial=43, Best=0.1280][I 2025-07-14 09:51:40,137] Trial 43 finished with value: 0.13010306221453521 and parameters: {'n_estimators': 195, 'max_depth': 4, 'learning_rate': 0.053825574993407975, 'subsample': 0.7524947622246116, 'colsample_bytree': 0.818772833209663, 'min_child_samples': 19, 'reg_alpha': 0.30874445316442445, 'reg_lambda': 4.613392356405436}. Best is trial 38 with value: 0.12797105781548257.\n",
      "Optimizing LightGBM:  59%|█████▊    | 44/75 [00:59<00:44,  1.44s/it, Trial=44, Best=0.1280][I 2025-07-14 09:51:41,459] Trial 44 finished with value: 0.13096691950173303 and parameters: {'n_estimators': 198, 'max_depth': 4, 'learning_rate': 0.11031635441369232, 'subsample': 0.753506378199216, 'colsample_bytree': 0.8270256765244255, 'min_child_samples': 12, 'reg_alpha': 0.3916438518734306, 'reg_lambda': 4.417324998391647}. Best is trial 38 with value: 0.12797105781548257.\n",
      "Optimizing LightGBM:  60%|██████    | 45/75 [01:00<00:42,  1.41s/it, Trial=45, Best=0.1280][I 2025-07-14 09:51:42,274] Trial 45 finished with value: 0.1374724400804998 and parameters: {'n_estimators': 110, 'max_depth': 4, 'learning_rate': 0.04678304279789267, 'subsample': 0.8102428611006885, 'colsample_bytree': 0.8064688529214481, 'min_child_samples': 18, 'reg_alpha': 0.3101301915529782, 'reg_lambda': 4.881036118297376}. Best is trial 38 with value: 0.12797105781548257.\n",
      "Optimizing LightGBM:  61%|██████▏   | 46/75 [01:01<00:35,  1.23s/it, Trial=46, Best=0.1280][I 2025-07-14 09:51:43,184] Trial 46 finished with value: 0.16925478126165042 and parameters: {'n_estimators': 723, 'max_depth': 3, 'learning_rate': 0.08183257036208047, 'subsample': 0.7716236319453669, 'colsample_bytree': 0.8706407224050312, 'min_child_samples': 11, 'reg_alpha': 9.991961157639402, 'reg_lambda': 3.195520890289317}. Best is trial 38 with value: 0.12797105781548257.\n",
      "Optimizing LightGBM:  63%|██████▎   | 47/75 [01:02<00:31,  1.13s/it, Trial=47, Best=0.1280][I 2025-07-14 09:51:44,004] Trial 47 finished with value: 0.13569687235645145 and parameters: {'n_estimators': 171, 'max_depth': 4, 'learning_rate': 0.1205261415424423, 'subsample': 0.7326606841167193, 'colsample_bytree': 0.8183317419373749, 'min_child_samples': 25, 'reg_alpha': 1.839721209704836, 'reg_lambda': 5.806751734441299}. Best is trial 38 with value: 0.12797105781548257.\n",
      "Optimizing LightGBM:  64%|██████▍   | 48/75 [01:03<00:28,  1.04s/it, Trial=48, Best=0.1280][I 2025-07-14 09:51:47,140] Trial 48 finished with value: 0.12833632152646351 and parameters: {'n_estimators': 266, 'max_depth': 6, 'learning_rate': 0.08917572686222497, 'subsample': 0.7446233162272143, 'colsample_bytree': 0.64778358208483, 'min_child_samples': 9, 'reg_alpha': 0.4269480235768274, 'reg_lambda': 4.448514497418925}. Best is trial 38 with value: 0.12797105781548257.\n",
      "Optimizing LightGBM:  65%|██████▌   | 49/75 [01:06<00:43,  1.67s/it, Trial=49, Best=0.1280][I 2025-07-14 09:51:56,644] Trial 49 finished with value: 0.12834788526621269 and parameters: {'n_estimators': 936, 'max_depth': 6, 'learning_rate': 0.15239602903162885, 'subsample': 0.7456107378814484, 'colsample_bytree': 0.6384798295172431, 'min_child_samples': 8, 'reg_alpha': 0.003810545760102424, 'reg_lambda': 3.37422259937899}. Best is trial 38 with value: 0.12797105781548257.\n",
      "Optimizing LightGBM:  67%|██████▋   | 50/75 [01:16<01:40,  4.02s/it, Trial=50, Best=0.1280][I 2025-07-14 09:51:59,495] Trial 50 finished with value: 0.13203664617031358 and parameters: {'n_estimators': 675, 'max_depth': 6, 'learning_rate': 0.2216985585192135, 'subsample': 0.7697137459793743, 'colsample_bytree': 0.6446217696642609, 'min_child_samples': 10, 'reg_alpha': 0.09928749972248435, 'reg_lambda': 3.4104563070082032}. Best is trial 38 with value: 0.12797105781548257.\n",
      "Optimizing LightGBM:  68%|██████▊   | 51/75 [01:18<01:28,  3.67s/it, Trial=51, Best=0.1280][I 2025-07-14 09:52:09,505] Trial 51 finished with value: 0.12833609255967335 and parameters: {'n_estimators': 896, 'max_depth': 6, 'learning_rate': 0.09860551911291869, 'subsample': 0.7467956969679839, 'colsample_bytree': 0.6305715666092054, 'min_child_samples': 5, 'reg_alpha': 0.021530944472542002, 'reg_lambda': 4.43348035652267}. Best is trial 38 with value: 0.12797105781548257.\n",
      "Optimizing LightGBM:  69%|██████▉   | 52/75 [01:28<02:08,  5.57s/it, Trial=52, Best=0.1280][I 2025-07-14 09:52:13,473] Trial 52 finished with value: 0.13306290664270606 and parameters: {'n_estimators': 943, 'max_depth': 7, 'learning_rate': 0.1568401976057848, 'subsample': 0.7181128255766244, 'colsample_bytree': 0.6326335735350288, 'min_child_samples': 7, 'reg_alpha': 0.09385374314643757, 'reg_lambda': 2.535309701738772}. Best is trial 38 with value: 0.12797105781548257.\n",
      "Optimizing LightGBM:  71%|███████   | 53/75 [01:32<01:51,  5.09s/it, Trial=53, Best=0.1280][I 2025-07-14 09:52:15,415] Trial 53 finished with value: 0.13528115247729586 and parameters: {'n_estimators': 864, 'max_depth': 6, 'learning_rate': 0.09814100757230192, 'subsample': 0.8104761287016662, 'colsample_bytree': 0.6747230253550298, 'min_child_samples': 6, 'reg_alpha': 1.6560586870578957, 'reg_lambda': 5.074790252804437}. Best is trial 38 with value: 0.12797105781548257.\n",
      "Optimizing LightGBM:  72%|███████▏  | 54/75 [01:34<01:27,  4.15s/it, Trial=54, Best=0.1280][I 2025-07-14 09:52:18,737] Trial 54 finished with value: 0.1342719992548274 and parameters: {'n_estimators': 768, 'max_depth': 7, 'learning_rate': 0.06533423472721644, 'subsample': 0.7369636005087836, 'colsample_bytree': 0.6098854721940962, 'min_child_samples': 5, 'reg_alpha': 1.1986439845500314, 'reg_lambda': 4.675703182349338}. Best is trial 38 with value: 0.12797105781548257.\n",
      "Optimizing LightGBM:  73%|███████▎  | 55/75 [01:38<01:17,  3.90s/it, Trial=55, Best=0.1280][I 2025-07-14 09:52:29,603] Trial 55 finished with value: 0.13046273713905798 and parameters: {'n_estimators': 957, 'max_depth': 6, 'learning_rate': 0.1798364489132866, 'subsample': 0.7693032813151651, 'colsample_bytree': 0.6234985852602456, 'min_child_samples': 9, 'reg_alpha': 0.0014351481034365144, 'reg_lambda': 2.8362335648025487}. Best is trial 38 with value: 0.12797105781548257.\n",
      "Optimizing LightGBM:  75%|███████▍  | 56/75 [01:49<01:53,  5.99s/it, Trial=56, Best=0.1280][I 2025-07-14 09:52:35,161] Trial 56 finished with value: 0.12735022052840583 and parameters: {'n_estimators': 875, 'max_depth': 6, 'learning_rate': 0.05046867907052642, 'subsample': 0.748777590991996, 'colsample_bytree': 0.676025529428017, 'min_child_samples': 21, 'reg_alpha': 0.41315761004208085, 'reg_lambda': 3.6048138692846075}. Best is trial 56 with value: 0.12735022052840583.\n",
      "Optimizing LightGBM:  76%|███████▌  | 57/75 [01:54<01:45,  5.86s/it, Trial=57, Best=0.1274][I 2025-07-14 09:52:36,727] Trial 57 finished with value: 0.13312560847790347 and parameters: {'n_estimators': 870, 'max_depth': 7, 'learning_rate': 0.15265695566648357, 'subsample': 0.9018314509258915, 'colsample_bytree': 0.6693690104797979, 'min_child_samples': 22, 'reg_alpha': 1.3529769472676265, 'reg_lambda': 3.578622340270732}. Best is trial 56 with value: 0.12735022052840583.\n",
      "Optimizing LightGBM:  77%|███████▋  | 58/75 [01:56<01:17,  4.57s/it, Trial=58, Best=0.1274][I 2025-07-14 09:52:43,852] Trial 58 finished with value: 0.128130944442011 and parameters: {'n_estimators': 796, 'max_depth': 6, 'learning_rate': 0.030635222027466047, 'subsample': 0.7193126148136731, 'colsample_bytree': 0.7142489386993481, 'min_child_samples': 14, 'reg_alpha': 0.4922489183724432, 'reg_lambda': 2.730213110167187}. Best is trial 56 with value: 0.12735022052840583.\n",
      "Optimizing LightGBM:  79%|███████▊  | 59/75 [02:03<01:25,  5.34s/it, Trial=59, Best=0.1274][I 2025-07-14 09:52:46,493] Trial 59 finished with value: 0.13910002527062174 and parameters: {'n_estimators': 806, 'max_depth': 9, 'learning_rate': 0.034140923699561704, 'subsample': 0.7245126783930611, 'colsample_bytree': 0.70076466947473, 'min_child_samples': 60, 'reg_alpha': 2.3803733144613655, 'reg_lambda': 1.2135796957470864}. Best is trial 56 with value: 0.12735022052840583.\n",
      "Optimizing LightGBM:  80%|████████  | 60/75 [02:05<01:07,  4.53s/it, Trial=60, Best=0.1274][I 2025-07-14 09:52:48,818] Trial 60 finished with value: 0.1604023211113154 and parameters: {'n_estimators': 913, 'max_depth': 6, 'learning_rate': 0.02714163369718317, 'subsample': 0.7065951554904744, 'colsample_bytree': 0.6415002692327667, 'min_child_samples': 14, 'reg_alpha': 7.387644509696738, 'reg_lambda': 2.799293920068258}. Best is trial 56 with value: 0.12735022052840583.\n",
      "Optimizing LightGBM:  81%|████████▏ | 61/75 [02:08<00:54,  3.87s/it, Trial=61, Best=0.1274][I 2025-07-14 09:52:50,836] Trial 61 finished with value: 0.13300507040237103 and parameters: {'n_estimators': 997, 'max_depth': 6, 'learning_rate': 0.1033402538815932, 'subsample': 0.7436548549219048, 'colsample_bytree': 0.6597980020647527, 'min_child_samples': 10, 'reg_alpha': 1.1271644680466237, 'reg_lambda': 4.2329408488298315}. Best is trial 56 with value: 0.12735022052840583.\n",
      "Optimizing LightGBM:  83%|████████▎ | 62/75 [02:10<00:43,  3.31s/it, Trial=62, Best=0.1274][I 2025-07-14 09:53:01,996] Trial 62 finished with value: 0.1271265523154573 and parameters: {'n_estimators': 895, 'max_depth': 6, 'learning_rate': 0.013271328441481912, 'subsample': 0.795724192954925, 'colsample_bytree': 0.6221446802903394, 'min_child_samples': 8, 'reg_alpha': 0.4490269116334124, 'reg_lambda': 2.3566240289275884}. Best is trial 62 with value: 0.1271265523154573.\n",
      "Optimizing LightGBM:  84%|████████▍ | 63/75 [02:21<01:08,  5.67s/it, Trial=63, Best=0.1271][I 2025-07-14 09:53:16,885] Trial 63 finished with value: 0.1286946038976032 and parameters: {'n_estimators': 893, 'max_depth': 7, 'learning_rate': 0.011057549958587046, 'subsample': 0.8422024894008365, 'colsample_bytree': 0.6185064495281392, 'min_child_samples': 5, 'reg_alpha': 0.460606586506715, 'reg_lambda': 1.5393621050014539}. Best is trial 62 with value: 0.1271265523154573.\n",
      "Optimizing LightGBM:  85%|████████▌ | 64/75 [02:36<01:32,  8.43s/it, Trial=64, Best=0.1271][I 2025-07-14 09:53:20,461] Trial 64 finished with value: 0.13269823248421403 and parameters: {'n_estimators': 831, 'max_depth': 6, 'learning_rate': 0.044016363261188095, 'subsample': 0.7958017392363957, 'colsample_bytree': 0.7107311066849872, 'min_child_samples': 8, 'reg_alpha': 1.1020916067684587, 'reg_lambda': 2.0823069356978867}. Best is trial 62 with value: 0.1271265523154573.\n",
      "Optimizing LightGBM:  87%|████████▋ | 65/75 [02:39<01:09,  6.98s/it, Trial=65, Best=0.1271][I 2025-07-14 09:53:26,114] Trial 65 finished with value: 0.13291325749707938 and parameters: {'n_estimators': 940, 'max_depth': 8, 'learning_rate': 0.025801635348650757, 'subsample': 0.8190790472268306, 'colsample_bytree': 0.6871369673178157, 'min_child_samples': 13, 'reg_alpha': 1.5595401751665818, 'reg_lambda': 2.5291894551566765}. Best is trial 62 with value: 0.1271265523154573.\n",
      "Optimizing LightGBM:  88%|████████▊ | 66/75 [02:45<00:59,  6.58s/it, Trial=66, Best=0.1271][I 2025-07-14 09:53:29,779] Trial 66 finished with value: 0.15513295269879188 and parameters: {'n_estimators': 758, 'max_depth': 6, 'learning_rate': 0.01891314963722501, 'subsample': 0.7717340369977495, 'colsample_bytree': 0.6330474347835554, 'min_child_samples': 9, 'reg_alpha': 6.008627727241224, 'reg_lambda': 3.645726979508564}. Best is trial 62 with value: 0.1271265523154573.\n",
      "Optimizing LightGBM:  89%|████████▉ | 67/75 [02:49<00:45,  5.70s/it, Trial=67, Best=0.1271][I 2025-07-14 09:53:31,518] Trial 67 finished with value: 0.13332623382647354 and parameters: {'n_estimators': 964, 'max_depth': 7, 'learning_rate': 0.21561447866912636, 'subsample': 0.676508411626098, 'colsample_bytree': 0.6556328165151727, 'min_child_samples': 12, 'reg_alpha': 0.5626103271020586, 'reg_lambda': 0.1557270167471505}. Best is trial 62 with value: 0.1271265523154573.\n",
      "Optimizing LightGBM:  91%|█████████ | 68/75 [02:50<00:31,  4.52s/it, Trial=68, Best=0.1271][I 2025-07-14 09:53:32,748] Trial 68 finished with value: 0.16803463292272505 and parameters: {'n_estimators': 913, 'max_depth': 6, 'learning_rate': 0.07075676158702661, 'subsample': 0.7877774889158602, 'colsample_bytree': 0.6012499358605363, 'min_child_samples': 16, 'reg_alpha': 9.348979955454084, 'reg_lambda': 3.18567282779419}. Best is trial 62 with value: 0.1271265523154573.\n",
      "Optimizing LightGBM:  92%|█████████▏| 69/75 [02:52<00:21,  3.53s/it, Trial=69, Best=0.1271][I 2025-07-14 09:53:34,042] Trial 69 finished with value: 0.1361810748739418 and parameters: {'n_estimators': 854, 'max_depth': 6, 'learning_rate': 0.26980615071345626, 'subsample': 0.7149527603478647, 'colsample_bytree': 0.7459674739020903, 'min_child_samples': 27, 'reg_alpha': 0.9837662000804323, 'reg_lambda': 1.6459728711205435}. Best is trial 62 with value: 0.1271265523154573.\n",
      "Optimizing LightGBM:  93%|█████████▎| 70/75 [02:53<00:14,  2.86s/it, Trial=70, Best=0.1271][I 2025-07-14 09:53:36,559] Trial 70 finished with value: 0.13668062690960053 and parameters: {'n_estimators': 812, 'max_depth': 7, 'learning_rate': 0.04959440721440886, 'subsample': 0.6985436614125896, 'colsample_bytree': 0.6746324363201386, 'min_child_samples': 68, 'reg_alpha': 1.6468204389878616, 'reg_lambda': 2.9928619596610027}. Best is trial 62 with value: 0.1271265523154573.\n",
      "Optimizing LightGBM:  95%|█████████▍| 71/75 [02:55<00:11,  2.76s/it, Trial=71, Best=0.1271][I 2025-07-14 09:53:50,547] Trial 71 finished with value: 0.12898520710614977 and parameters: {'n_estimators': 879, 'max_depth': 7, 'learning_rate': 0.014538011386251826, 'subsample': 0.8833676568030663, 'colsample_bytree': 0.622871239523466, 'min_child_samples': 5, 'reg_alpha': 0.4920777468268648, 'reg_lambda': 1.0509268274008652}. Best is trial 62 with value: 0.1271265523154573.\n",
      "Optimizing LightGBM:  96%|█████████▌| 72/75 [03:09<00:18,  6.13s/it, Trial=72, Best=0.1271][I 2025-07-14 09:54:00,751] Trial 72 finished with value: 0.1279769580367349 and parameters: {'n_estimators': 886, 'max_depth': 7, 'learning_rate': 0.03267371741693999, 'subsample': 0.8368538136648341, 'colsample_bytree': 0.6157875349303731, 'min_child_samples': 5, 'reg_alpha': 0.3098320546465907, 'reg_lambda': 2.401734072146473}. Best is trial 62 with value: 0.1271265523154573.\n",
      "Optimizing LightGBM:  97%|█████████▋| 73/75 [03:20<00:14,  7.35s/it, Trial=73, Best=0.1271][I 2025-07-14 09:54:10,426] Trial 73 finished with value: 0.1262452550964335 and parameters: {'n_estimators': 923, 'max_depth': 6, 'learning_rate': 0.03445451686539899, 'subsample': 0.8501471137837535, 'colsample_bytree': 0.6340871602294749, 'min_child_samples': 8, 'reg_alpha': 0.22397076066244181, 'reg_lambda': 2.4319093789347708}. Best is trial 73 with value: 0.1262452550964335.\n",
      "Optimizing LightGBM:  99%|█████████▊| 74/75 [03:29<00:08,  8.05s/it, Trial=74, Best=0.1262][I 2025-07-14 09:54:15,509] Trial 74 finished with value: 0.12914907206851953 and parameters: {'n_estimators': 827, 'max_depth': 8, 'learning_rate': 0.034021611128455025, 'subsample': 0.8537613234022497, 'colsample_bytree': 0.6149783421508789, 'min_child_samples': 22, 'reg_alpha': 1.0479882739079156, 'reg_lambda': 2.6253724878988334}. Best is trial 73 with value: 0.1262452550964335.\n",
      "Optimizing LightGBM: 100%|██████████| 75/75 [03:34<00:00,  2.87s/it, Trial=75, Best=0.1262]\n"
     ]
    },
    {
     "name": "stdout",
     "output_type": "stream",
     "text": [
      "Best LightGBM RMSE: 0.1262\n",
      "Evaluating LightGBM_Optimized...\n"
     ]
    },
    {
     "name": "stderr",
     "output_type": "stream",
     "text": [
      "                                                                    \r"
     ]
    }
   ],
   "source": [
    "def objective_lgbm(trial):\n",
    "    \"\"\"Objective function for LightGBM hyperparameter optimization\"\"\"\n",
    "    params = {\n",
    "        'n_estimators': trial.suggest_int('n_estimators', 100, 1000),\n",
    "        'max_depth': trial.suggest_int('max_depth', 3, 10),\n",
    "        'learning_rate': trial.suggest_float('learning_rate', 0.01, 0.3),\n",
    "        'subsample': trial.suggest_float('subsample', 0.6, 1.0),\n",
    "        'colsample_bytree': trial.suggest_float('colsample_bytree', 0.6, 1.0),\n",
    "        'min_child_samples': trial.suggest_int('min_child_samples', 5, 100),\n",
    "        'reg_alpha': trial.suggest_float('reg_alpha', 0, 10),\n",
    "        'reg_lambda': trial.suggest_float('reg_lambda', 0, 10),\n",
    "        'random_state': 42,\n",
    "        'verbosity': -1\n",
    "    }\n",
    "    \n",
    "    model = LGBMRegressor(**params)\n",
    "    \n",
    "    cv_scores = cross_val_score(model, X_train_split, y_train, cv=cv, \n",
    "                               scoring='neg_mean_squared_error', n_jobs=-1)\n",
    "    return np.sqrt(-cv_scores.mean())\n",
    "\n",
    "print(\"Optimizing LightGBM...\")\n",
    "study_lgbm = optuna.create_study(direction='minimize', study_name='lgbm_optimization',\n",
    "                                pruner=MedianPruner(n_startup_trials=10))\n",
    "n_trials_lgbm = 75\n",
    "callback_lgbm = OptunaTqdmCallback(n_trials_lgbm, \"LightGBM\")\n",
    "study_lgbm.optimize(objective_lgbm, n_trials=n_trials_lgbm, callbacks=[callback_lgbm])\n",
    "\n",
    "print(f\"Best LightGBM RMSE: {study_lgbm.best_value:.4f}\")\n",
    "best_lgbm_params = study_lgbm.best_params\n",
    "best_lgbm = LGBMRegressor(**best_lgbm_params, random_state=42, verbosity=-1)\n",
    "lgbm_result = evaluate_model(best_lgbm, X_train_split, y_train, cv, \"LightGBM_Optimized\")"
   ]
  },
  {
   "cell_type": "code",
   "execution_count": 23,
   "id": "ba559533",
   "metadata": {},
   "outputs": [
    {
     "name": "stderr",
     "output_type": "stream",
     "text": [
      "[I 2025-07-14 09:54:29,496] A new study created in memory with name: rf_optimization\n"
     ]
    },
    {
     "name": "stdout",
     "output_type": "stream",
     "text": [
      "Optimizing RandomForest...\n"
     ]
    },
    {
     "name": "stderr",
     "output_type": "stream",
     "text": [
      "[I 2025-07-14 09:54:30,146] Trial 0 finished with value: 0.16007267988404725 and parameters: {'n_estimators': 466, 'max_depth': 9, 'min_samples_split': 15, 'min_samples_leaf': 7, 'max_features': 'sqrt'}. Best is trial 0 with value: 0.16007267988404725.\n",
      "Optimizing RandomForest:   0%|          | 0/50 [00:00<?, ?it/s, Trial=1, Best=0.1601][I 2025-07-14 09:54:30,588] Trial 1 finished with value: 0.17628284627333554 and parameters: {'n_estimators': 322, 'max_depth': 11, 'min_samples_split': 15, 'min_samples_leaf': 6, 'max_features': 'log2'}. Best is trial 0 with value: 0.16007267988404725.\n",
      "Optimizing RandomForest:   4%|▍         | 2/50 [00:00<00:10,  4.53it/s, Trial=2, Best=0.1601][I 2025-07-14 09:54:32,125] Trial 2 finished with value: 0.14666293708072478 and parameters: {'n_estimators': 480, 'max_depth': 8, 'min_samples_split': 6, 'min_samples_leaf': 5, 'max_features': None}. Best is trial 2 with value: 0.14666293708072478.\n",
      "Optimizing RandomForest:   6%|▌         | 3/50 [00:01<00:36,  1.30it/s, Trial=3, Best=0.1467][I 2025-07-14 09:54:33,463] Trial 3 finished with value: 0.14921775508550728 and parameters: {'n_estimators': 424, 'max_depth': 12, 'min_samples_split': 16, 'min_samples_leaf': 7, 'max_features': None}. Best is trial 2 with value: 0.14666293708072478.\n",
      "Optimizing RandomForest:   8%|▊         | 4/50 [00:03<00:45,  1.02it/s, Trial=4, Best=0.1467][I 2025-07-14 09:54:33,845] Trial 4 finished with value: 0.1811816583425069 and parameters: {'n_estimators': 283, 'max_depth': 15, 'min_samples_split': 19, 'min_samples_leaf': 7, 'max_features': 'log2'}. Best is trial 2 with value: 0.14666293708072478.\n",
      "Optimizing RandomForest:  10%|█         | 5/50 [00:03<00:34,  1.29it/s, Trial=5, Best=0.1467][I 2025-07-14 09:54:35,205] Trial 5 finished with value: 0.1499413242136929 and parameters: {'n_estimators': 443, 'max_depth': 9, 'min_samples_split': 15, 'min_samples_leaf': 8, 'max_features': None}. Best is trial 2 with value: 0.14666293708072478.\n",
      "Optimizing RandomForest:  12%|█▏        | 6/50 [00:05<00:42,  1.03it/s, Trial=6, Best=0.1467][I 2025-07-14 09:54:35,628] Trial 6 finished with value: 0.17860518139468484 and parameters: {'n_estimators': 413, 'max_depth': 20, 'min_samples_split': 2, 'min_samples_leaf': 7, 'max_features': 'log2'}. Best is trial 2 with value: 0.14666293708072478.\n",
      "Optimizing RandomForest:  14%|█▍        | 7/50 [00:05<00:34,  1.26it/s, Trial=7, Best=0.1467][I 2025-07-14 09:54:36,043] Trial 7 finished with value: 0.16358885666308726 and parameters: {'n_estimators': 378, 'max_depth': 12, 'min_samples_split': 6, 'min_samples_leaf': 9, 'max_features': 'sqrt'}. Best is trial 2 with value: 0.14666293708072478.\n",
      "Optimizing RandomForest:  16%|█▌        | 8/50 [00:05<00:28,  1.48it/s, Trial=8, Best=0.1467][I 2025-07-14 09:54:36,403] Trial 8 finished with value: 0.17338666206645667 and parameters: {'n_estimators': 323, 'max_depth': 5, 'min_samples_split': 6, 'min_samples_leaf': 5, 'max_features': 'sqrt'}. Best is trial 2 with value: 0.14666293708072478.\n",
      "Optimizing RandomForest:  18%|█▊        | 9/50 [00:06<00:23,  1.73it/s, Trial=9, Best=0.1467][I 2025-07-14 09:54:37,464] Trial 9 finished with value: 0.1506530809963216 and parameters: {'n_estimators': 349, 'max_depth': 7, 'min_samples_split': 15, 'min_samples_leaf': 6, 'max_features': None}. Best is trial 2 with value: 0.14666293708072478.\n",
      "Optimizing RandomForest:  20%|██        | 10/50 [00:07<00:29,  1.38it/s, Trial=10, Best=0.1467][I 2025-07-14 09:54:38,205] Trial 10 finished with value: 0.1436917122159269 and parameters: {'n_estimators': 172, 'max_depth': 17, 'min_samples_split': 10, 'min_samples_leaf': 2, 'max_features': None}. Best is trial 10 with value: 0.1436917122159269.\n",
      "Optimizing RandomForest:  22%|██▏       | 11/50 [00:08<00:28,  1.37it/s, Trial=11, Best=0.1437][I 2025-07-14 09:54:38,949] Trial 11 finished with value: 0.14319946781721618 and parameters: {'n_estimators': 160, 'max_depth': 16, 'min_samples_split': 9, 'min_samples_leaf': 2, 'max_features': None}. Best is trial 11 with value: 0.14319946781721618.\n",
      "Optimizing RandomForest:  24%|██▍       | 12/50 [00:08<00:27,  1.36it/s, Trial=12, Best=0.1432][I 2025-07-14 09:54:39,604] Trial 12 finished with value: 0.14386080234164067 and parameters: {'n_estimators': 138, 'max_depth': 17, 'min_samples_split': 10, 'min_samples_leaf': 1, 'max_features': None}. Best is trial 11 with value: 0.14319946781721618.\n",
      "Optimizing RandomForest:  26%|██▌       | 13/50 [00:09<00:26,  1.41it/s, Trial=13, Best=0.1432][I 2025-07-14 09:54:40,262] Trial 13 finished with value: 0.14383975356475368 and parameters: {'n_estimators': 144, 'max_depth': 17, 'min_samples_split': 10, 'min_samples_leaf': 2, 'max_features': None}. Best is trial 11 with value: 0.14319946781721618.\n",
      "Optimizing RandomForest:  28%|██▊       | 14/50 [00:10<00:25,  1.44it/s, Trial=14, Best=0.1432][I 2025-07-14 09:54:41,088] Trial 14 finished with value: 0.14520909938113427 and parameters: {'n_estimators': 210, 'max_depth': 15, 'min_samples_split': 12, 'min_samples_leaf': 3, 'max_features': None}. Best is trial 11 with value: 0.14319946781721618.\n",
      "Optimizing RandomForest:  30%|███       | 15/50 [00:10<00:25,  1.36it/s, Trial=15, Best=0.1432][I 2025-07-14 09:54:41,987] Trial 15 finished with value: 0.14351393698494375 and parameters: {'n_estimators': 215, 'max_depth': 20, 'min_samples_split': 8, 'min_samples_leaf': 3, 'max_features': None}. Best is trial 11 with value: 0.14319946781721618.\n",
      "Optimizing RandomForest:  32%|███▏      | 16/50 [00:11<00:26,  1.28it/s, Trial=16, Best=0.1432][I 2025-07-14 09:54:42,954] Trial 16 finished with value: 0.14423966624299084 and parameters: {'n_estimators': 248, 'max_depth': 20, 'min_samples_split': 3, 'min_samples_leaf': 4, 'max_features': None}. Best is trial 11 with value: 0.14319946781721618.\n",
      "Optimizing RandomForest:  34%|███▍      | 17/50 [00:12<00:27,  1.19it/s, Trial=17, Best=0.1432][I 2025-07-14 09:54:43,503] Trial 17 finished with value: 0.14299447872819665 and parameters: {'n_estimators': 105, 'max_depth': 19, 'min_samples_split': 8, 'min_samples_leaf': 1, 'max_features': None}. Best is trial 17 with value: 0.14299447872819665.\n",
      "Optimizing RandomForest:  36%|███▌      | 18/50 [00:13<00:24,  1.33it/s, Trial=18, Best=0.1430][I 2025-07-14 09:54:43,771] Trial 18 finished with value: 0.1545761281930992 and parameters: {'n_estimators': 113, 'max_depth': 15, 'min_samples_split': 8, 'min_samples_leaf': 1, 'max_features': 'log2'}. Best is trial 17 with value: 0.14299447872819665.\n",
      "Optimizing RandomForest:  38%|███▊      | 19/50 [00:13<00:18,  1.65it/s, Trial=19, Best=0.1430][I 2025-07-14 09:54:44,008] Trial 19 finished with value: 0.14859025052192856 and parameters: {'n_estimators': 102, 'max_depth': 18, 'min_samples_split': 4, 'min_samples_leaf': 3, 'max_features': 'sqrt'}. Best is trial 17 with value: 0.14299447872819665.\n",
      "Optimizing RandomForest:  40%|████      | 20/50 [00:13<00:14,  2.02it/s, Trial=20, Best=0.1430][I 2025-07-14 09:54:44,834] Trial 20 finished with value: 0.14424980346916103 and parameters: {'n_estimators': 196, 'max_depth': 14, 'min_samples_split': 12, 'min_samples_leaf': 1, 'max_features': None}. Best is trial 17 with value: 0.14299447872819665.\n",
      "Optimizing RandomForest:  42%|████▏     | 21/50 [00:14<00:17,  1.68it/s, Trial=21, Best=0.1430][I 2025-07-14 09:54:45,787] Trial 21 finished with value: 0.14339554593058254 and parameters: {'n_estimators': 235, 'max_depth': 19, 'min_samples_split': 8, 'min_samples_leaf': 3, 'max_features': None}. Best is trial 17 with value: 0.14299447872819665.\n",
      "Optimizing RandomForest:  44%|████▍     | 22/50 [00:15<00:19,  1.42it/s, Trial=22, Best=0.1430][I 2025-07-14 09:54:46,838] Trial 22 finished with value: 0.14232778159024825 and parameters: {'n_estimators': 243, 'max_depth': 18, 'min_samples_split': 7, 'min_samples_leaf': 2, 'max_features': None}. Best is trial 22 with value: 0.14232778159024825.\n",
      "Optimizing RandomForest:  46%|████▌     | 23/50 [00:16<00:21,  1.24it/s, Trial=23, Best=0.1423][I 2025-07-14 09:54:47,705] Trial 23 finished with value: 0.14204179732974437 and parameters: {'n_estimators': 165, 'max_depth': 18, 'min_samples_split': 5, 'min_samples_leaf': 2, 'max_features': None}. Best is trial 23 with value: 0.14204179732974437.\n",
      "Optimizing RandomForest:  48%|████▊     | 24/50 [00:17<00:21,  1.21it/s, Trial=24, Best=0.1420][I 2025-07-14 09:54:48,887] Trial 24 finished with value: 0.1441823453308337 and parameters: {'n_estimators': 262, 'max_depth': 18, 'min_samples_split': 5, 'min_samples_leaf': 4, 'max_features': None}. Best is trial 23 with value: 0.14204179732974437.\n",
      "Optimizing RandomForest:  50%|█████     | 25/50 [00:18<00:23,  1.07it/s, Trial=25, Best=0.1420][I 2025-07-14 09:54:49,748] Trial 25 finished with value: 0.1424558589770829 and parameters: {'n_estimators': 178, 'max_depth': 18, 'min_samples_split': 7, 'min_samples_leaf': 2, 'max_features': None}. Best is trial 23 with value: 0.14204179732974437.\n",
      "Optimizing RandomForest:  52%|█████▏    | 26/50 [00:19<00:21,  1.10it/s, Trial=26, Best=0.1420][I 2025-07-14 09:54:50,520] Trial 26 finished with value: 0.14434434499796744 and parameters: {'n_estimators': 185, 'max_depth': 14, 'min_samples_split': 4, 'min_samples_leaf': 4, 'max_features': None}. Best is trial 23 with value: 0.14204179732974437.\n",
      "Optimizing RandomForest:  54%|█████▍    | 27/50 [00:20<00:19,  1.15it/s, Trial=27, Best=0.1420][I 2025-07-14 09:54:50,875] Trial 27 finished with value: 0.16579803199945756 and parameters: {'n_estimators': 281, 'max_depth': 18, 'min_samples_split': 6, 'min_samples_leaf': 10, 'max_features': 'sqrt'}. Best is trial 23 with value: 0.14204179732974437.\n",
      "Optimizing RandomForest:  56%|█████▌    | 28/50 [00:20<00:15,  1.40it/s, Trial=28, Best=0.1420][I 2025-07-14 09:54:51,218] Trial 28 finished with value: 0.15694613559059517 and parameters: {'n_estimators': 220, 'max_depth': 16, 'min_samples_split': 2, 'min_samples_leaf': 2, 'max_features': 'log2'}. Best is trial 23 with value: 0.14204179732974437.\n",
      "Optimizing RandomForest:  58%|█████▊    | 29/50 [00:21<00:12,  1.66it/s, Trial=29, Best=0.1420][I 2025-07-14 09:54:51,905] Trial 29 finished with value: 0.14259153032673877 and parameters: {'n_estimators': 139, 'max_depth': 10, 'min_samples_split': 4, 'min_samples_leaf': 2, 'max_features': None}. Best is trial 23 with value: 0.14204179732974437.\n",
      "Optimizing RandomForest:  60%|██████    | 30/50 [00:21<00:12,  1.59it/s, Trial=30, Best=0.1420][I 2025-07-14 09:54:52,189] Trial 30 finished with value: 0.1516268342752609 and parameters: {'n_estimators': 180, 'max_depth': 14, 'min_samples_split': 7, 'min_samples_leaf': 4, 'max_features': 'sqrt'}. Best is trial 23 with value: 0.14204179732974437.\n",
      "Optimizing RandomForest:  62%|██████▏   | 31/50 [00:22<00:09,  1.90it/s, Trial=31, Best=0.1420][I 2025-07-14 09:54:52,866] Trial 31 finished with value: 0.14259153032673885 and parameters: {'n_estimators': 139, 'max_depth': 10, 'min_samples_split': 4, 'min_samples_leaf': 2, 'max_features': None}. Best is trial 23 with value: 0.14204179732974437.\n",
      "Optimizing RandomForest:  64%|██████▍   | 32/50 [00:22<00:10,  1.75it/s, Trial=32, Best=0.1420][I 2025-07-14 09:54:53,589] Trial 32 finished with value: 0.1435714641790257 and parameters: {'n_estimators': 163, 'max_depth': 10, 'min_samples_split': 5, 'min_samples_leaf': 3, 'max_features': None}. Best is trial 23 with value: 0.14204179732974437.\n",
      "Optimizing RandomForest:  66%|██████▌   | 33/50 [00:23<00:10,  1.62it/s, Trial=33, Best=0.1420][I 2025-07-14 09:54:54,251] Trial 33 finished with value: 0.14171864779175133 and parameters: {'n_estimators': 126, 'max_depth': 13, 'min_samples_split': 3, 'min_samples_leaf': 2, 'max_features': None}. Best is trial 33 with value: 0.14171864779175133.\n",
      "Optimizing RandomForest:  68%|██████▊   | 34/50 [00:24<00:10,  1.59it/s, Trial=34, Best=0.1417][I 2025-07-14 09:54:55,613] Trial 34 finished with value: 0.14165550390625706 and parameters: {'n_estimators': 239, 'max_depth': 13, 'min_samples_split': 3, 'min_samples_leaf': 1, 'max_features': None}. Best is trial 34 with value: 0.14165550390625706.\n",
      "Optimizing RandomForest:  70%|███████   | 35/50 [00:25<00:12,  1.18it/s, Trial=35, Best=0.1417][I 2025-07-14 09:54:57,038] Trial 35 finished with value: 0.1417731005067955 and parameters: {'n_estimators': 266, 'max_depth': 13, 'min_samples_split': 2, 'min_samples_leaf': 1, 'max_features': None}. Best is trial 34 with value: 0.14165550390625706.\n",
      "Optimizing RandomForest:  72%|███████▏  | 36/50 [00:26<00:14,  1.02s/it, Trial=36, Best=0.1417][I 2025-07-14 09:54:57,431] Trial 36 finished with value: 0.15083663049252674 and parameters: {'n_estimators': 308, 'max_depth': 13, 'min_samples_split': 2, 'min_samples_leaf': 1, 'max_features': 'log2'}. Best is trial 34 with value: 0.14165550390625706.\n",
      "Optimizing RandomForest:  74%|███████▍  | 37/50 [00:27<00:10,  1.20it/s, Trial=37, Best=0.1417][I 2025-07-14 09:54:58,746] Trial 37 finished with value: 0.1418857183280271 and parameters: {'n_estimators': 276, 'max_depth': 11, 'min_samples_split': 3, 'min_samples_leaf': 1, 'max_features': None}. Best is trial 34 with value: 0.14165550390625706.\n",
      "Optimizing RandomForest:  76%|███████▌  | 38/50 [00:28<00:11,  1.02it/s, Trial=38, Best=0.1417][I 2025-07-14 09:55:00,184] Trial 38 finished with value: 0.1419510236425233 and parameters: {'n_estimators': 272, 'max_depth': 11, 'min_samples_split': 3, 'min_samples_leaf': 1, 'max_features': None}. Best is trial 34 with value: 0.14165550390625706.\n",
      "Optimizing RandomForest:  78%|███████▊  | 39/50 [00:30<00:12,  1.12s/it, Trial=39, Best=0.1417][I 2025-07-14 09:55:00,581] Trial 39 finished with value: 0.1635761549400351 and parameters: {'n_estimators': 339, 'max_depth': 13, 'min_samples_split': 20, 'min_samples_leaf': 1, 'max_features': 'log2'}. Best is trial 34 with value: 0.14165550390625706.\n",
      "Optimizing RandomForest:  80%|████████  | 40/50 [00:30<00:09,  1.11it/s, Trial=40, Best=0.1417][I 2025-07-14 09:55:01,911] Trial 40 finished with value: 0.14547992792655554 and parameters: {'n_estimators': 379, 'max_depth': 11, 'min_samples_split': 3, 'min_samples_leaf': 5, 'max_features': None}. Best is trial 34 with value: 0.14165550390625706.\n",
      "Optimizing RandomForest:  82%|████████▏ | 41/50 [00:31<00:09,  1.03s/it, Trial=41, Best=0.1417][I 2025-07-14 09:55:03,407] Trial 41 finished with value: 0.1419556354182727 and parameters: {'n_estimators': 281, 'max_depth': 11, 'min_samples_split': 3, 'min_samples_leaf': 1, 'max_features': None}. Best is trial 34 with value: 0.14165550390625706.\n",
      "Optimizing RandomForest:  84%|████████▍ | 42/50 [00:33<00:09,  1.17s/it, Trial=42, Best=0.1417][I 2025-07-14 09:55:04,963] Trial 42 finished with value: 0.14184875660735538 and parameters: {'n_estimators': 302, 'max_depth': 12, 'min_samples_split': 2, 'min_samples_leaf': 1, 'max_features': None}. Best is trial 34 with value: 0.14165550390625706.\n",
      "Optimizing RandomForest:  86%|████████▌ | 43/50 [00:34<00:08,  1.29s/it, Trial=43, Best=0.1417][I 2025-07-14 09:55:06,596] Trial 43 finished with value: 0.14180365835936162 and parameters: {'n_estimators': 311, 'max_depth': 12, 'min_samples_split': 2, 'min_samples_leaf': 1, 'max_features': None}. Best is trial 34 with value: 0.14165550390625706.\n",
      "Optimizing RandomForest:  88%|████████▊ | 44/50 [00:36<00:08,  1.39s/it, Trial=44, Best=0.1417][I 2025-07-14 09:55:07,613] Trial 44 finished with value: 0.1498881240500427 and parameters: {'n_estimators': 306, 'max_depth': 12, 'min_samples_split': 2, 'min_samples_leaf': 8, 'max_features': None}. Best is trial 34 with value: 0.14165550390625706.\n",
      "Optimizing RandomForest:  90%|█████████ | 45/50 [00:37<00:06,  1.28s/it, Trial=45, Best=0.1417][I 2025-07-14 09:55:09,346] Trial 45 finished with value: 0.14146639691731533 and parameters: {'n_estimators': 334, 'max_depth': 13, 'min_samples_split': 2, 'min_samples_leaf': 1, 'max_features': None}. Best is trial 45 with value: 0.14146639691731533.\n",
      "Optimizing RandomForest:  92%|█████████▏| 46/50 [00:39<00:05,  1.41s/it, Trial=46, Best=0.1415][I 2025-07-14 09:55:09,768] Trial 46 finished with value: 0.15621094095104004 and parameters: {'n_estimators': 373, 'max_depth': 8, 'min_samples_split': 17, 'min_samples_leaf': 2, 'max_features': 'sqrt'}. Best is trial 45 with value: 0.14146639691731533.\n",
      "Optimizing RandomForest:  94%|█████████▍| 47/50 [00:39<00:03,  1.12s/it, Trial=47, Best=0.1415][I 2025-07-14 09:55:11,345] Trial 47 finished with value: 0.1417894002029815 and parameters: {'n_estimators': 337, 'max_depth': 13, 'min_samples_split': 5, 'min_samples_leaf': 1, 'max_features': None}. Best is trial 45 with value: 0.14146639691731533.\n",
      "Optimizing RandomForest:  96%|█████████▌| 48/50 [00:41<00:02,  1.25s/it, Trial=48, Best=0.1415][I 2025-07-14 09:55:12,504] Trial 48 finished with value: 0.14695632831160488 and parameters: {'n_estimators': 344, 'max_depth': 13, 'min_samples_split': 5, 'min_samples_leaf': 6, 'max_features': None}. Best is trial 45 with value: 0.14146639691731533.\n",
      "Optimizing RandomForest:  98%|█████████▊| 49/50 [00:42<00:01,  1.23s/it, Trial=49, Best=0.1415][I 2025-07-14 09:55:14,425] Trial 49 finished with value: 0.14250850577495258 and parameters: {'n_estimators': 496, 'max_depth': 14, 'min_samples_split': 4, 'min_samples_leaf': 3, 'max_features': None}. Best is trial 45 with value: 0.14146639691731533.\n",
      "Optimizing RandomForest: 100%|██████████| 50/50 [00:44<00:00,  1.13it/s, Trial=50, Best=0.1415]\n"
     ]
    },
    {
     "name": "stdout",
     "output_type": "stream",
     "text": [
      "Best RandomForest RMSE: 0.1415\n",
      "Evaluating RandomForest_Optimized...\n"
     ]
    },
    {
     "name": "stderr",
     "output_type": "stream",
     "text": [
      "                                                                        \r"
     ]
    }
   ],
   "source": [
    "def objective_rf(trial):\n",
    "    \"\"\"Objective function for RandomForest hyperparameter optimization\"\"\"\n",
    "    params = {\n",
    "        'n_estimators': trial.suggest_int('n_estimators', 100, 500),\n",
    "        'max_depth': trial.suggest_int('max_depth', 5, 20),\n",
    "        'min_samples_split': trial.suggest_int('min_samples_split', 2, 20),\n",
    "        'min_samples_leaf': trial.suggest_int('min_samples_leaf', 1, 10),\n",
    "        'max_features': trial.suggest_categorical('max_features', ['sqrt', 'log2', None]),\n",
    "        'random_state': 42,\n",
    "        'n_jobs': -1\n",
    "    }\n",
    "    \n",
    "    model = RandomForestRegressor(**params)\n",
    "    \n",
    "    cv_scores = cross_val_score(model, X_train_split, y_train, cv=cv, \n",
    "                               scoring='neg_mean_squared_error', n_jobs=-1)\n",
    "    return np.sqrt(-cv_scores.mean())\n",
    "\n",
    "print(\"Optimizing RandomForest...\")\n",
    "study_rf = optuna.create_study(direction='minimize', study_name='rf_optimization')\n",
    "n_trials_rf = 50\n",
    "callback_rf = OptunaTqdmCallback(n_trials_rf, \"RandomForest\")\n",
    "study_rf.optimize(objective_rf, n_trials=n_trials_rf, callbacks=[callback_rf])\n",
    "\n",
    "print(f\"Best RandomForest RMSE: {study_rf.best_value:.4f}\")\n",
    "best_rf_params = study_rf.best_params\n",
    "best_rf = RandomForestRegressor(**best_rf_params, random_state=42, n_jobs=-1)\n",
    "rf_result = evaluate_model(best_rf, X_train_split, y_train, cv, \"RandomForest_Optimized\")"
   ]
  },
  {
   "cell_type": "code",
   "execution_count": 24,
   "id": "5e53da92",
   "metadata": {},
   "outputs": [
    {
     "name": "stderr",
     "output_type": "stream",
     "text": [
      "[I 2025-07-14 09:55:16,769] A new study created in memory with name: lasso_optimization\n",
      "[I 2025-07-14 09:55:16,896] Trial 0 finished with value: 0.21204913482698123 and parameters: {'alpha': 0.09007074907083933}. Best is trial 0 with value: 0.21204913482698123.\n"
     ]
    },
    {
     "name": "stdout",
     "output_type": "stream",
     "text": [
      "Optimizing Lasso...\n"
     ]
    },
    {
     "name": "stderr",
     "output_type": "stream",
     "text": [
      "Optimizing Lasso:   0%|          | 0/30 [00:00<?, ?it/s, Trial=1, Best=0.2120][I 2025-07-14 09:55:17,080] Trial 1 finished with value: 0.13853844171621912 and parameters: {'alpha': 0.006323036271675316}. Best is trial 1 with value: 0.13853844171621912.\n",
      "Optimizing Lasso:   7%|▋         | 2/30 [00:00<00:02, 10.89it/s, Trial=2, Best=0.1385][I 2025-07-14 09:55:17,285] Trial 2 finished with value: 0.12123643153573002 and parameters: {'alpha': 0.00010941562195161926}. Best is trial 2 with value: 0.12123643153573002.\n",
      "Optimizing Lasso:   7%|▋         | 2/30 [00:00<00:02, 10.89it/s, Trial=3, Best=0.1212][I 2025-07-14 09:55:17,460] Trial 3 finished with value: 0.11971229390493007 and parameters: {'alpha': 0.00020635969401981184}. Best is trial 3 with value: 0.11971229390493007.\n",
      "Optimizing Lasso:  13%|█▎        | 4/30 [00:00<00:03,  6.68it/s, Trial=4, Best=0.1197][I 2025-07-14 09:55:17,644] Trial 4 finished with value: 0.1399469619096735 and parameters: {'alpha': 0.007080464658343653}. Best is trial 3 with value: 0.11971229390493007.\n",
      "Optimizing Lasso:  17%|█▋        | 5/30 [00:00<00:03,  6.26it/s, Trial=5, Best=0.1197][I 2025-07-14 09:55:17,791] Trial 5 finished with value: 0.1945941992443936 and parameters: {'alpha': 0.05326331789938086}. Best is trial 3 with value: 0.11971229390493007.\n",
      "Optimizing Lasso:  20%|██        | 6/30 [00:00<00:03,  6.39it/s, Trial=6, Best=0.1197][I 2025-07-14 09:55:18,175] Trial 6 finished with value: 0.11806685291647884 and parameters: {'alpha': 0.0004463092663965727}. Best is trial 6 with value: 0.11806685291647884.\n",
      "Optimizing Lasso:  23%|██▎       | 7/30 [00:01<00:05,  4.47it/s, Trial=7, Best=0.1181][I 2025-07-14 09:55:18,474] Trial 7 finished with value: 0.11801875558464056 and parameters: {'alpha': 0.0005178173460444923}. Best is trial 7 with value: 0.11801875558464056.\n",
      "Optimizing Lasso:  27%|██▋       | 8/30 [00:01<00:05,  4.06it/s, Trial=8, Best=0.1180][I 2025-07-14 09:55:18,605] Trial 8 finished with value: 0.1650621523119731 and parameters: {'alpha': 0.02236860180730029}. Best is trial 7 with value: 0.11801875558464056.\n",
      "Optimizing Lasso:  30%|███       | 9/30 [00:01<00:04,  4.72it/s, Trial=9, Best=0.1180][I 2025-07-14 09:55:18,791] Trial 9 finished with value: 0.13185531623296418 and parameters: {'alpha': 0.0032817244455758034}. Best is trial 7 with value: 0.11801875558464056.\n",
      "Optimizing Lasso:  33%|███▎      | 10/30 [00:01<00:04,  4.90it/s, Trial=10, Best=0.1180][I 2025-07-14 09:55:18,925] Trial 10 finished with value: 0.3186027007664957 and parameters: {'alpha': 0.5506396754298278}. Best is trial 7 with value: 0.11801875558464056.\n",
      "Optimizing Lasso:  37%|███▋      | 11/30 [00:02<00:03,  5.45it/s, Trial=11, Best=0.1180][I 2025-07-14 09:55:19,151] Trial 11 finished with value: 0.11945973951415148 and parameters: {'alpha': 0.0009194743250686054}. Best is trial 7 with value: 0.11801875558464056.\n",
      "Optimizing Lasso:  40%|████      | 12/30 [00:02<00:03,  5.11it/s, Trial=12, Best=0.1180][I 2025-07-14 09:55:19,421] Trial 12 finished with value: 0.11804161333160962 and parameters: {'alpha': 0.0005347008252148222}. Best is trial 7 with value: 0.11801875558464056.\n",
      "Optimizing Lasso:  43%|████▎     | 13/30 [00:02<00:03,  4.59it/s, Trial=13, Best=0.1180][I 2025-07-14 09:55:19,604] Trial 13 finished with value: 0.12154306971172925 and parameters: {'alpha': 0.001357414804267914}. Best is trial 7 with value: 0.11801875558464056.\n",
      "Optimizing Lasso:  47%|████▋     | 14/30 [00:02<00:03,  4.82it/s, Trial=14, Best=0.1180][I 2025-07-14 09:55:19,784] Trial 14 finished with value: 0.12206767296027121 and parameters: {'alpha': 0.0014538507911810701}. Best is trial 7 with value: 0.11801875558464056.\n",
      "Optimizing Lasso:  50%|█████     | 15/30 [00:02<00:02,  5.01it/s, Trial=15, Best=0.1180][I 2025-07-14 09:55:20,125] Trial 15 finished with value: 0.11825968066054197 and parameters: {'alpha': 0.00038398755714057437}. Best is trial 7 with value: 0.11801875558464056.\n",
      "Optimizing Lasso:  53%|█████▎    | 16/30 [00:03<00:03,  4.14it/s, Trial=16, Best=0.1180][I 2025-07-14 09:55:20,316] Trial 16 finished with value: 0.12805169885431528 and parameters: {'alpha': 0.002442615451168368}. Best is trial 7 with value: 0.11801875558464056.\n",
      "Optimizing Lasso:  57%|█████▋    | 17/30 [00:03<00:02,  4.41it/s, Trial=17, Best=0.1180][I 2025-07-14 09:55:20,547] Trial 17 finished with value: 0.12131753650015194 and parameters: {'alpha': 0.00010622317720328491}. Best is trial 7 with value: 0.11801875558464056.\n",
      "Optimizing Lasso:  60%|██████    | 18/30 [00:03<00:02,  4.39it/s, Trial=18, Best=0.1180][I 2025-07-14 09:55:20,730] Trial 18 finished with value: 0.1186195300130051 and parameters: {'alpha': 0.0006842349625342601}. Best is trial 7 with value: 0.11801875558464056.\n",
      "Optimizing Lasso:  63%|██████▎   | 19/30 [00:03<00:02,  4.66it/s, Trial=19, Best=0.1180][I 2025-07-14 09:55:20,860] Trial 19 finished with value: 0.16265966288593517 and parameters: {'alpha': 0.019602032885879105}. Best is trial 7 with value: 0.11801875558464056.\n",
      "Optimizing Lasso:  67%|██████▋   | 20/30 [00:03<00:01,  5.28it/s, Trial=20, Best=0.1180][I 2025-07-14 09:55:21,071] Trial 20 finished with value: 0.11900612837166127 and parameters: {'alpha': 0.00028234946166585067}. Best is trial 7 with value: 0.11801875558464056.\n",
      "Optimizing Lasso:  70%|███████   | 21/30 [00:04<00:01,  5.11it/s, Trial=21, Best=0.1180][I 2025-07-14 09:55:21,385] Trial 21 finished with value: 0.11801708568744775 and parameters: {'alpha': 0.0005107116629469745}. Best is trial 21 with value: 0.11801708568744775.\n",
      "Optimizing Lasso:  73%|███████▎  | 22/30 [00:04<00:01,  4.33it/s, Trial=22, Best=0.1180][I 2025-07-14 09:55:21,568] Trial 22 finished with value: 0.12850970568223075 and parameters: {'alpha': 0.0025356999277553337}. Best is trial 21 with value: 0.11801708568744775.\n",
      "Optimizing Lasso:  77%|███████▋  | 23/30 [00:04<00:01,  4.62it/s, Trial=23, Best=0.1180][I 2025-07-14 09:55:21,750] Trial 23 finished with value: 0.11965426578933215 and parameters: {'alpha': 0.00021298116611440242}. Best is trial 21 with value: 0.11801708568744775.\n",
      "Optimizing Lasso:  80%|████████  | 24/30 [00:04<00:01,  4.85it/s, Trial=24, Best=0.1180][I 2025-07-14 09:55:21,966] Trial 24 finished with value: 0.11829417151044187 and parameters: {'alpha': 0.0006002733559863592}. Best is trial 21 with value: 0.11801708568744775.\n",
      "Optimizing Lasso:  83%|████████▎ | 25/30 [00:05<00:01,  4.78it/s, Trial=25, Best=0.1180][I 2025-07-14 09:55:22,163] Trial 25 finished with value: 0.12049486272174974 and parameters: {'alpha': 0.001156498057103668}. Best is trial 21 with value: 0.11801708568744775.\n",
      "Optimizing Lasso:  87%|████████▋ | 26/30 [00:05<00:00,  4.86it/s, Trial=26, Best=0.1180][I 2025-07-14 09:55:22,343] Trial 26 finished with value: 0.1341274216422925 and parameters: {'alpha': 0.003914442236196515}. Best is trial 21 with value: 0.11801708568744775.\n",
      "Optimizing Lasso:  90%|█████████ | 27/30 [00:05<00:00,  5.06it/s, Trial=27, Best=0.1180][I 2025-07-14 09:55:22,480] Trial 27 finished with value: 0.31825731062481244 and parameters: {'alpha': 0.4640578800458296}. Best is trial 21 with value: 0.11801708568744775.\n",
      "Optimizing Lasso:  93%|█████████▎| 28/30 [00:05<00:00,  5.56it/s, Trial=28, Best=0.1180][I 2025-07-14 09:55:22,683] Trial 28 finished with value: 0.12061980003527074 and parameters: {'alpha': 0.0001375462149070983}. Best is trial 21 with value: 0.11801708568744775.\n",
      "Optimizing Lasso:  97%|█████████▋| 29/30 [00:05<00:00,  5.36it/s, Trial=29, Best=0.1180][I 2025-07-14 09:55:22,814] Trial 29 finished with value: 0.22940193626334973 and parameters: {'alpha': 0.12638681844097796}. Best is trial 21 with value: 0.11801708568744775.\n",
      "Optimizing Lasso: 100%|██████████| 30/30 [00:05<00:00,  5.07it/s, Trial=30, Best=0.1180]\n"
     ]
    },
    {
     "name": "stdout",
     "output_type": "stream",
     "text": [
      "Best Lasso RMSE: 0.1180\n",
      "Evaluating Lasso_Optimized...\n"
     ]
    },
    {
     "name": "stderr",
     "output_type": "stream",
     "text": [
      "                                                                 \r"
     ]
    }
   ],
   "source": [
    "def objective_lasso(trial):\n",
    "    \"\"\"Objective function for Lasso hyperparameter optimization\"\"\"\n",
    "    alpha = trial.suggest_float('alpha', 1e-4, 1.0, log=True)\n",
    "    model = Lasso(alpha=alpha, random_state=42, max_iter=3000)\n",
    "    \n",
    "    cv_scores = cross_val_score(model, X_train_split, y_train, cv=cv, \n",
    "                               scoring='neg_mean_squared_error', n_jobs=-1)\n",
    "    return np.sqrt(-cv_scores.mean())\n",
    "\n",
    "print(\"Optimizing Lasso...\")\n",
    "study_lasso = optuna.create_study(direction='minimize', study_name='lasso_optimization')\n",
    "n_trials_lasso = 30\n",
    "callback_lasso = OptunaTqdmCallback(n_trials_lasso, \"Lasso\")\n",
    "study_lasso.optimize(objective_lasso, n_trials=n_trials_lasso, callbacks=[callback_lasso])\n",
    "\n",
    "print(f\"Best Lasso RMSE: {study_lasso.best_value:.4f}\")\n",
    "best_lasso_params = study_lasso.best_params\n",
    "best_lasso = Lasso(**best_lasso_params, random_state=42, max_iter=3000)\n",
    "lasso_result = evaluate_model(best_lasso, X_train_split, y_train, cv, \"Lasso_Optimized\")"
   ]
  },
  {
   "cell_type": "code",
   "execution_count": 25,
   "id": "1b8ae09f",
   "metadata": {},
   "outputs": [
    {
     "name": "stderr",
     "output_type": "stream",
     "text": [
      "[I 2025-07-14 09:55:23,199] A new study created in memory with name: elasticnet_optimization\n",
      "[I 2025-07-14 09:55:23,331] Trial 0 finished with value: 0.1923283305823489 and parameters: {'alpha': 0.05789103122654102, 'l1_ratio': 0.8479743560569344}. Best is trial 0 with value: 0.1923283305823489.\n"
     ]
    },
    {
     "name": "stdout",
     "output_type": "stream",
     "text": [
      "Optimizing ElasticNet...\n"
     ]
    },
    {
     "name": "stderr",
     "output_type": "stream",
     "text": [
      "Optimizing ElasticNet:   0%|          | 0/30 [00:00<?, ?it/s, Trial=1, Best=0.1923][I 2025-07-14 09:55:23,479] Trial 1 finished with value: 0.12739635414023334 and parameters: {'alpha': 0.004974145366059215, 'l1_ratio': 0.43675823009951487}. Best is trial 1 with value: 0.12739635414023334.\n",
      "Optimizing ElasticNet:   7%|▋         | 2/30 [00:00<00:02, 13.56it/s, Trial=2, Best=0.1274][I 2025-07-14 09:55:23,659] Trial 2 finished with value: 0.11967596439270407 and parameters: {'alpha': 0.0002438752775615296, 'l1_ratio': 0.847137522359478}. Best is trial 2 with value: 0.11967596439270407.\n",
      "Optimizing ElasticNet:   7%|▋         | 2/30 [00:00<00:02, 13.56it/s, Trial=3, Best=0.1197][I 2025-07-14 09:55:23,924] Trial 3 finished with value: 0.11951683995486995 and parameters: {'alpha': 0.0003295040307953073, 'l1_ratio': 0.668402851767301}. Best is trial 3 with value: 0.11951683995486995.\n",
      "Optimizing ElasticNet:  13%|█▎        | 4/30 [00:00<00:04,  6.20it/s, Trial=4, Best=0.1195][I 2025-07-14 09:55:24,119] Trial 4 finished with value: 0.12034380670348614 and parameters: {'alpha': 0.0009588915684396045, 'l1_ratio': 0.10256411824508681}. Best is trial 3 with value: 0.11951683995486995.\n",
      "Optimizing ElasticNet:  17%|█▋        | 5/30 [00:00<00:04,  5.84it/s, Trial=5, Best=0.1195][I 2025-07-14 09:55:24,254] Trial 5 finished with value: 0.21620164356542743 and parameters: {'alpha': 0.1167953221902934, 'l1_ratio': 0.8433666602653432}. Best is trial 3 with value: 0.11951683995486995.\n",
      "Optimizing ElasticNet:  20%|██        | 6/30 [00:00<00:03,  6.21it/s, Trial=6, Best=0.1195][I 2025-07-14 09:55:24,404] Trial 6 finished with value: 0.1374537695011059 and parameters: {'alpha': 0.007417255470931928, 'l1_ratio': 0.7570904875924962}. Best is trial 3 with value: 0.11951683995486995.\n",
      "Optimizing ElasticNet:  23%|██▎       | 7/30 [00:01<00:03,  6.34it/s, Trial=7, Best=0.1195][I 2025-07-14 09:55:24,564] Trial 7 finished with value: 0.1188232941643265 and parameters: {'alpha': 0.0024207217657367863, 'l1_ratio': 0.12201004441873176}. Best is trial 7 with value: 0.1188232941643265.\n",
      "Optimizing ElasticNet:  27%|██▋       | 8/30 [00:01<00:03,  6.34it/s, Trial=8, Best=0.1188][I 2025-07-14 09:55:24,904] Trial 8 finished with value: 0.12284513874604287 and parameters: {'alpha': 0.00021706671695944816, 'l1_ratio': 0.20434491425566303}. Best is trial 7 with value: 0.1188232941643265.\n",
      "Optimizing ElasticNet:  30%|███       | 9/30 [00:01<00:04,  4.71it/s, Trial=9, Best=0.1188][I 2025-07-14 09:55:25,046] Trial 9 finished with value: 0.13480476887059317 and parameters: {'alpha': 0.02162448760893858, 'l1_ratio': 0.1488595315203079}. Best is trial 7 with value: 0.1188232941643265.\n",
      "Optimizing ElasticNet:  33%|███▎      | 10/30 [00:01<00:03,  5.23it/s, Trial=10, Best=0.1188][I 2025-07-14 09:55:25,187] Trial 10 finished with value: 0.317527732000775 and parameters: {'alpha': 0.7768083080226797, 'l1_ratio': 0.401220903560026}. Best is trial 7 with value: 0.1188232941643265.\n",
      "Optimizing ElasticNet:  37%|███▋      | 11/30 [00:01<00:03,  5.66it/s, Trial=11, Best=0.1188][I 2025-07-14 09:55:25,376] Trial 11 finished with value: 0.11908136755456467 and parameters: {'alpha': 0.0011684902365564356, 'l1_ratio': 0.6381436637335434}. Best is trial 7 with value: 0.1188232941643265.\n",
      "Optimizing ElasticNet:  40%|████      | 12/30 [00:02<00:03,  5.56it/s, Trial=12, Best=0.1188][I 2025-07-14 09:55:25,546] Trial 12 finished with value: 0.1192852782561038 and parameters: {'alpha': 0.0013931445872776916, 'l1_ratio': 0.5622950225980023}. Best is trial 7 with value: 0.1188232941643265.\n",
      "Optimizing ElasticNet:  43%|████▎     | 13/30 [00:02<00:03,  5.65it/s, Trial=13, Best=0.1188][I 2025-07-14 09:55:25,704] Trial 13 finished with value: 0.11891213073971581 and parameters: {'alpha': 0.002080464932673364, 'l1_ratio': 0.29435345085337855}. Best is trial 7 with value: 0.1188232941643265.\n",
      "Optimizing ElasticNet:  47%|████▋     | 14/30 [00:02<00:02,  5.83it/s, Trial=14, Best=0.1188][I 2025-07-14 09:55:25,854] Trial 14 finished with value: 0.12086821329252895 and parameters: {'alpha': 0.0038034687696448352, 'l1_ratio': 0.26991657045392714}. Best is trial 7 with value: 0.1188232941643265.\n",
      "Optimizing ElasticNet:  50%|█████     | 15/30 [00:02<00:02,  6.06it/s, Trial=15, Best=0.1188][I 2025-07-14 09:55:26,006] Trial 15 finished with value: 0.14027417282962618 and parameters: {'alpha': 0.01948319924867975, 'l1_ratio': 0.32079381319416367}. Best is trial 7 with value: 0.1188232941643265.\n",
      "Optimizing ElasticNet:  53%|█████▎    | 16/30 [00:02<00:02,  6.19it/s, Trial=16, Best=0.1188][I 2025-07-14 09:55:26,170] Trial 16 finished with value: 0.11896949261267582 and parameters: {'alpha': 0.0020958956631971625, 'l1_ratio': 0.29911942532937397}. Best is trial 7 with value: 0.1188232941643265.\n",
      "Optimizing ElasticNet:  57%|█████▋    | 17/30 [00:02<00:02,  6.18it/s, Trial=17, Best=0.1188][I 2025-07-14 09:55:26,429] Trial 17 finished with value: 0.12092915432387773 and parameters: {'alpha': 0.0004686788325726381, 'l1_ratio': 0.2001024824596216}. Best is trial 7 with value: 0.1188232941643265.\n",
      "Optimizing ElasticNet:  60%|██████    | 18/30 [00:03<00:02,  5.24it/s, Trial=18, Best=0.1188][I 2025-07-14 09:55:26,578] Trial 18 finished with value: 0.13657211490777488 and parameters: {'alpha': 0.011686288583325436, 'l1_ratio': 0.4041224881928235}. Best is trial 7 with value: 0.1188232941643265.\n",
      "Optimizing ElasticNet:  63%|██████▎   | 19/30 [00:03<00:01,  5.60it/s, Trial=19, Best=0.1188][I 2025-07-14 09:55:26,720] Trial 19 finished with value: 0.16275942784473818 and parameters: {'alpha': 0.08352851795724464, 'l1_ratio': 0.2226049112565287}. Best is trial 7 with value: 0.1188232941643265.\n",
      "Optimizing ElasticNet:  67%|██████▋   | 20/30 [00:03<00:01,  5.96it/s, Trial=20, Best=0.1188][I 2025-07-14 09:55:26,887] Trial 20 finished with value: 0.12097364008917573 and parameters: {'alpha': 0.0023290709773008448, 'l1_ratio': 0.4941445752437259}. Best is trial 7 with value: 0.1188232941643265.\n",
      "Optimizing ElasticNet:  70%|███████   | 21/30 [00:03<00:01,  5.98it/s, Trial=21, Best=0.1188][I 2025-07-14 09:55:27,085] Trial 21 finished with value: 0.1193674054327568 and parameters: {'alpha': 0.0007434376201675861, 'l1_ratio': 0.3071565174046536}. Best is trial 7 with value: 0.1188232941643265.\n",
      "Optimizing ElasticNet:  73%|███████▎  | 22/30 [00:03<00:01,  5.67it/s, Trial=22, Best=0.1188][I 2025-07-14 09:55:27,245] Trial 22 finished with value: 0.11944135284871098 and parameters: {'alpha': 0.002189949346080865, 'l1_ratio': 0.3459169253956582}. Best is trial 7 with value: 0.1188232941643265.\n",
      "Optimizing ElasticNet:  77%|███████▋  | 23/30 [00:03<00:01,  5.83it/s, Trial=23, Best=0.1188][I 2025-07-14 09:55:27,772] Trial 23 finished with value: 0.12473688125582146 and parameters: {'alpha': 0.00012819912068397595, 'l1_ratio': 0.12024996360926526}. Best is trial 7 with value: 0.1188232941643265.\n",
      "Optimizing ElasticNet:  80%|████████  | 24/30 [00:04<00:01,  3.59it/s, Trial=24, Best=0.1188][I 2025-07-14 09:55:27,934] Trial 24 finished with value: 0.119024539441645 and parameters: {'alpha': 0.0024205821195291133, 'l1_ratio': 0.2545000873859309}. Best is trial 7 with value: 0.1188232941643265.\n",
      "Optimizing ElasticNet:  83%|████████▎ | 25/30 [00:04<00:01,  4.11it/s, Trial=25, Best=0.1188][I 2025-07-14 09:55:28,082] Trial 25 finished with value: 0.12082360799257029 and parameters: {'alpha': 0.0057600539228716136, 'l1_ratio': 0.15369612300607738}. Best is trial 7 with value: 0.1188232941643265.\n",
      "Optimizing ElasticNet:  87%|████████▋ | 26/30 [00:04<00:00,  4.65it/s, Trial=26, Best=0.1188][I 2025-07-14 09:55:28,221] Trial 26 finished with value: 0.14922877557762732 and parameters: {'alpha': 0.03103610697210161, 'l1_ratio': 0.35578747251416964}. Best is trial 7 with value: 0.1188232941643265.\n",
      "Optimizing ElasticNet:  90%|█████████ | 27/30 [00:04<00:00,  5.20it/s, Trial=27, Best=0.1188][I 2025-07-14 09:55:28,434] Trial 27 finished with value: 0.11912546485492499 and parameters: {'alpha': 0.0005311630991506032, 'l1_ratio': 0.49289894821362834}. Best is trial 7 with value: 0.1188232941643265.\n",
      "Optimizing ElasticNet:  93%|█████████▎| 28/30 [00:05<00:00,  5.05it/s, Trial=28, Best=0.1188][I 2025-07-14 09:55:28,583] Trial 28 finished with value: 0.1326151274222336 and parameters: {'alpha': 0.011637285960449393, 'l1_ratio': 0.2642452080534484}. Best is trial 7 with value: 0.1188232941643265.\n",
      "Optimizing ElasticNet:  97%|█████████▋| 29/30 [00:05<00:00,  5.45it/s, Trial=29, Best=0.1188][I 2025-07-14 09:55:28,747] Trial 29 finished with value: 0.11906399159763902 and parameters: {'alpha': 0.0031847912319018317, 'l1_ratio': 0.17864218828142256}. Best is trial 7 with value: 0.1188232941643265.\n",
      "Optimizing ElasticNet: 100%|██████████| 30/30 [00:05<00:00,  5.54it/s, Trial=30, Best=0.1188]\n"
     ]
    },
    {
     "name": "stdout",
     "output_type": "stream",
     "text": [
      "Best ElasticNet RMSE: 0.1188\n",
      "Evaluating ElasticNet_Optimized...\n"
     ]
    },
    {
     "name": "stderr",
     "output_type": "stream",
     "text": [
      "                                                              \r"
     ]
    }
   ],
   "source": [
    "def objective_elasticnet(trial):\n",
    "    \"\"\"Objective function for ElasticNet hyperparameter optimization\"\"\"\n",
    "    alpha = trial.suggest_float('alpha', 1e-4, 1.0, log=True)\n",
    "    l1_ratio = trial.suggest_float('l1_ratio', 0.1, 0.9)\n",
    "    model = ElasticNet(alpha=alpha, l1_ratio=l1_ratio, random_state=42, max_iter=3000)\n",
    "    \n",
    "    cv_scores = cross_val_score(model, X_train_split, y_train, cv=cv, \n",
    "                               scoring='neg_mean_squared_error', n_jobs=-1)\n",
    "    return np.sqrt(-cv_scores.mean())\n",
    "\n",
    "print(\"Optimizing ElasticNet...\")\n",
    "study_elasticnet = optuna.create_study(direction='minimize', study_name='elasticnet_optimization')\n",
    "n_trials_elasticnet = 30\n",
    "callback_elasticnet = OptunaTqdmCallback(n_trials_elasticnet, \"ElasticNet\")\n",
    "study_elasticnet.optimize(objective_elasticnet, n_trials=n_trials_elasticnet, callbacks=[callback_elasticnet])\n",
    "\n",
    "print(f\"Best ElasticNet RMSE: {study_elasticnet.best_value:.4f}\")\n",
    "best_elasticnet_params = study_elasticnet.best_params\n",
    "best_elasticnet = ElasticNet(**best_elasticnet_params, random_state=42, max_iter=3000)\n",
    "elasticnet_result = evaluate_model(best_elasticnet, X_train_split, y_train, cv, \"ElasticNet_Optimized\")"
   ]
  },
  {
   "cell_type": "code",
   "execution_count": 26,
   "id": "6ee30eaf",
   "metadata": {},
   "outputs": [
    {
     "name": "stdout",
     "output_type": "stream",
     "text": [
      "\n",
      "=====================================================================================\n",
      "HYPERPARAMETER OPTIMIZATION RESULTS\n",
      "=====================================================================================\n",
      "Model           CV RMSE      CV Std     Val RMSE     Improvement \n",
      "-------------------------------------------------------------------------------------\n",
      "CatBoost        0.1145       0.0100     0.1280       6.09        %\n",
      "Lasso           0.1178       0.0079     0.1204       3.40        %\n",
      "XGBoost         0.1182       0.0114     0.1227       3.04        %\n",
      "ElasticNet      0.1185       0.0084     0.1213       2.77        %\n",
      "LightGBM        0.1258       0.0112     0.1337       -3.16       %\n",
      "RandomForest    0.1411       0.0108     0.1449       -15.72      %\n",
      "\n",
      "Best individual model: CatBoost (CV RMSE: 0.1145)\n"
     ]
    }
   ],
   "source": [
    "# Compile all optimization results\n",
    "optimized_results = {\n",
    "    'XGBoost': xgb_result,\n",
    "    'CatBoost': catboost_result,\n",
    "    'LightGBM': lgbm_result,\n",
    "    'RandomForest': rf_result,\n",
    "    'Lasso': lasso_result,\n",
    "    'ElasticNet': elasticnet_result\n",
    "}\n",
    "\n",
    "print(\"\\n\" + \"=\"*85)\n",
    "print(\"HYPERPARAMETER OPTIMIZATION RESULTS\")\n",
    "print(\"=\"*85)\n",
    "print(f\"{'Model':<15} {'CV RMSE':<12} {'CV Std':<10} {'Val RMSE':<12} {'Improvement':<12}\")\n",
    "print(\"-\"*85)\n",
    "\n",
    "baseline_cv_rmse = best_baseline[1]['cv_rmse_mean'] if 'best_baseline' in locals() else float('inf')\n",
    "\n",
    "for name, result in sorted(optimized_results.items(), key=lambda x: x[1]['cv_rmse_mean']):\n",
    "    if baseline_cv_rmse != float('inf'):\n",
    "        improvement = (baseline_cv_rmse - result['cv_rmse_mean']) / baseline_cv_rmse * 100\n",
    "    else:\n",
    "        improvement = 0\n",
    "    \n",
    "    print(f\"{name:<15} {result['cv_rmse_mean']:<12.4f} {result['cv_rmse_std']:<10.4f} \"\n",
    "          f\"{result['val_rmse']:<12.4f} {improvement:<12.2f}%\")\n",
    "\n",
    "best_individual = min(optimized_results.items(), key=lambda x: x[1]['cv_rmse_mean'])\n",
    "print(f\"\\nBest individual model: {best_individual[0]} (CV RMSE: {best_individual[1]['cv_rmse_mean']:.4f})\")"
   ]
  },
  {
   "cell_type": "code",
   "execution_count": 38,
   "id": "c584d1ad",
   "metadata": {},
   "outputs": [
    {
     "name": "stdout",
     "output_type": "stream",
     "text": [
      "\n",
      "Top 3 models selected for ensembles:\n",
      "  1. CatBoost: 0.1145\n",
      "  2. Lasso: 0.1178\n",
      "  3. XGBoost: 0.1182\n",
      "  4. ElasticNet: 0.1185\n"
     ]
    }
   ],
   "source": [
    "# Select top 3 models for ensemble methods\n",
    "top_models = sorted(optimized_results.items(), key=lambda x: x[1]['cv_rmse_mean'])[:4]\n",
    "print(f\"\\nTop 3 models selected for ensembles:\")\n",
    "for i, (name, result) in enumerate(top_models, 1):\n",
    "    print(f\"  {i}. {name}: {result['cv_rmse_mean']:.4f}\")\n",
    "\n",
    "# Get model objects\n",
    "model_map = {\n",
    "    'XGBoost': best_xgb,\n",
    "    'CatBoost': best_catboost,\n",
    "    'LightGBM': best_lgbm,\n",
    "    'RandomForest': best_rf,\n",
    "    'Lasso': best_lasso,\n",
    "    'ElasticNet': best_elasticnet\n",
    "}\n",
    "\n",
    "top_model_objects = [model_map[name] for name, _ in top_models]\n",
    "top_model_names = [name for name, _ in top_models]"
   ]
  },
  {
   "cell_type": "code",
   "execution_count": 39,
   "id": "a0628205",
   "metadata": {},
   "outputs": [
    {
     "name": "stdout",
     "output_type": "stream",
     "text": [
      "Evaluating Simple_Ensemble...\n"
     ]
    },
    {
     "name": "stderr",
     "output_type": "stream",
     "text": [
      "                                                                 \r"
     ]
    },
    {
     "name": "stdout",
     "output_type": "stream",
     "text": [
      "Simple Ensemble RMSE: 0.1121\n"
     ]
    }
   ],
   "source": [
    "class SimpleEnsemble(BaseEstimator, RegressorMixin):\n",
    "    \"\"\"Simple averaging ensemble\"\"\"\n",
    "    def __init__(self, models):\n",
    "        self.models = models\n",
    "    \n",
    "    def fit(self, X, y):\n",
    "        self.fitted_models_ = []\n",
    "        for model in self.models:\n",
    "            fitted_model = clone(model)\n",
    "            fitted_model.fit(X, y)\n",
    "            self.fitted_models_.append(fitted_model)\n",
    "        return self\n",
    "    \n",
    "    def predict(self, X):\n",
    "        predictions = np.column_stack([\n",
    "            model.predict(X) for model in self.fitted_models_\n",
    "        ])\n",
    "        return np.mean(predictions, axis=1)\n",
    "\n",
    "simple_ensemble = SimpleEnsemble(top_model_objects)\n",
    "simple_result = evaluate_model(simple_ensemble, X_train_split, y_train, cv, \"Simple_Ensemble\")\n",
    "print(f\"Simple Ensemble RMSE: {simple_result['cv_rmse_mean']:.4f}\")"
   ]
  },
  {
   "cell_type": "code",
   "execution_count": 40,
   "id": "fe571bde",
   "metadata": {},
   "outputs": [
    {
     "name": "stdout",
     "output_type": "stream",
     "text": [
      "Evaluating Weighted_Ensemble...\n"
     ]
    },
    {
     "name": "stderr",
     "output_type": "stream",
     "text": [
      "CV Weighted_Ensemble:  20%|██        | 1/5 [00:02<00:10,  2.53s/it]"
     ]
    },
    {
     "name": "stdout",
     "output_type": "stream",
     "text": [
      "Optimized weights: {'CatBoost': np.float64(0.25), 'Lasso': np.float64(0.25), 'XGBoost': np.float64(0.25), 'ElasticNet': np.float64(0.25)}\n"
     ]
    },
    {
     "name": "stderr",
     "output_type": "stream",
     "text": [
      "CV Weighted_Ensemble:  40%|████      | 2/5 [00:05<00:08,  2.68s/it]"
     ]
    },
    {
     "name": "stdout",
     "output_type": "stream",
     "text": [
      "Optimized weights: {'CatBoost': np.float64(0.5167758221014782), 'Lasso': np.float64(0.07182151470036852), 'XGBoost': np.float64(0.3178971375642003), 'ElasticNet': np.float64(0.09350552563395297)}\n"
     ]
    },
    {
     "name": "stderr",
     "output_type": "stream",
     "text": [
      "CV Weighted_Ensemble:  60%|██████    | 3/5 [00:07<00:05,  2.65s/it]"
     ]
    },
    {
     "name": "stdout",
     "output_type": "stream",
     "text": [
      "Optimized weights: {'CatBoost': np.float64(0.6397810535849631), 'Lasso': np.float64(0.14310236736794418), 'XGBoost': np.float64(0.0), 'ElasticNet': np.float64(0.21711657904709275)}\n"
     ]
    },
    {
     "name": "stderr",
     "output_type": "stream",
     "text": [
      "CV Weighted_Ensemble:  80%|████████  | 4/5 [00:10<00:02,  2.60s/it]"
     ]
    },
    {
     "name": "stdout",
     "output_type": "stream",
     "text": [
      "Optimized weights: {'CatBoost': np.float64(0.25), 'Lasso': np.float64(0.25), 'XGBoost': np.float64(0.25), 'ElasticNet': np.float64(0.25)}\n"
     ]
    },
    {
     "name": "stderr",
     "output_type": "stream",
     "text": [
      "                                                                   "
     ]
    },
    {
     "name": "stdout",
     "output_type": "stream",
     "text": [
      "Optimized weights: {'CatBoost': np.float64(0.2715405170715618), 'Lasso': np.float64(0.14343480308080644), 'XGBoost': np.float64(0.42910285254461406), 'ElasticNet': np.float64(0.1559218273030178)}\n"
     ]
    },
    {
     "name": "stderr",
     "output_type": "stream",
     "text": [
      "\r"
     ]
    },
    {
     "name": "stdout",
     "output_type": "stream",
     "text": [
      "Optimized weights: {'CatBoost': np.float64(0.23041151087711984), 'Lasso': np.float64(0.3538122019709261), 'XGBoost': np.float64(0.11979802832431842), 'ElasticNet': np.float64(0.29597825882763573)}\n",
      "Weighted Ensemble RMSE: 0.1126\n"
     ]
    }
   ],
   "source": [
    "class WeightedEnsemble(BaseEstimator, RegressorMixin):\n",
    "    \"\"\"Weighted averaging ensemble with optimized weights\"\"\"\n",
    "    def __init__(self, models):\n",
    "        self.models = models\n",
    "        self.weights_ = None\n",
    "    \n",
    "    def fit(self, X, y):\n",
    "        self.fitted_models_ = []\n",
    "        for model in self.models:\n",
    "            fitted_model = clone(model)\n",
    "            fitted_model.fit(X, y)\n",
    "            self.fitted_models_.append(fitted_model)\n",
    "        \n",
    "        # Optimize weights using validation approach\n",
    "        X_opt, X_weight_val, y_opt, y_weight_val = train_test_split(\n",
    "            X, y, test_size=0.2, random_state=42\n",
    "        )\n",
    "        \n",
    "        # Fit models on optimization set\n",
    "        opt_models = []\n",
    "        for model in self.models:\n",
    "            opt_model = clone(model)\n",
    "            opt_model.fit(X_opt, y_opt)\n",
    "            opt_models.append(opt_model)\n",
    "        \n",
    "        # Get predictions on weight validation set\n",
    "        weight_val_preds = np.column_stack([\n",
    "            model.predict(X_weight_val) for model in opt_models\n",
    "        ])\n",
    "        \n",
    "        # Optimize weights\n",
    "        def objective(weights):\n",
    "            weights = weights / weights.sum()  # Normalize\n",
    "            ensemble_pred = np.dot(weight_val_preds, weights)\n",
    "            return mean_squared_error(y_weight_val, ensemble_pred)\n",
    "        \n",
    "        # Initial equal weights\n",
    "        initial_weights = np.ones(len(self.models)) / len(self.models)\n",
    "        \n",
    "        # Constraints: weights sum to 1 and are non-negative\n",
    "        constraints = {'type': 'eq', 'fun': lambda w: w.sum() - 1}\n",
    "        bounds = [(0, 1) for _ in range(len(self.models))]\n",
    "        \n",
    "        result = minimize(objective, initial_weights, method='SLSQP',\n",
    "                         bounds=bounds, constraints=constraints)\n",
    "        \n",
    "        self.weights_ = result.x\n",
    "        print(f\"Optimized weights: {dict(zip(top_model_names, self.weights_))}\")\n",
    "        \n",
    "        return self\n",
    "    \n",
    "    def predict(self, X):\n",
    "        predictions = np.column_stack([\n",
    "            model.predict(X) for model in self.fitted_models_\n",
    "        ])\n",
    "        return np.dot(predictions, self.weights_)\n",
    "\n",
    "weighted_ensemble = WeightedEnsemble(top_model_objects)\n",
    "weighted_result = evaluate_model(weighted_ensemble, X_train_split, y_train, cv, \"Weighted_Ensemble\")\n",
    "print(f\"Weighted Ensemble RMSE: {weighted_result['cv_rmse_mean']:.4f}\")"
   ]
  },
  {
   "cell_type": "code",
   "execution_count": 41,
   "id": "4fec7ca1",
   "metadata": {},
   "outputs": [
    {
     "name": "stdout",
     "output_type": "stream",
     "text": [
      "Evaluating Stacking_Ensemble...\n"
     ]
    },
    {
     "name": "stderr",
     "output_type": "stream",
     "text": [
      "                                                                   \r"
     ]
    },
    {
     "name": "stdout",
     "output_type": "stream",
     "text": [
      "Stacking Ensemble RMSE: 0.1123\n"
     ]
    }
   ],
   "source": [
    "# Create stacking ensemble with Ridge as meta-learner\n",
    "stacking_ensemble = StackingRegressor(\n",
    "    estimators=[(name, model) for name, model in zip(top_model_names, top_model_objects)],\n",
    "    final_estimator=Ridge(alpha=1.0),\n",
    "    cv=3,\n",
    "    n_jobs=-1\n",
    ")\n",
    "\n",
    "stacking_result = evaluate_model(stacking_ensemble, X_train_split, y_train, cv, \"Stacking_Ensemble\")\n",
    "print(f\"Stacking Ensemble RMSE: {stacking_result['cv_rmse_mean']:.4f}\")"
   ]
  },
  {
   "cell_type": "code",
   "execution_count": 42,
   "id": "6942aa62",
   "metadata": {},
   "outputs": [
    {
     "name": "stdout",
     "output_type": "stream",
     "text": [
      "\n",
      "======================================================================\n",
      "ENSEMBLE METHOD RESULTS\n",
      "======================================================================\n",
      "Method               CV RMSE      CV Std     Val RMSE    \n",
      "----------------------------------------------------------------------\n",
      "Simple_Ensemble      0.1121       0.0093     0.1172      \n",
      "Stacking_Ensemble    0.1123       0.0091     0.1172      \n",
      "Weighted_Ensemble    0.1126       0.0090     0.1175      \n",
      "----------------------------------------------------------------------\n"
     ]
    }
   ],
   "source": [
    "# Compile ensemble results\n",
    "ensemble_results = {\n",
    "    'Simple_Ensemble': simple_result,\n",
    "    'Weighted_Ensemble': weighted_result,\n",
    "    'Stacking_Ensemble': stacking_result\n",
    "}\n",
    "\n",
    "print(\"\\n\" + \"=\"*70)\n",
    "print(\"ENSEMBLE METHOD RESULTS\")\n",
    "print(\"=\"*70)\n",
    "print(f\"{'Method':<20} {'CV RMSE':<12} {'CV Std':<10} {'Val RMSE':<12}\")\n",
    "print(\"-\"*70)\n",
    "\n",
    "for name, result in sorted(ensemble_results.items(), key=lambda x: x[1]['cv_rmse_mean']):\n",
    "    print(f\"{name:<20} {result['cv_rmse_mean']:<12.4f} {result['cv_rmse_std']:<10.4f} \"\n",
    "          f\"{result['val_rmse']:<12.4f}\")\n",
    "\n",
    "print(\"-\"*70)"
   ]
  },
  {
   "cell_type": "code",
   "execution_count": 43,
   "id": "124862eb",
   "metadata": {},
   "outputs": [
    {
     "name": "stdout",
     "output_type": "stream",
     "text": [
      "\n",
      "==========================================================================================\n",
      "FINAL MODEL PERFORMANCE MATRIX\n",
      "==========================================================================================\n",
      "Model                CV RMSE      CV Std     Val RMSE     Status      \n",
      "------------------------------------------------------------------------------------------\n",
      "Simple_Ensemble      0.1121       0.0093     0.1172       TARGET ACHIEVED\n",
      "Stacking_Ensemble    0.1123       0.0091     0.1172       TARGET ACHIEVED\n",
      "Weighted_Ensemble    0.1126       0.0090     0.1175       TARGET ACHIEVED\n",
      "CatBoost             0.1145       0.0100     0.1280       TARGET ACHIEVED\n",
      "Lasso                0.1178       0.0079     0.1204       TARGET ACHIEVED\n",
      "XGBoost              0.1182       0.0114     0.1227       TARGET ACHIEVED\n",
      "ElasticNet           0.1185       0.0084     0.1213       BELOW TARGET\n",
      "LightGBM             0.1258       0.0112     0.1337       BELOW TARGET\n",
      "RandomForest         0.1411       0.0108     0.1449       BELOW TARGET\n",
      "\n",
      "FINAL MODEL SELECTED: Simple_Ensemble\n",
      "Final RMSE: 0.1121\n",
      "Target Achievement: SUCCESS\n"
     ]
    }
   ],
   "source": [
    "# Combine all results\n",
    "all_model_results = {**optimized_results, **ensemble_results}\n",
    "\n",
    "print(\"\\n\" + \"=\"*90)\n",
    "print(\"FINAL MODEL PERFORMANCE MATRIX\")\n",
    "print(\"=\"*90)\n",
    "print(f\"{'Model':<20} {'CV RMSE':<12} {'CV Std':<10} {'Val RMSE':<12} {'Status':<12}\")\n",
    "print(\"-\"*90)\n",
    "\n",
    "target_rmse = 0.1185\n",
    "\n",
    "for name, result in sorted(all_model_results.items(), key=lambda x: x[1]['cv_rmse_mean']):\n",
    "    status = \"TARGET ACHIEVED\" if result['cv_rmse_mean'] < target_rmse else \"BELOW TARGET\"\n",
    "    print(f\"{name:<20} {result['cv_rmse_mean']:<12.4f} {result['cv_rmse_std']:<10.4f} \"\n",
    "          f\"{result['val_rmse']:<12.4f} {status:<12}\")\n",
    "\n",
    "# Select final model\n",
    "final_model_name = min(all_model_results.items(), key=lambda x: x[1]['cv_rmse_mean'])[0]\n",
    "final_model_rmse = all_model_results[final_model_name]['cv_rmse_mean']\n",
    "\n",
    "print(f\"\\nFINAL MODEL SELECTED: {final_model_name}\")\n",
    "print(f\"Final RMSE: {final_model_rmse:.4f}\")\n",
    "print(f\"Target Achievement: {'SUCCESS' if final_model_rmse < target_rmse else 'MISSED'}\")\n",
    "\n",
    "# Get the actual model object\n",
    "if final_model_name == \"Simple_Ensemble\":\n",
    "    final_model = simple_ensemble\n",
    "elif final_model_name == \"Weighted_Ensemble\":\n",
    "    final_model = weighted_ensemble\n",
    "elif final_model_name == \"Stacking_Ensemble\":\n",
    "    final_model = stacking_ensemble\n",
    "else:\n",
    "    final_model = model_map[final_model_name]"
   ]
  },
  {
   "cell_type": "code",
   "execution_count": 44,
   "id": "c9f527ea",
   "metadata": {},
   "outputs": [
    {
     "name": "stdout",
     "output_type": "stream",
     "text": [
      "\n",
      "Final Model Validation:\n",
      "==================================================\n",
      "Validation Metrics:\n",
      "  RMSE (log scale): 0.1172\n",
      "  RMSE (original): $18,736\n",
      "  MAE (original): $13,459\n",
      "  R² Score: 0.9365\n",
      "  Mean Absolute Percentage Error: 8.15%\n",
      "  Median Absolute Percentage Error: 5.37%\n",
      "\n",
      "Prediction Range Analysis:\n",
      "  Training price range: $34,900 - $755,000\n",
      "  Validation predictions: $46,823 - $497,197\n",
      "  Validation actual: $35,311 - $451,950\n"
     ]
    }
   ],
   "source": [
    "print(\"\\nFinal Model Validation:\")\n",
    "print(\"=\"*50)\n",
    "\n",
    "# Fit on full training data\n",
    "final_model.fit(X_train_split, y_train)\n",
    "\n",
    "# Validation predictions\n",
    "val_predictions_log = final_model.predict(X_val)\n",
    "val_predictions_original = np.exp(val_predictions_log)\n",
    "y_val_original = np.exp(y_val)\n",
    "\n",
    "# Calculate comprehensive metrics\n",
    "val_rmse_log = np.sqrt(mean_squared_error(y_val, val_predictions_log))\n",
    "val_rmse_original = np.sqrt(mean_squared_error(y_val_original, val_predictions_original))\n",
    "val_mae_original = mean_absolute_error(y_val_original, val_predictions_original)\n",
    "val_r2 = r2_score(y_val_original, val_predictions_original)\n",
    "\n",
    "print(f\"Validation Metrics:\")\n",
    "print(f\"  RMSE (log scale): {val_rmse_log:.4f}\")\n",
    "print(f\"  RMSE (original): ${val_rmse_original:,.0f}\")\n",
    "print(f\"  MAE (original): ${val_mae_original:,.0f}\")\n",
    "print(f\"  R² Score: {val_r2:.4f}\")\n",
    "\n",
    "# Percentage errors\n",
    "percentage_errors = np.abs((val_predictions_original - y_val_original) / y_val_original) * 100\n",
    "print(f\"  Mean Absolute Percentage Error: {percentage_errors.mean():.2f}%\")\n",
    "print(f\"  Median Absolute Percentage Error: {np.median(percentage_errors):.2f}%\")\n",
    "\n",
    "# Price range analysis\n",
    "print(f\"\\nPrediction Range Analysis:\")\n",
    "print(f\"  Training price range: ${np.exp(y_log).min():,.0f} - ${np.exp(y_log).max():,.0f}\")\n",
    "print(f\"  Validation predictions: ${val_predictions_original.min():,.0f} - ${val_predictions_original.max():,.0f}\")\n",
    "print(f\"  Validation actual: ${y_val_original.min():,.0f} - ${y_val_original.max():,.0f}\")"
   ]
  },
  {
   "cell_type": "code",
   "execution_count": 45,
   "id": "37565e8a",
   "metadata": {},
   "outputs": [
    {
     "name": "stdout",
     "output_type": "stream",
     "text": [
      "\n",
      "Residual Analysis:\n"
     ]
    },
    {
     "data": {
      "image/png": "[encoded data removed]",
      "text/plain": [
       "<Figure size 1500x1000 with 4 Axes>"
      ]
     },
     "metadata": {},
     "output_type": "display_data"
    },
    {
     "name": "stdout",
     "output_type": "stream",
     "text": [
      "Residual Normality Test: statistic=156.9938, p-value=0.0000\n",
      "Normal distribution: No\n",
      "Mean residual: -0.005142\n",
      "Residual std: 0.1173\n"
     ]
    }
   ],
   "source": [
    "print(\"\\nResidual Analysis:\")\n",
    "\n",
    "residuals_log = y_val - val_predictions_log\n",
    "residuals_original = y_val_original - val_predictions_original\n",
    "\n",
    "# Create residual plots\n",
    "fig, ((ax1, ax2), (ax3, ax4)) = plt.subplots(2, 2, figsize=(15, 10))\n",
    "\n",
    "# Predicted vs Actual (log scale)\n",
    "ax1.scatter(val_predictions_log, y_val, alpha=0.6, s=20)\n",
    "ax1.plot([y_val.min(), y_val.max()], [y_val.min(), y_val.max()], 'r--', lw=2)\n",
    "ax1.set_xlabel('Predicted (log scale)')\n",
    "ax1.set_ylabel('Actual (log scale)')\n",
    "ax1.set_title('Predicted vs Actual (Log Scale)')\n",
    "ax1.grid(True, alpha=0.3)\n",
    "\n",
    "# Predicted vs Actual (original scale)\n",
    "ax2.scatter(val_predictions_original, y_val_original, alpha=0.6, s=20)\n",
    "ax2.plot([y_val_original.min(), y_val_original.max()], \n",
    "         [y_val_original.min(), y_val_original.max()], 'r--', lw=2)\n",
    "ax2.set_xlabel('Predicted Price ($)')\n",
    "ax2.set_ylabel('Actual Price ($)')\n",
    "ax2.set_title('Predicted vs Actual (Original Scale)')\n",
    "ax2.grid(True, alpha=0.3)\n",
    "\n",
    "# Residuals vs Predicted (log scale)\n",
    "ax3.scatter(val_predictions_log, residuals_log, alpha=0.6, s=20)\n",
    "ax3.axhline(y=0, color='r', linestyle='--')\n",
    "ax3.set_xlabel('Predicted (log scale)')\n",
    "ax3.set_ylabel('Residuals (log scale)')\n",
    "ax3.set_title('Residuals vs Predicted (Log Scale)')\n",
    "ax3.grid(True, alpha=0.3)\n",
    "\n",
    "# Residual distribution\n",
    "ax4.hist(residuals_log, bins=30, alpha=0.7, edgecolor='black')\n",
    "ax4.set_xlabel('Residuals (log scale)')\n",
    "ax4.set_ylabel('Frequency')\n",
    "ax4.set_title('Residual Distribution')\n",
    "ax4.grid(True, alpha=0.3)\n",
    "\n",
    "plt.tight_layout()\n",
    "plt.show()\n",
    "\n",
    "# Statistical analysis of residuals\n",
    "from scipy.stats import normaltest\n",
    "\n",
    "stat, p_value = normaltest(residuals_log)\n",
    "print(f\"Residual Normality Test: statistic={stat:.4f}, p-value={p_value:.4f}\")\n",
    "print(f\"Normal distribution: {'Yes' if p_value > 0.05 else 'No'}\")\n",
    "print(f\"Mean residual: {residuals_log.mean():.6f}\")\n",
    "print(f\"Residual std: {residuals_log.std():.4f}\")"
   ]
  },
  {
   "cell_type": "code",
   "execution_count": 49,
   "id": "8cbed6a7",
   "metadata": {},
   "outputs": [
    {
     "name": "stdout",
     "output_type": "stream",
     "text": [
      "\n",
      "Feature Importance Analysis:\n",
      "\n",
      "Top 15 Most Important Features:\n",
      "----------------------------------------\n",
      "OverallQual               8.2776\n",
      "TotalFlrSF                6.4292\n",
      "GrLivArea                 4.0269\n",
      "KitchenQual               3.0982\n",
      "TotalBaths                1.9306\n",
      "BsmtFinSF                 1.8686\n",
      "ExterQual                 1.6892\n",
      "LotArea                   1.5651\n",
      "OverallCond               1.4761\n",
      "GarageFinish              1.4621\n",
      "HouseAge                  1.3935\n",
      "YearsSinceRemodel         1.2982\n",
      "Fireplaces                1.2781\n",
      "BsmtQual                  1.0639\n",
      "CentralAir                0.8162\n",
      "MSZoning_RL               0.7866\n",
      "BsmtFinType1              0.7571\n",
      "LotFrontage               0.7187\n",
      "GarageAge                 0.7099\n",
      "GarageType_Attchd         0.6987\n",
      "BsmtUnfSF                 0.6197\n",
      "GarageAreaPerCar          0.5180\n",
      "SaleCondition_Normal      0.4422\n",
      "FireplaceQu               0.4329\n",
      "GarageQual                0.4201\n",
      "MasVnrArea                0.3935\n",
      "BsmtExposure              0.3403\n",
      "HeatingQC                 0.2879\n",
      "GarageType_None           0.2740\n",
      "OpenPorchSF               0.2672\n",
      "Neighborhood_Crawfor      0.2550\n",
      "Functional                0.2391\n",
      "EnclosedPorch             0.2035\n",
      "WoodDeckSF                0.1991\n",
      "MSSubClass                0.1988\n",
      "SaleType_New              0.1690\n",
      "TotRmsAbvGrd              0.1632\n",
      "Exterior1st_BrkFace       0.1612\n",
      "Electrical_SBrkr          0.1579\n",
      "PavedDrive                0.1500\n",
      "Condition1_Norm           0.1421\n",
      "BedroomAbvGr              0.1371\n",
      "ScreenPorch               0.1273\n",
      "BsmtCond                  0.1165\n",
      "GarageCond                0.1126\n"
     ]
    }
   ],
   "source": [
    "print(\"\\nFeature Importance Analysis:\")\n",
    "\n",
    "if hasattr(final_model, 'feature_importances_'):\n",
    "    # Single model with feature importance\n",
    "    feature_importance = pd.DataFrame({\n",
    "        'Feature': X_train.columns,\n",
    "        'Importance': final_model.feature_importances_\n",
    "    }).sort_values('Importance', ascending=False)\n",
    "    \n",
    "elif hasattr(final_model, 'fitted_models_'):\n",
    "    # Ensemble model - average importance from models that have it\n",
    "    importances = []\n",
    "    for model in final_model.fitted_models_:\n",
    "        if hasattr(model, 'feature_importances_'):\n",
    "            importances.append(model.feature_importances_)\n",
    "    \n",
    "    if importances:\n",
    "        avg_importance = np.mean(importances, axis=0)\n",
    "        feature_importance = pd.DataFrame({\n",
    "            'Feature': X_train.columns,\n",
    "            'Importance': avg_importance\n",
    "        }).sort_values('Importance', ascending=False)\n",
    "    else:\n",
    "        feature_importance = None\n",
    "        \n",
    "elif hasattr(final_model, 'named_estimators_'):\n",
    "    # Stacking ensemble\n",
    "    importances = []\n",
    "    for name, model in final_model.named_estimators_.items():\n",
    "        if hasattr(model, 'feature_importances_'):\n",
    "            importances.append(model.feature_importances_)\n",
    "    \n",
    "    if importances:\n",
    "        avg_importance = np.mean(importances, axis=0)\n",
    "        feature_importance = pd.DataFrame({\n",
    "            'Feature': X_train.columns,\n",
    "            'Importance': avg_importance\n",
    "        }).sort_values('Importance', ascending=False)\n",
    "    else:\n",
    "        feature_importance = None\n",
    "else:\n",
    "    feature_importance = None\n",
    "\n",
    "if feature_importance is not None:\n",
    "    print(\"\\nTop 15 Most Important Features:\")\n",
    "    print(\"-\" * 40)\n",
    "    for idx, row in feature_importance.head(45).iterrows():\n",
    "        feat = row['Feature']\n",
    "        importance = row['Importance']\n",
    "        print(f\"{feat:<25} {importance:.4f}\")\n",
    "else:\n",
    "    print(\"Feature importance not available for this model type\")"
   ]
  },
  {
   "cell_type": "code",
   "execution_count": 47,
   "id": "3bf4cf2a",
   "metadata": {},
   "outputs": [
    {
     "name": "stdout",
     "output_type": "stream",
     "text": [
      "\n",
      "============================================================\n",
      "GENERATING FINAL TEST PREDICTIONS\n",
      "============================================================\n",
      "WARNING: First and only time touching test data\n",
      "Test predictions generated: 1459 samples\n",
      "\n",
      "Prediction Statistics:\n",
      "  Range: $48,222 - $689,586\n",
      "  Mean: $178,451\n",
      "  Median: $156,677\n",
      "  Std: $77,416\n",
      "\n",
      "Sanity Checks:\n",
      "  Negative predictions: 0\n",
      "  Very low predictions (<$10k): 0\n",
      "  Very high predictions (>$500k): 5\n",
      "  Training mean: $180,933\n",
      "  Test prediction mean: $178,451\n",
      "  Difference: 1.4%\n",
      "  Distribution similarity: Good\n"
     ]
    }
   ],
   "source": [
    "print(\"\\n\" + \"=\"*60)\n",
    "print(\"GENERATING FINAL TEST PREDICTIONS\")\n",
    "print(\"=\"*60)\n",
    "\n",
    "print(\"WARNING: First and only time touching test data\")\n",
    "\n",
    "# Fit final model on complete training data\n",
    "final_model.fit(X_train, y_log)\n",
    "\n",
    "# Generate predictions on test set\n",
    "test_predictions_log = final_model.predict(X_test)\n",
    "test_predictions_original = np.exp(test_predictions_log)\n",
    "\n",
    "print(f\"Test predictions generated: {len(test_predictions_original)} samples\")\n",
    "\n",
    "# Prediction statistics\n",
    "print(f\"\\nPrediction Statistics:\")\n",
    "print(f\"  Range: ${test_predictions_original.min():,.0f} - ${test_predictions_original.max():,.0f}\")\n",
    "print(f\"  Mean: ${test_predictions_original.mean():,.0f}\")\n",
    "print(f\"  Median: ${np.median(test_predictions_original):,.0f}\")\n",
    "print(f\"  Std: ${test_predictions_original.std():,.0f}\")\n",
    "\n",
    "# Sanity checks\n",
    "print(f\"\\nSanity Checks:\")\n",
    "negative_count = (test_predictions_original < 0).sum()\n",
    "low_count = (test_predictions_original < 10000).sum()\n",
    "high_count = (test_predictions_original > 500000).sum()\n",
    "\n",
    "print(f\"  Negative predictions: {negative_count}\")\n",
    "print(f\"  Very low predictions (<$10k): {low_count}\")\n",
    "print(f\"  Very high predictions (>$500k): {high_count}\")\n",
    "\n",
    "# Compare with training distribution\n",
    "train_mean = np.exp(y_log).mean()\n",
    "test_mean = test_predictions_original.mean()\n",
    "difference_pct = abs(test_mean - train_mean) / train_mean * 100\n",
    "\n",
    "print(f\"  Training mean: ${train_mean:,.0f}\")\n",
    "print(f\"  Test prediction mean: ${test_mean:,.0f}\")\n",
    "print(f\"  Difference: {difference_pct:.1f}%\")\n",
    "\n",
    "if difference_pct > 20:\n",
    "    print(\"  WARNING: Large difference between train and test means\")\n",
    "else:\n",
    "    print(\"  Distribution similarity: Good\")"
   ]
  },
  {
   "cell_type": "code",
   "execution_count": 48,
   "id": "e65348dc",
   "metadata": {},
   "outputs": [
    {
     "name": "stdout",
     "output_type": "stream",
     "text": [
      "\n",
      "Submission File Created:\n",
      "  Filename: ../submissions/submission_Simple_Ensemble22.csv\n",
      "  Shape: (1459, 2)\n",
      "\n",
      "Submission Preview:\n",
      "     Id      SalePrice\n",
      "0  1461  116584.955181\n",
      "1  1462  159545.343642\n",
      "2  1463  179345.064401\n",
      "3  1464  192423.486006\n",
      "4  1465  193836.838446\n",
      "5  1466  169650.366389\n",
      "6  1467  170008.288161\n",
      "7  1468  160510.000327\n",
      "8  1469  187894.542664\n",
      "9  1470  118172.690829\n",
      "...\n",
      "        Id      SalePrice\n",
      "1454  2915   84660.693323\n",
      "1455  2916   82451.307514\n",
      "1456  2917  159658.353924\n",
      "1457  2918  117266.772667\n",
      "1458  2919  214691.976741\n",
      "\n",
      "Submission Validation:\n",
      "  IDs start at: 1461\n",
      "  IDs end at: 2919\n",
      "  ID count: 1459\n",
      "  Expected count: 1459\n",
      "  Format valid: True\n"
     ]
    }
   ],
   "source": [
    "# Create submission DataFrame\n",
    "submission = pd.DataFrame({\n",
    "    'Id': range(1461, 1461 + len(test_predictions_original)),\n",
    "    'SalePrice': test_predictions_original\n",
    "})\n",
    "\n",
    "# Generate timestamp for unique filename\n",
    "submission_filename = f'../submissions/submission_{final_model_name}22.csv'\n",
    "\n",
    "# Save submission\n",
    "submission.to_csv(submission_filename, index=False)\n",
    "\n",
    "print(f\"\\nSubmission File Created:\")\n",
    "print(f\"  Filename: {submission_filename}\")\n",
    "print(f\"  Shape: {submission.shape}\")\n",
    "\n",
    "# Display submission preview\n",
    "print(f\"\\nSubmission Preview:\")\n",
    "print(submission.head(10))\n",
    "print(\"...\")\n",
    "print(submission.tail(5))\n",
    "\n",
    "# Validate submission format\n",
    "print(f\"\\nSubmission Validation:\")\n",
    "print(f\"  IDs start at: {submission['Id'].min()}\")\n",
    "print(f\"  IDs end at: {submission['Id'].max()}\")\n",
    "print(f\"  ID count: {len(submission)}\")\n",
    "print(f\"  Expected count: {len(X_test)}\")\n",
    "print(f\"  Format valid: {len(submission) == len(X_test) and submission['Id'].min() == 1461}\")"
   ]
  }
 ],
 "metadata": {
  "kernelspec": {
   "display_name": "HousePrediction",
   "language": "python",
   "name": "python3"
  },
  "language_info": {
   "codemirror_mode": {
    "name": "ipython",
    "version": 3
   },
   "file_extension": ".py",
   "mimetype": "text/x-python",
   "name": "python",
   "nbconvert_exporter": "python",
   "pygments_lexer": "ipython3",
   "version": "3.11.11"
  }
 },
 "nbformat": 4,
 "nbformat_minor": 5
}
